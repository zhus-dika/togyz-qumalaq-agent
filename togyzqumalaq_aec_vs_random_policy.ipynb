{
  "nbformat": 4,
  "nbformat_minor": 0,
  "metadata": {
    "colab": {
      "provenance": [],
      "collapsed_sections": [
        "luAZ42vu0ipC",
        "1aNj2Mfm0Zb-",
        "i9JzOFeK1kmm",
        "46_0KK8E1rWM",
        "nF0ZMW3wLv-B",
        "T7IIe3E9M69q",
        "c-thy8-oCce4",
        "sNPVNMBTNW3z",
        "b9q8lRmx-FU_",
        "ARZK7tZNb4J3"
      ],
      "gpuType": "T4",
      "authorship_tag": "ABX9TyOCOxlghPOzK+89TPmYdKQh",
      "include_colab_link": true
    },
    "kernelspec": {
      "name": "python3",
      "display_name": "Python 3"
    },
    "language_info": {
      "name": "python"
    },
    "accelerator": "GPU"
  },
  "cells": [
    {
      "cell_type": "markdown",
      "metadata": {
        "id": "view-in-github",
        "colab_type": "text"
      },
      "source": [
        "<a href=\"https://colab.research.google.com/github/zhus-dika/togyz-qumalaq-agent/blob/main/togyzqumalaq_aec_vs_random_policy.ipynb\" target=\"_parent\"><img src=\"https://colab.research.google.com/assets/colab-badge.svg\" alt=\"Open In Colab\"/></a>"
      ]
    },
    {
      "cell_type": "markdown",
      "source": [
        "#  🐘 AEC environment https://pettingzoo.farama.org/api/aec/#about-aec"
      ],
      "metadata": {
        "id": "n-ODLQYxcX21"
      }
    },
    {
      "cell_type": "markdown",
      "source": [
        "###  🦜 Install need packages"
      ],
      "metadata": {
        "id": "luAZ42vu0ipC"
      }
    },
    {
      "cell_type": "code",
      "source": [
        "!pip install gymnasium\n",
        "!pip install pettingzoo[classic]==1.23.0"
      ],
      "metadata": {
        "colab": {
          "base_uri": "https://localhost:8080/"
        },
        "id": "DXSpI1zG0l9u",
        "outputId": "521a35f6-9c1e-44c2-882f-de90a722428a"
      },
      "execution_count": 1,
      "outputs": [
        {
          "output_type": "stream",
          "name": "stdout",
          "text": [
            "Collecting gymnasium\n",
            "  Downloading gymnasium-0.29.1-py3-none-any.whl (953 kB)\n",
            "\u001b[2K     \u001b[90m━━━━━━━━━━━━━━━━━━━━━━━━━━━━━━━━━━━━━━━━\u001b[0m \u001b[32m953.9/953.9 kB\u001b[0m \u001b[31m5.7 MB/s\u001b[0m eta \u001b[36m0:00:00\u001b[0m\n",
            "\u001b[?25hRequirement already satisfied: numpy>=1.21.0 in /usr/local/lib/python3.10/dist-packages (from gymnasium) (1.25.2)\n",
            "Requirement already satisfied: cloudpickle>=1.2.0 in /usr/local/lib/python3.10/dist-packages (from gymnasium) (2.2.1)\n",
            "Requirement already satisfied: typing-extensions>=4.3.0 in /usr/local/lib/python3.10/dist-packages (from gymnasium) (4.11.0)\n",
            "Collecting farama-notifications>=0.0.1 (from gymnasium)\n",
            "  Downloading Farama_Notifications-0.0.4-py3-none-any.whl (2.5 kB)\n",
            "Installing collected packages: farama-notifications, gymnasium\n",
            "Successfully installed farama-notifications-0.0.4 gymnasium-0.29.1\n",
            "Collecting pettingzoo[classic]==1.23.0\n",
            "  Downloading pettingzoo-1.23.0-py3-none-any.whl (826 kB)\n",
            "\u001b[2K     \u001b[90m━━━━━━━━━━━━━━━━━━━━━━━━━━━━━━━━━━━━━━━━\u001b[0m \u001b[32m826.8/826.8 kB\u001b[0m \u001b[31m3.2 MB/s\u001b[0m eta \u001b[36m0:00:00\u001b[0m\n",
            "\u001b[?25hRequirement already satisfied: numpy>=1.21.0 in /usr/local/lib/python3.10/dist-packages (from pettingzoo[classic]==1.23.0) (1.25.2)\n",
            "Requirement already satisfied: gymnasium>=0.28.0 in /usr/local/lib/python3.10/dist-packages (from pettingzoo[classic]==1.23.0) (0.29.1)\n",
            "Collecting chess==1.7.0 (from pettingzoo[classic]==1.23.0)\n",
            "  Downloading chess-1.7.0-py3-none-any.whl (147 kB)\n",
            "\u001b[2K     \u001b[90m━━━━━━━━━━━━━━━━━━━━━━━━━━━━━━━━━━━━━━━━\u001b[0m \u001b[32m147.1/147.1 kB\u001b[0m \u001b[31m11.5 MB/s\u001b[0m eta \u001b[36m0:00:00\u001b[0m\n",
            "\u001b[?25hCollecting rlcard==1.0.5 (from pettingzoo[classic]==1.23.0)\n",
            "  Downloading rlcard-1.0.5.tar.gz (251 kB)\n",
            "\u001b[2K     \u001b[90m━━━━━━━━━━━━━━━━━━━━━━━━━━━━━━━━━━━━━━━━\u001b[0m \u001b[32m251.1/251.1 kB\u001b[0m \u001b[31m16.1 MB/s\u001b[0m eta \u001b[36m0:00:00\u001b[0m\n",
            "\u001b[?25h  Preparing metadata (setup.py) ... \u001b[?25l\u001b[?25hdone\n",
            "Collecting pygame==2.3.0 (from pettingzoo[classic]==1.23.0)\n",
            "  Downloading pygame-2.3.0-cp310-cp310-manylinux_2_17_x86_64.manylinux2014_x86_64.whl (13.8 MB)\n",
            "\u001b[2K     \u001b[90m━━━━━━━━━━━━━━━━━━━━━━━━━━━━━━━━━━━━━━━━\u001b[0m \u001b[32m13.8/13.8 MB\u001b[0m \u001b[31m40.4 MB/s\u001b[0m eta \u001b[36m0:00:00\u001b[0m\n",
            "\u001b[?25hCollecting hanabi-learning-environment==0.0.4 (from pettingzoo[classic]==1.23.0)\n",
            "  Downloading hanabi_learning_environment-0.0.4-cp310-cp310-manylinux_2_17_x86_64.manylinux2014_x86_64.whl (115 kB)\n",
            "\u001b[2K     \u001b[90m━━━━━━━━━━━━━━━━━━━━━━━━━━━━━━━━━━━━━━━━\u001b[0m \u001b[32m115.5/115.5 kB\u001b[0m \u001b[31m13.1 MB/s\u001b[0m eta \u001b[36m0:00:00\u001b[0m\n",
            "\u001b[?25hRequirement already satisfied: cffi in /usr/local/lib/python3.10/dist-packages (from hanabi-learning-environment==0.0.4->pettingzoo[classic]==1.23.0) (1.16.0)\n",
            "Requirement already satisfied: termcolor in /usr/local/lib/python3.10/dist-packages (from rlcard==1.0.5->pettingzoo[classic]==1.23.0) (2.4.0)\n",
            "Requirement already satisfied: cloudpickle>=1.2.0 in /usr/local/lib/python3.10/dist-packages (from gymnasium>=0.28.0->pettingzoo[classic]==1.23.0) (2.2.1)\n",
            "Requirement already satisfied: typing-extensions>=4.3.0 in /usr/local/lib/python3.10/dist-packages (from gymnasium>=0.28.0->pettingzoo[classic]==1.23.0) (4.11.0)\n",
            "Requirement already satisfied: farama-notifications>=0.0.1 in /usr/local/lib/python3.10/dist-packages (from gymnasium>=0.28.0->pettingzoo[classic]==1.23.0) (0.0.4)\n",
            "Requirement already satisfied: pycparser in /usr/local/lib/python3.10/dist-packages (from cffi->hanabi-learning-environment==0.0.4->pettingzoo[classic]==1.23.0) (2.22)\n",
            "Building wheels for collected packages: rlcard\n",
            "  Building wheel for rlcard (setup.py) ... \u001b[?25l\u001b[?25hdone\n",
            "  Created wheel for rlcard: filename=rlcard-1.0.5-py3-none-any.whl size=307097 sha256=79238aef6c484192a918d9012133a0b22512ee70e7451469cb7ad3631190cfdf\n",
            "  Stored in directory: /root/.cache/pip/wheels/22/1b/a9/cb9a2009aefc3e311979e3764bc8e095cc6a2541fdc3ce1f60\n",
            "Successfully built rlcard\n",
            "Installing collected packages: rlcard, pygame, chess, pettingzoo, hanabi-learning-environment\n",
            "  Attempting uninstall: pygame\n",
            "    Found existing installation: pygame 2.5.2\n",
            "    Uninstalling pygame-2.5.2:\n",
            "      Successfully uninstalled pygame-2.5.2\n",
            "Successfully installed chess-1.7.0 hanabi-learning-environment-0.0.4 pettingzoo-1.23.0 pygame-2.3.0 rlcard-1.0.5\n"
          ]
        }
      ]
    },
    {
      "cell_type": "markdown",
      "source": [
        "### 🐞 Imports"
      ],
      "metadata": {
        "id": "1aNj2Mfm0Zb-"
      }
    },
    {
      "cell_type": "code",
      "source": [
        "import functools\n",
        "\n",
        "import gymnasium\n",
        "import numpy as np\n",
        "from gymnasium.spaces import Discrete, MultiDiscrete\n",
        "from gymnasium import spaces\n",
        "\n",
        "from IPython.display import clear_output\n",
        "import time\n",
        "from pettingzoo import AECEnv\n",
        "from pettingzoo.utils import agent_selector, wrappers\n",
        "import matplotlib.pyplot as plt\n",
        "\n",
        "NUM_ITERS = 400\n",
        "PLAYS = {\"bastaushy\": 0, \"qostaushy\": 0}"
      ],
      "metadata": {
        "id": "vaX0bAwy0cd5"
      },
      "execution_count": 2,
      "outputs": []
    },
    {
      "cell_type": "markdown",
      "source": [
        "### 🦉 Create environment"
      ],
      "metadata": {
        "id": "i9JzOFeK1kmm"
      }
    },
    {
      "cell_type": "code",
      "execution_count": 56,
      "metadata": {
        "id": "S3Tq7OaYcUfq"
      },
      "outputs": [],
      "source": [
        "def env(render_mode=None):\n",
        "    \"\"\"\n",
        "    The env function often wraps the environment in wrappers by default.\n",
        "    You can find full documentation for these methods\n",
        "    elsewhere in the developer documentation.\n",
        "    \"\"\"\n",
        "    internal_render_mode = render_mode if render_mode != \"ansi\" else \"human\"\n",
        "    env = raw_env(render_mode=internal_render_mode)\n",
        "    # This wrapper is only for environments which print results to the terminal\n",
        "    if render_mode == \"ansi\":\n",
        "        env = wrappers.CaptureStdoutWrapper(env)\n",
        "    # this wrapper helps error handling for discrete action spaces\n",
        "    env = wrappers.AssertOutOfBoundsWrapper(env)\n",
        "    # Provides a wide vareity of helpful user errors\n",
        "    # Strongly recommended\n",
        "    env = wrappers.OrderEnforcingWrapper(env)\n",
        "    return env\n",
        "\n",
        "\n",
        "class raw_env(AECEnv):\n",
        "    \"\"\"\n",
        "    The metadata holds environment constants. From gymnasium, we inherit the \"render_modes\",\n",
        "    metadata which specifies which modes can be put into the render() method.\n",
        "    At least human mode should be supported.\n",
        "    The \"name\" metadata allows the environment to be pretty printed.\n",
        "    \"\"\"\n",
        "\n",
        "    metadata = {\n",
        "        \"render_modes\": [\"ansi\", \"human\"],\n",
        "        \"name\": \"togyzqumalaq_v0\"\n",
        "        }\n",
        "\n",
        "    def __init__(self, render_mode=None):\n",
        "        \"\"\"\n",
        "        The init method takes in environment arguments and\n",
        "         should define the following attributes:\n",
        "        - otaular\n",
        "        - tuzdyq\n",
        "        - qazandar\n",
        "        - possible_agents\n",
        "        - render_mode\n",
        "\n",
        "        Note: as of v1.18.1, the action_spaces and observation_spaces attributes are deprecated.\n",
        "        Spaces should be defined in the action_space() and observation_space() methods.\n",
        "        If these methods are not overridden, spaces will be inferred from self.observation_spaces/action_spaces, raising a warning.\n",
        "\n",
        "        These attributes should not be changed after initialization.\n",
        "        \"\"\"\n",
        "        self.otaular = []\n",
        "        self.tuzdyq = []\n",
        "        self.qazandar = []\n",
        "        self.direction = []\n",
        "        self.agents = [\"bastaushy\", \"qostaushy\"]\n",
        "        self.possible_agents = self.agents[:]\n",
        "        # optional: we can define the observation and action spaces here as attributes to be used in their corresponding methods\n",
        "        self.action_spaces = {i: spaces.Discrete(9) for i in self.agents}\n",
        "        self.observation_spaces = {\n",
        "            i: spaces.Dict(\n",
        "                {\n",
        "                    \"observation\": MultiDiscrete([100] * 18 + [9] * 2 + [82] * 2),\n",
        "                    \"action_mask\": Discrete(9),\n",
        "                }\n",
        "            )\n",
        "            for i in self.agents\n",
        "        }\n",
        "        self.render_mode = render_mode\n",
        "\n",
        "    # Observation space should be defined here.\n",
        "    def action_space(self, agent):\n",
        "        return self.action_spaces[agent]\n",
        "\n",
        "    # Action space should be defined here.\n",
        "    def observation_space(self, agent):\n",
        "        return self.observation_spaces[agent]\n",
        "\n",
        "    def render(self):\n",
        "        \"\"\"\n",
        "        Renders the environment. In human mode, it can print to terminal, open\n",
        "        up a graphical window, or open up some other display that a human can see and understand.\n",
        "        \"\"\"\n",
        "        \"\"\"Renders the environment.\"\"\"\n",
        "        if self.render_mode is None:\n",
        "            gymnasium.logger.warn(\n",
        "                \"You are calling render method without specifying any render mode.\"\n",
        "            )\n",
        "            return\n",
        "\n",
        "        if len(self.agents) == 2:\n",
        "            points_bastaushy_x = np.array([i * 2 for i in range(10)])\n",
        "            points_bastaushy_y = np.array([i % 5 for i in range(50)])\n",
        "\n",
        "            x = np.arange(-3, 225, 1)\n",
        "            y = -1\n",
        "\n",
        "            text_kwargs = dict(ha='center', va='center', fontsize=12)\n",
        "            plt.figure(figsize=(17, 6))\n",
        "\n",
        "            for i in range(9):\n",
        "                # qostaushy's part\n",
        "                plt.scatter(np.repeat(points_bastaushy_x + 25 * i, 5)[:self.otaular[17 - i]], points_bastaushy_y[:self.otaular[17 - i]], marker='o')\n",
        "                # horizontal line\n",
        "                plt.plot(x, np.repeat(y, len(x)))\n",
        "                # vertical lines\n",
        "                plt.plot(np.repeat(25 * i - 2, len(x)), np.arange(-7, 5, 12 / len(x)))\n",
        "                # bastaushy's part\n",
        "                plt.scatter(np.repeat(points_bastaushy_x + 25 * i, 5)[:self.otaular[i]], points_bastaushy_y[:self.otaular[i]] - 6, marker='o')\n",
        "\n",
        "            #last vertical line\n",
        "            plt.plot(np.repeat(25 * 9 - 2, len(x)), np.arange(-7, 5, 12 / len(x)))\n",
        "\n",
        "            for i in range(9):\n",
        "                # bastaushy's qumalaqtar\n",
        "                plt.text(25 * i + 10, -7, f'{i} ({self.otaular[i]})', **text_kwargs)\n",
        "                # qostaushy's qumalaqtar\n",
        "                plt.text(25 * i + 10, 5, f'{17 - i} ({self.otaular[17 - i]})', **text_kwargs)\n",
        "            # bastaushy qazan's qumalaqtar\n",
        "            plt.text(230, -4, f'qazan: {self.qazandar[0]}', **text_kwargs)\n",
        "            # qostaushy qazan's qumalaqtar\n",
        "            plt.text(230, 2, f'qazan: {self.qazandar[1]}', **text_kwargs);\n",
        "            # bastaushy tuzdyq's qumalaqtar\n",
        "            plt.text(230, -6, f'tuzdyq: {self.tuzdyq[0]}', **text_kwargs)\n",
        "            # qostaushy tuzdyq's qumalaqtar\n",
        "            plt.text(230, 0, f'tuzdyq: {self.tuzdyq[1]}', **text_kwargs);\n",
        "            plt.show()\n",
        "        else:\n",
        "            if self.render_mode == \"human\":\n",
        "                print(\"Game over\")\n",
        "        time.sleep(2)\n",
        "        clear_output(True)\n",
        "\n",
        "    def _legal_moves(self, agent):\n",
        "        cur_player = self.possible_agents.index(agent)\n",
        "        opp_player = (cur_player + 1) % 2\n",
        "        return [item for item in range(9 * cur_player, (cur_player + 1) * 9) if self.tuzdyq[opp_player] != item and self.otaular[item] > 0]\n",
        "\n",
        "    def observe(self, agent):\n",
        "        \"\"\"\n",
        "        Observe should return the observation of the specified agent. This function\n",
        "        should return a sane observation (though not necessarily the most up to date possible)\n",
        "        at any time after reset() is called.\n",
        "        \"\"\"\n",
        "        # observation of one agent is the previous state of the other\n",
        "        legal_moves = self._legal_moves(agent) if agent == self.agent_selection else []\n",
        "        action_mask = np.zeros(9, \"int8\")\n",
        "        if self.possible_agents.index(agent) == 1:\n",
        "            legal_moves = [i - 9 for i in legal_moves]\n",
        "        for i in legal_moves:\n",
        "            action_mask[i] = 1\n",
        "        observation = tuple(\n",
        "            self.otaular + self.tuzdyq + self.qazandar\n",
        "        )\n",
        "        return {\"observation\": observation, \"action_mask\": action_mask}\n",
        "\n",
        "    def close(self):\n",
        "        \"\"\"\n",
        "        Close should release any graphical displays, subprocesses, network connections\n",
        "        or any other environment data which should not be kept around after the\n",
        "        user is no longer using the environment.\n",
        "        \"\"\"\n",
        "        pass\n",
        "\n",
        "    def reset(self, seed=None, options=None):\n",
        "        \"\"\"\n",
        "        Reset needs to initialize the following attributes\n",
        "        - agents\n",
        "        - rewards\n",
        "        - _cumulative_rewards\n",
        "        - terminations\n",
        "        - truncations\n",
        "        - infos\n",
        "        - agent_selection\n",
        "        And must set up the environment so that render(), step(), and observe()\n",
        "        can be called without issues.\n",
        "        Here it sets up the state dictionary which is used by step() and the observations dictionary which is used by step() and observe()\n",
        "        \"\"\"\n",
        "        self.agents = self.possible_agents[:]\n",
        "        self.rewards = {agent: 0 for agent in self.agents}\n",
        "        self._cumulative_rewards = {agent: 0 for agent in self.agents}\n",
        "        self.otaular = [9, 9, 9, 9, 9, 9, 9, 9, 9, 9, 9, 9, 9, 9, 9, 9, 9, 9]\n",
        "        self.direction = [list(range(18)), [9, 10, 11, 12, 13, 14, 15, 16, 17, 0, 1, 2, 3, 4, 5, 6, 7, 8]]\n",
        "        self.tuzdyq = [-1, -1]\n",
        "        self.qazandar = [0, 0]\n",
        "        self.terminations = {agent: False for agent in self.agents}\n",
        "        self.truncations = {agent: False for agent in self.agents}\n",
        "        self.infos = {agent: {} for agent in self.agents}\n",
        "        self.num_moves = 0\n",
        "        observation = tuple(\n",
        "            self.otaular + self.tuzdyq + self.qazandar\n",
        "        )\n",
        "        self.observations = {agent: observation for agent in self.agents}\n",
        "        \"\"\"\n",
        "        Our agent_selector utility allows easy cyclic stepping through the agents list.\n",
        "        \"\"\"\n",
        "        self._agent_selector = agent_selector(self.agents)\n",
        "        self.agent_selection = self._agent_selector.next()\n",
        "\n",
        "    def step(self, action):\n",
        "        \"\"\"\n",
        "        step(action) takes in an action for the current agent (specified by\n",
        "        agent_selection) and needs to update\n",
        "        - rewards\n",
        "        - _cumulative_rewards (accumulating the rewards)\n",
        "        - terminations\n",
        "        - truncations\n",
        "        - infos\n",
        "        - agent_selection (to the next agent)\n",
        "        And any internal state used by observe() or render()\n",
        "        \"\"\"\n",
        "        if (\n",
        "            self.terminations[self.agent_selection]\n",
        "            or self.truncations[self.agent_selection]\n",
        "        ):\n",
        "            # handles stepping an agent which is already dead\n",
        "            # accepts a None action for the one agent, and moves the agent_selection to\n",
        "            # the next dead agent,  or if there are no more dead agents, to the next live agent\n",
        "            self._was_dead_step(action)\n",
        "            return\n",
        "\n",
        "        cur_player = self.possible_agents.index(self.agent_selection)\n",
        "        opp_player = (cur_player + 1) % 2\n",
        "        self.num_moves += 1\n",
        "        if self.render_mode == \"human\":\n",
        "            print(f'MOVE #{self.num_moves}')\n",
        "        # The truncations dictionary must be updated for all players.\n",
        "        self.truncations = {\n",
        "            agent: self.num_moves >= NUM_ITERS for agent in self.agents\n",
        "        }\n",
        "        # distribute qumalaqs\n",
        "        if cur_player == 1:\n",
        "            action += 9\n",
        "        if self.render_mode == \"human\":\n",
        "            print(f'{self.agent_selection} made action {action}')\n",
        "        num_qumalaq = self.otaular[action]\n",
        "        idx_action = self.direction[cur_player].index(action)\n",
        "        if self.otaular[action] == 1:\n",
        "            self.otaular[self.direction[cur_player][idx_action + 1]] += 1\n",
        "            self.otaular[action] -= 1\n",
        "        else:\n",
        "            i = 1\n",
        "            while self.otaular[action] > 1:\n",
        "                self.otaular[self.direction[cur_player][(idx_action + i) % 18]] += 1\n",
        "                self.otaular[action] -= 1\n",
        "                i += 1\n",
        "        # check tuzdyq & add rewards to qazandar\n",
        "        reward = 0\n",
        "        if self.check_tuzdyq(self.agent_selection, action):\n",
        "            reward += 3\n",
        "            if self.render_mode == \"human\":\n",
        "                print(f'{self.agent_selection} won tuzdyq {reward}')\n",
        "        else:\n",
        "\n",
        "            if num_qumalaq > 1:\n",
        "                last_otau = self.direction[cur_player][(idx_action + num_qumalaq - 1) % 18]\n",
        "            else:\n",
        "                last_otau = self.direction[cur_player][(idx_action + num_qumalaq) % 18]\n",
        "\n",
        "            if last_otau in range(opp_player * 9, (opp_player + 1) * 9) and self.otaular[last_otau] % 2 == 0:\n",
        "                reward += self.otaular[last_otau]\n",
        "                if self.render_mode == \"human\":\n",
        "                    print(f'{self.agent_selection} won {reward}')\n",
        "                self.otaular[last_otau] = 0\n",
        "            if self.tuzdyq[cur_player] >= 0 and self.otaular[self.tuzdyq[cur_player]] > 0:\n",
        "                reward += self.otaular[self.tuzdyq[cur_player]]\n",
        "                if self.render_mode == \"human\":\n",
        "                    print(f'{self.agent_selection} won tuzdyq {self.otaular[self.tuzdyq[cur_player]]}')\n",
        "                self.otaular[self.tuzdyq[cur_player]] = 0\n",
        "        if self.render_mode == \"human\":\n",
        "            print(f'{self.agent_selection} won total {reward}')\n",
        "        self.qazandar[cur_player] += reward\n",
        "        self.rewards[self.agent_selection] += reward\n",
        "        # check if there is a winner\n",
        "        winner = self.check_for_winner()\n",
        "        if winner:\n",
        "            self.terminations = {i: True for i in self.agents}\n",
        "            if self.render_mode == \"human\":\n",
        "                print(f'{self.agent_selection} won the game!!!')\n",
        "        # selects the next agent.\n",
        "        self.agent_selection = self._agent_selector.next()\n",
        "        # Adds .rewards to ._cumulative_rewards\n",
        "        self._accumulate_rewards()\n",
        "\n",
        "        if self.render_mode == \"human\":\n",
        "            self.render()\n",
        "\n",
        "    def check_tuzdyq(self, agent, action):\n",
        "        cur_player = self.possible_agents.index(agent)\n",
        "        opp_player = (cur_player + 1) % 2\n",
        "        idx = self.direction[cur_player].index(action)\n",
        "        num_qumalaq = self.otaular[action]\n",
        "\n",
        "        if num_qumalaq > 1:\n",
        "            last_otau = self.direction[cur_player][(idx + num_qumalaq - 1) % 18]\n",
        "        else:\n",
        "            last_otau = self.direction[cur_player][(idx + num_qumalaq) % 18]\n",
        "\n",
        "        if last_otau in range(opp_player * 9, (opp_player + 1) * 9) and self.otaular[last_otau] == 3 and last_otau != 17 - cur_player * 9 and abs(last_otau - self.tuzdyq[opp_player]) != 9:\n",
        "            self.tuzdyq[cur_player] = last_otau\n",
        "            self.otaular[last_otau] = 0\n",
        "            if self.render_mode == \"human\":\n",
        "                print(f'{agent} got tuzdyq {last_otau}!')\n",
        "            return True\n",
        "\n",
        "        return False\n",
        "\n",
        "    def check_atsyrau(self, agent):\n",
        "        cur_player = self.possible_agents.index(agent)\n",
        "        opp_player = (cur_player + 1) % 2\n",
        "\n",
        "        for idx, i in enumerate(self.otaular[cur_player * 9: (cur_player + 1) * 9]):\n",
        "            if i > 0 and idx + cur_player * 9 != self.tuzdyq[opp_player]:\n",
        "                return False\n",
        "        if self.render_mode == \"human\":\n",
        "            print(f'{agent} reached atsyrau')\n",
        "        return True\n",
        "\n",
        "    def check_for_winner(self):\n",
        "        cur_player = self.possible_agents.index(self.agent_selection)\n",
        "        opp_player = (cur_player + 1) % 2\n",
        "        if self.qazandar[cur_player] > 81:\n",
        "            PLAYS[self.agent_selection] += 1\n",
        "            return True\n",
        "        if self.check_atsyrau(self.possible_agents[opp_player]) and self.qazandar[opp_player] <= 81:\n",
        "            PLAYS[self.agent_selection] += 1\n",
        "            return True\n",
        "        return False"
      ]
    },
    {
      "cell_type": "markdown",
      "source": [
        "### 🦚 Testing environment"
      ],
      "metadata": {
        "id": "46_0KK8E1rWM"
      }
    },
    {
      "cell_type": "code",
      "source": [
        "# env = env(render_mode=\"human\")\n",
        "# env.reset(seed=42)\n",
        "\n",
        "# for agent in env.agent_iter():\n",
        "#     observation, reward, termination, truncation, info = env.last()\n",
        "\n",
        "#     if termination or truncation:\n",
        "#         action = None\n",
        "#     else:\n",
        "#         mask = observation[\"action_mask\"]\n",
        "#         # this is where you would insert your policy\n",
        "#         action = env.action_space(agent).sample(mask)\n",
        "\n",
        "#     env.step(action)\n",
        "# env.close()"
      ],
      "metadata": {
        "id": "lulAELFM0LZQ"
      },
      "execution_count": null,
      "outputs": []
    },
    {
      "cell_type": "markdown",
      "source": [
        "# 🐼 DQN agent to play vs a random policy agent https://pettingzoo.farama.org/tutorials/tianshou/intermediate/"
      ],
      "metadata": {
        "id": "ebqZJ9uJ1qKU"
      }
    },
    {
      "cell_type": "markdown",
      "source": [
        "### 🐡 Additional installations https://github.com/thu-ml/tianshou"
      ],
      "metadata": {
        "id": "nF0ZMW3wLv-B"
      }
    },
    {
      "cell_type": "code",
      "source": [
        "!pip install packaging==21.3\n",
        "!pip install tianshou==0.5.0"
      ],
      "metadata": {
        "colab": {
          "base_uri": "https://localhost:8080/",
          "height": 0
        },
        "id": "GBZ4IbRNLr9c",
        "outputId": "03861fc0-0fb5-4c97-e24e-bf2b6ff648d7"
      },
      "execution_count": 5,
      "outputs": [
        {
          "output_type": "stream",
          "name": "stdout",
          "text": [
            "Collecting packaging==21.3\n",
            "  Downloading packaging-21.3-py3-none-any.whl (40 kB)\n",
            "\u001b[?25l     \u001b[90m━━━━━━━━━━━━━━━━━━━━━━━━━━━━━━━━━━━━━━━━\u001b[0m \u001b[32m0.0/40.8 kB\u001b[0m \u001b[31m?\u001b[0m eta \u001b[36m-:--:--\u001b[0m\r\u001b[2K     \u001b[90m━━━━━━━━━━━━━━━━━━━━━━━━━━━━━━━━━━━━━━━━\u001b[0m \u001b[32m40.8/40.8 kB\u001b[0m \u001b[31m937.2 kB/s\u001b[0m eta \u001b[36m0:00:00\u001b[0m\n",
            "\u001b[?25hRequirement already satisfied: pyparsing!=3.0.5,>=2.0.2 in /usr/local/lib/python3.10/dist-packages (from packaging==21.3) (3.1.2)\n",
            "Installing collected packages: packaging\n",
            "  Attempting uninstall: packaging\n",
            "    Found existing installation: packaging 24.0\n",
            "    Uninstalling packaging-24.0:\n",
            "      Successfully uninstalled packaging-24.0\n",
            "Successfully installed packaging-21.3\n"
          ]
        },
        {
          "output_type": "display_data",
          "data": {
            "application/vnd.colab-display-data+json": {
              "pip_warning": {
                "packages": [
                  "packaging"
                ]
              },
              "id": "9d1feb2ea9e6492c9e7ae79da5560cf9"
            }
          },
          "metadata": {}
        },
        {
          "output_type": "stream",
          "name": "stdout",
          "text": [
            "Collecting tianshou==0.5.0\n",
            "  Downloading tianshou-0.5.0-py3-none-any.whl (162 kB)\n",
            "\u001b[2K     \u001b[90m━━━━━━━━━━━━━━━━━━━━━━━━━━━━━━━━━━━━━━━━\u001b[0m \u001b[32m162.7/162.7 kB\u001b[0m \u001b[31m1.9 MB/s\u001b[0m eta \u001b[36m0:00:00\u001b[0m\n",
            "\u001b[?25hRequirement already satisfied: gymnasium>=0.26.0 in /usr/local/lib/python3.10/dist-packages (from tianshou==0.5.0) (0.29.1)\n",
            "Requirement already satisfied: tqdm in /usr/local/lib/python3.10/dist-packages (from tianshou==0.5.0) (4.66.2)\n",
            "Requirement already satisfied: numpy>1.16.0 in /usr/local/lib/python3.10/dist-packages (from tianshou==0.5.0) (1.25.2)\n",
            "Requirement already satisfied: tensorboard>=2.5.0 in /usr/local/lib/python3.10/dist-packages (from tianshou==0.5.0) (2.15.2)\n",
            "Requirement already satisfied: torch>=1.4.0 in /usr/local/lib/python3.10/dist-packages (from tianshou==0.5.0) (2.2.1+cu121)\n",
            "Requirement already satisfied: numba>=0.51.0 in /usr/local/lib/python3.10/dist-packages (from tianshou==0.5.0) (0.58.1)\n",
            "Requirement already satisfied: h5py>=2.10.0 in /usr/local/lib/python3.10/dist-packages (from tianshou==0.5.0) (3.9.0)\n",
            "Requirement already satisfied: packaging in /usr/local/lib/python3.10/dist-packages (from tianshou==0.5.0) (21.3)\n",
            "Requirement already satisfied: cloudpickle>=1.2.0 in /usr/local/lib/python3.10/dist-packages (from gymnasium>=0.26.0->tianshou==0.5.0) (2.2.1)\n",
            "Requirement already satisfied: typing-extensions>=4.3.0 in /usr/local/lib/python3.10/dist-packages (from gymnasium>=0.26.0->tianshou==0.5.0) (4.11.0)\n",
            "Requirement already satisfied: farama-notifications>=0.0.1 in /usr/local/lib/python3.10/dist-packages (from gymnasium>=0.26.0->tianshou==0.5.0) (0.0.4)\n",
            "Requirement already satisfied: llvmlite<0.42,>=0.41.0dev0 in /usr/local/lib/python3.10/dist-packages (from numba>=0.51.0->tianshou==0.5.0) (0.41.1)\n",
            "Requirement already satisfied: absl-py>=0.4 in /usr/local/lib/python3.10/dist-packages (from tensorboard>=2.5.0->tianshou==0.5.0) (1.4.0)\n",
            "Requirement already satisfied: grpcio>=1.48.2 in /usr/local/lib/python3.10/dist-packages (from tensorboard>=2.5.0->tianshou==0.5.0) (1.62.1)\n",
            "Requirement already satisfied: google-auth<3,>=1.6.3 in /usr/local/lib/python3.10/dist-packages (from tensorboard>=2.5.0->tianshou==0.5.0) (2.27.0)\n",
            "Requirement already satisfied: google-auth-oauthlib<2,>=0.5 in /usr/local/lib/python3.10/dist-packages (from tensorboard>=2.5.0->tianshou==0.5.0) (1.2.0)\n",
            "Requirement already satisfied: markdown>=2.6.8 in /usr/local/lib/python3.10/dist-packages (from tensorboard>=2.5.0->tianshou==0.5.0) (3.6)\n",
            "Requirement already satisfied: protobuf!=4.24.0,>=3.19.6 in /usr/local/lib/python3.10/dist-packages (from tensorboard>=2.5.0->tianshou==0.5.0) (3.20.3)\n",
            "Requirement already satisfied: requests<3,>=2.21.0 in /usr/local/lib/python3.10/dist-packages (from tensorboard>=2.5.0->tianshou==0.5.0) (2.31.0)\n",
            "Requirement already satisfied: setuptools>=41.0.0 in /usr/local/lib/python3.10/dist-packages (from tensorboard>=2.5.0->tianshou==0.5.0) (67.7.2)\n",
            "Requirement already satisfied: six>1.9 in /usr/local/lib/python3.10/dist-packages (from tensorboard>=2.5.0->tianshou==0.5.0) (1.16.0)\n",
            "Requirement already satisfied: tensorboard-data-server<0.8.0,>=0.7.0 in /usr/local/lib/python3.10/dist-packages (from tensorboard>=2.5.0->tianshou==0.5.0) (0.7.2)\n",
            "Requirement already satisfied: werkzeug>=1.0.1 in /usr/local/lib/python3.10/dist-packages (from tensorboard>=2.5.0->tianshou==0.5.0) (3.0.2)\n",
            "Requirement already satisfied: filelock in /usr/local/lib/python3.10/dist-packages (from torch>=1.4.0->tianshou==0.5.0) (3.13.4)\n",
            "Requirement already satisfied: sympy in /usr/local/lib/python3.10/dist-packages (from torch>=1.4.0->tianshou==0.5.0) (1.12)\n",
            "Requirement already satisfied: networkx in /usr/local/lib/python3.10/dist-packages (from torch>=1.4.0->tianshou==0.5.0) (3.3)\n",
            "Requirement already satisfied: jinja2 in /usr/local/lib/python3.10/dist-packages (from torch>=1.4.0->tianshou==0.5.0) (3.1.3)\n",
            "Requirement already satisfied: fsspec in /usr/local/lib/python3.10/dist-packages (from torch>=1.4.0->tianshou==0.5.0) (2023.6.0)\n",
            "Collecting nvidia-cuda-nvrtc-cu12==12.1.105 (from torch>=1.4.0->tianshou==0.5.0)\n",
            "  Using cached nvidia_cuda_nvrtc_cu12-12.1.105-py3-none-manylinux1_x86_64.whl (23.7 MB)\n",
            "Collecting nvidia-cuda-runtime-cu12==12.1.105 (from torch>=1.4.0->tianshou==0.5.0)\n",
            "  Using cached nvidia_cuda_runtime_cu12-12.1.105-py3-none-manylinux1_x86_64.whl (823 kB)\n",
            "Collecting nvidia-cuda-cupti-cu12==12.1.105 (from torch>=1.4.0->tianshou==0.5.0)\n",
            "  Using cached nvidia_cuda_cupti_cu12-12.1.105-py3-none-manylinux1_x86_64.whl (14.1 MB)\n",
            "Collecting nvidia-cudnn-cu12==8.9.2.26 (from torch>=1.4.0->tianshou==0.5.0)\n",
            "  Using cached nvidia_cudnn_cu12-8.9.2.26-py3-none-manylinux1_x86_64.whl (731.7 MB)\n",
            "Collecting nvidia-cublas-cu12==12.1.3.1 (from torch>=1.4.0->tianshou==0.5.0)\n",
            "  Using cached nvidia_cublas_cu12-12.1.3.1-py3-none-manylinux1_x86_64.whl (410.6 MB)\n",
            "Collecting nvidia-cufft-cu12==11.0.2.54 (from torch>=1.4.0->tianshou==0.5.0)\n",
            "  Using cached nvidia_cufft_cu12-11.0.2.54-py3-none-manylinux1_x86_64.whl (121.6 MB)\n",
            "Collecting nvidia-curand-cu12==10.3.2.106 (from torch>=1.4.0->tianshou==0.5.0)\n",
            "  Using cached nvidia_curand_cu12-10.3.2.106-py3-none-manylinux1_x86_64.whl (56.5 MB)\n",
            "Collecting nvidia-cusolver-cu12==11.4.5.107 (from torch>=1.4.0->tianshou==0.5.0)\n",
            "  Using cached nvidia_cusolver_cu12-11.4.5.107-py3-none-manylinux1_x86_64.whl (124.2 MB)\n",
            "Collecting nvidia-cusparse-cu12==12.1.0.106 (from torch>=1.4.0->tianshou==0.5.0)\n",
            "  Using cached nvidia_cusparse_cu12-12.1.0.106-py3-none-manylinux1_x86_64.whl (196.0 MB)\n",
            "Collecting nvidia-nccl-cu12==2.19.3 (from torch>=1.4.0->tianshou==0.5.0)\n",
            "  Using cached nvidia_nccl_cu12-2.19.3-py3-none-manylinux1_x86_64.whl (166.0 MB)\n",
            "Collecting nvidia-nvtx-cu12==12.1.105 (from torch>=1.4.0->tianshou==0.5.0)\n",
            "  Using cached nvidia_nvtx_cu12-12.1.105-py3-none-manylinux1_x86_64.whl (99 kB)\n",
            "Requirement already satisfied: triton==2.2.0 in /usr/local/lib/python3.10/dist-packages (from torch>=1.4.0->tianshou==0.5.0) (2.2.0)\n",
            "Collecting nvidia-nvjitlink-cu12 (from nvidia-cusolver-cu12==11.4.5.107->torch>=1.4.0->tianshou==0.5.0)\n",
            "  Using cached nvidia_nvjitlink_cu12-12.4.127-py3-none-manylinux2014_x86_64.whl (21.1 MB)\n",
            "Requirement already satisfied: pyparsing!=3.0.5,>=2.0.2 in /usr/local/lib/python3.10/dist-packages (from packaging->tianshou==0.5.0) (3.1.2)\n",
            "Requirement already satisfied: cachetools<6.0,>=2.0.0 in /usr/local/lib/python3.10/dist-packages (from google-auth<3,>=1.6.3->tensorboard>=2.5.0->tianshou==0.5.0) (5.3.3)\n",
            "Requirement already satisfied: pyasn1-modules>=0.2.1 in /usr/local/lib/python3.10/dist-packages (from google-auth<3,>=1.6.3->tensorboard>=2.5.0->tianshou==0.5.0) (0.4.0)\n",
            "Requirement already satisfied: rsa<5,>=3.1.4 in /usr/local/lib/python3.10/dist-packages (from google-auth<3,>=1.6.3->tensorboard>=2.5.0->tianshou==0.5.0) (4.9)\n",
            "Requirement already satisfied: requests-oauthlib>=0.7.0 in /usr/local/lib/python3.10/dist-packages (from google-auth-oauthlib<2,>=0.5->tensorboard>=2.5.0->tianshou==0.5.0) (1.3.1)\n",
            "Requirement already satisfied: charset-normalizer<4,>=2 in /usr/local/lib/python3.10/dist-packages (from requests<3,>=2.21.0->tensorboard>=2.5.0->tianshou==0.5.0) (3.3.2)\n",
            "Requirement already satisfied: idna<4,>=2.5 in /usr/local/lib/python3.10/dist-packages (from requests<3,>=2.21.0->tensorboard>=2.5.0->tianshou==0.5.0) (3.7)\n",
            "Requirement already satisfied: urllib3<3,>=1.21.1 in /usr/local/lib/python3.10/dist-packages (from requests<3,>=2.21.0->tensorboard>=2.5.0->tianshou==0.5.0) (2.0.7)\n",
            "Requirement already satisfied: certifi>=2017.4.17 in /usr/local/lib/python3.10/dist-packages (from requests<3,>=2.21.0->tensorboard>=2.5.0->tianshou==0.5.0) (2024.2.2)\n",
            "Requirement already satisfied: MarkupSafe>=2.1.1 in /usr/local/lib/python3.10/dist-packages (from werkzeug>=1.0.1->tensorboard>=2.5.0->tianshou==0.5.0) (2.1.5)\n",
            "Requirement already satisfied: mpmath>=0.19 in /usr/local/lib/python3.10/dist-packages (from sympy->torch>=1.4.0->tianshou==0.5.0) (1.3.0)\n",
            "Requirement already satisfied: pyasn1<0.7.0,>=0.4.6 in /usr/local/lib/python3.10/dist-packages (from pyasn1-modules>=0.2.1->google-auth<3,>=1.6.3->tensorboard>=2.5.0->tianshou==0.5.0) (0.6.0)\n",
            "Requirement already satisfied: oauthlib>=3.0.0 in /usr/local/lib/python3.10/dist-packages (from requests-oauthlib>=0.7.0->google-auth-oauthlib<2,>=0.5->tensorboard>=2.5.0->tianshou==0.5.0) (3.2.2)\n",
            "Installing collected packages: nvidia-nvtx-cu12, nvidia-nvjitlink-cu12, nvidia-nccl-cu12, nvidia-curand-cu12, nvidia-cufft-cu12, nvidia-cuda-runtime-cu12, nvidia-cuda-nvrtc-cu12, nvidia-cuda-cupti-cu12, nvidia-cublas-cu12, nvidia-cusparse-cu12, nvidia-cudnn-cu12, nvidia-cusolver-cu12, tianshou\n",
            "Successfully installed nvidia-cublas-cu12-12.1.3.1 nvidia-cuda-cupti-cu12-12.1.105 nvidia-cuda-nvrtc-cu12-12.1.105 nvidia-cuda-runtime-cu12-12.1.105 nvidia-cudnn-cu12-8.9.2.26 nvidia-cufft-cu12-11.0.2.54 nvidia-curand-cu12-10.3.2.106 nvidia-cusolver-cu12-11.4.5.107 nvidia-cusparse-cu12-12.1.0.106 nvidia-nccl-cu12-2.19.3 nvidia-nvjitlink-cu12-12.4.127 nvidia-nvtx-cu12-12.1.105 tianshou-0.5.0\n"
          ]
        }
      ]
    },
    {
      "cell_type": "markdown",
      "source": [
        "### 🐝 Imports"
      ],
      "metadata": {
        "id": "T7IIe3E9M69q"
      }
    },
    {
      "cell_type": "code",
      "source": [
        "import os\n",
        "from typing import Optional, Tuple\n",
        "\n",
        "import gymnasium\n",
        "import numpy as np\n",
        "import torch\n",
        "from copy import deepcopy\n",
        "from tianshou.data import Collector, VectorReplayBuffer\n",
        "from tianshou.env import DummyVectorEnv\n",
        "from tianshou.env.pettingzoo_env import PettingZooEnv\n",
        "from tianshou.policy import BasePolicy, DQNPolicy, RainbowPolicy, MultiAgentPolicyManager, RandomPolicy\n",
        "from tianshou.trainer import offpolicy_trainer\n",
        "from tianshou.utils.net.common import Net"
      ],
      "metadata": {
        "id": "TXt2ni4SM-XL"
      },
      "execution_count": 7,
      "outputs": []
    },
    {
      "cell_type": "markdown",
      "source": [
        "### 🐎 Load trained agents"
      ],
      "metadata": {
        "id": "c-thy8-oCce4"
      }
    },
    {
      "cell_type": "code",
      "source": [
        "agent1_path = \"policy_128x256x256x128_bs64.pth\"\n",
        "agent2_path = \"policy_256x512x512x256_bs128.pth\"\n",
        "agent3_path = \"policy_512x1024x1024x512_bs128.pth\"\n",
        "agent4_path = \"policy_128x256x512x256x128_trained_128x256x256x128.pth\"\n",
        "\n",
        "env = PettingZooEnv(env())\n",
        "net1 = Net(\n",
        "            state_shape=(22,),\n",
        "            action_shape=env.action_space.shape or env.action_space.n,\n",
        "            hidden_sizes=[128, 256, 256, 128],\n",
        "            #hidden_sizes=[1024, 2048, 2048, 1024],\n",
        "            device=\"cuda\" if torch.cuda.is_available() else \"cpu\",\n",
        "        ).to(\"cuda\" if torch.cuda.is_available() else \"cpu\")\n",
        "\n",
        "agent1 = DQNPolicy(\n",
        "            model=net1,\n",
        "            optim = torch.optim.Adam(net1.parameters(), lr=1e-4),\n",
        "            discount_factor=0.9,\n",
        "            estimation_step=3,\n",
        "            target_update_freq=320,\n",
        "        ).to(\"cuda\" if torch.cuda.is_available() else \"cpu\")\n",
        "\n",
        "agent1_learned = deepcopy(agent1)\n",
        "agent1_learned.load_state_dict(torch.load(agent1_path))\n",
        "\n",
        "\n",
        "net2 = Net(\n",
        "            state_shape=(22,),\n",
        "            action_shape=env.action_space.shape or env.action_space.n,\n",
        "            hidden_sizes=[256, 512, 512, 256],\n",
        "            device=\"cuda\" if torch.cuda.is_available() else \"cpu\",\n",
        "        ).to(\"cuda\" if torch.cuda.is_available() else \"cpu\")\n",
        "\n",
        "agent2 = DQNPolicy(\n",
        "            model=net2,\n",
        "            optim = torch.optim.Adam(net1.parameters(), lr=1e-4),\n",
        "            discount_factor=0.9,\n",
        "            estimation_step=3,\n",
        "            target_update_freq=320,\n",
        "        ).to(\"cuda\" if torch.cuda.is_available() else \"cpu\")\n",
        "agent2_learned = deepcopy(agent2)\n",
        "agent2_learned.load_state_dict(torch.load(agent2_path))\n",
        "\n",
        "\n",
        "net3 = Net(\n",
        "            state_shape=(22,),\n",
        "            action_shape=env.action_space.shape or env.action_space.n,\n",
        "            hidden_sizes=[512, 1024, 1024, 512],\n",
        "            device=\"cuda\" if torch.cuda.is_available() else \"cpu\",\n",
        "        ).to(\"cuda\" if torch.cuda.is_available() else \"cpu\")\n",
        "\n",
        "agent3 = DQNPolicy(\n",
        "            model=net3,\n",
        "            optim = torch.optim.Adam(net3.parameters(), lr=1e-4),\n",
        "            discount_factor=0.9,\n",
        "            estimation_step=3,\n",
        "            target_update_freq=320,\n",
        "        ).to(\"cuda\" if torch.cuda.is_available() else \"cpu\")\n",
        "\n",
        "agent3_learned = deepcopy(agent3)\n",
        "agent3_learned.load_state_dict(torch.load(agent3_path))\n",
        "\n",
        "\n",
        "net4 = Net(\n",
        "            state_shape=(22,),\n",
        "            action_shape=env.action_space.shape or env.action_space.n,\n",
        "            hidden_sizes=[128, 256, 512, 256, 128],\n",
        "            device=\"cuda\" if torch.cuda.is_available() else \"cpu\",\n",
        "        ).to(\"cuda\" if torch.cuda.is_available() else \"cpu\")\n",
        "\n",
        "agent4 = DQNPolicy(\n",
        "            model=net4,\n",
        "            optim = torch.optim.Adam(net3.parameters(), lr=1e-4),\n",
        "            discount_factor=0.9,\n",
        "            estimation_step=3,\n",
        "            target_update_freq=320,\n",
        "        ).to(\"cuda\" if torch.cuda.is_available() else \"cpu\")\n",
        "\n",
        "agent4_learned = deepcopy(agent4)\n",
        "agent4_learned.load_state_dict(torch.load(agent4_path))"
      ],
      "metadata": {
        "colab": {
          "base_uri": "https://localhost:8080/"
        },
        "id": "1yOhgP4MCnf4",
        "outputId": "c7ff10df-f1db-4599-9c05-6d3428fa7861"
      },
      "execution_count": 10,
      "outputs": [
        {
          "output_type": "execute_result",
          "data": {
            "text/plain": [
              "<All keys matched successfully>"
            ]
          },
          "metadata": {},
          "execution_count": 10
        }
      ]
    },
    {
      "cell_type": "markdown",
      "source": [
        "### 🐫 Prepare main functions"
      ],
      "metadata": {
        "id": "sNPVNMBTNW3z"
      }
    },
    {
      "cell_type": "code",
      "source": [
        "def _get_agents(\n",
        "    agent_learn: Optional[BasePolicy] = None,\n",
        "    agent_opponent: Optional[BasePolicy] = None,\n",
        "    optim: Optional[torch.optim.Optimizer] = None,\n",
        ") -> Tuple[BasePolicy, torch.optim.Optimizer, list]:\n",
        "    env = _get_env()\n",
        "    observation_space = (\n",
        "        env.observation_space[\"observation\"]\n",
        "        if isinstance(env.observation_space, gymnasium.spaces.Dict)\n",
        "        else env.observation_space\n",
        "    )\n",
        "    if agent_learn is None:\n",
        "        # model\n",
        "        net = Net(\n",
        "            state_shape=observation_space.shape or observation_space.n,\n",
        "            action_shape=env.action_space.shape or env.action_space.n,\n",
        "            hidden_sizes=[128, 256, 512, 256, 128],\n",
        "            #hidden_sizes=[1024, 2048, 2048, 1024],\n",
        "            device=\"cuda\" if torch.cuda.is_available() else \"cpu\",\n",
        "        ).to(\"cuda\" if torch.cuda.is_available() else \"cpu\")\n",
        "\n",
        "        if optim is None:\n",
        "            optim = torch.optim.Adam(net.parameters(), lr=1e-4)\n",
        "        agent_learn = DQNPolicy(\n",
        "            model=net,\n",
        "            optim=optim,\n",
        "            discount_factor=0.9,\n",
        "            estimation_step=3,\n",
        "            target_update_freq=320,\n",
        "        ).to(\"cuda\" if torch.cuda.is_available() else \"cpu\")\n",
        "\n",
        "\n",
        "    if agent_opponent is None:\n",
        "        if agent1_path:\n",
        "            agent_opponent = agent1_learned\n",
        "        else:\n",
        "            agent_opponent = RandomPolicy(action_space=env.action_space)\n",
        "\n",
        "    agents = [agent_opponent, agent_learn]\n",
        "    #agents = [agent_learn, agent_opponent]\n",
        "    policy = MultiAgentPolicyManager(agents, env)\n",
        "    return policy, optim, env.agents\n",
        "\n",
        "\n",
        "def _get_env():\n",
        "    \"\"\"This function is needed to provide callables for DummyVectorEnv.\"\"\"\n",
        "    return PettingZooEnv(env())"
      ],
      "metadata": {
        "id": "9VNyTKoxNZvV"
      },
      "execution_count": 12,
      "outputs": []
    },
    {
      "cell_type": "markdown",
      "source": [
        "###  🐑 Training code https://tianshou.org/en/stable/01_tutorials/04_tictactoe.html"
      ],
      "metadata": {
        "id": "b9q8lRmx-FU_"
      }
    },
    {
      "cell_type": "code",
      "source": [
        "# Before evaluate this cell run the cell with env\n",
        "# ======== Step 1: Environment setup =========\n",
        "train_envs = DummyVectorEnv([_get_env for _ in range(100)])\n",
        "test_envs = DummyVectorEnv([_get_env for _ in range(100)])\n",
        "\n",
        "# seed\n",
        "seed = 11\n",
        "np.random.seed(seed)\n",
        "torch.manual_seed(seed)\n",
        "train_envs.seed(seed)\n",
        "test_envs.seed(seed)\n",
        "\n",
        "# ======== Step 2: Agent setup =========\n",
        "policy, optim, agents = _get_agents(agent_opponent=agent2_learned)\n",
        "\n",
        "# # ======== Step 3: Collector setup =========\n",
        "train_collector = Collector(\n",
        "    policy,\n",
        "    train_envs,\n",
        "    VectorReplayBuffer(20_000, len(train_envs)),\n",
        "    exploration_noise=True,\n",
        ")\n",
        "test_collector = Collector(policy, test_envs, exploration_noise=True)\n",
        "# policy.set_eps(1)\n",
        "train_collector.collect(n_step=256 * 100)  # batch size * training_num\n",
        "\n",
        "# ======== Step 4: Callback functions setup =========\n",
        "def save_best_fn(policy):\n",
        "    model_save_path = os.path.join(\"log\", \"ttt\", \"dqn\", \"policy.pth\")\n",
        "    os.makedirs(os.path.join(\"log\", \"ttt\", \"dqn\"), exist_ok=True)\n",
        "    torch.save(policy.policies[agents[1]].state_dict(), model_save_path)\n",
        "\n",
        "def stop_fn(mean_rewards):\n",
        "    return mean_rewards >= 21000\n",
        "\n",
        "def train_fn(epoch, env_step):\n",
        "    policy.policies[agents[1]].set_eps(0.1)\n",
        "\n",
        "def test_fn(epoch, env_step):\n",
        "    policy.policies[agents[1]].set_eps(0.05)\n",
        "\n",
        "def reward_metric(rews):\n",
        "    return rews[:, 1]\n",
        "\n",
        "# ======== Step 5: Run the trainer =========\n",
        "result = offpolicy_trainer(\n",
        "    policy=policy,\n",
        "    train_collector=train_collector,\n",
        "    test_collector=test_collector,\n",
        "    max_epoch=150,\n",
        "    step_per_epoch=1000,\n",
        "    step_per_collect=50,\n",
        "    episode_per_test=10,\n",
        "    batch_size=256,\n",
        "    train_fn=train_fn,\n",
        "    test_fn=test_fn,\n",
        "    stop_fn=stop_fn,\n",
        "    save_best_fn=save_best_fn,\n",
        "    update_per_step=0.1,\n",
        "    test_in_train=False,\n",
        "    reward_metric=reward_metric,\n",
        "    verbose=True\n",
        ")\n",
        "\n",
        "# return result, policy.policies[agents[1]]\n",
        "print(f\"\\n==========Result==========\\n{result}\")\n",
        "print(\"\\n(the trained policy can be accessed via policy.policies[agents[1]])\")"
      ],
      "metadata": {
        "colab": {
          "base_uri": "https://localhost:8080/"
        },
        "id": "jvKxESZA-H4y",
        "outputId": "22870513-b74e-467c-8d71-72906b2716ed"
      },
      "execution_count": null,
      "outputs": [
        {
          "output_type": "stream",
          "name": "stderr",
          "text": [
            "Epoch #1: 1001it [00:03, 273.56it/s, bastaushy/loss=199.918, env_step=1000, len=0, n/ep=0, n/st=100, qostaushy/loss=15209.492, rew=0.00]                          \n"
          ]
        },
        {
          "output_type": "stream",
          "name": "stdout",
          "text": [
            "Epoch #1: test_reward: 15070.300000 ± 3247.526876, best_reward: 15070.300000 ± 3247.526876 in #1\n"
          ]
        },
        {
          "output_type": "stream",
          "name": "stderr",
          "text": [
            "Epoch #2: 1001it [00:04, 231.01it/s, bastaushy/loss=198.840, env_step=2000, len=0, n/ep=0, n/st=100, qostaushy/loss=434.394, rew=0.00]                          \n"
          ]
        },
        {
          "output_type": "stream",
          "name": "stdout",
          "text": [
            "Epoch #2: test_reward: 14878.800000 ± 2874.701264, best_reward: 15070.300000 ± 3247.526876 in #1\n"
          ]
        },
        {
          "output_type": "stream",
          "name": "stderr",
          "text": [
            "Epoch #3: 1001it [00:03, 271.34it/s, bastaushy/loss=185.680, env_step=3000, len=0, n/ep=0, n/st=100, qostaushy/loss=151.296, rew=0.00]                          \n"
          ]
        },
        {
          "output_type": "stream",
          "name": "stdout",
          "text": [
            "Epoch #3: test_reward: 5113.500000 ± 5748.884157, best_reward: 15070.300000 ± 3247.526876 in #1\n"
          ]
        },
        {
          "output_type": "stream",
          "name": "stderr",
          "text": [
            "Epoch #4: 1001it [00:05, 199.14it/s, bastaushy/loss=174.654, env_step=4000, len=0, n/ep=0, n/st=100, qostaushy/loss=953.569, rew=0.00]                          \n"
          ]
        },
        {
          "output_type": "stream",
          "name": "stdout",
          "text": [
            "Epoch #4: test_reward: 13456.500000 ± 5788.924619, best_reward: 15070.300000 ± 3247.526876 in #1\n"
          ]
        },
        {
          "output_type": "stream",
          "name": "stderr",
          "text": [
            "Epoch #5: 1001it [00:03, 270.00it/s, bastaushy/loss=723.793, env_step=5000, len=305, n/ep=0, n/st=100, qostaushy/loss=125.236, rew=15475.17]                          \n"
          ]
        },
        {
          "output_type": "stream",
          "name": "stdout",
          "text": [
            "Epoch #5: test_reward: 10944.200000 ± 4765.192647, best_reward: 15070.300000 ± 3247.526876 in #1\n"
          ]
        },
        {
          "output_type": "stream",
          "name": "stderr",
          "text": [
            "Epoch #6: 1001it [00:03, 264.22it/s, bastaushy/loss=2637.010, env_step=6000, len=310, n/ep=0, n/st=100, qostaushy/loss=333.974, rew=16141.00]                          \n"
          ]
        },
        {
          "output_type": "stream",
          "name": "stdout",
          "text": [
            "Epoch #6: test_reward: 11117.200000 ± 3211.922253, best_reward: 15070.300000 ± 3247.526876 in #1\n"
          ]
        },
        {
          "output_type": "stream",
          "name": "stderr",
          "text": [
            "Epoch #7: 1001it [00:03, 266.63it/s, bastaushy/loss=2674.904, env_step=7000, len=310, n/ep=0, n/st=100, qostaushy/loss=981.351, rew=16141.00]                          \n"
          ]
        },
        {
          "output_type": "stream",
          "name": "stdout",
          "text": [
            "Epoch #7: test_reward: 11571.900000 ± 3864.958873, best_reward: 15070.300000 ± 3247.526876 in #1\n"
          ]
        },
        {
          "output_type": "stream",
          "name": "stderr",
          "text": [
            "Epoch #8: 1001it [00:03, 259.74it/s, bastaushy/loss=2735.919, env_step=8000, len=310, n/ep=0, n/st=100, qostaushy/loss=725.330, rew=16141.00]                          \n"
          ]
        },
        {
          "output_type": "stream",
          "name": "stdout",
          "text": [
            "Epoch #8: test_reward: 11782.400000 ± 6068.435106, best_reward: 15070.300000 ± 3247.526876 in #1\n"
          ]
        },
        {
          "output_type": "stream",
          "name": "stderr",
          "text": [
            "Epoch #9: 1001it [00:04, 212.18it/s, bastaushy/loss=2468.014, env_step=9000, len=310, n/ep=0, n/st=100, qostaushy/loss=746.334, rew=16141.00]                          \n"
          ]
        },
        {
          "output_type": "stream",
          "name": "stdout",
          "text": [
            "Epoch #9: test_reward: 10757.200000 ± 4162.330448, best_reward: 15070.300000 ± 3247.526876 in #1\n"
          ]
        },
        {
          "output_type": "stream",
          "name": "stderr",
          "text": [
            "Epoch #10: 1001it [00:03, 264.37it/s, bastaushy/loss=2794.343, env_step=10000, len=356, n/ep=1, n/st=100, qostaushy/loss=1182.168, rew=19505.00]                          \n"
          ]
        },
        {
          "output_type": "stream",
          "name": "stdout",
          "text": [
            "Epoch #10: test_reward: 3110.400000 ± 1766.924741, best_reward: 15070.300000 ± 3247.526876 in #1\n"
          ]
        },
        {
          "output_type": "stream",
          "name": "stderr",
          "text": [
            "Epoch #11: 1001it [00:04, 222.91it/s, bastaushy/loss=2779.011, env_step=11000, len=356, n/ep=0, n/st=100, qostaushy/loss=1075.480, rew=19505.00]                          \n"
          ]
        },
        {
          "output_type": "stream",
          "name": "stdout",
          "text": [
            "Epoch #11: test_reward: 7127.200000 ± 5265.342625, best_reward: 15070.300000 ± 3247.526876 in #1\n"
          ]
        },
        {
          "output_type": "stream",
          "name": "stderr",
          "text": [
            "Epoch #12: 1001it [00:03, 259.95it/s, bastaushy/loss=2787.686, env_step=12000, len=375, n/ep=0, n/st=100, qostaushy/loss=1431.310, rew=20844.00]                          \n"
          ]
        },
        {
          "output_type": "stream",
          "name": "stdout",
          "text": [
            "Epoch #12: test_reward: 6135.600000 ± 2651.157453, best_reward: 15070.300000 ± 3247.526876 in #1\n"
          ]
        },
        {
          "output_type": "stream",
          "name": "stderr",
          "text": [
            "Epoch #13: 1001it [00:03, 257.29it/s, bastaushy/loss=2966.338, env_step=13000, len=378, n/ep=0, n/st=100, qostaushy/loss=1587.890, rew=21050.00]                          \n"
          ]
        },
        {
          "output_type": "stream",
          "name": "stdout",
          "text": [
            "Epoch #13: test_reward: 4883.300000 ± 3411.992440, best_reward: 15070.300000 ± 3247.526876 in #1\n"
          ]
        },
        {
          "output_type": "stream",
          "name": "stderr",
          "text": [
            "Epoch #14: 1001it [00:04, 222.35it/s, bastaushy/loss=2858.835, env_step=14000, len=396, n/ep=1, n/st=100, qostaushy/loss=1659.048, rew=22742.00]                          \n"
          ]
        },
        {
          "output_type": "stream",
          "name": "stdout",
          "text": [
            "Epoch #14: test_reward: 3315.000000 ± 1734.183900, best_reward: 15070.300000 ± 3247.526876 in #1\n"
          ]
        },
        {
          "output_type": "stream",
          "name": "stderr",
          "text": [
            "Epoch #15: 1001it [00:03, 258.33it/s, bastaushy/loss=2802.533, env_step=15000, len=400, n/ep=0, n/st=100, qostaushy/loss=1965.852, rew=22548.55]                          \n"
          ]
        },
        {
          "output_type": "stream",
          "name": "stdout",
          "text": [
            "Epoch #15: test_reward: 6042.200000 ± 4346.849843, best_reward: 15070.300000 ± 3247.526876 in #1\n"
          ]
        },
        {
          "output_type": "stream",
          "name": "stderr",
          "text": [
            "Epoch #16: 1001it [00:04, 207.72it/s, bastaushy/loss=2807.400, env_step=16000, len=110, n/ep=0, n/st=100, qostaushy/loss=1943.369, rew=4618.00]                          \n"
          ]
        },
        {
          "output_type": "stream",
          "name": "stdout",
          "text": [
            "Epoch #16: test_reward: 4688.400000 ± 3328.244919, best_reward: 15070.300000 ± 3247.526876 in #1\n"
          ]
        },
        {
          "output_type": "stream",
          "name": "stderr",
          "text": [
            "Epoch #17: 1001it [00:04, 246.71it/s, bastaushy/loss=2867.922, env_step=17000, len=114, n/ep=0, n/st=100, qostaushy/loss=2318.948, rew=4790.00]                          \n"
          ]
        },
        {
          "output_type": "stream",
          "name": "stdout",
          "text": [
            "Epoch #17: test_reward: 2996.600000 ± 3031.287522, best_reward: 15070.300000 ± 3247.526876 in #1\n"
          ]
        },
        {
          "output_type": "stream",
          "name": "stderr",
          "text": [
            "Epoch #18: 1001it [00:04, 239.41it/s, bastaushy/loss=2927.468, env_step=18000, len=114, n/ep=0, n/st=100, qostaushy/loss=2445.655, rew=4790.00]                          \n"
          ]
        },
        {
          "output_type": "stream",
          "name": "stdout",
          "text": [
            "Epoch #18: test_reward: 3865.800000 ± 2446.546701, best_reward: 15070.300000 ± 3247.526876 in #1\n"
          ]
        },
        {
          "output_type": "stream",
          "name": "stderr",
          "text": [
            "Epoch #19: 1001it [00:04, 243.92it/s, bastaushy/loss=2850.018, env_step=19000, len=139, n/ep=0, n/st=100, qostaushy/loss=2513.268, rew=3880.00]                          \n"
          ]
        },
        {
          "output_type": "stream",
          "name": "stdout",
          "text": [
            "Epoch #19: test_reward: 3043.800000 ± 4059.188141, best_reward: 15070.300000 ± 3247.526876 in #1\n"
          ]
        },
        {
          "output_type": "stream",
          "name": "stderr",
          "text": [
            "Epoch #20: 1001it [00:04, 250.08it/s, bastaushy/loss=2666.040, env_step=20000, len=148, n/ep=0, n/st=100, qostaushy/loss=2695.874, rew=7902.00]                          \n"
          ]
        },
        {
          "output_type": "stream",
          "name": "stdout",
          "text": [
            "Epoch #20: test_reward: 3451.000000 ± 2560.071601, best_reward: 15070.300000 ± 3247.526876 in #1\n"
          ]
        },
        {
          "output_type": "stream",
          "name": "stderr",
          "text": [
            "Epoch #21: 1001it [00:04, 212.38it/s, bastaushy/loss=2639.178, env_step=21000, len=160, n/ep=0, n/st=100, qostaushy/loss=2538.398, rew=8090.00]                          \n"
          ]
        },
        {
          "output_type": "stream",
          "name": "stdout",
          "text": [
            "Epoch #21: test_reward: 9478.400000 ± 6341.846659, best_reward: 15070.300000 ± 3247.526876 in #1\n"
          ]
        },
        {
          "output_type": "stream",
          "name": "stderr",
          "text": [
            "Epoch #22: 1001it [00:03, 259.05it/s, bastaushy/loss=2406.683, env_step=22000, len=171, n/ep=1, n/st=100, qostaushy/loss=2954.305, rew=4624.00]                          \n"
          ]
        },
        {
          "output_type": "stream",
          "name": "stdout",
          "text": [
            "Epoch #22: test_reward: 8690.200000 ± 4439.538215, best_reward: 15070.300000 ± 3247.526876 in #1\n"
          ]
        },
        {
          "output_type": "stream",
          "name": "stderr",
          "text": [
            "Epoch #23: 1001it [00:04, 210.58it/s, bastaushy/loss=2376.528, env_step=23000, len=178, n/ep=0, n/st=100, qostaushy/loss=2719.509, rew=9550.00]                          \n"
          ]
        },
        {
          "output_type": "stream",
          "name": "stdout",
          "text": [
            "Epoch #23: test_reward: 1998.800000 ± 1112.021654, best_reward: 15070.300000 ± 3247.526876 in #1\n"
          ]
        },
        {
          "output_type": "stream",
          "name": "stderr",
          "text": [
            "Epoch #24: 1001it [00:03, 259.80it/s, bastaushy/loss=1971.922, env_step=24000, len=189, n/ep=0, n/st=100, qostaushy/loss=2757.810, rew=3904.00]                          \n"
          ]
        },
        {
          "output_type": "stream",
          "name": "stdout",
          "text": [
            "Epoch #24: test_reward: 1269.400000 ± 1200.092013, best_reward: 15070.300000 ± 3247.526876 in #1\n"
          ]
        },
        {
          "output_type": "stream",
          "name": "stderr",
          "text": [
            "Epoch #25: 1001it [00:03, 253.98it/s, bastaushy/loss=1568.158, env_step=25000, len=197, n/ep=0, n/st=100, qostaushy/loss=2701.944, rew=9300.00]                          \n"
          ]
        },
        {
          "output_type": "stream",
          "name": "stdout",
          "text": [
            "Epoch #25: test_reward: 1990.800000 ± 2093.484789, best_reward: 15070.300000 ± 3247.526876 in #1\n"
          ]
        },
        {
          "output_type": "stream",
          "name": "stderr",
          "text": [
            "Epoch #26: 1001it [00:04, 208.56it/s, bastaushy/loss=1481.519, env_step=26000, len=203, n/ep=0, n/st=100, qostaushy/loss=2041.504, rew=2840.00]                          \n"
          ]
        },
        {
          "output_type": "stream",
          "name": "stdout",
          "text": [
            "Epoch #26: test_reward: 5779.600000 ± 2970.236731, best_reward: 15070.300000 ± 3247.526876 in #1\n"
          ]
        },
        {
          "output_type": "stream",
          "name": "stderr",
          "text": [
            "Epoch #27: 1001it [00:04, 248.34it/s, bastaushy/loss=1525.610, env_step=27000, len=220, n/ep=0, n/st=100, qostaushy/loss=1925.394, rew=10451.00]                          \n"
          ]
        },
        {
          "output_type": "stream",
          "name": "stdout",
          "text": [
            "Epoch #27: test_reward: 5229.800000 ± 3210.071706, best_reward: 15070.300000 ± 3247.526876 in #1\n"
          ]
        },
        {
          "output_type": "stream",
          "name": "stderr",
          "text": [
            "Epoch #28: 1001it [00:04, 207.69it/s, bastaushy/loss=1500.549, env_step=28000, len=231, n/ep=1, n/st=100, qostaushy/loss=1988.662, rew=5756.00]                          \n"
          ]
        },
        {
          "output_type": "stream",
          "name": "stdout",
          "text": [
            "Epoch #28: test_reward: 9531.000000 ± 3362.250110, best_reward: 15070.300000 ± 3247.526876 in #1\n"
          ]
        },
        {
          "output_type": "stream",
          "name": "stderr",
          "text": [
            "Epoch #29: 1001it [00:04, 250.08it/s, bastaushy/loss=1447.568, env_step=29000, len=240, n/ep=0, n/st=100, qostaushy/loss=2471.414, rew=11846.00]                          \n"
          ]
        },
        {
          "output_type": "stream",
          "name": "stdout",
          "text": [
            "Epoch #29: test_reward: 9972.500000 ± 4563.673592, best_reward: 15070.300000 ± 3247.526876 in #1\n"
          ]
        },
        {
          "output_type": "stream",
          "name": "stderr",
          "text": [
            "Epoch #30: 1001it [00:04, 231.43it/s, bastaushy/loss=1555.495, env_step=30000, len=251, n/ep=1, n/st=100, qostaushy/loss=2325.883, rew=7144.00]                          \n"
          ]
        },
        {
          "output_type": "stream",
          "name": "stdout",
          "text": [
            "Epoch #30: test_reward: 3183.800000 ± 1657.968021, best_reward: 15070.300000 ± 3247.526876 in #1\n"
          ]
        },
        {
          "output_type": "stream",
          "name": "stderr",
          "text": [
            "Epoch #31: 1001it [00:04, 248.04it/s, bastaushy/loss=1947.040, env_step=31000, len=259, n/ep=0, n/st=100, qostaushy/loss=2433.100, rew=5472.00]                          \n"
          ]
        },
        {
          "output_type": "stream",
          "name": "stdout",
          "text": [
            "Epoch #31: test_reward: 6172.600000 ± 5229.017101, best_reward: 15070.300000 ± 3247.526876 in #1\n"
          ]
        },
        {
          "output_type": "stream",
          "name": "stderr",
          "text": [
            "Epoch #32: 1001it [00:03, 252.04it/s, bastaushy/loss=1614.100, env_step=32000, len=269, n/ep=0, n/st=100, qostaushy/loss=1966.325, rew=10408.00]                          \n"
          ]
        },
        {
          "output_type": "stream",
          "name": "stdout",
          "text": [
            "Epoch #32: test_reward: 7396.700000 ± 4636.257328, best_reward: 15070.300000 ± 3247.526876 in #1\n"
          ]
        },
        {
          "output_type": "stream",
          "name": "stderr",
          "text": [
            "Epoch #33: 1001it [00:04, 210.10it/s, bastaushy/loss=1641.297, env_step=33000, len=281, n/ep=1, n/st=100, qostaushy/loss=2200.720, rew=15540.00]                          \n"
          ]
        },
        {
          "output_type": "stream",
          "name": "stdout",
          "text": [
            "Epoch #33: test_reward: 6757.500000 ± 5145.027954, best_reward: 15070.300000 ± 3247.526876 in #1\n"
          ]
        },
        {
          "output_type": "stream",
          "name": "stderr",
          "text": [
            "Epoch #34: 1001it [00:04, 247.59it/s, bastaushy/loss=1815.729, env_step=34000, len=253, n/ep=0, n/st=100, qostaushy/loss=2232.922, rew=12586.00]                          \n"
          ]
        },
        {
          "output_type": "stream",
          "name": "stdout",
          "text": [
            "Epoch #34: test_reward: 9133.200000 ± 4418.010430, best_reward: 15070.300000 ± 3247.526876 in #1\n"
          ]
        },
        {
          "output_type": "stream",
          "name": "stderr",
          "text": [
            "Epoch #35: 1001it [00:04, 209.34it/s, bastaushy/loss=1814.688, env_step=35000, len=178, n/ep=2, n/st=100, qostaushy/loss=2124.950, rew=6693.00]                          \n"
          ]
        },
        {
          "output_type": "stream",
          "name": "stdout",
          "text": [
            "Epoch #35: test_reward: 6540.800000 ± 5189.542269, best_reward: 15070.300000 ± 3247.526876 in #1\n"
          ]
        },
        {
          "output_type": "stream",
          "name": "stderr",
          "text": [
            "Epoch #36: 1001it [00:04, 248.65it/s, bastaushy/loss=1922.479, env_step=36000, len=89, n/ep=0, n/st=100, qostaushy/loss=2255.530, rew=1180.00]                          \n"
          ]
        },
        {
          "output_type": "stream",
          "name": "stdout",
          "text": [
            "Epoch #36: test_reward: 5708.000000 ± 3736.220978, best_reward: 15070.300000 ± 3247.526876 in #1\n"
          ]
        },
        {
          "output_type": "stream",
          "name": "stderr",
          "text": [
            "Epoch #37: 1001it [00:04, 227.63it/s, bastaushy/loss=2137.231, env_step=37000, len=316, n/ep=0, n/st=100, qostaushy/loss=2417.128, rew=13645.00]                          \n"
          ]
        },
        {
          "output_type": "stream",
          "name": "stdout",
          "text": [
            "Epoch #37: test_reward: 10297.300000 ± 2992.955865, best_reward: 15070.300000 ± 3247.526876 in #1\n"
          ]
        },
        {
          "output_type": "stream",
          "name": "stderr",
          "text": [
            "Epoch #38: 1001it [00:03, 257.07it/s, bastaushy/loss=2654.726, env_step=38000, len=331, n/ep=1, n/st=100, qostaushy/loss=2496.492, rew=15780.00]                          \n"
          ]
        },
        {
          "output_type": "stream",
          "name": "stdout",
          "text": [
            "Epoch #38: test_reward: 9298.800000 ± 4874.497488, best_reward: 15070.300000 ± 3247.526876 in #1\n"
          ]
        },
        {
          "output_type": "stream",
          "name": "stderr",
          "text": [
            "Epoch #39: 1001it [00:04, 250.03it/s, bastaushy/loss=3135.911, env_step=39000, len=339, n/ep=0, n/st=100, qostaushy/loss=2927.902, rew=10344.00]                          \n"
          ]
        },
        {
          "output_type": "stream",
          "name": "stdout",
          "text": [
            "Epoch #39: test_reward: 7979.000000 ± 3474.664905, best_reward: 15070.300000 ± 3247.526876 in #1\n"
          ]
        },
        {
          "output_type": "stream",
          "name": "stderr",
          "text": [
            "Epoch #40: 1001it [00:04, 227.51it/s, bastaushy/loss=2627.093, env_step=40000, len=339, n/ep=0, n/st=100, qostaushy/loss=2689.615, rew=10344.00]                          \n"
          ]
        },
        {
          "output_type": "stream",
          "name": "stdout",
          "text": [
            "Epoch #40: test_reward: 9353.200000 ± 4050.291861, best_reward: 15070.300000 ± 3247.526876 in #1\n"
          ]
        },
        {
          "output_type": "stream",
          "name": "stderr",
          "text": [
            "Epoch #41: 1001it [00:03, 254.67it/s, bastaushy/loss=2596.986, env_step=41000, len=360, n/ep=0, n/st=100, qostaushy/loss=2501.689, rew=16251.00]                          \n"
          ]
        },
        {
          "output_type": "stream",
          "name": "stdout",
          "text": [
            "Epoch #41: test_reward: 10806.600000 ± 3124.130093, best_reward: 15070.300000 ± 3247.526876 in #1\n"
          ]
        },
        {
          "output_type": "stream",
          "name": "stderr",
          "text": [
            "Epoch #42: 1001it [00:04, 209.59it/s, bastaushy/loss=2849.220, env_step=42000, len=270, n/ep=0, n/st=100, qostaushy/loss=2885.922, rew=8248.00]                          \n"
          ]
        },
        {
          "output_type": "stream",
          "name": "stdout",
          "text": [
            "Epoch #42: test_reward: 6096.800000 ± 1686.919370, best_reward: 15070.300000 ± 3247.526876 in #1\n"
          ]
        },
        {
          "output_type": "stream",
          "name": "stderr",
          "text": [
            "Epoch #43: 1001it [00:03, 251.33it/s, bastaushy/loss=2664.598, env_step=43000, len=380, n/ep=0, n/st=100, qostaushy/loss=2567.290, rew=23738.00]                          \n"
          ]
        },
        {
          "output_type": "stream",
          "name": "stdout",
          "text": [
            "Epoch #43: test_reward: 11020.000000 ± 4515.528230, best_reward: 15070.300000 ± 3247.526876 in #1\n"
          ]
        },
        {
          "output_type": "stream",
          "name": "stderr",
          "text": [
            "Epoch #44: 1001it [00:04, 210.39it/s, bastaushy/loss=2633.349, env_step=44000, len=389, n/ep=0, n/st=100, qostaushy/loss=2525.057, rew=12292.00]                          \n"
          ]
        },
        {
          "output_type": "stream",
          "name": "stdout",
          "text": [
            "Epoch #44: test_reward: 10379.800000 ± 3751.443823, best_reward: 15070.300000 ± 3247.526876 in #1\n"
          ]
        },
        {
          "output_type": "stream",
          "name": "stderr",
          "text": [
            "Epoch #45: 1001it [00:04, 247.80it/s, bastaushy/loss=2936.265, env_step=45000, len=400, n/ep=0, n/st=100, qostaushy/loss=2279.353, rew=19747.25]                          \n"
          ]
        },
        {
          "output_type": "stream",
          "name": "stdout",
          "text": [
            "Epoch #45: test_reward: 13140.100000 ± 3545.678678, best_reward: 15070.300000 ± 3247.526876 in #1\n"
          ]
        },
        {
          "output_type": "stream",
          "name": "stderr",
          "text": [
            "Epoch #46: 1001it [00:04, 235.44it/s, bastaushy/loss=2715.585, env_step=46000, len=315, n/ep=0, n/st=100, qostaushy/loss=2395.832, rew=8512.00]                          \n"
          ]
        },
        {
          "output_type": "stream",
          "name": "stdout",
          "text": [
            "Epoch #46: test_reward: 14041.200000 ± 4596.486067, best_reward: 15070.300000 ± 3247.526876 in #1\n"
          ]
        },
        {
          "output_type": "stream",
          "name": "stderr",
          "text": [
            "Epoch #47: 1001it [00:04, 243.41it/s, bastaushy/loss=2737.095, env_step=47000, len=85, n/ep=0, n/st=100, qostaushy/loss=2125.568, rew=1280.00]                          \n"
          ]
        },
        {
          "output_type": "stream",
          "name": "stdout",
          "text": [
            "Epoch #47: test_reward: 13124.700000 ± 4291.125867, best_reward: 15070.300000 ± 3247.526876 in #1\n"
          ]
        },
        {
          "output_type": "stream",
          "name": "stderr",
          "text": [
            "Epoch #48: 1001it [00:04, 248.12it/s, bastaushy/loss=2318.259, env_step=48000, len=117, n/ep=1, n/st=100, qostaushy/loss=2437.363, rew=2880.00]                          \n"
          ]
        },
        {
          "output_type": "stream",
          "name": "stdout",
          "text": [
            "Epoch #48: test_reward: 12780.600000 ± 4983.400289, best_reward: 15070.300000 ± 3247.526876 in #1\n"
          ]
        },
        {
          "output_type": "stream",
          "name": "stderr",
          "text": [
            "Epoch #49: 1001it [00:05, 187.42it/s, bastaushy/loss=2724.417, env_step=49000, len=296, n/ep=0, n/st=100, qostaushy/loss=1910.480, rew=14496.00]                          \n"
          ]
        },
        {
          "output_type": "stream",
          "name": "stdout",
          "text": [
            "Epoch #49: test_reward: 14053.100000 ± 5608.724640, best_reward: 15070.300000 ± 3247.526876 in #1\n"
          ]
        },
        {
          "output_type": "stream",
          "name": "stderr",
          "text": [
            "Epoch #50: 1001it [00:04, 247.73it/s, bastaushy/loss=2866.507, env_step=50000, len=121, n/ep=0, n/st=100, qostaushy/loss=2323.681, rew=3924.00]                          \n"
          ]
        },
        {
          "output_type": "stream",
          "name": "stdout",
          "text": [
            "Epoch #50: test_reward: 12867.000000 ± 3144.679348, best_reward: 15070.300000 ± 3247.526876 in #1\n"
          ]
        },
        {
          "output_type": "stream",
          "name": "stderr",
          "text": [
            "Epoch #51: 1001it [00:04, 211.16it/s, bastaushy/loss=2641.916, env_step=51000, len=145, n/ep=0, n/st=100, qostaushy/loss=2078.024, rew=4054.00]                          \n"
          ]
        },
        {
          "output_type": "stream",
          "name": "stdout",
          "text": [
            "Epoch #51: test_reward: 11725.800000 ± 5429.544397, best_reward: 15070.300000 ± 3247.526876 in #1\n"
          ]
        },
        {
          "output_type": "stream",
          "name": "stderr",
          "text": [
            "Epoch #52: 1001it [00:03, 253.02it/s, bastaushy/loss=2650.186, env_step=52000, len=308, n/ep=0, n/st=100, qostaushy/loss=2032.687, rew=8573.33]                          \n"
          ]
        },
        {
          "output_type": "stream",
          "name": "stdout",
          "text": [
            "Epoch #52: test_reward: 14974.000000 ± 5811.248196, best_reward: 15070.300000 ± 3247.526876 in #1\n"
          ]
        },
        {
          "output_type": "stream",
          "name": "stderr",
          "text": [
            "Epoch #53: 1001it [00:04, 207.15it/s, bastaushy/loss=2478.578, env_step=53000, len=300, n/ep=0, n/st=100, qostaushy/loss=2069.578, rew=10995.00]                          \n"
          ]
        },
        {
          "output_type": "stream",
          "name": "stdout",
          "text": [
            "Epoch #53: test_reward: 16113.400000 ± 6374.200110, best_reward: 16113.400000 ± 6374.200110 in #53\n"
          ]
        },
        {
          "output_type": "stream",
          "name": "stderr",
          "text": [
            "Epoch #54: 1001it [00:03, 252.67it/s, bastaushy/loss=2958.517, env_step=54000, len=297, n/ep=1, n/st=100, qostaushy/loss=1716.313, rew=5884.00]                          \n"
          ]
        },
        {
          "output_type": "stream",
          "name": "stdout",
          "text": [
            "Epoch #54: test_reward: 12932.300000 ± 4801.469943, best_reward: 16113.400000 ± 6374.200110 in #53\n"
          ]
        },
        {
          "output_type": "stream",
          "name": "stderr",
          "text": [
            "Epoch #55: 1001it [00:04, 226.16it/s, bastaushy/loss=2243.080, env_step=55000, len=215, n/ep=0, n/st=100, qostaushy/loss=1538.511, rew=8232.00]                          \n"
          ]
        },
        {
          "output_type": "stream",
          "name": "stdout",
          "text": [
            "Epoch #55: test_reward: 8283.600000 ± 1334.123772, best_reward: 16113.400000 ± 6374.200110 in #53\n"
          ]
        },
        {
          "output_type": "stream",
          "name": "stderr",
          "text": [
            "Epoch #56: 1001it [00:04, 234.27it/s, bastaushy/loss=2415.089, env_step=56000, len=243, n/ep=0, n/st=100, qostaushy/loss=1503.387, rew=6004.00]                          \n"
          ]
        },
        {
          "output_type": "stream",
          "name": "stdout",
          "text": [
            "Epoch #56: test_reward: 11520.800000 ± 5133.478446, best_reward: 16113.400000 ± 6374.200110 in #53\n"
          ]
        },
        {
          "output_type": "stream",
          "name": "stderr",
          "text": [
            "Epoch #57: 1001it [00:04, 249.61it/s, bastaushy/loss=2346.529, env_step=57000, len=121, n/ep=1, n/st=100, qostaushy/loss=1570.692, rew=1228.00]                          \n"
          ]
        },
        {
          "output_type": "stream",
          "name": "stdout",
          "text": [
            "Epoch #57: test_reward: 10790.500000 ± 3760.999262, best_reward: 16113.400000 ± 6374.200110 in #53\n"
          ]
        },
        {
          "output_type": "stream",
          "name": "stderr",
          "text": [
            "Epoch #58: 1001it [00:04, 213.85it/s, bastaushy/loss=2370.688, env_step=58000, len=279, n/ep=1, n/st=100, qostaushy/loss=1625.853, rew=8500.00]                          \n"
          ]
        },
        {
          "output_type": "stream",
          "name": "stdout",
          "text": [
            "Epoch #58: test_reward: 16577.800000 ± 5136.407943, best_reward: 16577.800000 ± 5136.407943 in #58\n"
          ]
        },
        {
          "output_type": "stream",
          "name": "stderr",
          "text": [
            "Epoch #59: 1001it [00:04, 241.81it/s, bastaushy/loss=2384.837, env_step=59000, len=383, n/ep=1, n/st=100, qostaushy/loss=1550.137, rew=6724.00]                          \n"
          ]
        },
        {
          "output_type": "stream",
          "name": "stdout",
          "text": [
            "Epoch #59: test_reward: 17203.000000 ± 4722.927863, best_reward: 17203.000000 ± 4722.927863 in #59\n"
          ]
        },
        {
          "output_type": "stream",
          "name": "stderr",
          "text": [
            "Epoch #60: 1001it [00:04, 203.95it/s, bastaushy/loss=2206.806, env_step=60000, len=271, n/ep=1, n/st=100, qostaushy/loss=1432.972, rew=11480.00]                          \n"
          ]
        },
        {
          "output_type": "stream",
          "name": "stdout",
          "text": [
            "Epoch #60: test_reward: 18226.700000 ± 4867.458784, best_reward: 18226.700000 ± 4867.458784 in #60\n"
          ]
        },
        {
          "output_type": "stream",
          "name": "stderr",
          "text": [
            "Epoch #61: 1001it [00:04, 239.52it/s, bastaushy/loss=2186.029, env_step=61000, len=281, n/ep=0, n/st=100, qostaushy/loss=1539.111, rew=10768.00]                          \n"
          ]
        },
        {
          "output_type": "stream",
          "name": "stdout",
          "text": [
            "Epoch #61: test_reward: 12408.400000 ± 5034.536745, best_reward: 18226.700000 ± 4867.458784 in #60\n"
          ]
        },
        {
          "output_type": "stream",
          "name": "stderr",
          "text": [
            "Epoch #62: 1001it [00:04, 209.81it/s, bastaushy/loss=2040.418, env_step=62000, len=146, n/ep=0, n/st=100, qostaushy/loss=1505.431, rew=9480.00]                          \n"
          ]
        },
        {
          "output_type": "stream",
          "name": "stdout",
          "text": [
            "Epoch #62: test_reward: 14223.300000 ± 5517.836787, best_reward: 18226.700000 ± 4867.458784 in #60\n"
          ]
        },
        {
          "output_type": "stream",
          "name": "stderr",
          "text": [
            "Epoch #63: 1001it [00:04, 240.23it/s, bastaushy/loss=1771.080, env_step=63000, len=60, n/ep=1, n/st=100, qostaushy/loss=1496.861, rew=3094.00]                          \n"
          ]
        },
        {
          "output_type": "stream",
          "name": "stdout",
          "text": [
            "Epoch #63: test_reward: 12145.600000 ± 3869.795219, best_reward: 18226.700000 ± 4867.458784 in #60\n"
          ]
        },
        {
          "output_type": "stream",
          "name": "stderr",
          "text": [
            "Epoch #64: 1001it [00:04, 232.73it/s, bastaushy/loss=1970.353, env_step=64000, len=253, n/ep=1, n/st=100, qostaushy/loss=1790.186, rew=15536.00]                          \n"
          ]
        },
        {
          "output_type": "stream",
          "name": "stdout",
          "text": [
            "Epoch #64: test_reward: 14649.900000 ± 6901.972696, best_reward: 18226.700000 ± 4867.458784 in #60\n"
          ]
        },
        {
          "output_type": "stream",
          "name": "stderr",
          "text": [
            "Epoch #65: 1001it [00:04, 250.18it/s, bastaushy/loss=2497.035, env_step=65000, len=304, n/ep=1, n/st=100, qostaushy/loss=1670.599, rew=16014.00]                          \n"
          ]
        },
        {
          "output_type": "stream",
          "name": "stdout",
          "text": [
            "Epoch #65: test_reward: 13366.500000 ± 6387.653642, best_reward: 18226.700000 ± 4867.458784 in #60\n"
          ]
        },
        {
          "output_type": "stream",
          "name": "stderr",
          "text": [
            "Epoch #66: 1001it [00:04, 250.06it/s, bastaushy/loss=2135.515, env_step=66000, len=76, n/ep=0, n/st=100, qostaushy/loss=1460.463, rew=4060.00]                          \n"
          ]
        },
        {
          "output_type": "stream",
          "name": "stdout",
          "text": [
            "Epoch #66: test_reward: 13702.500000 ± 5132.741241, best_reward: 18226.700000 ± 4867.458784 in #60\n"
          ]
        },
        {
          "output_type": "stream",
          "name": "stderr",
          "text": [
            "Epoch #67: 1001it [00:04, 218.40it/s, bastaushy/loss=2200.976, env_step=67000, len=319, n/ep=0, n/st=100, qostaushy/loss=1614.404, rew=14820.00]                          \n"
          ]
        },
        {
          "output_type": "stream",
          "name": "stdout",
          "text": [
            "Epoch #67: test_reward: 16366.600000 ± 5004.209972, best_reward: 18226.700000 ± 4867.458784 in #60\n"
          ]
        },
        {
          "output_type": "stream",
          "name": "stderr",
          "text": [
            "Epoch #68: 1001it [00:04, 245.71it/s, bastaushy/loss=2194.843, env_step=68000, len=92, n/ep=0, n/st=100, qostaushy/loss=1660.426, rew=4630.00]                          \n"
          ]
        },
        {
          "output_type": "stream",
          "name": "stdout",
          "text": [
            "Epoch #68: test_reward: 10506.700000 ± 4336.317240, best_reward: 18226.700000 ± 4867.458784 in #60\n"
          ]
        },
        {
          "output_type": "stream",
          "name": "stderr",
          "text": [
            "Epoch #69: 1001it [00:04, 207.82it/s, bastaushy/loss=1932.596, env_step=69000, len=380, n/ep=0, n/st=100, qostaushy/loss=1930.713, rew=16985.00]                          \n"
          ]
        },
        {
          "output_type": "stream",
          "name": "stdout",
          "text": [
            "Epoch #69: test_reward: 15502.300000 ± 3343.094735, best_reward: 18226.700000 ± 4867.458784 in #60\n"
          ]
        },
        {
          "output_type": "stream",
          "name": "stderr",
          "text": [
            "Epoch #70: 1001it [00:04, 242.61it/s, bastaushy/loss=2487.623, env_step=70000, len=159, n/ep=1, n/st=100, qostaushy/loss=1793.907, rew=6624.00]                          \n"
          ]
        },
        {
          "output_type": "stream",
          "name": "stdout",
          "text": [
            "Epoch #70: test_reward: 14290.300000 ± 5199.022832, best_reward: 18226.700000 ± 4867.458784 in #60\n"
          ]
        },
        {
          "output_type": "stream",
          "name": "stderr",
          "text": [
            "Epoch #71: 1001it [00:04, 206.02it/s, bastaushy/loss=2073.962, env_step=71000, len=335, n/ep=0, n/st=100, qostaushy/loss=1922.946, rew=13526.00]                          \n"
          ]
        },
        {
          "output_type": "stream",
          "name": "stdout",
          "text": [
            "Epoch #71: test_reward: 13838.000000 ± 5253.552017, best_reward: 18226.700000 ± 4867.458784 in #60\n"
          ]
        },
        {
          "output_type": "stream",
          "name": "stderr",
          "text": [
            "Epoch #72: 1001it [00:04, 244.00it/s, bastaushy/loss=2107.100, env_step=72000, len=353, n/ep=0, n/st=100, qostaushy/loss=2119.216, rew=13500.00]                          \n"
          ]
        },
        {
          "output_type": "stream",
          "name": "stdout",
          "text": [
            "Epoch #72: test_reward: 16530.200000 ± 6074.475941, best_reward: 18226.700000 ± 4867.458784 in #60\n"
          ]
        },
        {
          "output_type": "stream",
          "name": "stderr",
          "text": [
            "Epoch #73: 1001it [00:04, 244.48it/s, bastaushy/loss=2419.831, env_step=73000, len=270, n/ep=0, n/st=100, qostaushy/loss=2119.357, rew=15614.00]                          \n"
          ]
        },
        {
          "output_type": "stream",
          "name": "stdout",
          "text": [
            "Epoch #73: test_reward: 15553.400000 ± 4862.348737, best_reward: 18226.700000 ± 4867.458784 in #60\n"
          ]
        },
        {
          "output_type": "stream",
          "name": "stderr",
          "text": [
            "Epoch #74: 1001it [00:04, 242.61it/s, bastaushy/loss=2311.090, env_step=74000, len=400, n/ep=0, n/st=100, qostaushy/loss=2369.793, rew=16462.00]                          \n"
          ]
        },
        {
          "output_type": "stream",
          "name": "stdout",
          "text": [
            "Epoch #74: test_reward: 13280.100000 ± 2566.327238, best_reward: 18226.700000 ± 4867.458784 in #60\n"
          ]
        },
        {
          "output_type": "stream",
          "name": "stderr",
          "text": [
            "Epoch #75: 1001it [00:04, 245.31it/s, bastaushy/loss=2380.427, env_step=75000, len=400, n/ep=1, n/st=100, qostaushy/loss=2909.171, rew=16039.00]                          \n"
          ]
        },
        {
          "output_type": "stream",
          "name": "stdout",
          "text": [
            "Epoch #75: test_reward: 13096.000000 ± 3105.946683, best_reward: 18226.700000 ± 4867.458784 in #60\n"
          ]
        },
        {
          "output_type": "stream",
          "name": "stderr",
          "text": [
            "Epoch #76: 1001it [00:04, 208.93it/s, bastaushy/loss=2325.344, env_step=76000, len=400, n/ep=0, n/st=100, qostaushy/loss=2621.206, rew=15602.00]                          \n"
          ]
        },
        {
          "output_type": "stream",
          "name": "stdout",
          "text": [
            "Epoch #76: test_reward: 14767.700000 ± 4807.162033, best_reward: 18226.700000 ± 4867.458784 in #60\n"
          ]
        },
        {
          "output_type": "stream",
          "name": "stderr",
          "text": [
            "Epoch #77: 1001it [00:04, 246.22it/s, bastaushy/loss=2110.947, env_step=77000, len=355, n/ep=0, n/st=100, qostaushy/loss=2444.560, rew=21320.00]                          \n"
          ]
        },
        {
          "output_type": "stream",
          "name": "stdout",
          "text": [
            "Epoch #77: test_reward: 10669.200000 ± 5681.512225, best_reward: 18226.700000 ± 4867.458784 in #60\n"
          ]
        },
        {
          "output_type": "stream",
          "name": "stderr",
          "text": [
            "Epoch #78: 1001it [00:04, 208.34it/s, bastaushy/loss=2175.854, env_step=78000, len=139, n/ep=0, n/st=100, qostaushy/loss=2564.170, rew=5940.00]                          \n"
          ]
        },
        {
          "output_type": "stream",
          "name": "stdout",
          "text": [
            "Epoch #78: test_reward: 17570.700000 ± 4004.580229, best_reward: 18226.700000 ± 4867.458784 in #60\n"
          ]
        },
        {
          "output_type": "stream",
          "name": "stderr",
          "text": [
            "Epoch #79: 1001it [00:03, 250.67it/s, bastaushy/loss=2188.954, env_step=79000, len=353, n/ep=0, n/st=100, qostaushy/loss=2581.704, rew=20512.00]                          \n"
          ]
        },
        {
          "output_type": "stream",
          "name": "stdout",
          "text": [
            "Epoch #79: test_reward: 13812.200000 ± 5596.210554, best_reward: 18226.700000 ± 4867.458784 in #60\n"
          ]
        },
        {
          "output_type": "stream",
          "name": "stderr",
          "text": [
            "Epoch #80: 1001it [00:04, 211.41it/s, bastaushy/loss=2003.136, env_step=80000, len=205, n/ep=1, n/st=100, qostaushy/loss=2763.444, rew=9012.00]                          \n"
          ]
        },
        {
          "output_type": "stream",
          "name": "stdout",
          "text": [
            "Epoch #80: test_reward: 7685.400000 ± 7090.397791, best_reward: 18226.700000 ± 4867.458784 in #60\n"
          ]
        },
        {
          "output_type": "stream",
          "name": "stderr",
          "text": [
            "Epoch #81: 1001it [00:04, 245.14it/s, bastaushy/loss=2000.765, env_step=81000, len=337, n/ep=0, n/st=100, qostaushy/loss=2589.240, rew=17868.00]                          \n"
          ]
        },
        {
          "output_type": "stream",
          "name": "stdout",
          "text": [
            "Epoch #81: test_reward: 17981.800000 ± 4149.444560, best_reward: 18226.700000 ± 4867.458784 in #60\n"
          ]
        },
        {
          "output_type": "stream",
          "name": "stderr",
          "text": [
            "Epoch #82: 1001it [00:04, 247.73it/s, bastaushy/loss=2116.297, env_step=82000, len=338, n/ep=0, n/st=100, qostaushy/loss=2122.961, rew=23150.00]                          \n"
          ]
        },
        {
          "output_type": "stream",
          "name": "stdout",
          "text": [
            "Epoch #82: test_reward: 12489.400000 ± 5772.524443, best_reward: 18226.700000 ± 4867.458784 in #60\n"
          ]
        },
        {
          "output_type": "stream",
          "name": "stderr",
          "text": [
            "Epoch #83: 1001it [00:04, 223.05it/s, bastaushy/loss=1737.396, env_step=83000, len=149, n/ep=1, n/st=100, qostaushy/loss=2479.100, rew=7880.00]                          \n"
          ]
        },
        {
          "output_type": "stream",
          "name": "stdout",
          "text": [
            "Epoch #83: test_reward: 11845.100000 ± 7265.695541, best_reward: 18226.700000 ± 4867.458784 in #60\n"
          ]
        },
        {
          "output_type": "stream",
          "name": "stderr",
          "text": [
            "Epoch #84: 1001it [00:04, 247.49it/s, bastaushy/loss=2172.589, env_step=84000, len=400, n/ep=0, n/st=100, qostaushy/loss=2284.682, rew=19118.00]                          \n"
          ]
        },
        {
          "output_type": "stream",
          "name": "stdout",
          "text": [
            "Epoch #84: test_reward: 15518.900000 ± 7188.442911, best_reward: 18226.700000 ± 4867.458784 in #60\n"
          ]
        },
        {
          "output_type": "stream",
          "name": "stderr",
          "text": [
            "Epoch #85: 1001it [00:04, 205.02it/s, bastaushy/loss=2134.515, env_step=85000, len=259, n/ep=0, n/st=100, qostaushy/loss=2473.496, rew=15892.00]                          \n"
          ]
        },
        {
          "output_type": "stream",
          "name": "stdout",
          "text": [
            "Epoch #85: test_reward: 16601.300000 ± 5697.226466, best_reward: 18226.700000 ± 4867.458784 in #60\n"
          ]
        },
        {
          "output_type": "stream",
          "name": "stderr",
          "text": [
            "Epoch #86: 1001it [00:04, 245.15it/s, bastaushy/loss=1973.440, env_step=86000, len=137, n/ep=0, n/st=100, qostaushy/loss=2343.186, rew=7670.00]                          \n"
          ]
        },
        {
          "output_type": "stream",
          "name": "stdout",
          "text": [
            "Epoch #86: test_reward: 17187.700000 ± 4727.650961, best_reward: 18226.700000 ± 4867.458784 in #60\n"
          ]
        },
        {
          "output_type": "stream",
          "name": "stderr",
          "text": [
            "Epoch #87: 1001it [00:04, 202.26it/s, bastaushy/loss=1914.979, env_step=87000, len=176, n/ep=1, n/st=100, qostaushy/loss=2846.388, rew=10611.00]                          \n"
          ]
        },
        {
          "output_type": "stream",
          "name": "stdout",
          "text": [
            "Epoch #87: test_reward: 14431.300000 ± 5195.258070, best_reward: 18226.700000 ± 4867.458784 in #60\n"
          ]
        },
        {
          "output_type": "stream",
          "name": "stderr",
          "text": [
            "Epoch #88: 1001it [00:04, 241.71it/s, bastaushy/loss=1804.930, env_step=88000, len=117, n/ep=0, n/st=100, qostaushy/loss=2654.302, rew=3748.00]                          \n"
          ]
        },
        {
          "output_type": "stream",
          "name": "stdout",
          "text": [
            "Epoch #88: test_reward: 16366.100000 ± 5637.347576, best_reward: 18226.700000 ± 4867.458784 in #60\n"
          ]
        },
        {
          "output_type": "stream",
          "name": "stderr",
          "text": [
            "Epoch #89: 1001it [00:04, 212.20it/s, bastaushy/loss=1990.712, env_step=89000, len=350, n/ep=0, n/st=100, qostaushy/loss=2091.976, rew=22680.00]                          \n"
          ]
        },
        {
          "output_type": "stream",
          "name": "stdout",
          "text": [
            "Epoch #89: test_reward: 10428.000000 ± 4887.818245, best_reward: 18226.700000 ± 4867.458784 in #60\n"
          ]
        },
        {
          "output_type": "stream",
          "name": "stderr",
          "text": [
            "Epoch #90: 1001it [00:04, 245.82it/s, bastaushy/loss=1877.466, env_step=90000, len=321, n/ep=0, n/st=100, qostaushy/loss=2658.458, rew=17556.00]                          \n"
          ]
        },
        {
          "output_type": "stream",
          "name": "stdout",
          "text": [
            "Epoch #90: test_reward: 11721.400000 ± 5493.456311, best_reward: 18226.700000 ± 4867.458784 in #60\n"
          ]
        },
        {
          "output_type": "stream",
          "name": "stderr",
          "text": [
            "Epoch #91: 1001it [00:04, 237.20it/s, bastaushy/loss=1990.034, env_step=91000, len=216, n/ep=0, n/st=100, qostaushy/loss=3205.900, rew=13146.00]                          \n"
          ]
        },
        {
          "output_type": "stream",
          "name": "stdout",
          "text": [
            "Epoch #91: test_reward: 12449.400000 ± 4900.916959, best_reward: 18226.700000 ± 4867.458784 in #60\n"
          ]
        },
        {
          "output_type": "stream",
          "name": "stderr",
          "text": [
            "Epoch #92: 1001it [00:05, 198.52it/s, bastaushy/loss=1988.214, env_step=92000, len=347, n/ep=0, n/st=100, qostaushy/loss=2610.343, rew=21732.00]                          \n"
          ]
        },
        {
          "output_type": "stream",
          "name": "stdout",
          "text": [
            "Epoch #92: test_reward: 9275.000000 ± 4947.341953, best_reward: 18226.700000 ± 4867.458784 in #60\n"
          ]
        },
        {
          "output_type": "stream",
          "name": "stderr",
          "text": [
            "Epoch #93: 1001it [00:04, 243.77it/s, bastaushy/loss=1884.444, env_step=93000, len=205, n/ep=2, n/st=100, qostaushy/loss=2433.743, rew=10354.00]                          \n"
          ]
        },
        {
          "output_type": "stream",
          "name": "stdout",
          "text": [
            "Epoch #93: test_reward: 11042.000000 ± 5093.949509, best_reward: 18226.700000 ± 4867.458784 in #60\n"
          ]
        },
        {
          "output_type": "stream",
          "name": "stderr",
          "text": [
            "Epoch #94: 1001it [00:04, 224.55it/s, bastaushy/loss=2069.656, env_step=94000, len=368, n/ep=1, n/st=100, qostaushy/loss=2640.787, rew=22062.00]                          \n"
          ]
        },
        {
          "output_type": "stream",
          "name": "stdout",
          "text": [
            "Epoch #94: test_reward: 14633.400000 ± 7076.614504, best_reward: 18226.700000 ± 4867.458784 in #60\n"
          ]
        },
        {
          "output_type": "stream",
          "name": "stderr",
          "text": [
            "Epoch #95: 1001it [00:03, 250.65it/s, bastaushy/loss=2079.880, env_step=95000, len=142, n/ep=1, n/st=100, qostaushy/loss=2715.162, rew=8684.00]                          \n"
          ]
        },
        {
          "output_type": "stream",
          "name": "stdout",
          "text": [
            "Epoch #95: test_reward: 18662.000000 ± 6199.948871, best_reward: 18662.000000 ± 6199.948871 in #95\n"
          ]
        },
        {
          "output_type": "stream",
          "name": "stderr",
          "text": [
            "Epoch #96: 1001it [00:04, 203.25it/s, bastaushy/loss=1988.258, env_step=96000, len=291, n/ep=0, n/st=100, qostaushy/loss=3135.394, rew=13236.00]                          \n"
          ]
        },
        {
          "output_type": "stream",
          "name": "stdout",
          "text": [
            "Epoch #96: test_reward: 10018.800000 ± 5158.199159, best_reward: 18662.000000 ± 6199.948871 in #95\n"
          ]
        },
        {
          "output_type": "stream",
          "name": "stderr",
          "text": [
            "Epoch #97: 1001it [00:04, 246.17it/s, bastaushy/loss=2160.905, env_step=97000, len=284, n/ep=0, n/st=100, qostaushy/loss=2847.630, rew=15998.00]                          \n"
          ]
        },
        {
          "output_type": "stream",
          "name": "stdout",
          "text": [
            "Epoch #97: test_reward: 11285.200000 ± 4069.444896, best_reward: 18662.000000 ± 6199.948871 in #95\n"
          ]
        },
        {
          "output_type": "stream",
          "name": "stderr",
          "text": [
            "Epoch #98: 1001it [00:04, 206.49it/s, bastaushy/loss=2008.497, env_step=98000, len=227, n/ep=0, n/st=100, qostaushy/loss=2814.769, rew=9976.00]                          \n"
          ]
        },
        {
          "output_type": "stream",
          "name": "stdout",
          "text": [
            "Epoch #98: test_reward: 13272.000000 ± 5006.452237, best_reward: 18662.000000 ± 6199.948871 in #95\n"
          ]
        },
        {
          "output_type": "stream",
          "name": "stderr",
          "text": [
            "Epoch #99: 1001it [00:04, 240.69it/s, bastaushy/loss=2032.803, env_step=99000, len=265, n/ep=3, n/st=100, qostaushy/loss=3467.338, rew=15857.33]                          \n"
          ]
        },
        {
          "output_type": "stream",
          "name": "stdout",
          "text": [
            "Epoch #99: test_reward: 6036.300000 ± 6595.260147, best_reward: 18662.000000 ± 6199.948871 in #95\n"
          ]
        },
        {
          "output_type": "stream",
          "name": "stderr",
          "text": [
            "Epoch #100: 1001it [00:04, 233.33it/s, bastaushy/loss=2109.710, env_step=100000, len=225, n/ep=0, n/st=100, qostaushy/loss=3791.146, rew=10140.00]                          \n"
          ]
        },
        {
          "output_type": "stream",
          "name": "stdout",
          "text": [
            "Epoch #100: test_reward: 11034.400000 ± 5132.146358, best_reward: 18662.000000 ± 6199.948871 in #95\n",
            "\n",
            "==========Result==========\n",
            "{'duration': '548.56s', 'train_time/model': '410.00s', 'test_step': 275666, 'test_episode': 1010, 'test_time': '115.68s', 'test_speed': '2383.08 step/s', 'best_reward': 18662.0, 'best_result': '18662.00 ± 6199.95', 'train_step': 100000, 'train_episode': 424, 'train_time/collector': '22.88s', 'train_speed': '231.01 step/s'}\n",
            "\n",
            "(the trained policy can be accessed via policy.policies[agents[1]])\n"
          ]
        }
      ]
    },
    {
      "cell_type": "markdown",
      "source": [
        "### 🐙 Evaluate best Qostaushy agent with random policy"
      ],
      "metadata": {
        "id": "ARZK7tZNb4J3"
      }
    },
    {
      "cell_type": "code",
      "source": [
        "PLAYS = {\"bastaushy\": 0, \"qostaushy\": 0}\n",
        "# Step 1: Load the PettingZoo environment\n",
        "env = env()#render_mode=\"human\")\n",
        "\n",
        "# Step 2: Wrap the environment for Tianshou interfacing\n",
        "env = PettingZooEnv(env)\n",
        "\n",
        "# # Step 3: Define policies for each agent\n",
        "policies = MultiAgentPolicyManager([RandomPolicy(), agent4_learned], env)\n",
        "# # Step 4: Convert the env to vector format\n",
        "env = DummyVectorEnv([lambda: env])\n",
        "\n",
        "# # Step 5: Construct the Collector, which interfaces the policies with the vectorised environment\n",
        "collector = Collector(policies, env)\n",
        "\n",
        "# # Step 6: Execute the environment with the agents playing for 1 episode, and render a frame every ? seconds\n",
        "result = collector.collect(n_episode=100)\n",
        "print(PLAYS)"
      ],
      "metadata": {
        "id": "-RbkOmmh-04R",
        "colab": {
          "base_uri": "https://localhost:8080/"
        },
        "outputId": "c6be4553-8ce4-406a-9977-d723ed96af0d"
      },
      "execution_count": 54,
      "outputs": [
        {
          "output_type": "stream",
          "name": "stdout",
          "text": [
            "{'bastaushy': 81, 'qostaushy': 17}\n"
          ]
        }
      ]
    },
    {
      "cell_type": "markdown",
      "source": [
        "🐳 Experiments"
      ],
      "metadata": {
        "id": "pIAdRMbp2zS-"
      }
    },
    {
      "cell_type": "markdown",
      "source": [
        "1.\n",
        "\n",
        " net = Net(\n",
        "            state_shape=observation_space.shape or observation_space.n,\n",
        "            action_shape=env.action_space.shape or env.action_space.n,\n",
        "            hidden_sizes=[128, 256, 256, 128],\n",
        "            device=\"cuda\" if torch.cuda.is_available() else \"cpu\",\n",
        "        ).to(\"cuda\" if torch.cuda.is_available() else \"cpu\")\n",
        "\n",
        "train_collector.collect(n_step=64 * 100)  # batch size * training_num\n",
        "\n",
        "res: {'bastaushy': 781, 'qostaushy': 194}\n",
        "\n",
        "res: {'bastaushy': 790, 'qostaushy': 191}\n",
        "\n",
        "2.\n",
        "\n",
        " net = Net(\n",
        "            state_shape=observation_space.shape or observation_space.n,\n",
        "            action_shape=env.action_space.shape or env.action_space.n,\n",
        "            hidden_sizes=[128, 256, 256, 128],\n",
        "            device=\"cuda\" if torch.cuda.is_available() else \"cpu\",\n",
        "        ).to(\"cuda\" if torch.cuda.is_available() else \"cpu\")\n",
        "\n",
        "train_collector.collect(n_step=256 * 100)  # batch size * training_num\n",
        "\n",
        "res: 6/3\n",
        "\n",
        "3.\n",
        "\n",
        "net = Net(\n",
        "            state_shape=observation_space.shape or observation_space.n,\n",
        "            action_shape=env.action_space.shape or env.action_space.n,\n",
        "            hidden_sizes=[128, 256, 256, 128],\n",
        "            device=\"cuda\" if torch.cuda.is_available() else \"cpu\",\n",
        "        ).to(\"cuda\" if torch.cuda.is_available() else \"cpu\")\n",
        "\n",
        "train_collector.collect(n_step=128 * 100)  # batch size * training_num     \n",
        "\n",
        "{'bastaushy': 537, 'qostaushy': 411}\n",
        "\n",
        "4.\n",
        "\n",
        "net = Net(\n",
        "            state_shape=observation_space.shape or observation_space.n,\n",
        "            action_shape=env.action_space.shape or env.action_space.n,\n",
        "            hidden_sizes=[256, 512, 512, 256],\n",
        "            device=\"cuda\" if torch.cuda.is_available() else \"cpu\",\n",
        "        ).to(\"cuda\" if torch.cuda.is_available() else \"cpu\")\n",
        "\n",
        "train_collector.collect(n_step=128 * 100)  # batch size * training_num   \n",
        "\n",
        "res: {'bastaushy': 493, 'qostaushy': 483}\n",
        "\n",
        "res: {'bastaushy': 512, 'qostaushy': 464}\n",
        "\n",
        "5.\n",
        "\n",
        "net = Net(\n",
        "            state_shape=observation_space.shape or observation_space.n,\n",
        "            action_shape=env.action_space.shape or env.action_space.n,\n",
        "            hidden_sizes=[512, 1024, 1024, 512],\n",
        "            device=\"cuda\" if torch.cuda.is_available() else \"cpu\",\n",
        "        ).to(\"cuda\" if torch.cuda.is_available() else \"cpu\")\n",
        "\n",
        "res: {'bastaushy': 38, 'qostaushy': 59}\n",
        "\n",
        "res: {'bastaushy': 372, 'qostaushy': 562}"
      ],
      "metadata": {
        "id": "CqQs-aqbJmxn"
      }
    },
    {
      "cell_type": "markdown",
      "source": [
        "### 🦎 Play with different policies"
      ],
      "metadata": {
        "id": "VrclkOUXAe8B"
      }
    },
    {
      "cell_type": "code",
      "source": [
        "PLAYS = {\"bastaushy\": 0, \"qostaushy\": 0}\n",
        "# Step 1: Load the PettingZoo environment\n",
        "env = env(render_mode=\"human\")\n",
        "\n",
        "# Step 2: Wrap the environment for Tianshou interfacing\n",
        "env = PettingZooEnv(env)\n",
        "\n",
        "# # Step 3: Define policies for each agent\n",
        "policies = MultiAgentPolicyManager([agent4_learned, agent3_learned], env)\n",
        "# # Step 4: Convert the env to vector format\n",
        "env = DummyVectorEnv([lambda: env])\n",
        "\n",
        "# # Step 5: Construct the Collector, which interfaces the policies with the vectorised environment\n",
        "collector = Collector(policies, env)\n",
        "\n",
        "# # Step 6: Execute the environment with the agents playing for 1 episode, and render a frame every 2 seconds\n",
        "result = collector.collect(n_episode=1)\n",
        "print(PLAYS)"
      ],
      "metadata": {
        "colab": {
          "base_uri": "https://localhost:8080/",
          "height": 34
        },
        "id": "dHioGuILePHq",
        "outputId": "9eae1b7e-2752-45ff-cece-c10a3597100f"
      },
      "execution_count": 57,
      "outputs": [
        {
          "output_type": "stream",
          "name": "stdout",
          "text": [
            "{'bastaushy': 1, 'qostaushy': 0}\n"
          ]
        }
      ]
    },
    {
      "cell_type": "markdown",
      "source": [
        "🐯 Experiment results"
      ],
      "metadata": {
        "id": "C2EnuhRNiUGE"
      }
    },
    {
      "cell_type": "markdown",
      "source": [
        "\n",
        "*   agent3 vs agent1: 0-0\n",
        "*   agent1 vs agent3: 0-1\n",
        "*   agent3 vs agent2: 0-1\n",
        "*   agent2 vs agent3: 1-0\n",
        "*   agent2 vs agent1: 0-1\n",
        "*   agent1 vs agent2: 1-0\n",
        "*   trained with agent1 vs agent1: 1-0\n",
        "*   agent1 vs trained with agent1: 0-0\n",
        "*   trained with agent1 vs agent2: 0-0\n",
        "*   agent2 vs trained with agent1: 0-0\n",
        "*   trained with agent1 vs agent3: 1-0\n",
        "*   agent3 vs trained with agent1: 0-0\n",
        "\n"
      ],
      "metadata": {
        "id": "qEIOFq8YibxN"
      }
    },
    {
      "cell_type": "code",
      "source": [],
      "metadata": {
        "id": "NutxrE0hgRkx"
      },
      "execution_count": null,
      "outputs": []
    }
  ]
}