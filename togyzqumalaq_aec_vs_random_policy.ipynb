{
 "cells": [
  {
   "cell_type": "markdown",
   "metadata": {
    "colab_type": "text",
    "id": "view-in-github"
   },
   "source": [
    "<a href=\"https://colab.research.google.com/github/zhus-dika/togyz-qumalaq-agent/blob/main/togyzqumalaq_aec_vs_random_policy.ipynb\" target=\"_parent\"><img src=\"https://colab.research.google.com/assets/colab-badge.svg\" alt=\"Open In Colab\"/></a>"
   ]
  },
  {
   "cell_type": "code",
   "execution_count": null,
   "metadata": {},
   "outputs": [],
   "source": [
    "!python -m ipykernel install --user --name=venv"
   ]
  },
  {
   "cell_type": "markdown",
   "metadata": {
    "id": "n-ODLQYxcX21"
   },
   "source": [
    "#  🐘 AEC environment https://pettingzoo.farama.org/api/aec/#about-aec"
   ]
  },
  {
   "cell_type": "markdown",
   "metadata": {
    "id": "1aNj2Mfm0Zb-",
    "jp-MarkdownHeadingCollapsed": true
   },
   "source": [
    "### 🐞 Imports"
   ]
  },
  {
   "cell_type": "code",
   "execution_count": 13,
   "metadata": {
    "id": "vaX0bAwy0cd5"
   },
   "outputs": [],
   "source": [
    "import gymnasium\n",
    "import os\n",
    "import numpy as np\n",
    "from gymnasium.spaces import Discrete, MultiDiscrete\n",
    "from gymnasium import spaces\n",
    "\n",
    "from IPython.display import clear_output\n",
    "import time\n",
    "from pettingzoo import AECEnv\n",
    "from pettingzoo.utils import agent_selector, wrappers\n",
    "import matplotlib.pyplot as plt\n",
    "\n",
    "NUM_ITERS = 400\n",
    "PLAYS = {\"bastaushy\": 0, \"qostaushy\": 0}"
   ]
  },
  {
   "cell_type": "markdown",
   "metadata": {
    "id": "i9JzOFeK1kmm"
   },
   "source": [
    "### 🦉 Create environment"
   ]
  },
  {
   "cell_type": "code",
   "execution_count": 72,
   "metadata": {
    "id": "S3Tq7OaYcUfq"
   },
   "outputs": [],
   "source": [
    "def env(render_mode=None):\n",
    "    \"\"\"\n",
    "    The env function often wraps the environment in wrappers by default.\n",
    "    You can find full documentation for these methods\n",
    "    elsewhere in the developer documentation.\n",
    "    \"\"\"\n",
    "    internal_render_mode = render_mode if render_mode != \"ansi\" else \"human\"\n",
    "    env = raw_env(render_mode=internal_render_mode)\n",
    "    # This wrapper is only for environments which print results to the terminal\n",
    "    if render_mode == \"ansi\":\n",
    "        env = wrappers.CaptureStdoutWrapper(env)\n",
    "    # this wrapper helps error handling for discrete action spaces\n",
    "    env = wrappers.AssertOutOfBoundsWrapper(env)\n",
    "    # Provides a wide vareity of helpful user errors\n",
    "    # Strongly recommended\n",
    "    env = wrappers.OrderEnforcingWrapper(env)\n",
    "    return env\n",
    "\n",
    "\n",
    "class raw_env(AECEnv):\n",
    "    \"\"\"\n",
    "    The metadata holds environment constants. From gymnasium, we inherit the \"render_modes\",\n",
    "    metadata which specifies which modes can be put into the render() method.\n",
    "    At least human mode should be supported.\n",
    "    The \"name\" metadata allows the environment to be pretty printed.\n",
    "    \"\"\"\n",
    "\n",
    "    metadata = {\n",
    "        \"render_modes\": [\"ansi\", \"human\"],\n",
    "        \"name\": \"togyzqumalaq_v0\"\n",
    "        }\n",
    "\n",
    "    def __init__(self, render_mode=None):\n",
    "        \"\"\"\n",
    "        The init method takes in environment arguments and\n",
    "         should define the following attributes:\n",
    "        - otaular\n",
    "        - tuzdyq\n",
    "        - qazandar\n",
    "        - possible_agents\n",
    "        - render_mode\n",
    "\n",
    "        Note: as of v1.18.1, the action_spaces and observation_spaces attributes are deprecated.\n",
    "        Spaces should be defined in the action_space() and observation_space() methods.\n",
    "        If these methods are not overridden, spaces will be inferred from self.observation_spaces/action_spaces, raising a warning.\n",
    "\n",
    "        These attributes should not be changed after initialization.\n",
    "        \"\"\"\n",
    "        self.otaular = []\n",
    "        self.tuzdyq = []\n",
    "        self.qazandar = []\n",
    "        self.direction = []\n",
    "        self.agents = [\"bastaushy\", \"qostaushy\"]\n",
    "        self.possible_agents = self.agents[:]\n",
    "        # optional: we can define the observation and action spaces here as attributes to be used in their corresponding methods\n",
    "        self.action_spaces = {i: spaces.Discrete(9) for i in self.agents}\n",
    "        self.observation_spaces = {\n",
    "            i: spaces.Dict(\n",
    "                {\n",
    "                    \"observation\": MultiDiscrete([100] * 18 + [9] * 2 + [82] * 2),\n",
    "                    \"action_mask\": Discrete(9),\n",
    "                }\n",
    "            )\n",
    "            for i in self.agents\n",
    "        }\n",
    "        self.render_mode = render_mode\n",
    "\n",
    "    # Observation space should be defined here.\n",
    "    def action_space(self, agent):\n",
    "        return self.action_spaces[agent]\n",
    "\n",
    "    # Action space should be defined here.\n",
    "    def observation_space(self, agent):\n",
    "        return self.observation_spaces[agent]\n",
    "\n",
    "    def render(self):\n",
    "        \"\"\"\n",
    "        Renders the environment. In human mode, it can print to terminal, open\n",
    "        up a graphical window, or open up some other display that a human can see and understand.\n",
    "        \"\"\"\n",
    "        \"\"\"Renders the environment.\"\"\"\n",
    "        if self.render_mode is None:\n",
    "            gymnasium.logger.warn(\n",
    "                \"You are calling render method without specifying any render mode.\"\n",
    "            )\n",
    "            return\n",
    "\n",
    "        if len(self.agents) == 2:\n",
    "            points_bastaushy_x = np.array([i * 2 for i in range(10)])\n",
    "            points_bastaushy_y = np.array([i % 5 for i in range(50)])\n",
    "\n",
    "            x = np.arange(-3, 225, 1)\n",
    "            y = -1\n",
    "\n",
    "            text_kwargs = dict(ha='center', va='center', fontsize=12)\n",
    "            plt.figure(figsize=(17, 6))\n",
    "\n",
    "            for i in range(9):\n",
    "                # qostaushy's part\n",
    "                plt.scatter(np.repeat(points_bastaushy_x + 25 * i, 5)[:self.otaular[17 - i]], points_bastaushy_y[:self.otaular[17 - i]], marker='o')\n",
    "                # horizontal line\n",
    "                plt.plot(x, np.repeat(y, len(x)))\n",
    "                # vertical lines\n",
    "                plt.plot(np.repeat(25 * i - 2, len(x)), np.arange(-7, 5, 12 / len(x)))\n",
    "                # bastaushy's part\n",
    "                plt.scatter(np.repeat(points_bastaushy_x + 25 * i, 5)[:self.otaular[i]], points_bastaushy_y[:self.otaular[i]] - 6, marker='o')\n",
    "\n",
    "            #last vertical line\n",
    "            plt.plot(np.repeat(25 * 9 - 2, len(x)), np.arange(-7, 5, 12 / len(x)))\n",
    "\n",
    "            for i in range(9):\n",
    "                # bastaushy's qumalaqtar\n",
    "                plt.text(25 * i + 10, -7, f'{i} ({self.otaular[i]})', **text_kwargs)\n",
    "                # qostaushy's qumalaqtar\n",
    "                plt.text(25 * i + 10, 5, f'{17 - i} ({self.otaular[17 - i]})', **text_kwargs)\n",
    "            # bastaushy qazan's qumalaqtar\n",
    "            plt.text(230, -4, f'qazan: {self.qazandar[0]}', **text_kwargs)\n",
    "            # qostaushy qazan's qumalaqtar\n",
    "            plt.text(230, 2, f'qazan: {self.qazandar[1]}', **text_kwargs);\n",
    "            # bastaushy tuzdyq's qumalaqtar\n",
    "            plt.text(230, -6, f'tuzdyq: {self.tuzdyq[0]}', **text_kwargs)\n",
    "            # qostaushy tuzdyq's qumalaqtar\n",
    "            plt.text(230, 0, f'tuzdyq: {self.tuzdyq[1]}', **text_kwargs);\n",
    "            plt.show()\n",
    "        else:\n",
    "            if self.render_mode == \"human\":\n",
    "                print(\"Game over\")\n",
    "        time.sleep(2)\n",
    "        clear_output(True)\n",
    "\n",
    "    def _legal_moves(self, agent):\n",
    "        cur_player = self.possible_agents.index(agent)\n",
    "        opp_player = (cur_player + 1) % 2\n",
    "        return [item for item in range(9 * cur_player, (cur_player + 1) * 9) if self.tuzdyq[opp_player] != item and self.otaular[item] > 0]\n",
    "\n",
    "    def observe(self, agent):\n",
    "        \"\"\"\n",
    "        Observe should return the observation of the specified agent. This function\n",
    "        should return a sane observation (though not necessarily the most up to date possible)\n",
    "        at any time after reset() is called.\n",
    "        \"\"\"\n",
    "        # observation of one agent is the previous state of the other\n",
    "        legal_moves = self._legal_moves(agent) if agent == self.agent_selection else []\n",
    "        action_mask = np.zeros(9, \"int8\")\n",
    "        if self.possible_agents.index(agent) == 1:\n",
    "            legal_moves = [i - 9 for i in legal_moves]\n",
    "        for i in legal_moves:\n",
    "            action_mask[i] = 1\n",
    "        observation = tuple(\n",
    "            self.otaular + self.tuzdyq + self.qazandar\n",
    "        )\n",
    "        return {\"observation\": observation, \"action_mask\": action_mask}\n",
    "\n",
    "    def close(self):\n",
    "        \"\"\"\n",
    "        Close should release any graphical displays, subprocesses, network connections\n",
    "        or any other environment data which should not be kept around after the\n",
    "        user is no longer using the environment.\n",
    "        \"\"\"\n",
    "        pass\n",
    "\n",
    "    def reset(self, seed=None, options=None):\n",
    "        \"\"\"\n",
    "        Reset needs to initialize the following attributes\n",
    "        - agents\n",
    "        - rewards\n",
    "        - _cumulative_rewards\n",
    "        - terminations\n",
    "        - truncations\n",
    "        - infos\n",
    "        - agent_selection\n",
    "        And must set up the environment so that render(), step(), and observe()\n",
    "        can be called without issues.\n",
    "        Here it sets up the state dictionary which is used by step() and the observations dictionary which is used by step() and observe()\n",
    "        \"\"\"\n",
    "        self.agents = self.possible_agents[:]\n",
    "        self.rewards = {agent: 0 for agent in self.agents}\n",
    "        self._cumulative_rewards = {agent: 0 for agent in self.agents}\n",
    "        self.otaular = [9, 9, 9, 9, 9, 9, 9, 9, 9, 9, 9, 9, 9, 9, 9, 9, 9, 9]\n",
    "        self.direction = [list(range(18)), [9, 10, 11, 12, 13, 14, 15, 16, 17, 0, 1, 2, 3, 4, 5, 6, 7, 8]]\n",
    "        self.tuzdyq = [-1, -1]\n",
    "        self.qazandar = [0, 0]\n",
    "        self.terminations = {agent: False for agent in self.agents}\n",
    "        self.truncations = {agent: False for agent in self.agents}\n",
    "        self.infos = {agent: {} for agent in self.agents}\n",
    "        self.num_moves = 0\n",
    "        observation = tuple(\n",
    "            self.otaular + self.tuzdyq + self.qazandar\n",
    "        )\n",
    "        self.observations = {agent: observation for agent in self.agents}\n",
    "        \"\"\"\n",
    "        Our agent_selector utility allows easy cyclic stepping through the agents list.\n",
    "        \"\"\"\n",
    "        self._agent_selector = agent_selector(self.agents)\n",
    "        self.agent_selection = self._agent_selector.next()\n",
    "\n",
    "    def step(self, action):\n",
    "        \"\"\"\n",
    "        step(action) takes in an action for the current agent (specified by\n",
    "        agent_selection) and needs to update\n",
    "        - rewards\n",
    "        - _cumulative_rewards (accumulating the rewards)\n",
    "        - terminations\n",
    "        - truncations\n",
    "        - infos\n",
    "        - agent_selection (to the next agent)\n",
    "        And any internal state used by observe() or render()\n",
    "        \"\"\"\n",
    "        if (\n",
    "            self.terminations[self.agent_selection]\n",
    "            or self.truncations[self.agent_selection]\n",
    "        ):\n",
    "            # handles stepping an agent which is already dead\n",
    "            # accepts a None action for the one agent, and moves the agent_selection to\n",
    "            # the next dead agent,  or if there are no more dead agents, to the next live agent\n",
    "            self._was_dead_step(action)\n",
    "            return\n",
    "\n",
    "        cur_player = self.possible_agents.index(self.agent_selection)\n",
    "        opp_player = (cur_player + 1) % 2\n",
    "        self.num_moves += 1\n",
    "        if self.render_mode == \"human\":\n",
    "            print(f'MOVE #{self.num_moves}')\n",
    "        # The truncations dictionary must be updated for all players.\n",
    "        self.truncations = {\n",
    "            agent: self.num_moves >= NUM_ITERS for agent in self.agents\n",
    "        }\n",
    "        # distribute qumalaqs\n",
    "        if cur_player == 1:\n",
    "            action += 9\n",
    "        if self.render_mode == \"human\":\n",
    "            print(f'{self.agent_selection} made action {action}')\n",
    "        num_qumalaq = self.otaular[action]\n",
    "        idx_action = self.direction[cur_player].index(action)\n",
    "        if self.otaular[action] == 1:\n",
    "            self.otaular[self.direction[cur_player][idx_action + 1]] += 1\n",
    "            self.otaular[action] -= 1\n",
    "        else:\n",
    "            i = 1\n",
    "            while self.otaular[action] > 1:\n",
    "                self.otaular[self.direction[cur_player][(idx_action + i) % 18]] += 1\n",
    "                self.otaular[action] -= 1\n",
    "                i += 1\n",
    "        # check tuzdyq & add rewards to qazandar\n",
    "        reward = 0\n",
    "        if self.check_tuzdyq(self.agent_selection, action):\n",
    "            reward += 3\n",
    "            if self.render_mode == \"human\":\n",
    "                print(f'{self.agent_selection} won tuzdyq {reward}')\n",
    "        else:\n",
    "\n",
    "            if num_qumalaq > 1:\n",
    "                last_otau = self.direction[cur_player][(idx_action + num_qumalaq - 1) % 18]\n",
    "            else:\n",
    "                last_otau = self.direction[cur_player][(idx_action + num_qumalaq) % 18]\n",
    "\n",
    "            if last_otau in range(opp_player * 9, (opp_player + 1) * 9) and self.otaular[last_otau] % 2 == 0:\n",
    "                reward += self.otaular[last_otau]\n",
    "                if self.render_mode == \"human\":\n",
    "                    print(f'{self.agent_selection} won {reward}')\n",
    "                self.otaular[last_otau] = 0\n",
    "            if self.tuzdyq[cur_player] >= 0 and self.otaular[self.tuzdyq[cur_player]] > 0:\n",
    "                reward += self.otaular[self.tuzdyq[cur_player]]\n",
    "                if self.render_mode == \"human\":\n",
    "                    print(f'{self.agent_selection} won tuzdyq {self.otaular[self.tuzdyq[cur_player]]}')\n",
    "                self.otaular[self.tuzdyq[cur_player]] = 0\n",
    "        if self.render_mode == \"human\":\n",
    "            print(f'{self.agent_selection} won total {reward}')\n",
    "        self.qazandar[cur_player] += reward\n",
    "        self.rewards[self.agent_selection] += reward\n",
    "        # check if there is a winner\n",
    "        winner = self.check_for_winner()\n",
    "        if winner:\n",
    "            self.terminations = {i: True for i in self.agents}\n",
    "            if self.render_mode == \"human\":\n",
    "                print(f'{self.agent_selection} won the game!!!')\n",
    "        # selects the next agent.\n",
    "        self.agent_selection = self._agent_selector.next()\n",
    "        # Adds .rewards to ._cumulative_rewards\n",
    "        self._accumulate_rewards()\n",
    "\n",
    "        if self.render_mode == \"human\":\n",
    "            self.render()\n",
    "\n",
    "    def check_tuzdyq(self, agent, action):\n",
    "        cur_player = self.possible_agents.index(agent)\n",
    "        opp_player = (cur_player + 1) % 2\n",
    "        idx = self.direction[cur_player].index(action)\n",
    "        num_qumalaq = self.otaular[action]\n",
    "\n",
    "        if num_qumalaq > 1:\n",
    "            last_otau = self.direction[cur_player][(idx + num_qumalaq - 1) % 18]\n",
    "        else:\n",
    "            last_otau = self.direction[cur_player][(idx + num_qumalaq) % 18]\n",
    "\n",
    "        if last_otau in range(opp_player * 9, (opp_player + 1) * 9) and self.otaular[last_otau] == 3 and last_otau != 17 - cur_player * 9 and abs(last_otau - self.tuzdyq[opp_player]) != 9:\n",
    "            self.tuzdyq[cur_player] = last_otau\n",
    "            self.otaular[last_otau] = 0\n",
    "            if self.render_mode == \"human\":\n",
    "                print(f'{agent} got tuzdyq {last_otau}!')\n",
    "            return True\n",
    "\n",
    "        return False\n",
    "\n",
    "    def check_atsyrau(self, agent):\n",
    "        cur_player = self.possible_agents.index(agent)\n",
    "        opp_player = (cur_player + 1) % 2\n",
    "\n",
    "        for idx, i in enumerate(self.otaular[cur_player * 9: (cur_player + 1) * 9]):\n",
    "            if i > 0 and idx + cur_player * 9 != self.tuzdyq[opp_player]:\n",
    "                return False\n",
    "        if self.render_mode == \"human\":\n",
    "            print(f'{agent} reached atsyrau')\n",
    "        return True\n",
    "\n",
    "    def check_for_winner(self):\n",
    "        cur_player = self.possible_agents.index(self.agent_selection)\n",
    "        opp_player = (cur_player + 1) % 2\n",
    "        if self.qazandar[cur_player] > 81:\n",
    "            PLAYS[self.agent_selection] += 1\n",
    "            return True\n",
    "        if self.check_atsyrau(self.possible_agents[opp_player]) and self.qazandar[opp_player] <= 81:\n",
    "            PLAYS[self.agent_selection] += 1\n",
    "            return True\n",
    "        return False"
   ]
  },
  {
   "cell_type": "markdown",
   "metadata": {
    "id": "46_0KK8E1rWM",
    "jp-MarkdownHeadingCollapsed": true
   },
   "source": [
    "### 🦚 Testing environment"
   ]
  },
  {
   "cell_type": "code",
   "execution_count": null,
   "metadata": {
    "id": "lulAELFM0LZQ"
   },
   "outputs": [],
   "source": [
    "# env = env(render_mode=\"human\")\n",
    "# env.reset(seed=42)\n",
    "\n",
    "# for agent in env.agent_iter():\n",
    "#     observation, reward, termination, truncation, info = env.last()\n",
    "\n",
    "#     if termination or truncation:\n",
    "#         action = None\n",
    "#     else:\n",
    "#         mask = observation[\"action_mask\"]\n",
    "#         # this is where you would insert your policy\n",
    "#         action = env.action_space(agent).sample(mask)\n",
    "\n",
    "#     env.step(action)\n",
    "# env.close()"
   ]
  },
  {
   "cell_type": "markdown",
   "metadata": {
    "id": "ebqZJ9uJ1qKU",
    "jp-MarkdownHeadingCollapsed": true
   },
   "source": [
    "# 🐼 DQN agent to play vs a random policy agent https://pettingzoo.farama.org/tutorials/tianshou/intermediate/"
   ]
  },
  {
   "cell_type": "markdown",
   "metadata": {
    "id": "T7IIe3E9M69q"
   },
   "source": [
    "### 🐝 Imports"
   ]
  },
  {
   "cell_type": "code",
   "execution_count": 19,
   "metadata": {
    "id": "TXt2ni4SM-XL"
   },
   "outputs": [],
   "source": [
    "import os\n",
    "from typing import Optional, Tuple\n",
    "\n",
    "import gymnasium\n",
    "import numpy as np\n",
    "import torch\n",
    "from copy import deepcopy\n",
    "from tianshou.data import Collector, VectorReplayBuffer\n",
    "from tianshou.env import DummyVectorEnv\n",
    "from tianshou.env.pettingzoo_env import PettingZooEnv\n",
    "from tianshou.policy import BasePolicy, DQNPolicy, RainbowPolicy, MultiAgentPolicyManager, RandomPolicy\n",
    "from tianshou.trainer import OffpolicyTrainer\n",
    "from tianshou.utils.net.common import Net"
   ]
  },
  {
   "cell_type": "markdown",
   "metadata": {
    "id": "c-thy8-oCce4"
   },
   "source": [
    "### 🐎 Load trained agents"
   ]
  },
  {
   "cell_type": "code",
   "execution_count": 64,
   "metadata": {
    "colab": {
     "base_uri": "https://localhost:8080/"
    },
    "id": "1yOhgP4MCnf4",
    "outputId": "c7ff10df-f1db-4599-9c05-6d3428fa7861"
   },
   "outputs": [
    {
     "data": {
      "text/plain": [
       "<All keys matched successfully>"
      ]
     },
     "execution_count": 64,
     "metadata": {},
     "output_type": "execute_result"
    }
   ],
   "source": [
    "agent1_path = \"models/dqn/policy_128x256x256x128_bs64.pth\"\n",
    "agent2_path = \"models/dqn/policy_256x512x512x256_bs128.pth\"\n",
    "agent3_path = \"models/dqn/policy_512x1024x1024x512_bs128.pth\"\n",
    "agent4_path = \"models/dqn/policy_128x256x512x256x128_trained_128x256x256x128.pth\"\n",
    "\n",
    "env = PettingZooEnv(env())\n",
    "net1 = Net(\n",
    "            state_shape=(22,),\n",
    "            action_shape=env.action_space.shape or env.action_space.n,\n",
    "            hidden_sizes=[128, 256, 256, 128],\n",
    "            #hidden_sizes=[1024, 2048, 2048, 1024],\n",
    "            device=\"cuda\" if torch.cuda.is_available() else \"cpu\",\n",
    "        ).to(\"cuda\" if torch.cuda.is_available() else \"cpu\")\n",
    "\n",
    "agent1_learned = DQNPolicy(\n",
    "            model=net1,\n",
    "            optim = torch.optim.Adam(net1.parameters(), lr=1e-4),\n",
    "            discount_factor=0.9,\n",
    "            estimation_step=3,\n",
    "            target_update_freq=320,\n",
    "            action_space=env.action_space\n",
    "        ).to(\"cuda\" if torch.cuda.is_available() else \"cpu\")\n",
    "\n",
    "agent1_learned.load_state_dict(torch.load(agent1_path))\n",
    "\n",
    "\n",
    "net2 = Net(\n",
    "            state_shape=(22,),\n",
    "            action_shape=env.action_space.shape or env.action_space.n,\n",
    "            hidden_sizes=[256, 512, 512, 256],\n",
    "            device=\"cuda\" if torch.cuda.is_available() else \"cpu\",\n",
    "        ).to(\"cuda\" if torch.cuda.is_available() else \"cpu\")\n",
    "\n",
    "agent2_learned = DQNPolicy(\n",
    "            model=net2,\n",
    "            optim = torch.optim.Adam(net1.parameters(), lr=1e-4),\n",
    "            discount_factor=0.9,\n",
    "            estimation_step=3,\n",
    "            target_update_freq=320,\n",
    "            action_space=env.action_space\n",
    "        ).to(\"cuda\" if torch.cuda.is_available() else \"cpu\")\n",
    "agent2_learned.load_state_dict(torch.load(agent2_path))\n",
    "\n",
    "\n",
    "net3 = Net(\n",
    "            state_shape=(22,),\n",
    "            action_shape=env.action_space.shape or env.action_space.n,\n",
    "            hidden_sizes=[512, 1024, 1024, 512],\n",
    "            device=\"cuda\" if torch.cuda.is_available() else \"cpu\",\n",
    "        ).to(\"cuda\" if torch.cuda.is_available() else \"cpu\")\n",
    "\n",
    "agent3_learned = DQNPolicy(\n",
    "            model=net3,\n",
    "            optim = torch.optim.Adam(net3.parameters(), lr=1e-4),\n",
    "            discount_factor=0.9,\n",
    "            estimation_step=3,\n",
    "            target_update_freq=320,\n",
    "            action_space=env.action_space\n",
    "        ).to(\"cuda\" if torch.cuda.is_available() else \"cpu\")\n",
    "\n",
    "agent3_learned.load_state_dict(torch.load(agent3_path))\n",
    "\n",
    "\n",
    "net4 = Net(\n",
    "            state_shape=(22,),\n",
    "            action_shape=env.action_space.shape or env.action_space.n,\n",
    "            hidden_sizes=[128, 256, 512, 256, 128],\n",
    "            device=\"cuda\" if torch.cuda.is_available() else \"cpu\",\n",
    "        ).to(\"cuda\" if torch.cuda.is_available() else \"cpu\")\n",
    "\n",
    "agent4_learned = DQNPolicy(\n",
    "            model=net4,\n",
    "            optim = torch.optim.Adam(net3.parameters(), lr=1e-4),\n",
    "            discount_factor=0.9,\n",
    "            estimation_step=3,\n",
    "            target_update_freq=320,\n",
    "            action_space=env.action_space\n",
    "        ).to(\"cuda\" if torch.cuda.is_available() else \"cpu\")\n",
    "\n",
    "agent4_learned.load_state_dict(torch.load(agent4_path))"
   ]
  },
  {
   "cell_type": "markdown",
   "metadata": {
    "id": "sNPVNMBTNW3z"
   },
   "source": [
    "### 🐫 Prepare main functions"
   ]
  },
  {
   "cell_type": "code",
   "execution_count": 12,
   "metadata": {
    "id": "9VNyTKoxNZvV"
   },
   "outputs": [],
   "source": [
    "def _get_agents(\n",
    "    agent_learn: Optional[BasePolicy] = None,\n",
    "    agent_opponent: Optional[BasePolicy] = None,\n",
    "    optim: Optional[torch.optim.Optimizer] = None,\n",
    ") -> Tuple[BasePolicy, torch.optim.Optimizer, list]:\n",
    "    env = _get_env()\n",
    "    observation_space = (\n",
    "        env.observation_space[\"observation\"]\n",
    "        if isinstance(env.observation_space, gymnasium.spaces.Dict)\n",
    "        else env.observation_space\n",
    "    )\n",
    "    if agent_learn is None:\n",
    "        # model\n",
    "        net = Net(\n",
    "            state_shape=observation_space.shape or observation_space.n,\n",
    "            action_shape=env.action_space.shape or env.action_space.n,\n",
    "            hidden_sizes=[128, 256, 512, 256, 128],\n",
    "            #hidden_sizes=[1024, 2048, 2048, 1024],\n",
    "            device=\"cuda\" if torch.cuda.is_available() else \"cpu\",\n",
    "        ).to(\"cuda\" if torch.cuda.is_available() else \"cpu\")\n",
    "\n",
    "        if optim is None:\n",
    "            optim = torch.optim.Adam(net.parameters(), lr=1e-4)\n",
    "        agent_learn = DQNPolicy(\n",
    "            model=net,\n",
    "            optim=optim,\n",
    "            discount_factor=0.9,\n",
    "            estimation_step=3,\n",
    "            target_update_freq=320,\n",
    "        ).to(\"cuda\" if torch.cuda.is_available() else \"cpu\")\n",
    "\n",
    "\n",
    "    if agent_opponent is None:\n",
    "        if agent1_path:\n",
    "            agent_opponent = agent1_learned\n",
    "        else:\n",
    "            agent_opponent = RandomPolicy(action_space=env.action_space)\n",
    "\n",
    "    agents = [agent_opponent, agent_learn]\n",
    "    #agents = [agent_learn, agent_opponent]\n",
    "    policy = MultiAgentPolicyManager(policies=agents, env=env)\n",
    "    return policy, optim, env.agents\n",
    "\n",
    "\n",
    "def _get_env():\n",
    "    \"\"\"This function is needed to provide callables for DummyVectorEnv.\"\"\"\n",
    "    return PettingZooEnv(env())"
   ]
  },
  {
   "cell_type": "markdown",
   "metadata": {
    "id": "b9q8lRmx-FU_"
   },
   "source": [
    "###  🐑 Training code https://tianshou.org/en/stable/01_tutorials/04_tictactoe.html"
   ]
  },
  {
   "cell_type": "code",
   "execution_count": null,
   "metadata": {
    "colab": {
     "base_uri": "https://localhost:8080/"
    },
    "id": "jvKxESZA-H4y",
    "outputId": "22870513-b74e-467c-8d71-72906b2716ed"
   },
   "outputs": [
    {
     "name": "stderr",
     "output_type": "stream",
     "text": [
      "Epoch #1: 1001it [00:03, 273.56it/s, bastaushy/loss=199.918, env_step=1000, len=0, n/ep=0, n/st=100, qostaushy/loss=15209.492, rew=0.00]                          \n"
     ]
    },
    {
     "name": "stdout",
     "output_type": "stream",
     "text": [
      "Epoch #1: test_reward: 15070.300000 ± 3247.526876, best_reward: 15070.300000 ± 3247.526876 in #1\n"
     ]
    },
    {
     "name": "stderr",
     "output_type": "stream",
     "text": [
      "Epoch #2: 1001it [00:04, 231.01it/s, bastaushy/loss=198.840, env_step=2000, len=0, n/ep=0, n/st=100, qostaushy/loss=434.394, rew=0.00]                          \n"
     ]
    },
    {
     "name": "stdout",
     "output_type": "stream",
     "text": [
      "Epoch #2: test_reward: 14878.800000 ± 2874.701264, best_reward: 15070.300000 ± 3247.526876 in #1\n"
     ]
    },
    {
     "name": "stderr",
     "output_type": "stream",
     "text": [
      "Epoch #3: 1001it [00:03, 271.34it/s, bastaushy/loss=185.680, env_step=3000, len=0, n/ep=0, n/st=100, qostaushy/loss=151.296, rew=0.00]                          \n"
     ]
    },
    {
     "name": "stdout",
     "output_type": "stream",
     "text": [
      "Epoch #3: test_reward: 5113.500000 ± 5748.884157, best_reward: 15070.300000 ± 3247.526876 in #1\n"
     ]
    },
    {
     "name": "stderr",
     "output_type": "stream",
     "text": [
      "Epoch #4: 1001it [00:05, 199.14it/s, bastaushy/loss=174.654, env_step=4000, len=0, n/ep=0, n/st=100, qostaushy/loss=953.569, rew=0.00]                          \n"
     ]
    },
    {
     "name": "stdout",
     "output_type": "stream",
     "text": [
      "Epoch #4: test_reward: 13456.500000 ± 5788.924619, best_reward: 15070.300000 ± 3247.526876 in #1\n"
     ]
    },
    {
     "name": "stderr",
     "output_type": "stream",
     "text": [
      "Epoch #5: 1001it [00:03, 270.00it/s, bastaushy/loss=723.793, env_step=5000, len=305, n/ep=0, n/st=100, qostaushy/loss=125.236, rew=15475.17]                          \n"
     ]
    },
    {
     "name": "stdout",
     "output_type": "stream",
     "text": [
      "Epoch #5: test_reward: 10944.200000 ± 4765.192647, best_reward: 15070.300000 ± 3247.526876 in #1\n"
     ]
    },
    {
     "name": "stderr",
     "output_type": "stream",
     "text": [
      "Epoch #6: 1001it [00:03, 264.22it/s, bastaushy/loss=2637.010, env_step=6000, len=310, n/ep=0, n/st=100, qostaushy/loss=333.974, rew=16141.00]                          \n"
     ]
    },
    {
     "name": "stdout",
     "output_type": "stream",
     "text": [
      "Epoch #6: test_reward: 11117.200000 ± 3211.922253, best_reward: 15070.300000 ± 3247.526876 in #1\n"
     ]
    },
    {
     "name": "stderr",
     "output_type": "stream",
     "text": [
      "Epoch #7: 1001it [00:03, 266.63it/s, bastaushy/loss=2674.904, env_step=7000, len=310, n/ep=0, n/st=100, qostaushy/loss=981.351, rew=16141.00]                          \n"
     ]
    },
    {
     "name": "stdout",
     "output_type": "stream",
     "text": [
      "Epoch #7: test_reward: 11571.900000 ± 3864.958873, best_reward: 15070.300000 ± 3247.526876 in #1\n"
     ]
    },
    {
     "name": "stderr",
     "output_type": "stream",
     "text": [
      "Epoch #8: 1001it [00:03, 259.74it/s, bastaushy/loss=2735.919, env_step=8000, len=310, n/ep=0, n/st=100, qostaushy/loss=725.330, rew=16141.00]                          \n"
     ]
    },
    {
     "name": "stdout",
     "output_type": "stream",
     "text": [
      "Epoch #8: test_reward: 11782.400000 ± 6068.435106, best_reward: 15070.300000 ± 3247.526876 in #1\n"
     ]
    },
    {
     "name": "stderr",
     "output_type": "stream",
     "text": [
      "Epoch #9: 1001it [00:04, 212.18it/s, bastaushy/loss=2468.014, env_step=9000, len=310, n/ep=0, n/st=100, qostaushy/loss=746.334, rew=16141.00]                          \n"
     ]
    },
    {
     "name": "stdout",
     "output_type": "stream",
     "text": [
      "Epoch #9: test_reward: 10757.200000 ± 4162.330448, best_reward: 15070.300000 ± 3247.526876 in #1\n"
     ]
    },
    {
     "name": "stderr",
     "output_type": "stream",
     "text": [
      "Epoch #10: 1001it [00:03, 264.37it/s, bastaushy/loss=2794.343, env_step=10000, len=356, n/ep=1, n/st=100, qostaushy/loss=1182.168, rew=19505.00]                          \n"
     ]
    },
    {
     "name": "stdout",
     "output_type": "stream",
     "text": [
      "Epoch #10: test_reward: 3110.400000 ± 1766.924741, best_reward: 15070.300000 ± 3247.526876 in #1\n"
     ]
    },
    {
     "name": "stderr",
     "output_type": "stream",
     "text": [
      "Epoch #11: 1001it [00:04, 222.91it/s, bastaushy/loss=2779.011, env_step=11000, len=356, n/ep=0, n/st=100, qostaushy/loss=1075.480, rew=19505.00]                          \n"
     ]
    },
    {
     "name": "stdout",
     "output_type": "stream",
     "text": [
      "Epoch #11: test_reward: 7127.200000 ± 5265.342625, best_reward: 15070.300000 ± 3247.526876 in #1\n"
     ]
    },
    {
     "name": "stderr",
     "output_type": "stream",
     "text": [
      "Epoch #12: 1001it [00:03, 259.95it/s, bastaushy/loss=2787.686, env_step=12000, len=375, n/ep=0, n/st=100, qostaushy/loss=1431.310, rew=20844.00]                          \n"
     ]
    },
    {
     "name": "stdout",
     "output_type": "stream",
     "text": [
      "Epoch #12: test_reward: 6135.600000 ± 2651.157453, best_reward: 15070.300000 ± 3247.526876 in #1\n"
     ]
    },
    {
     "name": "stderr",
     "output_type": "stream",
     "text": [
      "Epoch #13: 1001it [00:03, 257.29it/s, bastaushy/loss=2966.338, env_step=13000, len=378, n/ep=0, n/st=100, qostaushy/loss=1587.890, rew=21050.00]                          \n"
     ]
    },
    {
     "name": "stdout",
     "output_type": "stream",
     "text": [
      "Epoch #13: test_reward: 4883.300000 ± 3411.992440, best_reward: 15070.300000 ± 3247.526876 in #1\n"
     ]
    },
    {
     "name": "stderr",
     "output_type": "stream",
     "text": [
      "Epoch #14: 1001it [00:04, 222.35it/s, bastaushy/loss=2858.835, env_step=14000, len=396, n/ep=1, n/st=100, qostaushy/loss=1659.048, rew=22742.00]                          \n"
     ]
    },
    {
     "name": "stdout",
     "output_type": "stream",
     "text": [
      "Epoch #14: test_reward: 3315.000000 ± 1734.183900, best_reward: 15070.300000 ± 3247.526876 in #1\n"
     ]
    },
    {
     "name": "stderr",
     "output_type": "stream",
     "text": [
      "Epoch #15: 1001it [00:03, 258.33it/s, bastaushy/loss=2802.533, env_step=15000, len=400, n/ep=0, n/st=100, qostaushy/loss=1965.852, rew=22548.55]                          \n"
     ]
    },
    {
     "name": "stdout",
     "output_type": "stream",
     "text": [
      "Epoch #15: test_reward: 6042.200000 ± 4346.849843, best_reward: 15070.300000 ± 3247.526876 in #1\n"
     ]
    },
    {
     "name": "stderr",
     "output_type": "stream",
     "text": [
      "Epoch #16: 1001it [00:04, 207.72it/s, bastaushy/loss=2807.400, env_step=16000, len=110, n/ep=0, n/st=100, qostaushy/loss=1943.369, rew=4618.00]                          \n"
     ]
    },
    {
     "name": "stdout",
     "output_type": "stream",
     "text": [
      "Epoch #16: test_reward: 4688.400000 ± 3328.244919, best_reward: 15070.300000 ± 3247.526876 in #1\n"
     ]
    },
    {
     "name": "stderr",
     "output_type": "stream",
     "text": [
      "Epoch #17: 1001it [00:04, 246.71it/s, bastaushy/loss=2867.922, env_step=17000, len=114, n/ep=0, n/st=100, qostaushy/loss=2318.948, rew=4790.00]                          \n"
     ]
    },
    {
     "name": "stdout",
     "output_type": "stream",
     "text": [
      "Epoch #17: test_reward: 2996.600000 ± 3031.287522, best_reward: 15070.300000 ± 3247.526876 in #1\n"
     ]
    },
    {
     "name": "stderr",
     "output_type": "stream",
     "text": [
      "Epoch #18: 1001it [00:04, 239.41it/s, bastaushy/loss=2927.468, env_step=18000, len=114, n/ep=0, n/st=100, qostaushy/loss=2445.655, rew=4790.00]                          \n"
     ]
    },
    {
     "name": "stdout",
     "output_type": "stream",
     "text": [
      "Epoch #18: test_reward: 3865.800000 ± 2446.546701, best_reward: 15070.300000 ± 3247.526876 in #1\n"
     ]
    },
    {
     "name": "stderr",
     "output_type": "stream",
     "text": [
      "Epoch #19: 1001it [00:04, 243.92it/s, bastaushy/loss=2850.018, env_step=19000, len=139, n/ep=0, n/st=100, qostaushy/loss=2513.268, rew=3880.00]                          \n"
     ]
    },
    {
     "name": "stdout",
     "output_type": "stream",
     "text": [
      "Epoch #19: test_reward: 3043.800000 ± 4059.188141, best_reward: 15070.300000 ± 3247.526876 in #1\n"
     ]
    },
    {
     "name": "stderr",
     "output_type": "stream",
     "text": [
      "Epoch #20: 1001it [00:04, 250.08it/s, bastaushy/loss=2666.040, env_step=20000, len=148, n/ep=0, n/st=100, qostaushy/loss=2695.874, rew=7902.00]                          \n"
     ]
    },
    {
     "name": "stdout",
     "output_type": "stream",
     "text": [
      "Epoch #20: test_reward: 3451.000000 ± 2560.071601, best_reward: 15070.300000 ± 3247.526876 in #1\n"
     ]
    },
    {
     "name": "stderr",
     "output_type": "stream",
     "text": [
      "Epoch #21: 1001it [00:04, 212.38it/s, bastaushy/loss=2639.178, env_step=21000, len=160, n/ep=0, n/st=100, qostaushy/loss=2538.398, rew=8090.00]                          \n"
     ]
    },
    {
     "name": "stdout",
     "output_type": "stream",
     "text": [
      "Epoch #21: test_reward: 9478.400000 ± 6341.846659, best_reward: 15070.300000 ± 3247.526876 in #1\n"
     ]
    },
    {
     "name": "stderr",
     "output_type": "stream",
     "text": [
      "Epoch #22: 1001it [00:03, 259.05it/s, bastaushy/loss=2406.683, env_step=22000, len=171, n/ep=1, n/st=100, qostaushy/loss=2954.305, rew=4624.00]                          \n"
     ]
    },
    {
     "name": "stdout",
     "output_type": "stream",
     "text": [
      "Epoch #22: test_reward: 8690.200000 ± 4439.538215, best_reward: 15070.300000 ± 3247.526876 in #1\n"
     ]
    },
    {
     "name": "stderr",
     "output_type": "stream",
     "text": [
      "Epoch #23: 1001it [00:04, 210.58it/s, bastaushy/loss=2376.528, env_step=23000, len=178, n/ep=0, n/st=100, qostaushy/loss=2719.509, rew=9550.00]                          \n"
     ]
    },
    {
     "name": "stdout",
     "output_type": "stream",
     "text": [
      "Epoch #23: test_reward: 1998.800000 ± 1112.021654, best_reward: 15070.300000 ± 3247.526876 in #1\n"
     ]
    },
    {
     "name": "stderr",
     "output_type": "stream",
     "text": [
      "Epoch #24: 1001it [00:03, 259.80it/s, bastaushy/loss=1971.922, env_step=24000, len=189, n/ep=0, n/st=100, qostaushy/loss=2757.810, rew=3904.00]                          \n"
     ]
    },
    {
     "name": "stdout",
     "output_type": "stream",
     "text": [
      "Epoch #24: test_reward: 1269.400000 ± 1200.092013, best_reward: 15070.300000 ± 3247.526876 in #1\n"
     ]
    },
    {
     "name": "stderr",
     "output_type": "stream",
     "text": [
      "Epoch #25: 1001it [00:03, 253.98it/s, bastaushy/loss=1568.158, env_step=25000, len=197, n/ep=0, n/st=100, qostaushy/loss=2701.944, rew=9300.00]                          \n"
     ]
    },
    {
     "name": "stdout",
     "output_type": "stream",
     "text": [
      "Epoch #25: test_reward: 1990.800000 ± 2093.484789, best_reward: 15070.300000 ± 3247.526876 in #1\n"
     ]
    },
    {
     "name": "stderr",
     "output_type": "stream",
     "text": [
      "Epoch #26: 1001it [00:04, 208.56it/s, bastaushy/loss=1481.519, env_step=26000, len=203, n/ep=0, n/st=100, qostaushy/loss=2041.504, rew=2840.00]                          \n"
     ]
    },
    {
     "name": "stdout",
     "output_type": "stream",
     "text": [
      "Epoch #26: test_reward: 5779.600000 ± 2970.236731, best_reward: 15070.300000 ± 3247.526876 in #1\n"
     ]
    },
    {
     "name": "stderr",
     "output_type": "stream",
     "text": [
      "Epoch #27: 1001it [00:04, 248.34it/s, bastaushy/loss=1525.610, env_step=27000, len=220, n/ep=0, n/st=100, qostaushy/loss=1925.394, rew=10451.00]                          \n"
     ]
    },
    {
     "name": "stdout",
     "output_type": "stream",
     "text": [
      "Epoch #27: test_reward: 5229.800000 ± 3210.071706, best_reward: 15070.300000 ± 3247.526876 in #1\n"
     ]
    },
    {
     "name": "stderr",
     "output_type": "stream",
     "text": [
      "Epoch #28: 1001it [00:04, 207.69it/s, bastaushy/loss=1500.549, env_step=28000, len=231, n/ep=1, n/st=100, qostaushy/loss=1988.662, rew=5756.00]                          \n"
     ]
    },
    {
     "name": "stdout",
     "output_type": "stream",
     "text": [
      "Epoch #28: test_reward: 9531.000000 ± 3362.250110, best_reward: 15070.300000 ± 3247.526876 in #1\n"
     ]
    },
    {
     "name": "stderr",
     "output_type": "stream",
     "text": [
      "Epoch #29: 1001it [00:04, 250.08it/s, bastaushy/loss=1447.568, env_step=29000, len=240, n/ep=0, n/st=100, qostaushy/loss=2471.414, rew=11846.00]                          \n"
     ]
    },
    {
     "name": "stdout",
     "output_type": "stream",
     "text": [
      "Epoch #29: test_reward: 9972.500000 ± 4563.673592, best_reward: 15070.300000 ± 3247.526876 in #1\n"
     ]
    },
    {
     "name": "stderr",
     "output_type": "stream",
     "text": [
      "Epoch #30: 1001it [00:04, 231.43it/s, bastaushy/loss=1555.495, env_step=30000, len=251, n/ep=1, n/st=100, qostaushy/loss=2325.883, rew=7144.00]                          \n"
     ]
    },
    {
     "name": "stdout",
     "output_type": "stream",
     "text": [
      "Epoch #30: test_reward: 3183.800000 ± 1657.968021, best_reward: 15070.300000 ± 3247.526876 in #1\n"
     ]
    },
    {
     "name": "stderr",
     "output_type": "stream",
     "text": [
      "Epoch #31: 1001it [00:04, 248.04it/s, bastaushy/loss=1947.040, env_step=31000, len=259, n/ep=0, n/st=100, qostaushy/loss=2433.100, rew=5472.00]                          \n"
     ]
    },
    {
     "name": "stdout",
     "output_type": "stream",
     "text": [
      "Epoch #31: test_reward: 6172.600000 ± 5229.017101, best_reward: 15070.300000 ± 3247.526876 in #1\n"
     ]
    },
    {
     "name": "stderr",
     "output_type": "stream",
     "text": [
      "Epoch #32: 1001it [00:03, 252.04it/s, bastaushy/loss=1614.100, env_step=32000, len=269, n/ep=0, n/st=100, qostaushy/loss=1966.325, rew=10408.00]                          \n"
     ]
    },
    {
     "name": "stdout",
     "output_type": "stream",
     "text": [
      "Epoch #32: test_reward: 7396.700000 ± 4636.257328, best_reward: 15070.300000 ± 3247.526876 in #1\n"
     ]
    },
    {
     "name": "stderr",
     "output_type": "stream",
     "text": [
      "Epoch #33: 1001it [00:04, 210.10it/s, bastaushy/loss=1641.297, env_step=33000, len=281, n/ep=1, n/st=100, qostaushy/loss=2200.720, rew=15540.00]                          \n"
     ]
    },
    {
     "name": "stdout",
     "output_type": "stream",
     "text": [
      "Epoch #33: test_reward: 6757.500000 ± 5145.027954, best_reward: 15070.300000 ± 3247.526876 in #1\n"
     ]
    },
    {
     "name": "stderr",
     "output_type": "stream",
     "text": [
      "Epoch #34: 1001it [00:04, 247.59it/s, bastaushy/loss=1815.729, env_step=34000, len=253, n/ep=0, n/st=100, qostaushy/loss=2232.922, rew=12586.00]                          \n"
     ]
    },
    {
     "name": "stdout",
     "output_type": "stream",
     "text": [
      "Epoch #34: test_reward: 9133.200000 ± 4418.010430, best_reward: 15070.300000 ± 3247.526876 in #1\n"
     ]
    },
    {
     "name": "stderr",
     "output_type": "stream",
     "text": [
      "Epoch #35: 1001it [00:04, 209.34it/s, bastaushy/loss=1814.688, env_step=35000, len=178, n/ep=2, n/st=100, qostaushy/loss=2124.950, rew=6693.00]                          \n"
     ]
    },
    {
     "name": "stdout",
     "output_type": "stream",
     "text": [
      "Epoch #35: test_reward: 6540.800000 ± 5189.542269, best_reward: 15070.300000 ± 3247.526876 in #1\n"
     ]
    },
    {
     "name": "stderr",
     "output_type": "stream",
     "text": [
      "Epoch #36: 1001it [00:04, 248.65it/s, bastaushy/loss=1922.479, env_step=36000, len=89, n/ep=0, n/st=100, qostaushy/loss=2255.530, rew=1180.00]                          \n"
     ]
    },
    {
     "name": "stdout",
     "output_type": "stream",
     "text": [
      "Epoch #36: test_reward: 5708.000000 ± 3736.220978, best_reward: 15070.300000 ± 3247.526876 in #1\n"
     ]
    },
    {
     "name": "stderr",
     "output_type": "stream",
     "text": [
      "Epoch #37: 1001it [00:04, 227.63it/s, bastaushy/loss=2137.231, env_step=37000, len=316, n/ep=0, n/st=100, qostaushy/loss=2417.128, rew=13645.00]                          \n"
     ]
    },
    {
     "name": "stdout",
     "output_type": "stream",
     "text": [
      "Epoch #37: test_reward: 10297.300000 ± 2992.955865, best_reward: 15070.300000 ± 3247.526876 in #1\n"
     ]
    },
    {
     "name": "stderr",
     "output_type": "stream",
     "text": [
      "Epoch #38: 1001it [00:03, 257.07it/s, bastaushy/loss=2654.726, env_step=38000, len=331, n/ep=1, n/st=100, qostaushy/loss=2496.492, rew=15780.00]                          \n"
     ]
    },
    {
     "name": "stdout",
     "output_type": "stream",
     "text": [
      "Epoch #38: test_reward: 9298.800000 ± 4874.497488, best_reward: 15070.300000 ± 3247.526876 in #1\n"
     ]
    },
    {
     "name": "stderr",
     "output_type": "stream",
     "text": [
      "Epoch #39: 1001it [00:04, 250.03it/s, bastaushy/loss=3135.911, env_step=39000, len=339, n/ep=0, n/st=100, qostaushy/loss=2927.902, rew=10344.00]                          \n"
     ]
    },
    {
     "name": "stdout",
     "output_type": "stream",
     "text": [
      "Epoch #39: test_reward: 7979.000000 ± 3474.664905, best_reward: 15070.300000 ± 3247.526876 in #1\n"
     ]
    },
    {
     "name": "stderr",
     "output_type": "stream",
     "text": [
      "Epoch #40: 1001it [00:04, 227.51it/s, bastaushy/loss=2627.093, env_step=40000, len=339, n/ep=0, n/st=100, qostaushy/loss=2689.615, rew=10344.00]                          \n"
     ]
    },
    {
     "name": "stdout",
     "output_type": "stream",
     "text": [
      "Epoch #40: test_reward: 9353.200000 ± 4050.291861, best_reward: 15070.300000 ± 3247.526876 in #1\n"
     ]
    },
    {
     "name": "stderr",
     "output_type": "stream",
     "text": [
      "Epoch #41: 1001it [00:03, 254.67it/s, bastaushy/loss=2596.986, env_step=41000, len=360, n/ep=0, n/st=100, qostaushy/loss=2501.689, rew=16251.00]                          \n"
     ]
    },
    {
     "name": "stdout",
     "output_type": "stream",
     "text": [
      "Epoch #41: test_reward: 10806.600000 ± 3124.130093, best_reward: 15070.300000 ± 3247.526876 in #1\n"
     ]
    },
    {
     "name": "stderr",
     "output_type": "stream",
     "text": [
      "Epoch #42: 1001it [00:04, 209.59it/s, bastaushy/loss=2849.220, env_step=42000, len=270, n/ep=0, n/st=100, qostaushy/loss=2885.922, rew=8248.00]                          \n"
     ]
    },
    {
     "name": "stdout",
     "output_type": "stream",
     "text": [
      "Epoch #42: test_reward: 6096.800000 ± 1686.919370, best_reward: 15070.300000 ± 3247.526876 in #1\n"
     ]
    },
    {
     "name": "stderr",
     "output_type": "stream",
     "text": [
      "Epoch #43: 1001it [00:03, 251.33it/s, bastaushy/loss=2664.598, env_step=43000, len=380, n/ep=0, n/st=100, qostaushy/loss=2567.290, rew=23738.00]                          \n"
     ]
    },
    {
     "name": "stdout",
     "output_type": "stream",
     "text": [
      "Epoch #43: test_reward: 11020.000000 ± 4515.528230, best_reward: 15070.300000 ± 3247.526876 in #1\n"
     ]
    },
    {
     "name": "stderr",
     "output_type": "stream",
     "text": [
      "Epoch #44: 1001it [00:04, 210.39it/s, bastaushy/loss=2633.349, env_step=44000, len=389, n/ep=0, n/st=100, qostaushy/loss=2525.057, rew=12292.00]                          \n"
     ]
    },
    {
     "name": "stdout",
     "output_type": "stream",
     "text": [
      "Epoch #44: test_reward: 10379.800000 ± 3751.443823, best_reward: 15070.300000 ± 3247.526876 in #1\n"
     ]
    },
    {
     "name": "stderr",
     "output_type": "stream",
     "text": [
      "Epoch #45: 1001it [00:04, 247.80it/s, bastaushy/loss=2936.265, env_step=45000, len=400, n/ep=0, n/st=100, qostaushy/loss=2279.353, rew=19747.25]                          \n"
     ]
    },
    {
     "name": "stdout",
     "output_type": "stream",
     "text": [
      "Epoch #45: test_reward: 13140.100000 ± 3545.678678, best_reward: 15070.300000 ± 3247.526876 in #1\n"
     ]
    },
    {
     "name": "stderr",
     "output_type": "stream",
     "text": [
      "Epoch #46: 1001it [00:04, 235.44it/s, bastaushy/loss=2715.585, env_step=46000, len=315, n/ep=0, n/st=100, qostaushy/loss=2395.832, rew=8512.00]                          \n"
     ]
    },
    {
     "name": "stdout",
     "output_type": "stream",
     "text": [
      "Epoch #46: test_reward: 14041.200000 ± 4596.486067, best_reward: 15070.300000 ± 3247.526876 in #1\n"
     ]
    },
    {
     "name": "stderr",
     "output_type": "stream",
     "text": [
      "Epoch #47: 1001it [00:04, 243.41it/s, bastaushy/loss=2737.095, env_step=47000, len=85, n/ep=0, n/st=100, qostaushy/loss=2125.568, rew=1280.00]                          \n"
     ]
    },
    {
     "name": "stdout",
     "output_type": "stream",
     "text": [
      "Epoch #47: test_reward: 13124.700000 ± 4291.125867, best_reward: 15070.300000 ± 3247.526876 in #1\n"
     ]
    },
    {
     "name": "stderr",
     "output_type": "stream",
     "text": [
      "Epoch #48: 1001it [00:04, 248.12it/s, bastaushy/loss=2318.259, env_step=48000, len=117, n/ep=1, n/st=100, qostaushy/loss=2437.363, rew=2880.00]                          \n"
     ]
    },
    {
     "name": "stdout",
     "output_type": "stream",
     "text": [
      "Epoch #48: test_reward: 12780.600000 ± 4983.400289, best_reward: 15070.300000 ± 3247.526876 in #1\n"
     ]
    },
    {
     "name": "stderr",
     "output_type": "stream",
     "text": [
      "Epoch #49: 1001it [00:05, 187.42it/s, bastaushy/loss=2724.417, env_step=49000, len=296, n/ep=0, n/st=100, qostaushy/loss=1910.480, rew=14496.00]                          \n"
     ]
    },
    {
     "name": "stdout",
     "output_type": "stream",
     "text": [
      "Epoch #49: test_reward: 14053.100000 ± 5608.724640, best_reward: 15070.300000 ± 3247.526876 in #1\n"
     ]
    },
    {
     "name": "stderr",
     "output_type": "stream",
     "text": [
      "Epoch #50: 1001it [00:04, 247.73it/s, bastaushy/loss=2866.507, env_step=50000, len=121, n/ep=0, n/st=100, qostaushy/loss=2323.681, rew=3924.00]                          \n"
     ]
    },
    {
     "name": "stdout",
     "output_type": "stream",
     "text": [
      "Epoch #50: test_reward: 12867.000000 ± 3144.679348, best_reward: 15070.300000 ± 3247.526876 in #1\n"
     ]
    },
    {
     "name": "stderr",
     "output_type": "stream",
     "text": [
      "Epoch #51: 1001it [00:04, 211.16it/s, bastaushy/loss=2641.916, env_step=51000, len=145, n/ep=0, n/st=100, qostaushy/loss=2078.024, rew=4054.00]                          \n"
     ]
    },
    {
     "name": "stdout",
     "output_type": "stream",
     "text": [
      "Epoch #51: test_reward: 11725.800000 ± 5429.544397, best_reward: 15070.300000 ± 3247.526876 in #1\n"
     ]
    },
    {
     "name": "stderr",
     "output_type": "stream",
     "text": [
      "Epoch #52: 1001it [00:03, 253.02it/s, bastaushy/loss=2650.186, env_step=52000, len=308, n/ep=0, n/st=100, qostaushy/loss=2032.687, rew=8573.33]                          \n"
     ]
    },
    {
     "name": "stdout",
     "output_type": "stream",
     "text": [
      "Epoch #52: test_reward: 14974.000000 ± 5811.248196, best_reward: 15070.300000 ± 3247.526876 in #1\n"
     ]
    },
    {
     "name": "stderr",
     "output_type": "stream",
     "text": [
      "Epoch #53: 1001it [00:04, 207.15it/s, bastaushy/loss=2478.578, env_step=53000, len=300, n/ep=0, n/st=100, qostaushy/loss=2069.578, rew=10995.00]                          \n"
     ]
    },
    {
     "name": "stdout",
     "output_type": "stream",
     "text": [
      "Epoch #53: test_reward: 16113.400000 ± 6374.200110, best_reward: 16113.400000 ± 6374.200110 in #53\n"
     ]
    },
    {
     "name": "stderr",
     "output_type": "stream",
     "text": [
      "Epoch #54: 1001it [00:03, 252.67it/s, bastaushy/loss=2958.517, env_step=54000, len=297, n/ep=1, n/st=100, qostaushy/loss=1716.313, rew=5884.00]                          \n"
     ]
    },
    {
     "name": "stdout",
     "output_type": "stream",
     "text": [
      "Epoch #54: test_reward: 12932.300000 ± 4801.469943, best_reward: 16113.400000 ± 6374.200110 in #53\n"
     ]
    },
    {
     "name": "stderr",
     "output_type": "stream",
     "text": [
      "Epoch #55: 1001it [00:04, 226.16it/s, bastaushy/loss=2243.080, env_step=55000, len=215, n/ep=0, n/st=100, qostaushy/loss=1538.511, rew=8232.00]                          \n"
     ]
    },
    {
     "name": "stdout",
     "output_type": "stream",
     "text": [
      "Epoch #55: test_reward: 8283.600000 ± 1334.123772, best_reward: 16113.400000 ± 6374.200110 in #53\n"
     ]
    },
    {
     "name": "stderr",
     "output_type": "stream",
     "text": [
      "Epoch #56: 1001it [00:04, 234.27it/s, bastaushy/loss=2415.089, env_step=56000, len=243, n/ep=0, n/st=100, qostaushy/loss=1503.387, rew=6004.00]                          \n"
     ]
    },
    {
     "name": "stdout",
     "output_type": "stream",
     "text": [
      "Epoch #56: test_reward: 11520.800000 ± 5133.478446, best_reward: 16113.400000 ± 6374.200110 in #53\n"
     ]
    },
    {
     "name": "stderr",
     "output_type": "stream",
     "text": [
      "Epoch #57: 1001it [00:04, 249.61it/s, bastaushy/loss=2346.529, env_step=57000, len=121, n/ep=1, n/st=100, qostaushy/loss=1570.692, rew=1228.00]                          \n"
     ]
    },
    {
     "name": "stdout",
     "output_type": "stream",
     "text": [
      "Epoch #57: test_reward: 10790.500000 ± 3760.999262, best_reward: 16113.400000 ± 6374.200110 in #53\n"
     ]
    },
    {
     "name": "stderr",
     "output_type": "stream",
     "text": [
      "Epoch #58: 1001it [00:04, 213.85it/s, bastaushy/loss=2370.688, env_step=58000, len=279, n/ep=1, n/st=100, qostaushy/loss=1625.853, rew=8500.00]                          \n"
     ]
    },
    {
     "name": "stdout",
     "output_type": "stream",
     "text": [
      "Epoch #58: test_reward: 16577.800000 ± 5136.407943, best_reward: 16577.800000 ± 5136.407943 in #58\n"
     ]
    },
    {
     "name": "stderr",
     "output_type": "stream",
     "text": [
      "Epoch #59: 1001it [00:04, 241.81it/s, bastaushy/loss=2384.837, env_step=59000, len=383, n/ep=1, n/st=100, qostaushy/loss=1550.137, rew=6724.00]                          \n"
     ]
    },
    {
     "name": "stdout",
     "output_type": "stream",
     "text": [
      "Epoch #59: test_reward: 17203.000000 ± 4722.927863, best_reward: 17203.000000 ± 4722.927863 in #59\n"
     ]
    },
    {
     "name": "stderr",
     "output_type": "stream",
     "text": [
      "Epoch #60: 1001it [00:04, 203.95it/s, bastaushy/loss=2206.806, env_step=60000, len=271, n/ep=1, n/st=100, qostaushy/loss=1432.972, rew=11480.00]                          \n"
     ]
    },
    {
     "name": "stdout",
     "output_type": "stream",
     "text": [
      "Epoch #60: test_reward: 18226.700000 ± 4867.458784, best_reward: 18226.700000 ± 4867.458784 in #60\n"
     ]
    },
    {
     "name": "stderr",
     "output_type": "stream",
     "text": [
      "Epoch #61: 1001it [00:04, 239.52it/s, bastaushy/loss=2186.029, env_step=61000, len=281, n/ep=0, n/st=100, qostaushy/loss=1539.111, rew=10768.00]                          \n"
     ]
    },
    {
     "name": "stdout",
     "output_type": "stream",
     "text": [
      "Epoch #61: test_reward: 12408.400000 ± 5034.536745, best_reward: 18226.700000 ± 4867.458784 in #60\n"
     ]
    },
    {
     "name": "stderr",
     "output_type": "stream",
     "text": [
      "Epoch #62: 1001it [00:04, 209.81it/s, bastaushy/loss=2040.418, env_step=62000, len=146, n/ep=0, n/st=100, qostaushy/loss=1505.431, rew=9480.00]                          \n"
     ]
    },
    {
     "name": "stdout",
     "output_type": "stream",
     "text": [
      "Epoch #62: test_reward: 14223.300000 ± 5517.836787, best_reward: 18226.700000 ± 4867.458784 in #60\n"
     ]
    },
    {
     "name": "stderr",
     "output_type": "stream",
     "text": [
      "Epoch #63: 1001it [00:04, 240.23it/s, bastaushy/loss=1771.080, env_step=63000, len=60, n/ep=1, n/st=100, qostaushy/loss=1496.861, rew=3094.00]                          \n"
     ]
    },
    {
     "name": "stdout",
     "output_type": "stream",
     "text": [
      "Epoch #63: test_reward: 12145.600000 ± 3869.795219, best_reward: 18226.700000 ± 4867.458784 in #60\n"
     ]
    },
    {
     "name": "stderr",
     "output_type": "stream",
     "text": [
      "Epoch #64: 1001it [00:04, 232.73it/s, bastaushy/loss=1970.353, env_step=64000, len=253, n/ep=1, n/st=100, qostaushy/loss=1790.186, rew=15536.00]                          \n"
     ]
    },
    {
     "name": "stdout",
     "output_type": "stream",
     "text": [
      "Epoch #64: test_reward: 14649.900000 ± 6901.972696, best_reward: 18226.700000 ± 4867.458784 in #60\n"
     ]
    },
    {
     "name": "stderr",
     "output_type": "stream",
     "text": [
      "Epoch #65: 1001it [00:04, 250.18it/s, bastaushy/loss=2497.035, env_step=65000, len=304, n/ep=1, n/st=100, qostaushy/loss=1670.599, rew=16014.00]                          \n"
     ]
    },
    {
     "name": "stdout",
     "output_type": "stream",
     "text": [
      "Epoch #65: test_reward: 13366.500000 ± 6387.653642, best_reward: 18226.700000 ± 4867.458784 in #60\n"
     ]
    },
    {
     "name": "stderr",
     "output_type": "stream",
     "text": [
      "Epoch #66: 1001it [00:04, 250.06it/s, bastaushy/loss=2135.515, env_step=66000, len=76, n/ep=0, n/st=100, qostaushy/loss=1460.463, rew=4060.00]                          \n"
     ]
    },
    {
     "name": "stdout",
     "output_type": "stream",
     "text": [
      "Epoch #66: test_reward: 13702.500000 ± 5132.741241, best_reward: 18226.700000 ± 4867.458784 in #60\n"
     ]
    },
    {
     "name": "stderr",
     "output_type": "stream",
     "text": [
      "Epoch #67: 1001it [00:04, 218.40it/s, bastaushy/loss=2200.976, env_step=67000, len=319, n/ep=0, n/st=100, qostaushy/loss=1614.404, rew=14820.00]                          \n"
     ]
    },
    {
     "name": "stdout",
     "output_type": "stream",
     "text": [
      "Epoch #67: test_reward: 16366.600000 ± 5004.209972, best_reward: 18226.700000 ± 4867.458784 in #60\n"
     ]
    },
    {
     "name": "stderr",
     "output_type": "stream",
     "text": [
      "Epoch #68: 1001it [00:04, 245.71it/s, bastaushy/loss=2194.843, env_step=68000, len=92, n/ep=0, n/st=100, qostaushy/loss=1660.426, rew=4630.00]                          \n"
     ]
    },
    {
     "name": "stdout",
     "output_type": "stream",
     "text": [
      "Epoch #68: test_reward: 10506.700000 ± 4336.317240, best_reward: 18226.700000 ± 4867.458784 in #60\n"
     ]
    },
    {
     "name": "stderr",
     "output_type": "stream",
     "text": [
      "Epoch #69: 1001it [00:04, 207.82it/s, bastaushy/loss=1932.596, env_step=69000, len=380, n/ep=0, n/st=100, qostaushy/loss=1930.713, rew=16985.00]                          \n"
     ]
    },
    {
     "name": "stdout",
     "output_type": "stream",
     "text": [
      "Epoch #69: test_reward: 15502.300000 ± 3343.094735, best_reward: 18226.700000 ± 4867.458784 in #60\n"
     ]
    },
    {
     "name": "stderr",
     "output_type": "stream",
     "text": [
      "Epoch #70: 1001it [00:04, 242.61it/s, bastaushy/loss=2487.623, env_step=70000, len=159, n/ep=1, n/st=100, qostaushy/loss=1793.907, rew=6624.00]                          \n"
     ]
    },
    {
     "name": "stdout",
     "output_type": "stream",
     "text": [
      "Epoch #70: test_reward: 14290.300000 ± 5199.022832, best_reward: 18226.700000 ± 4867.458784 in #60\n"
     ]
    },
    {
     "name": "stderr",
     "output_type": "stream",
     "text": [
      "Epoch #71: 1001it [00:04, 206.02it/s, bastaushy/loss=2073.962, env_step=71000, len=335, n/ep=0, n/st=100, qostaushy/loss=1922.946, rew=13526.00]                          \n"
     ]
    },
    {
     "name": "stdout",
     "output_type": "stream",
     "text": [
      "Epoch #71: test_reward: 13838.000000 ± 5253.552017, best_reward: 18226.700000 ± 4867.458784 in #60\n"
     ]
    },
    {
     "name": "stderr",
     "output_type": "stream",
     "text": [
      "Epoch #72: 1001it [00:04, 244.00it/s, bastaushy/loss=2107.100, env_step=72000, len=353, n/ep=0, n/st=100, qostaushy/loss=2119.216, rew=13500.00]                          \n"
     ]
    },
    {
     "name": "stdout",
     "output_type": "stream",
     "text": [
      "Epoch #72: test_reward: 16530.200000 ± 6074.475941, best_reward: 18226.700000 ± 4867.458784 in #60\n"
     ]
    },
    {
     "name": "stderr",
     "output_type": "stream",
     "text": [
      "Epoch #73: 1001it [00:04, 244.48it/s, bastaushy/loss=2419.831, env_step=73000, len=270, n/ep=0, n/st=100, qostaushy/loss=2119.357, rew=15614.00]                          \n"
     ]
    },
    {
     "name": "stdout",
     "output_type": "stream",
     "text": [
      "Epoch #73: test_reward: 15553.400000 ± 4862.348737, best_reward: 18226.700000 ± 4867.458784 in #60\n"
     ]
    },
    {
     "name": "stderr",
     "output_type": "stream",
     "text": [
      "Epoch #74: 1001it [00:04, 242.61it/s, bastaushy/loss=2311.090, env_step=74000, len=400, n/ep=0, n/st=100, qostaushy/loss=2369.793, rew=16462.00]                          \n"
     ]
    },
    {
     "name": "stdout",
     "output_type": "stream",
     "text": [
      "Epoch #74: test_reward: 13280.100000 ± 2566.327238, best_reward: 18226.700000 ± 4867.458784 in #60\n"
     ]
    },
    {
     "name": "stderr",
     "output_type": "stream",
     "text": [
      "Epoch #75: 1001it [00:04, 245.31it/s, bastaushy/loss=2380.427, env_step=75000, len=400, n/ep=1, n/st=100, qostaushy/loss=2909.171, rew=16039.00]                          \n"
     ]
    },
    {
     "name": "stdout",
     "output_type": "stream",
     "text": [
      "Epoch #75: test_reward: 13096.000000 ± 3105.946683, best_reward: 18226.700000 ± 4867.458784 in #60\n"
     ]
    },
    {
     "name": "stderr",
     "output_type": "stream",
     "text": [
      "Epoch #76: 1001it [00:04, 208.93it/s, bastaushy/loss=2325.344, env_step=76000, len=400, n/ep=0, n/st=100, qostaushy/loss=2621.206, rew=15602.00]                          \n"
     ]
    },
    {
     "name": "stdout",
     "output_type": "stream",
     "text": [
      "Epoch #76: test_reward: 14767.700000 ± 4807.162033, best_reward: 18226.700000 ± 4867.458784 in #60\n"
     ]
    },
    {
     "name": "stderr",
     "output_type": "stream",
     "text": [
      "Epoch #77: 1001it [00:04, 246.22it/s, bastaushy/loss=2110.947, env_step=77000, len=355, n/ep=0, n/st=100, qostaushy/loss=2444.560, rew=21320.00]                          \n"
     ]
    },
    {
     "name": "stdout",
     "output_type": "stream",
     "text": [
      "Epoch #77: test_reward: 10669.200000 ± 5681.512225, best_reward: 18226.700000 ± 4867.458784 in #60\n"
     ]
    },
    {
     "name": "stderr",
     "output_type": "stream",
     "text": [
      "Epoch #78: 1001it [00:04, 208.34it/s, bastaushy/loss=2175.854, env_step=78000, len=139, n/ep=0, n/st=100, qostaushy/loss=2564.170, rew=5940.00]                          \n"
     ]
    },
    {
     "name": "stdout",
     "output_type": "stream",
     "text": [
      "Epoch #78: test_reward: 17570.700000 ± 4004.580229, best_reward: 18226.700000 ± 4867.458784 in #60\n"
     ]
    },
    {
     "name": "stderr",
     "output_type": "stream",
     "text": [
      "Epoch #79: 1001it [00:03, 250.67it/s, bastaushy/loss=2188.954, env_step=79000, len=353, n/ep=0, n/st=100, qostaushy/loss=2581.704, rew=20512.00]                          \n"
     ]
    },
    {
     "name": "stdout",
     "output_type": "stream",
     "text": [
      "Epoch #79: test_reward: 13812.200000 ± 5596.210554, best_reward: 18226.700000 ± 4867.458784 in #60\n"
     ]
    },
    {
     "name": "stderr",
     "output_type": "stream",
     "text": [
      "Epoch #80: 1001it [00:04, 211.41it/s, bastaushy/loss=2003.136, env_step=80000, len=205, n/ep=1, n/st=100, qostaushy/loss=2763.444, rew=9012.00]                          \n"
     ]
    },
    {
     "name": "stdout",
     "output_type": "stream",
     "text": [
      "Epoch #80: test_reward: 7685.400000 ± 7090.397791, best_reward: 18226.700000 ± 4867.458784 in #60\n"
     ]
    },
    {
     "name": "stderr",
     "output_type": "stream",
     "text": [
      "Epoch #81: 1001it [00:04, 245.14it/s, bastaushy/loss=2000.765, env_step=81000, len=337, n/ep=0, n/st=100, qostaushy/loss=2589.240, rew=17868.00]                          \n"
     ]
    },
    {
     "name": "stdout",
     "output_type": "stream",
     "text": [
      "Epoch #81: test_reward: 17981.800000 ± 4149.444560, best_reward: 18226.700000 ± 4867.458784 in #60\n"
     ]
    },
    {
     "name": "stderr",
     "output_type": "stream",
     "text": [
      "Epoch #82: 1001it [00:04, 247.73it/s, bastaushy/loss=2116.297, env_step=82000, len=338, n/ep=0, n/st=100, qostaushy/loss=2122.961, rew=23150.00]                          \n"
     ]
    },
    {
     "name": "stdout",
     "output_type": "stream",
     "text": [
      "Epoch #82: test_reward: 12489.400000 ± 5772.524443, best_reward: 18226.700000 ± 4867.458784 in #60\n"
     ]
    },
    {
     "name": "stderr",
     "output_type": "stream",
     "text": [
      "Epoch #83: 1001it [00:04, 223.05it/s, bastaushy/loss=1737.396, env_step=83000, len=149, n/ep=1, n/st=100, qostaushy/loss=2479.100, rew=7880.00]                          \n"
     ]
    },
    {
     "name": "stdout",
     "output_type": "stream",
     "text": [
      "Epoch #83: test_reward: 11845.100000 ± 7265.695541, best_reward: 18226.700000 ± 4867.458784 in #60\n"
     ]
    },
    {
     "name": "stderr",
     "output_type": "stream",
     "text": [
      "Epoch #84: 1001it [00:04, 247.49it/s, bastaushy/loss=2172.589, env_step=84000, len=400, n/ep=0, n/st=100, qostaushy/loss=2284.682, rew=19118.00]                          \n"
     ]
    },
    {
     "name": "stdout",
     "output_type": "stream",
     "text": [
      "Epoch #84: test_reward: 15518.900000 ± 7188.442911, best_reward: 18226.700000 ± 4867.458784 in #60\n"
     ]
    },
    {
     "name": "stderr",
     "output_type": "stream",
     "text": [
      "Epoch #85: 1001it [00:04, 205.02it/s, bastaushy/loss=2134.515, env_step=85000, len=259, n/ep=0, n/st=100, qostaushy/loss=2473.496, rew=15892.00]                          \n"
     ]
    },
    {
     "name": "stdout",
     "output_type": "stream",
     "text": [
      "Epoch #85: test_reward: 16601.300000 ± 5697.226466, best_reward: 18226.700000 ± 4867.458784 in #60\n"
     ]
    },
    {
     "name": "stderr",
     "output_type": "stream",
     "text": [
      "Epoch #86: 1001it [00:04, 245.15it/s, bastaushy/loss=1973.440, env_step=86000, len=137, n/ep=0, n/st=100, qostaushy/loss=2343.186, rew=7670.00]                          \n"
     ]
    },
    {
     "name": "stdout",
     "output_type": "stream",
     "text": [
      "Epoch #86: test_reward: 17187.700000 ± 4727.650961, best_reward: 18226.700000 ± 4867.458784 in #60\n"
     ]
    },
    {
     "name": "stderr",
     "output_type": "stream",
     "text": [
      "Epoch #87: 1001it [00:04, 202.26it/s, bastaushy/loss=1914.979, env_step=87000, len=176, n/ep=1, n/st=100, qostaushy/loss=2846.388, rew=10611.00]                          \n"
     ]
    },
    {
     "name": "stdout",
     "output_type": "stream",
     "text": [
      "Epoch #87: test_reward: 14431.300000 ± 5195.258070, best_reward: 18226.700000 ± 4867.458784 in #60\n"
     ]
    },
    {
     "name": "stderr",
     "output_type": "stream",
     "text": [
      "Epoch #88: 1001it [00:04, 241.71it/s, bastaushy/loss=1804.930, env_step=88000, len=117, n/ep=0, n/st=100, qostaushy/loss=2654.302, rew=3748.00]                          \n"
     ]
    },
    {
     "name": "stdout",
     "output_type": "stream",
     "text": [
      "Epoch #88: test_reward: 16366.100000 ± 5637.347576, best_reward: 18226.700000 ± 4867.458784 in #60\n"
     ]
    },
    {
     "name": "stderr",
     "output_type": "stream",
     "text": [
      "Epoch #89: 1001it [00:04, 212.20it/s, bastaushy/loss=1990.712, env_step=89000, len=350, n/ep=0, n/st=100, qostaushy/loss=2091.976, rew=22680.00]                          \n"
     ]
    },
    {
     "name": "stdout",
     "output_type": "stream",
     "text": [
      "Epoch #89: test_reward: 10428.000000 ± 4887.818245, best_reward: 18226.700000 ± 4867.458784 in #60\n"
     ]
    },
    {
     "name": "stderr",
     "output_type": "stream",
     "text": [
      "Epoch #90: 1001it [00:04, 245.82it/s, bastaushy/loss=1877.466, env_step=90000, len=321, n/ep=0, n/st=100, qostaushy/loss=2658.458, rew=17556.00]                          \n"
     ]
    },
    {
     "name": "stdout",
     "output_type": "stream",
     "text": [
      "Epoch #90: test_reward: 11721.400000 ± 5493.456311, best_reward: 18226.700000 ± 4867.458784 in #60\n"
     ]
    },
    {
     "name": "stderr",
     "output_type": "stream",
     "text": [
      "Epoch #91: 1001it [00:04, 237.20it/s, bastaushy/loss=1990.034, env_step=91000, len=216, n/ep=0, n/st=100, qostaushy/loss=3205.900, rew=13146.00]                          \n"
     ]
    },
    {
     "name": "stdout",
     "output_type": "stream",
     "text": [
      "Epoch #91: test_reward: 12449.400000 ± 4900.916959, best_reward: 18226.700000 ± 4867.458784 in #60\n"
     ]
    },
    {
     "name": "stderr",
     "output_type": "stream",
     "text": [
      "Epoch #92: 1001it [00:05, 198.52it/s, bastaushy/loss=1988.214, env_step=92000, len=347, n/ep=0, n/st=100, qostaushy/loss=2610.343, rew=21732.00]                          \n"
     ]
    },
    {
     "name": "stdout",
     "output_type": "stream",
     "text": [
      "Epoch #92: test_reward: 9275.000000 ± 4947.341953, best_reward: 18226.700000 ± 4867.458784 in #60\n"
     ]
    },
    {
     "name": "stderr",
     "output_type": "stream",
     "text": [
      "Epoch #93: 1001it [00:04, 243.77it/s, bastaushy/loss=1884.444, env_step=93000, len=205, n/ep=2, n/st=100, qostaushy/loss=2433.743, rew=10354.00]                          \n"
     ]
    },
    {
     "name": "stdout",
     "output_type": "stream",
     "text": [
      "Epoch #93: test_reward: 11042.000000 ± 5093.949509, best_reward: 18226.700000 ± 4867.458784 in #60\n"
     ]
    },
    {
     "name": "stderr",
     "output_type": "stream",
     "text": [
      "Epoch #94: 1001it [00:04, 224.55it/s, bastaushy/loss=2069.656, env_step=94000, len=368, n/ep=1, n/st=100, qostaushy/loss=2640.787, rew=22062.00]                          \n"
     ]
    },
    {
     "name": "stdout",
     "output_type": "stream",
     "text": [
      "Epoch #94: test_reward: 14633.400000 ± 7076.614504, best_reward: 18226.700000 ± 4867.458784 in #60\n"
     ]
    },
    {
     "name": "stderr",
     "output_type": "stream",
     "text": [
      "Epoch #95: 1001it [00:03, 250.65it/s, bastaushy/loss=2079.880, env_step=95000, len=142, n/ep=1, n/st=100, qostaushy/loss=2715.162, rew=8684.00]                          \n"
     ]
    },
    {
     "name": "stdout",
     "output_type": "stream",
     "text": [
      "Epoch #95: test_reward: 18662.000000 ± 6199.948871, best_reward: 18662.000000 ± 6199.948871 in #95\n"
     ]
    },
    {
     "name": "stderr",
     "output_type": "stream",
     "text": [
      "Epoch #96: 1001it [00:04, 203.25it/s, bastaushy/loss=1988.258, env_step=96000, len=291, n/ep=0, n/st=100, qostaushy/loss=3135.394, rew=13236.00]                          \n"
     ]
    },
    {
     "name": "stdout",
     "output_type": "stream",
     "text": [
      "Epoch #96: test_reward: 10018.800000 ± 5158.199159, best_reward: 18662.000000 ± 6199.948871 in #95\n"
     ]
    },
    {
     "name": "stderr",
     "output_type": "stream",
     "text": [
      "Epoch #97: 1001it [00:04, 246.17it/s, bastaushy/loss=2160.905, env_step=97000, len=284, n/ep=0, n/st=100, qostaushy/loss=2847.630, rew=15998.00]                          \n"
     ]
    },
    {
     "name": "stdout",
     "output_type": "stream",
     "text": [
      "Epoch #97: test_reward: 11285.200000 ± 4069.444896, best_reward: 18662.000000 ± 6199.948871 in #95\n"
     ]
    },
    {
     "name": "stderr",
     "output_type": "stream",
     "text": [
      "Epoch #98: 1001it [00:04, 206.49it/s, bastaushy/loss=2008.497, env_step=98000, len=227, n/ep=0, n/st=100, qostaushy/loss=2814.769, rew=9976.00]                          \n"
     ]
    },
    {
     "name": "stdout",
     "output_type": "stream",
     "text": [
      "Epoch #98: test_reward: 13272.000000 ± 5006.452237, best_reward: 18662.000000 ± 6199.948871 in #95\n"
     ]
    },
    {
     "name": "stderr",
     "output_type": "stream",
     "text": [
      "Epoch #99: 1001it [00:04, 240.69it/s, bastaushy/loss=2032.803, env_step=99000, len=265, n/ep=3, n/st=100, qostaushy/loss=3467.338, rew=15857.33]                          \n"
     ]
    },
    {
     "name": "stdout",
     "output_type": "stream",
     "text": [
      "Epoch #99: test_reward: 6036.300000 ± 6595.260147, best_reward: 18662.000000 ± 6199.948871 in #95\n"
     ]
    },
    {
     "name": "stderr",
     "output_type": "stream",
     "text": [
      "Epoch #100: 1001it [00:04, 233.33it/s, bastaushy/loss=2109.710, env_step=100000, len=225, n/ep=0, n/st=100, qostaushy/loss=3791.146, rew=10140.00]                          \n"
     ]
    },
    {
     "name": "stdout",
     "output_type": "stream",
     "text": [
      "Epoch #100: test_reward: 11034.400000 ± 5132.146358, best_reward: 18662.000000 ± 6199.948871 in #95\n",
      "\n",
      "==========Result==========\n",
      "{'duration': '548.56s', 'train_time/model': '410.00s', 'test_step': 275666, 'test_episode': 1010, 'test_time': '115.68s', 'test_speed': '2383.08 step/s', 'best_reward': 18662.0, 'best_result': '18662.00 ± 6199.95', 'train_step': 100000, 'train_episode': 424, 'train_time/collector': '22.88s', 'train_speed': '231.01 step/s'}\n",
      "\n",
      "(the trained policy can be accessed via policy.policies[agents[1]])\n"
     ]
    }
   ],
   "source": [
    "# Before evaluate this cell run the cell with env\n",
    "# ======== Step 1: Environment setup =========\n",
    "train_envs = DummyVectorEnv([_get_env for _ in range(100)])\n",
    "test_envs = DummyVectorEnv([_get_env for _ in range(100)])\n",
    "\n",
    "# seed\n",
    "seed = 11\n",
    "np.random.seed(seed)\n",
    "torch.manual_seed(seed)\n",
    "train_envs.seed(seed)\n",
    "test_envs.seed(seed)\n",
    "\n",
    "# ======== Step 2: Agent setup =========\n",
    "policy, optim, agents = _get_agents(agent_opponent=agent2_learned)\n",
    "\n",
    "# # ======== Step 3: Collector setup =========\n",
    "train_collector = Collector(\n",
    "    policy,\n",
    "    train_envs,\n",
    "    VectorReplayBuffer(20_000, len(train_envs)),\n",
    "    exploration_noise=True,\n",
    ")\n",
    "test_collector = Collector(policy, test_envs, exploration_noise=True)\n",
    "# policy.set_eps(1)\n",
    "train_collector.collect(n_step=256 * 100)  # batch size * training_num\n",
    "\n",
    "# ======== Step 4: Callback functions setup =========\n",
    "def save_best_fn(policy):\n",
    "    model_save_path = os.path.join(\"models\", \"dqn\", \"policy.pth\")\n",
    "    os.makedirs(os.path.join(\"models\", \"dqn\"), exist_ok=True)\n",
    "    torch.save(policy.policies[agents[1]].state_dict(), model_save_path)\n",
    "\n",
    "def stop_fn(mean_rewards):\n",
    "    return mean_rewards >= 21000\n",
    "\n",
    "def train_fn(epoch, env_step):\n",
    "    policy.policies[agents[1]].set_eps(0.1)\n",
    "\n",
    "def test_fn(epoch, env_step):\n",
    "    policy.policies[agents[1]].set_eps(0.05)\n",
    "\n",
    "def reward_metric(rews):\n",
    "    return rews[:, 1]\n",
    "\n",
    "# ======== Step 5: Run the trainer =========\n",
    "result = offpolicy_trainer(\n",
    "    policy=policy,\n",
    "    train_collector=train_collector,\n",
    "    test_collector=test_collector,\n",
    "    max_epoch=150,\n",
    "    step_per_epoch=1000,\n",
    "    step_per_collect=50,\n",
    "    episode_per_test=10,\n",
    "    batch_size=256,\n",
    "    train_fn=train_fn,\n",
    "    test_fn=test_fn,\n",
    "    stop_fn=stop_fn,\n",
    "    save_best_fn=save_best_fn,\n",
    "    update_per_step=0.1,\n",
    "    test_in_train=False,\n",
    "    reward_metric=reward_metric,\n",
    "    verbose=True\n",
    ")\n",
    "\n",
    "# return result, policy.policies[agents[1]]\n",
    "print(f\"\\n==========Result==========\\n{result}\")\n",
    "print(\"\\n(the trained policy can be accessed via policy.policies[agents[1]])\")"
   ]
  },
  {
   "cell_type": "markdown",
   "metadata": {
    "id": "ARZK7tZNb4J3"
   },
   "source": [
    "### 🐙 Evaluate best Qostaushy agent with random policy"
   ]
  },
  {
   "cell_type": "code",
   "execution_count": 54,
   "metadata": {
    "colab": {
     "base_uri": "https://localhost:8080/"
    },
    "id": "-RbkOmmh-04R",
    "outputId": "c6be4553-8ce4-406a-9977-d723ed96af0d"
   },
   "outputs": [
    {
     "name": "stdout",
     "output_type": "stream",
     "text": [
      "{'bastaushy': 81, 'qostaushy': 17}\n"
     ]
    }
   ],
   "source": [
    "PLAYS = {\"bastaushy\": 0, \"qostaushy\": 0}\n",
    "# Step 1: Load the PettingZoo environment\n",
    "env = env()#render_mode=\"human\")\n",
    "\n",
    "# Step 2: Wrap the environment for Tianshou interfacing\n",
    "env = PettingZooEnv(env)\n",
    "\n",
    "# # Step 3: Define policies for each agent\n",
    "policies = MultiAgentPolicyManager([RandomPolicy(), agent4_learned], env)\n",
    "# # Step 4: Convert the env to vector format\n",
    "env = DummyVectorEnv([lambda: env])\n",
    "\n",
    "# # Step 5: Construct the Collector, which interfaces the policies with the vectorised environment\n",
    "collector = Collector(policies, env)\n",
    "\n",
    "# # Step 6: Execute the environment with the agents playing for 1 episode, and render a frame every ? seconds\n",
    "result = collector.collect(n_episode=100)\n",
    "print(PLAYS)"
   ]
  },
  {
   "cell_type": "markdown",
   "metadata": {
    "id": "pIAdRMbp2zS-"
   },
   "source": [
    "🐳 Experiments"
   ]
  },
  {
   "cell_type": "markdown",
   "metadata": {
    "id": "CqQs-aqbJmxn"
   },
   "source": [
    "1.\n",
    "\n",
    " net = Net(\n",
    "            state_shape=observation_space.shape or observation_space.n,\n",
    "            action_shape=env.action_space.shape or env.action_space.n,\n",
    "            hidden_sizes=[128, 256, 256, 128],\n",
    "            device=\"cuda\" if torch.cuda.is_available() else \"cpu\",\n",
    "        ).to(\"cuda\" if torch.cuda.is_available() else \"cpu\")\n",
    "\n",
    "train_collector.collect(n_step=64 * 100)  # batch size * training_num\n",
    "\n",
    "res: {'bastaushy': 781, 'qostaushy': 194}\n",
    "\n",
    "res: {'bastaushy': 790, 'qostaushy': 191}\n",
    "\n",
    "2.\n",
    "\n",
    " net = Net(\n",
    "            state_shape=observation_space.shape or observation_space.n,\n",
    "            action_shape=env.action_space.shape or env.action_space.n,\n",
    "            hidden_sizes=[128, 256, 256, 128],\n",
    "            device=\"cuda\" if torch.cuda.is_available() else \"cpu\",\n",
    "        ).to(\"cuda\" if torch.cuda.is_available() else \"cpu\")\n",
    "\n",
    "train_collector.collect(n_step=256 * 100)  # batch size * training_num\n",
    "\n",
    "res: 6/3\n",
    "\n",
    "3.\n",
    "\n",
    "net = Net(\n",
    "            state_shape=observation_space.shape or observation_space.n,\n",
    "            action_shape=env.action_space.shape or env.action_space.n,\n",
    "            hidden_sizes=[128, 256, 256, 128],\n",
    "            device=\"cuda\" if torch.cuda.is_available() else \"cpu\",\n",
    "        ).to(\"cuda\" if torch.cuda.is_available() else \"cpu\")\n",
    "\n",
    "train_collector.collect(n_step=128 * 100)  # batch size * training_num     \n",
    "\n",
    "{'bastaushy': 537, 'qostaushy': 411}\n",
    "\n",
    "4.\n",
    "\n",
    "net = Net(\n",
    "            state_shape=observation_space.shape or observation_space.n,\n",
    "            action_shape=env.action_space.shape or env.action_space.n,\n",
    "            hidden_sizes=[256, 512, 512, 256],\n",
    "            device=\"cuda\" if torch.cuda.is_available() else \"cpu\",\n",
    "        ).to(\"cuda\" if torch.cuda.is_available() else \"cpu\")\n",
    "\n",
    "train_collector.collect(n_step=128 * 100)  # batch size * training_num   \n",
    "\n",
    "res: {'bastaushy': 493, 'qostaushy': 483}\n",
    "\n",
    "res: {'bastaushy': 512, 'qostaushy': 464}\n",
    "\n",
    "5.\n",
    "\n",
    "net = Net(\n",
    "            state_shape=observation_space.shape or observation_space.n,\n",
    "            action_shape=env.action_space.shape or env.action_space.n,\n",
    "            hidden_sizes=[512, 1024, 1024, 512],\n",
    "            device=\"cuda\" if torch.cuda.is_available() else \"cpu\",\n",
    "        ).to(\"cuda\" if torch.cuda.is_available() else \"cpu\")\n",
    "\n",
    "res: {'bastaushy': 38, 'qostaushy': 59}\n",
    "\n",
    "res: {'bastaushy': 372, 'qostaushy': 562}"
   ]
  },
  {
   "cell_type": "markdown",
   "metadata": {
    "id": "VrclkOUXAe8B"
   },
   "source": [
    "### 🦎 Play with different policies"
   ]
  },
  {
   "cell_type": "code",
   "execution_count": 57,
   "metadata": {
    "colab": {
     "base_uri": "https://localhost:8080/",
     "height": 34
    },
    "id": "dHioGuILePHq",
    "outputId": "9eae1b7e-2752-45ff-cece-c10a3597100f"
   },
   "outputs": [
    {
     "name": "stdout",
     "output_type": "stream",
     "text": [
      "{'bastaushy': 1, 'qostaushy': 0}\n"
     ]
    }
   ],
   "source": [
    "PLAYS = {\"bastaushy\": 0, \"qostaushy\": 0}\n",
    "# Step 1: Load the PettingZoo environment\n",
    "env = env(render_mode=\"human\")\n",
    "\n",
    "# Step 2: Wrap the environment for Tianshou interfacing\n",
    "env = PettingZooEnv(env)\n",
    "\n",
    "# # Step 3: Define policies for each agent\n",
    "policies = MultiAgentPolicyManager([agent4_learned, agent3_learned], env)\n",
    "# # Step 4: Convert the env to vector format\n",
    "env = DummyVectorEnv([lambda: env])\n",
    "\n",
    "# # Step 5: Construct the Collector, which interfaces the policies with the vectorised environment\n",
    "collector = Collector(policies, env)\n",
    "\n",
    "# # Step 6: Execute the environment with the agents playing for 1 episode, and render a frame every 2 seconds\n",
    "result = collector.collect(n_episode=1)\n",
    "print(PLAYS)"
   ]
  },
  {
   "cell_type": "markdown",
   "metadata": {
    "id": "C2EnuhRNiUGE"
   },
   "source": [
    "🐯 Experiment results"
   ]
  },
  {
   "cell_type": "markdown",
   "metadata": {
    "id": "qEIOFq8YibxN"
   },
   "source": [
    "\n",
    "*   agent3 vs agent1: 0-0\n",
    "*   agent1 vs agent3: 0-1\n",
    "*   agent3 vs agent2: 0-1\n",
    "*   agent2 vs agent3: 1-0\n",
    "*   agent2 vs agent1: 0-1\n",
    "*   agent1 vs agent2: 1-0\n",
    "*   trained with agent1 vs agent1: 1-0\n",
    "*   agent1 vs trained with agent1: 0-0\n",
    "*   trained with agent1 vs agent2: 0-0\n",
    "*   agent2 vs trained with agent1: 0-0\n",
    "*   trained with agent1 vs agent3: 1-0\n",
    "*   agent3 vs trained with agent1: 0-0\n",
    "\n"
   ]
  },
  {
   "cell_type": "markdown",
   "metadata": {},
   "source": [
    "# 🦩 PPO policy training"
   ]
  },
  {
   "cell_type": "markdown",
   "metadata": {
    "jp-MarkdownHeadingCollapsed": true
   },
   "source": [
    "### 🐊 Change files tianshou.utils.net.common & tianshou.policy.modelfree.pgpolicy"
   ]
  },
  {
   "cell_type": "code",
   "execution_count": null,
   "metadata": {},
   "outputs": [],
   "source": [
    "#common.py\n",
    "from abc import ABC, abstractmethod\n",
    "from collections.abc import Callable, Sequence\n",
    "from typing import Any, Generic, TypeAlias, TypeVar, cast, no_type_check\n",
    "\n",
    "import numpy as np\n",
    "import torch\n",
    "from torch import nn\n",
    "\n",
    "from tianshou.data import to_torch_as\n",
    "from tianshou.data.batch import Batch\n",
    "from tianshou.data.types import RecurrentStateBatch\n",
    "\n",
    "ModuleType = type[nn.Module]\n",
    "ArgsType = tuple[Any, ...] | dict[Any, Any] | Sequence[tuple[Any, ...]] | Sequence[dict[Any, Any]]\n",
    "TActionShape: TypeAlias = Sequence[int] | int | np.int64\n",
    "TLinearLayer: TypeAlias = Callable[[int, int], nn.Module]\n",
    "T = TypeVar(\"T\")\n",
    "\n",
    "\n",
    "def miniblock(\n",
    "    input_size: int,\n",
    "    output_size: int = 0,\n",
    "    norm_layer: ModuleType | None = None,\n",
    "    norm_args: tuple[Any, ...] | dict[Any, Any] | None = None,\n",
    "    activation: ModuleType | None = None,\n",
    "    act_args: tuple[Any, ...] | dict[Any, Any] | None = None,\n",
    "    linear_layer: TLinearLayer = nn.Linear,\n",
    ") -> list[nn.Module]:\n",
    "    \"\"\"Construct a miniblock with given input/output-size, norm layer and activation.\"\"\"\n",
    "    layers: list[nn.Module] = [linear_layer(input_size, output_size)]\n",
    "    if norm_layer is not None:\n",
    "        if isinstance(norm_args, tuple):\n",
    "            layers += [norm_layer(output_size, *norm_args)]\n",
    "        elif isinstance(norm_args, dict):\n",
    "            layers += [norm_layer(output_size, **norm_args)]\n",
    "        else:\n",
    "            layers += [norm_layer(output_size)]\n",
    "    if activation is not None:\n",
    "        if isinstance(act_args, tuple):\n",
    "            layers += [activation(*act_args)]\n",
    "        elif isinstance(act_args, dict):\n",
    "            layers += [activation(**act_args)]\n",
    "        else:\n",
    "            layers += [activation()]\n",
    "    return layers\n",
    "\n",
    "\n",
    "class MLP(nn.Module):\n",
    "    \"\"\"Simple MLP backbone.\n",
    "\n",
    "    Create a MLP of size input_dim * hidden_sizes[0] * hidden_sizes[1] * ...\n",
    "    * hidden_sizes[-1] * output_dim\n",
    "\n",
    "    :param input_dim: dimension of the input vector.\n",
    "    :param output_dim: dimension of the output vector. If set to 0, there\n",
    "        is no final linear layer.\n",
    "    :param hidden_sizes: shape of MLP passed in as a list, not including\n",
    "        input_dim and output_dim.\n",
    "    :param norm_layer: use which normalization before activation, e.g.,\n",
    "        ``nn.LayerNorm`` and ``nn.BatchNorm1d``. Default to no normalization.\n",
    "        You can also pass a list of normalization modules with the same length\n",
    "        of hidden_sizes, to use different normalization module in different\n",
    "        layers. Default to no normalization.\n",
    "    :param activation: which activation to use after each layer, can be both\n",
    "        the same activation for all layers if passed in nn.Module, or different\n",
    "        activation for different Modules if passed in a list. Default to\n",
    "        nn.ReLU.\n",
    "    :param device: which device to create this model on. Default to None.\n",
    "    :param linear_layer: use this module as linear layer. Default to nn.Linear.\n",
    "    :param flatten_input: whether to flatten input data. Default to True.\n",
    "    \"\"\"\n",
    "\n",
    "    def __init__(\n",
    "        self,\n",
    "        input_dim: int,\n",
    "        output_dim: int = 0,\n",
    "        hidden_sizes: Sequence[int] = (),\n",
    "        norm_layer: ModuleType | Sequence[ModuleType] | None = None,\n",
    "        norm_args: ArgsType | None = None,\n",
    "        activation: ModuleType | Sequence[ModuleType] | None = nn.ReLU,\n",
    "        act_args: ArgsType | None = None,\n",
    "        device: str | int | torch.device | None = None,\n",
    "        linear_layer: TLinearLayer = nn.Linear,\n",
    "        flatten_input: bool = True,\n",
    "    ) -> None:\n",
    "        super().__init__()\n",
    "        self.device = device\n",
    "        if norm_layer:\n",
    "            if isinstance(norm_layer, list):\n",
    "                assert len(norm_layer) == len(hidden_sizes)\n",
    "                norm_layer_list = norm_layer\n",
    "                if isinstance(norm_args, list):\n",
    "                    assert len(norm_args) == len(hidden_sizes)\n",
    "                    norm_args_list = norm_args\n",
    "                else:\n",
    "                    norm_args_list = [norm_args for _ in range(len(hidden_sizes))]\n",
    "            else:\n",
    "                norm_layer_list = [norm_layer for _ in range(len(hidden_sizes))]\n",
    "                norm_args_list = [norm_args for _ in range(len(hidden_sizes))]\n",
    "        else:\n",
    "            norm_layer_list = [None] * len(hidden_sizes)\n",
    "            norm_args_list = [None] * len(hidden_sizes)\n",
    "        if activation:\n",
    "            if isinstance(activation, list):\n",
    "                assert len(activation) == len(hidden_sizes)\n",
    "                activation_list = activation\n",
    "                if isinstance(act_args, list):\n",
    "                    assert len(act_args) == len(hidden_sizes)\n",
    "                    act_args_list = act_args\n",
    "                else:\n",
    "                    act_args_list = [act_args for _ in range(len(hidden_sizes))]\n",
    "            else:\n",
    "                activation_list = [activation for _ in range(len(hidden_sizes))]\n",
    "                act_args_list = [act_args for _ in range(len(hidden_sizes))]\n",
    "        else:\n",
    "            activation_list = [None] * len(hidden_sizes)\n",
    "            act_args_list = [None] * len(hidden_sizes)\n",
    "        hidden_sizes = [input_dim, *list(hidden_sizes)]\n",
    "        model = []\n",
    "        for in_dim, out_dim, norm, norm_args, activ, act_args in zip(\n",
    "            hidden_sizes[:-1],\n",
    "            hidden_sizes[1:],\n",
    "            norm_layer_list,\n",
    "            norm_args_list,\n",
    "            activation_list,\n",
    "            act_args_list,\n",
    "            strict=True,\n",
    "        ):\n",
    "            model += miniblock(in_dim, out_dim, norm, norm_args, activ, act_args, linear_layer)\n",
    "        if output_dim > 0:\n",
    "            model += [linear_layer(hidden_sizes[-1], output_dim)]\n",
    "        self.output_dim = output_dim or hidden_sizes[-1]\n",
    "        self.model = nn.Sequential(*model)\n",
    "        self.flatten_input = flatten_input\n",
    "\n",
    "    @no_type_check\n",
    "    def forward(self, obs: np.ndarray | torch.Tensor) -> torch.Tensor:\n",
    "        obs = torch.as_tensor(obs, device=self.device, dtype=torch.float32)\n",
    "        if self.flatten_input:\n",
    "            obs = obs.flatten(1)\n",
    "        return self.model(obs)\n",
    "\n",
    "\n",
    "TRecurrentState = TypeVar(\"TRecurrentState\", bound=Any)\n",
    "\n",
    "\n",
    "class NetBase(nn.Module, Generic[TRecurrentState], ABC):\n",
    "    \"\"\"Interface for NNs used in policies.\"\"\"\n",
    "\n",
    "    @abstractmethod\n",
    "    def forward(\n",
    "        self,\n",
    "        obs: np.ndarray | torch.Tensor,\n",
    "        state: TRecurrentState | None = None,\n",
    "        info: dict[str, Any] | None = None,\n",
    "    ) -> tuple[torch.Tensor, TRecurrentState | None]:\n",
    "        pass\n",
    "\n",
    "\n",
    "class Net(NetBase[Any]):\n",
    "    \"\"\"Wrapper of MLP to support more specific DRL usage.\n",
    "\n",
    "    For advanced usage (how to customize the network), please refer to\n",
    "    :ref:`build_the_network`.\n",
    "\n",
    "    :param state_shape: int or a sequence of int of the shape of state.\n",
    "    :param action_shape: int or a sequence of int of the shape of action.\n",
    "    :param hidden_sizes: shape of MLP passed in as a list.\n",
    "    :param norm_layer: use which normalization before activation, e.g.,\n",
    "        ``nn.LayerNorm`` and ``nn.BatchNorm1d``. Default to no normalization.\n",
    "        You can also pass a list of normalization modules with the same length\n",
    "        of hidden_sizes, to use different normalization module in different\n",
    "        layers. Default to no normalization.\n",
    "    :param activation: which activation to use after each layer, can be both\n",
    "        the same activation for all layers if passed in nn.Module, or different\n",
    "        activation for different Modules if passed in a list. Default to\n",
    "        nn.ReLU.\n",
    "    :param device: specify the device when the network actually runs. Default\n",
    "        to \"cpu\".\n",
    "    :param softmax: whether to apply a softmax layer over the last layer's\n",
    "        output.\n",
    "    :param concat: whether the input shape is concatenated by state_shape\n",
    "        and action_shape. If it is True, ``action_shape`` is not the output\n",
    "        shape, but affects the input shape only.\n",
    "    :param num_atoms: in order to expand to the net of distributional RL.\n",
    "        Default to 1 (not use).\n",
    "    :param dueling_param: whether to use dueling network to calculate Q\n",
    "        values (for Dueling DQN). If you want to use dueling option, you should\n",
    "        pass a tuple of two dict (first for Q and second for V) stating\n",
    "        self-defined arguments as stated in\n",
    "        class:`~tianshou.utils.net.common.MLP`. Default to None.\n",
    "    :param linear_layer: use this module constructor, which takes the input\n",
    "        and output dimension as input, as linear layer. Default to nn.Linear.\n",
    "\n",
    "    .. seealso::\n",
    "\n",
    "        Please refer to :class:`~tianshou.utils.net.common.MLP` for more\n",
    "        detailed explanation on the usage of activation, norm_layer, etc.\n",
    "\n",
    "        You can also refer to :class:`~tianshou.utils.net.continuous.Actor`,\n",
    "        :class:`~tianshou.utils.net.continuous.Critic`, etc, to see how it's\n",
    "        suggested be used.\n",
    "    \"\"\"\n",
    "\n",
    "    def __init__(\n",
    "        self,\n",
    "        state_shape: int | Sequence[int],\n",
    "        action_shape: TActionShape = 0,\n",
    "        hidden_sizes: Sequence[int] = (),\n",
    "        norm_layer: ModuleType | Sequence[ModuleType] | None = None,\n",
    "        norm_args: ArgsType | None = None,\n",
    "        activation: ModuleType | Sequence[ModuleType] | None = nn.ReLU,\n",
    "        act_args: ArgsType | None = None,\n",
    "        device: str | int | torch.device = \"cpu\",\n",
    "        softmax: bool = False,\n",
    "        concat: bool = False,\n",
    "        num_atoms: int = 1,\n",
    "        dueling_param: tuple[dict[str, Any], dict[str, Any]] | None = None,\n",
    "        linear_layer: TLinearLayer = nn.Linear,\n",
    "    ) -> None:\n",
    "        super().__init__()\n",
    "        self.device = device\n",
    "        self.softmax = softmax\n",
    "        self.num_atoms = num_atoms\n",
    "        self.Q: MLP | None = None\n",
    "        self.V: MLP | None = None\n",
    "\n",
    "        input_dim = int(np.prod(state_shape))\n",
    "        action_dim = int(np.prod(action_shape)) * num_atoms\n",
    "        if concat:\n",
    "            input_dim += action_dim\n",
    "        self.use_dueling = dueling_param is not None\n",
    "        output_dim = action_dim if not self.use_dueling and not concat else 0\n",
    "        self.model = MLP(\n",
    "            input_dim,\n",
    "            output_dim,\n",
    "            hidden_sizes,\n",
    "            norm_layer,\n",
    "            norm_args,\n",
    "            activation,\n",
    "            act_args,\n",
    "            device,\n",
    "            linear_layer,\n",
    "        )\n",
    "        if self.use_dueling:  # dueling DQN\n",
    "            assert dueling_param is not None\n",
    "            kwargs_update = {\n",
    "                \"input_dim\": self.model.output_dim,\n",
    "                \"device\": self.device,\n",
    "            }\n",
    "            # Important: don't change the original dict (e.g., don't use .update())\n",
    "            q_kwargs = {**dueling_param[0], **kwargs_update}\n",
    "            v_kwargs = {**dueling_param[1], **kwargs_update}\n",
    "\n",
    "            q_kwargs[\"output_dim\"] = 0 if concat else action_dim\n",
    "            v_kwargs[\"output_dim\"] = 0 if concat else num_atoms\n",
    "            self.Q, self.V = MLP(**q_kwargs), MLP(**v_kwargs)\n",
    "            self.output_dim = self.Q.output_dim\n",
    "        else:\n",
    "            self.output_dim = self.model.output_dim\n",
    "\n",
    "    def forward(\n",
    "        self,\n",
    "        obs: np.ndarray | torch.Tensor,\n",
    "        state: Any = None,\n",
    "        info: dict[str, Any] | None = None,\n",
    "    ) -> tuple[torch.Tensor, Any]:\n",
    "        \"\"\"Mapping: obs -> flatten (inside MLP)-> logits.\n",
    "\n",
    "        :param obs:\n",
    "        :param state: unused and returned as is\n",
    "        :param info: unused\n",
    "        \"\"\"\n",
    "        if hasattr(obs, \"obs\"):\n",
    "            obs = obs.obs\n",
    "        logits = self.model(obs)\n",
    "        batch_size = logits.shape[0]\n",
    "        if self.use_dueling:  # Dueling DQN\n",
    "            assert self.Q is not None\n",
    "            assert self.V is not None\n",
    "            q, v = self.Q(logits), self.V(logits)\n",
    "            if self.num_atoms > 1:\n",
    "                q = q.view(batch_size, -1, self.num_atoms)\n",
    "                v = v.view(batch_size, -1, self.num_atoms)\n",
    "            logits = q - q.mean(dim=1, keepdim=True) + v\n",
    "        elif self.num_atoms > 1:\n",
    "            logits = logits.view(batch_size, -1, self.num_atoms)\n",
    "        if self.softmax:\n",
    "            logits = torch.softmax(logits, dim=-1)\n",
    "        return logits, state\n",
    "\n",
    "\n",
    "class Recurrent(NetBase[RecurrentStateBatch]):\n",
    "    \"\"\"Simple Recurrent network based on LSTM.\n",
    "\n",
    "    For advanced usage (how to customize the network), please refer to\n",
    "    :ref:`build_the_network`.\n",
    "    \"\"\"\n",
    "\n",
    "    def __init__(\n",
    "        self,\n",
    "        layer_num: int,\n",
    "        state_shape: int | Sequence[int],\n",
    "        action_shape: TActionShape,\n",
    "        device: str | int | torch.device = \"cpu\",\n",
    "        hidden_layer_size: int = 128,\n",
    "    ) -> None:\n",
    "        super().__init__()\n",
    "        self.device = device\n",
    "        self.nn = nn.LSTM(\n",
    "            input_size=hidden_layer_size,\n",
    "            hidden_size=hidden_layer_size,\n",
    "            num_layers=layer_num,\n",
    "            batch_first=True,\n",
    "        )\n",
    "        self.fc1 = nn.Linear(int(np.prod(state_shape)), hidden_layer_size)\n",
    "        self.fc2 = nn.Linear(hidden_layer_size, int(np.prod(action_shape)))\n",
    "\n",
    "    def forward(\n",
    "        self,\n",
    "        obs: np.ndarray | torch.Tensor,\n",
    "        state: RecurrentStateBatch | None = None,\n",
    "        info: dict[str, Any] | None = None,\n",
    "    ) -> tuple[torch.Tensor, RecurrentStateBatch]:\n",
    "        \"\"\"Mapping: obs -> flatten -> logits.\n",
    "\n",
    "        In the evaluation mode, `obs` should be with shape ``[bsz, dim]``; in the\n",
    "        training mode, `obs` should be with shape ``[bsz, len, dim]``. See the code\n",
    "        and comment for more detail.\n",
    "\n",
    "        :param obs:\n",
    "        :param state: either None or a dict with keys 'hidden' and 'cell'\n",
    "        :param info: unused\n",
    "        :return: predicted action, next state as dict with keys 'hidden' and 'cell'\n",
    "        \"\"\"\n",
    "        # Note: the original type of state is Batch but it might also be a dict\n",
    "        # If it is a Batch, .issubset(state) will not work. However,\n",
    "        # issubset(state.keys()) always works\n",
    "        if state is not None and not {\"hidden\", \"cell\"}.issubset(state.keys()):\n",
    "            raise ValueError(\n",
    "                f\"Expected to find keys 'hidden' and 'cell' but instead found {state.keys()}\",\n",
    "            )\n",
    "\n",
    "        obs = torch.as_tensor(obs, device=self.device, dtype=torch.float32)\n",
    "        # obs [bsz, len, dim] (training) or [bsz, dim] (evaluation)\n",
    "        # In short, the tensor's shape in training phase is longer than which\n",
    "        # in evaluation phase.\n",
    "        if len(obs.shape) == 2:\n",
    "            obs = obs.unsqueeze(-2)\n",
    "        obs = self.fc1(obs)\n",
    "        self.nn.flatten_parameters()\n",
    "        if state is None:\n",
    "            obs, (hidden, cell) = self.nn(obs)\n",
    "        else:\n",
    "            # we store the stack data in [bsz, len, ...] format\n",
    "            # but pytorch rnn needs [len, bsz, ...]\n",
    "            obs, (hidden, cell) = self.nn(\n",
    "                obs,\n",
    "                (\n",
    "                    state[\"hidden\"].transpose(0, 1).contiguous(),\n",
    "                    state[\"cell\"].transpose(0, 1).contiguous(),\n",
    "                ),\n",
    "            )\n",
    "        obs = self.fc2(obs[:, -1])\n",
    "        # please ensure the first dim is batch size: [bsz, len, ...]\n",
    "        rnn_state_batch = cast(\n",
    "            RecurrentStateBatch,\n",
    "            Batch(\n",
    "                {\n",
    "                    \"hidden\": hidden.transpose(0, 1).detach(),\n",
    "                    \"cell\": cell.transpose(0, 1).detach(),\n",
    "                },\n",
    "            ),\n",
    "        )\n",
    "        return obs, rnn_state_batch\n",
    "\n",
    "\n",
    "class ActorCritic(nn.Module):\n",
    "    \"\"\"An actor-critic network for parsing parameters.\n",
    "\n",
    "    Using ``actor_critic.parameters()`` instead of set.union or list+list to avoid\n",
    "    issue #449.\n",
    "\n",
    "    :param nn.Module actor: the actor network.\n",
    "    :param nn.Module critic: the critic network.\n",
    "    \"\"\"\n",
    "\n",
    "    def __init__(self, actor: nn.Module, critic: nn.Module) -> None:\n",
    "        super().__init__()\n",
    "        self.actor = actor\n",
    "        self.critic = critic\n",
    "\n",
    "\n",
    "class DataParallelNet(nn.Module):\n",
    "    \"\"\"DataParallel wrapper for training agent with multi-GPU.\n",
    "\n",
    "    This class does only the conversion of input data type, from numpy array to torch's\n",
    "    Tensor. If the input is a nested dictionary, the user should create a similar class\n",
    "    to do the same thing.\n",
    "\n",
    "    :param nn.Module net: the network to be distributed in different GPUs.\n",
    "    \"\"\"\n",
    "\n",
    "    def __init__(self, net: nn.Module) -> None:\n",
    "        super().__init__()\n",
    "        self.net = nn.DataParallel(net)\n",
    "\n",
    "    def forward(\n",
    "        self,\n",
    "        obs: np.ndarray | torch.Tensor,\n",
    "        *args: Any,\n",
    "        **kwargs: Any,\n",
    "    ) -> tuple[Any, Any]:\n",
    "        if not isinstance(obs, torch.Tensor):\n",
    "            obs = torch.as_tensor(obs, dtype=torch.float32)\n",
    "        return self.net(obs=obs.cuda(), *args, **kwargs)  # noqa: B026\n",
    "\n",
    "\n",
    "class EnsembleLinear(nn.Module):\n",
    "    \"\"\"Linear Layer of Ensemble network.\n",
    "\n",
    "    :param ensemble_size: Number of subnets in the ensemble.\n",
    "    :param in_feature: dimension of the input vector.\n",
    "    :param out_feature: dimension of the output vector.\n",
    "    :param bias: whether to include an additive bias, default to be True.\n",
    "    \"\"\"\n",
    "\n",
    "    def __init__(\n",
    "        self,\n",
    "        ensemble_size: int,\n",
    "        in_feature: int,\n",
    "        out_feature: int,\n",
    "        bias: bool = True,\n",
    "    ) -> None:\n",
    "        super().__init__()\n",
    "\n",
    "        # To be consistent with PyTorch default initializer\n",
    "        k = np.sqrt(1.0 / in_feature)\n",
    "        weight_data = torch.rand((ensemble_size, in_feature, out_feature)) * 2 * k - k\n",
    "        self.weight = nn.Parameter(weight_data, requires_grad=True)\n",
    "\n",
    "        self.bias_weights: nn.Parameter | None = None\n",
    "        if bias:\n",
    "            bias_data = torch.rand((ensemble_size, 1, out_feature)) * 2 * k - k\n",
    "            self.bias_weights = nn.Parameter(bias_data, requires_grad=True)\n",
    "\n",
    "    def forward(self, x: torch.Tensor) -> torch.Tensor:\n",
    "        x = torch.matmul(x, self.weight)\n",
    "        if self.bias_weights is not None:\n",
    "            x = x + self.bias_weights\n",
    "        return x\n",
    "\n",
    "\n",
    "# TODO: fix docstring\n",
    "class BranchingNet(NetBase[Any]):\n",
    "    \"\"\"Branching dual Q network.\n",
    "\n",
    "    Network for the BranchingDQNPolicy, it uses a common network module, a value module\n",
    "    and action \"branches\" one for each dimension.It allows for a linear scaling\n",
    "    of Q-value the output w.r.t. the number of dimensions in the action space.\n",
    "    For more info please refer to: arXiv:1711.08946.\n",
    "    :param state_shape: int or a sequence of int of the shape of state.\n",
    "    :param action_shape: int or a sequence of int of the shape of action.\n",
    "    :param action_peer_branch: int or a sequence of int of the number of actions in\n",
    "    each dimension.\n",
    "    :param common_hidden_sizes: shape of the common MLP network passed in as a list.\n",
    "    :param value_hidden_sizes: shape of the value MLP network passed in as a list.\n",
    "    :param action_hidden_sizes: shape of the action MLP network passed in as a list.\n",
    "    :param norm_layer: use which normalization before activation, e.g.,\n",
    "    ``nn.LayerNorm`` and ``nn.BatchNorm1d``. Default to no normalization.\n",
    "    You can also pass a list of normalization modules with the same length\n",
    "    of hidden_sizes, to use different normalization module in different\n",
    "    layers. Default to no normalization.\n",
    "    :param activation: which activation to use after each layer, can be both\n",
    "    the same activation for all layers if passed in nn.Module, or different\n",
    "    activation for different Modules if passed in a list. Default to\n",
    "    nn.ReLU.\n",
    "    :param device: specify the device when the network actually runs. Default\n",
    "    to \"cpu\".\n",
    "    :param softmax: whether to apply a softmax layer over the last layer's\n",
    "    output.\n",
    "    \"\"\"\n",
    "\n",
    "    def __init__(\n",
    "        self,\n",
    "        state_shape: int | Sequence[int],\n",
    "        num_branches: int = 0,\n",
    "        action_per_branch: int = 2,\n",
    "        common_hidden_sizes: list[int] | None = None,\n",
    "        value_hidden_sizes: list[int] | None = None,\n",
    "        action_hidden_sizes: list[int] | None = None,\n",
    "        norm_layer: ModuleType | None = None,\n",
    "        norm_args: ArgsType | None = None,\n",
    "        activation: ModuleType | None = nn.ReLU,\n",
    "        act_args: ArgsType | None = None,\n",
    "        device: str | int | torch.device = \"cpu\",\n",
    "    ) -> None:\n",
    "        super().__init__()\n",
    "        common_hidden_sizes = common_hidden_sizes or []\n",
    "        value_hidden_sizes = value_hidden_sizes or []\n",
    "        action_hidden_sizes = action_hidden_sizes or []\n",
    "\n",
    "        self.device = device\n",
    "        self.num_branches = num_branches\n",
    "        self.action_per_branch = action_per_branch\n",
    "        # common network\n",
    "        common_input_dim = int(np.prod(state_shape))\n",
    "        common_output_dim = 0\n",
    "        self.common = MLP(\n",
    "            common_input_dim,\n",
    "            common_output_dim,\n",
    "            common_hidden_sizes,\n",
    "            norm_layer,\n",
    "            norm_args,\n",
    "            activation,\n",
    "            act_args,\n",
    "            device,\n",
    "        )\n",
    "        # value network\n",
    "        value_input_dim = common_hidden_sizes[-1]\n",
    "        value_output_dim = 1\n",
    "        self.value = MLP(\n",
    "            value_input_dim,\n",
    "            value_output_dim,\n",
    "            value_hidden_sizes,\n",
    "            norm_layer,\n",
    "            norm_args,\n",
    "            activation,\n",
    "            act_args,\n",
    "            device,\n",
    "        )\n",
    "        # action branching network\n",
    "        action_input_dim = common_hidden_sizes[-1]\n",
    "        action_output_dim = action_per_branch\n",
    "        self.branches = nn.ModuleList(\n",
    "            [\n",
    "                MLP(\n",
    "                    action_input_dim,\n",
    "                    action_output_dim,\n",
    "                    action_hidden_sizes,\n",
    "                    norm_layer,\n",
    "                    norm_args,\n",
    "                    activation,\n",
    "                    act_args,\n",
    "                    device,\n",
    "                )\n",
    "                for _ in range(self.num_branches)\n",
    "            ],\n",
    "        )\n",
    "\n",
    "    def forward(\n",
    "        self,\n",
    "        obs: np.ndarray | torch.Tensor,\n",
    "        state: Any = None,\n",
    "        info: dict[str, Any] | None = None,\n",
    "    ) -> tuple[torch.Tensor, Any]:\n",
    "        \"\"\"Mapping: obs -> model -> logits.\"\"\"\n",
    "        common_out = self.common(obs)\n",
    "        value_out = self.value(common_out)\n",
    "        value_out = torch.unsqueeze(value_out, 1)\n",
    "        action_out = []\n",
    "        for b in self.branches:\n",
    "            action_out.append(b(common_out))\n",
    "        action_scores = torch.stack(action_out, 1)\n",
    "        action_scores = action_scores - torch.mean(action_scores, 2, keepdim=True)\n",
    "        logits = value_out + action_scores\n",
    "        return logits, state\n",
    "\n",
    "\n",
    "def get_dict_state_decorator(\n",
    "    state_shape: dict[str, int | Sequence[int]],\n",
    "    keys: Sequence[str],\n",
    ") -> tuple[Callable, int]:\n",
    "    \"\"\"A helper function to make Net or equivalent classes (e.g. Actor, Critic) applicable to dict state.\n",
    "\n",
    "    The first return item, ``decorator_fn``, will alter the implementation of forward\n",
    "    function of the given class by preprocessing the observation. The preprocessing is\n",
    "    basically flatten the observation and concatenate them based on the ``keys`` order.\n",
    "    The batch dimension is preserved if presented. The result observation shape will\n",
    "    be equal to ``new_state_shape``, the second return item.\n",
    "\n",
    "    :param state_shape: A dictionary indicating each state's shape\n",
    "    :param keys: A list of state's keys. The flatten observation will be according to\n",
    "        this list order.\n",
    "    :returns: a 2-items tuple ``decorator_fn`` and ``new_state_shape``\n",
    "    \"\"\"\n",
    "    original_shape = state_shape\n",
    "    flat_state_shapes = []\n",
    "    for k in keys:\n",
    "        flat_state_shapes.append(int(np.prod(state_shape[k])))\n",
    "    new_state_shape = sum(flat_state_shapes)\n",
    "\n",
    "    def preprocess_obs(obs: Batch | dict | torch.Tensor | np.ndarray) -> torch.Tensor:\n",
    "        if isinstance(obs, dict) or (isinstance(obs, Batch) and keys[0] in obs):\n",
    "            if original_shape[keys[0]] == obs[keys[0]].shape:\n",
    "                # No batch dim\n",
    "                new_obs = torch.Tensor([obs[k] for k in keys]).flatten()\n",
    "                # new_obs = torch.Tensor([obs[k] for k in keys]).reshape(1, -1)\n",
    "            else:\n",
    "                bsz = obs[keys[0]].shape[0]\n",
    "                new_obs = torch.cat([torch.Tensor(obs[k].reshape(bsz, -1)) for k in keys], dim=1)\n",
    "        else:\n",
    "            new_obs = torch.Tensor(obs)\n",
    "        return new_obs\n",
    "\n",
    "    @no_type_check\n",
    "    def decorator_fn(net_class):\n",
    "        class new_net_class(net_class):\n",
    "            def forward(self, obs: np.ndarray | torch.Tensor, *args, **kwargs) -> Any:\n",
    "                return super().forward(preprocess_obs(obs), *args, **kwargs)\n",
    "\n",
    "        return new_net_class\n",
    "\n",
    "    return decorator_fn, new_state_shape\n",
    "\n",
    "\n",
    "class BaseActor(nn.Module, ABC):\n",
    "    @abstractmethod\n",
    "    def get_preprocess_net(self) -> nn.Module:\n",
    "        pass\n",
    "\n",
    "    @abstractmethod\n",
    "    def get_output_dim(self) -> int:\n",
    "        pass\n",
    "\n",
    "    @abstractmethod\n",
    "    def forward(\n",
    "        self,\n",
    "        obs: np.ndarray | torch.Tensor,\n",
    "        state: Any = None,\n",
    "        info: dict[str, Any] | None = None,\n",
    "    ) -> tuple[Any, Any]:\n",
    "        # TODO: ALGO-REFACTORING. Marked to be addressed as part of Algorithm abstraction.\n",
    "        #  Return type needs to be more specific\n",
    "        pass\n",
    "\n",
    "\n",
    "def getattr_with_matching_alt_value(obj: Any, attr_name: str, alt_value: T | None) -> T:\n",
    "    \"\"\"Gets the given attribute from the given object or takes the alternative value if it is not present.\n",
    "    If both are present, they are required to match.\n",
    "\n",
    "    :param obj: the object from which to obtain the attribute value\n",
    "    :param attr_name: the attribute name\n",
    "    :param alt_value: the alternative value for the case where the attribute is not present, which cannot be None\n",
    "        if the attribute is not present\n",
    "    :return: the value\n",
    "    \"\"\"\n",
    "    v = getattr(obj, attr_name)\n",
    "    if v is not None:\n",
    "        if alt_value is not None and v != alt_value:\n",
    "            raise ValueError(\n",
    "                f\"Attribute '{attr_name}' of {obj} is defined ({v}) but does not match alt. value ({alt_value})\",\n",
    "            )\n",
    "        return v\n",
    "    else:\n",
    "        if alt_value is None:\n",
    "            raise ValueError(\n",
    "                f\"Attribute '{attr_name}' of {obj} is not defined and no fallback given\",\n",
    "            )\n",
    "        return alt_value\n",
    "\n",
    "\n",
    "def get_output_dim(module: nn.Module, alt_value: int | None) -> int:\n",
    "    \"\"\"Retrieves value the `output_dim` attribute of the given module or uses the given alternative value if the attribute is not present.\n",
    "    If both are present, they must match.\n",
    "\n",
    "    :param module: the module\n",
    "    :param alt_value: the alternative value\n",
    "    :return: the value\n",
    "    \"\"\"\n",
    "    return getattr_with_matching_alt_value(module, \"output_dim\", alt_value)\n"
   ]
  },
  {
   "cell_type": "code",
   "execution_count": null,
   "metadata": {},
   "outputs": [],
   "source": [
    "# pgpolicy.py\n",
    "import warnings\n",
    "from collections.abc import Callable\n",
    "from dataclasses import dataclass\n",
    "from typing import Any, Generic, Literal, TypeVar, cast\n",
    "\n",
    "import gymnasium as gym\n",
    "import numpy as np\n",
    "import torch\n",
    "\n",
    "from tianshou.data import (\n",
    "    Batch,\n",
    "    ReplayBuffer,\n",
    "    SequenceSummaryStats,\n",
    "    to_torch,\n",
    "    to_torch_as,\n",
    ")\n",
    "from tianshou.data.batch import BatchProtocol\n",
    "from tianshou.data.types import (\n",
    "    BatchWithReturnsProtocol,\n",
    "    DistBatchProtocol,\n",
    "    ObsBatchProtocol,\n",
    "    RolloutBatchProtocol,\n",
    ")\n",
    "from tianshou.policy import BasePolicy\n",
    "from tianshou.policy.base import TLearningRateScheduler, TrainingStats\n",
    "from tianshou.utils import RunningMeanStd\n",
    "from tianshou.utils.net.continuous import ActorProb\n",
    "from tianshou.utils.net.discrete import Actor\n",
    "\n",
    "# Dimension Naming Convention\n",
    "# B - Batch Size\n",
    "# A - Action\n",
    "# D - Dist input (usually 2, loc and scale)\n",
    "# H - Dimension of hidden, can be None\n",
    "\n",
    "TDistFnContinuous = Callable[\n",
    "    [tuple[torch.Tensor, torch.Tensor]],\n",
    "    torch.distributions.Distribution,\n",
    "]\n",
    "TDistFnDiscrete = Callable[[torch.Tensor], torch.distributions.Categorical]\n",
    "\n",
    "TDistFnDiscrOrCont = TDistFnContinuous | TDistFnDiscrete\n",
    "\n",
    "\n",
    "@dataclass(kw_only=True)\n",
    "class PGTrainingStats(TrainingStats):\n",
    "    loss: SequenceSummaryStats\n",
    "\n",
    "\n",
    "TPGTrainingStats = TypeVar(\"TPGTrainingStats\", bound=PGTrainingStats)\n",
    "\n",
    "\n",
    "class PGPolicy(BasePolicy[TPGTrainingStats], Generic[TPGTrainingStats]):\n",
    "    \"\"\"Implementation of REINFORCE algorithm.\n",
    "\n",
    "    :param actor: the actor network following the rules:\n",
    "        If `self.action_type == \"discrete\"`: (`s_B` ->`action_values_BA`).\n",
    "        If `self.action_type == \"continuous\"`: (`s_B` -> `dist_input_BD`).\n",
    "    :param optim: optimizer for actor network.\n",
    "    :param dist_fn: distribution class for computing the action.\n",
    "        Maps model_output -> distribution. Typically a Gaussian distribution\n",
    "        taking `model_output=mean,std` as input for continuous action spaces,\n",
    "        or a categorical distribution taking `model_output=logits`\n",
    "        for discrete action spaces. Note that as user, you are responsible\n",
    "        for ensuring that the distribution is compatible with the action space.\n",
    "    :param action_space: env's action space.\n",
    "    :param discount_factor: in [0, 1].\n",
    "    :param reward_normalization: if True, will normalize the *returns*\n",
    "        by subtracting the running mean and dividing by the running standard deviation.\n",
    "        Can be detrimental to performance! See TODO in process_fn.\n",
    "    :param deterministic_eval: if True, will use deterministic action (the dist's mode)\n",
    "        instead of stochastic one during evaluation. Does not affect training.\n",
    "    :param observation_space: Env's observation space.\n",
    "    :param action_scaling: if True, scale the action from [-1, 1] to the range\n",
    "        of action_space. Only used if the action_space is continuous.\n",
    "    :param action_bound_method: method to bound action to range [-1, 1].\n",
    "        Only used if the action_space is continuous.\n",
    "    :param lr_scheduler: if not None, will be called in `policy.update()`.\n",
    "\n",
    "    .. seealso::\n",
    "\n",
    "        Please refer to :class:`~tianshou.policy.BasePolicy` for more detailed explanation.\n",
    "    \"\"\"\n",
    "\n",
    "    def __init__(\n",
    "        self,\n",
    "        *,\n",
    "        actor: torch.nn.Module | ActorProb | Actor,\n",
    "        optim: torch.optim.Optimizer,\n",
    "        dist_fn: TDistFnDiscrOrCont,\n",
    "        action_space: gym.Space,\n",
    "        discount_factor: float = 0.99,\n",
    "        # TODO: rename to return_normalization?\n",
    "        reward_normalization: bool = False,\n",
    "        deterministic_eval: bool = False,\n",
    "        observation_space: gym.Space | None = None,\n",
    "        # TODO: why change the default from the base?\n",
    "        action_scaling: bool = True,\n",
    "        action_bound_method: Literal[\"clip\", \"tanh\"] | None = \"clip\",\n",
    "        lr_scheduler: TLearningRateScheduler | None = None,\n",
    "    ) -> None:\n",
    "        super().__init__(\n",
    "            action_space=action_space,\n",
    "            observation_space=observation_space,\n",
    "            action_scaling=action_scaling,\n",
    "            action_bound_method=action_bound_method,\n",
    "            lr_scheduler=lr_scheduler,\n",
    "        )\n",
    "        if action_scaling and not np.isclose(actor.max_action, 1.0):\n",
    "            warnings.warn(\n",
    "                \"action_scaling and action_bound_method are only intended\"\n",
    "                \"to deal with unbounded model action space, but find actor model\"\n",
    "                f\"bound action space with max_action={actor.max_action}.\"\n",
    "                \"Consider using unbounded=True option of the actor model,\"\n",
    "                \"or set action_scaling to False and action_bound_method to None.\",\n",
    "            )\n",
    "        self.actor = actor\n",
    "        self.optim = optim\n",
    "        self.dist_fn = dist_fn\n",
    "        assert 0.0 <= discount_factor <= 1.0, \"discount factor should be in [0, 1]\"\n",
    "        self.gamma = discount_factor\n",
    "        self.rew_norm = reward_normalization\n",
    "        self.ret_rms = RunningMeanStd()\n",
    "        self._eps = 1e-8\n",
    "        self.deterministic_eval = deterministic_eval\n",
    "\n",
    "    def process_fn(\n",
    "        self,\n",
    "        batch: RolloutBatchProtocol,\n",
    "        buffer: ReplayBuffer,\n",
    "        indices: np.ndarray,\n",
    "    ) -> BatchWithReturnsProtocol:\n",
    "        r\"\"\"Compute the discounted returns (Monte Carlo estimates) for each transition.\n",
    "\n",
    "        They are added to the batch under the field `returns`.\n",
    "        Note: this function will modify the input batch!\n",
    "\n",
    "        .. math::\n",
    "            G_t = \\sum_{i=t}^T \\gamma^{i-t}r_i\n",
    "\n",
    "        where :math:`T` is the terminal time step, :math:`\\gamma` is the\n",
    "        discount factor, :math:`\\gamma \\in [0, 1]`.\n",
    "\n",
    "        :param batch: a data batch which contains several episodes of data in\n",
    "            sequential order. Mind that the end of each finished episode of batch\n",
    "            should be marked by done flag, unfinished (or collecting) episodes will be\n",
    "            recognized by buffer.unfinished_index().\n",
    "        :param buffer: the corresponding replay buffer.\n",
    "        :param numpy.ndarray indices: tell batch's location in buffer, batch is equal\n",
    "            to buffer[indices].\n",
    "        \"\"\"\n",
    "        v_s_ = np.full(indices.shape, self.ret_rms.mean)\n",
    "        # gae_lambda = 1.0 means we use Monte Carlo estimate\n",
    "        unnormalized_returns, _ = self.compute_episodic_return(\n",
    "            batch,\n",
    "            buffer,\n",
    "            indices,\n",
    "            v_s_=v_s_,\n",
    "            gamma=self.gamma,\n",
    "            gae_lambda=1.0,\n",
    "        )\n",
    "        # TODO: overridden in A2C, where mean is not subtracted. Subtracting mean\n",
    "        #  can be very detrimental! It also has no theoretical grounding.\n",
    "        #  This should be addressed soon!\n",
    "        if self.rew_norm:\n",
    "            batch.returns = (unnormalized_returns - self.ret_rms.mean) / np.sqrt(\n",
    "                self.ret_rms.var + self._eps,\n",
    "            )\n",
    "            self.ret_rms.update(unnormalized_returns)\n",
    "        else:\n",
    "            batch.returns = unnormalized_returns\n",
    "        batch: BatchWithReturnsProtocol\n",
    "        return batch\n",
    "\n",
    "    def forward(\n",
    "        self,\n",
    "        batch: ObsBatchProtocol,\n",
    "        state: dict | BatchProtocol | np.ndarray | None = None,\n",
    "        **kwargs: Any,\n",
    "    ) -> DistBatchProtocol:\n",
    "        \"\"\"Compute action over the given batch data by applying the actor.\n",
    "\n",
    "        Will sample from the dist_fn, if appropriate.\n",
    "        Returns a new object representing the processed batch data\n",
    "        (contrary to other methods that modify the input batch inplace).\n",
    "\n",
    "        .. seealso::\n",
    "\n",
    "            Please refer to :meth:`~tianshou.policy.BasePolicy.forward` for\n",
    "            more detailed explanation.\n",
    "        \"\"\"\n",
    "        # TODO - ALGO: marked for algorithm refactoring\n",
    "        # print(type(batch))\n",
    "        # print('batch', batch)\n",
    "        # print('batch.obs.obs', batch.obs.obs)\n",
    "        # print('batch.obs.mask', batch.obs.mask)\n",
    "        obs = batch.obs\n",
    "        # TODO: this is convoluted! See also other places where this is done.\n",
    "        obs_next = obs.obs if hasattr(obs, \"obs\") else obs\n",
    "        # action_values_BA, hidden_BH = model(obs_next, state=state, info=batch.info)\n",
    "        action_dist_input_BD, hidden_BH = self.actor(obs_next, state=state, info=batch.info)\n",
    "        # in the case that self.action_type == \"discrete\", the dist should always be Categorical, and D=A\n",
    "        # therefore action_dist_input_BD is equivalent to logits_BA\n",
    "        # If discrete, dist_fn will typically map loc, scale to a distribution (usually a Gaussian)\n",
    "        # the action_dist_input_BD in that case is a tuple of loc_B, scale_B and needs to be unpacked\n",
    "\n",
    "        # print('action_dist_input_BD', action_dist_input_BD)\n",
    "        # print('to_torch_as(batch.obs.mask, logits)', to_torch_as(obs.mask, action_dist_input_BD))\n",
    "        if isinstance(action_dist_input_BD, tuple):\n",
    "\n",
    "            # this is for (mu, sigma) from Normal distribution\n",
    "            dist = self.dist_fn(*action_dist_input_BD)\n",
    "\n",
    "        else:  # categorical distribution\n",
    "        # mask: np.array with shape=(bsz, n_act), dtype=bool, True means available\n",
    "        # logits: torch.Tensor with shape=(bsz, n_act), dtype=torch.float, range=0~1\n",
    "            action_dist_input_BD = to_torch_as(batch.obs.mask, action_dist_input_BD)\n",
    "        dist = self.dist_fn(action_dist_input_BD)\n",
    "        if self.deterministic_eval and not self.training:\n",
    "            act_B = dist.mode\n",
    "        else:\n",
    "            act_B = dist.sample()\n",
    "        # act is of dimension BA in continuous case and of dimension B in discrete\n",
    "        result = Batch(logits=action_dist_input_BD, act=act_B, state=hidden_BH, dist=dist)\n",
    "        return cast(DistBatchProtocol, result)\n",
    "\n",
    "    # TODO: why does mypy complain?\n",
    "    def learn(  # type: ignore\n",
    "        self,\n",
    "        batch: BatchWithReturnsProtocol,\n",
    "        batch_size: int | None,\n",
    "        repeat: int,\n",
    "        *args: Any,\n",
    "        **kwargs: Any,\n",
    "    ) -> TPGTrainingStats:\n",
    "        losses = []\n",
    "        split_batch_size = batch_size or -1\n",
    "        for _ in range(repeat):\n",
    "            for minibatch in batch.split(split_batch_size, merge_last=True):\n",
    "                self.optim.zero_grad()\n",
    "                result = self(minibatch)\n",
    "                dist = result.dist\n",
    "                act = to_torch_as(minibatch.act, result.act)\n",
    "                ret = to_torch(minibatch.returns, torch.float, result.act.device)\n",
    "                log_prob = dist.log_prob(act).reshape(len(ret), -1).transpose(0, 1)\n",
    "                loss = -(log_prob * ret).mean()\n",
    "                loss.backward()\n",
    "                self.optim.step()\n",
    "                losses.append(loss.item())\n",
    "\n",
    "        loss_summary_stat = SequenceSummaryStats.from_sequence(losses)\n",
    "\n",
    "        return PGTrainingStats(loss=loss_summary_stat)  # type: ignore[return-value]"
   ]
  },
  {
   "cell_type": "markdown",
   "metadata": {
    "jp-MarkdownHeadingCollapsed": true
   },
   "source": [
    "### 🦆 Imports"
   ]
  },
  {
   "cell_type": "code",
   "execution_count": 3,
   "metadata": {},
   "outputs": [],
   "source": [
    "from typing import Optional, Tuple\n",
    "from tianshou.env.pettingzoo_env import PettingZooEnv\n",
    "import torch\n",
    "\n",
    "from tianshou.data import Collector, VectorReplayBuffer\n",
    "from tianshou.policy import BasePolicy, MultiAgentPolicyManager, RandomPolicy\n",
    "from tianshou.env import DummyVectorEnv\n",
    "from tianshou.policy import BasePolicy, PPOPolicy\n",
    "from tianshou.trainer import OnpolicyTrainer\n",
    "from tianshou.utils.net.common import ActorCritic, Net\n",
    "from tianshou.utils.net.discrete import Actor, Critic\n",
    "\n",
    "device = \"cuda\" if torch.cuda.is_available() else \"cpu\"\n",
    "NUM_ITERS = 400\n",
    "PLAYS = {\"bastaushy\": 0, \"qostaushy\": 0}"
   ]
  },
  {
   "cell_type": "markdown",
   "metadata": {},
   "source": [
    "### 🐥 Prepare functions"
   ]
  },
  {
   "cell_type": "code",
   "execution_count": 67,
   "metadata": {},
   "outputs": [],
   "source": [
    "def _get_agents(\n",
    "    agent_learn: Optional[BasePolicy] = None,\n",
    "    agent_opponent: Optional[BasePolicy] = None,\n",
    "    optim: Optional[torch.optim.Optimizer] = None,\n",
    ") -> Tuple[BasePolicy, torch.optim.Optimizer, list]:\n",
    "    env = _get_env()\n",
    "    observation_space = (\n",
    "        env.observation_space[\"observation\"]\n",
    "        if isinstance(env.observation_space, gymnasium.spaces.Dict)\n",
    "        else env.observation_space\n",
    "    )\n",
    "    assert env.observation_space[\"observation\"].shape is not None  # for mypy\n",
    "    assert isinstance(env.action_space, gymnasium.spaces.Discrete)\n",
    "    if agent_learn is None:\n",
    "        # model\n",
    "        net = Net(state_shape=observation_space.shape, hidden_sizes=[128, 256, 256, 128], device=device).to(device)\n",
    "        actor = Actor(preprocess_net=net, action_shape=env.action_space.shape, device=device).to(device)\n",
    "        critic = Critic(preprocess_net=net, device=device).to(device)\n",
    "        actor_critic = ActorCritic(actor=actor, critic=critic)\n",
    "\n",
    "        # optimizer of the actor and the critic\n",
    "        if optim is None:\n",
    "            optim = torch.optim.Adam(actor_critic.parameters(), lr=0.0003)\n",
    "        agent_learn: PPOPolicy = PPOPolicy(\n",
    "            actor=actor,\n",
    "            critic=critic,\n",
    "            optim=optim,\n",
    "            dist_fn=torch.distributions.Categorical,\n",
    "            action_space=env.action_space,\n",
    "            deterministic_eval=True,\n",
    "            action_scaling=False,\n",
    "        )\n",
    "\n",
    "    if agent_opponent is None:\n",
    "        agent_opponent = RandomPolicy(action_space=env.action_space)\n",
    "\n",
    "    agents = [agent_opponent, agent_learn]\n",
    "    #agents = [agent_learn, agent_opponent]\n",
    "    policy = MultiAgentPolicyManager(policies=agents, env=env)\n",
    "    return policy, optim, env.agents\n",
    "\n",
    "\n",
    "def _get_env():\n",
    "    \"\"\"This function is needed to provide callables for DummyVectorEnv.\"\"\"\n",
    "    return PettingZooEnv(env())"
   ]
  },
  {
   "cell_type": "markdown",
   "metadata": {},
   "source": [
    "### 🐸 Training code"
   ]
  },
  {
   "cell_type": "code",
   "execution_count": 68,
   "metadata": {},
   "outputs": [
    {
     "name": "stderr",
     "output_type": "stream",
     "text": [
      "Epoch #1: 50001it [00:21, 2352.92it/s, env_step=50000, gradient_step=200, len=192, n/ep=14, n/st=2000, rew=10251.79]                            \n"
     ]
    },
    {
     "name": "stdout",
     "output_type": "stream",
     "text": [
      "Epoch #1: test_reward: 5326.200000 ± 4119.836934, best_reward: 5572.000000 ± 3150.819322 in #0\n"
     ]
    },
    {
     "name": "stderr",
     "output_type": "stream",
     "text": [
      "Epoch #2: 50001it [00:23, 2165.75it/s, env_step=100000, gradient_step=400, len=163, n/ep=14, n/st=2000, rew=8485.25]                            \n"
     ]
    },
    {
     "name": "stdout",
     "output_type": "stream",
     "text": [
      "Epoch #2: test_reward: 4131.600000 ± 3282.587004, best_reward: 5572.000000 ± 3150.819322 in #0\n"
     ]
    },
    {
     "name": "stderr",
     "output_type": "stream",
     "text": [
      "Epoch #3: 50001it [00:22, 2220.85it/s, env_step=150000, gradient_step=600, len=144, n/ep=11, n/st=2000, rew=7083.59]                            \n"
     ]
    },
    {
     "name": "stdout",
     "output_type": "stream",
     "text": [
      "Epoch #3: test_reward: 5586.000000 ± 3230.172255, best_reward: 5586.000000 ± 3230.172255 in #3\n"
     ]
    },
    {
     "name": "stderr",
     "output_type": "stream",
     "text": [
      "Epoch #4: 50001it [00:20, 2468.04it/s, env_step=200000, gradient_step=800, len=141, n/ep=11, n/st=2000, rew=7083.77]                            \n"
     ]
    },
    {
     "name": "stdout",
     "output_type": "stream",
     "text": [
      "Epoch #4: test_reward: 4204.000000 ± 2408.019933, best_reward: 5586.000000 ± 3230.172255 in #3\n"
     ]
    },
    {
     "name": "stderr",
     "output_type": "stream",
     "text": [
      "Epoch #5: 50001it [00:19, 2551.85it/s, env_step=250000, gradient_step=1000, len=137, n/ep=14, n/st=2000, rew=6835.57]                           \n"
     ]
    },
    {
     "name": "stdout",
     "output_type": "stream",
     "text": [
      "Epoch #5: test_reward: 5098.800000 ± 4635.544171, best_reward: 5586.000000 ± 3230.172255 in #3\n"
     ]
    },
    {
     "name": "stderr",
     "output_type": "stream",
     "text": [
      "Epoch #6: 50001it [00:19, 2510.60it/s, env_step=300000, gradient_step=1200, len=183, n/ep=16, n/st=2000, rew=9730.31]                           \n"
     ]
    },
    {
     "name": "stdout",
     "output_type": "stream",
     "text": [
      "Epoch #6: test_reward: 4358.200000 ± 3324.836652, best_reward: 5586.000000 ± 3230.172255 in #3\n"
     ]
    },
    {
     "name": "stderr",
     "output_type": "stream",
     "text": [
      "Epoch #7: 50001it [00:20, 2469.95it/s, env_step=350000, gradient_step=1400, len=183, n/ep=10, n/st=2000, rew=9454.10]                           \n"
     ]
    },
    {
     "name": "stdout",
     "output_type": "stream",
     "text": [
      "Epoch #7: test_reward: 5757.000000 ± 3577.310750, best_reward: 5757.000000 ± 3577.310750 in #7\n"
     ]
    },
    {
     "name": "stderr",
     "output_type": "stream",
     "text": [
      "Epoch #8: 50001it [00:20, 2414.89it/s, env_step=400000, gradient_step=1600, len=176, n/ep=13, n/st=2000, rew=8995.08]                           \n"
     ]
    },
    {
     "name": "stdout",
     "output_type": "stream",
     "text": [
      "Epoch #8: test_reward: 6098.200000 ± 4260.609670, best_reward: 6098.200000 ± 4260.609670 in #8\n"
     ]
    },
    {
     "name": "stderr",
     "output_type": "stream",
     "text": [
      "Epoch #9: 50001it [00:17, 2862.55it/s, env_step=450000, gradient_step=1800, len=156, n/ep=14, n/st=2000, rew=7924.71]                           \n"
     ]
    },
    {
     "name": "stdout",
     "output_type": "stream",
     "text": [
      "Epoch #9: test_reward: 4496.200000 ± 3081.464386, best_reward: 6098.200000 ± 4260.609670 in #8\n"
     ]
    },
    {
     "name": "stderr",
     "output_type": "stream",
     "text": [
      "Epoch #10: 50001it [00:19, 2569.37it/s, env_step=500000, gradient_step=2000, len=149, n/ep=11, n/st=2000, rew=7709.68]                          \n"
     ]
    },
    {
     "name": "stdout",
     "output_type": "stream",
     "text": [
      "Epoch #10: test_reward: 6602.500000 ± 4518.199359, best_reward: 6602.500000 ± 4518.199359 in #10\n"
     ]
    },
    {
     "name": "stderr",
     "output_type": "stream",
     "text": [
      "Epoch #11: 50001it [00:17, 2783.69it/s, env_step=550000, gradient_step=2200, len=180, n/ep=12, n/st=2000, rew=9105.67]                          \n"
     ]
    },
    {
     "name": "stdout",
     "output_type": "stream",
     "text": [
      "Epoch #11: test_reward: 3592.400000 ± 2351.290675, best_reward: 6602.500000 ± 4518.199359 in #10\n"
     ]
    },
    {
     "name": "stderr",
     "output_type": "stream",
     "text": [
      "Epoch #12: 50001it [00:19, 2629.72it/s, env_step=600000, gradient_step=2400, len=186, n/ep=17, n/st=2000, rew=9543.65]                          \n"
     ]
    },
    {
     "name": "stdout",
     "output_type": "stream",
     "text": [
      "Epoch #12: test_reward: 4511.200000 ± 2234.224734, best_reward: 6602.500000 ± 4518.199359 in #10\n"
     ]
    },
    {
     "name": "stderr",
     "output_type": "stream",
     "text": [
      "Epoch #13: 50001it [00:18, 2659.34it/s, env_step=650000, gradient_step=2600, len=152, n/ep=10, n/st=2000, rew=7499.35]                          \n"
     ]
    },
    {
     "name": "stdout",
     "output_type": "stream",
     "text": [
      "Epoch #13: test_reward: 2609.200000 ± 887.379152, best_reward: 6602.500000 ± 4518.199359 in #10\n"
     ]
    },
    {
     "name": "stderr",
     "output_type": "stream",
     "text": [
      "Epoch #14: 50001it [00:20, 2443.70it/s, env_step=700000, gradient_step=2800, len=171, n/ep=16, n/st=2000, rew=9055.66]                          \n"
     ]
    },
    {
     "name": "stdout",
     "output_type": "stream",
     "text": [
      "Epoch #14: test_reward: 4877.800000 ± 3549.715420, best_reward: 6602.500000 ± 4518.199359 in #10\n"
     ]
    },
    {
     "name": "stderr",
     "output_type": "stream",
     "text": [
      "Epoch #15: 50001it [00:19, 2546.54it/s, env_step=750000, gradient_step=3000, len=154, n/ep=17, n/st=2000, rew=7804.38]                          \n"
     ]
    },
    {
     "name": "stdout",
     "output_type": "stream",
     "text": [
      "Epoch #15: test_reward: 3852.800000 ± 2870.296737, best_reward: 6602.500000 ± 4518.199359 in #10\n"
     ]
    },
    {
     "name": "stderr",
     "output_type": "stream",
     "text": [
      "Epoch #16: 50001it [00:19, 2629.95it/s, env_step=800000, gradient_step=3200, len=170, n/ep=15, n/st=2000, rew=8896.10]                          \n"
     ]
    },
    {
     "name": "stdout",
     "output_type": "stream",
     "text": [
      "Epoch #16: test_reward: 4611.800000 ± 2678.213352, best_reward: 6602.500000 ± 4518.199359 in #10\n"
     ]
    },
    {
     "name": "stderr",
     "output_type": "stream",
     "text": [
      "Epoch #17: 50001it [00:18, 2727.96it/s, env_step=850000, gradient_step=3400, len=139, n/ep=11, n/st=2000, rew=6684.50]                          \n"
     ]
    },
    {
     "name": "stdout",
     "output_type": "stream",
     "text": [
      "Epoch #17: test_reward: 3369.800000 ± 1696.818541, best_reward: 6602.500000 ± 4518.199359 in #10\n"
     ]
    },
    {
     "name": "stderr",
     "output_type": "stream",
     "text": [
      "Epoch #18: 50001it [00:19, 2628.89it/s, env_step=900000, gradient_step=3600, len=116, n/ep=6, n/st=2000, rew=5218.00]                           \n"
     ]
    },
    {
     "name": "stdout",
     "output_type": "stream",
     "text": [
      "Epoch #18: test_reward: 4780.800000 ± 2903.210113, best_reward: 6602.500000 ± 4518.199359 in #10\n"
     ]
    },
    {
     "name": "stderr",
     "output_type": "stream",
     "text": [
      "Epoch #19: 50001it [00:19, 2602.10it/s, env_step=950000, gradient_step=3800, len=158, n/ep=8, n/st=2000, rew=8117.75]                           \n"
     ]
    },
    {
     "name": "stdout",
     "output_type": "stream",
     "text": [
      "Epoch #19: test_reward: 4059.800000 ± 1350.193897, best_reward: 6602.500000 ± 4518.199359 in #10\n"
     ]
    },
    {
     "name": "stderr",
     "output_type": "stream",
     "text": [
      "Epoch #20: 50001it [00:18, 2659.47it/s, env_step=1000000, gradient_step=4000, len=177, n/ep=16, n/st=2000, rew=9345.25]                         \n"
     ]
    },
    {
     "name": "stdout",
     "output_type": "stream",
     "text": [
      "Epoch #20: test_reward: 2745.200000 ± 2169.040931, best_reward: 6602.500000 ± 4518.199359 in #10\n"
     ]
    },
    {
     "name": "stderr",
     "output_type": "stream",
     "text": [
      "Epoch #21: 50001it [00:19, 2613.66it/s, env_step=1050000, gradient_step=4200, len=196, n/ep=11, n/st=2000, rew=10159.68]                        \n"
     ]
    },
    {
     "name": "stdout",
     "output_type": "stream",
     "text": [
      "Epoch #21: test_reward: 3393.200000 ± 1798.118839, best_reward: 6602.500000 ± 4518.199359 in #10\n"
     ]
    },
    {
     "name": "stderr",
     "output_type": "stream",
     "text": [
      "Epoch #22: 50001it [00:18, 2774.77it/s, env_step=1100000, gradient_step=4400, len=177, n/ep=12, n/st=2000, rew=8973.88]                         \n"
     ]
    },
    {
     "name": "stdout",
     "output_type": "stream",
     "text": [
      "Epoch #22: test_reward: 3774.800000 ± 1912.079747, best_reward: 6602.500000 ± 4518.199359 in #10\n"
     ]
    },
    {
     "name": "stderr",
     "output_type": "stream",
     "text": [
      "Epoch #23: 50001it [00:19, 2590.21it/s, env_step=1150000, gradient_step=4600, len=142, n/ep=9, n/st=2000, rew=6789.22]                          \n"
     ]
    },
    {
     "name": "stdout",
     "output_type": "stream",
     "text": [
      "Epoch #23: test_reward: 5076.400000 ± 3637.774023, best_reward: 6602.500000 ± 4518.199359 in #10\n"
     ]
    },
    {
     "name": "stderr",
     "output_type": "stream",
     "text": [
      "Epoch #24: 50001it [00:19, 2593.75it/s, env_step=1200000, gradient_step=4800, len=150, n/ep=13, n/st=2000, rew=7813.50]                         \n"
     ]
    },
    {
     "name": "stdout",
     "output_type": "stream",
     "text": [
      "Epoch #24: test_reward: 3706.200000 ± 1130.051486, best_reward: 6602.500000 ± 4518.199359 in #10\n"
     ]
    },
    {
     "name": "stderr",
     "output_type": "stream",
     "text": [
      "Epoch #25: 50001it [00:18, 2770.69it/s, env_step=1250000, gradient_step=5000, len=169, n/ep=15, n/st=2000, rew=8860.13]                         \n"
     ]
    },
    {
     "name": "stdout",
     "output_type": "stream",
     "text": [
      "Epoch #25: test_reward: 3112.800000 ± 2793.697936, best_reward: 6602.500000 ± 4518.199359 in #10\n"
     ]
    },
    {
     "name": "stderr",
     "output_type": "stream",
     "text": [
      "Epoch #26: 50001it [00:19, 2585.72it/s, env_step=1300000, gradient_step=5200, len=159, n/ep=14, n/st=2000, rew=8011.89]                         \n"
     ]
    },
    {
     "name": "stdout",
     "output_type": "stream",
     "text": [
      "Epoch #26: test_reward: 3768.200000 ± 1888.206228, best_reward: 6602.500000 ± 4518.199359 in #10\n"
     ]
    },
    {
     "name": "stderr",
     "output_type": "stream",
     "text": [
      "Epoch #27: 50001it [00:19, 2592.54it/s, env_step=1350000, gradient_step=5400, len=193, n/ep=9, n/st=2000, rew=10182.78]                         \n"
     ]
    },
    {
     "name": "stdout",
     "output_type": "stream",
     "text": [
      "Epoch #27: test_reward: 3174.800000 ± 1242.355247, best_reward: 6602.500000 ± 4518.199359 in #10\n"
     ]
    },
    {
     "name": "stderr",
     "output_type": "stream",
     "text": [
      "Epoch #28: 50001it [00:18, 2699.85it/s, env_step=1400000, gradient_step=5600, len=201, n/ep=11, n/st=2000, rew=10718.73]                        \n"
     ]
    },
    {
     "name": "stdout",
     "output_type": "stream",
     "text": [
      "Epoch #28: test_reward: 4321.200000 ± 2832.275156, best_reward: 6602.500000 ± 4518.199359 in #10\n"
     ]
    },
    {
     "name": "stderr",
     "output_type": "stream",
     "text": [
      "Epoch #29: 50001it [00:18, 2701.37it/s, env_step=1450000, gradient_step=5800, len=130, n/ep=14, n/st=2000, rew=6549.61]                         \n"
     ]
    },
    {
     "name": "stdout",
     "output_type": "stream",
     "text": [
      "Epoch #29: test_reward: 4474.800000 ± 4186.136854, best_reward: 6602.500000 ± 4518.199359 in #10\n"
     ]
    },
    {
     "name": "stderr",
     "output_type": "stream",
     "text": [
      "Epoch #30: 50001it [00:19, 2584.78it/s, env_step=1500000, gradient_step=6000, len=189, n/ep=14, n/st=2000, rew=9697.04]                         \n"
     ]
    },
    {
     "name": "stdout",
     "output_type": "stream",
     "text": [
      "Epoch #30: test_reward: 6022.200000 ± 3815.354605, best_reward: 6602.500000 ± 4518.199359 in #10\n"
     ]
    },
    {
     "name": "stderr",
     "output_type": "stream",
     "text": [
      "Epoch #31: 50001it [00:19, 2501.03it/s, env_step=1550000, gradient_step=6200, len=164, n/ep=13, n/st=2000, rew=8628.27]                         \n"
     ]
    },
    {
     "name": "stdout",
     "output_type": "stream",
     "text": [
      "Epoch #31: test_reward: 4164.200000 ± 2425.888448, best_reward: 6602.500000 ± 4518.199359 in #10\n"
     ]
    },
    {
     "name": "stderr",
     "output_type": "stream",
     "text": [
      "Epoch #32: 50001it [00:19, 2525.01it/s, env_step=1600000, gradient_step=6400, len=148, n/ep=10, n/st=2000, rew=7309.15]                         \n"
     ]
    },
    {
     "name": "stdout",
     "output_type": "stream",
     "text": [
      "Epoch #32: test_reward: 4856.000000 ± 2788.553890, best_reward: 6602.500000 ± 4518.199359 in #10\n"
     ]
    },
    {
     "name": "stderr",
     "output_type": "stream",
     "text": [
      "Epoch #33: 50001it [00:20, 2477.69it/s, env_step=1650000, gradient_step=6600, len=143, n/ep=11, n/st=2000, rew=7114.50]                         \n"
     ]
    },
    {
     "name": "stdout",
     "output_type": "stream",
     "text": [
      "Epoch #33: test_reward: 5252.000000 ± 2685.595800, best_reward: 6602.500000 ± 4518.199359 in #10\n"
     ]
    },
    {
     "name": "stderr",
     "output_type": "stream",
     "text": [
      "Epoch #34: 50001it [00:19, 2591.54it/s, env_step=1700000, gradient_step=6800, len=166, n/ep=14, n/st=2000, rew=8756.82]                         \n"
     ]
    },
    {
     "name": "stdout",
     "output_type": "stream",
     "text": [
      "Epoch #34: test_reward: 6460.600000 ± 3876.872662, best_reward: 6602.500000 ± 4518.199359 in #10\n"
     ]
    },
    {
     "name": "stderr",
     "output_type": "stream",
     "text": [
      "Epoch #35: 50001it [00:20, 2395.63it/s, env_step=1750000, gradient_step=7000, len=169, n/ep=17, n/st=2000, rew=8533.94]                         \n"
     ]
    },
    {
     "name": "stdout",
     "output_type": "stream",
     "text": [
      "Epoch #35: test_reward: 3292.000000 ± 1212.639105, best_reward: 6602.500000 ± 4518.199359 in #10\n"
     ]
    },
    {
     "name": "stderr",
     "output_type": "stream",
     "text": [
      "Epoch #36: 50001it [00:20, 2469.25it/s, env_step=1800000, gradient_step=7200, len=128, n/ep=10, n/st=2000, rew=6587.90]                         \n"
     ]
    },
    {
     "name": "stdout",
     "output_type": "stream",
     "text": [
      "Epoch #36: test_reward: 4945.200000 ± 3049.082249, best_reward: 6602.500000 ± 4518.199359 in #10\n"
     ]
    },
    {
     "name": "stderr",
     "output_type": "stream",
     "text": [
      "Epoch #37: 50001it [00:19, 2629.92it/s, env_step=1850000, gradient_step=7400, len=189, n/ep=12, n/st=2000, rew=10433.12]                        \n"
     ]
    },
    {
     "name": "stdout",
     "output_type": "stream",
     "text": [
      "Epoch #37: test_reward: 4568.200000 ± 2871.068435, best_reward: 6602.500000 ± 4518.199359 in #10\n"
     ]
    },
    {
     "name": "stderr",
     "output_type": "stream",
     "text": [
      "Epoch #38: 50001it [00:18, 2670.91it/s, env_step=1900000, gradient_step=7600, len=148, n/ep=10, n/st=2000, rew=7115.85]                         \n"
     ]
    },
    {
     "name": "stdout",
     "output_type": "stream",
     "text": [
      "Epoch #38: test_reward: 5214.400000 ± 2458.259677, best_reward: 6602.500000 ± 4518.199359 in #10\n"
     ]
    },
    {
     "name": "stderr",
     "output_type": "stream",
     "text": [
      "Epoch #39: 50001it [00:19, 2576.33it/s, env_step=1950000, gradient_step=7800, len=133, n/ep=10, n/st=2000, rew=6608.25]                         \n"
     ]
    },
    {
     "name": "stdout",
     "output_type": "stream",
     "text": [
      "Epoch #39: test_reward: 5086.000000 ± 1937.245674, best_reward: 6602.500000 ± 4518.199359 in #10\n"
     ]
    },
    {
     "name": "stderr",
     "output_type": "stream",
     "text": [
      "Epoch #40: 50001it [00:20, 2429.73it/s, env_step=2000000, gradient_step=8000, len=167, n/ep=16, n/st=2000, rew=9151.50]                         \n"
     ]
    },
    {
     "name": "stdout",
     "output_type": "stream",
     "text": [
      "Epoch #40: test_reward: 3670.400000 ± 1516.454760, best_reward: 6602.500000 ± 4518.199359 in #10\n"
     ]
    },
    {
     "name": "stderr",
     "output_type": "stream",
     "text": [
      "Epoch #41: 50001it [00:20, 2445.77it/s, env_step=2050000, gradient_step=8200, len=147, n/ep=17, n/st=2000, rew=7385.62]                         \n"
     ]
    },
    {
     "name": "stdout",
     "output_type": "stream",
     "text": [
      "Epoch #41: test_reward: 3598.600000 ± 2151.073230, best_reward: 6602.500000 ± 4518.199359 in #10\n"
     ]
    },
    {
     "name": "stderr",
     "output_type": "stream",
     "text": [
      "Epoch #42: 50001it [00:19, 2514.32it/s, env_step=2100000, gradient_step=8400, len=149, n/ep=9, n/st=2000, rew=7409.83]                          \n"
     ]
    },
    {
     "name": "stdout",
     "output_type": "stream",
     "text": [
      "Epoch #42: test_reward: 5013.200000 ± 3670.029667, best_reward: 6602.500000 ± 4518.199359 in #10\n"
     ]
    },
    {
     "name": "stderr",
     "output_type": "stream",
     "text": [
      "Epoch #43: 50001it [00:19, 2523.44it/s, env_step=2150000, gradient_step=8600, len=170, n/ep=12, n/st=2000, rew=8701.25]                         \n"
     ]
    },
    {
     "name": "stdout",
     "output_type": "stream",
     "text": [
      "Epoch #43: test_reward: 6328.000000 ± 4468.991743, best_reward: 6602.500000 ± 4518.199359 in #10\n"
     ]
    },
    {
     "name": "stderr",
     "output_type": "stream",
     "text": [
      "Epoch #44: 50001it [00:20, 2445.61it/s, env_step=2200000, gradient_step=8800, len=168, n/ep=12, n/st=2000, rew=8545.83]                         \n"
     ]
    },
    {
     "name": "stdout",
     "output_type": "stream",
     "text": [
      "Epoch #44: test_reward: 2319.000000 ± 2618.034263, best_reward: 6602.500000 ± 4518.199359 in #10\n"
     ]
    },
    {
     "name": "stderr",
     "output_type": "stream",
     "text": [
      "Epoch #45: 50001it [00:19, 2536.27it/s, env_step=2250000, gradient_step=9000, len=152, n/ep=16, n/st=2000, rew=7485.56]                         \n"
     ]
    },
    {
     "name": "stdout",
     "output_type": "stream",
     "text": [
      "Epoch #45: test_reward: 3732.400000 ± 2543.545211, best_reward: 6602.500000 ± 4518.199359 in #10\n"
     ]
    },
    {
     "name": "stderr",
     "output_type": "stream",
     "text": [
      "Epoch #46: 50001it [00:19, 2529.46it/s, env_step=2300000, gradient_step=9200, len=165, n/ep=12, n/st=2000, rew=8536.42]                         \n"
     ]
    },
    {
     "name": "stdout",
     "output_type": "stream",
     "text": [
      "Epoch #46: test_reward: 4376.400000 ± 2614.282586, best_reward: 6602.500000 ± 4518.199359 in #10\n"
     ]
    },
    {
     "name": "stderr",
     "output_type": "stream",
     "text": [
      "Epoch #47: 50001it [00:20, 2487.14it/s, env_step=2350000, gradient_step=9400, len=136, n/ep=14, n/st=2000, rew=6549.39]                         \n"
     ]
    },
    {
     "name": "stdout",
     "output_type": "stream",
     "text": [
      "Epoch #47: test_reward: 4850.800000 ± 2671.903322, best_reward: 6602.500000 ± 4518.199359 in #10\n"
     ]
    },
    {
     "name": "stderr",
     "output_type": "stream",
     "text": [
      "Epoch #48: 50001it [00:19, 2575.07it/s, env_step=2400000, gradient_step=9600, len=164, n/ep=17, n/st=2000, rew=7907.59]                         \n"
     ]
    },
    {
     "name": "stdout",
     "output_type": "stream",
     "text": [
      "Epoch #48: test_reward: 4584.800000 ± 3036.019657, best_reward: 6602.500000 ± 4518.199359 in #10\n"
     ]
    },
    {
     "name": "stderr",
     "output_type": "stream",
     "text": [
      "Epoch #49: 50001it [00:20, 2498.61it/s, env_step=2450000, gradient_step=9800, len=181, n/ep=14, n/st=2000, rew=9660.61]                         \n"
     ]
    },
    {
     "name": "stdout",
     "output_type": "stream",
     "text": [
      "Epoch #49: test_reward: 3338.400000 ± 1821.017035, best_reward: 6602.500000 ± 4518.199359 in #10\n"
     ]
    },
    {
     "name": "stderr",
     "output_type": "stream",
     "text": [
      "Epoch #50: 50001it [00:19, 2605.42it/s, env_step=2500000, gradient_step=10000, len=176, n/ep=11, n/st=2000, rew=9237.73]                        \n"
     ]
    },
    {
     "name": "stdout",
     "output_type": "stream",
     "text": [
      "Epoch #50: test_reward: 4193.800000 ± 2672.109347, best_reward: 6602.500000 ± 4518.199359 in #10\n"
     ]
    },
    {
     "name": "stderr",
     "output_type": "stream",
     "text": [
      "Epoch #51: 50001it [00:19, 2623.53it/s, env_step=2550000, gradient_step=10200, len=172, n/ep=14, n/st=2000, rew=8769.71]                        \n"
     ]
    },
    {
     "name": "stdout",
     "output_type": "stream",
     "text": [
      "Epoch #51: test_reward: 3710.400000 ± 2025.099859, best_reward: 6602.500000 ± 4518.199359 in #10\n"
     ]
    },
    {
     "name": "stderr",
     "output_type": "stream",
     "text": [
      "Epoch #52: 50001it [00:19, 2577.53it/s, env_step=2600000, gradient_step=10400, len=113, n/ep=12, n/st=2000, rew=5238.88]                        \n"
     ]
    },
    {
     "name": "stdout",
     "output_type": "stream",
     "text": [
      "Epoch #52: test_reward: 4558.000000 ± 2206.235527, best_reward: 6602.500000 ± 4518.199359 in #10\n"
     ]
    },
    {
     "name": "stderr",
     "output_type": "stream",
     "text": [
      "Epoch #53: 50001it [00:18, 2640.78it/s, env_step=2650000, gradient_step=10600, len=164, n/ep=14, n/st=2000, rew=8170.54]                        \n"
     ]
    },
    {
     "name": "stdout",
     "output_type": "stream",
     "text": [
      "Epoch #53: test_reward: 5211.200000 ± 1880.252792, best_reward: 6602.500000 ± 4518.199359 in #10\n"
     ]
    },
    {
     "name": "stderr",
     "output_type": "stream",
     "text": [
      "Epoch #54: 50001it [00:19, 2606.99it/s, env_step=2700000, gradient_step=10800, len=145, n/ep=8, n/st=2000, rew=6741.12]                         \n"
     ]
    },
    {
     "name": "stdout",
     "output_type": "stream",
     "text": [
      "Epoch #54: test_reward: 6237.200000 ± 4673.507479, best_reward: 6602.500000 ± 4518.199359 in #10\n"
     ]
    },
    {
     "name": "stderr",
     "output_type": "stream",
     "text": [
      "Epoch #55: 50001it [00:19, 2607.36it/s, env_step=2750000, gradient_step=11000, len=119, n/ep=5, n/st=2000, rew=5784.90]                         \n"
     ]
    },
    {
     "name": "stdout",
     "output_type": "stream",
     "text": [
      "Epoch #55: test_reward: 4586.200000 ± 2905.288757, best_reward: 6602.500000 ± 4518.199359 in #10\n"
     ]
    },
    {
     "name": "stderr",
     "output_type": "stream",
     "text": [
      "Epoch #56: 50001it [00:19, 2606.41it/s, env_step=2800000, gradient_step=11200, len=119, n/ep=10, n/st=2000, rew=5592.60]                        \n"
     ]
    },
    {
     "name": "stdout",
     "output_type": "stream",
     "text": [
      "Epoch #56: test_reward: 4481.400000 ± 1730.077004, best_reward: 6602.500000 ± 4518.199359 in #10\n"
     ]
    },
    {
     "name": "stderr",
     "output_type": "stream",
     "text": [
      "Epoch #57: 50001it [00:19, 2573.82it/s, env_step=2850000, gradient_step=11400, len=136, n/ep=13, n/st=2000, rew=6498.54]                        \n"
     ]
    },
    {
     "name": "stdout",
     "output_type": "stream",
     "text": [
      "Epoch #57: test_reward: 4687.400000 ± 2457.547729, best_reward: 6602.500000 ± 4518.199359 in #10\n"
     ]
    },
    {
     "name": "stderr",
     "output_type": "stream",
     "text": [
      "Epoch #58: 50001it [00:19, 2624.29it/s, env_step=2900000, gradient_step=11600, len=156, n/ep=9, n/st=2000, rew=7989.39]                         \n"
     ]
    },
    {
     "name": "stdout",
     "output_type": "stream",
     "text": [
      "Epoch #58: test_reward: 5284.000000 ± 2993.724904, best_reward: 6602.500000 ± 4518.199359 in #10\n"
     ]
    },
    {
     "name": "stderr",
     "output_type": "stream",
     "text": [
      "Epoch #59: 50001it [00:19, 2600.51it/s, env_step=2950000, gradient_step=11800, len=173, n/ep=12, n/st=2000, rew=8961.29]                        \n"
     ]
    },
    {
     "name": "stdout",
     "output_type": "stream",
     "text": [
      "Epoch #59: test_reward: 3549.400000 ± 1934.511422, best_reward: 6602.500000 ± 4518.199359 in #10\n"
     ]
    },
    {
     "name": "stderr",
     "output_type": "stream",
     "text": [
      "Epoch #60: 50001it [00:20, 2490.63it/s, env_step=3000000, gradient_step=12000, len=197, n/ep=15, n/st=2000, rew=10256.67]                       \n"
     ]
    },
    {
     "name": "stdout",
     "output_type": "stream",
     "text": [
      "Epoch #60: test_reward: 4800.800000 ± 3278.418546, best_reward: 6602.500000 ± 4518.199359 in #10\n"
     ]
    },
    {
     "name": "stderr",
     "output_type": "stream",
     "text": [
      "Epoch #61: 50001it [00:20, 2499.43it/s, env_step=3050000, gradient_step=12200, len=149, n/ep=10, n/st=2000, rew=7564.95]                        \n"
     ]
    },
    {
     "name": "stdout",
     "output_type": "stream",
     "text": [
      "Epoch #61: test_reward: 2620.000000 ± 1782.639167, best_reward: 6602.500000 ± 4518.199359 in #10\n"
     ]
    },
    {
     "name": "stderr",
     "output_type": "stream",
     "text": [
      "Epoch #62: 50001it [00:18, 2647.89it/s, env_step=3100000, gradient_step=12400, len=149, n/ep=15, n/st=2000, rew=7022.90]                        \n"
     ]
    },
    {
     "name": "stdout",
     "output_type": "stream",
     "text": [
      "Epoch #62: test_reward: 3423.600000 ± 2365.344592, best_reward: 6602.500000 ± 4518.199359 in #10\n"
     ]
    },
    {
     "name": "stderr",
     "output_type": "stream",
     "text": [
      "Epoch #63: 50001it [00:20, 2432.47it/s, env_step=3150000, gradient_step=12600, len=134, n/ep=13, n/st=2000, rew=6096.19]                        \n"
     ]
    },
    {
     "name": "stdout",
     "output_type": "stream",
     "text": [
      "Epoch #63: test_reward: 3952.000000 ± 1916.713646, best_reward: 6602.500000 ± 4518.199359 in #10\n"
     ]
    },
    {
     "name": "stderr",
     "output_type": "stream",
     "text": [
      "Epoch #64: 50001it [00:21, 2369.95it/s, env_step=3200000, gradient_step=12800, len=180, n/ep=11, n/st=2000, rew=9633.68]                        \n"
     ]
    },
    {
     "name": "stdout",
     "output_type": "stream",
     "text": [
      "Epoch #64: test_reward: 4388.600000 ± 2970.434318, best_reward: 6602.500000 ± 4518.199359 in #10\n"
     ]
    },
    {
     "name": "stderr",
     "output_type": "stream",
     "text": [
      "Epoch #65: 50001it [00:19, 2622.78it/s, env_step=3250000, gradient_step=13000, len=168, n/ep=15, n/st=2000, rew=8386.67]                        \n"
     ]
    },
    {
     "name": "stdout",
     "output_type": "stream",
     "text": [
      "Epoch #65: test_reward: 3751.000000 ± 3131.544316, best_reward: 6602.500000 ± 4518.199359 in #10\n"
     ]
    },
    {
     "name": "stderr",
     "output_type": "stream",
     "text": [
      "Epoch #66: 50001it [00:18, 2637.05it/s, env_step=3300000, gradient_step=13200, len=205, n/ep=14, n/st=2000, rew=10296.86]                       \n"
     ]
    },
    {
     "name": "stdout",
     "output_type": "stream",
     "text": [
      "Epoch #66: test_reward: 4132.200000 ± 3106.201726, best_reward: 6602.500000 ± 4518.199359 in #10\n"
     ]
    },
    {
     "name": "stderr",
     "output_type": "stream",
     "text": [
      "Epoch #67: 50001it [00:18, 2752.90it/s, env_step=3350000, gradient_step=13400, len=152, n/ep=9, n/st=2000, rew=6819.50]                         \n"
     ]
    },
    {
     "name": "stdout",
     "output_type": "stream",
     "text": [
      "Epoch #67: test_reward: 2992.200000 ± 2025.003002, best_reward: 6602.500000 ± 4518.199359 in #10\n"
     ]
    },
    {
     "name": "stderr",
     "output_type": "stream",
     "text": [
      "Epoch #68: 50001it [00:18, 2682.17it/s, env_step=3400000, gradient_step=13600, len=194, n/ep=9, n/st=2000, rew=10431.94]                        \n"
     ]
    },
    {
     "name": "stdout",
     "output_type": "stream",
     "text": [
      "Epoch #68: test_reward: 3881.600000 ± 1640.350889, best_reward: 6602.500000 ± 4518.199359 in #10\n"
     ]
    },
    {
     "name": "stderr",
     "output_type": "stream",
     "text": [
      "Epoch #69: 50001it [00:21, 2294.73it/s, env_step=3450000, gradient_step=13800, len=140, n/ep=11, n/st=2000, rew=6674.09]                        \n"
     ]
    },
    {
     "name": "stdout",
     "output_type": "stream",
     "text": [
      "Epoch #69: test_reward: 4849.200000 ± 2715.142457, best_reward: 6602.500000 ± 4518.199359 in #10\n"
     ]
    },
    {
     "name": "stderr",
     "output_type": "stream",
     "text": [
      "Epoch #70: 50001it [00:19, 2618.13it/s, env_step=3500000, gradient_step=14000, len=147, n/ep=9, n/st=2000, rew=6839.06]                         \n"
     ]
    },
    {
     "name": "stdout",
     "output_type": "stream",
     "text": [
      "Epoch #70: test_reward: 4185.800000 ± 2298.116176, best_reward: 6602.500000 ± 4518.199359 in #10\n"
     ]
    },
    {
     "name": "stderr",
     "output_type": "stream",
     "text": [
      "Epoch #71: 50001it [00:19, 2547.97it/s, env_step=3550000, gradient_step=14200, len=181, n/ep=15, n/st=2000, rew=9245.47]                        \n"
     ]
    },
    {
     "name": "stdout",
     "output_type": "stream",
     "text": [
      "Epoch #71: test_reward: 6512.000000 ± 2964.698703, best_reward: 6602.500000 ± 4518.199359 in #10\n"
     ]
    },
    {
     "name": "stderr",
     "output_type": "stream",
     "text": [
      "Epoch #72: 50001it [00:20, 2481.44it/s, env_step=3600000, gradient_step=14400, len=165, n/ep=16, n/st=2000, rew=8092.28]                        \n"
     ]
    },
    {
     "name": "stdout",
     "output_type": "stream",
     "text": [
      "Epoch #72: test_reward: 6213.700000 ± 4076.827395, best_reward: 6602.500000 ± 4518.199359 in #10\n"
     ]
    },
    {
     "name": "stderr",
     "output_type": "stream",
     "text": [
      "Epoch #73: 50001it [00:20, 2453.66it/s, env_step=3650000, gradient_step=14600, len=197, n/ep=8, n/st=2000, rew=10967.88]                        \n"
     ]
    },
    {
     "name": "stdout",
     "output_type": "stream",
     "text": [
      "Epoch #73: test_reward: 2853.400000 ± 1787.691931, best_reward: 6602.500000 ± 4518.199359 in #10\n"
     ]
    },
    {
     "name": "stderr",
     "output_type": "stream",
     "text": [
      "Epoch #74: 50001it [00:20, 2497.21it/s, env_step=3700000, gradient_step=14800, len=209, n/ep=9, n/st=2000, rew=11509.50]                        \n"
     ]
    },
    {
     "name": "stdout",
     "output_type": "stream",
     "text": [
      "Epoch #74: test_reward: 3363.600000 ± 2897.608780, best_reward: 6602.500000 ± 4518.199359 in #10\n"
     ]
    },
    {
     "name": "stderr",
     "output_type": "stream",
     "text": [
      "Epoch #75: 50001it [00:19, 2610.36it/s, env_step=3750000, gradient_step=15000, len=184, n/ep=12, n/st=2000, rew=9276.42]                        \n"
     ]
    },
    {
     "name": "stdout",
     "output_type": "stream",
     "text": [
      "Epoch #75: test_reward: 5571.600000 ± 3707.875597, best_reward: 6602.500000 ± 4518.199359 in #10\n"
     ]
    },
    {
     "name": "stderr",
     "output_type": "stream",
     "text": [
      "Epoch #76: 50001it [00:18, 2723.19it/s, env_step=3800000, gradient_step=15200, len=203, n/ep=5, n/st=2000, rew=10413.40]                        \n"
     ]
    },
    {
     "name": "stdout",
     "output_type": "stream",
     "text": [
      "Epoch #76: test_reward: 6105.000000 ± 3292.483834, best_reward: 6602.500000 ± 4518.199359 in #10\n"
     ]
    },
    {
     "name": "stderr",
     "output_type": "stream",
     "text": [
      "Epoch #77: 50001it [00:18, 2727.72it/s, env_step=3850000, gradient_step=15400, len=256, n/ep=7, n/st=2000, rew=13936.14]                        \n"
     ]
    },
    {
     "name": "stdout",
     "output_type": "stream",
     "text": [
      "Epoch #77: test_reward: 2995.000000 ± 2505.556745, best_reward: 6602.500000 ± 4518.199359 in #10\n"
     ]
    },
    {
     "name": "stderr",
     "output_type": "stream",
     "text": [
      "Epoch #78: 50001it [00:20, 2488.74it/s, env_step=3900000, gradient_step=15600, len=146, n/ep=6, n/st=2000, rew=6939.50]                         \n"
     ]
    },
    {
     "name": "stdout",
     "output_type": "stream",
     "text": [
      "Epoch #78: test_reward: 4142.400000 ± 2155.003814, best_reward: 6602.500000 ± 4518.199359 in #10\n"
     ]
    },
    {
     "name": "stderr",
     "output_type": "stream",
     "text": [
      "Epoch #79: 50001it [00:18, 2685.88it/s, env_step=3950000, gradient_step=15800, len=185, n/ep=14, n/st=2000, rew=9614.79]                        \n"
     ]
    },
    {
     "name": "stdout",
     "output_type": "stream",
     "text": [
      "Epoch #79: test_reward: 4051.800000 ± 2459.068189, best_reward: 6602.500000 ± 4518.199359 in #10\n"
     ]
    },
    {
     "name": "stderr",
     "output_type": "stream",
     "text": [
      "Epoch #80: 50001it [00:19, 2570.16it/s, env_step=4000000, gradient_step=16000, len=167, n/ep=11, n/st=2000, rew=8395.23]                        \n"
     ]
    },
    {
     "name": "stdout",
     "output_type": "stream",
     "text": [
      "Epoch #80: test_reward: 4231.600000 ± 2481.118425, best_reward: 6602.500000 ± 4518.199359 in #10\n"
     ]
    },
    {
     "name": "stderr",
     "output_type": "stream",
     "text": [
      "Epoch #81: 50001it [00:18, 2693.57it/s, env_step=4050000, gradient_step=16200, len=166, n/ep=7, n/st=2000, rew=7624.50]                         \n"
     ]
    },
    {
     "name": "stdout",
     "output_type": "stream",
     "text": [
      "Epoch #81: test_reward: 4549.000000 ± 3190.031881, best_reward: 6602.500000 ± 4518.199359 in #10\n"
     ]
    },
    {
     "name": "stderr",
     "output_type": "stream",
     "text": [
      "Epoch #82: 50001it [00:18, 2644.80it/s, env_step=4100000, gradient_step=16400, len=143, n/ep=14, n/st=2000, rew=7207.57]                        \n"
     ]
    },
    {
     "name": "stdout",
     "output_type": "stream",
     "text": [
      "Epoch #82: test_reward: 4128.800000 ± 1927.700848, best_reward: 6602.500000 ± 4518.199359 in #10\n"
     ]
    },
    {
     "name": "stderr",
     "output_type": "stream",
     "text": [
      "Epoch #83: 50001it [00:19, 2553.02it/s, env_step=4150000, gradient_step=16600, len=160, n/ep=13, n/st=2000, rew=8088.15]                        \n"
     ]
    },
    {
     "name": "stdout",
     "output_type": "stream",
     "text": [
      "Epoch #83: test_reward: 3168.400000 ± 2436.067454, best_reward: 6602.500000 ± 4518.199359 in #10\n"
     ]
    },
    {
     "name": "stderr",
     "output_type": "stream",
     "text": [
      "Epoch #84: 50001it [00:19, 2502.39it/s, env_step=4200000, gradient_step=16800, len=159, n/ep=17, n/st=2000, rew=7796.56]                        \n"
     ]
    },
    {
     "name": "stdout",
     "output_type": "stream",
     "text": [
      "Epoch #84: test_reward: 3946.400000 ± 2144.008358, best_reward: 6602.500000 ± 4518.199359 in #10\n"
     ]
    },
    {
     "name": "stderr",
     "output_type": "stream",
     "text": [
      "Epoch #85: 50001it [00:18, 2727.02it/s, env_step=4250000, gradient_step=17000, len=158, n/ep=14, n/st=2000, rew=7641.96]                        \n"
     ]
    },
    {
     "name": "stdout",
     "output_type": "stream",
     "text": [
      "Epoch #85: test_reward: 5063.400000 ± 3161.745474, best_reward: 6602.500000 ± 4518.199359 in #10\n"
     ]
    },
    {
     "name": "stderr",
     "output_type": "stream",
     "text": [
      "Epoch #86: 50001it [00:20, 2438.89it/s, env_step=4300000, gradient_step=17200, len=149, n/ep=11, n/st=2000, rew=7373.18]                        \n"
     ]
    },
    {
     "name": "stdout",
     "output_type": "stream",
     "text": [
      "Epoch #86: test_reward: 3849.000000 ± 1854.193140, best_reward: 6602.500000 ± 4518.199359 in #10\n"
     ]
    },
    {
     "name": "stderr",
     "output_type": "stream",
     "text": [
      "Epoch #87: 50001it [00:20, 2472.80it/s, env_step=4350000, gradient_step=17400, len=180, n/ep=13, n/st=2000, rew=8866.00]                        \n"
     ]
    },
    {
     "name": "stdout",
     "output_type": "stream",
     "text": [
      "Epoch #87: test_reward: 3398.000000 ± 2384.036409, best_reward: 6602.500000 ± 4518.199359 in #10\n"
     ]
    },
    {
     "name": "stderr",
     "output_type": "stream",
     "text": [
      "Epoch #88: 50001it [00:18, 2767.21it/s, env_step=4400000, gradient_step=17600, len=194, n/ep=18, n/st=2000, rew=10353.17]                       \n"
     ]
    },
    {
     "name": "stdout",
     "output_type": "stream",
     "text": [
      "Epoch #88: test_reward: 5092.400000 ± 4270.532782, best_reward: 6602.500000 ± 4518.199359 in #10\n"
     ]
    },
    {
     "name": "stderr",
     "output_type": "stream",
     "text": [
      "Epoch #89: 50001it [00:20, 2469.27it/s, env_step=4450000, gradient_step=17800, len=153, n/ep=10, n/st=2000, rew=7301.65]                        \n"
     ]
    },
    {
     "name": "stdout",
     "output_type": "stream",
     "text": [
      "Epoch #89: test_reward: 3865.200000 ± 2250.190783, best_reward: 6602.500000 ± 4518.199359 in #10\n"
     ]
    },
    {
     "name": "stderr",
     "output_type": "stream",
     "text": [
      "Epoch #90: 50001it [00:20, 2494.99it/s, env_step=4500000, gradient_step=18000, len=187, n/ep=10, n/st=2000, rew=10085.75]                       \n"
     ]
    },
    {
     "name": "stdout",
     "output_type": "stream",
     "text": [
      "Epoch #90: test_reward: 3568.000000 ± 2623.652873, best_reward: 6602.500000 ± 4518.199359 in #10\n"
     ]
    },
    {
     "name": "stderr",
     "output_type": "stream",
     "text": [
      "Epoch #91: 50001it [00:20, 2384.18it/s, env_step=4550000, gradient_step=18200, len=178, n/ep=14, n/st=2000, rew=9025.86]                        \n"
     ]
    },
    {
     "name": "stdout",
     "output_type": "stream",
     "text": [
      "Epoch #91: test_reward: 3832.400000 ± 1409.067436, best_reward: 6602.500000 ± 4518.199359 in #10\n"
     ]
    },
    {
     "name": "stderr",
     "output_type": "stream",
     "text": [
      "Epoch #92: 50001it [00:19, 2596.77it/s, env_step=4600000, gradient_step=18400, len=146, n/ep=16, n/st=2000, rew=6939.19]                        \n"
     ]
    },
    {
     "name": "stdout",
     "output_type": "stream",
     "text": [
      "Epoch #92: test_reward: 4641.000000 ± 2008.585821, best_reward: 6602.500000 ± 4518.199359 in #10\n"
     ]
    },
    {
     "name": "stderr",
     "output_type": "stream",
     "text": [
      "Epoch #93: 50001it [00:20, 2415.39it/s, env_step=4650000, gradient_step=18600, len=131, n/ep=10, n/st=2000, rew=6322.25]                        \n"
     ]
    },
    {
     "name": "stdout",
     "output_type": "stream",
     "text": [
      "Epoch #93: test_reward: 4366.200000 ± 3091.402588, best_reward: 6602.500000 ± 4518.199359 in #10\n"
     ]
    },
    {
     "name": "stderr",
     "output_type": "stream",
     "text": [
      "Epoch #94:  20%|#4     | 10000/50000 [00:04<00:19, 2047.28it/s, env_step=4660000, gradient_step=18640, len=147, n/ep=13, n/st=2000, rew=7074.42]\n"
     ]
    },
    {
     "ename": "KeyboardInterrupt",
     "evalue": "",
     "output_type": "error",
     "traceback": [
      "\u001b[0;31m---------------------------------------------------------------------------\u001b[0m",
      "\u001b[0;31mKeyboardInterrupt\u001b[0m                         Traceback (most recent call last)",
      "Cell \u001b[0;32mIn[68], line 52\u001b[0m\n\u001b[1;32m     36\u001b[0m     \u001b[38;5;28;01mreturn\u001b[39;00m rews[:, \u001b[38;5;241m1\u001b[39m]\n\u001b[1;32m     38\u001b[0m \u001b[38;5;66;03m#======== Step 5: Run the trainer =========\u001b[39;00m\n\u001b[1;32m     39\u001b[0m result \u001b[38;5;241m=\u001b[39m \u001b[43mOnpolicyTrainer\u001b[49m\u001b[43m(\u001b[49m\n\u001b[1;32m     40\u001b[0m \u001b[43m    \u001b[49m\u001b[43mpolicy\u001b[49m\u001b[38;5;241;43m=\u001b[39;49m\u001b[43mpolicy\u001b[49m\u001b[43m,\u001b[49m\n\u001b[1;32m     41\u001b[0m \u001b[43m    \u001b[49m\u001b[43mtrain_collector\u001b[49m\u001b[38;5;241;43m=\u001b[39;49m\u001b[43mtrain_collector\u001b[49m\u001b[43m,\u001b[49m\n\u001b[1;32m     42\u001b[0m \u001b[43m    \u001b[49m\u001b[43mtest_collector\u001b[49m\u001b[38;5;241;43m=\u001b[39;49m\u001b[43mtest_collector\u001b[49m\u001b[43m,\u001b[49m\n\u001b[1;32m     43\u001b[0m \u001b[43m    \u001b[49m\u001b[43mmax_epoch\u001b[49m\u001b[38;5;241;43m=\u001b[39;49m\u001b[38;5;241;43m100\u001b[39;49m\u001b[43m,\u001b[49m\n\u001b[1;32m     44\u001b[0m \u001b[43m    \u001b[49m\u001b[43mstep_per_epoch\u001b[49m\u001b[38;5;241;43m=\u001b[39;49m\u001b[38;5;241;43m50000\u001b[39;49m\u001b[43m,\u001b[49m\n\u001b[1;32m     45\u001b[0m \u001b[43m    \u001b[49m\u001b[43mrepeat_per_collect\u001b[49m\u001b[38;5;241;43m=\u001b[39;49m\u001b[38;5;241;43m10\u001b[39;49m\u001b[43m,\u001b[49m\n\u001b[1;32m     46\u001b[0m \u001b[43m    \u001b[49m\u001b[43mepisode_per_test\u001b[49m\u001b[38;5;241;43m=\u001b[39;49m\u001b[38;5;241;43m10\u001b[39;49m\u001b[43m,\u001b[49m\n\u001b[1;32m     47\u001b[0m \u001b[43m    \u001b[49m\u001b[43mbatch_size\u001b[49m\u001b[38;5;241;43m=\u001b[39;49m\u001b[38;5;241;43m256\u001b[39;49m\u001b[43m,\u001b[49m\n\u001b[1;32m     48\u001b[0m \u001b[43m    \u001b[49m\u001b[43mstep_per_collect\u001b[49m\u001b[38;5;241;43m=\u001b[39;49m\u001b[38;5;241;43m2000\u001b[39;49m\u001b[43m,\u001b[49m\n\u001b[1;32m     49\u001b[0m \u001b[43m    \u001b[49m\u001b[43mreward_metric\u001b[49m\u001b[38;5;241;43m=\u001b[39;49m\u001b[43mreward_metric\u001b[49m\u001b[43m,\u001b[49m\n\u001b[1;32m     50\u001b[0m \u001b[43m    \u001b[49m\u001b[43mstop_fn\u001b[49m\u001b[38;5;241;43m=\u001b[39;49m\u001b[43mstop_fn\u001b[49m\u001b[43m,\u001b[49m\n\u001b[1;32m     51\u001b[0m \u001b[43m    \u001b[49m\u001b[43msave_best_fn\u001b[49m\u001b[38;5;241;43m=\u001b[39;49m\u001b[43msave_best_fn\u001b[49m\n\u001b[0;32m---> 52\u001b[0m \u001b[43m)\u001b[49m\u001b[38;5;241;43m.\u001b[39;49m\u001b[43mrun\u001b[49m\u001b[43m(\u001b[49m\u001b[43m)\u001b[49m\n\u001b[1;32m     54\u001b[0m \u001b[38;5;66;03m# return result, policy.policies[agents[1]]\u001b[39;00m\n\u001b[1;32m     55\u001b[0m \u001b[38;5;28mprint\u001b[39m(\u001b[38;5;124mf\u001b[39m\u001b[38;5;124m\"\u001b[39m\u001b[38;5;130;01m\\n\u001b[39;00m\u001b[38;5;124m==========Result==========\u001b[39m\u001b[38;5;130;01m\\n\u001b[39;00m\u001b[38;5;132;01m{\u001b[39;00mresult\u001b[38;5;132;01m}\u001b[39;00m\u001b[38;5;124m\"\u001b[39m)\n",
      "File \u001b[0;32m~/Documents/hse/diploma/togyz-qumalaq-agent/venv/lib/python3.11/site-packages/tianshou/trainer/base.py:536\u001b[0m, in \u001b[0;36mBaseTrainer.run\u001b[0;34m(self, reset_prior_to_run)\u001b[0m\n\u001b[1;32m    534\u001b[0m \u001b[38;5;28;01mtry\u001b[39;00m:\n\u001b[1;32m    535\u001b[0m     \u001b[38;5;28mself\u001b[39m\u001b[38;5;241m.\u001b[39mis_run \u001b[38;5;241m=\u001b[39m \u001b[38;5;28;01mTrue\u001b[39;00m\n\u001b[0;32m--> 536\u001b[0m     \u001b[43mdeque\u001b[49m\u001b[43m(\u001b[49m\u001b[38;5;28;43mself\u001b[39;49m\u001b[43m,\u001b[49m\u001b[43m \u001b[49m\u001b[43mmaxlen\u001b[49m\u001b[38;5;241;43m=\u001b[39;49m\u001b[38;5;241;43m0\u001b[39;49m\u001b[43m)\u001b[49m  \u001b[38;5;66;03m# feed the entire iterator into a zero-length deque\u001b[39;00m\n\u001b[1;32m    537\u001b[0m     info \u001b[38;5;241m=\u001b[39m gather_info(\n\u001b[1;32m    538\u001b[0m         start_time\u001b[38;5;241m=\u001b[39m\u001b[38;5;28mself\u001b[39m\u001b[38;5;241m.\u001b[39mstart_time,\n\u001b[1;32m    539\u001b[0m         policy_update_time\u001b[38;5;241m=\u001b[39m\u001b[38;5;28mself\u001b[39m\u001b[38;5;241m.\u001b[39mpolicy_update_time,\n\u001b[0;32m   (...)\u001b[0m\n\u001b[1;32m    544\u001b[0m         test_collector\u001b[38;5;241m=\u001b[39m\u001b[38;5;28mself\u001b[39m\u001b[38;5;241m.\u001b[39mtest_collector,\n\u001b[1;32m    545\u001b[0m     )\n\u001b[1;32m    546\u001b[0m \u001b[38;5;28;01mfinally\u001b[39;00m:\n",
      "File \u001b[0;32m~/Documents/hse/diploma/togyz-qumalaq-agent/venv/lib/python3.11/site-packages/tianshou/trainer/base.py:322\u001b[0m, in \u001b[0;36mBaseTrainer.__next__\u001b[0;34m(self)\u001b[0m\n\u001b[1;32m    320\u001b[0m \u001b[38;5;28;01mwhile\u001b[39;00m t\u001b[38;5;241m.\u001b[39mn \u001b[38;5;241m<\u001b[39m t\u001b[38;5;241m.\u001b[39mtotal \u001b[38;5;129;01mand\u001b[39;00m \u001b[38;5;129;01mnot\u001b[39;00m \u001b[38;5;28mself\u001b[39m\u001b[38;5;241m.\u001b[39mstop_fn_flag:\n\u001b[1;32m    321\u001b[0m     \u001b[38;5;28;01mif\u001b[39;00m \u001b[38;5;28mself\u001b[39m\u001b[38;5;241m.\u001b[39mtrain_collector \u001b[38;5;129;01mis\u001b[39;00m \u001b[38;5;129;01mnot\u001b[39;00m \u001b[38;5;28;01mNone\u001b[39;00m:\n\u001b[0;32m--> 322\u001b[0m         train_stat, \u001b[38;5;28mself\u001b[39m\u001b[38;5;241m.\u001b[39mstop_fn_flag \u001b[38;5;241m=\u001b[39m \u001b[38;5;28;43mself\u001b[39;49m\u001b[38;5;241;43m.\u001b[39;49m\u001b[43mtrain_step\u001b[49m\u001b[43m(\u001b[49m\u001b[43m)\u001b[49m\n\u001b[1;32m    323\u001b[0m         pbar_data_dict \u001b[38;5;241m=\u001b[39m {\n\u001b[1;32m    324\u001b[0m             \u001b[38;5;124m\"\u001b[39m\u001b[38;5;124menv_step\u001b[39m\u001b[38;5;124m\"\u001b[39m: \u001b[38;5;28mstr\u001b[39m(\u001b[38;5;28mself\u001b[39m\u001b[38;5;241m.\u001b[39menv_step),\n\u001b[1;32m    325\u001b[0m             \u001b[38;5;124m\"\u001b[39m\u001b[38;5;124mrew\u001b[39m\u001b[38;5;124m\"\u001b[39m: \u001b[38;5;124mf\u001b[39m\u001b[38;5;124m\"\u001b[39m\u001b[38;5;132;01m{\u001b[39;00m\u001b[38;5;28mself\u001b[39m\u001b[38;5;241m.\u001b[39mlast_rew\u001b[38;5;132;01m:\u001b[39;00m\u001b[38;5;124m.2f\u001b[39m\u001b[38;5;132;01m}\u001b[39;00m\u001b[38;5;124m\"\u001b[39m,\n\u001b[0;32m   (...)\u001b[0m\n\u001b[1;32m    328\u001b[0m             \u001b[38;5;124m\"\u001b[39m\u001b[38;5;124mn/st\u001b[39m\u001b[38;5;124m\"\u001b[39m: \u001b[38;5;28mstr\u001b[39m(train_stat\u001b[38;5;241m.\u001b[39mn_collected_steps),\n\u001b[1;32m    329\u001b[0m         }\n\u001b[1;32m    330\u001b[0m         t\u001b[38;5;241m.\u001b[39mupdate(train_stat\u001b[38;5;241m.\u001b[39mn_collected_steps)\n",
      "File \u001b[0;32m~/Documents/hse/diploma/togyz-qumalaq-agent/venv/lib/python3.11/site-packages/tianshou/trainer/base.py:444\u001b[0m, in \u001b[0;36mBaseTrainer.train_step\u001b[0;34m(self)\u001b[0m\n\u001b[1;32m    442\u001b[0m \u001b[38;5;28;01mif\u001b[39;00m \u001b[38;5;28mself\u001b[39m\u001b[38;5;241m.\u001b[39mtrain_fn:\n\u001b[1;32m    443\u001b[0m     \u001b[38;5;28mself\u001b[39m\u001b[38;5;241m.\u001b[39mtrain_fn(\u001b[38;5;28mself\u001b[39m\u001b[38;5;241m.\u001b[39mepoch, \u001b[38;5;28mself\u001b[39m\u001b[38;5;241m.\u001b[39menv_step)\n\u001b[0;32m--> 444\u001b[0m result \u001b[38;5;241m=\u001b[39m \u001b[38;5;28;43mself\u001b[39;49m\u001b[38;5;241;43m.\u001b[39;49m\u001b[43mtrain_collector\u001b[49m\u001b[38;5;241;43m.\u001b[39;49m\u001b[43mcollect\u001b[49m\u001b[43m(\u001b[49m\n\u001b[1;32m    445\u001b[0m \u001b[43m    \u001b[49m\u001b[43mn_step\u001b[49m\u001b[38;5;241;43m=\u001b[39;49m\u001b[38;5;28;43mself\u001b[39;49m\u001b[38;5;241;43m.\u001b[39;49m\u001b[43mstep_per_collect\u001b[49m\u001b[43m,\u001b[49m\n\u001b[1;32m    446\u001b[0m \u001b[43m    \u001b[49m\u001b[43mn_episode\u001b[49m\u001b[38;5;241;43m=\u001b[39;49m\u001b[38;5;28;43mself\u001b[39;49m\u001b[38;5;241;43m.\u001b[39;49m\u001b[43mepisode_per_collect\u001b[49m\u001b[43m,\u001b[49m\n\u001b[1;32m    447\u001b[0m \u001b[43m\u001b[49m\u001b[43m)\u001b[49m\n\u001b[1;32m    449\u001b[0m \u001b[38;5;28mself\u001b[39m\u001b[38;5;241m.\u001b[39menv_step \u001b[38;5;241m+\u001b[39m\u001b[38;5;241m=\u001b[39m result\u001b[38;5;241m.\u001b[39mn_collected_steps\n\u001b[1;32m    451\u001b[0m \u001b[38;5;28;01mif\u001b[39;00m result\u001b[38;5;241m.\u001b[39mn_collected_episodes \u001b[38;5;241m>\u001b[39m \u001b[38;5;241m0\u001b[39m:\n",
      "File \u001b[0;32m~/Documents/hse/diploma/togyz-qumalaq-agent/venv/lib/python3.11/site-packages/tianshou/data/collector.py:433\u001b[0m, in \u001b[0;36mCollector.collect\u001b[0;34m(self, n_step, n_episode, random, render, no_grad, reset_before_collect, gym_reset_kwargs)\u001b[0m\n\u001b[1;32m    413\u001b[0m last_hidden_state_RH \u001b[38;5;241m=\u001b[39m _nullable_slice(\n\u001b[1;32m    414\u001b[0m     \u001b[38;5;28mself\u001b[39m\u001b[38;5;241m.\u001b[39m_pre_collect_hidden_state_RH,\n\u001b[1;32m    415\u001b[0m     ready_env_ids_R,\n\u001b[1;32m    416\u001b[0m )\n\u001b[1;32m    418\u001b[0m \u001b[38;5;28;01mwhile\u001b[39;00m \u001b[38;5;28;01mTrue\u001b[39;00m:\n\u001b[1;32m    419\u001b[0m     \u001b[38;5;66;03m# todo check if we need this when using cur_rollout_batch\u001b[39;00m\n\u001b[1;32m    420\u001b[0m     \u001b[38;5;66;03m# if len(cur_rollout_batch) != len(ready_env_ids):\u001b[39;00m\n\u001b[0;32m   (...)\u001b[0m\n\u001b[1;32m    426\u001b[0m \n\u001b[1;32m    427\u001b[0m     \u001b[38;5;66;03m# get the next action\u001b[39;00m\n\u001b[1;32m    428\u001b[0m     (\n\u001b[1;32m    429\u001b[0m         act_RA,\n\u001b[1;32m    430\u001b[0m         act_normalized_RA,\n\u001b[1;32m    431\u001b[0m         policy_R,\n\u001b[1;32m    432\u001b[0m         hidden_state_RH,\n\u001b[0;32m--> 433\u001b[0m     ) \u001b[38;5;241m=\u001b[39m \u001b[38;5;28;43mself\u001b[39;49m\u001b[38;5;241;43m.\u001b[39;49m\u001b[43m_compute_action_policy_hidden\u001b[49m\u001b[43m(\u001b[49m\n\u001b[1;32m    434\u001b[0m \u001b[43m        \u001b[49m\u001b[43mrandom\u001b[49m\u001b[38;5;241;43m=\u001b[39;49m\u001b[43mrandom\u001b[49m\u001b[43m,\u001b[49m\n\u001b[1;32m    435\u001b[0m \u001b[43m        \u001b[49m\u001b[43mready_env_ids_R\u001b[49m\u001b[38;5;241;43m=\u001b[39;49m\u001b[43mready_env_ids_R\u001b[49m\u001b[43m,\u001b[49m\n\u001b[1;32m    436\u001b[0m \u001b[43m        \u001b[49m\u001b[43muse_grad\u001b[49m\u001b[38;5;241;43m=\u001b[39;49m\u001b[43muse_grad\u001b[49m\u001b[43m,\u001b[49m\n\u001b[1;32m    437\u001b[0m \u001b[43m        \u001b[49m\u001b[43mlast_obs_RO\u001b[49m\u001b[38;5;241;43m=\u001b[39;49m\u001b[43mlast_obs_RO\u001b[49m\u001b[43m,\u001b[49m\n\u001b[1;32m    438\u001b[0m \u001b[43m        \u001b[49m\u001b[43mlast_info_R\u001b[49m\u001b[38;5;241;43m=\u001b[39;49m\u001b[43mlast_info_R\u001b[49m\u001b[43m,\u001b[49m\n\u001b[1;32m    439\u001b[0m \u001b[43m        \u001b[49m\u001b[43mlast_hidden_state_RH\u001b[49m\u001b[38;5;241;43m=\u001b[39;49m\u001b[43mlast_hidden_state_RH\u001b[49m\u001b[43m,\u001b[49m\n\u001b[1;32m    440\u001b[0m \u001b[43m    \u001b[49m\u001b[43m)\u001b[49m\n\u001b[1;32m    442\u001b[0m     obs_next_RO, rew_R, terminated_R, truncated_R, info_R \u001b[38;5;241m=\u001b[39m \u001b[38;5;28mself\u001b[39m\u001b[38;5;241m.\u001b[39menv\u001b[38;5;241m.\u001b[39mstep(\n\u001b[1;32m    443\u001b[0m         act_normalized_RA,\n\u001b[1;32m    444\u001b[0m         ready_env_ids_R,\n\u001b[1;32m    445\u001b[0m     )\n\u001b[1;32m    446\u001b[0m     \u001b[38;5;28;01mif\u001b[39;00m \u001b[38;5;28misinstance\u001b[39m(info_R, \u001b[38;5;28mdict\u001b[39m):  \u001b[38;5;66;03m# type: ignore[unreachable]\u001b[39;00m\n\u001b[1;32m    447\u001b[0m         \u001b[38;5;66;03m# This can happen if the env is an envpool env. Then the info returned by step is a dict\u001b[39;00m\n",
      "File \u001b[0;32m~/Documents/hse/diploma/togyz-qumalaq-agent/venv/lib/python3.11/site-packages/tianshou/data/collector.py:282\u001b[0m, in \u001b[0;36mCollector._compute_action_policy_hidden\u001b[0;34m(self, random, ready_env_ids_R, use_grad, last_obs_RO, last_info_R, last_hidden_state_RH)\u001b[0m\n\u001b[1;32m    280\u001b[0m \u001b[38;5;28;01melse\u001b[39;00m:\n\u001b[1;32m    281\u001b[0m     info_batch \u001b[38;5;241m=\u001b[39m _HACKY_create_info_batch(last_info_R)\n\u001b[0;32m--> 282\u001b[0m     obs_batch_R \u001b[38;5;241m=\u001b[39m cast(ObsBatchProtocol, \u001b[43mBatch\u001b[49m\u001b[43m(\u001b[49m\u001b[43mobs\u001b[49m\u001b[38;5;241;43m=\u001b[39;49m\u001b[43mlast_obs_RO\u001b[49m\u001b[43m,\u001b[49m\u001b[43m \u001b[49m\u001b[43minfo\u001b[49m\u001b[38;5;241;43m=\u001b[39;49m\u001b[43minfo_batch\u001b[49m\u001b[43m)\u001b[49m)\n\u001b[1;32m    284\u001b[0m     \u001b[38;5;28;01mwith\u001b[39;00m torch\u001b[38;5;241m.\u001b[39mset_grad_enabled(use_grad):\n\u001b[1;32m    285\u001b[0m         act_batch_RA \u001b[38;5;241m=\u001b[39m \u001b[38;5;28mself\u001b[39m\u001b[38;5;241m.\u001b[39mpolicy(\n\u001b[1;32m    286\u001b[0m             obs_batch_R,\n\u001b[1;32m    287\u001b[0m             last_hidden_state_RH,\n\u001b[1;32m    288\u001b[0m         )\n",
      "File \u001b[0;32m~/Documents/hse/diploma/togyz-qumalaq-agent/venv/lib/python3.11/site-packages/tianshou/data/batch.py:452\u001b[0m, in \u001b[0;36mBatch.__init__\u001b[0;34m(self, batch_dict, copy, **kwargs)\u001b[0m\n\u001b[1;32m    448\u001b[0m         \u001b[38;5;28mself\u001b[39m\u001b[38;5;241m.\u001b[39mstack_(batch_dict)\n\u001b[1;32m    449\u001b[0m \u001b[38;5;28;01mif\u001b[39;00m \u001b[38;5;28mlen\u001b[39m(kwargs) \u001b[38;5;241m>\u001b[39m \u001b[38;5;241m0\u001b[39m:\n\u001b[1;32m    450\u001b[0m     \u001b[38;5;66;03m# TODO: that's a rather weird pattern, is it really needed?\u001b[39;00m\n\u001b[1;32m    451\u001b[0m     \u001b[38;5;66;03m# Feels like kwargs could be just merged into batch_dict in the beginning\u001b[39;00m\n\u001b[0;32m--> 452\u001b[0m     \u001b[38;5;28;43mself\u001b[39;49m\u001b[38;5;241;43m.\u001b[39;49m\u001b[38;5;21;43m__init__\u001b[39;49m\u001b[43m(\u001b[49m\u001b[43mkwargs\u001b[49m\u001b[43m,\u001b[49m\u001b[43m \u001b[49m\u001b[43mcopy\u001b[49m\u001b[38;5;241;43m=\u001b[39;49m\u001b[43mcopy\u001b[49m\u001b[43m)\u001b[49m\n",
      "File \u001b[0;32m~/Documents/hse/diploma/togyz-qumalaq-agent/venv/lib/python3.11/site-packages/tianshou/data/batch.py:445\u001b[0m, in \u001b[0;36mBatch.__init__\u001b[0;34m(self, batch_dict, copy, **kwargs)\u001b[0m\n\u001b[1;32m    443\u001b[0m     _assert_type_keys(batch_dict\u001b[38;5;241m.\u001b[39mkeys())\n\u001b[1;32m    444\u001b[0m     \u001b[38;5;28;01mfor\u001b[39;00m batch_key, obj \u001b[38;5;129;01min\u001b[39;00m batch_dict\u001b[38;5;241m.\u001b[39mitems():\n\u001b[0;32m--> 445\u001b[0m         \u001b[38;5;28mself\u001b[39m\u001b[38;5;241m.\u001b[39m\u001b[38;5;18m__dict__\u001b[39m[batch_key] \u001b[38;5;241m=\u001b[39m \u001b[43m_parse_value\u001b[49m\u001b[43m(\u001b[49m\u001b[43mobj\u001b[49m\u001b[43m)\u001b[49m\n\u001b[1;32m    446\u001b[0m \u001b[38;5;28;01melif\u001b[39;00m _is_batch_set(batch_dict):\n\u001b[1;32m    447\u001b[0m     batch_dict \u001b[38;5;241m=\u001b[39m cast(Sequence[\u001b[38;5;28mdict\u001b[39m \u001b[38;5;241m|\u001b[39m BatchProtocol], batch_dict)\n",
      "File \u001b[0;32m~/Documents/hse/diploma/togyz-qumalaq-agent/venv/lib/python3.11/site-packages/tianshou/data/batch.py:166\u001b[0m, in \u001b[0;36m_parse_value\u001b[0;34m(obj)\u001b[0m\n\u001b[1;32m    161\u001b[0m         \u001b[38;5;28;01mraise\u001b[39;00m \u001b[38;5;167;01mTypeError\u001b[39;00m(\n\u001b[1;32m    162\u001b[0m             \u001b[38;5;124m\"\u001b[39m\u001b[38;5;124mBatch does not support non-stackable iterable\u001b[39m\u001b[38;5;124m\"\u001b[39m\n\u001b[1;32m    163\u001b[0m             \u001b[38;5;124m\"\u001b[39m\u001b[38;5;124m of torch.Tensor as unique value yet.\u001b[39m\u001b[38;5;124m\"\u001b[39m,\n\u001b[1;32m    164\u001b[0m         ) \u001b[38;5;28;01mfrom\u001b[39;00m \u001b[38;5;21;01mexception\u001b[39;00m\n\u001b[1;32m    165\u001b[0m \u001b[38;5;28;01mif\u001b[39;00m _is_batch_set(obj):\n\u001b[0;32m--> 166\u001b[0m     obj \u001b[38;5;241m=\u001b[39m \u001b[43mBatch\u001b[49m\u001b[43m(\u001b[49m\u001b[43mobj\u001b[49m\u001b[43m)\u001b[49m  \u001b[38;5;66;03m# list of dict / Batch\u001b[39;00m\n\u001b[1;32m    167\u001b[0m \u001b[38;5;28;01melse\u001b[39;00m:\n\u001b[1;32m    168\u001b[0m     \u001b[38;5;66;03m# None, scalar, normal obj list (main case)\u001b[39;00m\n\u001b[1;32m    169\u001b[0m     \u001b[38;5;66;03m# or an actual list of objects\u001b[39;00m\n\u001b[1;32m    170\u001b[0m     \u001b[38;5;28;01mtry\u001b[39;00m:\n",
      "File \u001b[0;32m~/Documents/hse/diploma/togyz-qumalaq-agent/venv/lib/python3.11/site-packages/tianshou/data/batch.py:448\u001b[0m, in \u001b[0;36mBatch.__init__\u001b[0;34m(self, batch_dict, copy, **kwargs)\u001b[0m\n\u001b[1;32m    446\u001b[0m     \u001b[38;5;28;01melif\u001b[39;00m _is_batch_set(batch_dict):\n\u001b[1;32m    447\u001b[0m         batch_dict \u001b[38;5;241m=\u001b[39m cast(Sequence[\u001b[38;5;28mdict\u001b[39m \u001b[38;5;241m|\u001b[39m BatchProtocol], batch_dict)\n\u001b[0;32m--> 448\u001b[0m         \u001b[38;5;28;43mself\u001b[39;49m\u001b[38;5;241;43m.\u001b[39;49m\u001b[43mstack_\u001b[49m\u001b[43m(\u001b[49m\u001b[43mbatch_dict\u001b[49m\u001b[43m)\u001b[49m\n\u001b[1;32m    449\u001b[0m \u001b[38;5;28;01mif\u001b[39;00m \u001b[38;5;28mlen\u001b[39m(kwargs) \u001b[38;5;241m>\u001b[39m \u001b[38;5;241m0\u001b[39m:\n\u001b[1;32m    450\u001b[0m     \u001b[38;5;66;03m# TODO: that's a rather weird pattern, is it really needed?\u001b[39;00m\n\u001b[1;32m    451\u001b[0m     \u001b[38;5;66;03m# Feels like kwargs could be just merged into batch_dict in the beginning\u001b[39;00m\n\u001b[1;32m    452\u001b[0m     \u001b[38;5;28mself\u001b[39m\u001b[38;5;241m.\u001b[39m\u001b[38;5;21m__init__\u001b[39m(kwargs, copy\u001b[38;5;241m=\u001b[39mcopy)\n",
      "File \u001b[0;32m~/Documents/hse/diploma/togyz-qumalaq-agent/venv/lib/python3.11/site-packages/tianshou/data/batch.py:823\u001b[0m, in \u001b[0;36mBatch.stack_\u001b[0;34m(self, batches, axis)\u001b[0m\n\u001b[1;32m    821\u001b[0m     batches \u001b[38;5;241m=\u001b[39m [\u001b[38;5;28mself\u001b[39m, \u001b[38;5;241m*\u001b[39mbatches]\n\u001b[1;32m    822\u001b[0m \u001b[38;5;66;03m# collect non-empty keys\u001b[39;00m\n\u001b[0;32m--> 823\u001b[0m keys_map \u001b[38;5;241m=\u001b[39m \u001b[43m[\u001b[49m\n\u001b[1;32m    824\u001b[0m \u001b[43m    \u001b[49m\u001b[43m{\u001b[49m\n\u001b[1;32m    825\u001b[0m \u001b[43m        \u001b[49m\u001b[43mbatch_key\u001b[49m\n\u001b[1;32m    826\u001b[0m \u001b[43m        \u001b[49m\u001b[38;5;28;43;01mfor\u001b[39;49;00m\u001b[43m \u001b[49m\u001b[43mbatch_key\u001b[49m\u001b[43m,\u001b[49m\u001b[43m \u001b[49m\u001b[43mobj\u001b[49m\u001b[43m \u001b[49m\u001b[38;5;129;43;01min\u001b[39;49;00m\u001b[43m \u001b[49m\u001b[43mbatch\u001b[49m\u001b[38;5;241;43m.\u001b[39;49m\u001b[43mitems\u001b[49m\u001b[43m(\u001b[49m\u001b[43m)\u001b[49m\n\u001b[1;32m    827\u001b[0m \u001b[43m        \u001b[49m\u001b[38;5;28;43;01mif\u001b[39;49;00m\u001b[43m \u001b[49m\u001b[38;5;129;43;01mnot\u001b[39;49;00m\u001b[43m \u001b[49m\u001b[43m(\u001b[49m\u001b[38;5;28;43misinstance\u001b[39;49m\u001b[43m(\u001b[49m\u001b[43mobj\u001b[49m\u001b[43m,\u001b[49m\u001b[43m \u001b[49m\u001b[43mBatchProtocol\u001b[49m\u001b[43m)\u001b[49m\u001b[43m \u001b[49m\u001b[38;5;129;43;01mand\u001b[39;49;00m\u001b[43m \u001b[49m\u001b[43mobj\u001b[49m\u001b[38;5;241;43m.\u001b[39;49m\u001b[43mis_empty\u001b[49m\u001b[43m(\u001b[49m\u001b[43m)\u001b[49m\u001b[43m)\u001b[49m\n\u001b[1;32m    828\u001b[0m \u001b[43m    \u001b[49m\u001b[43m}\u001b[49m\n\u001b[1;32m    829\u001b[0m \u001b[43m    \u001b[49m\u001b[38;5;28;43;01mfor\u001b[39;49;00m\u001b[43m \u001b[49m\u001b[43mbatch\u001b[49m\u001b[43m \u001b[49m\u001b[38;5;129;43;01min\u001b[39;49;00m\u001b[43m \u001b[49m\u001b[43mbatches\u001b[49m\n\u001b[1;32m    830\u001b[0m \u001b[43m\u001b[49m\u001b[43m]\u001b[49m\n\u001b[1;32m    831\u001b[0m keys_shared \u001b[38;5;241m=\u001b[39m \u001b[38;5;28mset\u001b[39m\u001b[38;5;241m.\u001b[39mintersection(\u001b[38;5;241m*\u001b[39mkeys_map)\n\u001b[1;32m    832\u001b[0m values_shared \u001b[38;5;241m=\u001b[39m [[batch[key] \u001b[38;5;28;01mfor\u001b[39;00m batch \u001b[38;5;129;01min\u001b[39;00m batches] \u001b[38;5;28;01mfor\u001b[39;00m key \u001b[38;5;129;01min\u001b[39;00m keys_shared]\n",
      "File \u001b[0;32m~/Documents/hse/diploma/togyz-qumalaq-agent/venv/lib/python3.11/site-packages/tianshou/data/batch.py:824\u001b[0m, in \u001b[0;36m<listcomp>\u001b[0;34m(.0)\u001b[0m\n\u001b[1;32m    821\u001b[0m     batches \u001b[38;5;241m=\u001b[39m [\u001b[38;5;28mself\u001b[39m, \u001b[38;5;241m*\u001b[39mbatches]\n\u001b[1;32m    822\u001b[0m \u001b[38;5;66;03m# collect non-empty keys\u001b[39;00m\n\u001b[1;32m    823\u001b[0m keys_map \u001b[38;5;241m=\u001b[39m [\n\u001b[0;32m--> 824\u001b[0m     \u001b[43m{\u001b[49m\n\u001b[1;32m    825\u001b[0m \u001b[43m        \u001b[49m\u001b[43mbatch_key\u001b[49m\n\u001b[1;32m    826\u001b[0m \u001b[43m        \u001b[49m\u001b[38;5;28;43;01mfor\u001b[39;49;00m\u001b[43m \u001b[49m\u001b[43mbatch_key\u001b[49m\u001b[43m,\u001b[49m\u001b[43m \u001b[49m\u001b[43mobj\u001b[49m\u001b[43m \u001b[49m\u001b[38;5;129;43;01min\u001b[39;49;00m\u001b[43m \u001b[49m\u001b[43mbatch\u001b[49m\u001b[38;5;241;43m.\u001b[39;49m\u001b[43mitems\u001b[49m\u001b[43m(\u001b[49m\u001b[43m)\u001b[49m\n\u001b[1;32m    827\u001b[0m \u001b[43m        \u001b[49m\u001b[38;5;28;43;01mif\u001b[39;49;00m\u001b[43m \u001b[49m\u001b[38;5;129;43;01mnot\u001b[39;49;00m\u001b[43m \u001b[49m\u001b[43m(\u001b[49m\u001b[38;5;28;43misinstance\u001b[39;49m\u001b[43m(\u001b[49m\u001b[43mobj\u001b[49m\u001b[43m,\u001b[49m\u001b[43m \u001b[49m\u001b[43mBatchProtocol\u001b[49m\u001b[43m)\u001b[49m\u001b[43m \u001b[49m\u001b[38;5;129;43;01mand\u001b[39;49;00m\u001b[43m \u001b[49m\u001b[43mobj\u001b[49m\u001b[38;5;241;43m.\u001b[39;49m\u001b[43mis_empty\u001b[49m\u001b[43m(\u001b[49m\u001b[43m)\u001b[49m\u001b[43m)\u001b[49m\n\u001b[1;32m    828\u001b[0m \u001b[43m    \u001b[49m\u001b[43m}\u001b[49m\n\u001b[1;32m    829\u001b[0m     \u001b[38;5;28;01mfor\u001b[39;00m batch \u001b[38;5;129;01min\u001b[39;00m batches\n\u001b[1;32m    830\u001b[0m ]\n\u001b[1;32m    831\u001b[0m keys_shared \u001b[38;5;241m=\u001b[39m \u001b[38;5;28mset\u001b[39m\u001b[38;5;241m.\u001b[39mintersection(\u001b[38;5;241m*\u001b[39mkeys_map)\n\u001b[1;32m    832\u001b[0m values_shared \u001b[38;5;241m=\u001b[39m [[batch[key] \u001b[38;5;28;01mfor\u001b[39;00m batch \u001b[38;5;129;01min\u001b[39;00m batches] \u001b[38;5;28;01mfor\u001b[39;00m key \u001b[38;5;129;01min\u001b[39;00m keys_shared]\n",
      "File \u001b[0;32m~/Documents/hse/diploma/togyz-qumalaq-agent/venv/lib/python3.11/site-packages/tianshou/data/batch.py:827\u001b[0m, in \u001b[0;36m<setcomp>\u001b[0;34m(.0)\u001b[0m\n\u001b[1;32m    821\u001b[0m     batches \u001b[38;5;241m=\u001b[39m [\u001b[38;5;28mself\u001b[39m, \u001b[38;5;241m*\u001b[39mbatches]\n\u001b[1;32m    822\u001b[0m \u001b[38;5;66;03m# collect non-empty keys\u001b[39;00m\n\u001b[1;32m    823\u001b[0m keys_map \u001b[38;5;241m=\u001b[39m [\n\u001b[1;32m    824\u001b[0m     {\n\u001b[1;32m    825\u001b[0m         batch_key\n\u001b[1;32m    826\u001b[0m         \u001b[38;5;28;01mfor\u001b[39;00m batch_key, obj \u001b[38;5;129;01min\u001b[39;00m batch\u001b[38;5;241m.\u001b[39mitems()\n\u001b[0;32m--> 827\u001b[0m         \u001b[38;5;28;01mif\u001b[39;00m \u001b[38;5;129;01mnot\u001b[39;00m (\u001b[38;5;28misinstance\u001b[39m(obj, BatchProtocol) \u001b[38;5;129;01mand\u001b[39;00m obj\u001b[38;5;241m.\u001b[39mis_empty())\n\u001b[1;32m    828\u001b[0m     }\n\u001b[1;32m    829\u001b[0m     \u001b[38;5;28;01mfor\u001b[39;00m batch \u001b[38;5;129;01min\u001b[39;00m batches\n\u001b[1;32m    830\u001b[0m ]\n\u001b[1;32m    831\u001b[0m keys_shared \u001b[38;5;241m=\u001b[39m \u001b[38;5;28mset\u001b[39m\u001b[38;5;241m.\u001b[39mintersection(\u001b[38;5;241m*\u001b[39mkeys_map)\n\u001b[1;32m    832\u001b[0m values_shared \u001b[38;5;241m=\u001b[39m [[batch[key] \u001b[38;5;28;01mfor\u001b[39;00m batch \u001b[38;5;129;01min\u001b[39;00m batches] \u001b[38;5;28;01mfor\u001b[39;00m key \u001b[38;5;129;01min\u001b[39;00m keys_shared]\n",
      "File \u001b[0;32m/usr/lib/python3.11/typing.py:1966\u001b[0m, in \u001b[0;36m_ProtocolMeta.__instancecheck__\u001b[0;34m(cls, instance)\u001b[0m\n\u001b[1;32m   1957\u001b[0m \u001b[38;5;28;01mif\u001b[39;00m (\n\u001b[1;32m   1958\u001b[0m     \u001b[38;5;28mgetattr\u001b[39m(\u001b[38;5;28mcls\u001b[39m, \u001b[38;5;124m'\u001b[39m\u001b[38;5;124m_is_protocol\u001b[39m\u001b[38;5;124m'\u001b[39m, \u001b[38;5;28;01mFalse\u001b[39;00m) \u001b[38;5;129;01mand\u001b[39;00m\n\u001b[1;32m   1959\u001b[0m     \u001b[38;5;129;01mnot\u001b[39;00m \u001b[38;5;28mgetattr\u001b[39m(\u001b[38;5;28mcls\u001b[39m, \u001b[38;5;124m'\u001b[39m\u001b[38;5;124m_is_runtime_protocol\u001b[39m\u001b[38;5;124m'\u001b[39m, \u001b[38;5;28;01mFalse\u001b[39;00m) \u001b[38;5;129;01mand\u001b[39;00m\n\u001b[1;32m   1960\u001b[0m     \u001b[38;5;129;01mnot\u001b[39;00m _allow_reckless_class_checks(depth\u001b[38;5;241m=\u001b[39m\u001b[38;5;241m2\u001b[39m)\n\u001b[1;32m   1961\u001b[0m ):\n\u001b[1;32m   1962\u001b[0m     \u001b[38;5;28;01mraise\u001b[39;00m \u001b[38;5;167;01mTypeError\u001b[39;00m(\u001b[38;5;124m\"\u001b[39m\u001b[38;5;124mInstance and class checks can only be used with\u001b[39m\u001b[38;5;124m\"\u001b[39m\n\u001b[1;32m   1963\u001b[0m                     \u001b[38;5;124m\"\u001b[39m\u001b[38;5;124m @runtime_checkable protocols\u001b[39m\u001b[38;5;124m\"\u001b[39m)\n\u001b[1;32m   1965\u001b[0m \u001b[38;5;28;01mif\u001b[39;00m ((\u001b[38;5;129;01mnot\u001b[39;00m \u001b[38;5;28mgetattr\u001b[39m(\u001b[38;5;28mcls\u001b[39m, \u001b[38;5;124m'\u001b[39m\u001b[38;5;124m_is_protocol\u001b[39m\u001b[38;5;124m'\u001b[39m, \u001b[38;5;28;01mFalse\u001b[39;00m) \u001b[38;5;129;01mor\u001b[39;00m\n\u001b[0;32m-> 1966\u001b[0m         \u001b[43m_is_callable_members_only\u001b[49m\u001b[43m(\u001b[49m\u001b[38;5;28;43mcls\u001b[39;49m\u001b[43m)\u001b[49m) \u001b[38;5;129;01mand\u001b[39;00m\n\u001b[1;32m   1967\u001b[0m         \u001b[38;5;28missubclass\u001b[39m(instance\u001b[38;5;241m.\u001b[39m\u001b[38;5;18m__class__\u001b[39m, \u001b[38;5;28mcls\u001b[39m)):\n\u001b[1;32m   1968\u001b[0m     \u001b[38;5;28;01mreturn\u001b[39;00m \u001b[38;5;28;01mTrue\u001b[39;00m\n\u001b[1;32m   1969\u001b[0m \u001b[38;5;28;01mif\u001b[39;00m \u001b[38;5;28mcls\u001b[39m\u001b[38;5;241m.\u001b[39m_is_protocol:\n",
      "File \u001b[0;32m/usr/lib/python3.11/typing.py:1894\u001b[0m, in \u001b[0;36m_is_callable_members_only\u001b[0;34m(cls)\u001b[0m\n\u001b[1;32m   1892\u001b[0m \u001b[38;5;28;01mdef\u001b[39;00m \u001b[38;5;21m_is_callable_members_only\u001b[39m(\u001b[38;5;28mcls\u001b[39m):\n\u001b[1;32m   1893\u001b[0m     \u001b[38;5;66;03m# PEP 544 prohibits using issubclass() with protocols that have non-method members.\u001b[39;00m\n\u001b[0;32m-> 1894\u001b[0m     \u001b[38;5;28;01mreturn\u001b[39;00m \u001b[38;5;28mall\u001b[39m(\u001b[38;5;28mcallable\u001b[39m(\u001b[38;5;28mgetattr\u001b[39m(\u001b[38;5;28mcls\u001b[39m, attr, \u001b[38;5;28;01mNone\u001b[39;00m)) \u001b[38;5;28;01mfor\u001b[39;00m attr \u001b[38;5;129;01min\u001b[39;00m \u001b[43m_get_protocol_attrs\u001b[49m\u001b[43m(\u001b[49m\u001b[38;5;28;43mcls\u001b[39;49m\u001b[43m)\u001b[49m)\n",
      "File \u001b[0;32m/usr/lib/python3.11/typing.py:1888\u001b[0m, in \u001b[0;36m_get_protocol_attrs\u001b[0;34m(cls)\u001b[0m\n\u001b[1;32m   1886\u001b[0m     \u001b[38;5;28;01mfor\u001b[39;00m attr \u001b[38;5;129;01min\u001b[39;00m \u001b[38;5;28mlist\u001b[39m(base\u001b[38;5;241m.\u001b[39m\u001b[38;5;18m__dict__\u001b[39m\u001b[38;5;241m.\u001b[39mkeys()) \u001b[38;5;241m+\u001b[39m \u001b[38;5;28mlist\u001b[39m(annotations\u001b[38;5;241m.\u001b[39mkeys()):\n\u001b[1;32m   1887\u001b[0m         \u001b[38;5;28;01mif\u001b[39;00m \u001b[38;5;129;01mnot\u001b[39;00m attr\u001b[38;5;241m.\u001b[39mstartswith(\u001b[38;5;124m'\u001b[39m\u001b[38;5;124m_abc_\u001b[39m\u001b[38;5;124m'\u001b[39m) \u001b[38;5;129;01mand\u001b[39;00m attr \u001b[38;5;129;01mnot\u001b[39;00m \u001b[38;5;129;01min\u001b[39;00m EXCLUDED_ATTRIBUTES:\n\u001b[0;32m-> 1888\u001b[0m             attrs\u001b[38;5;241m.\u001b[39madd(attr)\n\u001b[1;32m   1889\u001b[0m \u001b[38;5;28;01mreturn\u001b[39;00m attrs\n",
      "\u001b[0;31mKeyboardInterrupt\u001b[0m: "
     ]
    }
   ],
   "source": [
    "# Before evaluate this cell run the cell with env\n",
    "# ======== Step 1: Environment setup =========\n",
    "\n",
    "train_envs = DummyVectorEnv([_get_env for _ in range(100)])\n",
    "test_envs = DummyVectorEnv([_get_env for _ in range(100)])\n",
    "\n",
    "# seed\n",
    "seed = 77\n",
    "np.random.seed(seed)\n",
    "torch.manual_seed(seed)\n",
    "train_envs.seed(seed)\n",
    "test_envs.seed(seed)\n",
    "\n",
    "# ======== Step 2: Agent setup =========\n",
    "policy, optim, agents = _get_agents()\n",
    "\n",
    "# ======== Step 3: Collector setup =========\n",
    "train_collector = Collector(\n",
    "    policy=policy,\n",
    "    env=train_envs,\n",
    "    buffer=VectorReplayBuffer(20_000, len(train_envs)),\n",
    ")\n",
    "test_collector = Collector(policy=policy, env=test_envs)\n",
    "\n",
    "#======== Step 4: Callback functions setup =========\n",
    "\n",
    "def save_best_fn(policy):\n",
    "    model_save_path = os.path.join(\"models\", \"ppo\", \"policy_ppo_128x256x256x128.pth\")\n",
    "    os.makedirs(os.path.join(\"models\", \"ppo\"), exist_ok=True)\n",
    "    torch.save(policy.policies[agents[1]].state_dict(), model_save_path)\n",
    "\n",
    "def stop_fn(mean_rewards):\n",
    "    return mean_rewards >= 22000\n",
    "\n",
    "def reward_metric(rews):\n",
    "    return rews[:, 1]\n",
    "\n",
    "#======== Step 5: Run the trainer =========\n",
    "result = OnpolicyTrainer(\n",
    "    policy=policy,\n",
    "    train_collector=train_collector,\n",
    "    test_collector=test_collector,\n",
    "    max_epoch=100,\n",
    "    step_per_epoch=50000,\n",
    "    repeat_per_collect=10,\n",
    "    episode_per_test=10,\n",
    "    batch_size=256,\n",
    "    step_per_collect=2000,\n",
    "    reward_metric=reward_metric,\n",
    "    stop_fn=stop_fn,\n",
    "    save_best_fn=save_best_fn\n",
    ").run()\n",
    "\n",
    "# return result, policy.policies[agents[1]]\n",
    "print(f\"\\n==========Result==========\\n{result}\")\n",
    "print(\"\\n(the trained policy can be accessed via policy.policies[agents[1]])\")"
   ]
  },
  {
   "cell_type": "markdown",
   "metadata": {},
   "source": [
    "### 🐃 Load ppo agents"
   ]
  },
  {
   "cell_type": "code",
   "execution_count": 70,
   "metadata": {},
   "outputs": [
    {
     "data": {
      "text/plain": [
       "<All keys matched successfully>"
      ]
     },
     "execution_count": 70,
     "metadata": {},
     "output_type": "execute_result"
    }
   ],
   "source": [
    "agent1_learned_ppo_path = \"models/ppo/policy_ppo_64x128x128x64.pth\"\n",
    "agent2_learned_ppo_path = \"models/ppo/policy_ppo_128x256x256x128.pth\"\n",
    "env = _get_env()\n",
    "net1 = Net(state_shape=(22,), hidden_sizes=[64, 128, 128, 64], device=device).to(device)\n",
    "actor = Actor(preprocess_net=net1, action_shape=env.action_space.shape, device=device).to(device)\n",
    "critic = Critic(preprocess_net=net1, device=device).to(device)\n",
    "actor_critic = ActorCritic(actor=actor, critic=critic)\n",
    "optim = torch.optim.Adam(actor_critic.parameters(), lr=0.0003)\n",
    "\n",
    "agent1_learned_ppo = PPOPolicy(\n",
    "    actor=actor,\n",
    "    critic=critic,\n",
    "    optim=optim,\n",
    "    dist_fn=torch.distributions.Categorical,\n",
    "    action_space=env.action_space,\n",
    "    deterministic_eval=True,\n",
    "    action_scaling=False,\n",
    ")\n",
    "agent1_learned_ppo.load_state_dict(torch.load(agent1_learned_ppo_path))\n",
    "\n",
    "\n",
    "net2 = Net(state_shape=(22,), hidden_sizes=[128, 256, 256, 128], device=device).to(device)\n",
    "actor = Actor(preprocess_net=net2, action_shape=env.action_space.shape, device=device).to(device)\n",
    "critic = Critic(preprocess_net=net2, device=device).to(device)\n",
    "actor_critic = ActorCritic(actor=actor, critic=critic)\n",
    "optim = torch.optim.Adam(actor_critic.parameters(), lr=0.0003)\n",
    "\n",
    "agent2_learned_ppo = PPOPolicy(\n",
    "    actor=actor,\n",
    "    critic=critic,\n",
    "    optim=optim,\n",
    "    dist_fn=torch.distributions.Categorical,\n",
    "    action_space=env.action_space,\n",
    "    deterministic_eval=True,\n",
    "    action_scaling=False,\n",
    ")\n",
    "agent2_learned_ppo.load_state_dict(torch.load(agent2_learned_ppo_path))"
   ]
  },
  {
   "cell_type": "markdown",
   "metadata": {},
   "source": [
    "### 🐟 Evaluate best Qostaushy agent with different policies"
   ]
  },
  {
   "cell_type": "code",
   "execution_count": 73,
   "metadata": {},
   "outputs": [
    {
     "name": "stdout",
     "output_type": "stream",
     "text": [
      "{'bastaushy': 1, 'qostaushy': 0}\n"
     ]
    }
   ],
   "source": [
    "PLAYS = {\"bastaushy\": 0, \"qostaushy\": 0}\n",
    "# Step 1: Load the PettingZoo environment\n",
    "env = env()#render_mode=\"human\")\n",
    "\n",
    "# Step 2: Wrap the environment for Tianshou interfacing\n",
    "env = PettingZooEnv(env)\n",
    "\n",
    "# # Step 3: Define policies for each agent\n",
    "policies = MultiAgentPolicyManager(policies=[agent4_learned, agent2_learned_ppo], env=env)\n",
    "# # Step 4: Convert the env to vector format\n",
    "env = DummyVectorEnv([lambda: env])\n",
    "\n",
    "# # Step 5: Construct the Collector, which interfaces the policies with the vectorised environment\n",
    "collector = Collector(policies, env)\n",
    "\n",
    "# # Step 6: Execute the environment with the agents playing for 1 episode, and render a frame every 2 seconds\n",
    "result = collector.collect(n_episode=1, reset_before_collect=True)\n",
    "print(PLAYS)"
   ]
  },
  {
   "cell_type": "markdown",
   "metadata": {},
   "source": [
    "### 𓃰 Play results"
   ]
  },
  {
   "cell_type": "markdown",
   "metadata": {},
   "source": [
    "- *agent4_learned* vs *agent1_learned_ppo*: {'bastaushy': 1, 'qostaushy': 0}\n",
    "\n",
    "- *agent1_learned* vs *agent1_learned_ppo*: {'bastaushy': 0, 'qostaushy': 1}\n",
    "\n",
    "- *agent1_learned_ppo* vs *agent1_learned*: {'bastaushy': 1, 'qostaushy': 0}\n",
    "\n",
    "- *agent2_learned* vs *agent1_learned_ppo*: {'bastaushy': 0, 'qostaushy': 1}\n",
    "\n",
    "- *agent1_learned_ppo* vs *agent2_learned*: {'bastaushy': 0, 'qostaushy': 1}\n",
    "\n",
    "- *agent3_learned* vs *agent1_learned_ppo*: {'bastaushy': 0, 'qostaushy': 0}\n",
    "\n",
    "- *agent1_learned_ppo* vs *agent3_learned*: {'bastaushy': 1, 'qostaushy': 0}"
   ]
  },
  {
   "cell_type": "code",
   "execution_count": null,
   "metadata": {},
   "outputs": [],
   "source": []
  }
 ],
 "metadata": {
  "accelerator": "GPU",
  "colab": {
   "authorship_tag": "ABX9TyOCOxlghPOzK+89TPmYdKQh",
   "collapsed_sections": [
    "luAZ42vu0ipC",
    "1aNj2Mfm0Zb-",
    "i9JzOFeK1kmm",
    "46_0KK8E1rWM",
    "nF0ZMW3wLv-B",
    "T7IIe3E9M69q",
    "c-thy8-oCce4",
    "sNPVNMBTNW3z",
    "b9q8lRmx-FU_",
    "ARZK7tZNb4J3"
   ],
   "gpuType": "T4",
   "include_colab_link": true,
   "provenance": []
  },
  "kernelspec": {
   "display_name": "venv",
   "language": "python",
   "name": "venv"
  },
  "language_info": {
   "codemirror_mode": {
    "name": "ipython",
    "version": 3
   },
   "file_extension": ".py",
   "mimetype": "text/x-python",
   "name": "python",
   "nbconvert_exporter": "python",
   "pygments_lexer": "ipython3",
   "version": "3.11.0rc1"
  }
 },
 "nbformat": 4,
 "nbformat_minor": 4
}
