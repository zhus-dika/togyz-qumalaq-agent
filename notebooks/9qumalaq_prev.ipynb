{
 "cells": [
  {
   "cell_type": "markdown",
   "metadata": {
    "colab_type": "text",
    "id": "view-in-github"
   },
   "source": [
    "<a href=\"https://colab.research.google.com/github/zhus-dika/togyz-qumalaq-agent/blob/main/togyzqumalaq_aec_vs_random_policy.ipynb\" target=\"_parent\"><img src=\"https://colab.research.google.com/assets/colab-badge.svg\" alt=\"Open In Colab\"/></a>"
   ]
  },
  {
   "cell_type": "code",
   "execution_count": null,
   "metadata": {},
   "outputs": [],
   "source": [
    "#!python -m ipykernel install --user --name=venv"
   ]
  },
  {
   "cell_type": "markdown",
   "metadata": {
    "id": "n-ODLQYxcX21"
   },
   "source": [
    "#  🐘 AEC environment https://pettingzoo.farama.org/api/aec/#about-aec"
   ]
  },
  {
   "cell_type": "markdown",
   "metadata": {
    "id": "1aNj2Mfm0Zb-"
   },
   "source": [
    "### 🐞 Imports"
   ]
  },
  {
   "cell_type": "code",
   "execution_count": 1,
   "metadata": {
    "id": "vaX0bAwy0cd5"
   },
   "outputs": [],
   "source": [
    "import gymnasium\n",
    "import os\n",
    "import numpy as np\n",
    "from gymnasium.spaces import Discrete, MultiDiscrete\n",
    "from gymnasium import spaces\n",
    "\n",
    "from IPython.display import clear_output\n",
    "import time\n",
    "from pettingzoo import AECEnv\n",
    "from pettingzoo.utils import agent_selector, wrappers\n",
    "import matplotlib.pyplot as plt\n",
    "from tqdm.notebook import tqdm\n",
    "import csv\n",
    "import pandas as pd\n",
    "from scipy.interpolate import interp1d\n",
    "\n",
    "import os\n",
    "from typing import Optional, Tuple\n",
    "\n",
    "from torch.utils.tensorboard import SummaryWriter\n",
    "from tianshou.utils import TensorboardLogger\n",
    "\n",
    "import gymnasium\n",
    "import numpy as np\n",
    "import torch\n",
    "from copy import deepcopy\n",
    "from tianshou.data import Collector, VectorReplayBuffer\n",
    "from tianshou.env import DummyVectorEnv\n",
    "from tianshou.env.pettingzoo_env import PettingZooEnv\n",
    "from tianshou.policy import BasePolicy, DQNPolicy, RainbowPolicy, MultiAgentPolicyManager, RandomPolicy\n",
    "from tianshou.trainer import OffpolicyTrainer\n",
    "from tianshou.utils.net.common import Net\n",
    "\n",
    "import random\n",
    "import copy\n",
    "\n",
    "NUM_ITERS = 400\n",
    "PLAYS = {\"bastaushy\": 0, \"qostaushy\": 0}"
   ]
  },
  {
   "cell_type": "markdown",
   "metadata": {
    "id": "i9JzOFeK1kmm"
   },
   "source": [
    "### 🦉 Create environment"
   ]
  },
  {
   "cell_type": "code",
   "execution_count": 2,
   "metadata": {
    "id": "S3Tq7OaYcUfq"
   },
   "outputs": [],
   "source": [
    "def env(render_mode=None):\n",
    "    \"\"\"\n",
    "    The env function often wraps the environment in wrappers by default.\n",
    "    You can find full documentation for these methods\n",
    "    elsewhere in the developer documentation.\n",
    "    \"\"\"\n",
    "    internal_render_mode = render_mode if render_mode != \"ansi\" else \"human\"\n",
    "    env = raw_env(render_mode=internal_render_mode)\n",
    "    # This wrapper is only for environments which print results to the terminal\n",
    "    if render_mode == \"ansi\":\n",
    "        env = wrappers.CaptureStdoutWrapper(env)\n",
    "    # this wrapper helps error handling for discrete action spaces\n",
    "    env = wrappers.AssertOutOfBoundsWrapper(env)\n",
    "    # Provides a wide vareity of helpful user errors\n",
    "    # Strongly recommended\n",
    "    env = wrappers.OrderEnforcingWrapper(env)\n",
    "    return env\n",
    "\n",
    "\n",
    "class raw_env(AECEnv):\n",
    "    \"\"\"\n",
    "    The metadata holds environment constants. From gymnasium, we inherit the \"render_modes\",\n",
    "    metadata which specifies which modes can be put into the render() method.\n",
    "    At least human mode should be supported.\n",
    "    The \"name\" metadata allows the environment to be pretty printed.\n",
    "    \"\"\"\n",
    "\n",
    "    metadata = {\n",
    "        \"render_modes\": [\"ansi\", \"human\"],\n",
    "        \"name\": \"togyzqumalaq_v0\"\n",
    "        }\n",
    "\n",
    "    def __init__(self, render_mode=None):\n",
    "        \"\"\"\n",
    "        The init method takes in environment arguments and\n",
    "         should define the following attributes:\n",
    "        - otaular\n",
    "        - tuzdyq\n",
    "        - qazandar\n",
    "        - possible_agents\n",
    "        - render_mode\n",
    "\n",
    "        Note: as of v1.18.1, the action_spaces and observation_spaces attributes are deprecated.\n",
    "        Spaces should be defined in the action_space() and observation_space() methods.\n",
    "        If these methods are not overridden, spaces will be inferred from self.observation_spaces/action_spaces, raising a warning.\n",
    "\n",
    "        These attributes should not be changed after initialization.\n",
    "        \"\"\"\n",
    "        self.otaular = []\n",
    "        self.tuzdyq = []\n",
    "        self.qazandar = []\n",
    "        self.direction = []\n",
    "        self.agents = [\"bastaushy\", \"qostaushy\"]\n",
    "        self.possible_agents = self.agents[:]\n",
    "        # optional: we can define the observation and action spaces here as attributes to be used in their corresponding methods\n",
    "        self.action_spaces = {i: spaces.Discrete(9) for i in self.agents}\n",
    "        self.observation_spaces = {\n",
    "            i: spaces.Dict(\n",
    "                {\n",
    "                    \"observation\": MultiDiscrete([100] * 18 + [9] * 2 + [82] * 2),\n",
    "                    \"action_mask\": Discrete(9),\n",
    "                }\n",
    "            )\n",
    "            for i in self.agents\n",
    "        }\n",
    "        self.render_mode = render_mode\n",
    "\n",
    "    # Observation space should be defined here.\n",
    "    def action_space(self, agent):\n",
    "        return self.action_spaces[agent]\n",
    "\n",
    "    # Action space should be defined here.\n",
    "    def observation_space(self, agent):\n",
    "        return self.observation_spaces[agent]\n",
    "\n",
    "    def render(self):\n",
    "        \"\"\"\n",
    "        Renders the environment. In human mode, it can print to terminal, open\n",
    "        up a graphical window, or open up some other display that a human can see and understand.\n",
    "        \"\"\"\n",
    "        \"\"\"Renders the environment.\"\"\"\n",
    "        if self.render_mode is None:\n",
    "            gymnasium.logger.warn(\n",
    "                \"You are calling render method without specifying any render mode.\"\n",
    "            )\n",
    "            return\n",
    "\n",
    "        if len(self.agents) == 2:\n",
    "            points_bastaushy_x = np.array([i * 2 for i in range(10)])\n",
    "            points_bastaushy_y = np.array([i % 5 for i in range(50)])\n",
    "\n",
    "            x = np.arange(-3, 225, 1)\n",
    "            y = -1\n",
    "\n",
    "            text_kwargs = dict(ha='center', va='center', fontsize=12)\n",
    "            plt.figure(figsize=(17, 6))\n",
    "\n",
    "            for i in range(9):\n",
    "                # qostaushy's part\n",
    "                plt.scatter(np.repeat(points_bastaushy_x + 25 * i, 5)[:self.otaular[17 - i]], points_bastaushy_y[:self.otaular[17 - i]], marker='o')\n",
    "                # horizontal line\n",
    "                plt.plot(x, np.repeat(y, len(x)))\n",
    "                # vertical lines\n",
    "                plt.plot(np.repeat(25 * i - 2, len(x)), np.arange(-7, 5, 12 / len(x)))\n",
    "                # bastaushy's part\n",
    "                plt.scatter(np.repeat(points_bastaushy_x + 25 * i, 5)[:self.otaular[i]], points_bastaushy_y[:self.otaular[i]] - 6, marker='o')\n",
    "\n",
    "            #last vertical line\n",
    "            plt.plot(np.repeat(25 * 9 - 2, len(x)), np.arange(-7, 5, 12 / len(x)))\n",
    "\n",
    "            for i in range(9):\n",
    "                # bastaushy's qumalaqtar\n",
    "                plt.text(25 * i + 10, -7, f'{i} ({self.otaular[i]})', **text_kwargs)\n",
    "                # qostaushy's qumalaqtar\n",
    "                plt.text(25 * i + 10, 5, f'{17 - i} ({self.otaular[17 - i]})', **text_kwargs)\n",
    "            # bastaushy qazan's qumalaqtar\n",
    "            plt.text(230, -4, f'qazan: {self.qazandar[0]}', **text_kwargs)\n",
    "            # qostaushy qazan's qumalaqtar\n",
    "            plt.text(230, 2, f'qazan: {self.qazandar[1]}', **text_kwargs);\n",
    "            # bastaushy tuzdyq's qumalaqtar\n",
    "            plt.text(230, -6, f'tuzdyq: {self.tuzdyq[0]}', **text_kwargs)\n",
    "            # qostaushy tuzdyq's qumalaqtar\n",
    "            plt.text(230, 0, f'tuzdyq: {self.tuzdyq[1]}', **text_kwargs);\n",
    "            plt.show()\n",
    "        else:\n",
    "            if self.render_mode == \"human\":\n",
    "                print(\"Game over\")\n",
    "        time.sleep(2)\n",
    "        clear_output(True)\n",
    "\n",
    "    def _legal_moves(self, agent):\n",
    "        cur_player = self.possible_agents.index(agent)\n",
    "        opp_player = (cur_player + 1) % 2\n",
    "        return [item for item in range(9 * cur_player, (cur_player + 1) * 9) if self.tuzdyq[opp_player] != item and self.otaular[item] > 0]\n",
    "\n",
    "    def observe(self, agent):\n",
    "        \"\"\"\n",
    "        Observe should return the observation of the specified agent. This function\n",
    "        should return a sane observation (though not necessarily the most up to date possible)\n",
    "        at any time after reset() is called.\n",
    "        \"\"\"\n",
    "        # observation of one agent is the previous state of the other\n",
    "        legal_moves = self._legal_moves(agent) if agent == self.agent_selection else []\n",
    "        action_mask = np.zeros(9, \"int8\")\n",
    "        if self.possible_agents.index(agent) == 1:\n",
    "            legal_moves = [i - 9 for i in legal_moves]\n",
    "        for i in legal_moves:\n",
    "            action_mask[i] = 1\n",
    "        observation = tuple(\n",
    "            self.otaular + self.tuzdyq + self.qazandar\n",
    "        )\n",
    "        return {\"observation\": observation, \"action_mask\": action_mask}\n",
    "\n",
    "    def close(self):\n",
    "        \"\"\"\n",
    "        Close should release any graphical displays, subprocesses, network connections\n",
    "        or any other environment data which should not be kept around after the\n",
    "        user is no longer using the environment.\n",
    "        \"\"\"\n",
    "        pass\n",
    "\n",
    "    def reset(self, seed=None, options=None):\n",
    "        \"\"\"\n",
    "        Reset needs to initialize the following attributes\n",
    "        - agents\n",
    "        - rewards\n",
    "        - _cumulative_rewards\n",
    "        - terminations\n",
    "        - truncations\n",
    "        - infos\n",
    "        - agent_selection\n",
    "        And must set up the environment so that render(), step(), and observe()\n",
    "        can be called without issues.\n",
    "        Here it sets up the state dictionary which is used by step() and the observations dictionary which is used by step() and observe()\n",
    "        \"\"\"\n",
    "        self.agents = self.possible_agents[:]\n",
    "        self.rewards = {agent: 0 for agent in self.agents}\n",
    "        self._cumulative_rewards = {agent: 0 for agent in self.agents}\n",
    "        self.otaular = [9, 9, 9, 9, 9, 9, 9, 9, 9, 9, 9, 9, 9, 9, 9, 9, 9, 9]\n",
    "        self.direction = [list(range(18)), [9, 10, 11, 12, 13, 14, 15, 16, 17, 0, 1, 2, 3, 4, 5, 6, 7, 8]]\n",
    "        self.tuzdyq = [-1, -1]\n",
    "        self.qazandar = [0, 0]\n",
    "        self.terminations = {agent: False for agent in self.agents}\n",
    "        self.truncations = {agent: False for agent in self.agents}\n",
    "        self.infos = {agent: {} for agent in self.agents}\n",
    "        self.num_moves = 0\n",
    "        observation = tuple(\n",
    "            self.otaular + self.tuzdyq + self.qazandar\n",
    "        )\n",
    "        self.observations = {agent: observation for agent in self.agents}\n",
    "        \"\"\"\n",
    "        Our agent_selector utility allows easy cyclic stepping through the agents list.\n",
    "        \"\"\"\n",
    "        self._agent_selector = agent_selector(self.agents)\n",
    "        self.agent_selection = self._agent_selector.next()\n",
    "\n",
    "    def step(self, action):\n",
    "        \"\"\"\n",
    "        step(action) takes in an action for the current agent (specified by\n",
    "        agent_selection) and needs to update\n",
    "        - rewards\n",
    "        - _cumulative_rewards (accumulating the rewards)\n",
    "        - terminations\n",
    "        - truncations\n",
    "        - infos\n",
    "        - agent_selection (to the next agent)\n",
    "        And any internal state used by observe() or render()\n",
    "        \"\"\"\n",
    "        if (\n",
    "            self.terminations[self.agent_selection]\n",
    "            or self.truncations[self.agent_selection]\n",
    "        ):\n",
    "            # handles stepping an agent which is already dead\n",
    "            # accepts a None action for the one agent, and moves the agent_selection to\n",
    "            # the next dead agent,  or if there are no more dead agents, to the next live agent\n",
    "            self._was_dead_step(action)\n",
    "            return\n",
    "\n",
    "        cur_player = self.possible_agents.index(self.agent_selection)\n",
    "        opp_player = (cur_player + 1) % 2\n",
    "        self.num_moves += 1\n",
    "        if self.render_mode == \"human\":\n",
    "            print(f'MOVE #{self.num_moves}')\n",
    "        # The truncations dictionary must be updated for all players.\n",
    "        self.truncations = {\n",
    "            agent: self.num_moves >= NUM_ITERS for agent in self.agents\n",
    "        }\n",
    "        # distribute qumalaqs\n",
    "        if cur_player == 1:\n",
    "            action += 9\n",
    "        if self.render_mode == \"human\":\n",
    "            print(f'{self.agent_selection} made action {action}')\n",
    "        num_qumalaq = self.otaular[action]\n",
    "        idx_action = self.direction[cur_player].index(action)\n",
    "        if self.otaular[action] == 1:\n",
    "            self.otaular[self.direction[cur_player][idx_action + 1]] += 1\n",
    "            self.otaular[action] -= 1\n",
    "        else:\n",
    "            i = 1\n",
    "            while self.otaular[action] > 1:\n",
    "                self.otaular[self.direction[cur_player][(idx_action + i) % 18]] += 1\n",
    "                self.otaular[action] -= 1\n",
    "                i += 1\n",
    "        # check tuzdyq & add rewards to qazandar\n",
    "        reward = 0\n",
    "        # curriculum lesson # 6\n",
    "        # increase reward for winning tuzdyq\n",
    "        if self.check_tuzdyq(self.agent_selection, action):\n",
    "            reward += 3\n",
    "            #self.rewards[self.agent_selection] += 10\n",
    "            if self.render_mode == \"human\":\n",
    "                print(f'{self.agent_selection} won tuzdyq {reward}')\n",
    "        else:\n",
    "\n",
    "            if num_qumalaq > 1:\n",
    "                last_otau = self.direction[cur_player][(idx_action + num_qumalaq - 1) % 18]\n",
    "            else:\n",
    "                last_otau = self.direction[cur_player][(idx_action + num_qumalaq) % 18]\n",
    "\n",
    "            if last_otau in range(opp_player * 9, (opp_player + 1) * 9) and self.otaular[last_otau] % 2 == 0:\n",
    "                reward += self.otaular[last_otau]\n",
    "                if self.render_mode == \"human\":\n",
    "                    print(f'{self.agent_selection} won {reward}')\n",
    "                self.otaular[last_otau] = 0\n",
    "            if self.tuzdyq[cur_player] >= 0 and self.otaular[self.tuzdyq[cur_player]] > 0:\n",
    "                reward += self.otaular[self.tuzdyq[cur_player]]\n",
    "                if self.render_mode == \"human\":\n",
    "                    print(f'{self.agent_selection} won tuzdyq {self.otaular[self.tuzdyq[cur_player]]}')\n",
    "                self.otaular[self.tuzdyq[cur_player]] = 0\n",
    "        if self.render_mode == \"human\":\n",
    "            print(f'{self.agent_selection} won total {reward}')\n",
    "        self.qazandar[cur_player] += reward\n",
    "        #=======================================================================#\n",
    "        # curriculum lesson # 1\n",
    "        # for i in range(cur_player * 9, 9 + cur_player * 9):\n",
    "        #     if self.otaular[i] % 2 != 0:\n",
    "        #         reward -= 1\n",
    "        \n",
    "        #=======================================================================#\n",
    "        # curriculum lesson # 2\n",
    "        opp_actions = self._legal_moves(self.possible_agents[opp_player])\n",
    "        rew_opp = 0\n",
    "        for opp_act in opp_actions:\n",
    "            num_qumalaq = self.otaular[opp_act]\n",
    "            idx_action = self.direction[opp_player].index(action)\n",
    "            if num_qumalaq > 1:\n",
    "                last_otau = self.direction[opp_player][(idx_action + num_qumalaq - 1) % 18]\n",
    "            else:\n",
    "                last_otau = self.direction[opp_player][(idx_action + num_qumalaq) % 18]\n",
    "            if rew_opp < self.otaular[last_otau] and self.otaular[last_otau] % 2 == 1 and last_otau in range(cur_player * 9, (cur_player + 1) * 9):\n",
    "                rew_opp = self.otaular[last_otau]\n",
    "        self.rewards[self.agent_selection] -= 0.5 * rew_opp\n",
    "        #=======================================================================#\n",
    "        # curriculum lesson # 3\n",
    "        # reduce the number of steps\n",
    "        self.rewards[self.agent_selection] -= 1\n",
    "        \n",
    "        self.rewards[self.agent_selection] += reward\n",
    "        # check if there is a winner\n",
    "        winner = self.check_for_winner()\n",
    "\n",
    "        #=======================================================================#\n",
    "        # curriculum lesson # 4\n",
    "        # increase reward for winning the game\n",
    "\n",
    "        #=======================================================================#\n",
    "        # curriculum lesson # 5\n",
    "        # calculate reward in other way\n",
    "        # self.rewards[self.agent_selection] += (self.qazandar[cur_player] - self.qazandar[opp_player]) / 82\n",
    "        # self.rewards[self.agent_selection] -= 0.05\n",
    "        if winner:\n",
    "            # print(\"NSTEPS =\", self.num_moves)\n",
    "            self.rewards[self.agent_selection] += 100\n",
    "            # self.rewards[self.agent_selection] += 1\n",
    "            self.terminations = {i: True for i in self.agents}\n",
    "            if self.render_mode == \"human\":\n",
    "                print(f'{self.agent_selection} won the game!!!')\n",
    "        # selects the next agent.\n",
    "        self.agent_selection = self._agent_selector.next()\n",
    "        # Adds .rewards to ._cumulative_rewards\n",
    "        self._accumulate_rewards()\n",
    "\n",
    "        if self.render_mode == \"human\":\n",
    "            self.render()\n",
    "\n",
    "    def check_tuzdyq(self, agent, action):\n",
    "        cur_player = self.possible_agents.index(agent)\n",
    "        opp_player = (cur_player + 1) % 2\n",
    "        idx = self.direction[cur_player].index(action)\n",
    "        num_qumalaq = self.otaular[action]\n",
    "\n",
    "        if num_qumalaq > 1:\n",
    "            last_otau = self.direction[cur_player][(idx + num_qumalaq - 1) % 18]\n",
    "        else:\n",
    "            last_otau = self.direction[cur_player][(idx + num_qumalaq) % 18]\n",
    "\n",
    "        if last_otau in range(opp_player * 9, (opp_player + 1) * 9) and self.otaular[last_otau] == 3 and last_otau != 17 - cur_player * 9 and abs(last_otau - self.tuzdyq[opp_player]) != 9:\n",
    "            self.tuzdyq[cur_player] = last_otau\n",
    "            self.otaular[last_otau] = 0\n",
    "            if self.render_mode == \"human\":\n",
    "                print(f'{agent} got tuzdyq {last_otau}!')\n",
    "            return True\n",
    "\n",
    "        return False\n",
    "\n",
    "    def check_atsyrau(self, agent):\n",
    "        cur_player = self.possible_agents.index(agent)\n",
    "        opp_player = (cur_player + 1) % 2\n",
    "\n",
    "        for idx, i in enumerate(self.otaular[cur_player * 9: (cur_player + 1) * 9]):\n",
    "            if i > 0 and idx + cur_player * 9 != self.tuzdyq[opp_player]:\n",
    "                return False\n",
    "        if self.render_mode == \"human\":\n",
    "            print(f'{agent} reached atsyrau')\n",
    "        return True\n",
    "\n",
    "    def check_for_winner(self):\n",
    "        cur_player = self.possible_agents.index(self.agent_selection)\n",
    "        opp_player = (cur_player + 1) % 2\n",
    "        if self.qazandar[cur_player] > 81:\n",
    "            PLAYS[self.agent_selection] += 1\n",
    "            return True\n",
    "        if self.check_atsyrau(self.possible_agents[opp_player]) and self.qazandar[opp_player] <= 81:\n",
    "            PLAYS[self.agent_selection] += 1\n",
    "            return True\n",
    "        return False"
   ]
  },
  {
   "cell_type": "markdown",
   "metadata": {
    "id": "46_0KK8E1rWM",
    "jp-MarkdownHeadingCollapsed": true
   },
   "source": [
    "### 🦚 Testing environment"
   ]
  },
  {
   "cell_type": "code",
   "execution_count": null,
   "metadata": {
    "id": "lulAELFM0LZQ"
   },
   "outputs": [],
   "source": [
    "# env = env(render_mode=\"human\")\n",
    "# env.reset(seed=42)\n",
    "\n",
    "# for agent in env.agent_iter():\n",
    "#     observation, reward, termination, truncation, info = env.last()\n",
    "\n",
    "#     if termination or truncation:\n",
    "#         action = None\n",
    "#     else:\n",
    "#         mask = observation[\"action_mask\"]\n",
    "#         # this is where you would insert your policy\n",
    "#         action = env.action_space(agent).sample(mask)\n",
    "\n",
    "#     env.step(action)\n",
    "# env.close()"
   ]
  },
  {
   "cell_type": "markdown",
   "metadata": {
    "id": "ebqZJ9uJ1qKU",
    "jp-MarkdownHeadingCollapsed": true
   },
   "source": [
    "# 🐼 DQN agent to play vs a random policy agent https://pettingzoo.farama.org/tutorials/tianshou/intermediate/"
   ]
  },
  {
   "cell_type": "markdown",
   "metadata": {
    "id": "T7IIe3E9M69q",
    "jp-MarkdownHeadingCollapsed": true
   },
   "source": [
    "### 🐝 Imports"
   ]
  },
  {
   "cell_type": "code",
   "execution_count": 3,
   "metadata": {
    "id": "TXt2ni4SM-XL"
   },
   "outputs": [],
   "source": [
    "import os\n",
    "from typing import Optional, Tuple\n",
    "\n",
    "from torch.utils.tensorboard import SummaryWriter\n",
    "from tianshou.utils import TensorboardLogger\n",
    "\n",
    "import gymnasium\n",
    "import numpy as np\n",
    "import torch\n",
    "from copy import deepcopy\n",
    "from tianshou.data import Collector, VectorReplayBuffer\n",
    "from tianshou.env import DummyVectorEnv\n",
    "from tianshou.env.pettingzoo_env import PettingZooEnv\n",
    "from tianshou.policy import BasePolicy, DQNPolicy, RainbowPolicy, MultiAgentPolicyManager, RandomPolicy\n",
    "from tianshou.trainer import OffpolicyTrainer\n",
    "from tianshou.utils.net.common import Net"
   ]
  },
  {
   "cell_type": "markdown",
   "metadata": {
    "id": "sNPVNMBTNW3z"
   },
   "source": [
    "### 🐫 Prepare main functions"
   ]
  },
  {
   "cell_type": "code",
   "execution_count": 5,
   "metadata": {
    "id": "9VNyTKoxNZvV"
   },
   "outputs": [],
   "source": [
    "def _get_agents_dqn(\n",
    "    agent_learn: Optional[BasePolicy] = None,\n",
    "    agent_opponent: Optional[BasePolicy] = None,\n",
    "    optim: Optional[torch.optim.Optimizer] = None,\n",
    ") -> Tuple[BasePolicy, torch.optim.Optimizer, list]:\n",
    "    env = _get_env()\n",
    "    observation_space = (\n",
    "        env.observation_space[\"observation\"]\n",
    "        if isinstance(env.observation_space, gymnasium.spaces.Dict)\n",
    "        else env.observation_space\n",
    "    )\n",
    "    if agent_learn is None:\n",
    "        # model\n",
    "        net = Net(\n",
    "            state_shape=observation_space.shape or observation_space.n,\n",
    "            action_shape=env.action_space.shape or env.action_space.n,\n",
    "            hidden_sizes=[256, 512, 512, 256],\n",
    "            #hidden_sizes=[1024, 2048, 2048, 1024],\n",
    "            device=\"cuda\" if torch.cuda.is_available() else \"cpu\",\n",
    "        ).to(\"cuda\" if torch.cuda.is_available() else \"cpu\")\n",
    "\n",
    "        if optim is None:\n",
    "            optim = torch.optim.Adam(net.parameters(), lr=1e-4)\n",
    "        agent_learn = DQNPolicy(\n",
    "            model=net,\n",
    "            optim=optim,\n",
    "            discount_factor=0.9,\n",
    "            estimation_step=3,\n",
    "            target_update_freq=320,\n",
    "            action_space=env.action_space\n",
    "        ).to(\"cuda\" if torch.cuda.is_available() else \"cpu\")\n",
    "\n",
    "\n",
    "    if agent_opponent is None:\n",
    "        agent_opponent = RandomPolicy(action_space=env.action_space)\n",
    "\n",
    "    agents = [agent_opponent, agent_learn]\n",
    "    #agents = [agent_learn, agent_opponent]\n",
    "    policy = MultiAgentPolicyManager(policies=agents, env=env)\n",
    "    return policy, optim, env.agents\n",
    "\n",
    "\n",
    "def _get_env(render_mode=None):\n",
    "    \"\"\"This function is needed to provide callables for DummyVectorEnv.\"\"\"\n",
    "    def env(render_mode=None):\n",
    "        \"\"\"\n",
    "        The env function often wraps the environment in wrappers by default.\n",
    "        You can find full documentation for these methods\n",
    "        elsewhere in the developer documentation.\n",
    "        \"\"\"\n",
    "        internal_render_mode = render_mode if render_mode != \"ansi\" else \"human\"\n",
    "        env = raw_env(render_mode=internal_render_mode)\n",
    "        # This wrapper is only for environments which print results to the terminal\n",
    "        if render_mode == \"ansi\":\n",
    "            env = wrappers.CaptureStdoutWrapper(env)\n",
    "        # this wrapper helps error handling for discrete action spaces\n",
    "        env = wrappers.AssertOutOfBoundsWrapper(env)\n",
    "        # Provides a wide vareity of helpful user errors\n",
    "        # Strongly recommended\n",
    "        env = wrappers.OrderEnforcingWrapper(env)\n",
    "        return env\n",
    "    return PettingZooEnv(env(render_mode=render_mode))"
   ]
  },
  {
   "cell_type": "markdown",
   "metadata": {
    "jp-MarkdownHeadingCollapsed": true
   },
   "source": [
    "### 🐎 Load trained agents"
   ]
  },
  {
   "cell_type": "code",
   "execution_count": 6,
   "metadata": {},
   "outputs": [],
   "source": [
    "agent1_path = \"models/qostaushy/policy_128x256x256x128_bs64.pth\"\n",
    "agent2_path = \"models/qostaushy/policy_256x512x512x256_bs128.pth\"\n",
    "agent3_path = \"models/qostaushy/policy_512x1024x1024x512_bs128.pth\"\n",
    "agent4_path = \"models/qostaushy/policy_128x256x512x256x128_trained_128x256x256x128.pth\"\n",
    "\n",
    "agents_learned_qostaushy = []\n",
    "env = _get_env()\n",
    "net1 = Net(\n",
    "            state_shape=(22,),\n",
    "            action_shape=env.action_space.shape or env.action_space.n,\n",
    "            hidden_sizes=[128, 256, 256, 128],\n",
    "            device=\"cuda\" if torch.cuda.is_available() else \"cpu\",\n",
    "        ).to(\"cuda\" if torch.cuda.is_available() else \"cpu\")\n",
    "\n",
    "agent1_learned = DQNPolicy(\n",
    "            model=net1,\n",
    "            optim = torch.optim.Adam(net1.parameters(), lr=1e-4),\n",
    "            discount_factor=0.9,\n",
    "            estimation_step=3,\n",
    "            target_update_freq=320,\n",
    "            action_space=env.action_space\n",
    "        ).to(\"cuda\" if torch.cuda.is_available() else \"cpu\")\n",
    "\n",
    "agent1_learned.load_state_dict(torch.load(agent1_path))\n",
    "agents_learned_qostaushy.append(agent1_learned)\n",
    "\n",
    "\n",
    "net2 = Net(\n",
    "            state_shape=(22,),\n",
    "            action_shape=env.action_space.shape or env.action_space.n,\n",
    "            hidden_sizes=[256, 512, 512, 256],\n",
    "            device=\"cuda\" if torch.cuda.is_available() else \"cpu\",\n",
    "        ).to(\"cuda\" if torch.cuda.is_available() else \"cpu\")\n",
    "\n",
    "agent2_learned = DQNPolicy(\n",
    "            model=net2,\n",
    "            optim = torch.optim.Adam(net1.parameters(), lr=1e-4),\n",
    "            discount_factor=0.9,\n",
    "            estimation_step=3,\n",
    "            target_update_freq=320,\n",
    "            action_space=env.action_space\n",
    "        ).to(\"cuda\" if torch.cuda.is_available() else \"cpu\")\n",
    "agent2_learned.load_state_dict(torch.load(agent2_path))\n",
    "agents_learned_qostaushy.append(agent2_learned)\n",
    "\n",
    "\n",
    "net3 = Net(\n",
    "            state_shape=(22,),\n",
    "            action_shape=env.action_space.shape or env.action_space.n,\n",
    "            hidden_sizes=[512, 1024, 1024, 512],\n",
    "            device=\"cuda\" if torch.cuda.is_available() else \"cpu\",\n",
    "        ).to(\"cuda\" if torch.cuda.is_available() else \"cpu\")\n",
    "\n",
    "agent3_learned = DQNPolicy(\n",
    "            model=net3,\n",
    "            optim = torch.optim.Adam(net3.parameters(), lr=1e-4),\n",
    "            discount_factor=0.9,\n",
    "            estimation_step=3,\n",
    "            target_update_freq=320,\n",
    "            action_space=env.action_space\n",
    "        ).to(\"cuda\" if torch.cuda.is_available() else \"cpu\")\n",
    "agent3_learned.load_state_dict(torch.load(agent3_path))\n",
    "agents_learned_qostaushy.append(agent3_learned)\n",
    "\n",
    "\n",
    "net4 = Net(\n",
    "            state_shape=(22,),\n",
    "            action_shape=env.action_space.shape or env.action_space.n,\n",
    "            hidden_sizes=[128, 256, 512, 256, 128],\n",
    "            device=\"cuda\" if torch.cuda.is_available() else \"cpu\",\n",
    "        ).to(\"cuda\" if torch.cuda.is_available() else \"cpu\")\n",
    "\n",
    "agent4_learned = DQNPolicy(\n",
    "            model=net4,\n",
    "            optim = torch.optim.Adam(net3.parameters(), lr=1e-4),\n",
    "            discount_factor=0.9,\n",
    "            estimation_step=3,\n",
    "            target_update_freq=320,\n",
    "            action_space=env.action_space\n",
    "        ).to(\"cuda\" if torch.cuda.is_available() else \"cpu\")\n",
    "\n",
    "agent4_learned.load_state_dict(torch.load(agent4_path))\n",
    "agents_learned_qostaushy.append(agent4_learned)"
   ]
  },
  {
   "cell_type": "markdown",
   "metadata": {
    "jp-MarkdownHeadingCollapsed": true
   },
   "source": [
    "### 🐦 Add logger (to run tensorboard type in terminal  $tensorboard --logdir logs/dqn)"
   ]
  },
  {
   "cell_type": "code",
   "execution_count": 24,
   "metadata": {},
   "outputs": [],
   "source": [
    "log_path = os.path.join('logs', \"dqn\")\n",
    "writer = SummaryWriter(log_path)\n",
    "logger = TensorboardLogger(writer)"
   ]
  },
  {
   "cell_type": "markdown",
   "metadata": {
    "id": "b9q8lRmx-FU_",
    "jp-MarkdownHeadingCollapsed": true
   },
   "source": [
    "###  🐑 Training code https://tianshou.org/en/stable/01_tutorials/04_tictactoe.html"
   ]
  },
  {
   "cell_type": "code",
   "execution_count": 10,
   "metadata": {
    "colab": {
     "base_uri": "https://localhost:8080/"
    },
    "id": "jvKxESZA-H4y",
    "outputId": "22870513-b74e-467c-8d71-72906b2716ed"
   },
   "outputs": [
    {
     "name": "stderr",
     "output_type": "stream",
     "text": [
      "Epoch #1: 1001it [00:01, 589.44it/s, env_step=1000, gradient_step=100, len=0, n/ep=0, n/st=100, rew=0.00]                                                                                         \n"
     ]
    },
    {
     "name": "stdout",
     "output_type": "stream",
     "text": [
      "Epoch #1: test_reward: 2097.800000 ± 1347.820300, best_reward: 9861.500000 ± 4343.065674 in #0\n"
     ]
    },
    {
     "name": "stderr",
     "output_type": "stream",
     "text": [
      "Epoch #2: 1001it [00:01, 663.36it/s, env_step=2000, gradient_step=200, len=0, n/ep=0, n/st=100, rew=0.00]                                                                                         \n"
     ]
    },
    {
     "name": "stdout",
     "output_type": "stream",
     "text": [
      "Epoch #2: test_reward: 5318.400000 ± 2945.467134, best_reward: 9861.500000 ± 4343.065674 in #0\n"
     ]
    },
    {
     "name": "stderr",
     "output_type": "stream",
     "text": [
      "Epoch #3: 1001it [00:01, 553.04it/s, env_step=3000, gradient_step=300, len=0, n/ep=0, n/st=100, rew=0.00]                                                                                         \n"
     ]
    },
    {
     "name": "stdout",
     "output_type": "stream",
     "text": [
      "Epoch #3: test_reward: 6871.200000 ± 2056.227069, best_reward: 9861.500000 ± 4343.065674 in #0\n"
     ]
    },
    {
     "name": "stderr",
     "output_type": "stream",
     "text": [
      "Epoch #4: 1001it [00:01, 766.53it/s, env_step=4000, gradient_step=400, len=0, n/ep=0, n/st=100, rew=0.00]                                                                                         \n"
     ]
    },
    {
     "name": "stdout",
     "output_type": "stream",
     "text": [
      "Epoch #4: test_reward: 8682.200000 ± 5708.286359, best_reward: 9861.500000 ± 4343.065674 in #0\n"
     ]
    },
    {
     "name": "stderr",
     "output_type": "stream",
     "text": [
      "Epoch #5: 1001it [00:01, 642.65it/s, env_step=5000, gradient_step=500, len=0, n/ep=0, n/st=100, rew=0.00]                                                                                         \n"
     ]
    },
    {
     "name": "stdout",
     "output_type": "stream",
     "text": [
      "Epoch #5: test_reward: 8555.200000 ± 2260.999284, best_reward: 9861.500000 ± 4343.065674 in #0\n"
     ]
    },
    {
     "name": "stderr",
     "output_type": "stream",
     "text": [
      "Epoch #6: 1001it [00:01, 650.78it/s, env_step=6000, gradient_step=600, len=0, n/ep=0, n/st=100, rew=0.00]                                                                                         \n"
     ]
    },
    {
     "name": "stdout",
     "output_type": "stream",
     "text": [
      "Epoch #6: test_reward: 10723.000000 ± 2977.142019, best_reward: 10723.000000 ± 2977.142019 in #6\n"
     ]
    },
    {
     "name": "stderr",
     "output_type": "stream",
     "text": [
      "Epoch #7: 1001it [00:01, 565.71it/s, env_step=7000, gradient_step=700, len=68, n/ep=0, n/st=100, rew=1775.00]                                                                                     \n"
     ]
    },
    {
     "name": "stdout",
     "output_type": "stream",
     "text": [
      "Epoch #7: test_reward: 6037.600000 ± 3431.431398, best_reward: 10723.000000 ± 2977.142019 in #6\n"
     ]
    },
    {
     "name": "stderr",
     "output_type": "stream",
     "text": [
      "Epoch #8: 1001it [00:01, 623.63it/s, env_step=8000, gradient_step=800, len=80, n/ep=1, n/st=100, rew=2518.00]                                                                                     \n"
     ]
    },
    {
     "name": "stdout",
     "output_type": "stream",
     "text": [
      "Epoch #8: test_reward: 7393.400000 ± 2375.054703, best_reward: 10723.000000 ± 2977.142019 in #6\n"
     ]
    },
    {
     "name": "stderr",
     "output_type": "stream",
     "text": [
      "Epoch #9: 1001it [00:02, 383.68it/s, env_step=9000, gradient_step=900, len=90, n/ep=1, n/st=100, rew=2765.00]                                                                                     \n"
     ]
    },
    {
     "name": "stdout",
     "output_type": "stream",
     "text": [
      "Epoch #9: test_reward: 10779.600000 ± 3509.502392, best_reward: 10779.600000 ± 3509.502392 in #9\n"
     ]
    },
    {
     "name": "stderr",
     "output_type": "stream",
     "text": [
      "Epoch #10: 1001it [00:01, 579.32it/s, env_step=10000, gradient_step=1000, len=90, n/ep=0, n/st=100, rew=2765.00]                                                                                  \n"
     ]
    },
    {
     "name": "stdout",
     "output_type": "stream",
     "text": [
      "Epoch #10: test_reward: 13421.000000 ± 3428.786549, best_reward: 13421.000000 ± 3428.786549 in #10\n"
     ]
    },
    {
     "name": "stderr",
     "output_type": "stream",
     "text": [
      "Epoch #11: 1001it [00:01, 587.18it/s, env_step=11000, gradient_step=1100, len=110, n/ep=1, n/st=100, rew=3780.00]                                                                                 \n"
     ]
    },
    {
     "name": "stdout",
     "output_type": "stream",
     "text": [
      "Epoch #11: test_reward: 12205.400000 ± 5979.719462, best_reward: 13421.000000 ± 3428.786549 in #10\n"
     ]
    },
    {
     "name": "stderr",
     "output_type": "stream",
     "text": [
      "Epoch #12: 1001it [00:01, 533.12it/s, env_step=12000, gradient_step=1200, len=116, n/ep=0, n/st=100, rew=3617.00]                                                                                 \n"
     ]
    },
    {
     "name": "stdout",
     "output_type": "stream",
     "text": [
      "Epoch #12: test_reward: 11463.600000 ± 4461.561502, best_reward: 13421.000000 ± 3428.786549 in #10\n"
     ]
    },
    {
     "name": "stderr",
     "output_type": "stream",
     "text": [
      "Epoch #13: 1001it [00:02, 427.68it/s, env_step=13000, gradient_step=1300, len=130, n/ep=1, n/st=100, rew=4758.00]                                                                                 \n"
     ]
    },
    {
     "name": "stdout",
     "output_type": "stream",
     "text": [
      "Epoch #13: test_reward: 11203.200000 ± 4163.058799, best_reward: 13421.000000 ± 3428.786549 in #10\n"
     ]
    },
    {
     "name": "stderr",
     "output_type": "stream",
     "text": [
      "Epoch #14: 1001it [00:02, 435.05it/s, env_step=14000, gradient_step=1400, len=130, n/ep=0, n/st=100, rew=4758.00]                                                                                 \n"
     ]
    },
    {
     "name": "stdout",
     "output_type": "stream",
     "text": [
      "Epoch #14: test_reward: 10250.200000 ± 3027.343152, best_reward: 13421.000000 ± 3428.786549 in #10\n"
     ]
    },
    {
     "name": "stderr",
     "output_type": "stream",
     "text": [
      "Epoch #15: 1001it [00:01, 594.52it/s, env_step=15000, gradient_step=1500, len=141, n/ep=0, n/st=100, rew=6296.00]                                                                                 \n"
     ]
    },
    {
     "name": "stdout",
     "output_type": "stream",
     "text": [
      "Epoch #15: test_reward: 11093.500000 ± 3868.824143, best_reward: 13421.000000 ± 3428.786549 in #10\n"
     ]
    },
    {
     "name": "stderr",
     "output_type": "stream",
     "text": [
      "Epoch #16: 1001it [00:01, 562.52it/s, env_step=16000, gradient_step=1600, len=154, n/ep=0, n/st=100, rew=5305.00]                                                                                 \n"
     ]
    },
    {
     "name": "stdout",
     "output_type": "stream",
     "text": [
      "Epoch #16: test_reward: 7044.800000 ± 3366.162468, best_reward: 13421.000000 ± 3428.786549 in #10\n"
     ]
    },
    {
     "name": "stderr",
     "output_type": "stream",
     "text": [
      "Epoch #17: 1001it [00:02, 459.43it/s, env_step=17000, gradient_step=1700, len=169, n/ep=0, n/st=100, rew=6461.00]                                                                                 \n"
     ]
    },
    {
     "name": "stdout",
     "output_type": "stream",
     "text": [
      "Epoch #17: test_reward: 12391.600000 ± 3288.409409, best_reward: 13421.000000 ± 3428.786549 in #10\n"
     ]
    },
    {
     "name": "stderr",
     "output_type": "stream",
     "text": [
      "Epoch #18: 1001it [00:02, 493.89it/s, env_step=18000, gradient_step=1800, len=179, n/ep=0, n/st=100, rew=7357.00]                                                                                 \n"
     ]
    },
    {
     "name": "stdout",
     "output_type": "stream",
     "text": [
      "Epoch #18: test_reward: 10590.200000 ± 3658.735705, best_reward: 13421.000000 ± 3428.786549 in #10\n"
     ]
    },
    {
     "name": "stderr",
     "output_type": "stream",
     "text": [
      "Epoch #19: 1001it [00:02, 442.00it/s, env_step=19000, gradient_step=1900, len=190, n/ep=2, n/st=100, rew=8469.00]                                                                                 \n"
     ]
    },
    {
     "name": "stdout",
     "output_type": "stream",
     "text": [
      "Epoch #19: test_reward: 10188.000000 ± 2123.302145, best_reward: 13421.000000 ± 3428.786549 in #10\n"
     ]
    },
    {
     "name": "stderr",
     "output_type": "stream",
     "text": [
      "Epoch #20: 1001it [00:01, 573.00it/s, env_step=20000, gradient_step=2000, len=197, n/ep=0, n/st=100, rew=7840.50]                                                                                 \n"
     ]
    },
    {
     "name": "stdout",
     "output_type": "stream",
     "text": [
      "Epoch #20: test_reward: 11272.400000 ± 3005.872892, best_reward: 13421.000000 ± 3428.786549 in #10\n"
     ]
    },
    {
     "name": "stderr",
     "output_type": "stream",
     "text": [
      "Epoch #21: 1001it [00:01, 512.23it/s, env_step=21000, gradient_step=2100, len=210, n/ep=1, n/st=100, rew=8332.00]                                                                                 \n"
     ]
    },
    {
     "name": "stdout",
     "output_type": "stream",
     "text": [
      "Epoch #21: test_reward: 10301.200000 ± 2537.792931, best_reward: 13421.000000 ± 3428.786549 in #10\n"
     ]
    },
    {
     "name": "stderr",
     "output_type": "stream",
     "text": [
      "Epoch #22: 1001it [00:02, 463.59it/s, env_step=22000, gradient_step=2200, len=218, n/ep=0, n/st=100, rew=10792.00]                                                                                \n"
     ]
    },
    {
     "name": "stdout",
     "output_type": "stream",
     "text": [
      "Epoch #22: test_reward: 9382.200000 ± 4134.963623, best_reward: 13421.000000 ± 3428.786549 in #10\n"
     ]
    },
    {
     "name": "stderr",
     "output_type": "stream",
     "text": [
      "Epoch #23: 1001it [00:02, 471.92it/s, env_step=23000, gradient_step=2300, len=228, n/ep=0, n/st=100, rew=11571.50]                                                                                \n"
     ]
    },
    {
     "name": "stdout",
     "output_type": "stream",
     "text": [
      "Epoch #23: test_reward: 10822.400000 ± 5712.217069, best_reward: 13421.000000 ± 3428.786549 in #10\n"
     ]
    },
    {
     "name": "stderr",
     "output_type": "stream",
     "text": [
      "Epoch #24: 1001it [00:01, 592.71it/s, env_step=24000, gradient_step=2400, len=240, n/ep=2, n/st=100, rew=12205.50]                                                                                \n"
     ]
    },
    {
     "name": "stdout",
     "output_type": "stream",
     "text": [
      "Epoch #24: test_reward: 16745.400000 ± 5316.471390, best_reward: 16745.400000 ± 5316.471390 in #24\n"
     ]
    },
    {
     "name": "stderr",
     "output_type": "stream",
     "text": [
      "Epoch #25: 1001it [00:01, 501.60it/s, env_step=25000, gradient_step=2500, len=68, n/ep=0, n/st=100, rew=2434.00]                                                                                  \n"
     ]
    },
    {
     "name": "stdout",
     "output_type": "stream",
     "text": [
      "Epoch #25: test_reward: 9863.600000 ± 2591.755667, best_reward: 16745.400000 ± 5316.471390 in #24\n"
     ]
    },
    {
     "name": "stderr",
     "output_type": "stream",
     "text": [
      "Epoch #26: 1001it [00:02, 420.15it/s, env_step=26000, gradient_step=2600, len=253, n/ep=0, n/st=100, rew=10360.00]                                                                                \n"
     ]
    },
    {
     "name": "stdout",
     "output_type": "stream",
     "text": [
      "Epoch #26: test_reward: 14900.500000 ± 3399.339973, best_reward: 16745.400000 ± 5316.471390 in #24\n"
     ]
    },
    {
     "name": "stderr",
     "output_type": "stream",
     "text": [
      "Epoch #27: 1001it [00:01, 519.28it/s, env_step=27000, gradient_step=2700, len=267, n/ep=0, n/st=100, rew=12099.75]                                                                                \n"
     ]
    },
    {
     "name": "stdout",
     "output_type": "stream",
     "text": [
      "Epoch #27: test_reward: 6826.800000 ± 1743.257686, best_reward: 16745.400000 ± 5316.471390 in #24\n"
     ]
    },
    {
     "name": "stderr",
     "output_type": "stream",
     "text": [
      "Epoch #28: 1001it [00:01, 514.14it/s, env_step=28000, gradient_step=2800, len=280, n/ep=2, n/st=100, rew=13034.50]                                                                                \n"
     ]
    },
    {
     "name": "stdout",
     "output_type": "stream",
     "text": [
      "Epoch #28: test_reward: 14420.900000 ± 5741.968625, best_reward: 16745.400000 ± 5316.471390 in #24\n"
     ]
    },
    {
     "name": "stderr",
     "output_type": "stream",
     "text": [
      "Epoch #29: 1001it [00:02, 420.05it/s, env_step=29000, gradient_step=2900, len=135, n/ep=0, n/st=100, rew=6219.00]                                                                                 \n"
     ]
    },
    {
     "name": "stdout",
     "output_type": "stream",
     "text": [
      "Epoch #29: test_reward: 6704.000000 ± 2339.751611, best_reward: 16745.400000 ± 5316.471390 in #24\n"
     ]
    },
    {
     "name": "stderr",
     "output_type": "stream",
     "text": [
      "Epoch #30: 1001it [00:02, 415.85it/s, env_step=30000, gradient_step=3000, len=299, n/ep=0, n/st=100, rew=12759.00]                                                                                \n"
     ]
    },
    {
     "name": "stdout",
     "output_type": "stream",
     "text": [
      "Epoch #30: test_reward: 11965.800000 ± 4163.381361, best_reward: 16745.400000 ± 5316.471390 in #24\n"
     ]
    },
    {
     "name": "stderr",
     "output_type": "stream",
     "text": [
      "Epoch #31: 1001it [00:02, 492.86it/s, env_step=31000, gradient_step=3100, len=145, n/ep=0, n/st=100, rew=5030.00]                                                                                 \n"
     ]
    },
    {
     "name": "stdout",
     "output_type": "stream",
     "text": [
      "Epoch #31: test_reward: 9117.200000 ± 2278.505510, best_reward: 16745.400000 ± 5316.471390 in #24\n"
     ]
    },
    {
     "name": "stderr",
     "output_type": "stream",
     "text": [
      "Epoch #32: 1001it [00:02, 479.00it/s, env_step=32000, gradient_step=3200, len=320, n/ep=2, n/st=100, rew=14816.25]                                                                                \n"
     ]
    },
    {
     "name": "stdout",
     "output_type": "stream",
     "text": [
      "Epoch #32: test_reward: 7533.100000 ± 2696.711125, best_reward: 16745.400000 ± 5316.471390 in #24\n"
     ]
    },
    {
     "name": "stderr",
     "output_type": "stream",
     "text": [
      "Epoch #33: 1001it [00:02, 480.81it/s, env_step=33000, gradient_step=3300, len=329, n/ep=0, n/st=100, rew=15561.50]                                                                                \n"
     ]
    },
    {
     "name": "stdout",
     "output_type": "stream",
     "text": [
      "Epoch #33: test_reward: 11941.400000 ± 5074.441688, best_reward: 16745.400000 ± 5316.471390 in #24\n"
     ]
    },
    {
     "name": "stderr",
     "output_type": "stream",
     "text": [
      "Epoch #34: 1001it [00:02, 452.68it/s, env_step=34000, gradient_step=3400, len=339, n/ep=0, n/st=100, rew=13934.50]                                                                                \n"
     ]
    },
    {
     "name": "stdout",
     "output_type": "stream",
     "text": [
      "Epoch #34: test_reward: 14039.300000 ± 4640.984207, best_reward: 16745.400000 ± 5316.471390 in #24\n"
     ]
    },
    {
     "name": "stderr",
     "output_type": "stream",
     "text": [
      "Epoch #35: 1001it [00:02, 419.68it/s, env_step=35000, gradient_step=3500, len=137, n/ep=0, n/st=100, rew=6293.00]                                                                                 \n"
     ]
    },
    {
     "name": "stdout",
     "output_type": "stream",
     "text": [
      "Epoch #35: test_reward: 9446.400000 ± 2934.930704, best_reward: 16745.400000 ± 5316.471390 in #24\n"
     ]
    },
    {
     "name": "stderr",
     "output_type": "stream",
     "text": [
      "Epoch #36: 1001it [00:02, 450.88it/s, env_step=36000, gradient_step=3600, len=249, n/ep=0, n/st=100, rew=9384.50]                                                                                 \n"
     ]
    },
    {
     "name": "stdout",
     "output_type": "stream",
     "text": [
      "Epoch #36: test_reward: 10507.400000 ± 2444.260878, best_reward: 16745.400000 ± 5316.471390 in #24\n"
     ]
    },
    {
     "name": "stderr",
     "output_type": "stream",
     "text": [
      "Epoch #37: 1001it [00:01, 507.15it/s, env_step=37000, gradient_step=3700, len=104, n/ep=0, n/st=100, rew=3756.00]                                                                                 \n"
     ]
    },
    {
     "name": "stdout",
     "output_type": "stream",
     "text": [
      "Epoch #37: test_reward: 12404.000000 ± 3851.823776, best_reward: 16745.400000 ± 5316.471390 in #24\n"
     ]
    },
    {
     "name": "stderr",
     "output_type": "stream",
     "text": [
      "Epoch #38: 1001it [00:01, 571.55it/s, env_step=38000, gradient_step=3800, len=187, n/ep=0, n/st=100, rew=8359.00]                                                                                 \n"
     ]
    },
    {
     "name": "stdout",
     "output_type": "stream",
     "text": [
      "Epoch #38: test_reward: 8938.800000 ± 4177.617307, best_reward: 16745.400000 ± 5316.471390 in #24\n"
     ]
    },
    {
     "name": "stderr",
     "output_type": "stream",
     "text": [
      "Epoch #39: 1001it [00:01, 513.48it/s, env_step=39000, gradient_step=3900, len=194, n/ep=0, n/st=100, rew=8822.00]                                                                                 \n"
     ]
    },
    {
     "name": "stdout",
     "output_type": "stream",
     "text": [
      "Epoch #39: test_reward: 9065.400000 ± 3521.607139, best_reward: 16745.400000 ± 5316.471390 in #24\n"
     ]
    },
    {
     "name": "stderr",
     "output_type": "stream",
     "text": [
      "Epoch #40: 1001it [00:01, 516.15it/s, env_step=40000, gradient_step=4000, len=400, n/ep=2, n/st=100, rew=19027.25]                                                                                \n"
     ]
    },
    {
     "name": "stdout",
     "output_type": "stream",
     "text": [
      "Epoch #40: test_reward: 7071.600000 ± 3839.324295, best_reward: 16745.400000 ± 5316.471390 in #24\n"
     ]
    },
    {
     "name": "stderr",
     "output_type": "stream",
     "text": [
      "Epoch #41: 1001it [00:01, 511.35it/s, env_step=41000, gradient_step=4100, len=219, n/ep=0, n/st=100, rew=10347.00]                                                                                \n"
     ]
    },
    {
     "name": "stdout",
     "output_type": "stream",
     "text": [
      "Epoch #41: test_reward: 8248.600000 ± 2965.138520, best_reward: 16745.400000 ± 5316.471390 in #24\n"
     ]
    },
    {
     "name": "stderr",
     "output_type": "stream",
     "text": [
      "Epoch #42: 1001it [00:02, 472.19it/s, env_step=42000, gradient_step=4200, len=219, n/ep=0, n/st=100, rew=10347.00]                                                                                \n"
     ]
    },
    {
     "name": "stdout",
     "output_type": "stream",
     "text": [
      "Epoch #42: test_reward: 12346.400000 ± 3253.680353, best_reward: 16745.400000 ± 5316.471390 in #24\n"
     ]
    },
    {
     "name": "stderr",
     "output_type": "stream",
     "text": [
      "Epoch #43: 1001it [00:01, 519.16it/s, env_step=43000, gradient_step=4300, len=185, n/ep=1, n/st=100, rew=7136.50]                                                                                 \n"
     ]
    },
    {
     "name": "stdout",
     "output_type": "stream",
     "text": [
      "Epoch #43: test_reward: 11356.900000 ± 4158.769925, best_reward: 16745.400000 ± 5316.471390 in #24\n"
     ]
    },
    {
     "name": "stderr",
     "output_type": "stream",
     "text": [
      "Epoch #44: 1001it [00:02, 412.31it/s, env_step=44000, gradient_step=4400, len=185, n/ep=0, n/st=100, rew=7136.50]                                                                                 \n"
     ]
    },
    {
     "name": "stdout",
     "output_type": "stream",
     "text": [
      "Epoch #44: test_reward: 14929.700000 ± 5775.752662, best_reward: 16745.400000 ± 5316.471390 in #24\n"
     ]
    },
    {
     "name": "stderr",
     "output_type": "stream",
     "text": [
      "Epoch #45: 1001it [00:02, 449.65it/s, env_step=45000, gradient_step=4500, len=217, n/ep=1, n/st=100, rew=9852.00]                                                                                 \n"
     ]
    },
    {
     "name": "stdout",
     "output_type": "stream",
     "text": [
      "Epoch #45: test_reward: 12150.800000 ± 4728.750803, best_reward: 16745.400000 ± 5316.471390 in #24\n"
     ]
    },
    {
     "name": "stderr",
     "output_type": "stream",
     "text": [
      "Epoch #46: 1001it [00:02, 352.68it/s, env_step=46000, gradient_step=4600, len=147, n/ep=1, n/st=100, rew=7655.00]                                                                                 \n"
     ]
    },
    {
     "name": "stdout",
     "output_type": "stream",
     "text": [
      "Epoch #46: test_reward: 14693.400000 ± 4366.976350, best_reward: 16745.400000 ± 5316.471390 in #24\n"
     ]
    },
    {
     "name": "stderr",
     "output_type": "stream",
     "text": [
      "Epoch #47: 1001it [00:02, 417.79it/s, env_step=47000, gradient_step=4700, len=137, n/ep=1, n/st=100, rew=6758.50]                                                                                 \n"
     ]
    },
    {
     "name": "stdout",
     "output_type": "stream",
     "text": [
      "Epoch #47: test_reward: 9794.800000 ± 5034.523390, best_reward: 16745.400000 ± 5316.471390 in #24\n"
     ]
    },
    {
     "name": "stderr",
     "output_type": "stream",
     "text": [
      "Epoch #48: 1001it [00:02, 445.32it/s, env_step=48000, gradient_step=4800, len=135, n/ep=1, n/st=100, rew=6135.50]                                                                                 \n"
     ]
    },
    {
     "name": "stdout",
     "output_type": "stream",
     "text": [
      "Epoch #48: test_reward: 10686.400000 ± 5009.785129, best_reward: 16745.400000 ± 5316.471390 in #24\n"
     ]
    },
    {
     "name": "stderr",
     "output_type": "stream",
     "text": [
      "Epoch #49: 1001it [00:02, 420.36it/s, env_step=49000, gradient_step=4900, len=211, n/ep=0, n/st=100, rew=9902.00]                                                                                 \n"
     ]
    },
    {
     "name": "stdout",
     "output_type": "stream",
     "text": [
      "Epoch #49: test_reward: 11677.500000 ± 2720.854838, best_reward: 16745.400000 ± 5316.471390 in #24\n"
     ]
    },
    {
     "name": "stderr",
     "output_type": "stream",
     "text": [
      "Epoch #50: 1001it [00:02, 444.11it/s, env_step=50000, gradient_step=5000, len=237, n/ep=0, n/st=100, rew=10910.00]                                                                                \n"
     ]
    },
    {
     "name": "stdout",
     "output_type": "stream",
     "text": [
      "Epoch #50: test_reward: 12051.400000 ± 3880.339552, best_reward: 16745.400000 ± 5316.471390 in #24\n"
     ]
    },
    {
     "name": "stderr",
     "output_type": "stream",
     "text": [
      "Epoch #51: 1001it [00:02, 494.77it/s, env_step=51000, gradient_step=5100, len=265, n/ep=0, n/st=100, rew=14016.00]                                                                                \n"
     ]
    },
    {
     "name": "stdout",
     "output_type": "stream",
     "text": [
      "Epoch #51: test_reward: 10412.600000 ± 3677.070143, best_reward: 16745.400000 ± 5316.471390 in #24\n"
     ]
    },
    {
     "name": "stderr",
     "output_type": "stream",
     "text": [
      "Epoch #52: 1001it [00:02, 477.25it/s, env_step=52000, gradient_step=5200, len=400, n/ep=0, n/st=100, rew=19488.00]                                                                                \n"
     ]
    },
    {
     "name": "stdout",
     "output_type": "stream",
     "text": [
      "Epoch #52: test_reward: 15945.300000 ± 5990.846736, best_reward: 16745.400000 ± 5316.471390 in #24\n"
     ]
    },
    {
     "name": "stderr",
     "output_type": "stream",
     "text": [
      "Epoch #53: 1001it [00:02, 470.65it/s, env_step=53000, gradient_step=5300, len=281, n/ep=0, n/st=100, rew=13525.50]                                                                                \n"
     ]
    },
    {
     "name": "stdout",
     "output_type": "stream",
     "text": [
      "Epoch #53: test_reward: 12344.800000 ± 3535.409391, best_reward: 16745.400000 ± 5316.471390 in #24\n"
     ]
    },
    {
     "name": "stderr",
     "output_type": "stream",
     "text": [
      "Epoch #54: 1001it [00:02, 491.80it/s, env_step=54000, gradient_step=5400, len=343, n/ep=0, n/st=100, rew=18542.00]                                                                                \n"
     ]
    },
    {
     "name": "stdout",
     "output_type": "stream",
     "text": [
      "Epoch #54: test_reward: 15537.400000 ± 4975.753213, best_reward: 16745.400000 ± 5316.471390 in #24\n"
     ]
    },
    {
     "name": "stderr",
     "output_type": "stream",
     "text": [
      "Epoch #55: 1001it [00:02, 400.82it/s, env_step=55000, gradient_step=5500, len=186, n/ep=0, n/st=100, rew=9846.50]                                                                                 \n"
     ]
    },
    {
     "name": "stdout",
     "output_type": "stream",
     "text": [
      "Epoch #55: test_reward: 14738.500000 ± 4890.353837, best_reward: 16745.400000 ± 5316.471390 in #24\n"
     ]
    },
    {
     "name": "stderr",
     "output_type": "stream",
     "text": [
      "Epoch #56: 1001it [00:02, 375.35it/s, env_step=56000, gradient_step=5600, len=277, n/ep=0, n/st=100, rew=12784.50]                                                                                \n"
     ]
    },
    {
     "name": "stdout",
     "output_type": "stream",
     "text": [
      "Epoch #56: test_reward: 14330.800000 ± 4930.103545, best_reward: 16745.400000 ± 5316.471390 in #24\n"
     ]
    },
    {
     "name": "stderr",
     "output_type": "stream",
     "text": [
      "Epoch #57: 1001it [00:02, 484.99it/s, env_step=57000, gradient_step=5700, len=322, n/ep=0, n/st=100, rew=16304.00]                                                                                \n"
     ]
    },
    {
     "name": "stdout",
     "output_type": "stream",
     "text": [
      "Epoch #57: test_reward: 12881.600000 ± 3688.288036, best_reward: 16745.400000 ± 5316.471390 in #24\n"
     ]
    },
    {
     "name": "stderr",
     "output_type": "stream",
     "text": [
      "Epoch #58: 1001it [00:02, 400.08it/s, env_step=58000, gradient_step=5800, len=262, n/ep=0, n/st=100, rew=14744.00]                                                                                \n"
     ]
    },
    {
     "name": "stdout",
     "output_type": "stream",
     "text": [
      "Epoch #58: test_reward: 13175.200000 ± 5935.919353, best_reward: 16745.400000 ± 5316.471390 in #24\n"
     ]
    },
    {
     "name": "stderr",
     "output_type": "stream",
     "text": [
      "Epoch #59: 1001it [00:02, 431.42it/s, env_step=59000, gradient_step=5900, len=255, n/ep=0, n/st=100, rew=15222.00]                                                                                \n"
     ]
    },
    {
     "name": "stdout",
     "output_type": "stream",
     "text": [
      "Epoch #59: test_reward: 14750.700000 ± 3863.203957, best_reward: 16745.400000 ± 5316.471390 in #24\n"
     ]
    },
    {
     "name": "stderr",
     "output_type": "stream",
     "text": [
      "Epoch #60: 1001it [00:02, 478.26it/s, env_step=60000, gradient_step=6000, len=96, n/ep=1, n/st=100, rew=3345.50]                                                                                  \n"
     ]
    },
    {
     "name": "stdout",
     "output_type": "stream",
     "text": [
      "Epoch #60: test_reward: 19623.300000 ± 4957.901614, best_reward: 19623.300000 ± 4957.901614 in #60\n"
     ]
    },
    {
     "name": "stderr",
     "output_type": "stream",
     "text": [
      "Epoch #61: 1001it [00:01, 507.55it/s, env_step=61000, gradient_step=6100, len=319, n/ep=0, n/st=100, rew=16394.00]                                                                                \n"
     ]
    },
    {
     "name": "stdout",
     "output_type": "stream",
     "text": [
      "Epoch #61: test_reward: 9442.900000 ± 5369.656292, best_reward: 19623.300000 ± 4957.901614 in #60\n"
     ]
    },
    {
     "name": "stderr",
     "output_type": "stream",
     "text": [
      "Epoch #62: 1001it [00:02, 418.28it/s, env_step=62000, gradient_step=6200, len=314, n/ep=0, n/st=100, rew=14372.00]                                                                                \n"
     ]
    },
    {
     "name": "stdout",
     "output_type": "stream",
     "text": [
      "Epoch #62: test_reward: 8075.700000 ± 4516.606471, best_reward: 19623.300000 ± 4957.901614 in #60\n"
     ]
    },
    {
     "name": "stderr",
     "output_type": "stream",
     "text": [
      "Epoch #63: 1001it [00:02, 447.52it/s, env_step=63000, gradient_step=6300, len=309, n/ep=0, n/st=100, rew=13975.50]                                                                                \n"
     ]
    },
    {
     "name": "stdout",
     "output_type": "stream",
     "text": [
      "Epoch #63: test_reward: 14565.900000 ± 5571.961099, best_reward: 19623.300000 ± 4957.901614 in #60\n"
     ]
    },
    {
     "name": "stderr",
     "output_type": "stream",
     "text": [
      "Epoch #64: 1001it [00:02, 498.93it/s, env_step=64000, gradient_step=6400, len=357, n/ep=0, n/st=100, rew=18181.00]                                                                                \n"
     ]
    },
    {
     "name": "stdout",
     "output_type": "stream",
     "text": [
      "Epoch #64: test_reward: 12596.000000 ± 6277.039159, best_reward: 19623.300000 ± 4957.901614 in #60\n"
     ]
    },
    {
     "name": "stderr",
     "output_type": "stream",
     "text": [
      "Epoch #65: 1001it [00:02, 487.96it/s, env_step=65000, gradient_step=6500, len=226, n/ep=2, n/st=100, rew=10999.25]                                                                                \n"
     ]
    },
    {
     "name": "stdout",
     "output_type": "stream",
     "text": [
      "Epoch #65: test_reward: 7868.000000 ± 3554.988608, best_reward: 19623.300000 ± 4957.901614 in #60\n"
     ]
    },
    {
     "name": "stderr",
     "output_type": "stream",
     "text": [
      "Epoch #66: 1001it [00:01, 516.97it/s, env_step=66000, gradient_step=6600, len=261, n/ep=0, n/st=100, rew=9170.50]                                                                                 \n"
     ]
    },
    {
     "name": "stdout",
     "output_type": "stream",
     "text": [
      "Epoch #66: test_reward: 17072.100000 ± 5990.674694, best_reward: 19623.300000 ± 4957.901614 in #60\n"
     ]
    },
    {
     "name": "stderr",
     "output_type": "stream",
     "text": [
      "Epoch #67: 1001it [00:01, 531.86it/s, env_step=67000, gradient_step=6700, len=352, n/ep=1, n/st=100, rew=20961.50]                                                                                \n"
     ]
    },
    {
     "name": "stdout",
     "output_type": "stream",
     "text": [
      "Epoch #67: test_reward: 18926.900000 ± 3734.039862, best_reward: 19623.300000 ± 4957.901614 in #60\n"
     ]
    },
    {
     "name": "stderr",
     "output_type": "stream",
     "text": [
      "Epoch #68: 1001it [00:01, 516.83it/s, env_step=68000, gradient_step=6800, len=179, n/ep=0, n/st=100, rew=7688.00]                                                                                 \n"
     ]
    },
    {
     "name": "stdout",
     "output_type": "stream",
     "text": [
      "Epoch #68: test_reward: 19187.200000 ± 4721.721313, best_reward: 19623.300000 ± 4957.901614 in #60\n"
     ]
    },
    {
     "name": "stderr",
     "output_type": "stream",
     "text": [
      "Epoch #69: 1001it [00:02, 473.49it/s, env_step=69000, gradient_step=6900, len=288, n/ep=0, n/st=100, rew=15947.50]                                                                                \n"
     ]
    },
    {
     "name": "stdout",
     "output_type": "stream",
     "text": [
      "Epoch #69: test_reward: 14244.400000 ± 5213.183791, best_reward: 19623.300000 ± 4957.901614 in #60\n"
     ]
    },
    {
     "name": "stderr",
     "output_type": "stream",
     "text": [
      "Epoch #70: 1001it [00:02, 468.51it/s, env_step=70000, gradient_step=7000, len=398, n/ep=1, n/st=100, rew=21660.50]                                                                                \n"
     ]
    },
    {
     "name": "stdout",
     "output_type": "stream",
     "text": [
      "Epoch #70: test_reward: 20667.800000 ± 2776.324253, best_reward: 20667.800000 ± 2776.324253 in #70\n"
     ]
    },
    {
     "name": "stderr",
     "output_type": "stream",
     "text": [
      "Epoch #71: 1001it [00:02, 456.60it/s, env_step=71000, gradient_step=7100, len=202, n/ep=0, n/st=100, rew=8701.50]                                                                                 \n"
     ]
    },
    {
     "name": "stdout",
     "output_type": "stream",
     "text": [
      "Epoch #71: test_reward: 12039.100000 ± 3889.472932, best_reward: 20667.800000 ± 2776.324253 in #70\n"
     ]
    },
    {
     "name": "stderr",
     "output_type": "stream",
     "text": [
      "Epoch #72: 1001it [00:01, 543.05it/s, env_step=72000, gradient_step=7200, len=275, n/ep=1, n/st=100, rew=13771.00]                                                                                \n"
     ]
    },
    {
     "name": "stdout",
     "output_type": "stream",
     "text": [
      "Epoch #72: test_reward: 13127.400000 ± 4926.304583, best_reward: 20667.800000 ± 2776.324253 in #70\n"
     ]
    },
    {
     "name": "stderr",
     "output_type": "stream",
     "text": [
      "Epoch #73: 1001it [00:02, 424.71it/s, env_step=73000, gradient_step=7300, len=159, n/ep=1, n/st=100, rew=8823.00]                                                                                 \n"
     ]
    },
    {
     "name": "stdout",
     "output_type": "stream",
     "text": [
      "Epoch #73: test_reward: 11788.000000 ± 6016.785703, best_reward: 20667.800000 ± 2776.324253 in #70\n"
     ]
    },
    {
     "name": "stderr",
     "output_type": "stream",
     "text": [
      "Epoch #74: 1001it [00:01, 548.36it/s, env_step=74000, gradient_step=7400, len=270, n/ep=1, n/st=100, rew=12827.00]                                                                                \n"
     ]
    },
    {
     "name": "stdout",
     "output_type": "stream",
     "text": [
      "Epoch #74: test_reward: 12131.400000 ± 5940.048959, best_reward: 20667.800000 ± 2776.324253 in #70\n"
     ]
    },
    {
     "name": "stderr",
     "output_type": "stream",
     "text": [
      "Epoch #75: 1001it [00:02, 489.78it/s, env_step=75000, gradient_step=7500, len=297, n/ep=1, n/st=100, rew=15931.00]                                                                                \n"
     ]
    },
    {
     "name": "stdout",
     "output_type": "stream",
     "text": [
      "Epoch #75: test_reward: 14851.400000 ± 5514.096992, best_reward: 20667.800000 ± 2776.324253 in #70\n"
     ]
    },
    {
     "name": "stderr",
     "output_type": "stream",
     "text": [
      "Epoch #76: 1001it [00:02, 439.20it/s, env_step=76000, gradient_step=7600, len=298, n/ep=0, n/st=100, rew=15814.50]                                                                                \n"
     ]
    },
    {
     "name": "stdout",
     "output_type": "stream",
     "text": [
      "Epoch #76: test_reward: 12277.100000 ± 6040.890935, best_reward: 20667.800000 ± 2776.324253 in #70\n"
     ]
    },
    {
     "name": "stderr",
     "output_type": "stream",
     "text": [
      "Epoch #77: 1001it [00:02, 423.61it/s, env_step=77000, gradient_step=7700, len=400, n/ep=0, n/st=100, rew=18010.50]                                                                                \n"
     ]
    },
    {
     "name": "stdout",
     "output_type": "stream",
     "text": [
      "Epoch #77: test_reward: 16660.700000 ± 5917.946165, best_reward: 20667.800000 ± 2776.324253 in #70\n"
     ]
    },
    {
     "name": "stderr",
     "output_type": "stream",
     "text": [
      "Epoch #78: 1001it [00:01, 535.95it/s, env_step=78000, gradient_step=7800, len=147, n/ep=0, n/st=100, rew=6119.00]                                                                                 \n"
     ]
    },
    {
     "name": "stdout",
     "output_type": "stream",
     "text": [
      "Epoch #78: test_reward: 16343.400000 ± 5881.655434, best_reward: 20667.800000 ± 2776.324253 in #70\n"
     ]
    },
    {
     "name": "stderr",
     "output_type": "stream",
     "text": [
      "Epoch #79: 1001it [00:02, 468.28it/s, env_step=79000, gradient_step=7900, len=124, n/ep=2, n/st=100, rew=5187.50]                                                                                 \n"
     ]
    },
    {
     "name": "stdout",
     "output_type": "stream",
     "text": [
      "Epoch #79: test_reward: 15480.400000 ± 6657.409815, best_reward: 20667.800000 ± 2776.324253 in #70\n"
     ]
    },
    {
     "name": "stderr",
     "output_type": "stream",
     "text": [
      "Epoch #80: 1001it [00:02, 460.69it/s, env_step=80000, gradient_step=8000, len=266, n/ep=0, n/st=100, rew=11243.00]                                                                                \n"
     ]
    },
    {
     "name": "stdout",
     "output_type": "stream",
     "text": [
      "Epoch #80: test_reward: 5910.200000 ± 1141.110494, best_reward: 20667.800000 ± 2776.324253 in #70\n"
     ]
    },
    {
     "name": "stderr",
     "output_type": "stream",
     "text": [
      "Epoch #81: 1001it [00:02, 417.49it/s, env_step=81000, gradient_step=8100, len=92, n/ep=0, n/st=100, rew=3709.00]                                                                                  \n"
     ]
    },
    {
     "name": "stdout",
     "output_type": "stream",
     "text": [
      "Epoch #81: test_reward: 17201.300000 ± 4890.237459, best_reward: 20667.800000 ± 2776.324253 in #70\n"
     ]
    },
    {
     "name": "stderr",
     "output_type": "stream",
     "text": [
      "Epoch #82: 1001it [00:02, 406.71it/s, env_step=82000, gradient_step=8200, len=108, n/ep=1, n/st=100, rew=4667.00]                                                                                 \n"
     ]
    },
    {
     "name": "stdout",
     "output_type": "stream",
     "text": [
      "Epoch #82: test_reward: 12266.600000 ± 5351.292483, best_reward: 20667.800000 ± 2776.324253 in #70\n"
     ]
    },
    {
     "name": "stderr",
     "output_type": "stream",
     "text": [
      "Epoch #83: 1001it [00:01, 538.30it/s, env_step=83000, gradient_step=8300, len=334, n/ep=0, n/st=100, rew=18281.00]                                                                                \n"
     ]
    },
    {
     "name": "stdout",
     "output_type": "stream",
     "text": [
      "Epoch #83: test_reward: 17502.300000 ± 4246.725092, best_reward: 20667.800000 ± 2776.324253 in #70\n"
     ]
    },
    {
     "name": "stderr",
     "output_type": "stream",
     "text": [
      "Epoch #84: 1001it [00:01, 538.82it/s, env_step=84000, gradient_step=8400, len=368, n/ep=0, n/st=100, rew=20620.50]                                                                                \n"
     ]
    },
    {
     "name": "stdout",
     "output_type": "stream",
     "text": [
      "Epoch #84: test_reward: 12714.700000 ± 4827.954185, best_reward: 20667.800000 ± 2776.324253 in #70\n"
     ]
    },
    {
     "name": "stderr",
     "output_type": "stream",
     "text": [
      "Epoch #85: 1001it [00:02, 473.11it/s, env_step=85000, gradient_step=8500, len=258, n/ep=1, n/st=100, rew=13768.50]                                                                                \n"
     ]
    },
    {
     "name": "stdout",
     "output_type": "stream",
     "text": [
      "Epoch #85: test_reward: 11670.300000 ± 4189.776081, best_reward: 20667.800000 ± 2776.324253 in #70\n"
     ]
    },
    {
     "name": "stderr",
     "output_type": "stream",
     "text": [
      "Epoch #86: 1001it [00:01, 530.19it/s, env_step=86000, gradient_step=8600, len=143, n/ep=0, n/st=100, rew=6394.00]                                                                                 \n"
     ]
    },
    {
     "name": "stdout",
     "output_type": "stream",
     "text": [
      "Epoch #86: test_reward: 8028.400000 ± 2890.643223, best_reward: 20667.800000 ± 2776.324253 in #70\n"
     ]
    },
    {
     "name": "stderr",
     "output_type": "stream",
     "text": [
      "Epoch #87: 1001it [00:01, 515.28it/s, env_step=87000, gradient_step=8700, len=335, n/ep=1, n/st=100, rew=15792.00]                                                                                \n"
     ]
    },
    {
     "name": "stdout",
     "output_type": "stream",
     "text": [
      "Epoch #87: test_reward: 10030.300000 ± 4409.048425, best_reward: 20667.800000 ± 2776.324253 in #70\n"
     ]
    },
    {
     "name": "stderr",
     "output_type": "stream",
     "text": [
      "Epoch #88: 1001it [00:02, 428.10it/s, env_step=88000, gradient_step=8800, len=238, n/ep=1, n/st=100, rew=12849.00]                                                                                \n"
     ]
    },
    {
     "name": "stdout",
     "output_type": "stream",
     "text": [
      "Epoch #88: test_reward: 6981.800000 ± 1841.890431, best_reward: 20667.800000 ± 2776.324253 in #70\n"
     ]
    },
    {
     "name": "stderr",
     "output_type": "stream",
     "text": [
      "Epoch #89: 1001it [00:02, 436.12it/s, env_step=89000, gradient_step=8900, len=221, n/ep=3, n/st=100, rew=11136.67]                                                                                \n"
     ]
    },
    {
     "name": "stdout",
     "output_type": "stream",
     "text": [
      "Epoch #89: test_reward: 16639.900000 ± 3208.804433, best_reward: 20667.800000 ± 2776.324253 in #70\n"
     ]
    },
    {
     "name": "stderr",
     "output_type": "stream",
     "text": [
      "Epoch #90: 1001it [00:02, 434.07it/s, env_step=90000, gradient_step=9000, len=193, n/ep=0, n/st=100, rew=9487.00]                                                                                 \n"
     ]
    },
    {
     "name": "stdout",
     "output_type": "stream",
     "text": [
      "Epoch #90: test_reward: 6941.200000 ± 2319.610519, best_reward: 20667.800000 ± 2776.324253 in #70\n"
     ]
    },
    {
     "name": "stderr",
     "output_type": "stream",
     "text": [
      "Epoch #91: 1001it [00:02, 487.84it/s, env_step=91000, gradient_step=9100, len=122, n/ep=0, n/st=100, rew=5139.50]                                                                                 \n"
     ]
    },
    {
     "name": "stdout",
     "output_type": "stream",
     "text": [
      "Epoch #91: test_reward: 11514.700000 ± 4982.092975, best_reward: 20667.800000 ± 2776.324253 in #70\n"
     ]
    },
    {
     "name": "stderr",
     "output_type": "stream",
     "text": [
      "Epoch #92: 1001it [00:02, 462.08it/s, env_step=92000, gradient_step=9200, len=98, n/ep=1, n/st=100, rew=4384.00]                                                                                  \n"
     ]
    },
    {
     "name": "stdout",
     "output_type": "stream",
     "text": [
      "Epoch #92: test_reward: 16609.700000 ± 6033.322916, best_reward: 20667.800000 ± 2776.324253 in #70\n"
     ]
    },
    {
     "name": "stderr",
     "output_type": "stream",
     "text": [
      "Epoch #93: 1001it [00:02, 433.04it/s, env_step=93000, gradient_step=9300, len=171, n/ep=0, n/st=100, rew=9048.00]                                                                                 \n"
     ]
    },
    {
     "name": "stdout",
     "output_type": "stream",
     "text": [
      "Epoch #93: test_reward: 17615.700000 ± 6670.454243, best_reward: 20667.800000 ± 2776.324253 in #70\n"
     ]
    },
    {
     "name": "stderr",
     "output_type": "stream",
     "text": [
      "Epoch #94: 1001it [00:02, 482.09it/s, env_step=94000, gradient_step=9400, len=144, n/ep=1, n/st=100, rew=5746.50]                                                                                 \n"
     ]
    },
    {
     "name": "stdout",
     "output_type": "stream",
     "text": [
      "Epoch #94: test_reward: 7321.200000 ± 2409.667396, best_reward: 20667.800000 ± 2776.324253 in #70\n"
     ]
    },
    {
     "name": "stderr",
     "output_type": "stream",
     "text": [
      "Epoch #95: 1001it [00:02, 500.02it/s, env_step=95000, gradient_step=9500, len=280, n/ep=0, n/st=100, rew=15666.00]                                                                                \n"
     ]
    },
    {
     "name": "stdout",
     "output_type": "stream",
     "text": [
      "Epoch #95: test_reward: 14983.000000 ± 7552.879530, best_reward: 20667.800000 ± 2776.324253 in #70\n"
     ]
    },
    {
     "name": "stderr",
     "output_type": "stream",
     "text": [
      "Epoch #96: 1001it [00:02, 446.49it/s, env_step=96000, gradient_step=9600, len=243, n/ep=0, n/st=100, rew=13420.75]                                                                                \n"
     ]
    },
    {
     "name": "stdout",
     "output_type": "stream",
     "text": [
      "Epoch #96: test_reward: 11863.800000 ± 3910.904392, best_reward: 20667.800000 ± 2776.324253 in #70\n"
     ]
    },
    {
     "name": "stderr",
     "output_type": "stream",
     "text": [
      "Epoch #97: 1001it [00:02, 433.57it/s, env_step=97000, gradient_step=9700, len=249, n/ep=0, n/st=100, rew=10798.00]                                                                                \n"
     ]
    },
    {
     "name": "stdout",
     "output_type": "stream",
     "text": [
      "Epoch #97: test_reward: 6517.000000 ± 5994.872693, best_reward: 20667.800000 ± 2776.324253 in #70\n"
     ]
    },
    {
     "name": "stderr",
     "output_type": "stream",
     "text": [
      "Epoch #98: 1001it [00:02, 404.37it/s, env_step=98000, gradient_step=9800, len=123, n/ep=1, n/st=100, rew=4491.00]                                                                                 \n"
     ]
    },
    {
     "name": "stdout",
     "output_type": "stream",
     "text": [
      "Epoch #98: test_reward: 12535.400000 ± 5225.308339, best_reward: 20667.800000 ± 2776.324253 in #70\n"
     ]
    },
    {
     "name": "stderr",
     "output_type": "stream",
     "text": [
      "Epoch #99: 1001it [00:02, 438.77it/s, env_step=99000, gradient_step=9900, len=84, n/ep=0, n/st=100, rew=3316.00]                                                                                  \n"
     ]
    },
    {
     "name": "stdout",
     "output_type": "stream",
     "text": [
      "Epoch #99: test_reward: 8733.700000 ± 2268.717437, best_reward: 20667.800000 ± 2776.324253 in #70\n"
     ]
    },
    {
     "name": "stderr",
     "output_type": "stream",
     "text": [
      "Epoch #100: 1001it [00:02, 403.31it/s, env_step=100000, gradient_step=10000, len=169, n/ep=0, n/st=100, rew=6224.00]                                                                              \n"
     ]
    },
    {
     "name": "stdout",
     "output_type": "stream",
     "text": [
      "Epoch #100: test_reward: 12134.600000 ± 5645.546904, best_reward: 20667.800000 ± 2776.324253 in #70\n"
     ]
    },
    {
     "name": "stderr",
     "output_type": "stream",
     "text": [
      "Epoch #101: 1001it [00:02, 427.15it/s, env_step=101000, gradient_step=10100, len=92, n/ep=0, n/st=100, rew=3902.00]                                                                               \n"
     ]
    },
    {
     "name": "stdout",
     "output_type": "stream",
     "text": [
      "Epoch #101: test_reward: 8913.400000 ± 5197.859102, best_reward: 20667.800000 ± 2776.324253 in #70\n"
     ]
    },
    {
     "name": "stderr",
     "output_type": "stream",
     "text": [
      "Epoch #102: 1001it [00:02, 432.53it/s, env_step=102000, gradient_step=10200, len=229, n/ep=0, n/st=100, rew=10935.50]                                                                             \n"
     ]
    },
    {
     "name": "stdout",
     "output_type": "stream",
     "text": [
      "Epoch #102: test_reward: 12831.600000 ± 5820.859081, best_reward: 20667.800000 ± 2776.324253 in #70\n"
     ]
    },
    {
     "name": "stderr",
     "output_type": "stream",
     "text": [
      "Epoch #103: 1001it [00:02, 407.73it/s, env_step=103000, gradient_step=10300, len=144, n/ep=2, n/st=100, rew=6245.50]                                                                              \n"
     ]
    },
    {
     "name": "stdout",
     "output_type": "stream",
     "text": [
      "Epoch #103: test_reward: 7946.600000 ± 3220.260989, best_reward: 20667.800000 ± 2776.324253 in #70\n"
     ]
    },
    {
     "name": "stderr",
     "output_type": "stream",
     "text": [
      "Epoch #104: 1001it [00:02, 430.04it/s, env_step=104000, gradient_step=10400, len=292, n/ep=0, n/st=100, rew=17058.50]                                                                             \n"
     ]
    },
    {
     "name": "stdout",
     "output_type": "stream",
     "text": [
      "Epoch #104: test_reward: 19310.800000 ± 3544.111872, best_reward: 20667.800000 ± 2776.324253 in #70\n"
     ]
    },
    {
     "name": "stderr",
     "output_type": "stream",
     "text": [
      "Epoch #105: 1001it [00:02, 406.60it/s, env_step=105000, gradient_step=10500, len=171, n/ep=0, n/st=100, rew=8469.00]                                                                              \n"
     ]
    },
    {
     "name": "stdout",
     "output_type": "stream",
     "text": [
      "Epoch #105: test_reward: 12493.400000 ± 4451.567099, best_reward: 20667.800000 ± 2776.324253 in #70\n"
     ]
    },
    {
     "name": "stderr",
     "output_type": "stream",
     "text": [
      "Epoch #106: 1001it [00:02, 384.96it/s, env_step=106000, gradient_step=10600, len=113, n/ep=1, n/st=100, rew=4887.00]                                                                              \n"
     ]
    },
    {
     "name": "stdout",
     "output_type": "stream",
     "text": [
      "Epoch #106: test_reward: 10355.300000 ± 3848.399461, best_reward: 20667.800000 ± 2776.324253 in #70\n"
     ]
    },
    {
     "name": "stderr",
     "output_type": "stream",
     "text": [
      "Epoch #107: 1001it [00:02, 397.68it/s, env_step=107000, gradient_step=10700, len=248, n/ep=2, n/st=100, rew=14529.75]                                                                             \n"
     ]
    },
    {
     "name": "stdout",
     "output_type": "stream",
     "text": [
      "Epoch #107: test_reward: 14635.800000 ± 5840.851561, best_reward: 20667.800000 ± 2776.324253 in #70\n"
     ]
    },
    {
     "name": "stderr",
     "output_type": "stream",
     "text": [
      "Epoch #108: 1001it [00:02, 391.00it/s, env_step=108000, gradient_step=10800, len=84, n/ep=1, n/st=100, rew=3387.00]                                                                               \n"
     ]
    },
    {
     "name": "stdout",
     "output_type": "stream",
     "text": [
      "Epoch #108: test_reward: 12115.400000 ± 5247.708208, best_reward: 20667.800000 ± 2776.324253 in #70\n"
     ]
    },
    {
     "name": "stderr",
     "output_type": "stream",
     "text": [
      "Epoch #109: 1001it [00:02, 453.53it/s, env_step=109000, gradient_step=10900, len=241, n/ep=0, n/st=100, rew=12789.00]                                                                             \n"
     ]
    },
    {
     "name": "stdout",
     "output_type": "stream",
     "text": [
      "Epoch #109: test_reward: 12680.500000 ± 6318.555883, best_reward: 20667.800000 ± 2776.324253 in #70\n"
     ]
    },
    {
     "name": "stderr",
     "output_type": "stream",
     "text": [
      "Epoch #110: 1001it [00:02, 377.13it/s, env_step=110000, gradient_step=11000, len=255, n/ep=2, n/st=100, rew=12371.75]                                                                             \n"
     ]
    },
    {
     "name": "stdout",
     "output_type": "stream",
     "text": [
      "Epoch #110: test_reward: 12707.200000 ± 4068.177794, best_reward: 20667.800000 ± 2776.324253 in #70\n"
     ]
    },
    {
     "name": "stderr",
     "output_type": "stream",
     "text": [
      "Epoch #111: 1001it [00:02, 439.54it/s, env_step=111000, gradient_step=11100, len=208, n/ep=1, n/st=100, rew=10023.00]                                                                             \n"
     ]
    },
    {
     "name": "stdout",
     "output_type": "stream",
     "text": [
      "Epoch #111: test_reward: 14705.100000 ± 3803.601516, best_reward: 20667.800000 ± 2776.324253 in #70\n"
     ]
    },
    {
     "name": "stderr",
     "output_type": "stream",
     "text": [
      "Epoch #112: 1001it [00:02, 375.05it/s, env_step=112000, gradient_step=11200, len=98, n/ep=1, n/st=100, rew=4682.00]                                                                               \n"
     ]
    },
    {
     "name": "stdout",
     "output_type": "stream",
     "text": [
      "Epoch #112: test_reward: 14253.200000 ± 5438.528124, best_reward: 20667.800000 ± 2776.324253 in #70\n"
     ]
    },
    {
     "name": "stderr",
     "output_type": "stream",
     "text": [
      "Epoch #113: 1001it [00:02, 412.99it/s, env_step=113000, gradient_step=11300, len=334, n/ep=1, n/st=100, rew=18216.00]                                                                             \n"
     ]
    },
    {
     "name": "stdout",
     "output_type": "stream",
     "text": [
      "Epoch #113: test_reward: 14763.700000 ± 5475.576902, best_reward: 20667.800000 ± 2776.324253 in #70\n"
     ]
    },
    {
     "name": "stderr",
     "output_type": "stream",
     "text": [
      "Epoch #114: 1001it [00:02, 401.18it/s, env_step=114000, gradient_step=11400, len=62, n/ep=0, n/st=100, rew=2538.50]                                                                               \n"
     ]
    },
    {
     "name": "stdout",
     "output_type": "stream",
     "text": [
      "Epoch #114: test_reward: 15024.700000 ± 4957.726032, best_reward: 20667.800000 ± 2776.324253 in #70\n"
     ]
    },
    {
     "name": "stderr",
     "output_type": "stream",
     "text": [
      "Epoch #115: 1001it [00:02, 414.30it/s, env_step=115000, gradient_step=11500, len=230, n/ep=0, n/st=100, rew=11527.00]                                                                             \n"
     ]
    },
    {
     "name": "stdout",
     "output_type": "stream",
     "text": [
      "Epoch #115: test_reward: 7427.200000 ± 1117.837627, best_reward: 20667.800000 ± 2776.324253 in #70\n"
     ]
    },
    {
     "name": "stderr",
     "output_type": "stream",
     "text": [
      "Epoch #116: 1001it [00:02, 453.91it/s, env_step=116000, gradient_step=11600, len=207, n/ep=1, n/st=100, rew=9637.00]                                                                              \n"
     ]
    },
    {
     "name": "stdout",
     "output_type": "stream",
     "text": [
      "Epoch #116: test_reward: 12973.500000 ± 3380.076131, best_reward: 20667.800000 ± 2776.324253 in #70\n"
     ]
    },
    {
     "name": "stderr",
     "output_type": "stream",
     "text": [
      "Epoch #117: 1001it [00:02, 430.84it/s, env_step=117000, gradient_step=11700, len=153, n/ep=0, n/st=100, rew=7100.00]                                                                              \n"
     ]
    },
    {
     "name": "stdout",
     "output_type": "stream",
     "text": [
      "Epoch #117: test_reward: 8992.800000 ± 4474.384892, best_reward: 20667.800000 ± 2776.324253 in #70\n"
     ]
    },
    {
     "name": "stderr",
     "output_type": "stream",
     "text": [
      "Epoch #118: 1001it [00:01, 527.63it/s, env_step=118000, gradient_step=11800, len=156, n/ep=0, n/st=100, rew=7447.00]                                                                              \n"
     ]
    },
    {
     "name": "stdout",
     "output_type": "stream",
     "text": [
      "Epoch #118: test_reward: 10477.200000 ± 3907.982825, best_reward: 20667.800000 ± 2776.324253 in #70\n"
     ]
    },
    {
     "name": "stderr",
     "output_type": "stream",
     "text": [
      "Epoch #119: 1001it [00:02, 476.42it/s, env_step=119000, gradient_step=11900, len=148, n/ep=2, n/st=100, rew=7129.75]                                                                              \n"
     ]
    },
    {
     "name": "stdout",
     "output_type": "stream",
     "text": [
      "Epoch #119: test_reward: 9053.800000 ± 4066.969456, best_reward: 20667.800000 ± 2776.324253 in #70\n"
     ]
    },
    {
     "name": "stderr",
     "output_type": "stream",
     "text": [
      "Epoch #120: 1001it [00:02, 466.28it/s, env_step=120000, gradient_step=12000, len=155, n/ep=0, n/st=100, rew=6706.00]                                                                              \n"
     ]
    },
    {
     "name": "stdout",
     "output_type": "stream",
     "text": [
      "Epoch #120: test_reward: 13624.800000 ± 6185.265941, best_reward: 20667.800000 ± 2776.324253 in #70\n"
     ]
    },
    {
     "name": "stderr",
     "output_type": "stream",
     "text": [
      "Epoch #121: 1001it [00:02, 426.62it/s, env_step=121000, gradient_step=12100, len=276, n/ep=0, n/st=100, rew=15269.00]                                                                             \n"
     ]
    },
    {
     "name": "stdout",
     "output_type": "stream",
     "text": [
      "Epoch #121: test_reward: 11484.400000 ± 4972.472226, best_reward: 20667.800000 ± 2776.324253 in #70\n"
     ]
    },
    {
     "name": "stderr",
     "output_type": "stream",
     "text": [
      "Epoch #122: 1001it [00:02, 476.26it/s, env_step=122000, gradient_step=12200, len=262, n/ep=0, n/st=100, rew=12069.00]                                                                             \n"
     ]
    },
    {
     "name": "stdout",
     "output_type": "stream",
     "text": [
      "Epoch #122: test_reward: 13258.700000 ± 5007.739950, best_reward: 20667.800000 ± 2776.324253 in #70\n"
     ]
    },
    {
     "name": "stderr",
     "output_type": "stream",
     "text": [
      "Epoch #123: 1001it [00:02, 448.70it/s, env_step=123000, gradient_step=12300, len=170, n/ep=0, n/st=100, rew=6357.75]                                                                              \n"
     ]
    },
    {
     "name": "stdout",
     "output_type": "stream",
     "text": [
      "Epoch #123: test_reward: 14762.500000 ± 6238.556007, best_reward: 20667.800000 ± 2776.324253 in #70\n"
     ]
    },
    {
     "name": "stderr",
     "output_type": "stream",
     "text": [
      "Epoch #124: 1001it [00:02, 474.17it/s, env_step=124000, gradient_step=12400, len=143, n/ep=1, n/st=100, rew=5656.00]                                                                              \n"
     ]
    },
    {
     "name": "stdout",
     "output_type": "stream",
     "text": [
      "Epoch #124: test_reward: 12595.400000 ± 4610.281731, best_reward: 20667.800000 ± 2776.324253 in #70\n"
     ]
    },
    {
     "name": "stderr",
     "output_type": "stream",
     "text": [
      "Epoch #125: 1001it [00:02, 431.75it/s, env_step=125000, gradient_step=12500, len=150, n/ep=1, n/st=100, rew=7441.00]                                                                              \n"
     ]
    },
    {
     "name": "stdout",
     "output_type": "stream",
     "text": [
      "Epoch #125: test_reward: 9210.600000 ± 4779.022080, best_reward: 20667.800000 ± 2776.324253 in #70\n"
     ]
    },
    {
     "name": "stderr",
     "output_type": "stream",
     "text": [
      "Epoch #126: 1001it [00:01, 527.13it/s, env_step=126000, gradient_step=12600, len=141, n/ep=1, n/st=100, rew=6028.00]                                                                              \n"
     ]
    },
    {
     "name": "stdout",
     "output_type": "stream",
     "text": [
      "Epoch #126: test_reward: 6739.600000 ± 5000.641463, best_reward: 20667.800000 ± 2776.324253 in #70\n"
     ]
    },
    {
     "name": "stderr",
     "output_type": "stream",
     "text": [
      "Epoch #127: 1001it [00:02, 475.42it/s, env_step=127000, gradient_step=12700, len=225, n/ep=1, n/st=100, rew=11947.00]                                                                             \n"
     ]
    },
    {
     "name": "stdout",
     "output_type": "stream",
     "text": [
      "Epoch #127: test_reward: 5753.200000 ± 1711.466552, best_reward: 20667.800000 ± 2776.324253 in #70\n"
     ]
    },
    {
     "name": "stderr",
     "output_type": "stream",
     "text": [
      "Epoch #128: 1001it [00:01, 543.15it/s, env_step=128000, gradient_step=12800, len=210, n/ep=3, n/st=100, rew=10069.83]                                                                             \n"
     ]
    },
    {
     "name": "stdout",
     "output_type": "stream",
     "text": [
      "Epoch #128: test_reward: 6120.400000 ± 958.883017, best_reward: 20667.800000 ± 2776.324253 in #70\n"
     ]
    },
    {
     "name": "stderr",
     "output_type": "stream",
     "text": [
      "Epoch #129: 1001it [00:02, 475.84it/s, env_step=129000, gradient_step=12900, len=134, n/ep=0, n/st=100, rew=6486.50]                                                                              \n"
     ]
    },
    {
     "name": "stdout",
     "output_type": "stream",
     "text": [
      "Epoch #129: test_reward: 12191.100000 ± 4961.827817, best_reward: 20667.800000 ± 2776.324253 in #70\n"
     ]
    },
    {
     "name": "stderr",
     "output_type": "stream",
     "text": [
      "Epoch #130: 1001it [00:02, 488.98it/s, env_step=130000, gradient_step=13000, len=157, n/ep=1, n/st=100, rew=8036.00]                                                                              \n"
     ]
    },
    {
     "name": "stdout",
     "output_type": "stream",
     "text": [
      "Epoch #130: test_reward: 11464.600000 ± 4090.659096, best_reward: 20667.800000 ± 2776.324253 in #70\n"
     ]
    },
    {
     "name": "stderr",
     "output_type": "stream",
     "text": [
      "Epoch #131: 1001it [00:01, 562.31it/s, env_step=131000, gradient_step=13100, len=212, n/ep=1, n/st=100, rew=12061.00]                                                                             \n"
     ]
    },
    {
     "name": "stdout",
     "output_type": "stream",
     "text": [
      "Epoch #131: test_reward: 13072.300000 ± 5419.248897, best_reward: 20667.800000 ± 2776.324253 in #70\n"
     ]
    },
    {
     "name": "stderr",
     "output_type": "stream",
     "text": [
      "Epoch #132: 1001it [00:01, 516.76it/s, env_step=132000, gradient_step=13200, len=169, n/ep=0, n/st=100, rew=8123.25]                                                                              \n"
     ]
    },
    {
     "name": "stdout",
     "output_type": "stream",
     "text": [
      "Epoch #132: test_reward: 13792.000000 ± 4366.129980, best_reward: 20667.800000 ± 2776.324253 in #70\n"
     ]
    },
    {
     "name": "stderr",
     "output_type": "stream",
     "text": [
      "Epoch #133: 1001it [00:02, 367.78it/s, env_step=133000, gradient_step=13300, len=196, n/ep=0, n/st=100, rew=11179.50]                                                                             \n"
     ]
    },
    {
     "name": "stdout",
     "output_type": "stream",
     "text": [
      "Epoch #133: test_reward: 13564.000000 ± 4680.493051, best_reward: 20667.800000 ± 2776.324253 in #70\n"
     ]
    },
    {
     "name": "stderr",
     "output_type": "stream",
     "text": [
      "Epoch #134: 1001it [00:02, 490.19it/s, env_step=134000, gradient_step=13400, len=179, n/ep=0, n/st=100, rew=8213.00]                                                                              \n"
     ]
    },
    {
     "name": "stdout",
     "output_type": "stream",
     "text": [
      "Epoch #134: test_reward: 16251.700000 ± 5718.059060, best_reward: 20667.800000 ± 2776.324253 in #70\n"
     ]
    },
    {
     "name": "stderr",
     "output_type": "stream",
     "text": [
      "Epoch #135: 1001it [00:02, 483.34it/s, env_step=135000, gradient_step=13500, len=161, n/ep=2, n/st=100, rew=6866.00]                                                                              \n"
     ]
    },
    {
     "name": "stdout",
     "output_type": "stream",
     "text": [
      "Epoch #135: test_reward: 11160.000000 ± 3807.911816, best_reward: 20667.800000 ± 2776.324253 in #70\n"
     ]
    },
    {
     "name": "stderr",
     "output_type": "stream",
     "text": [
      "Epoch #136: 1001it [00:02, 464.25it/s, env_step=136000, gradient_step=13600, len=202, n/ep=2, n/st=100, rew=9961.50]                                                                              \n"
     ]
    },
    {
     "name": "stdout",
     "output_type": "stream",
     "text": [
      "Epoch #136: test_reward: 13718.400000 ± 6767.393874, best_reward: 20667.800000 ± 2776.324253 in #70\n"
     ]
    },
    {
     "name": "stderr",
     "output_type": "stream",
     "text": [
      "Epoch #137: 1001it [00:01, 520.96it/s, env_step=137000, gradient_step=13700, len=202, n/ep=0, n/st=100, rew=9961.50]                                                                              \n"
     ]
    },
    {
     "name": "stdout",
     "output_type": "stream",
     "text": [
      "Epoch #137: test_reward: 10350.000000 ± 4057.489174, best_reward: 20667.800000 ± 2776.324253 in #70\n"
     ]
    },
    {
     "name": "stderr",
     "output_type": "stream",
     "text": [
      "Epoch #138: 1001it [00:02, 447.67it/s, env_step=138000, gradient_step=13800, len=180, n/ep=0, n/st=100, rew=9231.00]                                                                              \n"
     ]
    },
    {
     "name": "stdout",
     "output_type": "stream",
     "text": [
      "Epoch #138: test_reward: 12194.800000 ± 4924.552849, best_reward: 20667.800000 ± 2776.324253 in #70\n"
     ]
    },
    {
     "name": "stderr",
     "output_type": "stream",
     "text": [
      "Epoch #139: 1001it [00:02, 477.33it/s, env_step=139000, gradient_step=13900, len=80, n/ep=0, n/st=100, rew=3127.50]                                                                               \n"
     ]
    },
    {
     "name": "stdout",
     "output_type": "stream",
     "text": [
      "Epoch #139: test_reward: 6345.000000 ± 2324.551096, best_reward: 20667.800000 ± 2776.324253 in #70\n"
     ]
    },
    {
     "name": "stderr",
     "output_type": "stream",
     "text": [
      "Epoch #140: 1001it [00:01, 535.35it/s, env_step=140000, gradient_step=14000, len=138, n/ep=0, n/st=100, rew=6012.00]                                                                              \n"
     ]
    },
    {
     "name": "stdout",
     "output_type": "stream",
     "text": [
      "Epoch #140: test_reward: 9738.900000 ± 2718.472161, best_reward: 20667.800000 ± 2776.324253 in #70\n"
     ]
    },
    {
     "name": "stderr",
     "output_type": "stream",
     "text": [
      "Epoch #141: 1001it [00:01, 516.62it/s, env_step=141000, gradient_step=14100, len=145, n/ep=0, n/st=100, rew=7739.75]                                                                              \n"
     ]
    },
    {
     "name": "stdout",
     "output_type": "stream",
     "text": [
      "Epoch #141: test_reward: 8077.100000 ± 2579.964901, best_reward: 20667.800000 ± 2776.324253 in #70\n"
     ]
    },
    {
     "name": "stderr",
     "output_type": "stream",
     "text": [
      "Epoch #142: 1001it [00:02, 472.33it/s, env_step=142000, gradient_step=14200, len=127, n/ep=1, n/st=100, rew=6726.50]                                                                              \n"
     ]
    },
    {
     "name": "stdout",
     "output_type": "stream",
     "text": [
      "Epoch #142: test_reward: 10043.000000 ± 5147.777715, best_reward: 20667.800000 ± 2776.324253 in #70\n"
     ]
    },
    {
     "name": "stderr",
     "output_type": "stream",
     "text": [
      "Epoch #143: 1001it [00:02, 499.01it/s, env_step=143000, gradient_step=14300, len=126, n/ep=2, n/st=100, rew=6342.00]                                                                              \n"
     ]
    },
    {
     "name": "stdout",
     "output_type": "stream",
     "text": [
      "Epoch #143: test_reward: 10826.000000 ± 3728.133823, best_reward: 20667.800000 ± 2776.324253 in #70\n"
     ]
    },
    {
     "name": "stderr",
     "output_type": "stream",
     "text": [
      "Epoch #144: 1001it [00:01, 510.25it/s, env_step=144000, gradient_step=14400, len=215, n/ep=2, n/st=100, rew=11742.25]                                                                             \n"
     ]
    },
    {
     "name": "stdout",
     "output_type": "stream",
     "text": [
      "Epoch #144: test_reward: 12321.300000 ± 5929.260899, best_reward: 20667.800000 ± 2776.324253 in #70\n"
     ]
    },
    {
     "name": "stderr",
     "output_type": "stream",
     "text": [
      "Epoch #145: 1001it [00:02, 457.28it/s, env_step=145000, gradient_step=14500, len=145, n/ep=2, n/st=100, rew=6244.50]                                                                              \n"
     ]
    },
    {
     "name": "stdout",
     "output_type": "stream",
     "text": [
      "Epoch #145: test_reward: 14727.700000 ± 2503.148300, best_reward: 20667.800000 ± 2776.324253 in #70\n"
     ]
    },
    {
     "name": "stderr",
     "output_type": "stream",
     "text": [
      "Epoch #146: 1001it [00:01, 513.99it/s, env_step=146000, gradient_step=14600, len=266, n/ep=0, n/st=100, rew=14847.00]                                                                             \n"
     ]
    },
    {
     "name": "stdout",
     "output_type": "stream",
     "text": [
      "Epoch #146: test_reward: 11413.100000 ± 3414.138616, best_reward: 20667.800000 ± 2776.324253 in #70\n"
     ]
    },
    {
     "name": "stderr",
     "output_type": "stream",
     "text": [
      "Epoch #147: 1001it [00:02, 472.33it/s, env_step=147000, gradient_step=14700, len=214, n/ep=0, n/st=100, rew=11559.50]                                                                             \n"
     ]
    },
    {
     "name": "stdout",
     "output_type": "stream",
     "text": [
      "Epoch #147: test_reward: 14722.500000 ± 4373.312046, best_reward: 20667.800000 ± 2776.324253 in #70\n"
     ]
    },
    {
     "name": "stderr",
     "output_type": "stream",
     "text": [
      "Epoch #148: 1001it [00:02, 478.01it/s, env_step=148000, gradient_step=14800, len=157, n/ep=0, n/st=100, rew=5971.00]                                                                              \n"
     ]
    },
    {
     "name": "stdout",
     "output_type": "stream",
     "text": [
      "Epoch #148: test_reward: 7535.100000 ± 3430.707171, best_reward: 20667.800000 ± 2776.324253 in #70\n"
     ]
    },
    {
     "name": "stderr",
     "output_type": "stream",
     "text": [
      "Epoch #149: 1001it [00:02, 387.17it/s, env_step=149000, gradient_step=14900, len=113, n/ep=0, n/st=100, rew=5329.00]                                                                              \n"
     ]
    },
    {
     "name": "stdout",
     "output_type": "stream",
     "text": [
      "Epoch #149: test_reward: 12833.600000 ± 2759.742242, best_reward: 20667.800000 ± 2776.324253 in #70\n"
     ]
    },
    {
     "name": "stderr",
     "output_type": "stream",
     "text": [
      "Epoch #150: 1001it [00:02, 499.53it/s, env_step=150000, gradient_step=15000, len=88, n/ep=1, n/st=100, rew=3831.00]                                                                               \n"
     ]
    },
    {
     "name": "stdout",
     "output_type": "stream",
     "text": [
      "Epoch #150: test_reward: 13270.000000 ± 2173.941674, best_reward: 20667.800000 ± 2776.324253 in #70\n",
      "\n",
      "==========Result==========\n",
      "InfoStats(gradient_step=15000, best_reward=20667.8, best_reward_std=2776.3242533969265, train_step=150000, train_episode=657, test_step=358560, test_episode=1510, timing=TimingStats(total_time=530.0276830196381, train_time=321.41389322280884, train_time_collect=53.170809268951416, train_time_update=261.5024907588959, test_time=208.61378979682922, update_speed=466.6879782200883))\n",
      "\n",
      "(the trained policy can be accessed via policy.policies[agents[1]])\n"
     ]
    }
   ],
   "source": [
    "# Before evaluate this cell run the cell with env\n",
    "# ======== Step 1: Environment setup =========\n",
    "train_envs = DummyVectorEnv([_get_env for _ in range(100)])\n",
    "test_envs = DummyVectorEnv([_get_env for _ in range(100)])\n",
    "\n",
    "# seed\n",
    "seed = 11\n",
    "np.random.seed(seed)\n",
    "torch.manual_seed(seed)\n",
    "train_envs.seed(seed)\n",
    "test_envs.seed(seed)\n",
    "\n",
    "# ======== Step 2: Agent setup =========\n",
    "policy, optim, agents = _get_agents_dqn(agent_opponent=agents_learned_qostaushy[1])\n",
    "\n",
    "# # ======== Step 3: Collector setup =========\n",
    "train_collector = Collector(\n",
    "    policy,\n",
    "    train_envs,\n",
    "    VectorReplayBuffer(20_000, len(train_envs)),\n",
    "    exploration_noise=True,\n",
    ")\n",
    "test_collector = Collector(policy, test_envs, exploration_noise=True)\n",
    "# policy.set_eps(1)\n",
    "\n",
    "# ======== Step 4: Callback functions setup =========\n",
    "def save_best_fn(policy):\n",
    "    model_save_path = os.path.join(\"models\", \"dqn\", \"policy.pth\")\n",
    "    os.makedirs(os.path.join(\"models\", \"dqn\"), exist_ok=True)\n",
    "    torch.save(policy.policies[agents[1]].state_dict(), model_save_path)\n",
    "\n",
    "def stop_fn(mean_rewards):\n",
    "    return mean_rewards >= 21000\n",
    "\n",
    "def train_fn(epoch, env_step):\n",
    "    policy.policies[agents[1]].set_eps(0.1)\n",
    "\n",
    "def test_fn(epoch, env_step):\n",
    "    policy.policies[agents[1]].set_eps(0.05)\n",
    "\n",
    "def reward_metric(rews):\n",
    "    return rews[:, 1]\n",
    "\n",
    "# ======== Step 5: Run the trainer =========\n",
    "result = OffpolicyTrainer(\n",
    "    policy=policy,\n",
    "    train_collector=train_collector,\n",
    "    test_collector=test_collector,\n",
    "    max_epoch=150,\n",
    "    step_per_epoch=1000,\n",
    "    step_per_collect=50,\n",
    "    episode_per_test=10,\n",
    "    batch_size=256,\n",
    "    train_fn=train_fn,\n",
    "    test_fn=test_fn,\n",
    "    stop_fn=stop_fn,\n",
    "    #save_best_fn=save_best_fn,\n",
    "    update_per_step=0.1,\n",
    "    test_in_train=False,\n",
    "    reward_metric=reward_metric,\n",
    "    verbose=True,\n",
    "    logger=logger\n",
    ").run()\n",
    "\n",
    "# return result, policy.policies[agents[1]]\n",
    "print(f\"\\n==========Result==========\\n{result}\")\n",
    "print(\"\\n(the trained policy can be accessed via policy.policies[agents[1]])\")"
   ]
  },
  {
   "cell_type": "markdown",
   "metadata": {
    "id": "ARZK7tZNb4J3",
    "jp-MarkdownHeadingCollapsed": true
   },
   "source": [
    "### 🐙 Evaluate best Qostaushy agent with random policy"
   ]
  },
  {
   "cell_type": "code",
   "execution_count": 67,
   "metadata": {
    "colab": {
     "base_uri": "https://localhost:8080/"
    },
    "id": "-RbkOmmh-04R",
    "outputId": "c6be4553-8ce4-406a-9977-d723ed96af0d"
   },
   "outputs": [
    {
     "name": "stdout",
     "output_type": "stream",
     "text": [
      "{'bastaushy': 85, 'qostaushy': 13}\n"
     ]
    }
   ],
   "source": [
    "PLAYS = {\"bastaushy\": 0, \"qostaushy\": 0}\n",
    "# Step 1: Load the PettingZoo environment\n",
    "env = env()#render_mode=\"human\")\n",
    "\n",
    "# Step 2: Wrap the environment for Tianshou interfacing\n",
    "env = PettingZooEnv(env)\n",
    "\n",
    "# # Step 3: Define policies for each agent\n",
    "policies = MultiAgentPolicyManager(policies=[RandomPolicy(action_space=env.action_space), agents_learned_qostaushy[3]], env=env)\n",
    "# # Step 4: Convert the env to vector format\n",
    "env = DummyVectorEnv([lambda: env])\n",
    "\n",
    "# # Step 5: Construct the Collector, which interfaces the policies with the vectorised environment\n",
    "collector = Collector(policies, env)\n",
    "\n",
    "# # Step 6: Execute the environment with the agents playing for 1 episode, and render a frame every ? seconds\n",
    "result = collector.collect(n_episode=100, reset_before_collect=True)\n",
    "print(PLAYS)"
   ]
  },
  {
   "cell_type": "markdown",
   "metadata": {
    "id": "pIAdRMbp2zS-"
   },
   "source": [
    "🐳 Experiments"
   ]
  },
  {
   "cell_type": "markdown",
   "metadata": {
    "id": "CqQs-aqbJmxn"
   },
   "source": [
    "1.\n",
    "\n",
    " net = Net(\n",
    "            state_shape=observation_space.shape or observation_space.n,\n",
    "            action_shape=env.action_space.shape or env.action_space.n,\n",
    "            hidden_sizes=[128, 256, 256, 128],\n",
    "            device=\"cuda\" if torch.cuda.is_available() else \"cpu\",\n",
    "        ).to(\"cuda\" if torch.cuda.is_available() else \"cpu\")\n",
    "\n",
    "train_collector.collect(n_step=64 * 100)  # batch size * training_num\n",
    "\n",
    "res: {'bastaushy': 781, 'qostaushy': 194}\n",
    "\n",
    "res: {'bastaushy': 790, 'qostaushy': 191}\n",
    "\n",
    "2.\n",
    "\n",
    " net = Net(\n",
    "            state_shape=observation_space.shape or observation_space.n,\n",
    "            action_shape=env.action_space.shape or env.action_space.n,\n",
    "            hidden_sizes=[128, 256, 256, 128],\n",
    "            device=\"cuda\" if torch.cuda.is_available() else \"cpu\",\n",
    "        ).to(\"cuda\" if torch.cuda.is_available() else \"cpu\")\n",
    "\n",
    "train_collector.collect(n_step=256 * 100)  # batch size * training_num\n",
    "\n",
    "res: 6/3\n",
    "\n",
    "3.\n",
    "\n",
    "net = Net(\n",
    "            state_shape=observation_space.shape or observation_space.n,\n",
    "            action_shape=env.action_space.shape or env.action_space.n,\n",
    "            hidden_sizes=[128, 256, 256, 128],\n",
    "            device=\"cuda\" if torch.cuda.is_available() else \"cpu\",\n",
    "        ).to(\"cuda\" if torch.cuda.is_available() else \"cpu\")\n",
    "\n",
    "train_collector.collect(n_step=128 * 100)  # batch size * training_num     \n",
    "\n",
    "{'bastaushy': 537, 'qostaushy': 411}\n",
    "\n",
    "4.\n",
    "\n",
    "net = Net(\n",
    "            state_shape=observation_space.shape or observation_space.n,\n",
    "            action_shape=env.action_space.shape or env.action_space.n,\n",
    "            hidden_sizes=[256, 512, 512, 256],\n",
    "            device=\"cuda\" if torch.cuda.is_available() else \"cpu\",\n",
    "        ).to(\"cuda\" if torch.cuda.is_available() else \"cpu\")\n",
    "\n",
    "train_collector.collect(n_step=128 * 100)  # batch size * training_num   \n",
    "\n",
    "res: {'bastaushy': 493, 'qostaushy': 483}\n",
    "\n",
    "res: {'bastaushy': 512, 'qostaushy': 464}\n",
    "\n",
    "5.\n",
    "\n",
    "net = Net(\n",
    "            state_shape=observation_space.shape or observation_space.n,\n",
    "            action_shape=env.action_space.shape or env.action_space.n,\n",
    "            hidden_sizes=[512, 1024, 1024, 512],\n",
    "            device=\"cuda\" if torch.cuda.is_available() else \"cpu\",\n",
    "        ).to(\"cuda\" if torch.cuda.is_available() else \"cpu\")\n",
    "\n",
    "res: {'bastaushy': 38, 'qostaushy': 59}\n",
    "\n",
    "res: {'bastaushy': 372, 'qostaushy': 562}"
   ]
  },
  {
   "cell_type": "markdown",
   "metadata": {
    "id": "VrclkOUXAe8B",
    "jp-MarkdownHeadingCollapsed": true
   },
   "source": [
    "### 🦎 Play with different policies"
   ]
  },
  {
   "cell_type": "code",
   "execution_count": 77,
   "metadata": {
    "colab": {
     "base_uri": "https://localhost:8080/",
     "height": 34
    },
    "id": "dHioGuILePHq",
    "outputId": "9eae1b7e-2752-45ff-cece-c10a3597100f"
   },
   "outputs": [
    {
     "name": "stdout",
     "output_type": "stream",
     "text": [
      "{'bastaushy': 0, 'qostaushy': 1}\n"
     ]
    }
   ],
   "source": [
    "PLAYS = {\"bastaushy\": 0, \"qostaushy\": 0}\n",
    "# Step 1: Load the PettingZoo environment\n",
    "env = env()#render_mode=\"human\")\n",
    "\n",
    "# Step 2: Wrap the environment for Tianshou interfacing\n",
    "env = PettingZooEnv(env)\n",
    "\n",
    "# # Step 3: Define policies for each agent\n",
    "policies = MultiAgentPolicyManager(policies=[agents_learned_qostaushy[0], agents_learned_qostaushy[2]], env=env)\n",
    "# # Step 4: Convert the env to vector format\n",
    "env = DummyVectorEnv([lambda: env])\n",
    "\n",
    "# # Step 5: Construct the Collector, which interfaces the policies with the vectorised environment\n",
    "collector = Collector(policies, env)\n",
    "\n",
    "# # Step 6: Execute the environment with the agents playing for 1 episode, and render a frame every 2 seconds\n",
    "result = collector.collect(n_episode=1, reset_before_collect=True)\n",
    "print(PLAYS)"
   ]
  },
  {
   "cell_type": "markdown",
   "metadata": {
    "id": "C2EnuhRNiUGE"
   },
   "source": [
    "🐯 Experiment results"
   ]
  },
  {
   "cell_type": "markdown",
   "metadata": {
    "id": "qEIOFq8YibxN"
   },
   "source": [
    "\n",
    "*   agent3 vs agent1: 0-0\n",
    "*   agent1 vs agent3: 0-1\n",
    "*   agent3 vs agent2: 0-1\n",
    "*   agent2 vs agent3: 1-0\n",
    "*   agent2 vs agent1: 0-1\n",
    "*   agent1 vs agent2: 1-0\n",
    "*   trained with agent1 vs agent1: 1-0\n",
    "*   agent1 vs trained with agent1: 0-0\n",
    "*   trained with agent1 vs agent2: 0-0\n",
    "*   agent2 vs trained with agent1: 0-0\n",
    "*   trained with agent1 vs agent3: 1-0\n",
    "*   agent3 vs trained with agent1: 0-0\n",
    "\n"
   ]
  },
  {
   "cell_type": "markdown",
   "metadata": {
    "jp-MarkdownHeadingCollapsed": true
   },
   "source": [
    "# 🦩 PPO policy training"
   ]
  },
  {
   "cell_type": "markdown",
   "metadata": {
    "jp-MarkdownHeadingCollapsed": true
   },
   "source": [
    "### 🐊 Change files tianshou.utils.net.common & tianshou.policy.modelfree.pgpolicy"
   ]
  },
  {
   "cell_type": "code",
   "execution_count": null,
   "metadata": {},
   "outputs": [],
   "source": [
    "#common.py\n",
    "from abc import ABC, abstractmethod\n",
    "from collections.abc import Callable, Sequence\n",
    "from typing import Any, Generic, TypeAlias, TypeVar, cast, no_type_check\n",
    "\n",
    "import numpy as np\n",
    "import torch\n",
    "from torch import nn\n",
    "\n",
    "from tianshou.data import to_torch_as\n",
    "from tianshou.data.batch import Batch\n",
    "from tianshou.data.types import RecurrentStateBatch\n",
    "\n",
    "ModuleType = type[nn.Module]\n",
    "ArgsType = tuple[Any, ...] | dict[Any, Any] | Sequence[tuple[Any, ...]] | Sequence[dict[Any, Any]]\n",
    "TActionShape: TypeAlias = Sequence[int] | int | np.int64\n",
    "TLinearLayer: TypeAlias = Callable[[int, int], nn.Module]\n",
    "T = TypeVar(\"T\")\n",
    "\n",
    "\n",
    "def miniblock(\n",
    "    input_size: int,\n",
    "    output_size: int = 0,\n",
    "    norm_layer: ModuleType | None = None,\n",
    "    norm_args: tuple[Any, ...] | dict[Any, Any] | None = None,\n",
    "    activation: ModuleType | None = None,\n",
    "    act_args: tuple[Any, ...] | dict[Any, Any] | None = None,\n",
    "    linear_layer: TLinearLayer = nn.Linear,\n",
    ") -> list[nn.Module]:\n",
    "    \"\"\"Construct a miniblock with given input/output-size, norm layer and activation.\"\"\"\n",
    "    layers: list[nn.Module] = [linear_layer(input_size, output_size)]\n",
    "    if norm_layer is not None:\n",
    "        if isinstance(norm_args, tuple):\n",
    "            layers += [norm_layer(output_size, *norm_args)]\n",
    "        elif isinstance(norm_args, dict):\n",
    "            layers += [norm_layer(output_size, **norm_args)]\n",
    "        else:\n",
    "            layers += [norm_layer(output_size)]\n",
    "    if activation is not None:\n",
    "        if isinstance(act_args, tuple):\n",
    "            layers += [activation(*act_args)]\n",
    "        elif isinstance(act_args, dict):\n",
    "            layers += [activation(**act_args)]\n",
    "        else:\n",
    "            layers += [activation()]\n",
    "    return layers\n",
    "\n",
    "\n",
    "class MLP(nn.Module):\n",
    "    \"\"\"Simple MLP backbone.\n",
    "\n",
    "    Create a MLP of size input_dim * hidden_sizes[0] * hidden_sizes[1] * ...\n",
    "    * hidden_sizes[-1] * output_dim\n",
    "\n",
    "    :param input_dim: dimension of the input vector.\n",
    "    :param output_dim: dimension of the output vector. If set to 0, there\n",
    "        is no final linear layer.\n",
    "    :param hidden_sizes: shape of MLP passed in as a list, not including\n",
    "        input_dim and output_dim.\n",
    "    :param norm_layer: use which normalization before activation, e.g.,\n",
    "        ``nn.LayerNorm`` and ``nn.BatchNorm1d``. Default to no normalization.\n",
    "        You can also pass a list of normalization modules with the same length\n",
    "        of hidden_sizes, to use different normalization module in different\n",
    "        layers. Default to no normalization.\n",
    "    :param activation: which activation to use after each layer, can be both\n",
    "        the same activation for all layers if passed in nn.Module, or different\n",
    "        activation for different Modules if passed in a list. Default to\n",
    "        nn.ReLU.\n",
    "    :param device: which device to create this model on. Default to None.\n",
    "    :param linear_layer: use this module as linear layer. Default to nn.Linear.\n",
    "    :param flatten_input: whether to flatten input data. Default to True.\n",
    "    \"\"\"\n",
    "\n",
    "    def __init__(\n",
    "        self,\n",
    "        input_dim: int,\n",
    "        output_dim: int = 0,\n",
    "        hidden_sizes: Sequence[int] = (),\n",
    "        norm_layer: ModuleType | Sequence[ModuleType] | None = None,\n",
    "        norm_args: ArgsType | None = None,\n",
    "        activation: ModuleType | Sequence[ModuleType] | None = nn.ReLU,\n",
    "        act_args: ArgsType | None = None,\n",
    "        device: str | int | torch.device | None = None,\n",
    "        linear_layer: TLinearLayer = nn.Linear,\n",
    "        flatten_input: bool = True,\n",
    "    ) -> None:\n",
    "        super().__init__()\n",
    "        self.device = device\n",
    "        if norm_layer:\n",
    "            if isinstance(norm_layer, list):\n",
    "                assert len(norm_layer) == len(hidden_sizes)\n",
    "                norm_layer_list = norm_layer\n",
    "                if isinstance(norm_args, list):\n",
    "                    assert len(norm_args) == len(hidden_sizes)\n",
    "                    norm_args_list = norm_args\n",
    "                else:\n",
    "                    norm_args_list = [norm_args for _ in range(len(hidden_sizes))]\n",
    "            else:\n",
    "                norm_layer_list = [norm_layer for _ in range(len(hidden_sizes))]\n",
    "                norm_args_list = [norm_args for _ in range(len(hidden_sizes))]\n",
    "        else:\n",
    "            norm_layer_list = [None] * len(hidden_sizes)\n",
    "            norm_args_list = [None] * len(hidden_sizes)\n",
    "        if activation:\n",
    "            if isinstance(activation, list):\n",
    "                assert len(activation) == len(hidden_sizes)\n",
    "                activation_list = activation\n",
    "                if isinstance(act_args, list):\n",
    "                    assert len(act_args) == len(hidden_sizes)\n",
    "                    act_args_list = act_args\n",
    "                else:\n",
    "                    act_args_list = [act_args for _ in range(len(hidden_sizes))]\n",
    "            else:\n",
    "                activation_list = [activation for _ in range(len(hidden_sizes))]\n",
    "                act_args_list = [act_args for _ in range(len(hidden_sizes))]\n",
    "        else:\n",
    "            activation_list = [None] * len(hidden_sizes)\n",
    "            act_args_list = [None] * len(hidden_sizes)\n",
    "        hidden_sizes = [input_dim, *list(hidden_sizes)]\n",
    "        model = []\n",
    "        for in_dim, out_dim, norm, norm_args, activ, act_args in zip(\n",
    "            hidden_sizes[:-1],\n",
    "            hidden_sizes[1:],\n",
    "            norm_layer_list,\n",
    "            norm_args_list,\n",
    "            activation_list,\n",
    "            act_args_list,\n",
    "            strict=True,\n",
    "        ):\n",
    "            model += miniblock(in_dim, out_dim, norm, norm_args, activ, act_args, linear_layer)\n",
    "        if output_dim > 0:\n",
    "            model += [linear_layer(hidden_sizes[-1], output_dim)]\n",
    "        self.output_dim = output_dim or hidden_sizes[-1]\n",
    "        self.model = nn.Sequential(*model)\n",
    "        self.flatten_input = flatten_input\n",
    "\n",
    "    @no_type_check\n",
    "    def forward(self, obs: np.ndarray | torch.Tensor) -> torch.Tensor:\n",
    "        obs = torch.as_tensor(obs, device=self.device, dtype=torch.float32)\n",
    "        if self.flatten_input:\n",
    "            obs = obs.flatten(1)\n",
    "        return self.model(obs)\n",
    "\n",
    "\n",
    "TRecurrentState = TypeVar(\"TRecurrentState\", bound=Any)\n",
    "\n",
    "\n",
    "class NetBase(nn.Module, Generic[TRecurrentState], ABC):\n",
    "    \"\"\"Interface for NNs used in policies.\"\"\"\n",
    "\n",
    "    @abstractmethod\n",
    "    def forward(\n",
    "        self,\n",
    "        obs: np.ndarray | torch.Tensor,\n",
    "        state: TRecurrentState | None = None,\n",
    "        info: dict[str, Any] | None = None,\n",
    "    ) -> tuple[torch.Tensor, TRecurrentState | None]:\n",
    "        pass\n",
    "\n",
    "\n",
    "class Net(NetBase[Any]):\n",
    "    \"\"\"Wrapper of MLP to support more specific DRL usage.\n",
    "\n",
    "    For advanced usage (how to customize the network), please refer to\n",
    "    :ref:`build_the_network`.\n",
    "\n",
    "    :param state_shape: int or a sequence of int of the shape of state.\n",
    "    :param action_shape: int or a sequence of int of the shape of action.\n",
    "    :param hidden_sizes: shape of MLP passed in as a list.\n",
    "    :param norm_layer: use which normalization before activation, e.g.,\n",
    "        ``nn.LayerNorm`` and ``nn.BatchNorm1d``. Default to no normalization.\n",
    "        You can also pass a list of normalization modules with the same length\n",
    "        of hidden_sizes, to use different normalization module in different\n",
    "        layers. Default to no normalization.\n",
    "    :param activation: which activation to use after each layer, can be both\n",
    "        the same activation for all layers if passed in nn.Module, or different\n",
    "        activation for different Modules if passed in a list. Default to\n",
    "        nn.ReLU.\n",
    "    :param device: specify the device when the network actually runs. Default\n",
    "        to \"cpu\".\n",
    "    :param softmax: whether to apply a softmax layer over the last layer's\n",
    "        output.\n",
    "    :param concat: whether the input shape is concatenated by state_shape\n",
    "        and action_shape. If it is True, ``action_shape`` is not the output\n",
    "        shape, but affects the input shape only.\n",
    "    :param num_atoms: in order to expand to the net of distributional RL.\n",
    "        Default to 1 (not use).\n",
    "    :param dueling_param: whether to use dueling network to calculate Q\n",
    "        values (for Dueling DQN). If you want to use dueling option, you should\n",
    "        pass a tuple of two dict (first for Q and second for V) stating\n",
    "        self-defined arguments as stated in\n",
    "        class:`~tianshou.utils.net.common.MLP`. Default to None.\n",
    "    :param linear_layer: use this module constructor, which takes the input\n",
    "        and output dimension as input, as linear layer. Default to nn.Linear.\n",
    "\n",
    "    .. seealso::\n",
    "\n",
    "        Please refer to :class:`~tianshou.utils.net.common.MLP` for more\n",
    "        detailed explanation on the usage of activation, norm_layer, etc.\n",
    "\n",
    "        You can also refer to :class:`~tianshou.utils.net.continuous.Actor`,\n",
    "        :class:`~tianshou.utils.net.continuous.Critic`, etc, to see how it's\n",
    "        suggested be used.\n",
    "    \"\"\"\n",
    "\n",
    "    def __init__(\n",
    "        self,\n",
    "        state_shape: int | Sequence[int],\n",
    "        action_shape: TActionShape = 0,\n",
    "        hidden_sizes: Sequence[int] = (),\n",
    "        norm_layer: ModuleType | Sequence[ModuleType] | None = None,\n",
    "        norm_args: ArgsType | None = None,\n",
    "        activation: ModuleType | Sequence[ModuleType] | None = nn.ReLU,\n",
    "        act_args: ArgsType | None = None,\n",
    "        device: str | int | torch.device = \"cpu\",\n",
    "        softmax: bool = False,\n",
    "        concat: bool = False,\n",
    "        num_atoms: int = 1,\n",
    "        dueling_param: tuple[dict[str, Any], dict[str, Any]] | None = None,\n",
    "        linear_layer: TLinearLayer = nn.Linear,\n",
    "    ) -> None:\n",
    "        super().__init__()\n",
    "        self.device = device\n",
    "        self.softmax = softmax\n",
    "        self.num_atoms = num_atoms\n",
    "        self.Q: MLP | None = None\n",
    "        self.V: MLP | None = None\n",
    "\n",
    "        input_dim = int(np.prod(state_shape))\n",
    "        action_dim = int(np.prod(action_shape)) * num_atoms\n",
    "        if concat:\n",
    "            input_dim += action_dim\n",
    "        self.use_dueling = dueling_param is not None\n",
    "        output_dim = action_dim if not self.use_dueling and not concat else 0\n",
    "        self.model = MLP(\n",
    "            input_dim,\n",
    "            output_dim,\n",
    "            hidden_sizes,\n",
    "            norm_layer,\n",
    "            norm_args,\n",
    "            activation,\n",
    "            act_args,\n",
    "            device,\n",
    "            linear_layer,\n",
    "        )\n",
    "        if self.use_dueling:  # dueling DQN\n",
    "            assert dueling_param is not None\n",
    "            kwargs_update = {\n",
    "                \"input_dim\": self.model.output_dim,\n",
    "                \"device\": self.device,\n",
    "            }\n",
    "            # Important: don't change the original dict (e.g., don't use .update())\n",
    "            q_kwargs = {**dueling_param[0], **kwargs_update}\n",
    "            v_kwargs = {**dueling_param[1], **kwargs_update}\n",
    "\n",
    "            q_kwargs[\"output_dim\"] = 0 if concat else action_dim\n",
    "            v_kwargs[\"output_dim\"] = 0 if concat else num_atoms\n",
    "            self.Q, self.V = MLP(**q_kwargs), MLP(**v_kwargs)\n",
    "            self.output_dim = self.Q.output_dim\n",
    "        else:\n",
    "            self.output_dim = self.model.output_dim\n",
    "\n",
    "    def forward(\n",
    "        self,\n",
    "        obs: np.ndarray | torch.Tensor,\n",
    "        state: Any = None,\n",
    "        info: dict[str, Any] | None = None,\n",
    "    ) -> tuple[torch.Tensor, Any]:\n",
    "        \"\"\"Mapping: obs -> flatten (inside MLP)-> logits.\n",
    "\n",
    "        :param obs:\n",
    "        :param state: unused and returned as is\n",
    "        :param info: unused\n",
    "        \"\"\"\n",
    "        if hasattr(obs, \"obs\"):\n",
    "            obs = obs.obs\n",
    "        logits = self.model(obs)\n",
    "        batch_size = logits.shape[0]\n",
    "        if self.use_dueling:  # Dueling DQN\n",
    "            assert self.Q is not None\n",
    "            assert self.V is not None\n",
    "            q, v = self.Q(logits), self.V(logits)\n",
    "            if self.num_atoms > 1:\n",
    "                q = q.view(batch_size, -1, self.num_atoms)\n",
    "                v = v.view(batch_size, -1, self.num_atoms)\n",
    "            logits = q - q.mean(dim=1, keepdim=True) + v\n",
    "        elif self.num_atoms > 1:\n",
    "            logits = logits.view(batch_size, -1, self.num_atoms)\n",
    "        if self.softmax:\n",
    "            logits = torch.softmax(logits, dim=-1)\n",
    "        return logits, state\n",
    "\n",
    "\n",
    "class Recurrent(NetBase[RecurrentStateBatch]):\n",
    "    \"\"\"Simple Recurrent network based on LSTM.\n",
    "\n",
    "    For advanced usage (how to customize the network), please refer to\n",
    "    :ref:`build_the_network`.\n",
    "    \"\"\"\n",
    "\n",
    "    def __init__(\n",
    "        self,\n",
    "        layer_num: int,\n",
    "        state_shape: int | Sequence[int],\n",
    "        action_shape: TActionShape,\n",
    "        device: str | int | torch.device = \"cpu\",\n",
    "        hidden_layer_size: int = 128,\n",
    "    ) -> None:\n",
    "        super().__init__()\n",
    "        self.device = device\n",
    "        self.nn = nn.LSTM(\n",
    "            input_size=hidden_layer_size,\n",
    "            hidden_size=hidden_layer_size,\n",
    "            num_layers=layer_num,\n",
    "            batch_first=True,\n",
    "        )\n",
    "        self.fc1 = nn.Linear(int(np.prod(state_shape)), hidden_layer_size)\n",
    "        self.fc2 = nn.Linear(hidden_layer_size, int(np.prod(action_shape)))\n",
    "\n",
    "    def forward(\n",
    "        self,\n",
    "        obs: np.ndarray | torch.Tensor,\n",
    "        state: RecurrentStateBatch | None = None,\n",
    "        info: dict[str, Any] | None = None,\n",
    "    ) -> tuple[torch.Tensor, RecurrentStateBatch]:\n",
    "        \"\"\"Mapping: obs -> flatten -> logits.\n",
    "\n",
    "        In the evaluation mode, `obs` should be with shape ``[bsz, dim]``; in the\n",
    "        training mode, `obs` should be with shape ``[bsz, len, dim]``. See the code\n",
    "        and comment for more detail.\n",
    "\n",
    "        :param obs:\n",
    "        :param state: either None or a dict with keys 'hidden' and 'cell'\n",
    "        :param info: unused\n",
    "        :return: predicted action, next state as dict with keys 'hidden' and 'cell'\n",
    "        \"\"\"\n",
    "        # Note: the original type of state is Batch but it might also be a dict\n",
    "        # If it is a Batch, .issubset(state) will not work. However,\n",
    "        # issubset(state.keys()) always works\n",
    "        if state is not None and not {\"hidden\", \"cell\"}.issubset(state.keys()):\n",
    "            raise ValueError(\n",
    "                f\"Expected to find keys 'hidden' and 'cell' but instead found {state.keys()}\",\n",
    "            )\n",
    "\n",
    "        obs = torch.as_tensor(obs, device=self.device, dtype=torch.float32)\n",
    "        # obs [bsz, len, dim] (training) or [bsz, dim] (evaluation)\n",
    "        # In short, the tensor's shape in training phase is longer than which\n",
    "        # in evaluation phase.\n",
    "        if len(obs.shape) == 2:\n",
    "            obs = obs.unsqueeze(-2)\n",
    "        obs = self.fc1(obs)\n",
    "        self.nn.flatten_parameters()\n",
    "        if state is None:\n",
    "            obs, (hidden, cell) = self.nn(obs)\n",
    "        else:\n",
    "            # we store the stack data in [bsz, len, ...] format\n",
    "            # but pytorch rnn needs [len, bsz, ...]\n",
    "            obs, (hidden, cell) = self.nn(\n",
    "                obs,\n",
    "                (\n",
    "                    state[\"hidden\"].transpose(0, 1).contiguous(),\n",
    "                    state[\"cell\"].transpose(0, 1).contiguous(),\n",
    "                ),\n",
    "            )\n",
    "        obs = self.fc2(obs[:, -1])\n",
    "        # please ensure the first dim is batch size: [bsz, len, ...]\n",
    "        rnn_state_batch = cast(\n",
    "            RecurrentStateBatch,\n",
    "            Batch(\n",
    "                {\n",
    "                    \"hidden\": hidden.transpose(0, 1).detach(),\n",
    "                    \"cell\": cell.transpose(0, 1).detach(),\n",
    "                },\n",
    "            ),\n",
    "        )\n",
    "        return obs, rnn_state_batch\n",
    "\n",
    "\n",
    "class ActorCritic(nn.Module):\n",
    "    \"\"\"An actor-critic network for parsing parameters.\n",
    "\n",
    "    Using ``actor_critic.parameters()`` instead of set.union or list+list to avoid\n",
    "    issue #449.\n",
    "\n",
    "    :param nn.Module actor: the actor network.\n",
    "    :param nn.Module critic: the critic network.\n",
    "    \"\"\"\n",
    "\n",
    "    def __init__(self, actor: nn.Module, critic: nn.Module) -> None:\n",
    "        super().__init__()\n",
    "        self.actor = actor\n",
    "        self.critic = critic\n",
    "\n",
    "\n",
    "class DataParallelNet(nn.Module):\n",
    "    \"\"\"DataParallel wrapper for training agent with multi-GPU.\n",
    "\n",
    "    This class does only the conversion of input data type, from numpy array to torch's\n",
    "    Tensor. If the input is a nested dictionary, the user should create a similar class\n",
    "    to do the same thing.\n",
    "\n",
    "    :param nn.Module net: the network to be distributed in different GPUs.\n",
    "    \"\"\"\n",
    "\n",
    "    def __init__(self, net: nn.Module) -> None:\n",
    "        super().__init__()\n",
    "        self.net = nn.DataParallel(net)\n",
    "\n",
    "    def forward(\n",
    "        self,\n",
    "        obs: np.ndarray | torch.Tensor,\n",
    "        *args: Any,\n",
    "        **kwargs: Any,\n",
    "    ) -> tuple[Any, Any]:\n",
    "        if not isinstance(obs, torch.Tensor):\n",
    "            obs = torch.as_tensor(obs, dtype=torch.float32)\n",
    "        return self.net(obs=obs.cuda(), *args, **kwargs)  # noqa: B026\n",
    "\n",
    "\n",
    "class EnsembleLinear(nn.Module):\n",
    "    \"\"\"Linear Layer of Ensemble network.\n",
    "\n",
    "    :param ensemble_size: Number of subnets in the ensemble.\n",
    "    :param in_feature: dimension of the input vector.\n",
    "    :param out_feature: dimension of the output vector.\n",
    "    :param bias: whether to include an additive bias, default to be True.\n",
    "    \"\"\"\n",
    "\n",
    "    def __init__(\n",
    "        self,\n",
    "        ensemble_size: int,\n",
    "        in_feature: int,\n",
    "        out_feature: int,\n",
    "        bias: bool = True,\n",
    "    ) -> None:\n",
    "        super().__init__()\n",
    "\n",
    "        # To be consistent with PyTorch default initializer\n",
    "        k = np.sqrt(1.0 / in_feature)\n",
    "        weight_data = torch.rand((ensemble_size, in_feature, out_feature)) * 2 * k - k\n",
    "        self.weight = nn.Parameter(weight_data, requires_grad=True)\n",
    "\n",
    "        self.bias_weights: nn.Parameter | None = None\n",
    "        if bias:\n",
    "            bias_data = torch.rand((ensemble_size, 1, out_feature)) * 2 * k - k\n",
    "            self.bias_weights = nn.Parameter(bias_data, requires_grad=True)\n",
    "\n",
    "    def forward(self, x: torch.Tensor) -> torch.Tensor:\n",
    "        x = torch.matmul(x, self.weight)\n",
    "        if self.bias_weights is not None:\n",
    "            x = x + self.bias_weights\n",
    "        return x\n",
    "\n",
    "\n",
    "# TODO: fix docstring\n",
    "class BranchingNet(NetBase[Any]):\n",
    "    \"\"\"Branching dual Q network.\n",
    "\n",
    "    Network for the BranchingDQNPolicy, it uses a common network module, a value module\n",
    "    and action \"branches\" one for each dimension.It allows for a linear scaling\n",
    "    of Q-value the output w.r.t. the number of dimensions in the action space.\n",
    "    For more info please refer to: arXiv:1711.08946.\n",
    "    :param state_shape: int or a sequence of int of the shape of state.\n",
    "    :param action_shape: int or a sequence of int of the shape of action.\n",
    "    :param action_peer_branch: int or a sequence of int of the number of actions in\n",
    "    each dimension.\n",
    "    :param common_hidden_sizes: shape of the common MLP network passed in as a list.\n",
    "    :param value_hidden_sizes: shape of the value MLP network passed in as a list.\n",
    "    :param action_hidden_sizes: shape of the action MLP network passed in as a list.\n",
    "    :param norm_layer: use which normalization before activation, e.g.,\n",
    "    ``nn.LayerNorm`` and ``nn.BatchNorm1d``. Default to no normalization.\n",
    "    You can also pass a list of normalization modules with the same length\n",
    "    of hidden_sizes, to use different normalization module in different\n",
    "    layers. Default to no normalization.\n",
    "    :param activation: which activation to use after each layer, can be both\n",
    "    the same activation for all layers if passed in nn.Module, or different\n",
    "    activation for different Modules if passed in a list. Default to\n",
    "    nn.ReLU.\n",
    "    :param device: specify the device when the network actually runs. Default\n",
    "    to \"cpu\".\n",
    "    :param softmax: whether to apply a softmax layer over the last layer's\n",
    "    output.\n",
    "    \"\"\"\n",
    "\n",
    "    def __init__(\n",
    "        self,\n",
    "        state_shape: int | Sequence[int],\n",
    "        num_branches: int = 0,\n",
    "        action_per_branch: int = 2,\n",
    "        common_hidden_sizes: list[int] | None = None,\n",
    "        value_hidden_sizes: list[int] | None = None,\n",
    "        action_hidden_sizes: list[int] | None = None,\n",
    "        norm_layer: ModuleType | None = None,\n",
    "        norm_args: ArgsType | None = None,\n",
    "        activation: ModuleType | None = nn.ReLU,\n",
    "        act_args: ArgsType | None = None,\n",
    "        device: str | int | torch.device = \"cpu\",\n",
    "    ) -> None:\n",
    "        super().__init__()\n",
    "        common_hidden_sizes = common_hidden_sizes or []\n",
    "        value_hidden_sizes = value_hidden_sizes or []\n",
    "        action_hidden_sizes = action_hidden_sizes or []\n",
    "\n",
    "        self.device = device\n",
    "        self.num_branches = num_branches\n",
    "        self.action_per_branch = action_per_branch\n",
    "        # common network\n",
    "        common_input_dim = int(np.prod(state_shape))\n",
    "        common_output_dim = 0\n",
    "        self.common = MLP(\n",
    "            common_input_dim,\n",
    "            common_output_dim,\n",
    "            common_hidden_sizes,\n",
    "            norm_layer,\n",
    "            norm_args,\n",
    "            activation,\n",
    "            act_args,\n",
    "            device,\n",
    "        )\n",
    "        # value network\n",
    "        value_input_dim = common_hidden_sizes[-1]\n",
    "        value_output_dim = 1\n",
    "        self.value = MLP(\n",
    "            value_input_dim,\n",
    "            value_output_dim,\n",
    "            value_hidden_sizes,\n",
    "            norm_layer,\n",
    "            norm_args,\n",
    "            activation,\n",
    "            act_args,\n",
    "            device,\n",
    "        )\n",
    "        # action branching network\n",
    "        action_input_dim = common_hidden_sizes[-1]\n",
    "        action_output_dim = action_per_branch\n",
    "        self.branches = nn.ModuleList(\n",
    "            [\n",
    "                MLP(\n",
    "                    action_input_dim,\n",
    "                    action_output_dim,\n",
    "                    action_hidden_sizes,\n",
    "                    norm_layer,\n",
    "                    norm_args,\n",
    "                    activation,\n",
    "                    act_args,\n",
    "                    device,\n",
    "                )\n",
    "                for _ in range(self.num_branches)\n",
    "            ],\n",
    "        )\n",
    "\n",
    "    def forward(\n",
    "        self,\n",
    "        obs: np.ndarray | torch.Tensor,\n",
    "        state: Any = None,\n",
    "        info: dict[str, Any] | None = None,\n",
    "    ) -> tuple[torch.Tensor, Any]:\n",
    "        \"\"\"Mapping: obs -> model -> logits.\"\"\"\n",
    "        common_out = self.common(obs)\n",
    "        value_out = self.value(common_out)\n",
    "        value_out = torch.unsqueeze(value_out, 1)\n",
    "        action_out = []\n",
    "        for b in self.branches:\n",
    "            action_out.append(b(common_out))\n",
    "        action_scores = torch.stack(action_out, 1)\n",
    "        action_scores = action_scores - torch.mean(action_scores, 2, keepdim=True)\n",
    "        logits = value_out + action_scores\n",
    "        return logits, state\n",
    "\n",
    "\n",
    "def get_dict_state_decorator(\n",
    "    state_shape: dict[str, int | Sequence[int]],\n",
    "    keys: Sequence[str],\n",
    ") -> tuple[Callable, int]:\n",
    "    \"\"\"A helper function to make Net or equivalent classes (e.g. Actor, Critic) applicable to dict state.\n",
    "\n",
    "    The first return item, ``decorator_fn``, will alter the implementation of forward\n",
    "    function of the given class by preprocessing the observation. The preprocessing is\n",
    "    basically flatten the observation and concatenate them based on the ``keys`` order.\n",
    "    The batch dimension is preserved if presented. The result observation shape will\n",
    "    be equal to ``new_state_shape``, the second return item.\n",
    "\n",
    "    :param state_shape: A dictionary indicating each state's shape\n",
    "    :param keys: A list of state's keys. The flatten observation will be according to\n",
    "        this list order.\n",
    "    :returns: a 2-items tuple ``decorator_fn`` and ``new_state_shape``\n",
    "    \"\"\"\n",
    "    original_shape = state_shape\n",
    "    flat_state_shapes = []\n",
    "    for k in keys:\n",
    "        flat_state_shapes.append(int(np.prod(state_shape[k])))\n",
    "    new_state_shape = sum(flat_state_shapes)\n",
    "\n",
    "    def preprocess_obs(obs: Batch | dict | torch.Tensor | np.ndarray) -> torch.Tensor:\n",
    "        if isinstance(obs, dict) or (isinstance(obs, Batch) and keys[0] in obs):\n",
    "            if original_shape[keys[0]] == obs[keys[0]].shape:\n",
    "                # No batch dim\n",
    "                new_obs = torch.Tensor([obs[k] for k in keys]).flatten()\n",
    "                # new_obs = torch.Tensor([obs[k] for k in keys]).reshape(1, -1)\n",
    "            else:\n",
    "                bsz = obs[keys[0]].shape[0]\n",
    "                new_obs = torch.cat([torch.Tensor(obs[k].reshape(bsz, -1)) for k in keys], dim=1)\n",
    "        else:\n",
    "            new_obs = torch.Tensor(obs)\n",
    "        return new_obs\n",
    "\n",
    "    @no_type_check\n",
    "    def decorator_fn(net_class):\n",
    "        class new_net_class(net_class):\n",
    "            def forward(self, obs: np.ndarray | torch.Tensor, *args, **kwargs) -> Any:\n",
    "                return super().forward(preprocess_obs(obs), *args, **kwargs)\n",
    "\n",
    "        return new_net_class\n",
    "\n",
    "    return decorator_fn, new_state_shape\n",
    "\n",
    "\n",
    "class BaseActor(nn.Module, ABC):\n",
    "    @abstractmethod\n",
    "    def get_preprocess_net(self) -> nn.Module:\n",
    "        pass\n",
    "\n",
    "    @abstractmethod\n",
    "    def get_output_dim(self) -> int:\n",
    "        pass\n",
    "\n",
    "    @abstractmethod\n",
    "    def forward(\n",
    "        self,\n",
    "        obs: np.ndarray | torch.Tensor,\n",
    "        state: Any = None,\n",
    "        info: dict[str, Any] | None = None,\n",
    "    ) -> tuple[Any, Any]:\n",
    "        # TODO: ALGO-REFACTORING. Marked to be addressed as part of Algorithm abstraction.\n",
    "        #  Return type needs to be more specific\n",
    "        pass\n",
    "\n",
    "\n",
    "def getattr_with_matching_alt_value(obj: Any, attr_name: str, alt_value: T | None) -> T:\n",
    "    \"\"\"Gets the given attribute from the given object or takes the alternative value if it is not present.\n",
    "    If both are present, they are required to match.\n",
    "\n",
    "    :param obj: the object from which to obtain the attribute value\n",
    "    :param attr_name: the attribute name\n",
    "    :param alt_value: the alternative value for the case where the attribute is not present, which cannot be None\n",
    "        if the attribute is not present\n",
    "    :return: the value\n",
    "    \"\"\"\n",
    "    v = getattr(obj, attr_name)\n",
    "    if v is not None:\n",
    "        if alt_value is not None and v != alt_value:\n",
    "            raise ValueError(\n",
    "                f\"Attribute '{attr_name}' of {obj} is defined ({v}) but does not match alt. value ({alt_value})\",\n",
    "            )\n",
    "        return v\n",
    "    else:\n",
    "        if alt_value is None:\n",
    "            raise ValueError(\n",
    "                f\"Attribute '{attr_name}' of {obj} is not defined and no fallback given\",\n",
    "            )\n",
    "        return alt_value\n",
    "\n",
    "\n",
    "def get_output_dim(module: nn.Module, alt_value: int | None) -> int:\n",
    "    \"\"\"Retrieves value the `output_dim` attribute of the given module or uses the given alternative value if the attribute is not present.\n",
    "    If both are present, they must match.\n",
    "\n",
    "    :param module: the module\n",
    "    :param alt_value: the alternative value\n",
    "    :return: the value\n",
    "    \"\"\"\n",
    "    return getattr_with_matching_alt_value(module, \"output_dim\", alt_value)\n"
   ]
  },
  {
   "cell_type": "code",
   "execution_count": null,
   "metadata": {},
   "outputs": [],
   "source": [
    "# pgpolicy.py\n",
    "import warnings\n",
    "from collections.abc import Callable\n",
    "from dataclasses import dataclass\n",
    "from typing import Any, Generic, Literal, TypeVar, cast\n",
    "\n",
    "import gymnasium as gym\n",
    "import numpy as np\n",
    "import torch\n",
    "\n",
    "from tianshou.data import (\n",
    "    Batch,\n",
    "    ReplayBuffer,\n",
    "    SequenceSummaryStats,\n",
    "    to_torch,\n",
    "    to_torch_as,\n",
    ")\n",
    "from tianshou.data.batch import BatchProtocol\n",
    "from tianshou.data.types import (\n",
    "    BatchWithReturnsProtocol,\n",
    "    DistBatchProtocol,\n",
    "    ObsBatchProtocol,\n",
    "    RolloutBatchProtocol,\n",
    ")\n",
    "from tianshou.policy import BasePolicy\n",
    "from tianshou.policy.base import TLearningRateScheduler, TrainingStats\n",
    "from tianshou.utils import RunningMeanStd\n",
    "from tianshou.utils.net.continuous import ActorProb\n",
    "from tianshou.utils.net.discrete import Actor\n",
    "\n",
    "# Dimension Naming Convention\n",
    "# B - Batch Size\n",
    "# A - Action\n",
    "# D - Dist input (usually 2, loc and scale)\n",
    "# H - Dimension of hidden, can be None\n",
    "\n",
    "TDistFnContinuous = Callable[\n",
    "    [tuple[torch.Tensor, torch.Tensor]],\n",
    "    torch.distributions.Distribution,\n",
    "]\n",
    "TDistFnDiscrete = Callable[[torch.Tensor], torch.distributions.Categorical]\n",
    "\n",
    "TDistFnDiscrOrCont = TDistFnContinuous | TDistFnDiscrete\n",
    "\n",
    "\n",
    "@dataclass(kw_only=True)\n",
    "class PGTrainingStats(TrainingStats):\n",
    "    loss: SequenceSummaryStats\n",
    "\n",
    "\n",
    "TPGTrainingStats = TypeVar(\"TPGTrainingStats\", bound=PGTrainingStats)\n",
    "\n",
    "\n",
    "class PGPolicy(BasePolicy[TPGTrainingStats], Generic[TPGTrainingStats]):\n",
    "    \"\"\"Implementation of REINFORCE algorithm.\n",
    "\n",
    "    :param actor: the actor network following the rules:\n",
    "        If `self.action_type == \"discrete\"`: (`s_B` ->`action_values_BA`).\n",
    "        If `self.action_type == \"continuous\"`: (`s_B` -> `dist_input_BD`).\n",
    "    :param optim: optimizer for actor network.\n",
    "    :param dist_fn: distribution class for computing the action.\n",
    "        Maps model_output -> distribution. Typically a Gaussian distribution\n",
    "        taking `model_output=mean,std` as input for continuous action spaces,\n",
    "        or a categorical distribution taking `model_output=logits`\n",
    "        for discrete action spaces. Note that as user, you are responsible\n",
    "        for ensuring that the distribution is compatible with the action space.\n",
    "    :param action_space: env's action space.\n",
    "    :param discount_factor: in [0, 1].\n",
    "    :param reward_normalization: if True, will normalize the *returns*\n",
    "        by subtracting the running mean and dividing by the running standard deviation.\n",
    "        Can be detrimental to performance! See TODO in process_fn.\n",
    "    :param deterministic_eval: if True, will use deterministic action (the dist's mode)\n",
    "        instead of stochastic one during evaluation. Does not affect training.\n",
    "    :param observation_space: Env's observation space.\n",
    "    :param action_scaling: if True, scale the action from [-1, 1] to the range\n",
    "        of action_space. Only used if the action_space is continuous.\n",
    "    :param action_bound_method: method to bound action to range [-1, 1].\n",
    "        Only used if the action_space is continuous.\n",
    "    :param lr_scheduler: if not None, will be called in `policy.update()`.\n",
    "\n",
    "    .. seealso::\n",
    "\n",
    "        Please refer to :class:`~tianshou.policy.BasePolicy` for more detailed explanation.\n",
    "    \"\"\"\n",
    "\n",
    "    def __init__(\n",
    "        self,\n",
    "        *,\n",
    "        actor: torch.nn.Module | ActorProb | Actor,\n",
    "        optim: torch.optim.Optimizer,\n",
    "        dist_fn: TDistFnDiscrOrCont,\n",
    "        action_space: gym.Space,\n",
    "        discount_factor: float = 0.99,\n",
    "        # TODO: rename to return_normalization?\n",
    "        reward_normalization: bool = False,\n",
    "        deterministic_eval: bool = False,\n",
    "        observation_space: gym.Space | None = None,\n",
    "        # TODO: why change the default from the base?\n",
    "        action_scaling: bool = True,\n",
    "        action_bound_method: Literal[\"clip\", \"tanh\"] | None = \"clip\",\n",
    "        lr_scheduler: TLearningRateScheduler | None = None,\n",
    "    ) -> None:\n",
    "        super().__init__(\n",
    "            action_space=action_space,\n",
    "            observation_space=observation_space,\n",
    "            action_scaling=action_scaling,\n",
    "            action_bound_method=action_bound_method,\n",
    "            lr_scheduler=lr_scheduler,\n",
    "        )\n",
    "        if action_scaling and not np.isclose(actor.max_action, 1.0):\n",
    "            warnings.warn(\n",
    "                \"action_scaling and action_bound_method are only intended\"\n",
    "                \"to deal with unbounded model action space, but find actor model\"\n",
    "                f\"bound action space with max_action={actor.max_action}.\"\n",
    "                \"Consider using unbounded=True option of the actor model,\"\n",
    "                \"or set action_scaling to False and action_bound_method to None.\",\n",
    "            )\n",
    "        self.actor = actor\n",
    "        self.optim = optim\n",
    "        self.dist_fn = dist_fn\n",
    "        assert 0.0 <= discount_factor <= 1.0, \"discount factor should be in [0, 1]\"\n",
    "        self.gamma = discount_factor\n",
    "        self.rew_norm = reward_normalization\n",
    "        self.ret_rms = RunningMeanStd()\n",
    "        self._eps = 1e-8\n",
    "        self.deterministic_eval = deterministic_eval\n",
    "\n",
    "    def process_fn(\n",
    "        self,\n",
    "        batch: RolloutBatchProtocol,\n",
    "        buffer: ReplayBuffer,\n",
    "        indices: np.ndarray,\n",
    "    ) -> BatchWithReturnsProtocol:\n",
    "        r\"\"\"Compute the discounted returns (Monte Carlo estimates) for each transition.\n",
    "\n",
    "        They are added to the batch under the field `returns`.\n",
    "        Note: this function will modify the input batch!\n",
    "\n",
    "        .. math::\n",
    "            G_t = \\sum_{i=t}^T \\gamma^{i-t}r_i\n",
    "\n",
    "        where :math:`T` is the terminal time step, :math:`\\gamma` is the\n",
    "        discount factor, :math:`\\gamma \\in [0, 1]`.\n",
    "\n",
    "        :param batch: a data batch which contains several episodes of data in\n",
    "            sequential order. Mind that the end of each finished episode of batch\n",
    "            should be marked by done flag, unfinished (or collecting) episodes will be\n",
    "            recognized by buffer.unfinished_index().\n",
    "        :param buffer: the corresponding replay buffer.\n",
    "        :param numpy.ndarray indices: tell batch's location in buffer, batch is equal\n",
    "            to buffer[indices].\n",
    "        \"\"\"\n",
    "        v_s_ = np.full(indices.shape, self.ret_rms.mean)\n",
    "        # gae_lambda = 1.0 means we use Monte Carlo estimate\n",
    "        unnormalized_returns, _ = self.compute_episodic_return(\n",
    "            batch,\n",
    "            buffer,\n",
    "            indices,\n",
    "            v_s_=v_s_,\n",
    "            gamma=self.gamma,\n",
    "            gae_lambda=1.0,\n",
    "        )\n",
    "        # TODO: overridden in A2C, where mean is not subtracted. Subtracting mean\n",
    "        #  can be very detrimental! It also has no theoretical grounding.\n",
    "        #  This should be addressed soon!\n",
    "        if self.rew_norm:\n",
    "            batch.returns = (unnormalized_returns - self.ret_rms.mean) / np.sqrt(\n",
    "                self.ret_rms.var + self._eps,\n",
    "            )\n",
    "            self.ret_rms.update(unnormalized_returns)\n",
    "        else:\n",
    "            batch.returns = unnormalized_returns\n",
    "        batch: BatchWithReturnsProtocol\n",
    "        return batch\n",
    "\n",
    "    def forward(\n",
    "        self,\n",
    "        batch: ObsBatchProtocol,\n",
    "        state: dict | BatchProtocol | np.ndarray | None = None,\n",
    "        **kwargs: Any,\n",
    "    ) -> DistBatchProtocol:\n",
    "        \"\"\"Compute action over the given batch data by applying the actor.\n",
    "\n",
    "        Will sample from the dist_fn, if appropriate.\n",
    "        Returns a new object representing the processed batch data\n",
    "        (contrary to other methods that modify the input batch inplace).\n",
    "\n",
    "        .. seealso::\n",
    "\n",
    "            Please refer to :meth:`~tianshou.policy.BasePolicy.forward` for\n",
    "            more detailed explanation.\n",
    "        \"\"\"\n",
    "        # TODO - ALGO: marked for algorithm refactoring\n",
    "        # print(type(batch))\n",
    "        # print('batch', batch)\n",
    "        # print('batch.obs.obs', batch.obs.obs)\n",
    "        # print('batch.obs.mask', batch.obs.mask)\n",
    "        obs = batch.obs\n",
    "        # TODO: this is convoluted! See also other places where this is done.\n",
    "        obs_next = obs.obs if hasattr(obs, \"obs\") else obs\n",
    "        # action_values_BA, hidden_BH = model(obs_next, state=state, info=batch.info)\n",
    "        action_dist_input_BD, hidden_BH = self.actor(obs_next, state=state, info=batch.info)\n",
    "        # in the case that self.action_type == \"discrete\", the dist should always be Categorical, and D=A\n",
    "        # therefore action_dist_input_BD is equivalent to logits_BA\n",
    "        # If discrete, dist_fn will typically map loc, scale to a distribution (usually a Gaussian)\n",
    "        # the action_dist_input_BD in that case is a tuple of loc_B, scale_B and needs to be unpacked\n",
    "\n",
    "        # print('action_dist_input_BD', action_dist_input_BD)\n",
    "        # print('to_torch_as(batch.obs.mask, logits)', to_torch_as(obs.mask, action_dist_input_BD))\n",
    "        if isinstance(action_dist_input_BD, tuple):\n",
    "\n",
    "            # this is for (mu, sigma) from Normal distribution\n",
    "            dist = self.dist_fn(*action_dist_input_BD)\n",
    "\n",
    "        else:  # categorical distribution\n",
    "        # mask: np.array with shape=(bsz, n_act), dtype=bool, True means available\n",
    "        # logits: torch.Tensor with shape=(bsz, n_act), dtype=torch.float, range=0~1\n",
    "            action_dist_input_BD = to_torch_as(batch.obs.mask, action_dist_input_BD)\n",
    "        dist = self.dist_fn(action_dist_input_BD)\n",
    "        if self.deterministic_eval and not self.training:\n",
    "            act_B = dist.mode\n",
    "        else:\n",
    "            act_B = dist.sample()\n",
    "        # act is of dimension BA in continuous case and of dimension B in discrete\n",
    "        result = Batch(logits=action_dist_input_BD, act=act_B, state=hidden_BH, dist=dist)\n",
    "        return cast(DistBatchProtocol, result)\n",
    "\n",
    "    # TODO: why does mypy complain?\n",
    "    def learn(  # type: ignore\n",
    "        self,\n",
    "        batch: BatchWithReturnsProtocol,\n",
    "        batch_size: int | None,\n",
    "        repeat: int,\n",
    "        *args: Any,\n",
    "        **kwargs: Any,\n",
    "    ) -> TPGTrainingStats:\n",
    "        losses = []\n",
    "        split_batch_size = batch_size or -1\n",
    "        for _ in range(repeat):\n",
    "            for minibatch in batch.split(split_batch_size, merge_last=True):\n",
    "                self.optim.zero_grad()\n",
    "                result = self(minibatch)\n",
    "                dist = result.dist\n",
    "                act = to_torch_as(minibatch.act, result.act)\n",
    "                ret = to_torch(minibatch.returns, torch.float, result.act.device)\n",
    "                log_prob = dist.log_prob(act).reshape(len(ret), -1).transpose(0, 1)\n",
    "                loss = -(log_prob * ret).mean()\n",
    "                loss.backward()\n",
    "                self.optim.step()\n",
    "                losses.append(loss.item())\n",
    "\n",
    "        loss_summary_stat = SequenceSummaryStats.from_sequence(losses)\n",
    "\n",
    "        return PGTrainingStats(loss=loss_summary_stat)  # type: ignore[return-value]"
   ]
  },
  {
   "cell_type": "markdown",
   "metadata": {
    "jp-MarkdownHeadingCollapsed": true
   },
   "source": [
    "### 🦆 Imports"
   ]
  },
  {
   "cell_type": "code",
   "execution_count": 49,
   "metadata": {},
   "outputs": [],
   "source": [
    "from typing import Optional, Tuple\n",
    "from tianshou.env.pettingzoo_env import PettingZooEnv\n",
    "import torch\n",
    "\n",
    "from tianshou.data import Collector, VectorReplayBuffer\n",
    "from tianshou.policy import BasePolicy, MultiAgentPolicyManager, RandomPolicy\n",
    "from tianshou.env import DummyVectorEnv\n",
    "from tianshou.policy import BasePolicy, PPOPolicy\n",
    "from tianshou.trainer import OnpolicyTrainer\n",
    "from tianshou.utils.net.common import ActorCritic, Net\n",
    "from tianshou.utils.net.discrete import Actor, Critic\n",
    "\n",
    "device = \"cuda\" if torch.cuda.is_available() else \"cpu\"\n",
    "NUM_ITERS = 400\n",
    "PLAYS = {\"bastaushy\": 0, \"qostaushy\": 0}"
   ]
  },
  {
   "cell_type": "markdown",
   "metadata": {
    "jp-MarkdownHeadingCollapsed": true
   },
   "source": [
    "### 🐥 Prepare functions"
   ]
  },
  {
   "cell_type": "code",
   "execution_count": 218,
   "metadata": {},
   "outputs": [],
   "source": [
    "def _get_agents_ppo(\n",
    "    agent_learn: Optional[BasePolicy] = None,\n",
    "    agent_opponent: Optional[BasePolicy] = None,\n",
    "    optim: Optional[torch.optim.Optimizer] = None,\n",
    ") -> Tuple[BasePolicy, torch.optim.Optimizer, list]:\n",
    "    env = _get_env()\n",
    "    observation_space = (\n",
    "        env.observation_space[\"observation\"]\n",
    "        if isinstance(env.observation_space, gymnasium.spaces.Dict)\n",
    "        else env.observation_space\n",
    "    )\n",
    "    assert env.observation_space[\"observation\"].shape is not None  # for mypy\n",
    "    assert isinstance(env.action_space, gymnasium.spaces.Discrete)\n",
    "    if agent_learn is None:\n",
    "        # model\n",
    "        net = Net(state_shape=observation_space.shape, hidden_sizes=[128, 256, 256, 128], device=device).to(device)\n",
    "        actor = Actor(preprocess_net=net, action_shape=env.action_space.shape, device=device).to(device)\n",
    "        critic = Critic(preprocess_net=net, device=device).to(device)\n",
    "        actor_critic = ActorCritic(actor=actor, critic=critic)\n",
    "\n",
    "        # optimizer of the actor and the critic\n",
    "        if optim is None:\n",
    "            optim = torch.optim.Adam(actor_critic.parameters(), lr=0.0003)\n",
    "        agent_learn: PPOPolicy = PPOPolicy(\n",
    "            actor=actor,\n",
    "            critic=critic,\n",
    "            optim=optim,\n",
    "            dist_fn=torch.distributions.Categorical,\n",
    "            action_space=env.action_space,\n",
    "            deterministic_eval=True,\n",
    "            action_scaling=False,\n",
    "        )\n",
    "\n",
    "    if agent_opponent is None:\n",
    "        agent_opponent = RandomPolicy(action_space=env.action_space)\n",
    "\n",
    "    agents = [agent_opponent, agent_learn]\n",
    "    #agents = [agent_learn, agent_opponent]\n",
    "    policy = MultiAgentPolicyManager(policies=agents, env=env)\n",
    "    return policy, optim, env.agents\n",
    "\n",
    "\n",
    "def _get_env(render_mode=None):\n",
    "    \"\"\"This function is needed to provide callables for DummyVectorEnv.\"\"\"\n",
    "    def env(render_mode=None):\n",
    "        \"\"\"\n",
    "        The env function often wraps the environment in wrappers by default.\n",
    "        You can find full documentation for these methods\n",
    "        elsewhere in the developer documentation.\n",
    "        \"\"\"\n",
    "        internal_render_mode = render_mode if render_mode != \"ansi\" else \"human\"\n",
    "        env = raw_env(render_mode=internal_render_mode)\n",
    "        # This wrapper is only for environments which print results to the terminal\n",
    "        if render_mode == \"ansi\":\n",
    "            env = wrappers.CaptureStdoutWrapper(env)\n",
    "        # this wrapper helps error handling for discrete action spaces\n",
    "        env = wrappers.AssertOutOfBoundsWrapper(env)\n",
    "        # Provides a wide vareity of helpful user errors\n",
    "        # Strongly recommended\n",
    "        env = wrappers.OrderEnforcingWrapper(env)\n",
    "        return env\n",
    "    return PettingZooEnv(env(render_mode=render_mode))"
   ]
  },
  {
   "cell_type": "markdown",
   "metadata": {},
   "source": [
    "### 🐸 Training code"
   ]
  },
  {
   "cell_type": "code",
   "execution_count": 68,
   "metadata": {},
   "outputs": [
    {
     "name": "stderr",
     "output_type": "stream",
     "text": [
      "Epoch #1: 50001it [00:21, 2352.92it/s, env_step=50000, gradient_step=200, len=192, n/ep=14, n/st=2000, rew=10251.79]                            \n"
     ]
    },
    {
     "name": "stdout",
     "output_type": "stream",
     "text": [
      "Epoch #1: test_reward: 5326.200000 ± 4119.836934, best_reward: 5572.000000 ± 3150.819322 in #0\n"
     ]
    },
    {
     "name": "stderr",
     "output_type": "stream",
     "text": [
      "Epoch #2: 50001it [00:23, 2165.75it/s, env_step=100000, gradient_step=400, len=163, n/ep=14, n/st=2000, rew=8485.25]                            \n"
     ]
    },
    {
     "name": "stdout",
     "output_type": "stream",
     "text": [
      "Epoch #2: test_reward: 4131.600000 ± 3282.587004, best_reward: 5572.000000 ± 3150.819322 in #0\n"
     ]
    },
    {
     "name": "stderr",
     "output_type": "stream",
     "text": [
      "Epoch #3: 50001it [00:22, 2220.85it/s, env_step=150000, gradient_step=600, len=144, n/ep=11, n/st=2000, rew=7083.59]                            \n"
     ]
    },
    {
     "name": "stdout",
     "output_type": "stream",
     "text": [
      "Epoch #3: test_reward: 5586.000000 ± 3230.172255, best_reward: 5586.000000 ± 3230.172255 in #3\n"
     ]
    },
    {
     "name": "stderr",
     "output_type": "stream",
     "text": [
      "Epoch #4: 50001it [00:20, 2468.04it/s, env_step=200000, gradient_step=800, len=141, n/ep=11, n/st=2000, rew=7083.77]                            \n"
     ]
    },
    {
     "name": "stdout",
     "output_type": "stream",
     "text": [
      "Epoch #4: test_reward: 4204.000000 ± 2408.019933, best_reward: 5586.000000 ± 3230.172255 in #3\n"
     ]
    },
    {
     "name": "stderr",
     "output_type": "stream",
     "text": [
      "Epoch #5: 50001it [00:19, 2551.85it/s, env_step=250000, gradient_step=1000, len=137, n/ep=14, n/st=2000, rew=6835.57]                           \n"
     ]
    },
    {
     "name": "stdout",
     "output_type": "stream",
     "text": [
      "Epoch #5: test_reward: 5098.800000 ± 4635.544171, best_reward: 5586.000000 ± 3230.172255 in #3\n"
     ]
    },
    {
     "name": "stderr",
     "output_type": "stream",
     "text": [
      "Epoch #6: 50001it [00:19, 2510.60it/s, env_step=300000, gradient_step=1200, len=183, n/ep=16, n/st=2000, rew=9730.31]                           \n"
     ]
    },
    {
     "name": "stdout",
     "output_type": "stream",
     "text": [
      "Epoch #6: test_reward: 4358.200000 ± 3324.836652, best_reward: 5586.000000 ± 3230.172255 in #3\n"
     ]
    },
    {
     "name": "stderr",
     "output_type": "stream",
     "text": [
      "Epoch #7: 50001it [00:20, 2469.95it/s, env_step=350000, gradient_step=1400, len=183, n/ep=10, n/st=2000, rew=9454.10]                           \n"
     ]
    },
    {
     "name": "stdout",
     "output_type": "stream",
     "text": [
      "Epoch #7: test_reward: 5757.000000 ± 3577.310750, best_reward: 5757.000000 ± 3577.310750 in #7\n"
     ]
    },
    {
     "name": "stderr",
     "output_type": "stream",
     "text": [
      "Epoch #8: 50001it [00:20, 2414.89it/s, env_step=400000, gradient_step=1600, len=176, n/ep=13, n/st=2000, rew=8995.08]                           \n"
     ]
    },
    {
     "name": "stdout",
     "output_type": "stream",
     "text": [
      "Epoch #8: test_reward: 6098.200000 ± 4260.609670, best_reward: 6098.200000 ± 4260.609670 in #8\n"
     ]
    },
    {
     "name": "stderr",
     "output_type": "stream",
     "text": [
      "Epoch #9: 50001it [00:17, 2862.55it/s, env_step=450000, gradient_step=1800, len=156, n/ep=14, n/st=2000, rew=7924.71]                           \n"
     ]
    },
    {
     "name": "stdout",
     "output_type": "stream",
     "text": [
      "Epoch #9: test_reward: 4496.200000 ± 3081.464386, best_reward: 6098.200000 ± 4260.609670 in #8\n"
     ]
    },
    {
     "name": "stderr",
     "output_type": "stream",
     "text": [
      "Epoch #10: 50001it [00:19, 2569.37it/s, env_step=500000, gradient_step=2000, len=149, n/ep=11, n/st=2000, rew=7709.68]                          \n"
     ]
    },
    {
     "name": "stdout",
     "output_type": "stream",
     "text": [
      "Epoch #10: test_reward: 6602.500000 ± 4518.199359, best_reward: 6602.500000 ± 4518.199359 in #10\n"
     ]
    },
    {
     "name": "stderr",
     "output_type": "stream",
     "text": [
      "Epoch #11: 50001it [00:17, 2783.69it/s, env_step=550000, gradient_step=2200, len=180, n/ep=12, n/st=2000, rew=9105.67]                          \n"
     ]
    },
    {
     "name": "stdout",
     "output_type": "stream",
     "text": [
      "Epoch #11: test_reward: 3592.400000 ± 2351.290675, best_reward: 6602.500000 ± 4518.199359 in #10\n"
     ]
    },
    {
     "name": "stderr",
     "output_type": "stream",
     "text": [
      "Epoch #12: 50001it [00:19, 2629.72it/s, env_step=600000, gradient_step=2400, len=186, n/ep=17, n/st=2000, rew=9543.65]                          \n"
     ]
    },
    {
     "name": "stdout",
     "output_type": "stream",
     "text": [
      "Epoch #12: test_reward: 4511.200000 ± 2234.224734, best_reward: 6602.500000 ± 4518.199359 in #10\n"
     ]
    },
    {
     "name": "stderr",
     "output_type": "stream",
     "text": [
      "Epoch #13: 50001it [00:18, 2659.34it/s, env_step=650000, gradient_step=2600, len=152, n/ep=10, n/st=2000, rew=7499.35]                          \n"
     ]
    },
    {
     "name": "stdout",
     "output_type": "stream",
     "text": [
      "Epoch #13: test_reward: 2609.200000 ± 887.379152, best_reward: 6602.500000 ± 4518.199359 in #10\n"
     ]
    },
    {
     "name": "stderr",
     "output_type": "stream",
     "text": [
      "Epoch #14: 50001it [00:20, 2443.70it/s, env_step=700000, gradient_step=2800, len=171, n/ep=16, n/st=2000, rew=9055.66]                          \n"
     ]
    },
    {
     "name": "stdout",
     "output_type": "stream",
     "text": [
      "Epoch #14: test_reward: 4877.800000 ± 3549.715420, best_reward: 6602.500000 ± 4518.199359 in #10\n"
     ]
    },
    {
     "name": "stderr",
     "output_type": "stream",
     "text": [
      "Epoch #15: 50001it [00:19, 2546.54it/s, env_step=750000, gradient_step=3000, len=154, n/ep=17, n/st=2000, rew=7804.38]                          \n"
     ]
    },
    {
     "name": "stdout",
     "output_type": "stream",
     "text": [
      "Epoch #15: test_reward: 3852.800000 ± 2870.296737, best_reward: 6602.500000 ± 4518.199359 in #10\n"
     ]
    },
    {
     "name": "stderr",
     "output_type": "stream",
     "text": [
      "Epoch #16: 50001it [00:19, 2629.95it/s, env_step=800000, gradient_step=3200, len=170, n/ep=15, n/st=2000, rew=8896.10]                          \n"
     ]
    },
    {
     "name": "stdout",
     "output_type": "stream",
     "text": [
      "Epoch #16: test_reward: 4611.800000 ± 2678.213352, best_reward: 6602.500000 ± 4518.199359 in #10\n"
     ]
    },
    {
     "name": "stderr",
     "output_type": "stream",
     "text": [
      "Epoch #17: 50001it [00:18, 2727.96it/s, env_step=850000, gradient_step=3400, len=139, n/ep=11, n/st=2000, rew=6684.50]                          \n"
     ]
    },
    {
     "name": "stdout",
     "output_type": "stream",
     "text": [
      "Epoch #17: test_reward: 3369.800000 ± 1696.818541, best_reward: 6602.500000 ± 4518.199359 in #10\n"
     ]
    },
    {
     "name": "stderr",
     "output_type": "stream",
     "text": [
      "Epoch #18: 50001it [00:19, 2628.89it/s, env_step=900000, gradient_step=3600, len=116, n/ep=6, n/st=2000, rew=5218.00]                           \n"
     ]
    },
    {
     "name": "stdout",
     "output_type": "stream",
     "text": [
      "Epoch #18: test_reward: 4780.800000 ± 2903.210113, best_reward: 6602.500000 ± 4518.199359 in #10\n"
     ]
    },
    {
     "name": "stderr",
     "output_type": "stream",
     "text": [
      "Epoch #19: 50001it [00:19, 2602.10it/s, env_step=950000, gradient_step=3800, len=158, n/ep=8, n/st=2000, rew=8117.75]                           \n"
     ]
    },
    {
     "name": "stdout",
     "output_type": "stream",
     "text": [
      "Epoch #19: test_reward: 4059.800000 ± 1350.193897, best_reward: 6602.500000 ± 4518.199359 in #10\n"
     ]
    },
    {
     "name": "stderr",
     "output_type": "stream",
     "text": [
      "Epoch #20: 50001it [00:18, 2659.47it/s, env_step=1000000, gradient_step=4000, len=177, n/ep=16, n/st=2000, rew=9345.25]                         \n"
     ]
    },
    {
     "name": "stdout",
     "output_type": "stream",
     "text": [
      "Epoch #20: test_reward: 2745.200000 ± 2169.040931, best_reward: 6602.500000 ± 4518.199359 in #10\n"
     ]
    },
    {
     "name": "stderr",
     "output_type": "stream",
     "text": [
      "Epoch #21: 50001it [00:19, 2613.66it/s, env_step=1050000, gradient_step=4200, len=196, n/ep=11, n/st=2000, rew=10159.68]                        \n"
     ]
    },
    {
     "name": "stdout",
     "output_type": "stream",
     "text": [
      "Epoch #21: test_reward: 3393.200000 ± 1798.118839, best_reward: 6602.500000 ± 4518.199359 in #10\n"
     ]
    },
    {
     "name": "stderr",
     "output_type": "stream",
     "text": [
      "Epoch #22: 50001it [00:18, 2774.77it/s, env_step=1100000, gradient_step=4400, len=177, n/ep=12, n/st=2000, rew=8973.88]                         \n"
     ]
    },
    {
     "name": "stdout",
     "output_type": "stream",
     "text": [
      "Epoch #22: test_reward: 3774.800000 ± 1912.079747, best_reward: 6602.500000 ± 4518.199359 in #10\n"
     ]
    },
    {
     "name": "stderr",
     "output_type": "stream",
     "text": [
      "Epoch #23: 50001it [00:19, 2590.21it/s, env_step=1150000, gradient_step=4600, len=142, n/ep=9, n/st=2000, rew=6789.22]                          \n"
     ]
    },
    {
     "name": "stdout",
     "output_type": "stream",
     "text": [
      "Epoch #23: test_reward: 5076.400000 ± 3637.774023, best_reward: 6602.500000 ± 4518.199359 in #10\n"
     ]
    },
    {
     "name": "stderr",
     "output_type": "stream",
     "text": [
      "Epoch #24: 50001it [00:19, 2593.75it/s, env_step=1200000, gradient_step=4800, len=150, n/ep=13, n/st=2000, rew=7813.50]                         \n"
     ]
    },
    {
     "name": "stdout",
     "output_type": "stream",
     "text": [
      "Epoch #24: test_reward: 3706.200000 ± 1130.051486, best_reward: 6602.500000 ± 4518.199359 in #10\n"
     ]
    },
    {
     "name": "stderr",
     "output_type": "stream",
     "text": [
      "Epoch #25: 50001it [00:18, 2770.69it/s, env_step=1250000, gradient_step=5000, len=169, n/ep=15, n/st=2000, rew=8860.13]                         \n"
     ]
    },
    {
     "name": "stdout",
     "output_type": "stream",
     "text": [
      "Epoch #25: test_reward: 3112.800000 ± 2793.697936, best_reward: 6602.500000 ± 4518.199359 in #10\n"
     ]
    },
    {
     "name": "stderr",
     "output_type": "stream",
     "text": [
      "Epoch #26: 50001it [00:19, 2585.72it/s, env_step=1300000, gradient_step=5200, len=159, n/ep=14, n/st=2000, rew=8011.89]                         \n"
     ]
    },
    {
     "name": "stdout",
     "output_type": "stream",
     "text": [
      "Epoch #26: test_reward: 3768.200000 ± 1888.206228, best_reward: 6602.500000 ± 4518.199359 in #10\n"
     ]
    },
    {
     "name": "stderr",
     "output_type": "stream",
     "text": [
      "Epoch #27: 50001it [00:19, 2592.54it/s, env_step=1350000, gradient_step=5400, len=193, n/ep=9, n/st=2000, rew=10182.78]                         \n"
     ]
    },
    {
     "name": "stdout",
     "output_type": "stream",
     "text": [
      "Epoch #27: test_reward: 3174.800000 ± 1242.355247, best_reward: 6602.500000 ± 4518.199359 in #10\n"
     ]
    },
    {
     "name": "stderr",
     "output_type": "stream",
     "text": [
      "Epoch #28: 50001it [00:18, 2699.85it/s, env_step=1400000, gradient_step=5600, len=201, n/ep=11, n/st=2000, rew=10718.73]                        \n"
     ]
    },
    {
     "name": "stdout",
     "output_type": "stream",
     "text": [
      "Epoch #28: test_reward: 4321.200000 ± 2832.275156, best_reward: 6602.500000 ± 4518.199359 in #10\n"
     ]
    },
    {
     "name": "stderr",
     "output_type": "stream",
     "text": [
      "Epoch #29: 50001it [00:18, 2701.37it/s, env_step=1450000, gradient_step=5800, len=130, n/ep=14, n/st=2000, rew=6549.61]                         \n"
     ]
    },
    {
     "name": "stdout",
     "output_type": "stream",
     "text": [
      "Epoch #29: test_reward: 4474.800000 ± 4186.136854, best_reward: 6602.500000 ± 4518.199359 in #10\n"
     ]
    },
    {
     "name": "stderr",
     "output_type": "stream",
     "text": [
      "Epoch #30: 50001it [00:19, 2584.78it/s, env_step=1500000, gradient_step=6000, len=189, n/ep=14, n/st=2000, rew=9697.04]                         \n"
     ]
    },
    {
     "name": "stdout",
     "output_type": "stream",
     "text": [
      "Epoch #30: test_reward: 6022.200000 ± 3815.354605, best_reward: 6602.500000 ± 4518.199359 in #10\n"
     ]
    },
    {
     "name": "stderr",
     "output_type": "stream",
     "text": [
      "Epoch #31: 50001it [00:19, 2501.03it/s, env_step=1550000, gradient_step=6200, len=164, n/ep=13, n/st=2000, rew=8628.27]                         \n"
     ]
    },
    {
     "name": "stdout",
     "output_type": "stream",
     "text": [
      "Epoch #31: test_reward: 4164.200000 ± 2425.888448, best_reward: 6602.500000 ± 4518.199359 in #10\n"
     ]
    },
    {
     "name": "stderr",
     "output_type": "stream",
     "text": [
      "Epoch #32: 50001it [00:19, 2525.01it/s, env_step=1600000, gradient_step=6400, len=148, n/ep=10, n/st=2000, rew=7309.15]                         \n"
     ]
    },
    {
     "name": "stdout",
     "output_type": "stream",
     "text": [
      "Epoch #32: test_reward: 4856.000000 ± 2788.553890, best_reward: 6602.500000 ± 4518.199359 in #10\n"
     ]
    },
    {
     "name": "stderr",
     "output_type": "stream",
     "text": [
      "Epoch #33: 50001it [00:20, 2477.69it/s, env_step=1650000, gradient_step=6600, len=143, n/ep=11, n/st=2000, rew=7114.50]                         \n"
     ]
    },
    {
     "name": "stdout",
     "output_type": "stream",
     "text": [
      "Epoch #33: test_reward: 5252.000000 ± 2685.595800, best_reward: 6602.500000 ± 4518.199359 in #10\n"
     ]
    },
    {
     "name": "stderr",
     "output_type": "stream",
     "text": [
      "Epoch #34: 50001it [00:19, 2591.54it/s, env_step=1700000, gradient_step=6800, len=166, n/ep=14, n/st=2000, rew=8756.82]                         \n"
     ]
    },
    {
     "name": "stdout",
     "output_type": "stream",
     "text": [
      "Epoch #34: test_reward: 6460.600000 ± 3876.872662, best_reward: 6602.500000 ± 4518.199359 in #10\n"
     ]
    },
    {
     "name": "stderr",
     "output_type": "stream",
     "text": [
      "Epoch #35: 50001it [00:20, 2395.63it/s, env_step=1750000, gradient_step=7000, len=169, n/ep=17, n/st=2000, rew=8533.94]                         \n"
     ]
    },
    {
     "name": "stdout",
     "output_type": "stream",
     "text": [
      "Epoch #35: test_reward: 3292.000000 ± 1212.639105, best_reward: 6602.500000 ± 4518.199359 in #10\n"
     ]
    },
    {
     "name": "stderr",
     "output_type": "stream",
     "text": [
      "Epoch #36: 50001it [00:20, 2469.25it/s, env_step=1800000, gradient_step=7200, len=128, n/ep=10, n/st=2000, rew=6587.90]                         \n"
     ]
    },
    {
     "name": "stdout",
     "output_type": "stream",
     "text": [
      "Epoch #36: test_reward: 4945.200000 ± 3049.082249, best_reward: 6602.500000 ± 4518.199359 in #10\n"
     ]
    },
    {
     "name": "stderr",
     "output_type": "stream",
     "text": [
      "Epoch #37: 50001it [00:19, 2629.92it/s, env_step=1850000, gradient_step=7400, len=189, n/ep=12, n/st=2000, rew=10433.12]                        \n"
     ]
    },
    {
     "name": "stdout",
     "output_type": "stream",
     "text": [
      "Epoch #37: test_reward: 4568.200000 ± 2871.068435, best_reward: 6602.500000 ± 4518.199359 in #10\n"
     ]
    },
    {
     "name": "stderr",
     "output_type": "stream",
     "text": [
      "Epoch #38: 50001it [00:18, 2670.91it/s, env_step=1900000, gradient_step=7600, len=148, n/ep=10, n/st=2000, rew=7115.85]                         \n"
     ]
    },
    {
     "name": "stdout",
     "output_type": "stream",
     "text": [
      "Epoch #38: test_reward: 5214.400000 ± 2458.259677, best_reward: 6602.500000 ± 4518.199359 in #10\n"
     ]
    },
    {
     "name": "stderr",
     "output_type": "stream",
     "text": [
      "Epoch #39: 50001it [00:19, 2576.33it/s, env_step=1950000, gradient_step=7800, len=133, n/ep=10, n/st=2000, rew=6608.25]                         \n"
     ]
    },
    {
     "name": "stdout",
     "output_type": "stream",
     "text": [
      "Epoch #39: test_reward: 5086.000000 ± 1937.245674, best_reward: 6602.500000 ± 4518.199359 in #10\n"
     ]
    },
    {
     "name": "stderr",
     "output_type": "stream",
     "text": [
      "Epoch #40: 50001it [00:20, 2429.73it/s, env_step=2000000, gradient_step=8000, len=167, n/ep=16, n/st=2000, rew=9151.50]                         \n"
     ]
    },
    {
     "name": "stdout",
     "output_type": "stream",
     "text": [
      "Epoch #40: test_reward: 3670.400000 ± 1516.454760, best_reward: 6602.500000 ± 4518.199359 in #10\n"
     ]
    },
    {
     "name": "stderr",
     "output_type": "stream",
     "text": [
      "Epoch #41: 50001it [00:20, 2445.77it/s, env_step=2050000, gradient_step=8200, len=147, n/ep=17, n/st=2000, rew=7385.62]                         \n"
     ]
    },
    {
     "name": "stdout",
     "output_type": "stream",
     "text": [
      "Epoch #41: test_reward: 3598.600000 ± 2151.073230, best_reward: 6602.500000 ± 4518.199359 in #10\n"
     ]
    },
    {
     "name": "stderr",
     "output_type": "stream",
     "text": [
      "Epoch #42: 50001it [00:19, 2514.32it/s, env_step=2100000, gradient_step=8400, len=149, n/ep=9, n/st=2000, rew=7409.83]                          \n"
     ]
    },
    {
     "name": "stdout",
     "output_type": "stream",
     "text": [
      "Epoch #42: test_reward: 5013.200000 ± 3670.029667, best_reward: 6602.500000 ± 4518.199359 in #10\n"
     ]
    },
    {
     "name": "stderr",
     "output_type": "stream",
     "text": [
      "Epoch #43: 50001it [00:19, 2523.44it/s, env_step=2150000, gradient_step=8600, len=170, n/ep=12, n/st=2000, rew=8701.25]                         \n"
     ]
    },
    {
     "name": "stdout",
     "output_type": "stream",
     "text": [
      "Epoch #43: test_reward: 6328.000000 ± 4468.991743, best_reward: 6602.500000 ± 4518.199359 in #10\n"
     ]
    },
    {
     "name": "stderr",
     "output_type": "stream",
     "text": [
      "Epoch #44: 50001it [00:20, 2445.61it/s, env_step=2200000, gradient_step=8800, len=168, n/ep=12, n/st=2000, rew=8545.83]                         \n"
     ]
    },
    {
     "name": "stdout",
     "output_type": "stream",
     "text": [
      "Epoch #44: test_reward: 2319.000000 ± 2618.034263, best_reward: 6602.500000 ± 4518.199359 in #10\n"
     ]
    },
    {
     "name": "stderr",
     "output_type": "stream",
     "text": [
      "Epoch #45: 50001it [00:19, 2536.27it/s, env_step=2250000, gradient_step=9000, len=152, n/ep=16, n/st=2000, rew=7485.56]                         \n"
     ]
    },
    {
     "name": "stdout",
     "output_type": "stream",
     "text": [
      "Epoch #45: test_reward: 3732.400000 ± 2543.545211, best_reward: 6602.500000 ± 4518.199359 in #10\n"
     ]
    },
    {
     "name": "stderr",
     "output_type": "stream",
     "text": [
      "Epoch #46: 50001it [00:19, 2529.46it/s, env_step=2300000, gradient_step=9200, len=165, n/ep=12, n/st=2000, rew=8536.42]                         \n"
     ]
    },
    {
     "name": "stdout",
     "output_type": "stream",
     "text": [
      "Epoch #46: test_reward: 4376.400000 ± 2614.282586, best_reward: 6602.500000 ± 4518.199359 in #10\n"
     ]
    },
    {
     "name": "stderr",
     "output_type": "stream",
     "text": [
      "Epoch #47: 50001it [00:20, 2487.14it/s, env_step=2350000, gradient_step=9400, len=136, n/ep=14, n/st=2000, rew=6549.39]                         \n"
     ]
    },
    {
     "name": "stdout",
     "output_type": "stream",
     "text": [
      "Epoch #47: test_reward: 4850.800000 ± 2671.903322, best_reward: 6602.500000 ± 4518.199359 in #10\n"
     ]
    },
    {
     "name": "stderr",
     "output_type": "stream",
     "text": [
      "Epoch #48: 50001it [00:19, 2575.07it/s, env_step=2400000, gradient_step=9600, len=164, n/ep=17, n/st=2000, rew=7907.59]                         \n"
     ]
    },
    {
     "name": "stdout",
     "output_type": "stream",
     "text": [
      "Epoch #48: test_reward: 4584.800000 ± 3036.019657, best_reward: 6602.500000 ± 4518.199359 in #10\n"
     ]
    },
    {
     "name": "stderr",
     "output_type": "stream",
     "text": [
      "Epoch #49: 50001it [00:20, 2498.61it/s, env_step=2450000, gradient_step=9800, len=181, n/ep=14, n/st=2000, rew=9660.61]                         \n"
     ]
    },
    {
     "name": "stdout",
     "output_type": "stream",
     "text": [
      "Epoch #49: test_reward: 3338.400000 ± 1821.017035, best_reward: 6602.500000 ± 4518.199359 in #10\n"
     ]
    },
    {
     "name": "stderr",
     "output_type": "stream",
     "text": [
      "Epoch #50: 50001it [00:19, 2605.42it/s, env_step=2500000, gradient_step=10000, len=176, n/ep=11, n/st=2000, rew=9237.73]                        \n"
     ]
    },
    {
     "name": "stdout",
     "output_type": "stream",
     "text": [
      "Epoch #50: test_reward: 4193.800000 ± 2672.109347, best_reward: 6602.500000 ± 4518.199359 in #10\n"
     ]
    },
    {
     "name": "stderr",
     "output_type": "stream",
     "text": [
      "Epoch #51: 50001it [00:19, 2623.53it/s, env_step=2550000, gradient_step=10200, len=172, n/ep=14, n/st=2000, rew=8769.71]                        \n"
     ]
    },
    {
     "name": "stdout",
     "output_type": "stream",
     "text": [
      "Epoch #51: test_reward: 3710.400000 ± 2025.099859, best_reward: 6602.500000 ± 4518.199359 in #10\n"
     ]
    },
    {
     "name": "stderr",
     "output_type": "stream",
     "text": [
      "Epoch #52: 50001it [00:19, 2577.53it/s, env_step=2600000, gradient_step=10400, len=113, n/ep=12, n/st=2000, rew=5238.88]                        \n"
     ]
    },
    {
     "name": "stdout",
     "output_type": "stream",
     "text": [
      "Epoch #52: test_reward: 4558.000000 ± 2206.235527, best_reward: 6602.500000 ± 4518.199359 in #10\n"
     ]
    },
    {
     "name": "stderr",
     "output_type": "stream",
     "text": [
      "Epoch #53: 50001it [00:18, 2640.78it/s, env_step=2650000, gradient_step=10600, len=164, n/ep=14, n/st=2000, rew=8170.54]                        \n"
     ]
    },
    {
     "name": "stdout",
     "output_type": "stream",
     "text": [
      "Epoch #53: test_reward: 5211.200000 ± 1880.252792, best_reward: 6602.500000 ± 4518.199359 in #10\n"
     ]
    },
    {
     "name": "stderr",
     "output_type": "stream",
     "text": [
      "Epoch #54: 50001it [00:19, 2606.99it/s, env_step=2700000, gradient_step=10800, len=145, n/ep=8, n/st=2000, rew=6741.12]                         \n"
     ]
    },
    {
     "name": "stdout",
     "output_type": "stream",
     "text": [
      "Epoch #54: test_reward: 6237.200000 ± 4673.507479, best_reward: 6602.500000 ± 4518.199359 in #10\n"
     ]
    },
    {
     "name": "stderr",
     "output_type": "stream",
     "text": [
      "Epoch #55: 50001it [00:19, 2607.36it/s, env_step=2750000, gradient_step=11000, len=119, n/ep=5, n/st=2000, rew=5784.90]                         \n"
     ]
    },
    {
     "name": "stdout",
     "output_type": "stream",
     "text": [
      "Epoch #55: test_reward: 4586.200000 ± 2905.288757, best_reward: 6602.500000 ± 4518.199359 in #10\n"
     ]
    },
    {
     "name": "stderr",
     "output_type": "stream",
     "text": [
      "Epoch #56: 50001it [00:19, 2606.41it/s, env_step=2800000, gradient_step=11200, len=119, n/ep=10, n/st=2000, rew=5592.60]                        \n"
     ]
    },
    {
     "name": "stdout",
     "output_type": "stream",
     "text": [
      "Epoch #56: test_reward: 4481.400000 ± 1730.077004, best_reward: 6602.500000 ± 4518.199359 in #10\n"
     ]
    },
    {
     "name": "stderr",
     "output_type": "stream",
     "text": [
      "Epoch #57: 50001it [00:19, 2573.82it/s, env_step=2850000, gradient_step=11400, len=136, n/ep=13, n/st=2000, rew=6498.54]                        \n"
     ]
    },
    {
     "name": "stdout",
     "output_type": "stream",
     "text": [
      "Epoch #57: test_reward: 4687.400000 ± 2457.547729, best_reward: 6602.500000 ± 4518.199359 in #10\n"
     ]
    },
    {
     "name": "stderr",
     "output_type": "stream",
     "text": [
      "Epoch #58: 50001it [00:19, 2624.29it/s, env_step=2900000, gradient_step=11600, len=156, n/ep=9, n/st=2000, rew=7989.39]                         \n"
     ]
    },
    {
     "name": "stdout",
     "output_type": "stream",
     "text": [
      "Epoch #58: test_reward: 5284.000000 ± 2993.724904, best_reward: 6602.500000 ± 4518.199359 in #10\n"
     ]
    },
    {
     "name": "stderr",
     "output_type": "stream",
     "text": [
      "Epoch #59: 50001it [00:19, 2600.51it/s, env_step=2950000, gradient_step=11800, len=173, n/ep=12, n/st=2000, rew=8961.29]                        \n"
     ]
    },
    {
     "name": "stdout",
     "output_type": "stream",
     "text": [
      "Epoch #59: test_reward: 3549.400000 ± 1934.511422, best_reward: 6602.500000 ± 4518.199359 in #10\n"
     ]
    },
    {
     "name": "stderr",
     "output_type": "stream",
     "text": [
      "Epoch #60: 50001it [00:20, 2490.63it/s, env_step=3000000, gradient_step=12000, len=197, n/ep=15, n/st=2000, rew=10256.67]                       \n"
     ]
    },
    {
     "name": "stdout",
     "output_type": "stream",
     "text": [
      "Epoch #60: test_reward: 4800.800000 ± 3278.418546, best_reward: 6602.500000 ± 4518.199359 in #10\n"
     ]
    },
    {
     "name": "stderr",
     "output_type": "stream",
     "text": [
      "Epoch #61: 50001it [00:20, 2499.43it/s, env_step=3050000, gradient_step=12200, len=149, n/ep=10, n/st=2000, rew=7564.95]                        \n"
     ]
    },
    {
     "name": "stdout",
     "output_type": "stream",
     "text": [
      "Epoch #61: test_reward: 2620.000000 ± 1782.639167, best_reward: 6602.500000 ± 4518.199359 in #10\n"
     ]
    },
    {
     "name": "stderr",
     "output_type": "stream",
     "text": [
      "Epoch #62: 50001it [00:18, 2647.89it/s, env_step=3100000, gradient_step=12400, len=149, n/ep=15, n/st=2000, rew=7022.90]                        \n"
     ]
    },
    {
     "name": "stdout",
     "output_type": "stream",
     "text": [
      "Epoch #62: test_reward: 3423.600000 ± 2365.344592, best_reward: 6602.500000 ± 4518.199359 in #10\n"
     ]
    },
    {
     "name": "stderr",
     "output_type": "stream",
     "text": [
      "Epoch #63: 50001it [00:20, 2432.47it/s, env_step=3150000, gradient_step=12600, len=134, n/ep=13, n/st=2000, rew=6096.19]                        \n"
     ]
    },
    {
     "name": "stdout",
     "output_type": "stream",
     "text": [
      "Epoch #63: test_reward: 3952.000000 ± 1916.713646, best_reward: 6602.500000 ± 4518.199359 in #10\n"
     ]
    },
    {
     "name": "stderr",
     "output_type": "stream",
     "text": [
      "Epoch #64: 50001it [00:21, 2369.95it/s, env_step=3200000, gradient_step=12800, len=180, n/ep=11, n/st=2000, rew=9633.68]                        \n"
     ]
    },
    {
     "name": "stdout",
     "output_type": "stream",
     "text": [
      "Epoch #64: test_reward: 4388.600000 ± 2970.434318, best_reward: 6602.500000 ± 4518.199359 in #10\n"
     ]
    },
    {
     "name": "stderr",
     "output_type": "stream",
     "text": [
      "Epoch #65: 50001it [00:19, 2622.78it/s, env_step=3250000, gradient_step=13000, len=168, n/ep=15, n/st=2000, rew=8386.67]                        \n"
     ]
    },
    {
     "name": "stdout",
     "output_type": "stream",
     "text": [
      "Epoch #65: test_reward: 3751.000000 ± 3131.544316, best_reward: 6602.500000 ± 4518.199359 in #10\n"
     ]
    },
    {
     "name": "stderr",
     "output_type": "stream",
     "text": [
      "Epoch #66: 50001it [00:18, 2637.05it/s, env_step=3300000, gradient_step=13200, len=205, n/ep=14, n/st=2000, rew=10296.86]                       \n"
     ]
    },
    {
     "name": "stdout",
     "output_type": "stream",
     "text": [
      "Epoch #66: test_reward: 4132.200000 ± 3106.201726, best_reward: 6602.500000 ± 4518.199359 in #10\n"
     ]
    },
    {
     "name": "stderr",
     "output_type": "stream",
     "text": [
      "Epoch #67: 50001it [00:18, 2752.90it/s, env_step=3350000, gradient_step=13400, len=152, n/ep=9, n/st=2000, rew=6819.50]                         \n"
     ]
    },
    {
     "name": "stdout",
     "output_type": "stream",
     "text": [
      "Epoch #67: test_reward: 2992.200000 ± 2025.003002, best_reward: 6602.500000 ± 4518.199359 in #10\n"
     ]
    },
    {
     "name": "stderr",
     "output_type": "stream",
     "text": [
      "Epoch #68: 50001it [00:18, 2682.17it/s, env_step=3400000, gradient_step=13600, len=194, n/ep=9, n/st=2000, rew=10431.94]                        \n"
     ]
    },
    {
     "name": "stdout",
     "output_type": "stream",
     "text": [
      "Epoch #68: test_reward: 3881.600000 ± 1640.350889, best_reward: 6602.500000 ± 4518.199359 in #10\n"
     ]
    },
    {
     "name": "stderr",
     "output_type": "stream",
     "text": [
      "Epoch #69: 50001it [00:21, 2294.73it/s, env_step=3450000, gradient_step=13800, len=140, n/ep=11, n/st=2000, rew=6674.09]                        \n"
     ]
    },
    {
     "name": "stdout",
     "output_type": "stream",
     "text": [
      "Epoch #69: test_reward: 4849.200000 ± 2715.142457, best_reward: 6602.500000 ± 4518.199359 in #10\n"
     ]
    },
    {
     "name": "stderr",
     "output_type": "stream",
     "text": [
      "Epoch #70: 50001it [00:19, 2618.13it/s, env_step=3500000, gradient_step=14000, len=147, n/ep=9, n/st=2000, rew=6839.06]                         \n"
     ]
    },
    {
     "name": "stdout",
     "output_type": "stream",
     "text": [
      "Epoch #70: test_reward: 4185.800000 ± 2298.116176, best_reward: 6602.500000 ± 4518.199359 in #10\n"
     ]
    },
    {
     "name": "stderr",
     "output_type": "stream",
     "text": [
      "Epoch #71: 50001it [00:19, 2547.97it/s, env_step=3550000, gradient_step=14200, len=181, n/ep=15, n/st=2000, rew=9245.47]                        \n"
     ]
    },
    {
     "name": "stdout",
     "output_type": "stream",
     "text": [
      "Epoch #71: test_reward: 6512.000000 ± 2964.698703, best_reward: 6602.500000 ± 4518.199359 in #10\n"
     ]
    },
    {
     "name": "stderr",
     "output_type": "stream",
     "text": [
      "Epoch #72: 50001it [00:20, 2481.44it/s, env_step=3600000, gradient_step=14400, len=165, n/ep=16, n/st=2000, rew=8092.28]                        \n"
     ]
    },
    {
     "name": "stdout",
     "output_type": "stream",
     "text": [
      "Epoch #72: test_reward: 6213.700000 ± 4076.827395, best_reward: 6602.500000 ± 4518.199359 in #10\n"
     ]
    },
    {
     "name": "stderr",
     "output_type": "stream",
     "text": [
      "Epoch #73: 50001it [00:20, 2453.66it/s, env_step=3650000, gradient_step=14600, len=197, n/ep=8, n/st=2000, rew=10967.88]                        \n"
     ]
    },
    {
     "name": "stdout",
     "output_type": "stream",
     "text": [
      "Epoch #73: test_reward: 2853.400000 ± 1787.691931, best_reward: 6602.500000 ± 4518.199359 in #10\n"
     ]
    },
    {
     "name": "stderr",
     "output_type": "stream",
     "text": [
      "Epoch #74: 50001it [00:20, 2497.21it/s, env_step=3700000, gradient_step=14800, len=209, n/ep=9, n/st=2000, rew=11509.50]                        \n"
     ]
    },
    {
     "name": "stdout",
     "output_type": "stream",
     "text": [
      "Epoch #74: test_reward: 3363.600000 ± 2897.608780, best_reward: 6602.500000 ± 4518.199359 in #10\n"
     ]
    },
    {
     "name": "stderr",
     "output_type": "stream",
     "text": [
      "Epoch #75: 50001it [00:19, 2610.36it/s, env_step=3750000, gradient_step=15000, len=184, n/ep=12, n/st=2000, rew=9276.42]                        \n"
     ]
    },
    {
     "name": "stdout",
     "output_type": "stream",
     "text": [
      "Epoch #75: test_reward: 5571.600000 ± 3707.875597, best_reward: 6602.500000 ± 4518.199359 in #10\n"
     ]
    },
    {
     "name": "stderr",
     "output_type": "stream",
     "text": [
      "Epoch #76: 50001it [00:18, 2723.19it/s, env_step=3800000, gradient_step=15200, len=203, n/ep=5, n/st=2000, rew=10413.40]                        \n"
     ]
    },
    {
     "name": "stdout",
     "output_type": "stream",
     "text": [
      "Epoch #76: test_reward: 6105.000000 ± 3292.483834, best_reward: 6602.500000 ± 4518.199359 in #10\n"
     ]
    },
    {
     "name": "stderr",
     "output_type": "stream",
     "text": [
      "Epoch #77: 50001it [00:18, 2727.72it/s, env_step=3850000, gradient_step=15400, len=256, n/ep=7, n/st=2000, rew=13936.14]                        \n"
     ]
    },
    {
     "name": "stdout",
     "output_type": "stream",
     "text": [
      "Epoch #77: test_reward: 2995.000000 ± 2505.556745, best_reward: 6602.500000 ± 4518.199359 in #10\n"
     ]
    },
    {
     "name": "stderr",
     "output_type": "stream",
     "text": [
      "Epoch #78: 50001it [00:20, 2488.74it/s, env_step=3900000, gradient_step=15600, len=146, n/ep=6, n/st=2000, rew=6939.50]                         \n"
     ]
    },
    {
     "name": "stdout",
     "output_type": "stream",
     "text": [
      "Epoch #78: test_reward: 4142.400000 ± 2155.003814, best_reward: 6602.500000 ± 4518.199359 in #10\n"
     ]
    },
    {
     "name": "stderr",
     "output_type": "stream",
     "text": [
      "Epoch #79: 50001it [00:18, 2685.88it/s, env_step=3950000, gradient_step=15800, len=185, n/ep=14, n/st=2000, rew=9614.79]                        \n"
     ]
    },
    {
     "name": "stdout",
     "output_type": "stream",
     "text": [
      "Epoch #79: test_reward: 4051.800000 ± 2459.068189, best_reward: 6602.500000 ± 4518.199359 in #10\n"
     ]
    },
    {
     "name": "stderr",
     "output_type": "stream",
     "text": [
      "Epoch #80: 50001it [00:19, 2570.16it/s, env_step=4000000, gradient_step=16000, len=167, n/ep=11, n/st=2000, rew=8395.23]                        \n"
     ]
    },
    {
     "name": "stdout",
     "output_type": "stream",
     "text": [
      "Epoch #80: test_reward: 4231.600000 ± 2481.118425, best_reward: 6602.500000 ± 4518.199359 in #10\n"
     ]
    },
    {
     "name": "stderr",
     "output_type": "stream",
     "text": [
      "Epoch #81: 50001it [00:18, 2693.57it/s, env_step=4050000, gradient_step=16200, len=166, n/ep=7, n/st=2000, rew=7624.50]                         \n"
     ]
    },
    {
     "name": "stdout",
     "output_type": "stream",
     "text": [
      "Epoch #81: test_reward: 4549.000000 ± 3190.031881, best_reward: 6602.500000 ± 4518.199359 in #10\n"
     ]
    },
    {
     "name": "stderr",
     "output_type": "stream",
     "text": [
      "Epoch #82: 50001it [00:18, 2644.80it/s, env_step=4100000, gradient_step=16400, len=143, n/ep=14, n/st=2000, rew=7207.57]                        \n"
     ]
    },
    {
     "name": "stdout",
     "output_type": "stream",
     "text": [
      "Epoch #82: test_reward: 4128.800000 ± 1927.700848, best_reward: 6602.500000 ± 4518.199359 in #10\n"
     ]
    },
    {
     "name": "stderr",
     "output_type": "stream",
     "text": [
      "Epoch #83: 50001it [00:19, 2553.02it/s, env_step=4150000, gradient_step=16600, len=160, n/ep=13, n/st=2000, rew=8088.15]                        \n"
     ]
    },
    {
     "name": "stdout",
     "output_type": "stream",
     "text": [
      "Epoch #83: test_reward: 3168.400000 ± 2436.067454, best_reward: 6602.500000 ± 4518.199359 in #10\n"
     ]
    },
    {
     "name": "stderr",
     "output_type": "stream",
     "text": [
      "Epoch #84: 50001it [00:19, 2502.39it/s, env_step=4200000, gradient_step=16800, len=159, n/ep=17, n/st=2000, rew=7796.56]                        \n"
     ]
    },
    {
     "name": "stdout",
     "output_type": "stream",
     "text": [
      "Epoch #84: test_reward: 3946.400000 ± 2144.008358, best_reward: 6602.500000 ± 4518.199359 in #10\n"
     ]
    },
    {
     "name": "stderr",
     "output_type": "stream",
     "text": [
      "Epoch #85: 50001it [00:18, 2727.02it/s, env_step=4250000, gradient_step=17000, len=158, n/ep=14, n/st=2000, rew=7641.96]                        \n"
     ]
    },
    {
     "name": "stdout",
     "output_type": "stream",
     "text": [
      "Epoch #85: test_reward: 5063.400000 ± 3161.745474, best_reward: 6602.500000 ± 4518.199359 in #10\n"
     ]
    },
    {
     "name": "stderr",
     "output_type": "stream",
     "text": [
      "Epoch #86: 50001it [00:20, 2438.89it/s, env_step=4300000, gradient_step=17200, len=149, n/ep=11, n/st=2000, rew=7373.18]                        \n"
     ]
    },
    {
     "name": "stdout",
     "output_type": "stream",
     "text": [
      "Epoch #86: test_reward: 3849.000000 ± 1854.193140, best_reward: 6602.500000 ± 4518.199359 in #10\n"
     ]
    },
    {
     "name": "stderr",
     "output_type": "stream",
     "text": [
      "Epoch #87: 50001it [00:20, 2472.80it/s, env_step=4350000, gradient_step=17400, len=180, n/ep=13, n/st=2000, rew=8866.00]                        \n"
     ]
    },
    {
     "name": "stdout",
     "output_type": "stream",
     "text": [
      "Epoch #87: test_reward: 3398.000000 ± 2384.036409, best_reward: 6602.500000 ± 4518.199359 in #10\n"
     ]
    },
    {
     "name": "stderr",
     "output_type": "stream",
     "text": [
      "Epoch #88: 50001it [00:18, 2767.21it/s, env_step=4400000, gradient_step=17600, len=194, n/ep=18, n/st=2000, rew=10353.17]                       \n"
     ]
    },
    {
     "name": "stdout",
     "output_type": "stream",
     "text": [
      "Epoch #88: test_reward: 5092.400000 ± 4270.532782, best_reward: 6602.500000 ± 4518.199359 in #10\n"
     ]
    },
    {
     "name": "stderr",
     "output_type": "stream",
     "text": [
      "Epoch #89: 50001it [00:20, 2469.27it/s, env_step=4450000, gradient_step=17800, len=153, n/ep=10, n/st=2000, rew=7301.65]                        \n"
     ]
    },
    {
     "name": "stdout",
     "output_type": "stream",
     "text": [
      "Epoch #89: test_reward: 3865.200000 ± 2250.190783, best_reward: 6602.500000 ± 4518.199359 in #10\n"
     ]
    },
    {
     "name": "stderr",
     "output_type": "stream",
     "text": [
      "Epoch #90: 50001it [00:20, 2494.99it/s, env_step=4500000, gradient_step=18000, len=187, n/ep=10, n/st=2000, rew=10085.75]                       \n"
     ]
    },
    {
     "name": "stdout",
     "output_type": "stream",
     "text": [
      "Epoch #90: test_reward: 3568.000000 ± 2623.652873, best_reward: 6602.500000 ± 4518.199359 in #10\n"
     ]
    },
    {
     "name": "stderr",
     "output_type": "stream",
     "text": [
      "Epoch #91: 50001it [00:20, 2384.18it/s, env_step=4550000, gradient_step=18200, len=178, n/ep=14, n/st=2000, rew=9025.86]                        \n"
     ]
    },
    {
     "name": "stdout",
     "output_type": "stream",
     "text": [
      "Epoch #91: test_reward: 3832.400000 ± 1409.067436, best_reward: 6602.500000 ± 4518.199359 in #10\n"
     ]
    },
    {
     "name": "stderr",
     "output_type": "stream",
     "text": [
      "Epoch #92: 50001it [00:19, 2596.77it/s, env_step=4600000, gradient_step=18400, len=146, n/ep=16, n/st=2000, rew=6939.19]                        \n"
     ]
    },
    {
     "name": "stdout",
     "output_type": "stream",
     "text": [
      "Epoch #92: test_reward: 4641.000000 ± 2008.585821, best_reward: 6602.500000 ± 4518.199359 in #10\n"
     ]
    },
    {
     "name": "stderr",
     "output_type": "stream",
     "text": [
      "Epoch #93: 50001it [00:20, 2415.39it/s, env_step=4650000, gradient_step=18600, len=131, n/ep=10, n/st=2000, rew=6322.25]                        \n"
     ]
    },
    {
     "name": "stdout",
     "output_type": "stream",
     "text": [
      "Epoch #93: test_reward: 4366.200000 ± 3091.402588, best_reward: 6602.500000 ± 4518.199359 in #10\n"
     ]
    },
    {
     "name": "stderr",
     "output_type": "stream",
     "text": [
      "Epoch #94:  20%|#4     | 10000/50000 [00:04<00:19, 2047.28it/s, env_step=4660000, gradient_step=18640, len=147, n/ep=13, n/st=2000, rew=7074.42]\n"
     ]
    },
    {
     "ename": "KeyboardInterrupt",
     "evalue": "",
     "output_type": "error",
     "traceback": [
      "\u001b[0;31m---------------------------------------------------------------------------\u001b[0m",
      "\u001b[0;31mKeyboardInterrupt\u001b[0m                         Traceback (most recent call last)",
      "Cell \u001b[0;32mIn[68], line 52\u001b[0m\n\u001b[1;32m     36\u001b[0m     \u001b[38;5;28;01mreturn\u001b[39;00m rews[:, \u001b[38;5;241m1\u001b[39m]\n\u001b[1;32m     38\u001b[0m \u001b[38;5;66;03m#======== Step 5: Run the trainer =========\u001b[39;00m\n\u001b[1;32m     39\u001b[0m result \u001b[38;5;241m=\u001b[39m \u001b[43mOnpolicyTrainer\u001b[49m\u001b[43m(\u001b[49m\n\u001b[1;32m     40\u001b[0m \u001b[43m    \u001b[49m\u001b[43mpolicy\u001b[49m\u001b[38;5;241;43m=\u001b[39;49m\u001b[43mpolicy\u001b[49m\u001b[43m,\u001b[49m\n\u001b[1;32m     41\u001b[0m \u001b[43m    \u001b[49m\u001b[43mtrain_collector\u001b[49m\u001b[38;5;241;43m=\u001b[39;49m\u001b[43mtrain_collector\u001b[49m\u001b[43m,\u001b[49m\n\u001b[1;32m     42\u001b[0m \u001b[43m    \u001b[49m\u001b[43mtest_collector\u001b[49m\u001b[38;5;241;43m=\u001b[39;49m\u001b[43mtest_collector\u001b[49m\u001b[43m,\u001b[49m\n\u001b[1;32m     43\u001b[0m \u001b[43m    \u001b[49m\u001b[43mmax_epoch\u001b[49m\u001b[38;5;241;43m=\u001b[39;49m\u001b[38;5;241;43m100\u001b[39;49m\u001b[43m,\u001b[49m\n\u001b[1;32m     44\u001b[0m \u001b[43m    \u001b[49m\u001b[43mstep_per_epoch\u001b[49m\u001b[38;5;241;43m=\u001b[39;49m\u001b[38;5;241;43m50000\u001b[39;49m\u001b[43m,\u001b[49m\n\u001b[1;32m     45\u001b[0m \u001b[43m    \u001b[49m\u001b[43mrepeat_per_collect\u001b[49m\u001b[38;5;241;43m=\u001b[39;49m\u001b[38;5;241;43m10\u001b[39;49m\u001b[43m,\u001b[49m\n\u001b[1;32m     46\u001b[0m \u001b[43m    \u001b[49m\u001b[43mepisode_per_test\u001b[49m\u001b[38;5;241;43m=\u001b[39;49m\u001b[38;5;241;43m10\u001b[39;49m\u001b[43m,\u001b[49m\n\u001b[1;32m     47\u001b[0m \u001b[43m    \u001b[49m\u001b[43mbatch_size\u001b[49m\u001b[38;5;241;43m=\u001b[39;49m\u001b[38;5;241;43m256\u001b[39;49m\u001b[43m,\u001b[49m\n\u001b[1;32m     48\u001b[0m \u001b[43m    \u001b[49m\u001b[43mstep_per_collect\u001b[49m\u001b[38;5;241;43m=\u001b[39;49m\u001b[38;5;241;43m2000\u001b[39;49m\u001b[43m,\u001b[49m\n\u001b[1;32m     49\u001b[0m \u001b[43m    \u001b[49m\u001b[43mreward_metric\u001b[49m\u001b[38;5;241;43m=\u001b[39;49m\u001b[43mreward_metric\u001b[49m\u001b[43m,\u001b[49m\n\u001b[1;32m     50\u001b[0m \u001b[43m    \u001b[49m\u001b[43mstop_fn\u001b[49m\u001b[38;5;241;43m=\u001b[39;49m\u001b[43mstop_fn\u001b[49m\u001b[43m,\u001b[49m\n\u001b[1;32m     51\u001b[0m \u001b[43m    \u001b[49m\u001b[43msave_best_fn\u001b[49m\u001b[38;5;241;43m=\u001b[39;49m\u001b[43msave_best_fn\u001b[49m\n\u001b[0;32m---> 52\u001b[0m \u001b[43m)\u001b[49m\u001b[38;5;241;43m.\u001b[39;49m\u001b[43mrun\u001b[49m\u001b[43m(\u001b[49m\u001b[43m)\u001b[49m\n\u001b[1;32m     54\u001b[0m \u001b[38;5;66;03m# return result, policy.policies[agents[1]]\u001b[39;00m\n\u001b[1;32m     55\u001b[0m \u001b[38;5;28mprint\u001b[39m(\u001b[38;5;124mf\u001b[39m\u001b[38;5;124m\"\u001b[39m\u001b[38;5;130;01m\\n\u001b[39;00m\u001b[38;5;124m==========Result==========\u001b[39m\u001b[38;5;130;01m\\n\u001b[39;00m\u001b[38;5;132;01m{\u001b[39;00mresult\u001b[38;5;132;01m}\u001b[39;00m\u001b[38;5;124m\"\u001b[39m)\n",
      "File \u001b[0;32m~/Documents/hse/diploma/togyz-qumalaq-agent/venv/lib/python3.11/site-packages/tianshou/trainer/base.py:536\u001b[0m, in \u001b[0;36mBaseTrainer.run\u001b[0;34m(self, reset_prior_to_run)\u001b[0m\n\u001b[1;32m    534\u001b[0m \u001b[38;5;28;01mtry\u001b[39;00m:\n\u001b[1;32m    535\u001b[0m     \u001b[38;5;28mself\u001b[39m\u001b[38;5;241m.\u001b[39mis_run \u001b[38;5;241m=\u001b[39m \u001b[38;5;28;01mTrue\u001b[39;00m\n\u001b[0;32m--> 536\u001b[0m     \u001b[43mdeque\u001b[49m\u001b[43m(\u001b[49m\u001b[38;5;28;43mself\u001b[39;49m\u001b[43m,\u001b[49m\u001b[43m \u001b[49m\u001b[43mmaxlen\u001b[49m\u001b[38;5;241;43m=\u001b[39;49m\u001b[38;5;241;43m0\u001b[39;49m\u001b[43m)\u001b[49m  \u001b[38;5;66;03m# feed the entire iterator into a zero-length deque\u001b[39;00m\n\u001b[1;32m    537\u001b[0m     info \u001b[38;5;241m=\u001b[39m gather_info(\n\u001b[1;32m    538\u001b[0m         start_time\u001b[38;5;241m=\u001b[39m\u001b[38;5;28mself\u001b[39m\u001b[38;5;241m.\u001b[39mstart_time,\n\u001b[1;32m    539\u001b[0m         policy_update_time\u001b[38;5;241m=\u001b[39m\u001b[38;5;28mself\u001b[39m\u001b[38;5;241m.\u001b[39mpolicy_update_time,\n\u001b[0;32m   (...)\u001b[0m\n\u001b[1;32m    544\u001b[0m         test_collector\u001b[38;5;241m=\u001b[39m\u001b[38;5;28mself\u001b[39m\u001b[38;5;241m.\u001b[39mtest_collector,\n\u001b[1;32m    545\u001b[0m     )\n\u001b[1;32m    546\u001b[0m \u001b[38;5;28;01mfinally\u001b[39;00m:\n",
      "File \u001b[0;32m~/Documents/hse/diploma/togyz-qumalaq-agent/venv/lib/python3.11/site-packages/tianshou/trainer/base.py:322\u001b[0m, in \u001b[0;36mBaseTrainer.__next__\u001b[0;34m(self)\u001b[0m\n\u001b[1;32m    320\u001b[0m \u001b[38;5;28;01mwhile\u001b[39;00m t\u001b[38;5;241m.\u001b[39mn \u001b[38;5;241m<\u001b[39m t\u001b[38;5;241m.\u001b[39mtotal \u001b[38;5;129;01mand\u001b[39;00m \u001b[38;5;129;01mnot\u001b[39;00m \u001b[38;5;28mself\u001b[39m\u001b[38;5;241m.\u001b[39mstop_fn_flag:\n\u001b[1;32m    321\u001b[0m     \u001b[38;5;28;01mif\u001b[39;00m \u001b[38;5;28mself\u001b[39m\u001b[38;5;241m.\u001b[39mtrain_collector \u001b[38;5;129;01mis\u001b[39;00m \u001b[38;5;129;01mnot\u001b[39;00m \u001b[38;5;28;01mNone\u001b[39;00m:\n\u001b[0;32m--> 322\u001b[0m         train_stat, \u001b[38;5;28mself\u001b[39m\u001b[38;5;241m.\u001b[39mstop_fn_flag \u001b[38;5;241m=\u001b[39m \u001b[38;5;28;43mself\u001b[39;49m\u001b[38;5;241;43m.\u001b[39;49m\u001b[43mtrain_step\u001b[49m\u001b[43m(\u001b[49m\u001b[43m)\u001b[49m\n\u001b[1;32m    323\u001b[0m         pbar_data_dict \u001b[38;5;241m=\u001b[39m {\n\u001b[1;32m    324\u001b[0m             \u001b[38;5;124m\"\u001b[39m\u001b[38;5;124menv_step\u001b[39m\u001b[38;5;124m\"\u001b[39m: \u001b[38;5;28mstr\u001b[39m(\u001b[38;5;28mself\u001b[39m\u001b[38;5;241m.\u001b[39menv_step),\n\u001b[1;32m    325\u001b[0m             \u001b[38;5;124m\"\u001b[39m\u001b[38;5;124mrew\u001b[39m\u001b[38;5;124m\"\u001b[39m: \u001b[38;5;124mf\u001b[39m\u001b[38;5;124m\"\u001b[39m\u001b[38;5;132;01m{\u001b[39;00m\u001b[38;5;28mself\u001b[39m\u001b[38;5;241m.\u001b[39mlast_rew\u001b[38;5;132;01m:\u001b[39;00m\u001b[38;5;124m.2f\u001b[39m\u001b[38;5;132;01m}\u001b[39;00m\u001b[38;5;124m\"\u001b[39m,\n\u001b[0;32m   (...)\u001b[0m\n\u001b[1;32m    328\u001b[0m             \u001b[38;5;124m\"\u001b[39m\u001b[38;5;124mn/st\u001b[39m\u001b[38;5;124m\"\u001b[39m: \u001b[38;5;28mstr\u001b[39m(train_stat\u001b[38;5;241m.\u001b[39mn_collected_steps),\n\u001b[1;32m    329\u001b[0m         }\n\u001b[1;32m    330\u001b[0m         t\u001b[38;5;241m.\u001b[39mupdate(train_stat\u001b[38;5;241m.\u001b[39mn_collected_steps)\n",
      "File \u001b[0;32m~/Documents/hse/diploma/togyz-qumalaq-agent/venv/lib/python3.11/site-packages/tianshou/trainer/base.py:444\u001b[0m, in \u001b[0;36mBaseTrainer.train_step\u001b[0;34m(self)\u001b[0m\n\u001b[1;32m    442\u001b[0m \u001b[38;5;28;01mif\u001b[39;00m \u001b[38;5;28mself\u001b[39m\u001b[38;5;241m.\u001b[39mtrain_fn:\n\u001b[1;32m    443\u001b[0m     \u001b[38;5;28mself\u001b[39m\u001b[38;5;241m.\u001b[39mtrain_fn(\u001b[38;5;28mself\u001b[39m\u001b[38;5;241m.\u001b[39mepoch, \u001b[38;5;28mself\u001b[39m\u001b[38;5;241m.\u001b[39menv_step)\n\u001b[0;32m--> 444\u001b[0m result \u001b[38;5;241m=\u001b[39m \u001b[38;5;28;43mself\u001b[39;49m\u001b[38;5;241;43m.\u001b[39;49m\u001b[43mtrain_collector\u001b[49m\u001b[38;5;241;43m.\u001b[39;49m\u001b[43mcollect\u001b[49m\u001b[43m(\u001b[49m\n\u001b[1;32m    445\u001b[0m \u001b[43m    \u001b[49m\u001b[43mn_step\u001b[49m\u001b[38;5;241;43m=\u001b[39;49m\u001b[38;5;28;43mself\u001b[39;49m\u001b[38;5;241;43m.\u001b[39;49m\u001b[43mstep_per_collect\u001b[49m\u001b[43m,\u001b[49m\n\u001b[1;32m    446\u001b[0m \u001b[43m    \u001b[49m\u001b[43mn_episode\u001b[49m\u001b[38;5;241;43m=\u001b[39;49m\u001b[38;5;28;43mself\u001b[39;49m\u001b[38;5;241;43m.\u001b[39;49m\u001b[43mepisode_per_collect\u001b[49m\u001b[43m,\u001b[49m\n\u001b[1;32m    447\u001b[0m \u001b[43m\u001b[49m\u001b[43m)\u001b[49m\n\u001b[1;32m    449\u001b[0m \u001b[38;5;28mself\u001b[39m\u001b[38;5;241m.\u001b[39menv_step \u001b[38;5;241m+\u001b[39m\u001b[38;5;241m=\u001b[39m result\u001b[38;5;241m.\u001b[39mn_collected_steps\n\u001b[1;32m    451\u001b[0m \u001b[38;5;28;01mif\u001b[39;00m result\u001b[38;5;241m.\u001b[39mn_collected_episodes \u001b[38;5;241m>\u001b[39m \u001b[38;5;241m0\u001b[39m:\n",
      "File \u001b[0;32m~/Documents/hse/diploma/togyz-qumalaq-agent/venv/lib/python3.11/site-packages/tianshou/data/collector.py:433\u001b[0m, in \u001b[0;36mCollector.collect\u001b[0;34m(self, n_step, n_episode, random, render, no_grad, reset_before_collect, gym_reset_kwargs)\u001b[0m\n\u001b[1;32m    413\u001b[0m last_hidden_state_RH \u001b[38;5;241m=\u001b[39m _nullable_slice(\n\u001b[1;32m    414\u001b[0m     \u001b[38;5;28mself\u001b[39m\u001b[38;5;241m.\u001b[39m_pre_collect_hidden_state_RH,\n\u001b[1;32m    415\u001b[0m     ready_env_ids_R,\n\u001b[1;32m    416\u001b[0m )\n\u001b[1;32m    418\u001b[0m \u001b[38;5;28;01mwhile\u001b[39;00m \u001b[38;5;28;01mTrue\u001b[39;00m:\n\u001b[1;32m    419\u001b[0m     \u001b[38;5;66;03m# todo check if we need this when using cur_rollout_batch\u001b[39;00m\n\u001b[1;32m    420\u001b[0m     \u001b[38;5;66;03m# if len(cur_rollout_batch) != len(ready_env_ids):\u001b[39;00m\n\u001b[0;32m   (...)\u001b[0m\n\u001b[1;32m    426\u001b[0m \n\u001b[1;32m    427\u001b[0m     \u001b[38;5;66;03m# get the next action\u001b[39;00m\n\u001b[1;32m    428\u001b[0m     (\n\u001b[1;32m    429\u001b[0m         act_RA,\n\u001b[1;32m    430\u001b[0m         act_normalized_RA,\n\u001b[1;32m    431\u001b[0m         policy_R,\n\u001b[1;32m    432\u001b[0m         hidden_state_RH,\n\u001b[0;32m--> 433\u001b[0m     ) \u001b[38;5;241m=\u001b[39m \u001b[38;5;28;43mself\u001b[39;49m\u001b[38;5;241;43m.\u001b[39;49m\u001b[43m_compute_action_policy_hidden\u001b[49m\u001b[43m(\u001b[49m\n\u001b[1;32m    434\u001b[0m \u001b[43m        \u001b[49m\u001b[43mrandom\u001b[49m\u001b[38;5;241;43m=\u001b[39;49m\u001b[43mrandom\u001b[49m\u001b[43m,\u001b[49m\n\u001b[1;32m    435\u001b[0m \u001b[43m        \u001b[49m\u001b[43mready_env_ids_R\u001b[49m\u001b[38;5;241;43m=\u001b[39;49m\u001b[43mready_env_ids_R\u001b[49m\u001b[43m,\u001b[49m\n\u001b[1;32m    436\u001b[0m \u001b[43m        \u001b[49m\u001b[43muse_grad\u001b[49m\u001b[38;5;241;43m=\u001b[39;49m\u001b[43muse_grad\u001b[49m\u001b[43m,\u001b[49m\n\u001b[1;32m    437\u001b[0m \u001b[43m        \u001b[49m\u001b[43mlast_obs_RO\u001b[49m\u001b[38;5;241;43m=\u001b[39;49m\u001b[43mlast_obs_RO\u001b[49m\u001b[43m,\u001b[49m\n\u001b[1;32m    438\u001b[0m \u001b[43m        \u001b[49m\u001b[43mlast_info_R\u001b[49m\u001b[38;5;241;43m=\u001b[39;49m\u001b[43mlast_info_R\u001b[49m\u001b[43m,\u001b[49m\n\u001b[1;32m    439\u001b[0m \u001b[43m        \u001b[49m\u001b[43mlast_hidden_state_RH\u001b[49m\u001b[38;5;241;43m=\u001b[39;49m\u001b[43mlast_hidden_state_RH\u001b[49m\u001b[43m,\u001b[49m\n\u001b[1;32m    440\u001b[0m \u001b[43m    \u001b[49m\u001b[43m)\u001b[49m\n\u001b[1;32m    442\u001b[0m     obs_next_RO, rew_R, terminated_R, truncated_R, info_R \u001b[38;5;241m=\u001b[39m \u001b[38;5;28mself\u001b[39m\u001b[38;5;241m.\u001b[39menv\u001b[38;5;241m.\u001b[39mstep(\n\u001b[1;32m    443\u001b[0m         act_normalized_RA,\n\u001b[1;32m    444\u001b[0m         ready_env_ids_R,\n\u001b[1;32m    445\u001b[0m     )\n\u001b[1;32m    446\u001b[0m     \u001b[38;5;28;01mif\u001b[39;00m \u001b[38;5;28misinstance\u001b[39m(info_R, \u001b[38;5;28mdict\u001b[39m):  \u001b[38;5;66;03m# type: ignore[unreachable]\u001b[39;00m\n\u001b[1;32m    447\u001b[0m         \u001b[38;5;66;03m# This can happen if the env is an envpool env. Then the info returned by step is a dict\u001b[39;00m\n",
      "File \u001b[0;32m~/Documents/hse/diploma/togyz-qumalaq-agent/venv/lib/python3.11/site-packages/tianshou/data/collector.py:282\u001b[0m, in \u001b[0;36mCollector._compute_action_policy_hidden\u001b[0;34m(self, random, ready_env_ids_R, use_grad, last_obs_RO, last_info_R, last_hidden_state_RH)\u001b[0m\n\u001b[1;32m    280\u001b[0m \u001b[38;5;28;01melse\u001b[39;00m:\n\u001b[1;32m    281\u001b[0m     info_batch \u001b[38;5;241m=\u001b[39m _HACKY_create_info_batch(last_info_R)\n\u001b[0;32m--> 282\u001b[0m     obs_batch_R \u001b[38;5;241m=\u001b[39m cast(ObsBatchProtocol, \u001b[43mBatch\u001b[49m\u001b[43m(\u001b[49m\u001b[43mobs\u001b[49m\u001b[38;5;241;43m=\u001b[39;49m\u001b[43mlast_obs_RO\u001b[49m\u001b[43m,\u001b[49m\u001b[43m \u001b[49m\u001b[43minfo\u001b[49m\u001b[38;5;241;43m=\u001b[39;49m\u001b[43minfo_batch\u001b[49m\u001b[43m)\u001b[49m)\n\u001b[1;32m    284\u001b[0m     \u001b[38;5;28;01mwith\u001b[39;00m torch\u001b[38;5;241m.\u001b[39mset_grad_enabled(use_grad):\n\u001b[1;32m    285\u001b[0m         act_batch_RA \u001b[38;5;241m=\u001b[39m \u001b[38;5;28mself\u001b[39m\u001b[38;5;241m.\u001b[39mpolicy(\n\u001b[1;32m    286\u001b[0m             obs_batch_R,\n\u001b[1;32m    287\u001b[0m             last_hidden_state_RH,\n\u001b[1;32m    288\u001b[0m         )\n",
      "File \u001b[0;32m~/Documents/hse/diploma/togyz-qumalaq-agent/venv/lib/python3.11/site-packages/tianshou/data/batch.py:452\u001b[0m, in \u001b[0;36mBatch.__init__\u001b[0;34m(self, batch_dict, copy, **kwargs)\u001b[0m\n\u001b[1;32m    448\u001b[0m         \u001b[38;5;28mself\u001b[39m\u001b[38;5;241m.\u001b[39mstack_(batch_dict)\n\u001b[1;32m    449\u001b[0m \u001b[38;5;28;01mif\u001b[39;00m \u001b[38;5;28mlen\u001b[39m(kwargs) \u001b[38;5;241m>\u001b[39m \u001b[38;5;241m0\u001b[39m:\n\u001b[1;32m    450\u001b[0m     \u001b[38;5;66;03m# TODO: that's a rather weird pattern, is it really needed?\u001b[39;00m\n\u001b[1;32m    451\u001b[0m     \u001b[38;5;66;03m# Feels like kwargs could be just merged into batch_dict in the beginning\u001b[39;00m\n\u001b[0;32m--> 452\u001b[0m     \u001b[38;5;28;43mself\u001b[39;49m\u001b[38;5;241;43m.\u001b[39;49m\u001b[38;5;21;43m__init__\u001b[39;49m\u001b[43m(\u001b[49m\u001b[43mkwargs\u001b[49m\u001b[43m,\u001b[49m\u001b[43m \u001b[49m\u001b[43mcopy\u001b[49m\u001b[38;5;241;43m=\u001b[39;49m\u001b[43mcopy\u001b[49m\u001b[43m)\u001b[49m\n",
      "File \u001b[0;32m~/Documents/hse/diploma/togyz-qumalaq-agent/venv/lib/python3.11/site-packages/tianshou/data/batch.py:445\u001b[0m, in \u001b[0;36mBatch.__init__\u001b[0;34m(self, batch_dict, copy, **kwargs)\u001b[0m\n\u001b[1;32m    443\u001b[0m     _assert_type_keys(batch_dict\u001b[38;5;241m.\u001b[39mkeys())\n\u001b[1;32m    444\u001b[0m     \u001b[38;5;28;01mfor\u001b[39;00m batch_key, obj \u001b[38;5;129;01min\u001b[39;00m batch_dict\u001b[38;5;241m.\u001b[39mitems():\n\u001b[0;32m--> 445\u001b[0m         \u001b[38;5;28mself\u001b[39m\u001b[38;5;241m.\u001b[39m\u001b[38;5;18m__dict__\u001b[39m[batch_key] \u001b[38;5;241m=\u001b[39m \u001b[43m_parse_value\u001b[49m\u001b[43m(\u001b[49m\u001b[43mobj\u001b[49m\u001b[43m)\u001b[49m\n\u001b[1;32m    446\u001b[0m \u001b[38;5;28;01melif\u001b[39;00m _is_batch_set(batch_dict):\n\u001b[1;32m    447\u001b[0m     batch_dict \u001b[38;5;241m=\u001b[39m cast(Sequence[\u001b[38;5;28mdict\u001b[39m \u001b[38;5;241m|\u001b[39m BatchProtocol], batch_dict)\n",
      "File \u001b[0;32m~/Documents/hse/diploma/togyz-qumalaq-agent/venv/lib/python3.11/site-packages/tianshou/data/batch.py:166\u001b[0m, in \u001b[0;36m_parse_value\u001b[0;34m(obj)\u001b[0m\n\u001b[1;32m    161\u001b[0m         \u001b[38;5;28;01mraise\u001b[39;00m \u001b[38;5;167;01mTypeError\u001b[39;00m(\n\u001b[1;32m    162\u001b[0m             \u001b[38;5;124m\"\u001b[39m\u001b[38;5;124mBatch does not support non-stackable iterable\u001b[39m\u001b[38;5;124m\"\u001b[39m\n\u001b[1;32m    163\u001b[0m             \u001b[38;5;124m\"\u001b[39m\u001b[38;5;124m of torch.Tensor as unique value yet.\u001b[39m\u001b[38;5;124m\"\u001b[39m,\n\u001b[1;32m    164\u001b[0m         ) \u001b[38;5;28;01mfrom\u001b[39;00m \u001b[38;5;21;01mexception\u001b[39;00m\n\u001b[1;32m    165\u001b[0m \u001b[38;5;28;01mif\u001b[39;00m _is_batch_set(obj):\n\u001b[0;32m--> 166\u001b[0m     obj \u001b[38;5;241m=\u001b[39m \u001b[43mBatch\u001b[49m\u001b[43m(\u001b[49m\u001b[43mobj\u001b[49m\u001b[43m)\u001b[49m  \u001b[38;5;66;03m# list of dict / Batch\u001b[39;00m\n\u001b[1;32m    167\u001b[0m \u001b[38;5;28;01melse\u001b[39;00m:\n\u001b[1;32m    168\u001b[0m     \u001b[38;5;66;03m# None, scalar, normal obj list (main case)\u001b[39;00m\n\u001b[1;32m    169\u001b[0m     \u001b[38;5;66;03m# or an actual list of objects\u001b[39;00m\n\u001b[1;32m    170\u001b[0m     \u001b[38;5;28;01mtry\u001b[39;00m:\n",
      "File \u001b[0;32m~/Documents/hse/diploma/togyz-qumalaq-agent/venv/lib/python3.11/site-packages/tianshou/data/batch.py:448\u001b[0m, in \u001b[0;36mBatch.__init__\u001b[0;34m(self, batch_dict, copy, **kwargs)\u001b[0m\n\u001b[1;32m    446\u001b[0m     \u001b[38;5;28;01melif\u001b[39;00m _is_batch_set(batch_dict):\n\u001b[1;32m    447\u001b[0m         batch_dict \u001b[38;5;241m=\u001b[39m cast(Sequence[\u001b[38;5;28mdict\u001b[39m \u001b[38;5;241m|\u001b[39m BatchProtocol], batch_dict)\n\u001b[0;32m--> 448\u001b[0m         \u001b[38;5;28;43mself\u001b[39;49m\u001b[38;5;241;43m.\u001b[39;49m\u001b[43mstack_\u001b[49m\u001b[43m(\u001b[49m\u001b[43mbatch_dict\u001b[49m\u001b[43m)\u001b[49m\n\u001b[1;32m    449\u001b[0m \u001b[38;5;28;01mif\u001b[39;00m \u001b[38;5;28mlen\u001b[39m(kwargs) \u001b[38;5;241m>\u001b[39m \u001b[38;5;241m0\u001b[39m:\n\u001b[1;32m    450\u001b[0m     \u001b[38;5;66;03m# TODO: that's a rather weird pattern, is it really needed?\u001b[39;00m\n\u001b[1;32m    451\u001b[0m     \u001b[38;5;66;03m# Feels like kwargs could be just merged into batch_dict in the beginning\u001b[39;00m\n\u001b[1;32m    452\u001b[0m     \u001b[38;5;28mself\u001b[39m\u001b[38;5;241m.\u001b[39m\u001b[38;5;21m__init__\u001b[39m(kwargs, copy\u001b[38;5;241m=\u001b[39mcopy)\n",
      "File \u001b[0;32m~/Documents/hse/diploma/togyz-qumalaq-agent/venv/lib/python3.11/site-packages/tianshou/data/batch.py:823\u001b[0m, in \u001b[0;36mBatch.stack_\u001b[0;34m(self, batches, axis)\u001b[0m\n\u001b[1;32m    821\u001b[0m     batches \u001b[38;5;241m=\u001b[39m [\u001b[38;5;28mself\u001b[39m, \u001b[38;5;241m*\u001b[39mbatches]\n\u001b[1;32m    822\u001b[0m \u001b[38;5;66;03m# collect non-empty keys\u001b[39;00m\n\u001b[0;32m--> 823\u001b[0m keys_map \u001b[38;5;241m=\u001b[39m \u001b[43m[\u001b[49m\n\u001b[1;32m    824\u001b[0m \u001b[43m    \u001b[49m\u001b[43m{\u001b[49m\n\u001b[1;32m    825\u001b[0m \u001b[43m        \u001b[49m\u001b[43mbatch_key\u001b[49m\n\u001b[1;32m    826\u001b[0m \u001b[43m        \u001b[49m\u001b[38;5;28;43;01mfor\u001b[39;49;00m\u001b[43m \u001b[49m\u001b[43mbatch_key\u001b[49m\u001b[43m,\u001b[49m\u001b[43m \u001b[49m\u001b[43mobj\u001b[49m\u001b[43m \u001b[49m\u001b[38;5;129;43;01min\u001b[39;49;00m\u001b[43m \u001b[49m\u001b[43mbatch\u001b[49m\u001b[38;5;241;43m.\u001b[39;49m\u001b[43mitems\u001b[49m\u001b[43m(\u001b[49m\u001b[43m)\u001b[49m\n\u001b[1;32m    827\u001b[0m \u001b[43m        \u001b[49m\u001b[38;5;28;43;01mif\u001b[39;49;00m\u001b[43m \u001b[49m\u001b[38;5;129;43;01mnot\u001b[39;49;00m\u001b[43m \u001b[49m\u001b[43m(\u001b[49m\u001b[38;5;28;43misinstance\u001b[39;49m\u001b[43m(\u001b[49m\u001b[43mobj\u001b[49m\u001b[43m,\u001b[49m\u001b[43m \u001b[49m\u001b[43mBatchProtocol\u001b[49m\u001b[43m)\u001b[49m\u001b[43m \u001b[49m\u001b[38;5;129;43;01mand\u001b[39;49;00m\u001b[43m \u001b[49m\u001b[43mobj\u001b[49m\u001b[38;5;241;43m.\u001b[39;49m\u001b[43mis_empty\u001b[49m\u001b[43m(\u001b[49m\u001b[43m)\u001b[49m\u001b[43m)\u001b[49m\n\u001b[1;32m    828\u001b[0m \u001b[43m    \u001b[49m\u001b[43m}\u001b[49m\n\u001b[1;32m    829\u001b[0m \u001b[43m    \u001b[49m\u001b[38;5;28;43;01mfor\u001b[39;49;00m\u001b[43m \u001b[49m\u001b[43mbatch\u001b[49m\u001b[43m \u001b[49m\u001b[38;5;129;43;01min\u001b[39;49;00m\u001b[43m \u001b[49m\u001b[43mbatches\u001b[49m\n\u001b[1;32m    830\u001b[0m \u001b[43m\u001b[49m\u001b[43m]\u001b[49m\n\u001b[1;32m    831\u001b[0m keys_shared \u001b[38;5;241m=\u001b[39m \u001b[38;5;28mset\u001b[39m\u001b[38;5;241m.\u001b[39mintersection(\u001b[38;5;241m*\u001b[39mkeys_map)\n\u001b[1;32m    832\u001b[0m values_shared \u001b[38;5;241m=\u001b[39m [[batch[key] \u001b[38;5;28;01mfor\u001b[39;00m batch \u001b[38;5;129;01min\u001b[39;00m batches] \u001b[38;5;28;01mfor\u001b[39;00m key \u001b[38;5;129;01min\u001b[39;00m keys_shared]\n",
      "File \u001b[0;32m~/Documents/hse/diploma/togyz-qumalaq-agent/venv/lib/python3.11/site-packages/tianshou/data/batch.py:824\u001b[0m, in \u001b[0;36m<listcomp>\u001b[0;34m(.0)\u001b[0m\n\u001b[1;32m    821\u001b[0m     batches \u001b[38;5;241m=\u001b[39m [\u001b[38;5;28mself\u001b[39m, \u001b[38;5;241m*\u001b[39mbatches]\n\u001b[1;32m    822\u001b[0m \u001b[38;5;66;03m# collect non-empty keys\u001b[39;00m\n\u001b[1;32m    823\u001b[0m keys_map \u001b[38;5;241m=\u001b[39m [\n\u001b[0;32m--> 824\u001b[0m     \u001b[43m{\u001b[49m\n\u001b[1;32m    825\u001b[0m \u001b[43m        \u001b[49m\u001b[43mbatch_key\u001b[49m\n\u001b[1;32m    826\u001b[0m \u001b[43m        \u001b[49m\u001b[38;5;28;43;01mfor\u001b[39;49;00m\u001b[43m \u001b[49m\u001b[43mbatch_key\u001b[49m\u001b[43m,\u001b[49m\u001b[43m \u001b[49m\u001b[43mobj\u001b[49m\u001b[43m \u001b[49m\u001b[38;5;129;43;01min\u001b[39;49;00m\u001b[43m \u001b[49m\u001b[43mbatch\u001b[49m\u001b[38;5;241;43m.\u001b[39;49m\u001b[43mitems\u001b[49m\u001b[43m(\u001b[49m\u001b[43m)\u001b[49m\n\u001b[1;32m    827\u001b[0m \u001b[43m        \u001b[49m\u001b[38;5;28;43;01mif\u001b[39;49;00m\u001b[43m \u001b[49m\u001b[38;5;129;43;01mnot\u001b[39;49;00m\u001b[43m \u001b[49m\u001b[43m(\u001b[49m\u001b[38;5;28;43misinstance\u001b[39;49m\u001b[43m(\u001b[49m\u001b[43mobj\u001b[49m\u001b[43m,\u001b[49m\u001b[43m \u001b[49m\u001b[43mBatchProtocol\u001b[49m\u001b[43m)\u001b[49m\u001b[43m \u001b[49m\u001b[38;5;129;43;01mand\u001b[39;49;00m\u001b[43m \u001b[49m\u001b[43mobj\u001b[49m\u001b[38;5;241;43m.\u001b[39;49m\u001b[43mis_empty\u001b[49m\u001b[43m(\u001b[49m\u001b[43m)\u001b[49m\u001b[43m)\u001b[49m\n\u001b[1;32m    828\u001b[0m \u001b[43m    \u001b[49m\u001b[43m}\u001b[49m\n\u001b[1;32m    829\u001b[0m     \u001b[38;5;28;01mfor\u001b[39;00m batch \u001b[38;5;129;01min\u001b[39;00m batches\n\u001b[1;32m    830\u001b[0m ]\n\u001b[1;32m    831\u001b[0m keys_shared \u001b[38;5;241m=\u001b[39m \u001b[38;5;28mset\u001b[39m\u001b[38;5;241m.\u001b[39mintersection(\u001b[38;5;241m*\u001b[39mkeys_map)\n\u001b[1;32m    832\u001b[0m values_shared \u001b[38;5;241m=\u001b[39m [[batch[key] \u001b[38;5;28;01mfor\u001b[39;00m batch \u001b[38;5;129;01min\u001b[39;00m batches] \u001b[38;5;28;01mfor\u001b[39;00m key \u001b[38;5;129;01min\u001b[39;00m keys_shared]\n",
      "File \u001b[0;32m~/Documents/hse/diploma/togyz-qumalaq-agent/venv/lib/python3.11/site-packages/tianshou/data/batch.py:827\u001b[0m, in \u001b[0;36m<setcomp>\u001b[0;34m(.0)\u001b[0m\n\u001b[1;32m    821\u001b[0m     batches \u001b[38;5;241m=\u001b[39m [\u001b[38;5;28mself\u001b[39m, \u001b[38;5;241m*\u001b[39mbatches]\n\u001b[1;32m    822\u001b[0m \u001b[38;5;66;03m# collect non-empty keys\u001b[39;00m\n\u001b[1;32m    823\u001b[0m keys_map \u001b[38;5;241m=\u001b[39m [\n\u001b[1;32m    824\u001b[0m     {\n\u001b[1;32m    825\u001b[0m         batch_key\n\u001b[1;32m    826\u001b[0m         \u001b[38;5;28;01mfor\u001b[39;00m batch_key, obj \u001b[38;5;129;01min\u001b[39;00m batch\u001b[38;5;241m.\u001b[39mitems()\n\u001b[0;32m--> 827\u001b[0m         \u001b[38;5;28;01mif\u001b[39;00m \u001b[38;5;129;01mnot\u001b[39;00m (\u001b[38;5;28misinstance\u001b[39m(obj, BatchProtocol) \u001b[38;5;129;01mand\u001b[39;00m obj\u001b[38;5;241m.\u001b[39mis_empty())\n\u001b[1;32m    828\u001b[0m     }\n\u001b[1;32m    829\u001b[0m     \u001b[38;5;28;01mfor\u001b[39;00m batch \u001b[38;5;129;01min\u001b[39;00m batches\n\u001b[1;32m    830\u001b[0m ]\n\u001b[1;32m    831\u001b[0m keys_shared \u001b[38;5;241m=\u001b[39m \u001b[38;5;28mset\u001b[39m\u001b[38;5;241m.\u001b[39mintersection(\u001b[38;5;241m*\u001b[39mkeys_map)\n\u001b[1;32m    832\u001b[0m values_shared \u001b[38;5;241m=\u001b[39m [[batch[key] \u001b[38;5;28;01mfor\u001b[39;00m batch \u001b[38;5;129;01min\u001b[39;00m batches] \u001b[38;5;28;01mfor\u001b[39;00m key \u001b[38;5;129;01min\u001b[39;00m keys_shared]\n",
      "File \u001b[0;32m/usr/lib/python3.11/typing.py:1966\u001b[0m, in \u001b[0;36m_ProtocolMeta.__instancecheck__\u001b[0;34m(cls, instance)\u001b[0m\n\u001b[1;32m   1957\u001b[0m \u001b[38;5;28;01mif\u001b[39;00m (\n\u001b[1;32m   1958\u001b[0m     \u001b[38;5;28mgetattr\u001b[39m(\u001b[38;5;28mcls\u001b[39m, \u001b[38;5;124m'\u001b[39m\u001b[38;5;124m_is_protocol\u001b[39m\u001b[38;5;124m'\u001b[39m, \u001b[38;5;28;01mFalse\u001b[39;00m) \u001b[38;5;129;01mand\u001b[39;00m\n\u001b[1;32m   1959\u001b[0m     \u001b[38;5;129;01mnot\u001b[39;00m \u001b[38;5;28mgetattr\u001b[39m(\u001b[38;5;28mcls\u001b[39m, \u001b[38;5;124m'\u001b[39m\u001b[38;5;124m_is_runtime_protocol\u001b[39m\u001b[38;5;124m'\u001b[39m, \u001b[38;5;28;01mFalse\u001b[39;00m) \u001b[38;5;129;01mand\u001b[39;00m\n\u001b[1;32m   1960\u001b[0m     \u001b[38;5;129;01mnot\u001b[39;00m _allow_reckless_class_checks(depth\u001b[38;5;241m=\u001b[39m\u001b[38;5;241m2\u001b[39m)\n\u001b[1;32m   1961\u001b[0m ):\n\u001b[1;32m   1962\u001b[0m     \u001b[38;5;28;01mraise\u001b[39;00m \u001b[38;5;167;01mTypeError\u001b[39;00m(\u001b[38;5;124m\"\u001b[39m\u001b[38;5;124mInstance and class checks can only be used with\u001b[39m\u001b[38;5;124m\"\u001b[39m\n\u001b[1;32m   1963\u001b[0m                     \u001b[38;5;124m\"\u001b[39m\u001b[38;5;124m @runtime_checkable protocols\u001b[39m\u001b[38;5;124m\"\u001b[39m)\n\u001b[1;32m   1965\u001b[0m \u001b[38;5;28;01mif\u001b[39;00m ((\u001b[38;5;129;01mnot\u001b[39;00m \u001b[38;5;28mgetattr\u001b[39m(\u001b[38;5;28mcls\u001b[39m, \u001b[38;5;124m'\u001b[39m\u001b[38;5;124m_is_protocol\u001b[39m\u001b[38;5;124m'\u001b[39m, \u001b[38;5;28;01mFalse\u001b[39;00m) \u001b[38;5;129;01mor\u001b[39;00m\n\u001b[0;32m-> 1966\u001b[0m         \u001b[43m_is_callable_members_only\u001b[49m\u001b[43m(\u001b[49m\u001b[38;5;28;43mcls\u001b[39;49m\u001b[43m)\u001b[49m) \u001b[38;5;129;01mand\u001b[39;00m\n\u001b[1;32m   1967\u001b[0m         \u001b[38;5;28missubclass\u001b[39m(instance\u001b[38;5;241m.\u001b[39m\u001b[38;5;18m__class__\u001b[39m, \u001b[38;5;28mcls\u001b[39m)):\n\u001b[1;32m   1968\u001b[0m     \u001b[38;5;28;01mreturn\u001b[39;00m \u001b[38;5;28;01mTrue\u001b[39;00m\n\u001b[1;32m   1969\u001b[0m \u001b[38;5;28;01mif\u001b[39;00m \u001b[38;5;28mcls\u001b[39m\u001b[38;5;241m.\u001b[39m_is_protocol:\n",
      "File \u001b[0;32m/usr/lib/python3.11/typing.py:1894\u001b[0m, in \u001b[0;36m_is_callable_members_only\u001b[0;34m(cls)\u001b[0m\n\u001b[1;32m   1892\u001b[0m \u001b[38;5;28;01mdef\u001b[39;00m \u001b[38;5;21m_is_callable_members_only\u001b[39m(\u001b[38;5;28mcls\u001b[39m):\n\u001b[1;32m   1893\u001b[0m     \u001b[38;5;66;03m# PEP 544 prohibits using issubclass() with protocols that have non-method members.\u001b[39;00m\n\u001b[0;32m-> 1894\u001b[0m     \u001b[38;5;28;01mreturn\u001b[39;00m \u001b[38;5;28mall\u001b[39m(\u001b[38;5;28mcallable\u001b[39m(\u001b[38;5;28mgetattr\u001b[39m(\u001b[38;5;28mcls\u001b[39m, attr, \u001b[38;5;28;01mNone\u001b[39;00m)) \u001b[38;5;28;01mfor\u001b[39;00m attr \u001b[38;5;129;01min\u001b[39;00m \u001b[43m_get_protocol_attrs\u001b[49m\u001b[43m(\u001b[49m\u001b[38;5;28;43mcls\u001b[39;49m\u001b[43m)\u001b[49m)\n",
      "File \u001b[0;32m/usr/lib/python3.11/typing.py:1888\u001b[0m, in \u001b[0;36m_get_protocol_attrs\u001b[0;34m(cls)\u001b[0m\n\u001b[1;32m   1886\u001b[0m     \u001b[38;5;28;01mfor\u001b[39;00m attr \u001b[38;5;129;01min\u001b[39;00m \u001b[38;5;28mlist\u001b[39m(base\u001b[38;5;241m.\u001b[39m\u001b[38;5;18m__dict__\u001b[39m\u001b[38;5;241m.\u001b[39mkeys()) \u001b[38;5;241m+\u001b[39m \u001b[38;5;28mlist\u001b[39m(annotations\u001b[38;5;241m.\u001b[39mkeys()):\n\u001b[1;32m   1887\u001b[0m         \u001b[38;5;28;01mif\u001b[39;00m \u001b[38;5;129;01mnot\u001b[39;00m attr\u001b[38;5;241m.\u001b[39mstartswith(\u001b[38;5;124m'\u001b[39m\u001b[38;5;124m_abc_\u001b[39m\u001b[38;5;124m'\u001b[39m) \u001b[38;5;129;01mand\u001b[39;00m attr \u001b[38;5;129;01mnot\u001b[39;00m \u001b[38;5;129;01min\u001b[39;00m EXCLUDED_ATTRIBUTES:\n\u001b[0;32m-> 1888\u001b[0m             attrs\u001b[38;5;241m.\u001b[39madd(attr)\n\u001b[1;32m   1889\u001b[0m \u001b[38;5;28;01mreturn\u001b[39;00m attrs\n",
      "\u001b[0;31mKeyboardInterrupt\u001b[0m: "
     ]
    }
   ],
   "source": [
    "# Before evaluate this cell run the cell with env\n",
    "# ======== Step 1: Environment setup =========\n",
    "\n",
    "train_envs = DummyVectorEnv([_get_env for _ in range(100)])\n",
    "test_envs = DummyVectorEnv([_get_env for _ in range(100)])\n",
    "\n",
    "# seed\n",
    "seed = 77\n",
    "np.random.seed(seed)\n",
    "torch.manual_seed(seed)\n",
    "train_envs.seed(seed)\n",
    "test_envs.seed(seed)\n",
    "\n",
    "# ======== Step 2: Agent setup =========\n",
    "policy, optim, agents = _get_agents_ppo()\n",
    "\n",
    "# ======== Step 3: Collector setup =========\n",
    "train_collector = Collector(\n",
    "    policy=policy,\n",
    "    env=train_envs,\n",
    "    buffer=VectorReplayBuffer(20_000, len(train_envs)),\n",
    ")\n",
    "test_collector = Collector(policy=policy, env=test_envs)\n",
    "\n",
    "#======== Step 4: Callback functions setup =========\n",
    "\n",
    "def save_best_fn(policy):\n",
    "    model_save_path = os.path.join(\"models\", \"ppo\", \"policy_ppo_128x256x256x128.pth\")\n",
    "    os.makedirs(os.path.join(\"models\", \"ppo\"), exist_ok=True)\n",
    "    torch.save(policy.policies[agents[1]].state_dict(), model_save_path)\n",
    "\n",
    "def stop_fn(mean_rewards):\n",
    "    return mean_rewards >= 22000\n",
    "\n",
    "def reward_metric(rews):\n",
    "    return rews[:, 1]\n",
    "\n",
    "#======== Step 5: Run the trainer =========\n",
    "result = OnpolicyTrainer(\n",
    "    policy=policy,\n",
    "    train_collector=train_collector,\n",
    "    test_collector=test_collector,\n",
    "    max_epoch=100,\n",
    "    step_per_epoch=50000,\n",
    "    repeat_per_collect=10,\n",
    "    episode_per_test=10,\n",
    "    batch_size=256,\n",
    "    step_per_collect=2000,\n",
    "    reward_metric=reward_metric,\n",
    "    stop_fn=stop_fn,\n",
    "    save_best_fn=save_best_fn\n",
    ").run()\n",
    "\n",
    "# return result, policy.policies[agents[1]]\n",
    "print(f\"\\n==========Result==========\\n{result}\")\n",
    "print(\"\\n(the trained policy can be accessed via policy.policies[agents[1]])\")"
   ]
  },
  {
   "cell_type": "markdown",
   "metadata": {
    "jp-MarkdownHeadingCollapsed": true
   },
   "source": [
    "### 🐃 Load ppo agents"
   ]
  },
  {
   "cell_type": "code",
   "execution_count": 165,
   "metadata": {},
   "outputs": [],
   "source": [
    "agent1_learned_ppo_path = \"models/policy_ppo_64x128x128x64.pth\"\n",
    "agent2_learned_ppo_path = \"models/policy_ppo_128x256x256x128.pth\"\n",
    "env = _get_env()\n",
    "net1 = Net(state_shape=(22,), hidden_sizes=[64, 128, 128, 64], device=device).to(device)\n",
    "actor = Actor(preprocess_net=net1, action_shape=env.action_space.shape, device=device).to(device)\n",
    "critic = Critic(preprocess_net=net1, device=device).to(device)\n",
    "actor_critic = ActorCritic(actor=actor, critic=critic)\n",
    "optim = torch.optim.Adam(actor_critic.parameters(), lr=0.0003)\n",
    "\n",
    "agent1_learned_ppo = PPOPolicy(\n",
    "    actor=actor,\n",
    "    critic=critic,\n",
    "    optim=optim,\n",
    "    dist_fn=torch.distributions.Categorical,\n",
    "    action_space=env.action_space,\n",
    "    deterministic_eval=True,\n",
    "    action_scaling=False,\n",
    ")\n",
    "agent1_learned_ppo.load_state_dict(torch.load(agent1_learned_ppo_path))\n",
    "agents_learned_qostaushy.append(agent1_learned_ppo)\n",
    "\n",
    "\n",
    "net2 = Net(state_shape=(22,), hidden_sizes=[128, 256, 256, 128], device=device).to(device)\n",
    "actor = Actor(preprocess_net=net2, action_shape=env.action_space.shape, device=device).to(device)\n",
    "critic = Critic(preprocess_net=net2, device=device).to(device)\n",
    "actor_critic = ActorCritic(actor=actor, critic=critic)\n",
    "optim = torch.optim.Adam(actor_critic.parameters(), lr=0.0003)\n",
    "\n",
    "agent2_learned_ppo = PPOPolicy(\n",
    "    actor=actor,\n",
    "    critic=critic,\n",
    "    optim=optim,\n",
    "    dist_fn=torch.distributions.Categorical,\n",
    "    action_space=env.action_space,\n",
    "    deterministic_eval=True,\n",
    "    action_scaling=False,\n",
    ")\n",
    "agent2_learned_ppo.load_state_dict(torch.load(agent2_learned_ppo_path))\n",
    "agents_learned_qostaushy.append(agent2_learned_ppo)"
   ]
  },
  {
   "cell_type": "markdown",
   "metadata": {
    "jp-MarkdownHeadingCollapsed": true
   },
   "source": [
    "### 🐟 Evaluate best Qostaushy agent with different policies"
   ]
  },
  {
   "cell_type": "code",
   "execution_count": 59,
   "metadata": {},
   "outputs": [
    {
     "name": "stdout",
     "output_type": "stream",
     "text": [
      "{'bastaushy': 0, 'qostaushy': 1}\n"
     ]
    }
   ],
   "source": [
    "PLAYS = {\"bastaushy\": 0, \"qostaushy\": 0}\n",
    "# Step 1: Load the PettingZoo environment\n",
    "env = env()#render_mode=\"human\")\n",
    "\n",
    "# Step 2: Wrap the environment for Tianshou interfacing\n",
    "env = PettingZooEnv(env)\n",
    "\n",
    "# # Step 3: Define policies for each agent\n",
    "policies = MultiAgentPolicyManager(policies=[agents_learned_qostaushy[3], agents_learned_qostaushy[4]], env=env)\n",
    "# # Step 4: Convert the env to vector format\n",
    "env = DummyVectorEnv([lambda: env])\n",
    "\n",
    "# # Step 5: Construct the Collector, which interfaces the policies with the vectorised environment\n",
    "collector = Collector(policies, env)\n",
    "\n",
    "# # Step 6: Execute the environment with the agents playing for 1 episode, and render a frame every 2 seconds\n",
    "result = collector.collect(n_episode=1, reset_before_collect=True)\n",
    "print(PLAYS)"
   ]
  },
  {
   "cell_type": "markdown",
   "metadata": {
    "jp-MarkdownHeadingCollapsed": true
   },
   "source": [
    "### 𓃰 Play results"
   ]
  },
  {
   "cell_type": "markdown",
   "metadata": {},
   "source": [
    "- *agent4_learned* vs *agent1_learned_ppo*: {'bastaushy': 1, 'qostaushy': 0}\n",
    "\n",
    "- *agent1_learned* vs *agent1_learned_ppo*: {'bastaushy': 0, 'qostaushy': 1}\n",
    "\n",
    "- *agent1_learned_ppo* vs *agent1_learned*: {'bastaushy': 1, 'qostaushy': 0}\n",
    "\n",
    "- *agent2_learned* vs *agent1_learned_ppo*: {'bastaushy': 0, 'qostaushy': 1}\n",
    "\n",
    "- *agent1_learned_ppo* vs *agent2_learned*: {'bastaushy': 0, 'qostaushy': 1}\n",
    "\n",
    "- *agent3_learned* vs *agent1_learned_ppo*: {'bastaushy': 0, 'qostaushy': 0}\n",
    "\n",
    "- *agent1_learned_ppo* vs *agent3_learned*: {'bastaushy': 1, 'qostaushy': 0}"
   ]
  },
  {
   "cell_type": "markdown",
   "metadata": {},
   "source": [
    "# 🐎 Self-play training qostaushy"
   ]
  },
  {
   "cell_type": "markdown",
   "metadata": {
    "jp-MarkdownHeadingCollapsed": true
   },
   "source": [
    "### 🦘 Imports"
   ]
  },
  {
   "cell_type": "code",
   "execution_count": 7,
   "metadata": {},
   "outputs": [],
   "source": [
    "import random\n",
    "import copy"
   ]
  },
  {
   "cell_type": "markdown",
   "metadata": {},
   "source": [
    "### 🦚 Method train agent"
   ]
  },
  {
   "cell_type": "code",
   "execution_count": 7,
   "metadata": {},
   "outputs": [],
   "source": [
    "def train_agent_ppo(index, agent_learn=None, agent_opponent=None):\n",
    "    # Before evaluate this cell run the cell with env\n",
    "    # ======== Step 1: Environment setup =========\n",
    "    \n",
    "    train_envs = DummyVectorEnv([_get_env for _ in range(100)])\n",
    "    test_envs = DummyVectorEnv([_get_env for _ in range(100)])\n",
    "    \n",
    "    # seed\n",
    "    seed=77\n",
    "    np.random.seed(seed)\n",
    "    torch.manual_seed(seed)\n",
    "    train_envs.seed(seed)\n",
    "    test_envs.seed(seed)\n",
    "    \n",
    "    # ======== Step 2: Agent setup =========\n",
    "    policy, optim, agents = _get_agents_ppo(agent_learn=agent_learn, agent_opponent=agent_opponent)\n",
    "    \n",
    "    # ======== Step 3: Collector setup =========\n",
    "    train_collector = Collector(\n",
    "        policy=policy,\n",
    "        env=train_envs,\n",
    "        buffer=VectorReplayBuffer(100_000, len(train_envs)),\n",
    "    )\n",
    "    test_collector = Collector(policy=policy, env=test_envs)\n",
    "    \n",
    "    #======== Step 4: Callback functions setup =========\n",
    "    \n",
    "    def save_best_fn(policy):\n",
    "        model_save_path = os.path.join(\"models\", f'policy_ppo_128x256x256x128_{i}.pth')\n",
    "        os.makedirs(os.path.join(\"models\"), exist_ok=True)\n",
    "        torch.save(policy.policies[agents[1]].state_dict(), model_save_path)\n",
    "    \n",
    "    def stop_fn(mean_rewards):\n",
    "        return mean_rewards >= 22000\n",
    "    \n",
    "    def reward_metric(rews):\n",
    "        return rews[:, 1]\n",
    "    \n",
    "    #======== Step 5: Run the trainer =========\n",
    "    result = OnpolicyTrainer(\n",
    "        policy=policy,\n",
    "        train_collector=train_collector,\n",
    "        test_collector=test_collector,\n",
    "        max_epoch=100,\n",
    "        step_per_epoch=50000,\n",
    "        repeat_per_collect=10,\n",
    "        episode_per_test=10,\n",
    "        batch_size=256,\n",
    "        step_per_collect=2000,\n",
    "        reward_metric=reward_metric,\n",
    "        stop_fn=stop_fn,\n",
    "        save_best_fn=save_best_fn\n",
    "    ).run()\n",
    "    \n",
    "    # return result, policy.policies[agents[1]]\n",
    "    print(f\"\\n==========Result==========\\n{result}\")\n",
    "    print(\"\\n(the trained policy can be accessed via policy.policies[agents[1]])\")\n",
    "    return policy.policies[agents[1]]"
   ]
  },
  {
   "cell_type": "code",
   "execution_count": 10,
   "metadata": {},
   "outputs": [],
   "source": [
    "def train_agent_dqn_bastaushy(index, agent_learn=None, agent_opponent=None, path=\"bastaushy\"):\n",
    "    # Before evaluate this cell run the cell with env\n",
    "    # ======== Step 1: Environment setup =========\n",
    "    train_envs = DummyVectorEnv([_get_env for _ in range(100)])\n",
    "    test_envs = DummyVectorEnv([_get_env for _ in range(100)])\n",
    "    \n",
    "    # seed\n",
    "    seed=11\n",
    "    np.random.seed(seed)\n",
    "    torch.manual_seed(seed)\n",
    "    train_envs.seed(seed)\n",
    "    test_envs.seed(seed)\n",
    "    \n",
    "    # ======== Step 2: Agent setup =========\n",
    "    policy, optim, agents = _get_agents_dqn(agent_learn=agent_learn, agent_opponent=agent_opponent)\n",
    "    \n",
    "    # # ======== Step 3: Collector setup =========\n",
    "    train_collector = Collector(\n",
    "        policy,\n",
    "        train_envs,\n",
    "        VectorReplayBuffer(100_000, len(train_envs)),\n",
    "        exploration_noise=True,\n",
    "    )\n",
    "    test_collector = Collector(policy, test_envs, exploration_noise=True)\n",
    "    # policy.set_eps(1)\n",
    "    \n",
    "    # ======== Step 4: Callback functions setup =========\n",
    "    def save_best_fn(policy):\n",
    "        model_save_path = os.path.join(\"models\", path, f'policy_dqn_256x512x512x256_{i}.pth')\n",
    "        os.makedirs(os.path.join(\"models\", path), exist_ok=True)\n",
    "        torch.save(policy.policies[agents[0]].state_dict(), model_save_path)\n",
    "    \n",
    "    def stop_fn(mean_rewards):\n",
    "        return mean_rewards >= 25000\n",
    "    \n",
    "    def train_fn(epoch, env_step):\n",
    "        policy.policies[agents[0]].set_eps(0.1)\n",
    "    \n",
    "    def test_fn(epoch, env_step):\n",
    "        policy.policies[agents[0]].set_eps(0.05)\n",
    "    \n",
    "    def reward_metric(rews):\n",
    "        return rews[:, 1]\n",
    "    \n",
    "    # ======== Step 5: Run the trainer =========\n",
    "    result = OffpolicyTrainer(\n",
    "        policy=policy,\n",
    "        train_collector=train_collector,\n",
    "        test_collector=test_collector,\n",
    "        max_epoch=150,\n",
    "        step_per_epoch=1000,\n",
    "        step_per_collect=50,\n",
    "        episode_per_test=10,\n",
    "        batch_size=256,\n",
    "        train_fn=train_fn,\n",
    "        test_fn=test_fn,\n",
    "        stop_fn=stop_fn,\n",
    "        save_best_fn=save_best_fn,\n",
    "        update_per_step=0.1,\n",
    "        test_in_train=False,\n",
    "        reward_metric=reward_metric,\n",
    "        verbose=True,\n",
    "        #logger=logger\n",
    "    ).run()\n",
    "    \n",
    "    # return result, policy.policies[agents[1]]\n",
    "    print(f\"\\n==========Result==========\\n{result}\")\n",
    "    print(\"\\n(the trained policy can be accessed via policy.policies[agents[0]])\")\n",
    "    return policy.policies[agents[0]]"
   ]
  },
  {
   "cell_type": "code",
   "execution_count": 11,
   "metadata": {},
   "outputs": [],
   "source": [
    "def train_agent_dqn_qostaushy(index, agent_learn=None, agent_opponent=None, path=\"qostaushy\"):\n",
    "    # Before evaluate this cell run the cell with env\n",
    "    # ======== Step 1: Environment setup =========\n",
    "    train_envs = DummyVectorEnv([_get_env for _ in range(100)])\n",
    "    test_envs = DummyVectorEnv([_get_env for _ in range(100)])\n",
    "    \n",
    "    # seed\n",
    "    seed=11\n",
    "    np.random.seed(seed)\n",
    "    torch.manual_seed(seed)\n",
    "    train_envs.seed(seed)\n",
    "    test_envs.seed(seed)\n",
    "    \n",
    "    # ======== Step 2: Agent setup =========\n",
    "    policy, optim, agents = _get_agents_dqn(agent_learn=agent_learn, agent_opponent=agent_opponent)\n",
    "    \n",
    "    # # ======== Step 3: Collector setup =========\n",
    "    train_collector = Collector(\n",
    "        policy,\n",
    "        train_envs,\n",
    "        VectorReplayBuffer(100_000, len(train_envs)),\n",
    "        exploration_noise=True,\n",
    "    )\n",
    "    test_collector = Collector(policy, test_envs, exploration_noise=True)\n",
    "    # policy.set_eps(1)\n",
    "    \n",
    "    # ======== Step 4: Callback functions setup =========\n",
    "    def save_best_fn(policy):\n",
    "        model_save_path = os.path.join(\"models\", path, f'policy_dqn_256x512x512x256_{i}.pth')\n",
    "        os.makedirs(os.path.join(\"models\", path), exist_ok=True)\n",
    "        torch.save(policy.policies[agents[1]].state_dict(), model_save_path)\n",
    "    \n",
    "    def stop_fn(mean_rewards):\n",
    "        return mean_rewards >= 25000\n",
    "    \n",
    "    def train_fn(epoch, env_step):\n",
    "        policy.policies[agents[1]].set_eps(0.1)\n",
    "    \n",
    "    def test_fn(epoch, env_step):\n",
    "        policy.policies[agents[1]].set_eps(0.05)\n",
    "    \n",
    "    def reward_metric(rews):\n",
    "        return rews[:, 1]\n",
    "    \n",
    "    # ======== Step 5: Run the trainer =========\n",
    "    result = OffpolicyTrainer(\n",
    "        policy=policy,\n",
    "        train_collector=train_collector,\n",
    "        test_collector=test_collector,\n",
    "        max_epoch=150,\n",
    "        step_per_epoch=1000,\n",
    "        step_per_collect=50,\n",
    "        episode_per_test=10,\n",
    "        batch_size=256,\n",
    "        train_fn=train_fn,\n",
    "        test_fn=test_fn,\n",
    "        stop_fn=stop_fn,\n",
    "        save_best_fn=save_best_fn,\n",
    "        update_per_step=0.1,\n",
    "        test_in_train=False,\n",
    "        reward_metric=reward_metric,\n",
    "        verbose=True,\n",
    "        #logger=logger\n",
    "    ).run()\n",
    "    \n",
    "    # return result, policy.policies[agents[1]]\n",
    "    print(f\"\\n==========Result==========\\n{result}\")\n",
    "    print(\"\\n(the trained policy can be accessed via policy.policies[agents[0]])\")\n",
    "    return policy.policies[agents[1]]"
   ]
  },
  {
   "cell_type": "markdown",
   "metadata": {
    "jp-MarkdownHeadingCollapsed": true
   },
   "source": [
    "### 🐘 Load trained agents"
   ]
  },
  {
   "cell_type": "code",
   "execution_count": 12,
   "metadata": {},
   "outputs": [],
   "source": [
    "for model in range(1, 118):\n",
    "    env = _get_env()\n",
    "    net = Net(\n",
    "                state_shape=(22,),\n",
    "                action_shape=env.action_space.shape or env.action_space.n,\n",
    "                hidden_sizes=[256, 512, 512, 256],\n",
    "                device=\"cuda\" if torch.cuda.is_available() else \"cpu\",\n",
    "            ).to(\"cuda\" if torch.cuda.is_available() else \"cpu\")\n",
    "    \n",
    "    agent_learned = DQNPolicy(\n",
    "                model=net,\n",
    "                optim = torch.optim.Adam(net.parameters(), lr=1e-4),\n",
    "                discount_factor=0.9,\n",
    "                estimation_step=3,\n",
    "                target_update_freq=320,\n",
    "                action_space=env.action_space\n",
    "            ).to(\"cuda\" if torch.cuda.is_available() else \"cpu\")\n",
    "    \n",
    "    agent_learned.load_state_dict(torch.load(f\"models/qostaushy/policy_dqn_256x512x512x256_{model}.pth\"))\n",
    "    agents_learned_qostaushy.append(agent_learned)"
   ]
  },
  {
   "cell_type": "markdown",
   "metadata": {},
   "source": [
    "### 🐑 Self-play"
   ]
  },
  {
   "cell_type": "code",
   "execution_count": null,
   "metadata": {
    "scrolled": true
   },
   "outputs": [],
   "source": [
    "count = 0\n",
    "for i in range(119, 151):\n",
    "    \n",
    "    # random select opponent\n",
    "    agent_opponent_random = random.choice(agents_learned_bastaushy)\n",
    "    idx = agents_learned_bastaushy.index(agent_opponent_random)\n",
    "    \n",
    "    print(f\"Train with bastaushy agent_opponent #{idx}\")\n",
    "\n",
    "    # training\n",
    "    if count == 0:\n",
    "        agent_learned = copy.deepcopy(random.choice(agents_learned_qostaushy))\n",
    "    next_agent_learned = train_agent_dqn_qostaushy(index=i, agent_learn=agent_learned, agent_opponent=agent_opponent_random, path=\"qostaushy\")\n",
    "    #add new learned agent\n",
    "    agents_learned_qostaushy.append(next_agent_learned)\n",
    "    agent_learned = copy.deepcopy(next_agent_learned)\n",
    "    count += 1"
   ]
  },
  {
   "cell_type": "markdown",
   "metadata": {
    "jp-MarkdownHeadingCollapsed": true
   },
   "source": [
    "### 🦧 Play different learned policies"
   ]
  },
  {
   "cell_type": "code",
   "execution_count": null,
   "metadata": {},
   "outputs": [],
   "source": [
    "num_winners_bastaushy = {key: [] for key in range(len(agents_learned_bastaushy))}\n",
    "num_winners_qostaushy = {key: [] for key in range(len(agents_learned_qostaushy))}\n",
    "\n",
    "for n_agent, agent in enumerate(agents_learned_bastaushy):\n",
    "    print(\"----------------------------------------------------\")\n",
    "    b_winners = 0\n",
    "    q_winners = 0\n",
    "    for n_agent_opp, agent_opponent in enumerate(agents_learned_qostaushy):\n",
    "        PLAYS = {\"bastaushy\": 0, \"qostaushy\": 0}\n",
    "\n",
    "        env = _get_env()#render_mode=\"human\")\n",
    "\n",
    "        policies = MultiAgentPolicyManager(policies=[agent, agent_opponent], env=env)\n",
    "        env = DummyVectorEnv([lambda: env])\n",
    "        \n",
    "        collector = Collector(policies, env, exploration_noise=False)\n",
    "        \n",
    "        result = collector.collect(n_episode=1, reset_before_collect=True)\n",
    "        # print(f\"Agent {n_agent} plays as Qostaushy with agent_opponent {n_agent_opp}, result: {PLAYS}\")\n",
    "        b_winners += PLAYS[\"bastaushy\"]\n",
    "        q_winners += PLAYS[\"qostaushy\"]\n",
    "            \n",
    "    print(f\"Agent #{n_agent} wins as bastaushy {b_winners} times\")\n",
    "    print(f\"Agent #{n_agent_opp} wins as qostaushy {q_winners} times\")\n",
    "    \n",
    "    num_winners_bastaushy[n_agent_opp].append(b_winners)\n",
    "    num_winners_qostaushy[n_agent].append(q_winners)"
   ]
  },
  {
   "cell_type": "markdown",
   "metadata": {
    "jp-MarkdownHeadingCollapsed": true
   },
   "source": [
    "### 🦉 Play stronger policy with another one"
   ]
  },
  {
   "cell_type": "code",
   "execution_count": null,
   "metadata": {},
   "outputs": [],
   "source": [
    "PLAYS = {\"bastaushy\": 0, \"qostaushy\": 0}\n",
    "\n",
    "env = _get_env(render_mode=\"human\")\n",
    "\n",
    "policies = MultiAgentPolicyManager(policies=[agents_learned_qostaushy[51], agents_learned_qostaushy[70]], env=env)\n",
    "\n",
    "env = DummyVectorEnv([lambda: env])\n",
    "\n",
    "collector = Collector(policies, env)\n",
    "\n",
    "result = collector.collect(n_episode=1, reset_before_collect=True)\n",
    "print(PLAYS)"
   ]
  },
  {
   "cell_type": "markdown",
   "metadata": {},
   "source": [
    "### 🦎 Play all policies with random policy"
   ]
  },
  {
   "cell_type": "code",
   "execution_count": null,
   "metadata": {},
   "outputs": [],
   "source": [
    "random_policy_wins = []\n",
    "agent_wins = []\n",
    "\n",
    "for model in range(1, 118):\n",
    "    \n",
    "    PLAYS = {\"bastaushy\": 0, \"qostaushy\": 0}\n",
    "\n",
    "    env = _get_env()#render_mode=\"human\")\n",
    "    net = Net(\n",
    "                state_shape=(22,),\n",
    "                action_shape=env.action_space.shape or env.action_space.n,\n",
    "                hidden_sizes=[256, 512, 512, 256],\n",
    "                device=\"cuda\" if torch.cuda.is_available() else \"cpu\",\n",
    "            ).to(\"cuda\" if torch.cuda.is_available() else \"cpu\")\n",
    "    \n",
    "    agent_learned = DQNPolicy(\n",
    "                model=net,\n",
    "                optim = torch.optim.Adam(net.parameters(), lr=1e-4),\n",
    "                discount_factor=0.9,\n",
    "                estimation_step=3,\n",
    "                target_update_freq=320,\n",
    "                action_space=env.action_space\n",
    "            ).to(\"cuda\" if torch.cuda.is_available() else \"cpu\")\n",
    "    \n",
    "    agent_learned.load_state_dict(torch.load(f\"models/policy_dqn_256x512x512x256_{model}.pth\"))\n",
    "    \n",
    "    policies = MultiAgentPolicyManager(policies=[agent_learned, RandomPolicy(action_space=env.action_space)], env=env)\n",
    "    \n",
    "    env = DummyVectorEnv([lambda: env])\n",
    "    \n",
    "    collector = Collector(policies, env)\n",
    "    \n",
    "    result = collector.collect(n_episode=1000, reset_before_collect=True)\n",
    "    random_policy_wins.append(PLAYS['qostaushy'])\n",
    "    agent_wins.append(PLAYS['bastaushy'])\n",
    "    #print(f\"Agent #{model} plays as qostaushy, result: {PLAYS}\")\n",
    "    print(f\"Agent #{model} plays as bastaushy, result: {PLAYS}\")"
   ]
  },
  {
   "cell_type": "code",
   "execution_count": 13,
   "metadata": {},
   "outputs": [
    {
     "data": {
      "image/png": "[encoded data removed]",
      "text/plain": [
       "<Figure size 640x480 with 1 Axes>"
      ]
     },
     "metadata": {},
     "output_type": "display_data"
    }
   ],
   "source": [
    "plt.plot(range(len(random_policy_wins)), random_policy_wins, label='random policy wins')\n",
    "\n",
    "plt.plot(range(len(agent_wins)), agent_wins, label='bastaushy agent wins')\n",
    "\n",
    "plt.legend()\n",
    "plt.title(\"Evolution of trained agents\")\n",
    "plt.show()"
   ]
  },
  {
   "cell_type": "code",
   "execution_count": 17,
   "metadata": {},
   "outputs": [
    {
     "data": {
      "image/png": "[encoded data removed]",
      "text/plain": [
       "<Figure size 640x480 with 1 Axes>"
      ]
     },
     "metadata": {},
     "output_type": "display_data"
    }
   ],
   "source": [
    "random_policy_wins = [886, 779, 781, 940, 663, 898, 805, 859, 630, 693, 962, 528, 674, 767, 651, 807, 539, 973, 565, 934, 666, 387, 315, 288, 440, 291, 380, 247, 158, 393, 583, 195, 485, 399, 84, 388, 294, 334, 597, 115,\n",
    "                     441,219,225, 453, 372, 456, 249, 39, 204, 135, 224, 296, 172, 180, 615, 264, 261, 264, 328, 290, 206, 176, 247, 108, 365, 277, 230,\n",
    "                     141, 662, 590, 211, 409, 159, 277, 199, 149, 182, 242, 366, 350, 120, 296, 242, 244, 495, 136, 454, 557, 427, 197, 227, 413, 434, 306, 119, 403, 355, 270, 308,\n",
    "                     230, 239, 257, 495, 144, 182, 265, 200, 148, 211, 167, 236, 170, 314, 509, 240, 129]\n",
    "\n",
    "agent_wins = [207, 91, 217, 187, 60, 234, 94, 158, 119, 359, 250, 38, 208, 277, 173, 302, 185, 370, 26, 363, 65, 314, 594, 541, 691, 560, 676, 582, 681, 780, 598, 244, 679, 399, 443, 806, 607, 655, 643, 401, 863,\n",
    "             547,753,763,538,554,525,725,735,753,837,750,684,795,793,331,730,700,721,656,684,776,794,732,825,592,566,765,812,335,362,774,558,822,681,768,833,783,714,605,624,856,684,745,721,405,840,539,202,557,780,760,544,536,670,868,589,605,708,\n",
    "             639, 735, 743, 729, 393, 825, 800, 703, 765, 842, 762, 822, 743, 812, 675, 402, 749, 867]\n",
    "\n",
    "\n",
    "plt.plot(range(len(random_policy_wins)), random_policy_wins, label='random policy wins')\n",
    "\n",
    "plt.plot(range(len(agent_wins)), agent_wins, label='agent wins')\n",
    "\n",
    "plt.legend()\n",
    "plt.title(\"Evolution of trained agents\")\n",
    "plt.show()"
   ]
  },
  {
   "cell_type": "markdown",
   "metadata": {},
   "source": [
    "### 🐈 Plot play results"
   ]
  },
  {
   "cell_type": "code",
   "execution_count": 15,
   "metadata": {},
   "outputs": [
    {
     "data": {
      "image/png": "[encoded data removed]",
      "text/plain": [
       "<Figure size 640x480 with 1 Axes>"
      ]
     },
     "metadata": {},
     "output_type": "display_data"
    }
   ],
   "source": [
    "# plt.plot(range(len(num_winners_bastaushy)), num_winners_bastaushy, label=\"bastaushy\")\n",
    "\n",
    "# plt.plot(range(len(num_winners_qostaushy)), num_winners_qostaushy, label=\"qostaushy\")\n",
    "\n",
    "# plt.legend()\n",
    "# plt.xlabel(\"Model #\")\n",
    "# plt.ylabel(\"Number of wins\")\n",
    "# plt.title(\"Evolution of trained agents\")\n",
    "# plt.show()"
   ]
  },
  {
   "cell_type": "code",
   "execution_count": 10,
   "metadata": {},
   "outputs": [
    {
     "data": {
      "text/plain": [
       "0.875"
      ]
     },
     "execution_count": 10,
     "metadata": {},
     "output_type": "execute_result"
    }
   ],
   "source": [
    "105/120"
   ]
  },
  {
   "cell_type": "code",
   "execution_count": 18,
   "metadata": {},
   "outputs": [],
   "source": [
    "results = []\n",
    "for key in num_winners_qostaushy.keys():\n",
    "    results.append(num_winners_qostaushy[key][0])"
   ]
  },
  {
   "cell_type": "code",
   "execution_count": 19,
   "metadata": {},
   "outputs": [
    {
     "data": {
      "image/png": "[encoded data removed]",
      "text/plain": [
       "<Figure size 640x480 with 1 Axes>"
      ]
     },
     "metadata": {},
     "output_type": "display_data"
    }
   ],
   "source": [
    "plt.plot(range(len(results)), results, label=\"qostaushy\")\n",
    "\n",
    "plt.xlabel(\"Model #\")\n",
    "plt.ylabel(\"Number of wins\")\n",
    "plt.title(\"Evolution of trained agents\")\n",
    "plt.show()"
   ]
  },
  {
   "cell_type": "markdown",
   "metadata": {},
   "source": [
    "# 🐦 Self-play training bastaushy"
   ]
  },
  {
   "cell_type": "markdown",
   "metadata": {},
   "source": [
    "### 🐊 Load trained agents"
   ]
  },
  {
   "cell_type": "code",
   "execution_count": 13,
   "metadata": {},
   "outputs": [],
   "source": [
    "agents_learned_bastaushy = []\n",
    "\n",
    "for model in range(1, 11):\n",
    "    env = _get_env()\n",
    "    net = Net(\n",
    "                state_shape=(22,),\n",
    "                action_shape=env.action_space.shape or env.action_space.n,\n",
    "                hidden_sizes=[256, 512, 512, 256],\n",
    "                device=\"cuda\" if torch.cuda.is_available() else \"cpu\",\n",
    "            ).to(\"cuda\" if torch.cuda.is_available() else \"cpu\")\n",
    "    \n",
    "    agent_learned = DQNPolicy(\n",
    "                model=net,\n",
    "                optim = torch.optim.Adam(net.parameters(), lr=1e-4),\n",
    "                discount_factor=0.9,\n",
    "                estimation_step=3,\n",
    "                target_update_freq=320,\n",
    "                action_space=env.action_space\n",
    "            ).to(\"cuda\" if torch.cuda.is_available() else \"cpu\")\n",
    "    \n",
    "    agent_learned.load_state_dict(torch.load(f\"models/bastaushy/policy_dqn_256x512x512x256_{model}.pth\"))\n",
    "    agents_learned_bastaushy.append(agent_learned)"
   ]
  },
  {
   "cell_type": "markdown",
   "metadata": {},
   "source": [
    "### 🦡 Self-play"
   ]
  },
  {
   "cell_type": "code",
   "execution_count": 26,
   "metadata": {},
   "outputs": [
    {
     "name": "stdout",
     "output_type": "stream",
     "text": [
      "Train with qostaushy agent_opponent #29\n"
     ]
    },
    {
     "name": "stderr",
     "output_type": "stream",
     "text": [
      "Epoch #1: 1001it [00:02, 461.06it/s, env_step=1000, gradient_step=100, len=0, n/ep=0, n/st=100, rew=0.00]                                                                                         \n"
     ]
    },
    {
     "name": "stdout",
     "output_type": "stream",
     "text": [
      "Epoch #1: test_reward: 10007.600000 ± 4926.469145, best_reward: 11377.600000 ± 3293.052298 in #0\n"
     ]
    },
    {
     "name": "stderr",
     "output_type": "stream",
     "text": [
      "Epoch #2: 1001it [00:02, 416.10it/s, env_step=2000, gradient_step=200, len=0, n/ep=0, n/st=100, rew=0.00]                                                                                         \n"
     ]
    },
    {
     "name": "stdout",
     "output_type": "stream",
     "text": [
      "Epoch #2: test_reward: 12630.400000 ± 2915.180790, best_reward: 12630.400000 ± 2915.180790 in #2\n"
     ]
    },
    {
     "name": "stderr",
     "output_type": "stream",
     "text": [
      "Epoch #3: 1001it [00:01, 511.58it/s, env_step=3000, gradient_step=300, len=0, n/ep=0, n/st=100, rew=0.00]                                                                                         \n"
     ]
    },
    {
     "name": "stdout",
     "output_type": "stream",
     "text": [
      "Epoch #3: test_reward: 9864.500000 ± 4933.825721, best_reward: 12630.400000 ± 2915.180790 in #2\n"
     ]
    },
    {
     "name": "stderr",
     "output_type": "stream",
     "text": [
      "Epoch #4: 1001it [00:02, 413.51it/s, env_step=4000, gradient_step=400, len=0, n/ep=0, n/st=100, rew=0.00]                                                                                         \n"
     ]
    },
    {
     "name": "stdout",
     "output_type": "stream",
     "text": [
      "Epoch #4: test_reward: 15245.200000 ± 3989.771267, best_reward: 15245.200000 ± 3989.771267 in #4\n"
     ]
    },
    {
     "name": "stderr",
     "output_type": "stream",
     "text": [
      "Epoch #5: 1001it [00:02, 499.31it/s, env_step=5000, gradient_step=500, len=0, n/ep=0, n/st=100, rew=0.00]                                                                                         \n"
     ]
    },
    {
     "name": "stdout",
     "output_type": "stream",
     "text": [
      "Epoch #5: test_reward: 11411.400000 ± 3528.710592, best_reward: 15245.200000 ± 3989.771267 in #4\n"
     ]
    },
    {
     "name": "stderr",
     "output_type": "stream",
     "text": [
      "Epoch #6: 1001it [00:02, 462.34it/s, env_step=6000, gradient_step=600, len=0, n/ep=0, n/st=100, rew=0.00]                                                                                         \n"
     ]
    },
    {
     "name": "stdout",
     "output_type": "stream",
     "text": [
      "Epoch #6: test_reward: 7476.000000 ± 3410.030381, best_reward: 15245.200000 ± 3989.771267 in #4\n"
     ]
    },
    {
     "name": "stderr",
     "output_type": "stream",
     "text": [
      "Epoch #7: 1001it [00:02, 443.77it/s, env_step=7000, gradient_step=700, len=0, n/ep=0, n/st=100, rew=0.00]                                                                                         \n"
     ]
    },
    {
     "name": "stdout",
     "output_type": "stream",
     "text": [
      "Epoch #7: test_reward: 6732.400000 ± 3160.446779, best_reward: 15245.200000 ± 3989.771267 in #4\n"
     ]
    },
    {
     "name": "stderr",
     "output_type": "stream",
     "text": [
      "Epoch #8: 1001it [00:02, 479.43it/s, env_step=8000, gradient_step=800, len=0, n/ep=0, n/st=100, rew=0.00]                                                                                         \n"
     ]
    },
    {
     "name": "stdout",
     "output_type": "stream",
     "text": [
      "Epoch #8: test_reward: 6058.200000 ± 2382.176895, best_reward: 15245.200000 ± 3989.771267 in #4\n"
     ]
    },
    {
     "name": "stderr",
     "output_type": "stream",
     "text": [
      "Epoch #9: 1001it [00:02, 378.22it/s, env_step=9000, gradient_step=900, len=0, n/ep=0, n/st=100, rew=0.00]                                                                                         \n"
     ]
    },
    {
     "name": "stdout",
     "output_type": "stream",
     "text": [
      "Epoch #9: test_reward: 3318.400000 ± 2381.469933, best_reward: 15245.200000 ± 3989.771267 in #4\n"
     ]
    },
    {
     "name": "stderr",
     "output_type": "stream",
     "text": [
      "Epoch #10: 1001it [00:02, 431.64it/s, env_step=10000, gradient_step=1000, len=0, n/ep=0, n/st=100, rew=0.00]                                                                                      \n"
     ]
    },
    {
     "name": "stdout",
     "output_type": "stream",
     "text": [
      "Epoch #10: test_reward: 6799.200000 ± 2387.810244, best_reward: 15245.200000 ± 3989.771267 in #4\n"
     ]
    },
    {
     "name": "stderr",
     "output_type": "stream",
     "text": [
      "Epoch #11: 1001it [00:01, 521.30it/s, env_step=11000, gradient_step=1100, len=105, n/ep=0, n/st=100, rew=3354.00]                                                                                 \n"
     ]
    },
    {
     "name": "stdout",
     "output_type": "stream",
     "text": [
      "Epoch #11: test_reward: 2449.500000 ± 1574.042137, best_reward: 15245.200000 ± 3989.771267 in #4\n"
     ]
    },
    {
     "name": "stderr",
     "output_type": "stream",
     "text": [
      "Epoch #12: 1001it [00:02, 446.03it/s, env_step=12000, gradient_step=1200, len=119, n/ep=0, n/st=100, rew=5367.00]                                                                                 \n"
     ]
    },
    {
     "name": "stdout",
     "output_type": "stream",
     "text": [
      "Epoch #12: test_reward: 7494.700000 ± 4132.915752, best_reward: 15245.200000 ± 3989.771267 in #4\n"
     ]
    },
    {
     "name": "stderr",
     "output_type": "stream",
     "text": [
      "Epoch #13: 1001it [00:02, 495.70it/s, env_step=13000, gradient_step=1300, len=125, n/ep=0, n/st=100, rew=5343.00]                                                                                 \n"
     ]
    },
    {
     "name": "stdout",
     "output_type": "stream",
     "text": [
      "Epoch #13: test_reward: 11640.700000 ± 4697.829117, best_reward: 15245.200000 ± 3989.771267 in #4\n"
     ]
    },
    {
     "name": "stderr",
     "output_type": "stream",
     "text": [
      "Epoch #14: 1001it [00:02, 468.76it/s, env_step=14000, gradient_step=1400, len=35, n/ep=1, n/st=100, rew=1183.00]                                                                                  \n"
     ]
    },
    {
     "name": "stdout",
     "output_type": "stream",
     "text": [
      "Epoch #14: test_reward: 9241.500000 ± 3222.975434, best_reward: 15245.200000 ± 3989.771267 in #4\n"
     ]
    },
    {
     "name": "stderr",
     "output_type": "stream",
     "text": [
      "Epoch #15: 1001it [00:02, 382.41it/s, env_step=15000, gradient_step=1500, len=35, n/ep=0, n/st=100, rew=1183.00]                                                                                  \n"
     ]
    },
    {
     "name": "stdout",
     "output_type": "stream",
     "text": [
      "Epoch #15: test_reward: 4245.000000 ± 2530.038933, best_reward: 15245.200000 ± 3989.771267 in #4\n"
     ]
    },
    {
     "name": "stderr",
     "output_type": "stream",
     "text": [
      "Epoch #16: 1001it [00:02, 442.46it/s, env_step=16000, gradient_step=1600, len=156, n/ep=0, n/st=100, rew=7437.00]                                                                                 \n"
     ]
    },
    {
     "name": "stdout",
     "output_type": "stream",
     "text": [
      "Epoch #16: test_reward: 13175.000000 ± 4002.501318, best_reward: 15245.200000 ± 3989.771267 in #4\n"
     ]
    },
    {
     "name": "stderr",
     "output_type": "stream",
     "text": [
      "Epoch #17: 1001it [00:02, 484.52it/s, env_step=17000, gradient_step=1700, len=169, n/ep=0, n/st=100, rew=8269.50]                                                                                 \n"
     ]
    },
    {
     "name": "stdout",
     "output_type": "stream",
     "text": [
      "Epoch #17: test_reward: 11897.800000 ± 7354.188165, best_reward: 15245.200000 ± 3989.771267 in #4\n"
     ]
    },
    {
     "name": "stderr",
     "output_type": "stream",
     "text": [
      "Epoch #18: 1001it [00:02, 416.14it/s, env_step=18000, gradient_step=1800, len=177, n/ep=0, n/st=100, rew=9344.00]                                                                                 \n"
     ]
    },
    {
     "name": "stdout",
     "output_type": "stream",
     "text": [
      "Epoch #18: test_reward: 2619.400000 ± 1601.622190, best_reward: 15245.200000 ± 3989.771267 in #4\n"
     ]
    },
    {
     "name": "stderr",
     "output_type": "stream",
     "text": [
      "Epoch #19: 1001it [00:02, 364.87it/s, env_step=19000, gradient_step=1900, len=189, n/ep=0, n/st=100, rew=10223.00]                                                                                \n"
     ]
    },
    {
     "name": "stdout",
     "output_type": "stream",
     "text": [
      "Epoch #19: test_reward: 10877.500000 ± 5920.420682, best_reward: 15245.200000 ± 3989.771267 in #4\n"
     ]
    },
    {
     "name": "stderr",
     "output_type": "stream",
     "text": [
      "Epoch #20: 1001it [00:02, 405.18it/s, env_step=20000, gradient_step=2000, len=198, n/ep=0, n/st=100, rew=9925.00]                                                                                 \n"
     ]
    },
    {
     "name": "stdout",
     "output_type": "stream",
     "text": [
      "Epoch #20: test_reward: 12648.400000 ± 5523.547976, best_reward: 15245.200000 ± 3989.771267 in #4\n"
     ]
    },
    {
     "name": "stderr",
     "output_type": "stream",
     "text": [
      "Epoch #21: 1001it [00:02, 495.84it/s, env_step=21000, gradient_step=2100, len=207, n/ep=0, n/st=100, rew=10632.00]                                                                                \n"
     ]
    },
    {
     "name": "stdout",
     "output_type": "stream",
     "text": [
      "Epoch #21: test_reward: 12427.500000 ± 5160.146631, best_reward: 15245.200000 ± 3989.771267 in #4\n"
     ]
    },
    {
     "name": "stderr",
     "output_type": "stream",
     "text": [
      "Epoch #22: 1001it [00:02, 466.08it/s, env_step=22000, gradient_step=2200, len=218, n/ep=0, n/st=100, rew=12105.00]                                                                                \n"
     ]
    },
    {
     "name": "stdout",
     "output_type": "stream",
     "text": [
      "Epoch #22: test_reward: 9959.200000 ± 1991.152269, best_reward: 15245.200000 ± 3989.771267 in #4\n"
     ]
    },
    {
     "name": "stderr",
     "output_type": "stream",
     "text": [
      "Epoch #23: 1001it [00:02, 419.75it/s, env_step=23000, gradient_step=2300, len=229, n/ep=0, n/st=100, rew=13197.00]                                                                                \n"
     ]
    },
    {
     "name": "stdout",
     "output_type": "stream",
     "text": [
      "Epoch #23: test_reward: 9365.800000 ± 4984.352351, best_reward: 15245.200000 ± 3989.771267 in #4\n"
     ]
    },
    {
     "name": "stderr",
     "output_type": "stream",
     "text": [
      "Epoch #24: 1001it [00:02, 390.50it/s, env_step=24000, gradient_step=2400, len=233, n/ep=0, n/st=100, rew=13053.00]                                                                                \n"
     ]
    },
    {
     "name": "stdout",
     "output_type": "stream",
     "text": [
      "Epoch #24: test_reward: 17063.200000 ± 3829.718627, best_reward: 17063.200000 ± 3829.718627 in #24\n"
     ]
    },
    {
     "name": "stderr",
     "output_type": "stream",
     "text": [
      "Epoch #25: 1001it [00:02, 466.73it/s, env_step=25000, gradient_step=2500, len=250, n/ep=1, n/st=100, rew=13343.00]                                                                                \n"
     ]
    },
    {
     "name": "stdout",
     "output_type": "stream",
     "text": [
      "Epoch #25: test_reward: 14646.400000 ± 4741.913647, best_reward: 17063.200000 ± 3829.718627 in #24\n"
     ]
    },
    {
     "name": "stderr",
     "output_type": "stream",
     "text": [
      "Epoch #26: 1001it [00:02, 397.51it/s, env_step=26000, gradient_step=2600, len=259, n/ep=0, n/st=100, rew=13944.50]                                                                                \n"
     ]
    },
    {
     "name": "stdout",
     "output_type": "stream",
     "text": [
      "Epoch #26: test_reward: 6476.800000 ± 3341.583242, best_reward: 17063.200000 ± 3829.718627 in #24\n"
     ]
    },
    {
     "name": "stderr",
     "output_type": "stream",
     "text": [
      "Epoch #27: 1001it [00:02, 462.55it/s, env_step=27000, gradient_step=2700, len=269, n/ep=0, n/st=100, rew=15168.00]                                                                                \n"
     ]
    },
    {
     "name": "stdout",
     "output_type": "stream",
     "text": [
      "Epoch #27: test_reward: 9037.400000 ± 2196.164302, best_reward: 17063.200000 ± 3829.718627 in #24\n"
     ]
    },
    {
     "name": "stderr",
     "output_type": "stream",
     "text": [
      "Epoch #28: 1001it [00:02, 374.71it/s, env_step=28000, gradient_step=2800, len=280, n/ep=2, n/st=100, rew=16428.50]                                                                                \n"
     ]
    },
    {
     "name": "stdout",
     "output_type": "stream",
     "text": [
      "Epoch #28: test_reward: 10054.000000 ± 2796.126785, best_reward: 17063.200000 ± 3829.718627 in #24\n"
     ]
    },
    {
     "name": "stderr",
     "output_type": "stream",
     "text": [
      "Epoch #29: 1001it [00:02, 389.77it/s, env_step=29000, gradient_step=2900, len=288, n/ep=0, n/st=100, rew=14580.00]                                                                                \n"
     ]
    },
    {
     "name": "stdout",
     "output_type": "stream",
     "text": [
      "Epoch #29: test_reward: 7069.400000 ± 4695.186305, best_reward: 17063.200000 ± 3829.718627 in #24\n"
     ]
    },
    {
     "name": "stderr",
     "output_type": "stream",
     "text": [
      "Epoch #30: 1001it [00:02, 419.61it/s, env_step=30000, gradient_step=3000, len=296, n/ep=0, n/st=100, rew=15969.50]                                                                                \n"
     ]
    },
    {
     "name": "stdout",
     "output_type": "stream",
     "text": [
      "Epoch #30: test_reward: 9732.600000 ± 2796.020322, best_reward: 17063.200000 ± 3829.718627 in #24\n"
     ]
    },
    {
     "name": "stderr",
     "output_type": "stream",
     "text": [
      "Epoch #31: 1001it [00:02, 383.43it/s, env_step=31000, gradient_step=3100, len=310, n/ep=1, n/st=100, rew=18263.50]                                                                                \n"
     ]
    },
    {
     "name": "stdout",
     "output_type": "stream",
     "text": [
      "Epoch #31: test_reward: 13600.600000 ± 5159.882115, best_reward: 17063.200000 ± 3829.718627 in #24\n"
     ]
    },
    {
     "name": "stderr",
     "output_type": "stream",
     "text": [
      "Epoch #32: 1001it [00:02, 358.58it/s, env_step=32000, gradient_step=3200, len=320, n/ep=1, n/st=100, rew=18795.00]                                                                                \n"
     ]
    },
    {
     "name": "stdout",
     "output_type": "stream",
     "text": [
      "Epoch #32: test_reward: 15676.000000 ± 5290.091417, best_reward: 17063.200000 ± 3829.718627 in #24\n"
     ]
    },
    {
     "name": "stderr",
     "output_type": "stream",
     "text": [
      "Epoch #33: 1001it [00:02, 391.39it/s, env_step=33000, gradient_step=3300, len=328, n/ep=0, n/st=100, rew=19323.50]                                                                                \n"
     ]
    },
    {
     "name": "stdout",
     "output_type": "stream",
     "text": [
      "Epoch #33: test_reward: 13569.000000 ± 5212.920659, best_reward: 17063.200000 ± 3829.718627 in #24\n"
     ]
    },
    {
     "name": "stderr",
     "output_type": "stream",
     "text": [
      "Epoch #34: 1001it [00:02, 426.80it/s, env_step=34000, gradient_step=3400, len=238, n/ep=2, n/st=100, rew=13997.75]                                                                                \n"
     ]
    },
    {
     "name": "stdout",
     "output_type": "stream",
     "text": [
      "Epoch #34: test_reward: 7772.200000 ± 4741.360096, best_reward: 17063.200000 ± 3829.718627 in #24\n"
     ]
    },
    {
     "name": "stderr",
     "output_type": "stream",
     "text": [
      "Epoch #35: 1001it [00:02, 397.38it/s, env_step=35000, gradient_step=3500, len=350, n/ep=1, n/st=100, rew=21731.50]                                                                                \n"
     ]
    },
    {
     "name": "stdout",
     "output_type": "stream",
     "text": [
      "Epoch #35: test_reward: 13037.900000 ± 6098.850850, best_reward: 17063.200000 ± 3829.718627 in #24\n"
     ]
    },
    {
     "name": "stderr",
     "output_type": "stream",
     "text": [
      "Epoch #36: 1001it [00:02, 351.25it/s, env_step=36000, gradient_step=3600, len=233, n/ep=0, n/st=100, rew=12207.00]                                                                                \n"
     ]
    },
    {
     "name": "stdout",
     "output_type": "stream",
     "text": [
      "Epoch #36: test_reward: 12509.200000 ± 6018.456261, best_reward: 17063.200000 ± 3829.718627 in #24\n"
     ]
    },
    {
     "name": "stderr",
     "output_type": "stream",
     "text": [
      "Epoch #37: 1001it [00:03, 331.90it/s, env_step=37000, gradient_step=3700, len=121, n/ep=0, n/st=100, rew=6258.00]                                                                                 \n"
     ]
    },
    {
     "name": "stdout",
     "output_type": "stream",
     "text": [
      "Epoch #37: test_reward: 9872.100000 ± 2985.827438, best_reward: 17063.200000 ± 3829.718627 in #24\n"
     ]
    },
    {
     "name": "stderr",
     "output_type": "stream",
     "text": [
      "Epoch #38: 1001it [00:02, 363.70it/s, env_step=38000, gradient_step=3800, len=201, n/ep=0, n/st=100, rew=11386.00]                                                                                \n"
     ]
    },
    {
     "name": "stdout",
     "output_type": "stream",
     "text": [
      "Epoch #38: test_reward: 12950.500000 ± 4487.144732, best_reward: 17063.200000 ± 3829.718627 in #24\n"
     ]
    },
    {
     "name": "stderr",
     "output_type": "stream",
     "text": [
      "Epoch #39: 1001it [00:02, 343.50it/s, env_step=39000, gradient_step=3900, len=61, n/ep=0, n/st=100, rew=2810.00]                                                                                  \n"
     ]
    },
    {
     "name": "stdout",
     "output_type": "stream",
     "text": [
      "Epoch #39: test_reward: 11585.100000 ± 5286.910297, best_reward: 17063.200000 ± 3829.718627 in #24\n"
     ]
    },
    {
     "name": "stderr",
     "output_type": "stream",
     "text": [
      "Epoch #40: 1001it [00:02, 342.77it/s, env_step=40000, gradient_step=4000, len=400, n/ep=5, n/st=100, rew=24555.20]                                                                                \n"
     ]
    },
    {
     "name": "stdout",
     "output_type": "stream",
     "text": [
      "Epoch #40: test_reward: 6167.500000 ± 2871.814731, best_reward: 17063.200000 ± 3829.718627 in #24\n"
     ]
    },
    {
     "name": "stderr",
     "output_type": "stream",
     "text": [
      "Epoch #41: 1001it [00:02, 334.66it/s, env_step=41000, gradient_step=4100, len=138, n/ep=0, n/st=100, rew=7117.00]                                                                                 \n"
     ]
    },
    {
     "name": "stdout",
     "output_type": "stream",
     "text": [
      "Epoch #41: test_reward: 15316.600000 ± 7893.074701, best_reward: 17063.200000 ± 3829.718627 in #24\n"
     ]
    },
    {
     "name": "stderr",
     "output_type": "stream",
     "text": [
      "Epoch #42: 1001it [00:03, 312.05it/s, env_step=42000, gradient_step=4200, len=135, n/ep=0, n/st=100, rew=5828.50]                                                                                 \n"
     ]
    },
    {
     "name": "stdout",
     "output_type": "stream",
     "text": [
      "Epoch #42: test_reward: 13358.100000 ± 5520.419159, best_reward: 17063.200000 ± 3829.718627 in #24\n"
     ]
    },
    {
     "name": "stderr",
     "output_type": "stream",
     "text": [
      "Epoch #43: 1001it [00:02, 352.76it/s, env_step=43000, gradient_step=4300, len=174, n/ep=1, n/st=100, rew=9903.00]                                                                                 \n"
     ]
    },
    {
     "name": "stdout",
     "output_type": "stream",
     "text": [
      "Epoch #43: test_reward: 12943.400000 ± 6804.532140, best_reward: 17063.200000 ± 3829.718627 in #24\n"
     ]
    },
    {
     "name": "stderr",
     "output_type": "stream",
     "text": [
      "Epoch #44: 1001it [00:02, 422.68it/s, env_step=44000, gradient_step=4400, len=233, n/ep=1, n/st=100, rew=12735.50]                                                                                \n"
     ]
    },
    {
     "name": "stdout",
     "output_type": "stream",
     "text": [
      "Epoch #44: test_reward: 9844.300000 ± 3066.540267, best_reward: 17063.200000 ± 3829.718627 in #24\n"
     ]
    },
    {
     "name": "stderr",
     "output_type": "stream",
     "text": [
      "Epoch #45: 1001it [00:02, 412.39it/s, env_step=45000, gradient_step=4500, len=196, n/ep=0, n/st=100, rew=11888.50]                                                                                \n"
     ]
    },
    {
     "name": "stdout",
     "output_type": "stream",
     "text": [
      "Epoch #45: test_reward: 6753.900000 ± 3016.518107, best_reward: 17063.200000 ± 3829.718627 in #24\n"
     ]
    },
    {
     "name": "stderr",
     "output_type": "stream",
     "text": [
      "Epoch #46: 1001it [00:02, 351.95it/s, env_step=46000, gradient_step=4600, len=189, n/ep=0, n/st=100, rew=8359.00]                                                                                 \n"
     ]
    },
    {
     "name": "stdout",
     "output_type": "stream",
     "text": [
      "Epoch #46: test_reward: 14132.800000 ± 2054.932447, best_reward: 17063.200000 ± 3829.718627 in #24\n"
     ]
    },
    {
     "name": "stderr",
     "output_type": "stream",
     "text": [
      "Epoch #47: 1001it [00:02, 402.68it/s, env_step=47000, gradient_step=4700, len=205, n/ep=0, n/st=100, rew=10581.00]                                                                                \n"
     ]
    },
    {
     "name": "stdout",
     "output_type": "stream",
     "text": [
      "Epoch #47: test_reward: 14768.700000 ± 4587.859262, best_reward: 17063.200000 ± 3829.718627 in #24\n"
     ]
    },
    {
     "name": "stderr",
     "output_type": "stream",
     "text": [
      "Epoch #48: 1001it [00:02, 392.05it/s, env_step=48000, gradient_step=4800, len=164, n/ep=2, n/st=100, rew=8398.50]                                                                                 \n"
     ]
    },
    {
     "name": "stdout",
     "output_type": "stream",
     "text": [
      "Epoch #48: test_reward: 18442.400000 ± 5267.454304, best_reward: 18442.400000 ± 5267.454304 in #48\n"
     ]
    },
    {
     "name": "stderr",
     "output_type": "stream",
     "text": [
      "Epoch #49: 1001it [00:02, 414.58it/s, env_step=49000, gradient_step=4900, len=202, n/ep=1, n/st=100, rew=11152.00]                                                                                \n"
     ]
    },
    {
     "name": "stdout",
     "output_type": "stream",
     "text": [
      "Epoch #49: test_reward: 14751.400000 ± 6691.628250, best_reward: 18442.400000 ± 5267.454304 in #48\n"
     ]
    },
    {
     "name": "stderr",
     "output_type": "stream",
     "text": [
      "Epoch #50: 1001it [00:02, 405.65it/s, env_step=50000, gradient_step=5000, len=203, n/ep=0, n/st=100, rew=12370.00]                                                                                \n"
     ]
    },
    {
     "name": "stdout",
     "output_type": "stream",
     "text": [
      "Epoch #50: test_reward: 11440.000000 ± 2998.181449, best_reward: 18442.400000 ± 5267.454304 in #48\n"
     ]
    },
    {
     "name": "stderr",
     "output_type": "stream",
     "text": [
      "Epoch #51: 1001it [00:02, 398.32it/s, env_step=51000, gradient_step=5100, len=254, n/ep=1, n/st=100, rew=15614.00]                                                                                \n"
     ]
    },
    {
     "name": "stdout",
     "output_type": "stream",
     "text": [
      "Epoch #51: test_reward: 13095.000000 ± 4955.562672, best_reward: 18442.400000 ± 5267.454304 in #48\n"
     ]
    },
    {
     "name": "stderr",
     "output_type": "stream",
     "text": [
      "Epoch #52: 1001it [00:02, 344.49it/s, env_step=52000, gradient_step=5200, len=155, n/ep=1, n/st=100, rew=9272.50]                                                                                 \n"
     ]
    },
    {
     "name": "stdout",
     "output_type": "stream",
     "text": [
      "Epoch #52: test_reward: 11795.000000 ± 2308.565312, best_reward: 18442.400000 ± 5267.454304 in #48\n"
     ]
    },
    {
     "name": "stderr",
     "output_type": "stream",
     "text": [
      "Epoch #53: 1001it [00:02, 381.90it/s, env_step=53000, gradient_step=5300, len=238, n/ep=1, n/st=100, rew=14185.00]                                                                                \n"
     ]
    },
    {
     "name": "stdout",
     "output_type": "stream",
     "text": [
      "Epoch #53: test_reward: 12155.800000 ± 3233.638502, best_reward: 18442.400000 ± 5267.454304 in #48\n"
     ]
    },
    {
     "name": "stderr",
     "output_type": "stream",
     "text": [
      "Epoch #54: 1001it [00:02, 363.73it/s, env_step=54000, gradient_step=5400, len=216, n/ep=3, n/st=100, rew=12765.00]                                                                                \n"
     ]
    },
    {
     "name": "stdout",
     "output_type": "stream",
     "text": [
      "Epoch #54: test_reward: 12899.000000 ± 4331.483510, best_reward: 18442.400000 ± 5267.454304 in #48\n"
     ]
    },
    {
     "name": "stderr",
     "output_type": "stream",
     "text": [
      "Epoch #55: 1001it [00:02, 445.90it/s, env_step=55000, gradient_step=5500, len=185, n/ep=0, n/st=100, rew=10632.75]                                                                                \n"
     ]
    },
    {
     "name": "stdout",
     "output_type": "stream",
     "text": [
      "Epoch #55: test_reward: 14776.800000 ± 5844.608966, best_reward: 18442.400000 ± 5267.454304 in #48\n"
     ]
    },
    {
     "name": "stderr",
     "output_type": "stream",
     "text": [
      "Epoch #56: 1001it [00:02, 392.59it/s, env_step=56000, gradient_step=5600, len=89, n/ep=1, n/st=100, rew=4208.00]                                                                                  \n"
     ]
    },
    {
     "name": "stdout",
     "output_type": "stream",
     "text": [
      "Epoch #56: test_reward: 13697.900000 ± 4659.087860, best_reward: 18442.400000 ± 5267.454304 in #48\n"
     ]
    },
    {
     "name": "stderr",
     "output_type": "stream",
     "text": [
      "Epoch #57: 1001it [00:02, 385.14it/s, env_step=57000, gradient_step=5700, len=106, n/ep=0, n/st=100, rew=5870.00]                                                                                 \n"
     ]
    },
    {
     "name": "stdout",
     "output_type": "stream",
     "text": [
      "Epoch #57: test_reward: 15427.500000 ± 3799.169337, best_reward: 18442.400000 ± 5267.454304 in #48\n"
     ]
    },
    {
     "name": "stderr",
     "output_type": "stream",
     "text": [
      "Epoch #58: 1001it [00:02, 409.19it/s, env_step=58000, gradient_step=5800, len=133, n/ep=1, n/st=100, rew=6846.50]                                                                                 \n"
     ]
    },
    {
     "name": "stdout",
     "output_type": "stream",
     "text": [
      "Epoch #58: test_reward: 8072.000000 ± 2813.586039, best_reward: 18442.400000 ± 5267.454304 in #48\n"
     ]
    },
    {
     "name": "stderr",
     "output_type": "stream",
     "text": [
      "Epoch #59: 1001it [00:02, 381.77it/s, env_step=59000, gradient_step=5900, len=326, n/ep=1, n/st=100, rew=21342.00]                                                                                \n"
     ]
    },
    {
     "name": "stdout",
     "output_type": "stream",
     "text": [
      "Epoch #59: test_reward: 14747.800000 ± 5397.018136, best_reward: 18442.400000 ± 5267.454304 in #48\n"
     ]
    },
    {
     "name": "stderr",
     "output_type": "stream",
     "text": [
      "Epoch #60: 1001it [00:02, 362.02it/s, env_step=60000, gradient_step=6000, len=154, n/ep=0, n/st=100, rew=9139.75]                                                                                 \n"
     ]
    },
    {
     "name": "stdout",
     "output_type": "stream",
     "text": [
      "Epoch #60: test_reward: 11620.500000 ± 5650.467171, best_reward: 18442.400000 ± 5267.454304 in #48\n"
     ]
    },
    {
     "name": "stderr",
     "output_type": "stream",
     "text": [
      "Epoch #61: 1001it [00:02, 459.39it/s, env_step=61000, gradient_step=6100, len=173, n/ep=0, n/st=100, rew=9504.75]                                                                                 \n"
     ]
    },
    {
     "name": "stdout",
     "output_type": "stream",
     "text": [
      "Epoch #61: test_reward: 15041.700000 ± 3170.766502, best_reward: 18442.400000 ± 5267.454304 in #48\n"
     ]
    },
    {
     "name": "stderr",
     "output_type": "stream",
     "text": [
      "Epoch #62: 1001it [00:02, 410.02it/s, env_step=62000, gradient_step=6200, len=339, n/ep=0, n/st=100, rew=21597.00]                                                                                \n"
     ]
    },
    {
     "name": "stdout",
     "output_type": "stream",
     "text": [
      "Epoch #62: test_reward: 17673.900000 ± 7064.385571, best_reward: 18442.400000 ± 5267.454304 in #48\n"
     ]
    },
    {
     "name": "stderr",
     "output_type": "stream",
     "text": [
      "Epoch #63: 1001it [00:02, 397.73it/s, env_step=63000, gradient_step=6300, len=190, n/ep=1, n/st=100, rew=8832.00]                                                                                 \n"
     ]
    },
    {
     "name": "stdout",
     "output_type": "stream",
     "text": [
      "Epoch #63: test_reward: 9586.300000 ± 5243.579828, best_reward: 18442.400000 ± 5267.454304 in #48\n"
     ]
    },
    {
     "name": "stderr",
     "output_type": "stream",
     "text": [
      "Epoch #64: 1001it [00:02, 445.05it/s, env_step=64000, gradient_step=6400, len=223, n/ep=0, n/st=100, rew=13199.50]                                                                                \n"
     ]
    },
    {
     "name": "stdout",
     "output_type": "stream",
     "text": [
      "Epoch #64: test_reward: 11464.000000 ± 5102.816869, best_reward: 18442.400000 ± 5267.454304 in #48\n"
     ]
    },
    {
     "name": "stderr",
     "output_type": "stream",
     "text": [
      "Epoch #65: 1001it [00:02, 440.23it/s, env_step=65000, gradient_step=6500, len=218, n/ep=0, n/st=100, rew=11517.00]                                                                                \n"
     ]
    },
    {
     "name": "stdout",
     "output_type": "stream",
     "text": [
      "Epoch #65: test_reward: 10771.400000 ± 4999.381886, best_reward: 18442.400000 ± 5267.454304 in #48\n"
     ]
    },
    {
     "name": "stderr",
     "output_type": "stream",
     "text": [
      "Epoch #66: 1001it [00:02, 389.88it/s, env_step=66000, gradient_step=6600, len=163, n/ep=1, n/st=100, rew=9469.00]                                                                                 \n"
     ]
    },
    {
     "name": "stdout",
     "output_type": "stream",
     "text": [
      "Epoch #66: test_reward: 17624.500000 ± 5307.078787, best_reward: 18442.400000 ± 5267.454304 in #48\n"
     ]
    },
    {
     "name": "stderr",
     "output_type": "stream",
     "text": [
      "Epoch #67: 1001it [00:02, 426.23it/s, env_step=67000, gradient_step=6700, len=215, n/ep=1, n/st=100, rew=12720.50]                                                                                \n"
     ]
    },
    {
     "name": "stdout",
     "output_type": "stream",
     "text": [
      "Epoch #67: test_reward: 14552.400000 ± 3234.398343, best_reward: 18442.400000 ± 5267.454304 in #48\n"
     ]
    },
    {
     "name": "stderr",
     "output_type": "stream",
     "text": [
      "Epoch #68: 1001it [00:02, 415.31it/s, env_step=68000, gradient_step=6800, len=198, n/ep=1, n/st=100, rew=8805.00]                                                                                 \n"
     ]
    },
    {
     "name": "stdout",
     "output_type": "stream",
     "text": [
      "Epoch #68: test_reward: 13541.700000 ± 5097.963006, best_reward: 18442.400000 ± 5267.454304 in #48\n"
     ]
    },
    {
     "name": "stderr",
     "output_type": "stream",
     "text": [
      "Epoch #69: 1001it [00:02, 374.03it/s, env_step=69000, gradient_step=6900, len=207, n/ep=0, n/st=100, rew=10718.00]                                                                                \n"
     ]
    },
    {
     "name": "stdout",
     "output_type": "stream",
     "text": [
      "Epoch #69: test_reward: 10727.300000 ± 3692.576879, best_reward: 18442.400000 ± 5267.454304 in #48\n"
     ]
    },
    {
     "name": "stderr",
     "output_type": "stream",
     "text": [
      "Epoch #70: 1001it [00:02, 347.65it/s, env_step=70000, gradient_step=7000, len=76, n/ep=1, n/st=100, rew=3063.50]                                                                                  \n"
     ]
    },
    {
     "name": "stdout",
     "output_type": "stream",
     "text": [
      "Epoch #70: test_reward: 13970.800000 ± 3848.172886, best_reward: 18442.400000 ± 5267.454304 in #48\n"
     ]
    },
    {
     "name": "stderr",
     "output_type": "stream",
     "text": [
      "Epoch #71: 1001it [00:02, 421.82it/s, env_step=71000, gradient_step=7100, len=117, n/ep=0, n/st=100, rew=5889.00]                                                                                 \n"
     ]
    },
    {
     "name": "stdout",
     "output_type": "stream",
     "text": [
      "Epoch #71: test_reward: 10982.900000 ± 5393.641635, best_reward: 18442.400000 ± 5267.454304 in #48\n"
     ]
    },
    {
     "name": "stderr",
     "output_type": "stream",
     "text": [
      "Epoch #72: 1001it [00:02, 394.94it/s, env_step=72000, gradient_step=7200, len=207, n/ep=0, n/st=100, rew=11704.67]                                                                                \n"
     ]
    },
    {
     "name": "stdout",
     "output_type": "stream",
     "text": [
      "Epoch #72: test_reward: 12660.400000 ± 6123.362593, best_reward: 18442.400000 ± 5267.454304 in #48\n"
     ]
    },
    {
     "name": "stderr",
     "output_type": "stream",
     "text": [
      "Epoch #73: 1001it [00:02, 418.41it/s, env_step=73000, gradient_step=7300, len=98, n/ep=0, n/st=100, rew=5162.00]                                                                                  \n"
     ]
    },
    {
     "name": "stdout",
     "output_type": "stream",
     "text": [
      "Epoch #73: test_reward: 14101.700000 ± 5212.973548, best_reward: 18442.400000 ± 5267.454304 in #48\n"
     ]
    },
    {
     "name": "stderr",
     "output_type": "stream",
     "text": [
      "Epoch #74: 1001it [00:02, 401.50it/s, env_step=74000, gradient_step=7400, len=198, n/ep=0, n/st=100, rew=12486.50]                                                                                \n"
     ]
    },
    {
     "name": "stdout",
     "output_type": "stream",
     "text": [
      "Epoch #74: test_reward: 14852.900000 ± 6029.205212, best_reward: 18442.400000 ± 5267.454304 in #48\n"
     ]
    },
    {
     "name": "stderr",
     "output_type": "stream",
     "text": [
      "Epoch #75: 1001it [00:02, 397.72it/s, env_step=75000, gradient_step=7500, len=155, n/ep=1, n/st=100, rew=8809.00]                                                                                 \n"
     ]
    },
    {
     "name": "stdout",
     "output_type": "stream",
     "text": [
      "Epoch #75: test_reward: 9923.600000 ± 3498.080479, best_reward: 18442.400000 ± 5267.454304 in #48\n"
     ]
    },
    {
     "name": "stderr",
     "output_type": "stream",
     "text": [
      "Epoch #76: 1001it [00:02, 430.37it/s, env_step=76000, gradient_step=7600, len=175, n/ep=0, n/st=100, rew=10715.50]                                                                                \n"
     ]
    },
    {
     "name": "stdout",
     "output_type": "stream",
     "text": [
      "Epoch #76: test_reward: 9633.200000 ± 5163.929992, best_reward: 18442.400000 ± 5267.454304 in #48\n"
     ]
    },
    {
     "name": "stderr",
     "output_type": "stream",
     "text": [
      "Epoch #77: 1001it [00:02, 408.03it/s, env_step=77000, gradient_step=7700, len=79, n/ep=0, n/st=100, rew=2691.00]                                                                                  \n"
     ]
    },
    {
     "name": "stdout",
     "output_type": "stream",
     "text": [
      "Epoch #77: test_reward: 9273.700000 ± 4920.676662, best_reward: 18442.400000 ± 5267.454304 in #48\n"
     ]
    },
    {
     "name": "stderr",
     "output_type": "stream",
     "text": [
      "Epoch #78: 1001it [00:02, 353.23it/s, env_step=78000, gradient_step=7800, len=141, n/ep=1, n/st=100, rew=8443.00]                                                                                 \n"
     ]
    },
    {
     "name": "stdout",
     "output_type": "stream",
     "text": [
      "Epoch #78: test_reward: 10601.200000 ± 5046.355453, best_reward: 18442.400000 ± 5267.454304 in #48\n"
     ]
    },
    {
     "name": "stderr",
     "output_type": "stream",
     "text": [
      "Epoch #79: 1001it [00:02, 417.46it/s, env_step=79000, gradient_step=7900, len=169, n/ep=0, n/st=100, rew=9828.50]                                                                                 \n"
     ]
    },
    {
     "name": "stdout",
     "output_type": "stream",
     "text": [
      "Epoch #79: test_reward: 11694.500000 ± 6765.834660, best_reward: 18442.400000 ± 5267.454304 in #48\n"
     ]
    },
    {
     "name": "stderr",
     "output_type": "stream",
     "text": [
      "Epoch #80: 1001it [00:02, 401.81it/s, env_step=80000, gradient_step=8000, len=142, n/ep=0, n/st=100, rew=7101.00]                                                                                 \n"
     ]
    },
    {
     "name": "stdout",
     "output_type": "stream",
     "text": [
      "Epoch #80: test_reward: 7751.000000 ± 4073.233531, best_reward: 18442.400000 ± 5267.454304 in #48\n"
     ]
    },
    {
     "name": "stderr",
     "output_type": "stream",
     "text": [
      "Epoch #81: 1001it [00:02, 349.92it/s, env_step=81000, gradient_step=8100, len=346, n/ep=0, n/st=100, rew=21965.00]                                                                                \n"
     ]
    },
    {
     "name": "stdout",
     "output_type": "stream",
     "text": [
      "Epoch #81: test_reward: 12100.500000 ± 5589.210879, best_reward: 18442.400000 ± 5267.454304 in #48\n"
     ]
    },
    {
     "name": "stderr",
     "output_type": "stream",
     "text": [
      "Epoch #82: 1001it [00:02, 353.96it/s, env_step=82000, gradient_step=8200, len=130, n/ep=0, n/st=100, rew=6585.00]                                                                                 \n"
     ]
    },
    {
     "name": "stdout",
     "output_type": "stream",
     "text": [
      "Epoch #82: test_reward: 12827.000000 ± 2930.141976, best_reward: 18442.400000 ± 5267.454304 in #48\n"
     ]
    },
    {
     "name": "stderr",
     "output_type": "stream",
     "text": [
      "Epoch #83: 1001it [00:02, 442.38it/s, env_step=83000, gradient_step=8300, len=179, n/ep=1, n/st=100, rew=7435.00]                                                                                 \n"
     ]
    },
    {
     "name": "stdout",
     "output_type": "stream",
     "text": [
      "Epoch #83: test_reward: 14894.000000 ± 4451.335418, best_reward: 18442.400000 ± 5267.454304 in #48\n"
     ]
    },
    {
     "name": "stderr",
     "output_type": "stream",
     "text": [
      "Epoch #84: 1001it [00:03, 331.89it/s, env_step=84000, gradient_step=8400, len=133, n/ep=0, n/st=100, rew=6544.00]                                                                                 \n"
     ]
    },
    {
     "name": "stdout",
     "output_type": "stream",
     "text": [
      "Epoch #84: test_reward: 9558.400000 ± 2917.309418, best_reward: 18442.400000 ± 5267.454304 in #48\n"
     ]
    },
    {
     "name": "stderr",
     "output_type": "stream",
     "text": [
      "Epoch #85: 1001it [00:03, 322.63it/s, env_step=85000, gradient_step=8500, len=189, n/ep=0, n/st=100, rew=10939.67]                                                                                \n"
     ]
    },
    {
     "name": "stdout",
     "output_type": "stream",
     "text": [
      "Epoch #85: test_reward: 10633.400000 ± 2140.176824, best_reward: 18442.400000 ± 5267.454304 in #48\n"
     ]
    },
    {
     "name": "stderr",
     "output_type": "stream",
     "text": [
      "Epoch #86: 1001it [00:03, 331.58it/s, env_step=86000, gradient_step=8600, len=228, n/ep=0, n/st=100, rew=12924.00]                                                                                \n"
     ]
    },
    {
     "name": "stdout",
     "output_type": "stream",
     "text": [
      "Epoch #86: test_reward: 11840.900000 ± 6541.968273, best_reward: 18442.400000 ± 5267.454304 in #48\n"
     ]
    },
    {
     "name": "stderr",
     "output_type": "stream",
     "text": [
      "Epoch #87: 1001it [00:02, 356.10it/s, env_step=87000, gradient_step=8700, len=207, n/ep=0, n/st=100, rew=11978.00]                                                                                \n"
     ]
    },
    {
     "name": "stdout",
     "output_type": "stream",
     "text": [
      "Epoch #87: test_reward: 9944.200000 ± 2253.256745, best_reward: 18442.400000 ± 5267.454304 in #48\n"
     ]
    },
    {
     "name": "stderr",
     "output_type": "stream",
     "text": [
      "Epoch #88: 1001it [00:02, 415.64it/s, env_step=88000, gradient_step=8800, len=131, n/ep=1, n/st=100, rew=6472.00]                                                                                 \n"
     ]
    },
    {
     "name": "stdout",
     "output_type": "stream",
     "text": [
      "Epoch #88: test_reward: 9208.000000 ± 3379.897750, best_reward: 18442.400000 ± 5267.454304 in #48\n"
     ]
    },
    {
     "name": "stderr",
     "output_type": "stream",
     "text": [
      "Epoch #89: 1001it [00:02, 401.13it/s, env_step=89000, gradient_step=8900, len=301, n/ep=1, n/st=100, rew=19154.00]                                                                                \n"
     ]
    },
    {
     "name": "stdout",
     "output_type": "stream",
     "text": [
      "Epoch #89: test_reward: 14179.000000 ± 5976.772055, best_reward: 18442.400000 ± 5267.454304 in #48\n"
     ]
    },
    {
     "name": "stderr",
     "output_type": "stream",
     "text": [
      "Epoch #90: 1001it [00:02, 411.72it/s, env_step=90000, gradient_step=9000, len=330, n/ep=0, n/st=100, rew=21270.00]                                                                                \n"
     ]
    },
    {
     "name": "stdout",
     "output_type": "stream",
     "text": [
      "Epoch #90: test_reward: 14110.200000 ± 2685.219462, best_reward: 18442.400000 ± 5267.454304 in #48\n"
     ]
    },
    {
     "name": "stderr",
     "output_type": "stream",
     "text": [
      "Epoch #91: 1001it [00:02, 415.51it/s, env_step=91000, gradient_step=9100, len=83, n/ep=0, n/st=100, rew=4861.00]                                                                                  \n"
     ]
    },
    {
     "name": "stdout",
     "output_type": "stream",
     "text": [
      "Epoch #91: test_reward: 8306.100000 ± 8563.309039, best_reward: 18442.400000 ± 5267.454304 in #48\n"
     ]
    },
    {
     "name": "stderr",
     "output_type": "stream",
     "text": [
      "Epoch #92: 1001it [00:02, 410.82it/s, env_step=92000, gradient_step=9200, len=175, n/ep=1, n/st=100, rew=10472.50]                                                                                \n"
     ]
    },
    {
     "name": "stdout",
     "output_type": "stream",
     "text": [
      "Epoch #92: test_reward: 17145.200000 ± 6418.773602, best_reward: 18442.400000 ± 5267.454304 in #48\n"
     ]
    },
    {
     "name": "stderr",
     "output_type": "stream",
     "text": [
      "Epoch #93: 1001it [00:03, 322.28it/s, env_step=93000, gradient_step=9300, len=213, n/ep=1, n/st=100, rew=13404.50]                                                                                \n"
     ]
    },
    {
     "name": "stdout",
     "output_type": "stream",
     "text": [
      "Epoch #93: test_reward: 12542.500000 ± 3969.681429, best_reward: 18442.400000 ± 5267.454304 in #48\n"
     ]
    },
    {
     "name": "stderr",
     "output_type": "stream",
     "text": [
      "Epoch #94: 1001it [00:02, 420.86it/s, env_step=94000, gradient_step=9400, len=277, n/ep=0, n/st=100, rew=16857.00]                                                                                \n"
     ]
    },
    {
     "name": "stdout",
     "output_type": "stream",
     "text": [
      "Epoch #94: test_reward: 7537.100000 ± 2553.849348, best_reward: 18442.400000 ± 5267.454304 in #48\n"
     ]
    },
    {
     "name": "stderr",
     "output_type": "stream",
     "text": [
      "Epoch #95: 1001it [00:02, 395.16it/s, env_step=95000, gradient_step=9500, len=205, n/ep=1, n/st=100, rew=12646.00]                                                                                \n"
     ]
    },
    {
     "name": "stdout",
     "output_type": "stream",
     "text": [
      "Epoch #95: test_reward: 18092.600000 ± 4594.630958, best_reward: 18442.400000 ± 5267.454304 in #48\n"
     ]
    },
    {
     "name": "stderr",
     "output_type": "stream",
     "text": [
      "Epoch #96: 1001it [00:02, 426.94it/s, env_step=96000, gradient_step=9600, len=161, n/ep=0, n/st=100, rew=9603.12]                                                                                 \n"
     ]
    },
    {
     "name": "stdout",
     "output_type": "stream",
     "text": [
      "Epoch #96: test_reward: 9127.200000 ± 2396.319044, best_reward: 18442.400000 ± 5267.454304 in #48\n"
     ]
    },
    {
     "name": "stderr",
     "output_type": "stream",
     "text": [
      "Epoch #97: 1001it [00:02, 407.51it/s, env_step=97000, gradient_step=9700, len=243, n/ep=0, n/st=100, rew=13315.00]                                                                                \n"
     ]
    },
    {
     "name": "stdout",
     "output_type": "stream",
     "text": [
      "Epoch #97: test_reward: 18194.200000 ± 5752.907522, best_reward: 18442.400000 ± 5267.454304 in #48\n"
     ]
    },
    {
     "name": "stderr",
     "output_type": "stream",
     "text": [
      "Epoch #98: 1001it [00:02, 350.83it/s, env_step=98000, gradient_step=9800, len=271, n/ep=0, n/st=100, rew=15956.50]                                                                                \n"
     ]
    },
    {
     "name": "stdout",
     "output_type": "stream",
     "text": [
      "Epoch #98: test_reward: 14115.000000 ± 3159.378895, best_reward: 18442.400000 ± 5267.454304 in #48\n"
     ]
    },
    {
     "name": "stderr",
     "output_type": "stream",
     "text": [
      "Epoch #99: 1001it [00:02, 432.37it/s, env_step=99000, gradient_step=9900, len=82, n/ep=0, n/st=100, rew=3603.00]                                                                                  \n"
     ]
    },
    {
     "name": "stdout",
     "output_type": "stream",
     "text": [
      "Epoch #99: test_reward: 13895.100000 ± 4758.043935, best_reward: 18442.400000 ± 5267.454304 in #48\n"
     ]
    },
    {
     "name": "stderr",
     "output_type": "stream",
     "text": [
      "Epoch #100: 1001it [00:02, 361.03it/s, env_step=100000, gradient_step=10000, len=345, n/ep=1, n/st=100, rew=21752.00]                                                                             \n"
     ]
    },
    {
     "name": "stdout",
     "output_type": "stream",
     "text": [
      "Epoch #100: test_reward: 13830.400000 ± 5027.205490, best_reward: 18442.400000 ± 5267.454304 in #48\n"
     ]
    },
    {
     "name": "stderr",
     "output_type": "stream",
     "text": [
      "Epoch #101: 1001it [00:02, 351.42it/s, env_step=101000, gradient_step=10100, len=161, n/ep=0, n/st=100, rew=9174.00]                                                                              \n"
     ]
    },
    {
     "name": "stdout",
     "output_type": "stream",
     "text": [
      "Epoch #101: test_reward: 15032.300000 ± 4459.481630, best_reward: 18442.400000 ± 5267.454304 in #48\n"
     ]
    },
    {
     "name": "stderr",
     "output_type": "stream",
     "text": [
      "Epoch #102: 1001it [00:02, 413.24it/s, env_step=102000, gradient_step=10200, len=379, n/ep=0, n/st=100, rew=25683.00]                                                                             \n"
     ]
    },
    {
     "name": "stdout",
     "output_type": "stream",
     "text": [
      "Epoch #102: test_reward: 16234.600000 ± 5173.767973, best_reward: 18442.400000 ± 5267.454304 in #48\n"
     ]
    },
    {
     "name": "stderr",
     "output_type": "stream",
     "text": [
      "Epoch #103: 1001it [00:02, 432.40it/s, env_step=103000, gradient_step=10300, len=249, n/ep=1, n/st=100, rew=16264.50]                                                                             \n"
     ]
    },
    {
     "name": "stdout",
     "output_type": "stream",
     "text": [
      "Epoch #103: test_reward: 8026.100000 ± 2987.927457, best_reward: 18442.400000 ± 5267.454304 in #48\n"
     ]
    },
    {
     "name": "stderr",
     "output_type": "stream",
     "text": [
      "Epoch #104: 1001it [00:02, 364.17it/s, env_step=104000, gradient_step=10400, len=186, n/ep=0, n/st=100, rew=10443.25]                                                                             \n"
     ]
    },
    {
     "name": "stdout",
     "output_type": "stream",
     "text": [
      "Epoch #104: test_reward: 13347.400000 ± 3342.653443, best_reward: 18442.400000 ± 5267.454304 in #48\n"
     ]
    },
    {
     "name": "stderr",
     "output_type": "stream",
     "text": [
      "Epoch #105: 1001it [00:02, 409.11it/s, env_step=105000, gradient_step=10500, len=184, n/ep=0, n/st=100, rew=10990.00]                                                                             \n"
     ]
    },
    {
     "name": "stdout",
     "output_type": "stream",
     "text": [
      "Epoch #105: test_reward: 13270.600000 ± 4951.849517, best_reward: 18442.400000 ± 5267.454304 in #48\n"
     ]
    },
    {
     "name": "stderr",
     "output_type": "stream",
     "text": [
      "Epoch #106: 1001it [00:02, 415.97it/s, env_step=106000, gradient_step=10600, len=188, n/ep=1, n/st=100, rew=11922.00]                                                                             \n"
     ]
    },
    {
     "name": "stdout",
     "output_type": "stream",
     "text": [
      "Epoch #106: test_reward: 8360.700000 ± 1624.399584, best_reward: 18442.400000 ± 5267.454304 in #48\n"
     ]
    },
    {
     "name": "stderr",
     "output_type": "stream",
     "text": [
      "Epoch #107: 1001it [00:02, 425.66it/s, env_step=107000, gradient_step=10700, len=139, n/ep=0, n/st=100, rew=8305.00]                                                                              \n"
     ]
    },
    {
     "name": "stdout",
     "output_type": "stream",
     "text": [
      "Epoch #107: test_reward: 8563.200000 ± 4616.881302, best_reward: 18442.400000 ± 5267.454304 in #48\n"
     ]
    },
    {
     "name": "stderr",
     "output_type": "stream",
     "text": [
      "Epoch #108: 1001it [00:02, 411.29it/s, env_step=108000, gradient_step=10800, len=400, n/ep=1, n/st=100, rew=24855.00]                                                                             \n"
     ]
    },
    {
     "name": "stdout",
     "output_type": "stream",
     "text": [
      "Epoch #108: test_reward: 18149.400000 ± 6607.655624, best_reward: 18442.400000 ± 5267.454304 in #48\n"
     ]
    },
    {
     "name": "stderr",
     "output_type": "stream",
     "text": [
      "Epoch #109: 1001it [00:02, 423.49it/s, env_step=109000, gradient_step=10900, len=186, n/ep=0, n/st=100, rew=9349.00]                                                                              \n"
     ]
    },
    {
     "name": "stdout",
     "output_type": "stream",
     "text": [
      "Epoch #109: test_reward: 9819.500000 ± 3271.143141, best_reward: 18442.400000 ± 5267.454304 in #48\n"
     ]
    },
    {
     "name": "stderr",
     "output_type": "stream",
     "text": [
      "Epoch #110: 1001it [00:03, 317.08it/s, env_step=110000, gradient_step=11000, len=225, n/ep=3, n/st=100, rew=13796.83]                                                                             \n"
     ]
    },
    {
     "name": "stdout",
     "output_type": "stream",
     "text": [
      "Epoch #110: test_reward: 17365.400000 ± 5804.427417, best_reward: 18442.400000 ± 5267.454304 in #48\n"
     ]
    },
    {
     "name": "stderr",
     "output_type": "stream",
     "text": [
      "Epoch #111: 1001it [00:02, 335.15it/s, env_step=111000, gradient_step=11100, len=152, n/ep=2, n/st=100, rew=8754.50]                                                                              \n"
     ]
    },
    {
     "name": "stdout",
     "output_type": "stream",
     "text": [
      "Epoch #111: test_reward: 14254.700000 ± 5613.504361, best_reward: 18442.400000 ± 5267.454304 in #48\n"
     ]
    },
    {
     "name": "stderr",
     "output_type": "stream",
     "text": [
      "Epoch #112: 1001it [00:03, 326.28it/s, env_step=112000, gradient_step=11200, len=119, n/ep=0, n/st=100, rew=7072.50]                                                                              \n"
     ]
    },
    {
     "name": "stdout",
     "output_type": "stream",
     "text": [
      "Epoch #112: test_reward: 14725.300000 ± 4878.223284, best_reward: 18442.400000 ± 5267.454304 in #48\n"
     ]
    },
    {
     "name": "stderr",
     "output_type": "stream",
     "text": [
      "Epoch #113: 1001it [00:02, 426.32it/s, env_step=113000, gradient_step=11300, len=91, n/ep=0, n/st=100, rew=4940.50]                                                                               \n"
     ]
    },
    {
     "name": "stdout",
     "output_type": "stream",
     "text": [
      "Epoch #113: test_reward: 11010.300000 ± 3031.001552, best_reward: 18442.400000 ± 5267.454304 in #48\n"
     ]
    },
    {
     "name": "stderr",
     "output_type": "stream",
     "text": [
      "Epoch #114: 1001it [00:02, 340.47it/s, env_step=114000, gradient_step=11400, len=214, n/ep=0, n/st=100, rew=12181.00]                                                                             \n"
     ]
    },
    {
     "name": "stdout",
     "output_type": "stream",
     "text": [
      "Epoch #114: test_reward: 16340.700000 ± 3091.477448, best_reward: 18442.400000 ± 5267.454304 in #48\n"
     ]
    },
    {
     "name": "stderr",
     "output_type": "stream",
     "text": [
      "Epoch #115: 1001it [00:02, 358.52it/s, env_step=115000, gradient_step=11500, len=235, n/ep=1, n/st=100, rew=13607.00]                                                                             \n"
     ]
    },
    {
     "name": "stdout",
     "output_type": "stream",
     "text": [
      "Epoch #115: test_reward: 15586.300000 ± 6700.131776, best_reward: 18442.400000 ± 5267.454304 in #48\n"
     ]
    },
    {
     "name": "stderr",
     "output_type": "stream",
     "text": [
      "Epoch #116: 1001it [00:02, 355.88it/s, env_step=116000, gradient_step=11600, len=195, n/ep=1, n/st=100, rew=11489.00]                                                                             \n"
     ]
    },
    {
     "name": "stdout",
     "output_type": "stream",
     "text": [
      "Epoch #116: test_reward: 11027.400000 ± 4954.081150, best_reward: 18442.400000 ± 5267.454304 in #48\n"
     ]
    },
    {
     "name": "stderr",
     "output_type": "stream",
     "text": [
      "Epoch #117: 1001it [00:02, 340.53it/s, env_step=117000, gradient_step=11700, len=157, n/ep=0, n/st=100, rew=8459.00]                                                                              \n"
     ]
    },
    {
     "name": "stdout",
     "output_type": "stream",
     "text": [
      "Epoch #117: test_reward: 17381.900000 ± 6577.245753, best_reward: 18442.400000 ± 5267.454304 in #48\n"
     ]
    },
    {
     "name": "stderr",
     "output_type": "stream",
     "text": [
      "Epoch #118: 1001it [00:02, 341.42it/s, env_step=118000, gradient_step=11800, len=192, n/ep=0, n/st=100, rew=11957.00]                                                                             \n"
     ]
    },
    {
     "name": "stdout",
     "output_type": "stream",
     "text": [
      "Epoch #118: test_reward: 14875.900000 ± 4096.015612, best_reward: 18442.400000 ± 5267.454304 in #48\n"
     ]
    },
    {
     "name": "stderr",
     "output_type": "stream",
     "text": [
      "Epoch #119: 1001it [00:02, 359.07it/s, env_step=119000, gradient_step=11900, len=144, n/ep=0, n/st=100, rew=7921.75]                                                                              \n"
     ]
    },
    {
     "name": "stdout",
     "output_type": "stream",
     "text": [
      "Epoch #119: test_reward: 10407.000000 ± 1762.077921, best_reward: 18442.400000 ± 5267.454304 in #48\n"
     ]
    },
    {
     "name": "stderr",
     "output_type": "stream",
     "text": [
      "Epoch #120: 1001it [00:02, 370.66it/s, env_step=120000, gradient_step=12000, len=155, n/ep=1, n/st=100, rew=9305.00]                                                                              \n"
     ]
    },
    {
     "name": "stdout",
     "output_type": "stream",
     "text": [
      "Epoch #120: test_reward: 12217.600000 ± 3500.321448, best_reward: 18442.400000 ± 5267.454304 in #48\n"
     ]
    },
    {
     "name": "stderr",
     "output_type": "stream",
     "text": [
      "Epoch #121: 1001it [00:02, 426.02it/s, env_step=121000, gradient_step=12100, len=197, n/ep=1, n/st=100, rew=11391.00]                                                                             \n"
     ]
    },
    {
     "name": "stdout",
     "output_type": "stream",
     "text": [
      "Epoch #121: test_reward: 7452.600000 ± 3501.184948, best_reward: 18442.400000 ± 5267.454304 in #48\n"
     ]
    },
    {
     "name": "stderr",
     "output_type": "stream",
     "text": [
      "Epoch #122: 1001it [00:02, 363.57it/s, env_step=122000, gradient_step=12200, len=128, n/ep=0, n/st=100, rew=6276.50]                                                                              \n"
     ]
    },
    {
     "name": "stdout",
     "output_type": "stream",
     "text": [
      "Epoch #122: test_reward: 14318.400000 ± 4112.051050, best_reward: 18442.400000 ± 5267.454304 in #48\n"
     ]
    },
    {
     "name": "stderr",
     "output_type": "stream",
     "text": [
      "Epoch #123: 1001it [00:02, 415.46it/s, env_step=123000, gradient_step=12300, len=238, n/ep=0, n/st=100, rew=15514.50]                                                                             \n"
     ]
    },
    {
     "name": "stdout",
     "output_type": "stream",
     "text": [
      "Epoch #123: test_reward: 10627.400000 ± 4033.449174, best_reward: 18442.400000 ± 5267.454304 in #48\n"
     ]
    },
    {
     "name": "stderr",
     "output_type": "stream",
     "text": [
      "Epoch #124: 1001it [00:03, 333.23it/s, env_step=124000, gradient_step=12400, len=174, n/ep=1, n/st=100, rew=10315.00]                                                                             \n"
     ]
    },
    {
     "name": "stdout",
     "output_type": "stream",
     "text": [
      "Epoch #124: test_reward: 14345.100000 ± 5902.272773, best_reward: 18442.400000 ± 5267.454304 in #48\n"
     ]
    },
    {
     "name": "stderr",
     "output_type": "stream",
     "text": [
      "Epoch #125: 1001it [00:02, 362.26it/s, env_step=125000, gradient_step=12500, len=143, n/ep=0, n/st=100, rew=7963.50]                                                                              \n"
     ]
    },
    {
     "name": "stdout",
     "output_type": "stream",
     "text": [
      "Epoch #125: test_reward: 15533.400000 ± 4324.237764, best_reward: 18442.400000 ± 5267.454304 in #48\n"
     ]
    },
    {
     "name": "stderr",
     "output_type": "stream",
     "text": [
      "Epoch #126: 1001it [00:02, 378.68it/s, env_step=126000, gradient_step=12600, len=172, n/ep=0, n/st=100, rew=10372.50]                                                                             \n"
     ]
    },
    {
     "name": "stdout",
     "output_type": "stream",
     "text": [
      "Epoch #126: test_reward: 6802.300000 ± 3767.248493, best_reward: 18442.400000 ± 5267.454304 in #48\n"
     ]
    },
    {
     "name": "stderr",
     "output_type": "stream",
     "text": [
      "Epoch #127: 1001it [00:02, 426.47it/s, env_step=127000, gradient_step=12700, len=123, n/ep=0, n/st=100, rew=6668.00]                                                                              \n"
     ]
    },
    {
     "name": "stdout",
     "output_type": "stream",
     "text": [
      "Epoch #127: test_reward: 10901.200000 ± 4150.595061, best_reward: 18442.400000 ± 5267.454304 in #48\n"
     ]
    },
    {
     "name": "stderr",
     "output_type": "stream",
     "text": [
      "Epoch #128: 1001it [00:02, 361.02it/s, env_step=128000, gradient_step=12800, len=132, n/ep=0, n/st=100, rew=7449.00]                                                                              \n"
     ]
    },
    {
     "name": "stdout",
     "output_type": "stream",
     "text": [
      "Epoch #128: test_reward: 11115.200000 ± 2826.533028, best_reward: 18442.400000 ± 5267.454304 in #48\n"
     ]
    },
    {
     "name": "stderr",
     "output_type": "stream",
     "text": [
      "Epoch #129: 1001it [00:02, 349.07it/s, env_step=129000, gradient_step=12900, len=236, n/ep=0, n/st=100, rew=15640.50]                                                                             \n"
     ]
    },
    {
     "name": "stdout",
     "output_type": "stream",
     "text": [
      "Epoch #129: test_reward: 15903.100000 ± 5321.874434, best_reward: 18442.400000 ± 5267.454304 in #48\n"
     ]
    },
    {
     "name": "stderr",
     "output_type": "stream",
     "text": [
      "Epoch #130: 1001it [00:02, 380.96it/s, env_step=130000, gradient_step=13000, len=248, n/ep=1, n/st=100, rew=14452.00]                                                                             \n"
     ]
    },
    {
     "name": "stdout",
     "output_type": "stream",
     "text": [
      "Epoch #130: test_reward: 12281.100000 ± 3935.091192, best_reward: 18442.400000 ± 5267.454304 in #48\n"
     ]
    },
    {
     "name": "stderr",
     "output_type": "stream",
     "text": [
      "Epoch #131: 1001it [00:02, 423.16it/s, env_step=131000, gradient_step=13100, len=246, n/ep=1, n/st=100, rew=15164.50]                                                                             \n"
     ]
    },
    {
     "name": "stdout",
     "output_type": "stream",
     "text": [
      "Epoch #131: test_reward: 5349.600000 ± 3214.661139, best_reward: 18442.400000 ± 5267.454304 in #48\n"
     ]
    },
    {
     "name": "stderr",
     "output_type": "stream",
     "text": [
      "Epoch #132: 1001it [00:02, 412.60it/s, env_step=132000, gradient_step=13200, len=182, n/ep=0, n/st=100, rew=10969.50]                                                                             \n"
     ]
    },
    {
     "name": "stdout",
     "output_type": "stream",
     "text": [
      "Epoch #132: test_reward: 10768.400000 ± 3804.731560, best_reward: 18442.400000 ± 5267.454304 in #48\n"
     ]
    },
    {
     "name": "stderr",
     "output_type": "stream",
     "text": [
      "Epoch #133: 1001it [00:02, 411.14it/s, env_step=133000, gradient_step=13300, len=143, n/ep=0, n/st=100, rew=8129.50]                                                                              \n"
     ]
    },
    {
     "name": "stdout",
     "output_type": "stream",
     "text": [
      "Epoch #133: test_reward: 8767.200000 ± 1457.079600, best_reward: 18442.400000 ± 5267.454304 in #48\n"
     ]
    },
    {
     "name": "stderr",
     "output_type": "stream",
     "text": [
      "Epoch #134: 1001it [00:02, 378.06it/s, env_step=134000, gradient_step=13400, len=213, n/ep=0, n/st=100, rew=13004.00]                                                                             \n"
     ]
    },
    {
     "name": "stdout",
     "output_type": "stream",
     "text": [
      "Epoch #134: test_reward: 8091.600000 ± 3977.431714, best_reward: 18442.400000 ± 5267.454304 in #48\n"
     ]
    },
    {
     "name": "stderr",
     "output_type": "stream",
     "text": [
      "Epoch #135: 1001it [00:02, 351.55it/s, env_step=135000, gradient_step=13500, len=258, n/ep=0, n/st=100, rew=16462.00]                                                                             \n"
     ]
    },
    {
     "name": "stdout",
     "output_type": "stream",
     "text": [
      "Epoch #135: test_reward: 13432.000000 ± 5815.945804, best_reward: 18442.400000 ± 5267.454304 in #48\n"
     ]
    },
    {
     "name": "stderr",
     "output_type": "stream",
     "text": [
      "Epoch #136: 1001it [00:02, 394.68it/s, env_step=136000, gradient_step=13600, len=153, n/ep=0, n/st=100, rew=9340.00]                                                                              \n"
     ]
    },
    {
     "name": "stdout",
     "output_type": "stream",
     "text": [
      "Epoch #136: test_reward: 9103.800000 ± 2870.420938, best_reward: 18442.400000 ± 5267.454304 in #48\n"
     ]
    },
    {
     "name": "stderr",
     "output_type": "stream",
     "text": [
      "Epoch #137: 1001it [00:03, 316.84it/s, env_step=137000, gradient_step=13700, len=212, n/ep=1, n/st=100, rew=13341.00]                                                                             \n"
     ]
    },
    {
     "name": "stdout",
     "output_type": "stream",
     "text": [
      "Epoch #137: test_reward: 11640.000000 ± 3004.302648, best_reward: 18442.400000 ± 5267.454304 in #48\n"
     ]
    },
    {
     "name": "stderr",
     "output_type": "stream",
     "text": [
      "Epoch #138: 1001it [00:02, 423.88it/s, env_step=138000, gradient_step=13800, len=135, n/ep=0, n/st=100, rew=8327.00]                                                                              \n"
     ]
    },
    {
     "name": "stdout",
     "output_type": "stream",
     "text": [
      "Epoch #138: test_reward: 13666.500000 ± 3711.363126, best_reward: 18442.400000 ± 5267.454304 in #48\n"
     ]
    },
    {
     "name": "stderr",
     "output_type": "stream",
     "text": [
      "Epoch #139: 1001it [00:02, 347.71it/s, env_step=139000, gradient_step=13900, len=144, n/ep=0, n/st=100, rew=8727.00]                                                                              \n"
     ]
    },
    {
     "name": "stdout",
     "output_type": "stream",
     "text": [
      "Epoch #139: test_reward: 9318.800000 ± 2931.973288, best_reward: 18442.400000 ± 5267.454304 in #48\n"
     ]
    },
    {
     "name": "stderr",
     "output_type": "stream",
     "text": [
      "Epoch #140: 1001it [00:02, 368.99it/s, env_step=140000, gradient_step=14000, len=63, n/ep=0, n/st=100, rew=3004.00]                                                                               \n"
     ]
    },
    {
     "name": "stdout",
     "output_type": "stream",
     "text": [
      "Epoch #140: test_reward: 11973.600000 ± 4267.924723, best_reward: 18442.400000 ± 5267.454304 in #48\n"
     ]
    },
    {
     "name": "stderr",
     "output_type": "stream",
     "text": [
      "Epoch #141: 1001it [00:02, 353.59it/s, env_step=141000, gradient_step=14100, len=195, n/ep=0, n/st=100, rew=10386.00]                                                                             \n"
     ]
    },
    {
     "name": "stdout",
     "output_type": "stream",
     "text": [
      "Epoch #141: test_reward: 8353.100000 ± 4199.989773, best_reward: 18442.400000 ± 5267.454304 in #48\n"
     ]
    },
    {
     "name": "stderr",
     "output_type": "stream",
     "text": [
      "Epoch #142: 1001it [00:02, 363.42it/s, env_step=142000, gradient_step=14200, len=164, n/ep=1, n/st=100, rew=10243.00]                                                                             \n"
     ]
    },
    {
     "name": "stdout",
     "output_type": "stream",
     "text": [
      "Epoch #142: test_reward: 9721.300000 ± 3433.586435, best_reward: 18442.400000 ± 5267.454304 in #48\n"
     ]
    },
    {
     "name": "stderr",
     "output_type": "stream",
     "text": [
      "Epoch #143: 1001it [00:02, 371.47it/s, env_step=143000, gradient_step=14300, len=203, n/ep=0, n/st=100, rew=12418.00]                                                                             \n"
     ]
    },
    {
     "name": "stdout",
     "output_type": "stream",
     "text": [
      "Epoch #143: test_reward: 13401.300000 ± 4658.433515, best_reward: 18442.400000 ± 5267.454304 in #48\n"
     ]
    },
    {
     "name": "stderr",
     "output_type": "stream",
     "text": [
      "Epoch #144: 1001it [00:02, 419.96it/s, env_step=144000, gradient_step=14400, len=159, n/ep=0, n/st=100, rew=9792.50]                                                                              \n"
     ]
    },
    {
     "name": "stdout",
     "output_type": "stream",
     "text": [
      "Epoch #144: test_reward: 9470.200000 ± 2659.562137, best_reward: 18442.400000 ± 5267.454304 in #48\n"
     ]
    },
    {
     "name": "stderr",
     "output_type": "stream",
     "text": [
      "Epoch #145: 1001it [00:02, 347.07it/s, env_step=145000, gradient_step=14500, len=176, n/ep=2, n/st=100, rew=10472.75]                                                                             \n"
     ]
    },
    {
     "name": "stdout",
     "output_type": "stream",
     "text": [
      "Epoch #145: test_reward: 11313.400000 ± 5330.791765, best_reward: 18442.400000 ± 5267.454304 in #48\n"
     ]
    },
    {
     "name": "stderr",
     "output_type": "stream",
     "text": [
      "Epoch #146: 1001it [00:02, 369.05it/s, env_step=146000, gradient_step=14600, len=139, n/ep=2, n/st=100, rew=8317.00]                                                                              \n"
     ]
    },
    {
     "name": "stdout",
     "output_type": "stream",
     "text": [
      "Epoch #146: test_reward: 13476.000000 ± 3610.815642, best_reward: 18442.400000 ± 5267.454304 in #48\n"
     ]
    },
    {
     "name": "stderr",
     "output_type": "stream",
     "text": [
      "Epoch #147: 1001it [00:02, 360.59it/s, env_step=147000, gradient_step=14700, len=272, n/ep=1, n/st=100, rew=17631.50]                                                                             \n"
     ]
    },
    {
     "name": "stdout",
     "output_type": "stream",
     "text": [
      "Epoch #147: test_reward: 14653.600000 ± 4884.855683, best_reward: 18442.400000 ± 5267.454304 in #48\n"
     ]
    },
    {
     "name": "stderr",
     "output_type": "stream",
     "text": [
      "Epoch #148: 1001it [00:03, 332.79it/s, env_step=148000, gradient_step=14800, len=181, n/ep=1, n/st=100, rew=10506.00]                                                                             \n"
     ]
    },
    {
     "name": "stdout",
     "output_type": "stream",
     "text": [
      "Epoch #148: test_reward: 16252.200000 ± 5837.953919, best_reward: 18442.400000 ± 5267.454304 in #48\n"
     ]
    },
    {
     "name": "stderr",
     "output_type": "stream",
     "text": [
      "Epoch #149: 1001it [00:02, 372.91it/s, env_step=149000, gradient_step=14900, len=97, n/ep=0, n/st=100, rew=4889.00]                                                                               \n"
     ]
    },
    {
     "name": "stdout",
     "output_type": "stream",
     "text": [
      "Epoch #149: test_reward: 11256.800000 ± 3864.680189, best_reward: 18442.400000 ± 5267.454304 in #48\n"
     ]
    },
    {
     "name": "stderr",
     "output_type": "stream",
     "text": [
      "Epoch #150: 1001it [00:02, 377.86it/s, env_step=150000, gradient_step=15000, len=161, n/ep=0, n/st=100, rew=8644.00]                                                                              \n"
     ]
    },
    {
     "name": "stdout",
     "output_type": "stream",
     "text": [
      "Epoch #150: test_reward: 10367.400000 ± 2938.508914, best_reward: 18442.400000 ± 5267.454304 in #48\n",
      "\n",
      "==========Result==========\n",
      "InfoStats(gradient_step=15000, best_reward=18442.4, best_reward_std=5267.454303551195, train_step=150000, train_episode=708, test_step=333576, test_episode=1510, timing=TimingStats(total_time=609.6570348739624, train_time=386.70710349082947, train_time_collect=58.04313540458679, train_time_update=321.59069442749023, test_time=222.94993138313293, update_speed=387.8904696757327))\n",
      "\n",
      "(the trained policy can be accessed via policy.policies[agents[0]])\n"
     ]
    }
   ],
   "source": [
    "count = 0\n",
    "\n",
    "for i in range(26, 27):\n",
    "    # random select opponent\n",
    "    \n",
    "    agent_opponent_random = random.choice(agents_learned_qostaushy)\n",
    "    idx = agents_learned_qostaushy.index(agent_opponent_random)\n",
    "    \n",
    "    print(f\"Train with qostaushy agent_opponent #{idx}\")\n",
    "\n",
    "    # training\n",
    "    if count == 0:\n",
    "        agent_learned_bastaushy = copy.deepcopy(random.choice(agents_learned_bastaushy))\n",
    "        \n",
    "    next_agent_learned = train_agent_dqn_bastaushy(index=i, agent_learn=agent_learned_bastaushy, agent_opponent=agent_opponent_random, path=\"bastaushy\")\n",
    "    #add new learned agent\n",
    "    agents_learned_bastaushy.append(next_agent_learned)\n",
    "    agent_learned_bastaushy = copy.deepcopy(next_agent_learned)\n",
    "    count += 1"
   ]
  },
  {
   "cell_type": "markdown",
   "metadata": {},
   "source": [
    "### 🦃 Play all policies with random policy"
   ]
  },
  {
   "cell_type": "code",
   "execution_count": 28,
   "metadata": {},
   "outputs": [
    {
     "ename": "KeyboardInterrupt",
     "evalue": "",
     "output_type": "error",
     "traceback": [
      "\u001b[0;31m---------------------------------------------------------------------------\u001b[0m",
      "\u001b[0;31mKeyboardInterrupt\u001b[0m                         Traceback (most recent call last)",
      "Cell \u001b[0;32mIn[28], line 33\u001b[0m\n\u001b[1;32m     29\u001b[0m env \u001b[38;5;241m=\u001b[39m DummyVectorEnv([\u001b[38;5;28;01mlambda\u001b[39;00m: env])\n\u001b[1;32m     31\u001b[0m collector \u001b[38;5;241m=\u001b[39m Collector(policies, env)\n\u001b[0;32m---> 33\u001b[0m result \u001b[38;5;241m=\u001b[39m \u001b[43mcollector\u001b[49m\u001b[38;5;241;43m.\u001b[39;49m\u001b[43mcollect\u001b[49m\u001b[43m(\u001b[49m\u001b[43mn_episode\u001b[49m\u001b[38;5;241;43m=\u001b[39;49m\u001b[38;5;241;43m100\u001b[39;49m\u001b[43m,\u001b[49m\u001b[43m \u001b[49m\u001b[43mreset_before_collect\u001b[49m\u001b[38;5;241;43m=\u001b[39;49m\u001b[38;5;28;43;01mTrue\u001b[39;49;00m\u001b[43m)\u001b[49m\n\u001b[1;32m     34\u001b[0m random_policy_wins\u001b[38;5;241m.\u001b[39mappend(PLAYS[\u001b[38;5;124m'\u001b[39m\u001b[38;5;124mqostaushy\u001b[39m\u001b[38;5;124m'\u001b[39m])\n\u001b[1;32m     35\u001b[0m agent_wins\u001b[38;5;241m.\u001b[39mappend(PLAYS[\u001b[38;5;124m'\u001b[39m\u001b[38;5;124mbastaushy\u001b[39m\u001b[38;5;124m'\u001b[39m])\n",
      "File \u001b[0;32m~/Documents/hse/diploma/togyz-qumalaq-agent/venv/lib/python3.11/site-packages/tianshou/data/collector.py:433\u001b[0m, in \u001b[0;36mCollector.collect\u001b[0;34m(self, n_step, n_episode, random, render, no_grad, reset_before_collect, gym_reset_kwargs)\u001b[0m\n\u001b[1;32m    413\u001b[0m last_hidden_state_RH \u001b[38;5;241m=\u001b[39m _nullable_slice(\n\u001b[1;32m    414\u001b[0m     \u001b[38;5;28mself\u001b[39m\u001b[38;5;241m.\u001b[39m_pre_collect_hidden_state_RH,\n\u001b[1;32m    415\u001b[0m     ready_env_ids_R,\n\u001b[1;32m    416\u001b[0m )\n\u001b[1;32m    418\u001b[0m \u001b[38;5;28;01mwhile\u001b[39;00m \u001b[38;5;28;01mTrue\u001b[39;00m:\n\u001b[1;32m    419\u001b[0m     \u001b[38;5;66;03m# todo check if we need this when using cur_rollout_batch\u001b[39;00m\n\u001b[1;32m    420\u001b[0m     \u001b[38;5;66;03m# if len(cur_rollout_batch) != len(ready_env_ids):\u001b[39;00m\n\u001b[0;32m   (...)\u001b[0m\n\u001b[1;32m    426\u001b[0m \n\u001b[1;32m    427\u001b[0m     \u001b[38;5;66;03m# get the next action\u001b[39;00m\n\u001b[1;32m    428\u001b[0m     (\n\u001b[1;32m    429\u001b[0m         act_RA,\n\u001b[1;32m    430\u001b[0m         act_normalized_RA,\n\u001b[1;32m    431\u001b[0m         policy_R,\n\u001b[1;32m    432\u001b[0m         hidden_state_RH,\n\u001b[0;32m--> 433\u001b[0m     ) \u001b[38;5;241m=\u001b[39m \u001b[38;5;28;43mself\u001b[39;49m\u001b[38;5;241;43m.\u001b[39;49m\u001b[43m_compute_action_policy_hidden\u001b[49m\u001b[43m(\u001b[49m\n\u001b[1;32m    434\u001b[0m \u001b[43m        \u001b[49m\u001b[43mrandom\u001b[49m\u001b[38;5;241;43m=\u001b[39;49m\u001b[43mrandom\u001b[49m\u001b[43m,\u001b[49m\n\u001b[1;32m    435\u001b[0m \u001b[43m        \u001b[49m\u001b[43mready_env_ids_R\u001b[49m\u001b[38;5;241;43m=\u001b[39;49m\u001b[43mready_env_ids_R\u001b[49m\u001b[43m,\u001b[49m\n\u001b[1;32m    436\u001b[0m \u001b[43m        \u001b[49m\u001b[43muse_grad\u001b[49m\u001b[38;5;241;43m=\u001b[39;49m\u001b[43muse_grad\u001b[49m\u001b[43m,\u001b[49m\n\u001b[1;32m    437\u001b[0m \u001b[43m        \u001b[49m\u001b[43mlast_obs_RO\u001b[49m\u001b[38;5;241;43m=\u001b[39;49m\u001b[43mlast_obs_RO\u001b[49m\u001b[43m,\u001b[49m\n\u001b[1;32m    438\u001b[0m \u001b[43m        \u001b[49m\u001b[43mlast_info_R\u001b[49m\u001b[38;5;241;43m=\u001b[39;49m\u001b[43mlast_info_R\u001b[49m\u001b[43m,\u001b[49m\n\u001b[1;32m    439\u001b[0m \u001b[43m        \u001b[49m\u001b[43mlast_hidden_state_RH\u001b[49m\u001b[38;5;241;43m=\u001b[39;49m\u001b[43mlast_hidden_state_RH\u001b[49m\u001b[43m,\u001b[49m\n\u001b[1;32m    440\u001b[0m \u001b[43m    \u001b[49m\u001b[43m)\u001b[49m\n\u001b[1;32m    442\u001b[0m     obs_next_RO, rew_R, terminated_R, truncated_R, info_R \u001b[38;5;241m=\u001b[39m \u001b[38;5;28mself\u001b[39m\u001b[38;5;241m.\u001b[39menv\u001b[38;5;241m.\u001b[39mstep(\n\u001b[1;32m    443\u001b[0m         act_normalized_RA,\n\u001b[1;32m    444\u001b[0m         ready_env_ids_R,\n\u001b[1;32m    445\u001b[0m     )\n\u001b[1;32m    446\u001b[0m     \u001b[38;5;28;01mif\u001b[39;00m \u001b[38;5;28misinstance\u001b[39m(info_R, \u001b[38;5;28mdict\u001b[39m):  \u001b[38;5;66;03m# type: ignore[unreachable]\u001b[39;00m\n\u001b[1;32m    447\u001b[0m         \u001b[38;5;66;03m# This can happen if the env is an envpool env. Then the info returned by step is a dict\u001b[39;00m\n",
      "File \u001b[0;32m~/Documents/hse/diploma/togyz-qumalaq-agent/venv/lib/python3.11/site-packages/tianshou/data/collector.py:285\u001b[0m, in \u001b[0;36mCollector._compute_action_policy_hidden\u001b[0;34m(self, random, ready_env_ids_R, use_grad, last_obs_RO, last_info_R, last_hidden_state_RH)\u001b[0m\n\u001b[1;32m    282\u001b[0m obs_batch_R \u001b[38;5;241m=\u001b[39m cast(ObsBatchProtocol, Batch(obs\u001b[38;5;241m=\u001b[39mlast_obs_RO, info\u001b[38;5;241m=\u001b[39minfo_batch))\n\u001b[1;32m    284\u001b[0m \u001b[38;5;28;01mwith\u001b[39;00m torch\u001b[38;5;241m.\u001b[39mset_grad_enabled(use_grad):\n\u001b[0;32m--> 285\u001b[0m     act_batch_RA \u001b[38;5;241m=\u001b[39m \u001b[38;5;28;43mself\u001b[39;49m\u001b[38;5;241;43m.\u001b[39;49m\u001b[43mpolicy\u001b[49m\u001b[43m(\u001b[49m\n\u001b[1;32m    286\u001b[0m \u001b[43m        \u001b[49m\u001b[43mobs_batch_R\u001b[49m\u001b[43m,\u001b[49m\n\u001b[1;32m    287\u001b[0m \u001b[43m        \u001b[49m\u001b[43mlast_hidden_state_RH\u001b[49m\u001b[43m,\u001b[49m\n\u001b[1;32m    288\u001b[0m \u001b[43m    \u001b[49m\u001b[43m)\u001b[49m\n\u001b[1;32m    290\u001b[0m act_RA \u001b[38;5;241m=\u001b[39m to_numpy(act_batch_RA\u001b[38;5;241m.\u001b[39mact)\n\u001b[1;32m    291\u001b[0m \u001b[38;5;28;01mif\u001b[39;00m \u001b[38;5;28mself\u001b[39m\u001b[38;5;241m.\u001b[39mexploration_noise:\n",
      "File \u001b[0;32m~/Documents/hse/diploma/togyz-qumalaq-agent/venv/lib/python3.11/site-packages/torch/nn/modules/module.py:1532\u001b[0m, in \u001b[0;36mModule._wrapped_call_impl\u001b[0;34m(self, *args, **kwargs)\u001b[0m\n\u001b[1;32m   1530\u001b[0m     \u001b[38;5;28;01mreturn\u001b[39;00m \u001b[38;5;28mself\u001b[39m\u001b[38;5;241m.\u001b[39m_compiled_call_impl(\u001b[38;5;241m*\u001b[39margs, \u001b[38;5;241m*\u001b[39m\u001b[38;5;241m*\u001b[39mkwargs)  \u001b[38;5;66;03m# type: ignore[misc]\u001b[39;00m\n\u001b[1;32m   1531\u001b[0m \u001b[38;5;28;01melse\u001b[39;00m:\n\u001b[0;32m-> 1532\u001b[0m     \u001b[38;5;28;01mreturn\u001b[39;00m \u001b[38;5;28;43mself\u001b[39;49m\u001b[38;5;241;43m.\u001b[39;49m\u001b[43m_call_impl\u001b[49m\u001b[43m(\u001b[49m\u001b[38;5;241;43m*\u001b[39;49m\u001b[43margs\u001b[49m\u001b[43m,\u001b[49m\u001b[43m \u001b[49m\u001b[38;5;241;43m*\u001b[39;49m\u001b[38;5;241;43m*\u001b[39;49m\u001b[43mkwargs\u001b[49m\u001b[43m)\u001b[49m\n",
      "File \u001b[0;32m~/Documents/hse/diploma/togyz-qumalaq-agent/venv/lib/python3.11/site-packages/torch/nn/modules/module.py:1541\u001b[0m, in \u001b[0;36mModule._call_impl\u001b[0;34m(self, *args, **kwargs)\u001b[0m\n\u001b[1;32m   1536\u001b[0m \u001b[38;5;66;03m# If we don't have any hooks, we want to skip the rest of the logic in\u001b[39;00m\n\u001b[1;32m   1537\u001b[0m \u001b[38;5;66;03m# this function, and just call forward.\u001b[39;00m\n\u001b[1;32m   1538\u001b[0m \u001b[38;5;28;01mif\u001b[39;00m \u001b[38;5;129;01mnot\u001b[39;00m (\u001b[38;5;28mself\u001b[39m\u001b[38;5;241m.\u001b[39m_backward_hooks \u001b[38;5;129;01mor\u001b[39;00m \u001b[38;5;28mself\u001b[39m\u001b[38;5;241m.\u001b[39m_backward_pre_hooks \u001b[38;5;129;01mor\u001b[39;00m \u001b[38;5;28mself\u001b[39m\u001b[38;5;241m.\u001b[39m_forward_hooks \u001b[38;5;129;01mor\u001b[39;00m \u001b[38;5;28mself\u001b[39m\u001b[38;5;241m.\u001b[39m_forward_pre_hooks\n\u001b[1;32m   1539\u001b[0m         \u001b[38;5;129;01mor\u001b[39;00m _global_backward_pre_hooks \u001b[38;5;129;01mor\u001b[39;00m _global_backward_hooks\n\u001b[1;32m   1540\u001b[0m         \u001b[38;5;129;01mor\u001b[39;00m _global_forward_hooks \u001b[38;5;129;01mor\u001b[39;00m _global_forward_pre_hooks):\n\u001b[0;32m-> 1541\u001b[0m     \u001b[38;5;28;01mreturn\u001b[39;00m \u001b[43mforward_call\u001b[49m\u001b[43m(\u001b[49m\u001b[38;5;241;43m*\u001b[39;49m\u001b[43margs\u001b[49m\u001b[43m,\u001b[49m\u001b[43m \u001b[49m\u001b[38;5;241;43m*\u001b[39;49m\u001b[38;5;241;43m*\u001b[39;49m\u001b[43mkwargs\u001b[49m\u001b[43m)\u001b[49m\n\u001b[1;32m   1543\u001b[0m \u001b[38;5;28;01mtry\u001b[39;00m:\n\u001b[1;32m   1544\u001b[0m     result \u001b[38;5;241m=\u001b[39m \u001b[38;5;28;01mNone\u001b[39;00m\n",
      "File \u001b[0;32m~/Documents/hse/diploma/togyz-qumalaq-agent/venv/lib/python3.11/site-packages/tianshou/policy/multiagent/mapolicy.py:236\u001b[0m, in \u001b[0;36mMultiAgentPolicyManager.forward\u001b[0;34m(self, batch, state, **kwargs)\u001b[0m\n\u001b[1;32m    234\u001b[0m     \u001b[38;5;28;01mif\u001b[39;00m \u001b[38;5;28mhasattr\u001b[39m(tmp_batch\u001b[38;5;241m.\u001b[39mobs_next, \u001b[38;5;124m\"\u001b[39m\u001b[38;5;124mobs\u001b[39m\u001b[38;5;124m\"\u001b[39m):\n\u001b[1;32m    235\u001b[0m         tmp_batch\u001b[38;5;241m.\u001b[39mobs_next \u001b[38;5;241m=\u001b[39m tmp_batch\u001b[38;5;241m.\u001b[39mobs_next\u001b[38;5;241m.\u001b[39mobs\n\u001b[0;32m--> 236\u001b[0m out \u001b[38;5;241m=\u001b[39m \u001b[43mpolicy\u001b[49m\u001b[43m(\u001b[49m\n\u001b[1;32m    237\u001b[0m \u001b[43m    \u001b[49m\u001b[43mbatch\u001b[49m\u001b[38;5;241;43m=\u001b[39;49m\u001b[43mtmp_batch\u001b[49m\u001b[43m,\u001b[49m\n\u001b[1;32m    238\u001b[0m \u001b[43m    \u001b[49m\u001b[43mstate\u001b[49m\u001b[38;5;241;43m=\u001b[39;49m\u001b[38;5;28;43;01mNone\u001b[39;49;00m\u001b[43m \u001b[49m\u001b[38;5;28;43;01mif\u001b[39;49;00m\u001b[43m \u001b[49m\u001b[43mstate\u001b[49m\u001b[43m \u001b[49m\u001b[38;5;129;43;01mis\u001b[39;49;00m\u001b[43m \u001b[49m\u001b[38;5;28;43;01mNone\u001b[39;49;00m\u001b[43m \u001b[49m\u001b[38;5;28;43;01melse\u001b[39;49;00m\u001b[43m \u001b[49m\u001b[43mstate\u001b[49m\u001b[43m[\u001b[49m\u001b[43magent_id\u001b[49m\u001b[43m]\u001b[49m\u001b[43m,\u001b[49m\n\u001b[1;32m    239\u001b[0m \u001b[43m    \u001b[49m\u001b[38;5;241;43m*\u001b[39;49m\u001b[38;5;241;43m*\u001b[39;49m\u001b[43mkwargs\u001b[49m\u001b[43m,\u001b[49m\n\u001b[1;32m    240\u001b[0m \u001b[43m\u001b[49m\u001b[43m)\u001b[49m\n\u001b[1;32m    241\u001b[0m act \u001b[38;5;241m=\u001b[39m out\u001b[38;5;241m.\u001b[39mact\n\u001b[1;32m    242\u001b[0m each_state \u001b[38;5;241m=\u001b[39m out\u001b[38;5;241m.\u001b[39mstate \u001b[38;5;28;01mif\u001b[39;00m (\u001b[38;5;28mhasattr\u001b[39m(out, \u001b[38;5;124m\"\u001b[39m\u001b[38;5;124mstate\u001b[39m\u001b[38;5;124m\"\u001b[39m) \u001b[38;5;129;01mand\u001b[39;00m out\u001b[38;5;241m.\u001b[39mstate \u001b[38;5;129;01mis\u001b[39;00m \u001b[38;5;129;01mnot\u001b[39;00m \u001b[38;5;28;01mNone\u001b[39;00m) \u001b[38;5;28;01melse\u001b[39;00m Batch()\n",
      "File \u001b[0;32m~/Documents/hse/diploma/togyz-qumalaq-agent/venv/lib/python3.11/site-packages/torch/nn/modules/module.py:1532\u001b[0m, in \u001b[0;36mModule._wrapped_call_impl\u001b[0;34m(self, *args, **kwargs)\u001b[0m\n\u001b[1;32m   1530\u001b[0m     \u001b[38;5;28;01mreturn\u001b[39;00m \u001b[38;5;28mself\u001b[39m\u001b[38;5;241m.\u001b[39m_compiled_call_impl(\u001b[38;5;241m*\u001b[39margs, \u001b[38;5;241m*\u001b[39m\u001b[38;5;241m*\u001b[39mkwargs)  \u001b[38;5;66;03m# type: ignore[misc]\u001b[39;00m\n\u001b[1;32m   1531\u001b[0m \u001b[38;5;28;01melse\u001b[39;00m:\n\u001b[0;32m-> 1532\u001b[0m     \u001b[38;5;28;01mreturn\u001b[39;00m \u001b[38;5;28;43mself\u001b[39;49m\u001b[38;5;241;43m.\u001b[39;49m\u001b[43m_call_impl\u001b[49m\u001b[43m(\u001b[49m\u001b[38;5;241;43m*\u001b[39;49m\u001b[43margs\u001b[49m\u001b[43m,\u001b[49m\u001b[43m \u001b[49m\u001b[38;5;241;43m*\u001b[39;49m\u001b[38;5;241;43m*\u001b[39;49m\u001b[43mkwargs\u001b[49m\u001b[43m)\u001b[49m\n",
      "File \u001b[0;32m~/Documents/hse/diploma/togyz-qumalaq-agent/venv/lib/python3.11/site-packages/torch/nn/modules/module.py:1541\u001b[0m, in \u001b[0;36mModule._call_impl\u001b[0;34m(self, *args, **kwargs)\u001b[0m\n\u001b[1;32m   1536\u001b[0m \u001b[38;5;66;03m# If we don't have any hooks, we want to skip the rest of the logic in\u001b[39;00m\n\u001b[1;32m   1537\u001b[0m \u001b[38;5;66;03m# this function, and just call forward.\u001b[39;00m\n\u001b[1;32m   1538\u001b[0m \u001b[38;5;28;01mif\u001b[39;00m \u001b[38;5;129;01mnot\u001b[39;00m (\u001b[38;5;28mself\u001b[39m\u001b[38;5;241m.\u001b[39m_backward_hooks \u001b[38;5;129;01mor\u001b[39;00m \u001b[38;5;28mself\u001b[39m\u001b[38;5;241m.\u001b[39m_backward_pre_hooks \u001b[38;5;129;01mor\u001b[39;00m \u001b[38;5;28mself\u001b[39m\u001b[38;5;241m.\u001b[39m_forward_hooks \u001b[38;5;129;01mor\u001b[39;00m \u001b[38;5;28mself\u001b[39m\u001b[38;5;241m.\u001b[39m_forward_pre_hooks\n\u001b[1;32m   1539\u001b[0m         \u001b[38;5;129;01mor\u001b[39;00m _global_backward_pre_hooks \u001b[38;5;129;01mor\u001b[39;00m _global_backward_hooks\n\u001b[1;32m   1540\u001b[0m         \u001b[38;5;129;01mor\u001b[39;00m _global_forward_hooks \u001b[38;5;129;01mor\u001b[39;00m _global_forward_pre_hooks):\n\u001b[0;32m-> 1541\u001b[0m     \u001b[38;5;28;01mreturn\u001b[39;00m \u001b[43mforward_call\u001b[49m\u001b[43m(\u001b[49m\u001b[38;5;241;43m*\u001b[39;49m\u001b[43margs\u001b[49m\u001b[43m,\u001b[49m\u001b[43m \u001b[49m\u001b[38;5;241;43m*\u001b[39;49m\u001b[38;5;241;43m*\u001b[39;49m\u001b[43mkwargs\u001b[49m\u001b[43m)\u001b[49m\n\u001b[1;32m   1543\u001b[0m \u001b[38;5;28;01mtry\u001b[39;00m:\n\u001b[1;32m   1544\u001b[0m     result \u001b[38;5;241m=\u001b[39m \u001b[38;5;28;01mNone\u001b[39;00m\n",
      "File \u001b[0;32m~/Documents/hse/diploma/togyz-qumalaq-agent/venv/lib/python3.11/site-packages/tianshou/policy/modelfree/dqn.py:204\u001b[0m, in \u001b[0;36mDQNPolicy.forward\u001b[0;34m(self, batch, state, model, **kwargs)\u001b[0m\n\u001b[1;32m    202\u001b[0m \u001b[38;5;66;03m# TODO: this is convoluted! See also other places where this is done.\u001b[39;00m\n\u001b[1;32m    203\u001b[0m obs_next \u001b[38;5;241m=\u001b[39m obs\u001b[38;5;241m.\u001b[39mobs \u001b[38;5;28;01mif\u001b[39;00m \u001b[38;5;28mhasattr\u001b[39m(obs, \u001b[38;5;124m\"\u001b[39m\u001b[38;5;124mobs\u001b[39m\u001b[38;5;124m\"\u001b[39m) \u001b[38;5;28;01melse\u001b[39;00m obs\n\u001b[0;32m--> 204\u001b[0m action_values_BA, hidden_BH \u001b[38;5;241m=\u001b[39m \u001b[43mmodel\u001b[49m\u001b[43m(\u001b[49m\u001b[43mobs_next\u001b[49m\u001b[43m,\u001b[49m\u001b[43m \u001b[49m\u001b[43mstate\u001b[49m\u001b[38;5;241;43m=\u001b[39;49m\u001b[43mstate\u001b[49m\u001b[43m,\u001b[49m\u001b[43m \u001b[49m\u001b[43minfo\u001b[49m\u001b[38;5;241;43m=\u001b[39;49m\u001b[43mbatch\u001b[49m\u001b[38;5;241;43m.\u001b[39;49m\u001b[43minfo\u001b[49m\u001b[43m)\u001b[49m\n\u001b[1;32m    205\u001b[0m q \u001b[38;5;241m=\u001b[39m \u001b[38;5;28mself\u001b[39m\u001b[38;5;241m.\u001b[39mcompute_q_value(action_values_BA, \u001b[38;5;28mgetattr\u001b[39m(obs, \u001b[38;5;124m\"\u001b[39m\u001b[38;5;124mmask\u001b[39m\u001b[38;5;124m\"\u001b[39m, \u001b[38;5;28;01mNone\u001b[39;00m))\n\u001b[1;32m    206\u001b[0m \u001b[38;5;28;01mif\u001b[39;00m \u001b[38;5;28mself\u001b[39m\u001b[38;5;241m.\u001b[39mmax_action_num \u001b[38;5;129;01mis\u001b[39;00m \u001b[38;5;28;01mNone\u001b[39;00m:\n",
      "File \u001b[0;32m~/Documents/hse/diploma/togyz-qumalaq-agent/venv/lib/python3.11/site-packages/torch/nn/modules/module.py:1532\u001b[0m, in \u001b[0;36mModule._wrapped_call_impl\u001b[0;34m(self, *args, **kwargs)\u001b[0m\n\u001b[1;32m   1530\u001b[0m     \u001b[38;5;28;01mreturn\u001b[39;00m \u001b[38;5;28mself\u001b[39m\u001b[38;5;241m.\u001b[39m_compiled_call_impl(\u001b[38;5;241m*\u001b[39margs, \u001b[38;5;241m*\u001b[39m\u001b[38;5;241m*\u001b[39mkwargs)  \u001b[38;5;66;03m# type: ignore[misc]\u001b[39;00m\n\u001b[1;32m   1531\u001b[0m \u001b[38;5;28;01melse\u001b[39;00m:\n\u001b[0;32m-> 1532\u001b[0m     \u001b[38;5;28;01mreturn\u001b[39;00m \u001b[38;5;28;43mself\u001b[39;49m\u001b[38;5;241;43m.\u001b[39;49m\u001b[43m_call_impl\u001b[49m\u001b[43m(\u001b[49m\u001b[38;5;241;43m*\u001b[39;49m\u001b[43margs\u001b[49m\u001b[43m,\u001b[49m\u001b[43m \u001b[49m\u001b[38;5;241;43m*\u001b[39;49m\u001b[38;5;241;43m*\u001b[39;49m\u001b[43mkwargs\u001b[49m\u001b[43m)\u001b[49m\n",
      "File \u001b[0;32m~/Documents/hse/diploma/togyz-qumalaq-agent/venv/lib/python3.11/site-packages/torch/nn/modules/module.py:1541\u001b[0m, in \u001b[0;36mModule._call_impl\u001b[0;34m(self, *args, **kwargs)\u001b[0m\n\u001b[1;32m   1536\u001b[0m \u001b[38;5;66;03m# If we don't have any hooks, we want to skip the rest of the logic in\u001b[39;00m\n\u001b[1;32m   1537\u001b[0m \u001b[38;5;66;03m# this function, and just call forward.\u001b[39;00m\n\u001b[1;32m   1538\u001b[0m \u001b[38;5;28;01mif\u001b[39;00m \u001b[38;5;129;01mnot\u001b[39;00m (\u001b[38;5;28mself\u001b[39m\u001b[38;5;241m.\u001b[39m_backward_hooks \u001b[38;5;129;01mor\u001b[39;00m \u001b[38;5;28mself\u001b[39m\u001b[38;5;241m.\u001b[39m_backward_pre_hooks \u001b[38;5;129;01mor\u001b[39;00m \u001b[38;5;28mself\u001b[39m\u001b[38;5;241m.\u001b[39m_forward_hooks \u001b[38;5;129;01mor\u001b[39;00m \u001b[38;5;28mself\u001b[39m\u001b[38;5;241m.\u001b[39m_forward_pre_hooks\n\u001b[1;32m   1539\u001b[0m         \u001b[38;5;129;01mor\u001b[39;00m _global_backward_pre_hooks \u001b[38;5;129;01mor\u001b[39;00m _global_backward_hooks\n\u001b[1;32m   1540\u001b[0m         \u001b[38;5;129;01mor\u001b[39;00m _global_forward_hooks \u001b[38;5;129;01mor\u001b[39;00m _global_forward_pre_hooks):\n\u001b[0;32m-> 1541\u001b[0m     \u001b[38;5;28;01mreturn\u001b[39;00m \u001b[43mforward_call\u001b[49m\u001b[43m(\u001b[49m\u001b[38;5;241;43m*\u001b[39;49m\u001b[43margs\u001b[49m\u001b[43m,\u001b[49m\u001b[43m \u001b[49m\u001b[38;5;241;43m*\u001b[39;49m\u001b[38;5;241;43m*\u001b[39;49m\u001b[43mkwargs\u001b[49m\u001b[43m)\u001b[49m\n\u001b[1;32m   1543\u001b[0m \u001b[38;5;28;01mtry\u001b[39;00m:\n\u001b[1;32m   1544\u001b[0m     result \u001b[38;5;241m=\u001b[39m \u001b[38;5;28;01mNone\u001b[39;00m\n",
      "File \u001b[0;32m~/Documents/hse/diploma/togyz-qumalaq-agent/venv/lib/python3.11/site-packages/tianshou/utils/net/common.py:275\u001b[0m, in \u001b[0;36mNet.forward\u001b[0;34m(self, obs, state, info)\u001b[0m\n\u001b[1;32m    273\u001b[0m \u001b[38;5;28;01mif\u001b[39;00m \u001b[38;5;28mhasattr\u001b[39m(obs, \u001b[38;5;124m\"\u001b[39m\u001b[38;5;124mobs\u001b[39m\u001b[38;5;124m\"\u001b[39m):\n\u001b[1;32m    274\u001b[0m     obs \u001b[38;5;241m=\u001b[39m obs\u001b[38;5;241m.\u001b[39mobs\n\u001b[0;32m--> 275\u001b[0m logits \u001b[38;5;241m=\u001b[39m \u001b[38;5;28;43mself\u001b[39;49m\u001b[38;5;241;43m.\u001b[39;49m\u001b[43mmodel\u001b[49m\u001b[43m(\u001b[49m\u001b[43mobs\u001b[49m\u001b[43m)\u001b[49m\n\u001b[1;32m    276\u001b[0m batch_size \u001b[38;5;241m=\u001b[39m logits\u001b[38;5;241m.\u001b[39mshape[\u001b[38;5;241m0\u001b[39m]\n\u001b[1;32m    277\u001b[0m \u001b[38;5;28;01mif\u001b[39;00m \u001b[38;5;28mself\u001b[39m\u001b[38;5;241m.\u001b[39muse_dueling:  \u001b[38;5;66;03m# Dueling DQN\u001b[39;00m\n",
      "File \u001b[0;32m~/Documents/hse/diploma/togyz-qumalaq-agent/venv/lib/python3.11/site-packages/torch/nn/modules/module.py:1532\u001b[0m, in \u001b[0;36mModule._wrapped_call_impl\u001b[0;34m(self, *args, **kwargs)\u001b[0m\n\u001b[1;32m   1530\u001b[0m     \u001b[38;5;28;01mreturn\u001b[39;00m \u001b[38;5;28mself\u001b[39m\u001b[38;5;241m.\u001b[39m_compiled_call_impl(\u001b[38;5;241m*\u001b[39margs, \u001b[38;5;241m*\u001b[39m\u001b[38;5;241m*\u001b[39mkwargs)  \u001b[38;5;66;03m# type: ignore[misc]\u001b[39;00m\n\u001b[1;32m   1531\u001b[0m \u001b[38;5;28;01melse\u001b[39;00m:\n\u001b[0;32m-> 1532\u001b[0m     \u001b[38;5;28;01mreturn\u001b[39;00m \u001b[38;5;28;43mself\u001b[39;49m\u001b[38;5;241;43m.\u001b[39;49m\u001b[43m_call_impl\u001b[49m\u001b[43m(\u001b[49m\u001b[38;5;241;43m*\u001b[39;49m\u001b[43margs\u001b[49m\u001b[43m,\u001b[49m\u001b[43m \u001b[49m\u001b[38;5;241;43m*\u001b[39;49m\u001b[38;5;241;43m*\u001b[39;49m\u001b[43mkwargs\u001b[49m\u001b[43m)\u001b[49m\n",
      "File \u001b[0;32m~/Documents/hse/diploma/togyz-qumalaq-agent/venv/lib/python3.11/site-packages/torch/nn/modules/module.py:1541\u001b[0m, in \u001b[0;36mModule._call_impl\u001b[0;34m(self, *args, **kwargs)\u001b[0m\n\u001b[1;32m   1536\u001b[0m \u001b[38;5;66;03m# If we don't have any hooks, we want to skip the rest of the logic in\u001b[39;00m\n\u001b[1;32m   1537\u001b[0m \u001b[38;5;66;03m# this function, and just call forward.\u001b[39;00m\n\u001b[1;32m   1538\u001b[0m \u001b[38;5;28;01mif\u001b[39;00m \u001b[38;5;129;01mnot\u001b[39;00m (\u001b[38;5;28mself\u001b[39m\u001b[38;5;241m.\u001b[39m_backward_hooks \u001b[38;5;129;01mor\u001b[39;00m \u001b[38;5;28mself\u001b[39m\u001b[38;5;241m.\u001b[39m_backward_pre_hooks \u001b[38;5;129;01mor\u001b[39;00m \u001b[38;5;28mself\u001b[39m\u001b[38;5;241m.\u001b[39m_forward_hooks \u001b[38;5;129;01mor\u001b[39;00m \u001b[38;5;28mself\u001b[39m\u001b[38;5;241m.\u001b[39m_forward_pre_hooks\n\u001b[1;32m   1539\u001b[0m         \u001b[38;5;129;01mor\u001b[39;00m _global_backward_pre_hooks \u001b[38;5;129;01mor\u001b[39;00m _global_backward_hooks\n\u001b[1;32m   1540\u001b[0m         \u001b[38;5;129;01mor\u001b[39;00m _global_forward_hooks \u001b[38;5;129;01mor\u001b[39;00m _global_forward_pre_hooks):\n\u001b[0;32m-> 1541\u001b[0m     \u001b[38;5;28;01mreturn\u001b[39;00m \u001b[43mforward_call\u001b[49m\u001b[43m(\u001b[49m\u001b[38;5;241;43m*\u001b[39;49m\u001b[43margs\u001b[49m\u001b[43m,\u001b[49m\u001b[43m \u001b[49m\u001b[38;5;241;43m*\u001b[39;49m\u001b[38;5;241;43m*\u001b[39;49m\u001b[43mkwargs\u001b[49m\u001b[43m)\u001b[49m\n\u001b[1;32m   1543\u001b[0m \u001b[38;5;28;01mtry\u001b[39;00m:\n\u001b[1;32m   1544\u001b[0m     result \u001b[38;5;241m=\u001b[39m \u001b[38;5;28;01mNone\u001b[39;00m\n",
      "File \u001b[0;32m~/Documents/hse/diploma/togyz-qumalaq-agent/venv/lib/python3.11/site-packages/tianshou/utils/net/common.py:140\u001b[0m, in \u001b[0;36mMLP.forward\u001b[0;34m(self, obs)\u001b[0m\n\u001b[1;32m    138\u001b[0m \u001b[38;5;28;01mif\u001b[39;00m \u001b[38;5;28mself\u001b[39m\u001b[38;5;241m.\u001b[39mflatten_input:\n\u001b[1;32m    139\u001b[0m     obs \u001b[38;5;241m=\u001b[39m obs\u001b[38;5;241m.\u001b[39mflatten(\u001b[38;5;241m1\u001b[39m)\n\u001b[0;32m--> 140\u001b[0m \u001b[38;5;28;01mreturn\u001b[39;00m \u001b[38;5;28;43mself\u001b[39;49m\u001b[38;5;241;43m.\u001b[39;49m\u001b[43mmodel\u001b[49m\u001b[43m(\u001b[49m\u001b[43mobs\u001b[49m\u001b[43m)\u001b[49m\n",
      "File \u001b[0;32m~/Documents/hse/diploma/togyz-qumalaq-agent/venv/lib/python3.11/site-packages/torch/nn/modules/module.py:1532\u001b[0m, in \u001b[0;36mModule._wrapped_call_impl\u001b[0;34m(self, *args, **kwargs)\u001b[0m\n\u001b[1;32m   1530\u001b[0m     \u001b[38;5;28;01mreturn\u001b[39;00m \u001b[38;5;28mself\u001b[39m\u001b[38;5;241m.\u001b[39m_compiled_call_impl(\u001b[38;5;241m*\u001b[39margs, \u001b[38;5;241m*\u001b[39m\u001b[38;5;241m*\u001b[39mkwargs)  \u001b[38;5;66;03m# type: ignore[misc]\u001b[39;00m\n\u001b[1;32m   1531\u001b[0m \u001b[38;5;28;01melse\u001b[39;00m:\n\u001b[0;32m-> 1532\u001b[0m     \u001b[38;5;28;01mreturn\u001b[39;00m \u001b[38;5;28;43mself\u001b[39;49m\u001b[38;5;241;43m.\u001b[39;49m\u001b[43m_call_impl\u001b[49m\u001b[43m(\u001b[49m\u001b[38;5;241;43m*\u001b[39;49m\u001b[43margs\u001b[49m\u001b[43m,\u001b[49m\u001b[43m \u001b[49m\u001b[38;5;241;43m*\u001b[39;49m\u001b[38;5;241;43m*\u001b[39;49m\u001b[43mkwargs\u001b[49m\u001b[43m)\u001b[49m\n",
      "File \u001b[0;32m~/Documents/hse/diploma/togyz-qumalaq-agent/venv/lib/python3.11/site-packages/torch/nn/modules/module.py:1541\u001b[0m, in \u001b[0;36mModule._call_impl\u001b[0;34m(self, *args, **kwargs)\u001b[0m\n\u001b[1;32m   1536\u001b[0m \u001b[38;5;66;03m# If we don't have any hooks, we want to skip the rest of the logic in\u001b[39;00m\n\u001b[1;32m   1537\u001b[0m \u001b[38;5;66;03m# this function, and just call forward.\u001b[39;00m\n\u001b[1;32m   1538\u001b[0m \u001b[38;5;28;01mif\u001b[39;00m \u001b[38;5;129;01mnot\u001b[39;00m (\u001b[38;5;28mself\u001b[39m\u001b[38;5;241m.\u001b[39m_backward_hooks \u001b[38;5;129;01mor\u001b[39;00m \u001b[38;5;28mself\u001b[39m\u001b[38;5;241m.\u001b[39m_backward_pre_hooks \u001b[38;5;129;01mor\u001b[39;00m \u001b[38;5;28mself\u001b[39m\u001b[38;5;241m.\u001b[39m_forward_hooks \u001b[38;5;129;01mor\u001b[39;00m \u001b[38;5;28mself\u001b[39m\u001b[38;5;241m.\u001b[39m_forward_pre_hooks\n\u001b[1;32m   1539\u001b[0m         \u001b[38;5;129;01mor\u001b[39;00m _global_backward_pre_hooks \u001b[38;5;129;01mor\u001b[39;00m _global_backward_hooks\n\u001b[1;32m   1540\u001b[0m         \u001b[38;5;129;01mor\u001b[39;00m _global_forward_hooks \u001b[38;5;129;01mor\u001b[39;00m _global_forward_pre_hooks):\n\u001b[0;32m-> 1541\u001b[0m     \u001b[38;5;28;01mreturn\u001b[39;00m \u001b[43mforward_call\u001b[49m\u001b[43m(\u001b[49m\u001b[38;5;241;43m*\u001b[39;49m\u001b[43margs\u001b[49m\u001b[43m,\u001b[49m\u001b[43m \u001b[49m\u001b[38;5;241;43m*\u001b[39;49m\u001b[38;5;241;43m*\u001b[39;49m\u001b[43mkwargs\u001b[49m\u001b[43m)\u001b[49m\n\u001b[1;32m   1543\u001b[0m \u001b[38;5;28;01mtry\u001b[39;00m:\n\u001b[1;32m   1544\u001b[0m     result \u001b[38;5;241m=\u001b[39m \u001b[38;5;28;01mNone\u001b[39;00m\n",
      "File \u001b[0;32m~/Documents/hse/diploma/togyz-qumalaq-agent/venv/lib/python3.11/site-packages/torch/nn/modules/container.py:217\u001b[0m, in \u001b[0;36mSequential.forward\u001b[0;34m(self, input)\u001b[0m\n\u001b[1;32m    215\u001b[0m \u001b[38;5;28;01mdef\u001b[39;00m \u001b[38;5;21mforward\u001b[39m(\u001b[38;5;28mself\u001b[39m, \u001b[38;5;28minput\u001b[39m):\n\u001b[1;32m    216\u001b[0m     \u001b[38;5;28;01mfor\u001b[39;00m module \u001b[38;5;129;01min\u001b[39;00m \u001b[38;5;28mself\u001b[39m:\n\u001b[0;32m--> 217\u001b[0m         \u001b[38;5;28minput\u001b[39m \u001b[38;5;241m=\u001b[39m \u001b[43mmodule\u001b[49m\u001b[43m(\u001b[49m\u001b[38;5;28;43minput\u001b[39;49m\u001b[43m)\u001b[49m\n\u001b[1;32m    218\u001b[0m     \u001b[38;5;28;01mreturn\u001b[39;00m \u001b[38;5;28minput\u001b[39m\n",
      "File \u001b[0;32m~/Documents/hse/diploma/togyz-qumalaq-agent/venv/lib/python3.11/site-packages/torch/nn/modules/module.py:1532\u001b[0m, in \u001b[0;36mModule._wrapped_call_impl\u001b[0;34m(self, *args, **kwargs)\u001b[0m\n\u001b[1;32m   1530\u001b[0m     \u001b[38;5;28;01mreturn\u001b[39;00m \u001b[38;5;28mself\u001b[39m\u001b[38;5;241m.\u001b[39m_compiled_call_impl(\u001b[38;5;241m*\u001b[39margs, \u001b[38;5;241m*\u001b[39m\u001b[38;5;241m*\u001b[39mkwargs)  \u001b[38;5;66;03m# type: ignore[misc]\u001b[39;00m\n\u001b[1;32m   1531\u001b[0m \u001b[38;5;28;01melse\u001b[39;00m:\n\u001b[0;32m-> 1532\u001b[0m     \u001b[38;5;28;01mreturn\u001b[39;00m \u001b[38;5;28;43mself\u001b[39;49m\u001b[38;5;241;43m.\u001b[39;49m\u001b[43m_call_impl\u001b[49m\u001b[43m(\u001b[49m\u001b[38;5;241;43m*\u001b[39;49m\u001b[43margs\u001b[49m\u001b[43m,\u001b[49m\u001b[43m \u001b[49m\u001b[38;5;241;43m*\u001b[39;49m\u001b[38;5;241;43m*\u001b[39;49m\u001b[43mkwargs\u001b[49m\u001b[43m)\u001b[49m\n",
      "File \u001b[0;32m~/Documents/hse/diploma/togyz-qumalaq-agent/venv/lib/python3.11/site-packages/torch/nn/modules/module.py:1541\u001b[0m, in \u001b[0;36mModule._call_impl\u001b[0;34m(self, *args, **kwargs)\u001b[0m\n\u001b[1;32m   1536\u001b[0m \u001b[38;5;66;03m# If we don't have any hooks, we want to skip the rest of the logic in\u001b[39;00m\n\u001b[1;32m   1537\u001b[0m \u001b[38;5;66;03m# this function, and just call forward.\u001b[39;00m\n\u001b[1;32m   1538\u001b[0m \u001b[38;5;28;01mif\u001b[39;00m \u001b[38;5;129;01mnot\u001b[39;00m (\u001b[38;5;28mself\u001b[39m\u001b[38;5;241m.\u001b[39m_backward_hooks \u001b[38;5;129;01mor\u001b[39;00m \u001b[38;5;28mself\u001b[39m\u001b[38;5;241m.\u001b[39m_backward_pre_hooks \u001b[38;5;129;01mor\u001b[39;00m \u001b[38;5;28mself\u001b[39m\u001b[38;5;241m.\u001b[39m_forward_hooks \u001b[38;5;129;01mor\u001b[39;00m \u001b[38;5;28mself\u001b[39m\u001b[38;5;241m.\u001b[39m_forward_pre_hooks\n\u001b[1;32m   1539\u001b[0m         \u001b[38;5;129;01mor\u001b[39;00m _global_backward_pre_hooks \u001b[38;5;129;01mor\u001b[39;00m _global_backward_hooks\n\u001b[1;32m   1540\u001b[0m         \u001b[38;5;129;01mor\u001b[39;00m _global_forward_hooks \u001b[38;5;129;01mor\u001b[39;00m _global_forward_pre_hooks):\n\u001b[0;32m-> 1541\u001b[0m     \u001b[38;5;28;01mreturn\u001b[39;00m \u001b[43mforward_call\u001b[49m\u001b[43m(\u001b[49m\u001b[38;5;241;43m*\u001b[39;49m\u001b[43margs\u001b[49m\u001b[43m,\u001b[49m\u001b[43m \u001b[49m\u001b[38;5;241;43m*\u001b[39;49m\u001b[38;5;241;43m*\u001b[39;49m\u001b[43mkwargs\u001b[49m\u001b[43m)\u001b[49m\n\u001b[1;32m   1543\u001b[0m \u001b[38;5;28;01mtry\u001b[39;00m:\n\u001b[1;32m   1544\u001b[0m     result \u001b[38;5;241m=\u001b[39m \u001b[38;5;28;01mNone\u001b[39;00m\n",
      "File \u001b[0;32m~/Documents/hse/diploma/togyz-qumalaq-agent/venv/lib/python3.11/site-packages/torch/nn/modules/linear.py:116\u001b[0m, in \u001b[0;36mLinear.forward\u001b[0;34m(self, input)\u001b[0m\n\u001b[1;32m    115\u001b[0m \u001b[38;5;28;01mdef\u001b[39;00m \u001b[38;5;21mforward\u001b[39m(\u001b[38;5;28mself\u001b[39m, \u001b[38;5;28minput\u001b[39m: Tensor) \u001b[38;5;241m-\u001b[39m\u001b[38;5;241m>\u001b[39m Tensor:\n\u001b[0;32m--> 116\u001b[0m     \u001b[38;5;28;01mreturn\u001b[39;00m \u001b[43mF\u001b[49m\u001b[38;5;241;43m.\u001b[39;49m\u001b[43mlinear\u001b[49m\u001b[43m(\u001b[49m\u001b[38;5;28;43minput\u001b[39;49m\u001b[43m,\u001b[49m\u001b[43m \u001b[49m\u001b[38;5;28;43mself\u001b[39;49m\u001b[38;5;241;43m.\u001b[39;49m\u001b[43mweight\u001b[49m\u001b[43m,\u001b[49m\u001b[43m \u001b[49m\u001b[38;5;28;43mself\u001b[39;49m\u001b[38;5;241;43m.\u001b[39;49m\u001b[43mbias\u001b[49m\u001b[43m)\u001b[49m\n",
      "\u001b[0;31mKeyboardInterrupt\u001b[0m: "
     ]
    }
   ],
   "source": [
    "random_policy_wins = []\n",
    "agent_wins = []\n",
    "\n",
    "for model in range(26, 27):\n",
    "    \n",
    "    PLAYS = {\"bastaushy\": 0, \"qostaushy\": 0}\n",
    "\n",
    "    env = _get_env()#render_mode=\"human\")\n",
    "    net = Net(\n",
    "                state_shape=(22,),\n",
    "                action_shape=env.action_space.shape or env.action_space.n,\n",
    "                hidden_sizes=[256, 512, 512, 256],\n",
    "                device=\"cuda\" if torch.cuda.is_available() else \"cpu\",\n",
    "            ).to(\"cuda\" if torch.cuda.is_available() else \"cpu\")\n",
    "    \n",
    "    agent_learned = DQNPolicy(\n",
    "                model=net,\n",
    "                optim = torch.optim.Adam(net.parameters(), lr=1e-4),\n",
    "                discount_factor=0.9,\n",
    "                estimation_step=3,\n",
    "                target_update_freq=320,\n",
    "                action_space=env.action_space\n",
    "            ).to(\"cuda\" if torch.cuda.is_available() else \"cpu\")\n",
    "    \n",
    "    agent_learned.load_state_dict(torch.load(f\"models/bastaushy/policy_dqn_256x512x512x256_{model}.pth\"))\n",
    "    \n",
    "    policies = MultiAgentPolicyManager(policies=[agent_learned, RandomPolicy(action_space=env.action_space)], env=env)\n",
    "    \n",
    "    env = DummyVectorEnv([lambda: env])\n",
    "    \n",
    "    collector = Collector(policies, env)\n",
    "    \n",
    "    result = collector.collect(n_episode=100, reset_before_collect=True)\n",
    "    random_policy_wins.append(PLAYS['qostaushy'])\n",
    "    agent_wins.append(PLAYS['bastaushy'])\n",
    "    print(f\"Agent #{model} plays as bastaushy, result: {PLAYS}\")"
   ]
  },
  {
   "cell_type": "code",
   "execution_count": 20,
   "metadata": {},
   "outputs": [
    {
     "name": "stdout",
     "output_type": "stream",
     "text": [
      "Agent #27 plays as bastaushy, result: {'bastaushy': 42, 'qostaushy': 57}\n",
      "Agent #28 plays as bastaushy, result: {'bastaushy': 19, 'qostaushy': 69}\n",
      "Agent #29 plays as bastaushy, result: {'bastaushy': 56, 'qostaushy': 41}\n",
      "Agent #30 plays as bastaushy, result: {'bastaushy': 71, 'qostaushy': 25}\n",
      "Agent #31 plays as bastaushy, result: {'bastaushy': 50, 'qostaushy': 43}\n",
      "Agent #32 plays as bastaushy, result: {'bastaushy': 38, 'qostaushy': 54}\n",
      "Agent #33 plays as bastaushy, result: {'bastaushy': 40, 'qostaushy': 49}\n",
      "Agent #34 plays as bastaushy, result: {'bastaushy': 17, 'qostaushy': 64}\n",
      "Agent #35 plays as bastaushy, result: {'bastaushy': 36, 'qostaushy': 46}\n",
      "Agent #36 plays as bastaushy, result: {'bastaushy': 63, 'qostaushy': 32}\n",
      "Agent #37 plays as bastaushy, result: {'bastaushy': 56, 'qostaushy': 27}\n",
      "Agent #38 plays as bastaushy, result: {'bastaushy': 52, 'qostaushy': 37}\n",
      "Agent #39 plays as bastaushy, result: {'bastaushy': 48, 'qostaushy': 36}\n",
      "Agent #40 plays as bastaushy, result: {'bastaushy': 63, 'qostaushy': 34}\n",
      "Agent #41 plays as bastaushy, result: {'bastaushy': 39, 'qostaushy': 52}\n",
      "Agent #42 plays as bastaushy, result: {'bastaushy': 50, 'qostaushy': 46}\n",
      "Agent #43 plays as bastaushy, result: {'bastaushy': 60, 'qostaushy': 33}\n",
      "Agent #44 plays as bastaushy, result: {'bastaushy': 35, 'qostaushy': 56}\n",
      "Agent #45 plays as bastaushy, result: {'bastaushy': 49, 'qostaushy': 50}\n",
      "Agent #46 plays as bastaushy, result: {'bastaushy': 36, 'qostaushy': 51}\n",
      "Agent #47 plays as bastaushy, result: {'bastaushy': 42, 'qostaushy': 42}\n",
      "Agent #48 plays as bastaushy, result: {'bastaushy': 80, 'qostaushy': 20}\n",
      "Agent #49 plays as bastaushy, result: {'bastaushy': 56, 'qostaushy': 37}\n",
      "Agent #50 plays as bastaushy, result: {'bastaushy': 39, 'qostaushy': 51}\n"
     ]
    }
   ],
   "source": [
    "for model in range(27, 51):\n",
    "    \n",
    "    PLAYS = {\"bastaushy\": 0, \"qostaushy\": 0}\n",
    "\n",
    "    env = _get_env()#render_mode=\"human\")\n",
    "    net = Net(\n",
    "                state_shape=(22,),\n",
    "                action_shape=env.action_space.shape or env.action_space.n,\n",
    "                hidden_sizes=[256, 512, 512, 256],\n",
    "                device=\"cuda\" if torch.cuda.is_available() else \"cpu\",\n",
    "            ).to(\"cuda\" if torch.cuda.is_available() else \"cpu\")\n",
    "    \n",
    "    agent_learned = DQNPolicy(\n",
    "                model=net,\n",
    "                optim = torch.optim.Adam(net.parameters(), lr=1e-4),\n",
    "                discount_factor=0.9,\n",
    "                estimation_step=3,\n",
    "                target_update_freq=320,\n",
    "                action_space=env.action_space\n",
    "            ).to(\"cuda\" if torch.cuda.is_available() else \"cpu\")\n",
    "    \n",
    "    agent_learned.load_state_dict(torch.load(f\"models/bastaushy/policy_dqn_256x512x512x256_{model}.pth\"))\n",
    "    \n",
    "    policies = MultiAgentPolicyManager(policies=[agent_learned, RandomPolicy(action_space=env.action_space)], env=env)\n",
    "    \n",
    "    env = DummyVectorEnv([lambda: env])\n",
    "    \n",
    "    collector = Collector(policies, env)\n",
    "    \n",
    "    result = collector.collect(n_episode=100, reset_before_collect=True)\n",
    "    random_policy_wins.append(PLAYS['qostaushy'])\n",
    "    agent_wins.append(PLAYS['bastaushy'])\n",
    "    print(f\"Agent #{model} plays as bastaushy, result: {PLAYS}\")"
   ]
  },
  {
   "cell_type": "code",
   "execution_count": 21,
   "metadata": {},
   "outputs": [
    {
     "data": {
      "image/png": "[encoded data removed]",
      "text/plain": [
       "<Figure size 640x480 with 1 Axes>"
      ]
     },
     "metadata": {},
     "output_type": "display_data"
    }
   ],
   "source": [
    "plt.plot(range(len(random_policy_wins)), random_policy_wins, label='random policy wins')\n",
    "\n",
    "plt.plot(range(len(agent_wins)), agent_wins, label='bastaushy agent wins')\n",
    "\n",
    "plt.legend()\n",
    "plt.title(\"Evolution of trained agents\")\n",
    "plt.show()"
   ]
  },
  {
   "cell_type": "markdown",
   "metadata": {},
   "source": [
    "## 🐩 Play different learned policies"
   ]
  },
  {
   "cell_type": "code",
   "execution_count": 22,
   "metadata": {},
   "outputs": [
    {
     "name": "stdout",
     "output_type": "stream",
     "text": [
      "----------------------------------------------------\n",
      "Agent #0 wins as qostaushy 17 times\n",
      "----------------------------------------------------\n",
      "Agent #1 wins as qostaushy 20 times\n",
      "----------------------------------------------------\n",
      "Agent #2 wins as qostaushy 22 times\n",
      "----------------------------------------------------\n",
      "Agent #3 wins as qostaushy 13 times\n",
      "----------------------------------------------------\n",
      "Agent #4 wins as qostaushy 14 times\n",
      "----------------------------------------------------\n",
      "Agent #5 wins as qostaushy 7 times\n",
      "----------------------------------------------------\n",
      "Agent #6 wins as qostaushy 24 times\n",
      "----------------------------------------------------\n",
      "Agent #7 wins as qostaushy 15 times\n",
      "----------------------------------------------------\n",
      "Agent #8 wins as qostaushy 15 times\n",
      "----------------------------------------------------\n",
      "Agent #9 wins as qostaushy 16 times\n",
      "----------------------------------------------------\n",
      "Agent #10 wins as qostaushy 17 times\n",
      "----------------------------------------------------\n",
      "Agent #11 wins as qostaushy 10 times\n",
      "----------------------------------------------------\n",
      "Agent #12 wins as qostaushy 16 times\n",
      "----------------------------------------------------\n",
      "Agent #13 wins as qostaushy 24 times\n",
      "----------------------------------------------------\n",
      "Agent #14 wins as qostaushy 8 times\n",
      "----------------------------------------------------\n",
      "Agent #15 wins as qostaushy 12 times\n",
      "----------------------------------------------------\n",
      "Agent #16 wins as qostaushy 11 times\n",
      "----------------------------------------------------\n",
      "Agent #17 wins as qostaushy 20 times\n",
      "----------------------------------------------------\n",
      "Agent #18 wins as qostaushy 8 times\n",
      "----------------------------------------------------\n",
      "Agent #19 wins as qostaushy 18 times\n",
      "----------------------------------------------------\n",
      "Agent #20 wins as qostaushy 21 times\n",
      "----------------------------------------------------\n",
      "Agent #21 wins as qostaushy 22 times\n",
      "----------------------------------------------------\n",
      "Agent #22 wins as qostaushy 11 times\n",
      "----------------------------------------------------\n",
      "Agent #23 wins as qostaushy 16 times\n",
      "----------------------------------------------------\n",
      "Agent #24 wins as qostaushy 5 times\n",
      "----------------------------------------------------\n",
      "Agent #25 wins as qostaushy 20 times\n",
      "----------------------------------------------------\n",
      "Agent #26 wins as qostaushy 29 times\n",
      "----------------------------------------------------\n",
      "Agent #27 wins as qostaushy 26 times\n",
      "----------------------------------------------------\n",
      "Agent #28 wins as qostaushy 17 times\n",
      "----------------------------------------------------\n",
      "Agent #29 wins as qostaushy 20 times\n",
      "----------------------------------------------------\n",
      "Agent #30 wins as qostaushy 16 times\n",
      "----------------------------------------------------\n",
      "Agent #31 wins as qostaushy 17 times\n",
      "----------------------------------------------------\n",
      "Agent #32 wins as qostaushy 23 times\n",
      "----------------------------------------------------\n",
      "Agent #33 wins as qostaushy 27 times\n",
      "----------------------------------------------------\n",
      "Agent #34 wins as qostaushy 24 times\n",
      "----------------------------------------------------\n",
      "Agent #35 wins as qostaushy 13 times\n",
      "----------------------------------------------------\n",
      "Agent #36 wins as qostaushy 29 times\n",
      "----------------------------------------------------\n",
      "Agent #37 wins as qostaushy 17 times\n",
      "----------------------------------------------------\n",
      "Agent #38 wins as qostaushy 15 times\n",
      "----------------------------------------------------\n",
      "Agent #39 wins as qostaushy 30 times\n",
      "----------------------------------------------------\n",
      "Agent #40 wins as qostaushy 22 times\n",
      "----------------------------------------------------\n",
      "Agent #41 wins as qostaushy 15 times\n",
      "----------------------------------------------------\n",
      "Agent #42 wins as qostaushy 22 times\n",
      "----------------------------------------------------\n",
      "Agent #43 wins as qostaushy 15 times\n",
      "----------------------------------------------------\n",
      "Agent #44 wins as qostaushy 18 times\n",
      "----------------------------------------------------\n",
      "Agent #45 wins as qostaushy 14 times\n",
      "----------------------------------------------------\n",
      "Agent #46 wins as qostaushy 25 times\n",
      "----------------------------------------------------\n",
      "Agent #47 wins as qostaushy 29 times\n",
      "----------------------------------------------------\n",
      "Agent #48 wins as qostaushy 24 times\n",
      "----------------------------------------------------\n",
      "Agent #49 wins as qostaushy 21 times\n",
      "----------------------------------------------------\n",
      "Agent #50 wins as qostaushy 23 times\n",
      "----------------------------------------------------\n",
      "Agent #51 wins as qostaushy 32 times\n",
      "----------------------------------------------------\n",
      "Agent #52 wins as qostaushy 23 times\n",
      "----------------------------------------------------\n",
      "Agent #53 wins as qostaushy 19 times\n",
      "----------------------------------------------------\n",
      "Agent #54 wins as qostaushy 29 times\n",
      "----------------------------------------------------\n",
      "Agent #55 wins as qostaushy 32 times\n",
      "----------------------------------------------------\n",
      "Agent #56 wins as qostaushy 22 times\n",
      "----------------------------------------------------\n",
      "Agent #57 wins as qostaushy 27 times\n",
      "----------------------------------------------------\n",
      "Agent #58 wins as qostaushy 30 times\n",
      "----------------------------------------------------\n",
      "Agent #59 wins as qostaushy 19 times\n",
      "----------------------------------------------------\n",
      "Agent #60 wins as qostaushy 8 times\n",
      "----------------------------------------------------\n",
      "Agent #61 wins as qostaushy 22 times\n",
      "----------------------------------------------------\n",
      "Agent #62 wins as qostaushy 21 times\n",
      "----------------------------------------------------\n",
      "Agent #63 wins as qostaushy 28 times\n",
      "----------------------------------------------------\n",
      "Agent #64 wins as qostaushy 21 times\n",
      "----------------------------------------------------\n",
      "Agent #65 wins as qostaushy 22 times\n",
      "----------------------------------------------------\n",
      "Agent #66 wins as qostaushy 27 times\n",
      "----------------------------------------------------\n",
      "Agent #67 wins as qostaushy 29 times\n",
      "----------------------------------------------------\n",
      "Agent #68 wins as qostaushy 30 times\n",
      "----------------------------------------------------\n",
      "Agent #69 wins as qostaushy 27 times\n",
      "----------------------------------------------------\n",
      "Agent #70 wins as qostaushy 14 times\n",
      "----------------------------------------------------\n",
      "Agent #71 wins as qostaushy 19 times\n",
      "----------------------------------------------------\n",
      "Agent #72 wins as qostaushy 29 times\n",
      "----------------------------------------------------\n",
      "Agent #73 wins as qostaushy 12 times\n",
      "----------------------------------------------------\n",
      "Agent #74 wins as qostaushy 27 times\n",
      "----------------------------------------------------\n",
      "Agent #75 wins as qostaushy 24 times\n",
      "----------------------------------------------------\n",
      "Agent #76 wins as qostaushy 20 times\n",
      "----------------------------------------------------\n",
      "Agent #77 wins as qostaushy 21 times\n",
      "----------------------------------------------------\n",
      "Agent #78 wins as qostaushy 22 times\n",
      "----------------------------------------------------\n",
      "Agent #79 wins as qostaushy 21 times\n",
      "----------------------------------------------------\n",
      "Agent #80 wins as qostaushy 29 times\n",
      "----------------------------------------------------\n",
      "Agent #81 wins as qostaushy 25 times\n",
      "----------------------------------------------------\n",
      "Agent #82 wins as qostaushy 20 times\n",
      "----------------------------------------------------\n",
      "Agent #83 wins as qostaushy 27 times\n",
      "----------------------------------------------------\n",
      "Agent #84 wins as qostaushy 24 times\n",
      "----------------------------------------------------\n",
      "Agent #85 wins as qostaushy 29 times\n",
      "----------------------------------------------------\n",
      "Agent #86 wins as qostaushy 23 times\n",
      "----------------------------------------------------\n",
      "Agent #87 wins as qostaushy 22 times\n",
      "----------------------------------------------------\n",
      "Agent #88 wins as qostaushy 31 times\n",
      "----------------------------------------------------\n",
      "Agent #89 wins as qostaushy 17 times\n",
      "----------------------------------------------------\n",
      "Agent #90 wins as qostaushy 30 times\n",
      "----------------------------------------------------\n",
      "Agent #91 wins as qostaushy 19 times\n",
      "----------------------------------------------------\n",
      "Agent #92 wins as qostaushy 9 times\n",
      "----------------------------------------------------\n",
      "Agent #93 wins as qostaushy 25 times\n",
      "----------------------------------------------------\n",
      "Agent #94 wins as qostaushy 13 times\n",
      "----------------------------------------------------\n",
      "Agent #95 wins as qostaushy 11 times\n",
      "----------------------------------------------------\n",
      "Agent #96 wins as qostaushy 20 times\n",
      "----------------------------------------------------\n",
      "Agent #97 wins as qostaushy 22 times\n",
      "----------------------------------------------------\n",
      "Agent #98 wins as qostaushy 8 times\n",
      "----------------------------------------------------\n",
      "Agent #99 wins as qostaushy 36 times\n",
      "----------------------------------------------------\n",
      "Agent #100 wins as qostaushy 21 times\n",
      "----------------------------------------------------\n",
      "Agent #101 wins as qostaushy 18 times\n",
      "----------------------------------------------------\n",
      "Agent #102 wins as qostaushy 25 times\n",
      "----------------------------------------------------\n",
      "Agent #103 wins as qostaushy 17 times\n",
      "----------------------------------------------------\n",
      "Agent #104 wins as qostaushy 22 times\n",
      "----------------------------------------------------\n",
      "Agent #105 wins as qostaushy 11 times\n",
      "----------------------------------------------------\n",
      "Agent #106 wins as qostaushy 26 times\n",
      "----------------------------------------------------\n",
      "Agent #107 wins as qostaushy 17 times\n",
      "----------------------------------------------------\n",
      "Agent #108 wins as qostaushy 33 times\n",
      "----------------------------------------------------\n",
      "Agent #109 wins as qostaushy 36 times\n",
      "----------------------------------------------------\n",
      "Agent #110 wins as qostaushy 22 times\n",
      "----------------------------------------------------\n",
      "Agent #111 wins as qostaushy 29 times\n",
      "----------------------------------------------------\n",
      "Agent #112 wins as qostaushy 30 times\n",
      "----------------------------------------------------\n",
      "Agent #113 wins as qostaushy 27 times\n",
      "----------------------------------------------------\n",
      "Agent #114 wins as qostaushy 24 times\n",
      "----------------------------------------------------\n",
      "Agent #115 wins as qostaushy 34 times\n",
      "----------------------------------------------------\n",
      "Agent #116 wins as qostaushy 31 times\n",
      "----------------------------------------------------\n",
      "Agent #117 wins as qostaushy 20 times\n",
      "----------------------------------------------------\n",
      "Agent #118 wins as qostaushy 22 times\n",
      "----------------------------------------------------\n",
      "Agent #119 wins as qostaushy 23 times\n",
      "----------------------------------------------------\n",
      "Agent #120 wins as qostaushy 23 times\n"
     ]
    }
   ],
   "source": [
    "num_winners_bastaushy = {key: [] for key in range(len(agents_learned_bastaushy))}\n",
    "num_winners_qostaushy = {key: [] for key in range(len(agents_learned_qostaushy))}\n",
    "\n",
    "for n_agent_opp, agent_opponent in enumerate(agents_learned_qostaushy):\n",
    "\n",
    "    print(\"----------------------------------------------------\")\n",
    "    b_winners = 0\n",
    "    q_winners = 0\n",
    "    for n_agent, agent in enumerate(agents_learned_bastaushy):\n",
    "        PLAYS = {\"bastaushy\": 0, \"qostaushy\": 0}\n",
    "\n",
    "        env = _get_env()#render_mode=\"human\")\n",
    "\n",
    "        policies = MultiAgentPolicyManager(policies=[agent, agent_opponent], env=env)\n",
    "        env = DummyVectorEnv([lambda: env])\n",
    "        \n",
    "        collector = Collector(policies, env, exploration_noise=False)\n",
    "        \n",
    "        result = collector.collect(n_episode=1, reset_before_collect=True)\n",
    "\n",
    "        #b_winners += PLAYS[\"bastaushy\"]\n",
    "        q_winners += PLAYS[\"qostaushy\"]\n",
    "            \n",
    "    #print(f\"Agent #{n_agent} wins as bastaushy {b_winners} times\")\n",
    "    print(f\"Agent #{n_agent_opp} wins as qostaushy {q_winners} times\")\n",
    "    \n",
    "    #num_winners_bastaushy[n_agent].append(b_winners)\n",
    "    num_winners_qostaushy[n_agent_opp].append(q_winners)"
   ]
  },
  {
   "cell_type": "markdown",
   "metadata": {},
   "source": [
    "### 🐧 Plot play results"
   ]
  },
  {
   "cell_type": "code",
   "execution_count": 23,
   "metadata": {},
   "outputs": [],
   "source": [
    "results_qostaushy = []\n",
    "\n",
    "for key in num_winners_qostaushy.keys():\n",
    "    results_qostaushy.append(num_winners_qostaushy[key][0])"
   ]
  },
  {
   "cell_type": "code",
   "execution_count": 25,
   "metadata": {},
   "outputs": [
    {
     "data": {
      "image/png": "[encoded data removed]",
      "text/plain": [
       "<Figure size 640x480 with 1 Axes>"
      ]
     },
     "metadata": {},
     "output_type": "display_data"
    }
   ],
   "source": [
    "plt.plot(range(len(results_qostaushy)), results_qostaushy, label=\"qostaushy\")\n",
    "\n",
    "plt.xlabel(\"Model #\")\n",
    "plt.ylabel(\"Number of wins\")\n",
    "plt.title(\"Evolution of trained agents\")\n",
    "plt.show()"
   ]
  },
  {
   "cell_type": "code",
   "execution_count": null,
   "metadata": {},
   "outputs": [],
   "source": []
  }
 ],
 "metadata": {
  "accelerator": "GPU",
  "colab": {
   "authorship_tag": "ABX9TyOCOxlghPOzK+89TPmYdKQh",
   "collapsed_sections": [
    "luAZ42vu0ipC",
    "1aNj2Mfm0Zb-",
    "i9JzOFeK1kmm",
    "46_0KK8E1rWM",
    "nF0ZMW3wLv-B",
    "T7IIe3E9M69q",
    "c-thy8-oCce4",
    "sNPVNMBTNW3z",
    "b9q8lRmx-FU_",
    "ARZK7tZNb4J3"
   ],
   "gpuType": "T4",
   "include_colab_link": true,
   "provenance": []
  },
  "kernelspec": {
   "display_name": "venv",
   "language": "python",
   "name": "venv"
  },
  "language_info": {
   "codemirror_mode": {
    "name": "ipython",
    "version": 3
   },
   "file_extension": ".py",
   "mimetype": "text/x-python",
   "name": "python",
   "nbconvert_exporter": "python",
   "pygments_lexer": "ipython3",
   "version": "3.11.0rc1"
  }
 },
 "nbformat": 4,
 "nbformat_minor": 4
}
