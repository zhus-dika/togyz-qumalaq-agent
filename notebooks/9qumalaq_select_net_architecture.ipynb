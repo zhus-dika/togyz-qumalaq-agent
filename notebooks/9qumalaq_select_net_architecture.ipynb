{
 "cells": [
  {
   "cell_type": "markdown",
   "metadata": {
    "colab_type": "text",
    "id": "view-in-github"
   },
   "source": [
    "<a href=\"https://colab.research.google.com/github/zhus-dika/togyz-qumalaq-agent/blob/main/togyzqumalaq_aec_vs_random_policy.ipynb\" target=\"_parent\"><img src=\"https://colab.research.google.com/assets/colab-badge.svg\" alt=\"Open In Colab\"/></a>"
   ]
  },
  {
   "cell_type": "markdown",
   "metadata": {
    "jp-MarkdownHeadingCollapsed": true
   },
   "source": [
    "### 🦛 Install need packages"
   ]
  },
  {
   "cell_type": "code",
   "execution_count": 1,
   "metadata": {},
   "outputs": [],
   "source": [
    "#!python -m ipykernel install --user --name=venv"
   ]
  },
  {
   "cell_type": "markdown",
   "metadata": {
    "jp-MarkdownHeadingCollapsed": true
   },
   "source": [
    "### 🐞 Imports"
   ]
  },
  {
   "cell_type": "code",
   "execution_count": 4,
   "metadata": {},
   "outputs": [],
   "source": [
    "import gymnasium\n",
    "import os\n",
    "import numpy as np\n",
    "from gymnasium.spaces import Discrete, MultiDiscrete\n",
    "from gymnasium import spaces\n",
    "\n",
    "from IPython.display import clear_output\n",
    "import time\n",
    "from pettingzoo import AECEnv\n",
    "from pettingzoo.utils import agent_selector, wrappers\n",
    "import matplotlib.pyplot as plt\n",
    "from tqdm.notebook import tqdm\n",
    "import csv\n",
    "import pandas as pd\n",
    "from scipy.interpolate import interp1d\n",
    "\n",
    "import os\n",
    "from typing import Optional, Tuple\n",
    "\n",
    "from torch.utils.tensorboard import SummaryWriter\n",
    "from tianshou.utils import TensorboardLogger\n",
    "\n",
    "import gymnasium\n",
    "import numpy as np\n",
    "import torch\n",
    "from copy import deepcopy\n",
    "from tianshou.data import Collector, VectorReplayBuffer\n",
    "from tianshou.env import DummyVectorEnv\n",
    "from tianshou.env.pettingzoo_env import PettingZooEnv\n",
    "from tianshou.policy import BasePolicy, DQNPolicy, RainbowPolicy, MultiAgentPolicyManager, RandomPolicy\n",
    "from tianshou.trainer import OffpolicyTrainer\n",
    "from tianshou.utils.net.common import Net\n",
    "\n",
    "import random\n",
    "import copy\n",
    "\n",
    "NUM_ITERS = 400\n",
    "PLAYS = {\"bastaushy\": 0, \"qostaushy\": 0}"
   ]
  },
  {
   "cell_type": "markdown",
   "metadata": {
    "jp-MarkdownHeadingCollapsed": true
   },
   "source": [
    "### 🐯 Parameters"
   ]
  },
  {
   "cell_type": "code",
   "execution_count": 5,
   "metadata": {},
   "outputs": [],
   "source": [
    "NET_ARCHS = [[128, 256, 256, 128], [256, 512, 256], [256, 512, 512, 256], [512, 1024, 512], [512, 1024, 1024, 512]]\n",
    "\n",
    "MAX_EPOCHS = 500\n",
    "\n",
    "STEP_PER_EPOCH = 1000\n",
    "\n",
    "STEP_PER_COLLECT = 100 #50\n",
    "\n",
    "EPISODE_PER_TEST = 50 #10\n",
    "\n",
    "BATCH_SIZE = 256\n",
    "\n",
    "MODELS_PATH = {}\n",
    "\n",
    "MODELS_PATH['bastaushy'] = os.path.join('..', 'models', 'select_arch', 'curriculum_learning','bastaushy')\n",
    "\n",
    "MODELS_PATH['qostaushy'] = os.path.join('..', 'models', 'select_arch', 'curriculum_learning','qostaushy')\n",
    "\n",
    "LOGS_PATH = {}\n",
    "\n",
    "LOGS_PATH['bastaushy'] = os.path.join('..', 'logs', 'select_arch', 'bastaushy')\n",
    "\n",
    "LOGS_PATH['qostaushy'] = os.path.join('..', 'logs', 'select_arch', 'qostaushy')"
   ]
  },
  {
   "cell_type": "markdown",
   "metadata": {
    "id": "n-ODLQYxcX21"
   },
   "source": [
    "#  🐘 AEC environment https://pettingzoo.farama.org/api/aec/#about-aec"
   ]
  },
  {
   "cell_type": "markdown",
   "metadata": {
    "id": "i9JzOFeK1kmm"
   },
   "source": [
    "### 🦉 Create environment"
   ]
  },
  {
   "cell_type": "code",
   "execution_count": 6,
   "metadata": {
    "id": "S3Tq7OaYcUfq"
   },
   "outputs": [],
   "source": [
    "def env(render_mode=None):\n",
    "    \"\"\"\n",
    "    The env function often wraps the environment in wrappers by default.\n",
    "    You can find full documentation for these methods\n",
    "    elsewhere in the developer documentation.\n",
    "    \"\"\"\n",
    "    internal_render_mode = render_mode if render_mode != \"ansi\" else \"human\"\n",
    "    env = raw_env(render_mode=internal_render_mode)\n",
    "    # This wrapper is only for environments which print results to the terminal\n",
    "    if render_mode == \"ansi\":\n",
    "        env = wrappers.CaptureStdoutWrapper(env)\n",
    "    # this wrapper helps error handling for discrete action spaces\n",
    "    env = wrappers.AssertOutOfBoundsWrapper(env)\n",
    "    # Provides a wide vareity of helpful user errors\n",
    "    # Strongly recommended\n",
    "    env = wrappers.OrderEnforcingWrapper(env)\n",
    "    return env\n",
    "\n",
    "\n",
    "class raw_env(AECEnv):\n",
    "    \"\"\"\n",
    "    The metadata holds environment constants. From gymnasium, we inherit the \"render_modes\",\n",
    "    metadata which specifies which modes can be put into the render() method.\n",
    "    At least human mode should be supported.\n",
    "    The \"name\" metadata allows the environment to be pretty printed.\n",
    "    \"\"\"\n",
    "\n",
    "    metadata = {\n",
    "        \"render_modes\": [\"ansi\", \"human\"],\n",
    "        \"name\": \"togyzqumalaq_v0\"\n",
    "        }\n",
    "\n",
    "    def __init__(self, render_mode=None):\n",
    "        \"\"\"\n",
    "        The init method takes in environment arguments and\n",
    "         should define the following attributes:\n",
    "        - otaular\n",
    "        - tuzdyq\n",
    "        - qazandar\n",
    "        - possible_agents\n",
    "        - render_mode\n",
    "\n",
    "        Note: as of v1.18.1, the action_spaces and observation_spaces attributes are deprecated.\n",
    "        Spaces should be defined in the action_space() and observation_space() methods.\n",
    "        If these methods are not overridden, spaces will be inferred from self.observation_spaces/action_spaces, raising a warning.\n",
    "\n",
    "        These attributes should not be changed after initialization.\n",
    "        \"\"\"\n",
    "        self.otaular = []\n",
    "        self.tuzdyq = []\n",
    "        self.qazandar = []\n",
    "        self.direction = []\n",
    "        self.agents = [\"bastaushy\", \"qostaushy\"]\n",
    "        self.possible_agents = self.agents[:]\n",
    "        # optional: we can define the observation and action spaces here as attributes to be used in their corresponding methods\n",
    "        self.action_spaces = {i: spaces.Discrete(9) for i in self.agents}\n",
    "        self.observation_spaces = {\n",
    "            i: spaces.Dict(\n",
    "                {\n",
    "                    \"observation\": MultiDiscrete([100] * 18 + [9] * 2 + [82] * 2),\n",
    "                    \"action_mask\": Discrete(9),\n",
    "                }\n",
    "            )\n",
    "            for i in self.agents\n",
    "        }\n",
    "        self.render_mode = render_mode\n",
    "\n",
    "    # Observation space should be defined here.\n",
    "    def action_space(self, agent):\n",
    "        return self.action_spaces[agent]\n",
    "\n",
    "    # Action space should be defined here.\n",
    "    def observation_space(self, agent):\n",
    "        return self.observation_spaces[agent]\n",
    "\n",
    "        def render(self):\n",
    "        \"\"\"\n",
    "        Renders the environment. In human mode,\n",
    "        it can print to terminal, open\n",
    "        up a graphical window, or open up some\n",
    "        other display that\n",
    "        a human can see and understand.\n",
    "        \"\"\"\n",
    "        \"\"\"Renders the environment.\"\"\"\n",
    "        if self.render_mode is None:\n",
    "            gymnasium.logger.warn(\n",
    "                \"You are calling render method without \"\n",
    "                \"specifying any render mode.\"\n",
    "            )\n",
    "            return\n",
    "\n",
    "        if len(self.agents) == 2:\n",
    "            points_bastaushy_x = np.array([i * 2 for i in range(10)])\n",
    "            points_bastaushy_y = np.array([i % 5 for i in range(50)])\n",
    "\n",
    "            x = np.arange(-3, 225, 1)\n",
    "            y = -1\n",
    "\n",
    "            text_kwargs = dict(ha='center', va='center', fontsize=12)\n",
    "            plt.figure(figsize=(17, 6))\n",
    "\n",
    "            for i in range(9):\n",
    "                # qostaushy's part\n",
    "                plt.scatter(\n",
    "                    np.repeat(points_bastaushy_x + 25 * i, 5)[:self.otaular[17 - i]], points_bastaushy_y[:self.otaular[17 - i]], marker='o')\n",
    "                # horizontal line\n",
    "                plt.plot(x, np.repeat(y, len(x)))\n",
    "                # vertical lines\n",
    "                plt.plot(np.repeat(25 * i - 2, len(x)), np.arange(-7, 5, 12 / len(x)))\n",
    "                # bastaushy's part\n",
    "                plt.scatter(np.repeat(points_bastaushy_x + 25 * i, 5)[:self.otaular[i]],\n",
    "                            points_bastaushy_y[:self.otaular[i]] - 6, marker='o')\n",
    "\n",
    "            # last vertical line\n",
    "            plt.plot(np.repeat(25 * 9 - 2, len(x)), np.arange(-7, 5, 12 / len(x)))\n",
    "\n",
    "            for i in range(9):\n",
    "                # bastaushy's qumalaqtar\n",
    "                plt.text(25 * i + 10, -7,\n",
    "                         f'{i} ({self.otaular[i]})', **text_kwargs)\n",
    "                # qostaushy's qumalaqtar\n",
    "                plt.text(25 * i + 10, 5,\n",
    "                         f'{17 - i} ({self.otaular[17 - i]})', **text_kwargs)\n",
    "            # bastaushy qazan's qumalaqtar\n",
    "            plt.text(230, -4,\n",
    "                     f'qazan: {self.qazandar[0]}', **text_kwargs)\n",
    "            # qostaushy qazan's qumalaqtar\n",
    "            plt.text(230, 2,\n",
    "                     f'qazan: {self.qazandar[1]}', **text_kwargs)\n",
    "            # bastaushy tuzdyq's qumalaqtar\n",
    "            plt.text(230, -6,\n",
    "                     f'tuzdyq: {self.tuzdyq[0]}', **text_kwargs)\n",
    "            # qostaushy tuzdyq's qumalaqtar\n",
    "            plt.text(230, 0,\n",
    "                     f'tuzdyq: {self.tuzdyq[1]}', **text_kwargs)\n",
    "            plt.show()\n",
    "        else:\n",
    "            if self.render_mode == \"human\":\n",
    "                print(\"Game over\")\n",
    "        time.sleep(2)\n",
    "        clear_output(True)\n",
    "\n",
    "    def _legal_moves(self, agent):\n",
    "        cur_player = self.possible_agents.index(agent)\n",
    "        opp_player = (cur_player + 1) % 2\n",
    "        return [item for item in range(9 * cur_player, (cur_player + 1) * 9) if self.tuzdyq[opp_player] != item and self.otaular[item] > 0]\n",
    "\n",
    "    def observe(self, agent):\n",
    "        \"\"\"\n",
    "        Observe should return the observation of the specified agent. This function\n",
    "        should return a sane observation (though not necessarily the most up to date possible)\n",
    "        at any time after reset() is called.\n",
    "        \"\"\"\n",
    "        # observation of one agent is the previous state of the other\n",
    "        legal_moves = self._legal_moves(agent) if agent == self.agent_selection else []\n",
    "        action_mask = np.zeros(9, \"int8\")\n",
    "        if self.possible_agents.index(agent) == 1:\n",
    "            legal_moves = [i - 9 for i in legal_moves]\n",
    "        for i in legal_moves:\n",
    "            action_mask[i] = 1\n",
    "        observation = tuple(\n",
    "            self.otaular + self.tuzdyq + self.qazandar\n",
    "        )\n",
    "        return {\"observation\": observation, \"action_mask\": action_mask}\n",
    "\n",
    "    def close(self):\n",
    "        \"\"\"\n",
    "        Close should release any graphical displays, subprocesses, network connections\n",
    "        or any other environment data which should not be kept around after the\n",
    "        user is no longer using the environment.\n",
    "        \"\"\"\n",
    "        pass\n",
    "\n",
    "    def reset(self, seed=None, options=None):\n",
    "        \"\"\"\n",
    "        Reset needs to initialize the following attributes\n",
    "        - agents\n",
    "        - rewards\n",
    "        - _cumulative_rewards\n",
    "        - terminations\n",
    "        - truncations\n",
    "        - infos\n",
    "        - agent_selection\n",
    "        And must set up the environment so that render(), step(), and observe()\n",
    "        can be called without issues.\n",
    "        Here it sets up the state dictionary which is used by step() and the observations dictionary which is used by step() and observe()\n",
    "        \"\"\"\n",
    "        self.agents = self.possible_agents[:]\n",
    "        self.rewards = {agent: 0 for agent in self.agents}\n",
    "        self._cumulative_rewards = {agent: 0 for agent in self.agents}\n",
    "        self.otaular = [9, 9, 9, 9, 9, 9, 9, 9, 9, 9, 9, 9, 9, 9, 9, 9, 9, 9]\n",
    "        self.direction = [list(range(18)), [9, 10, 11, 12, 13, 14, 15, 16, 17, 0, 1, 2, 3, 4, 5, 6, 7, 8]]\n",
    "        self.tuzdyq = [-1, -1]\n",
    "        self.qazandar = [0, 0]\n",
    "        self.terminations = {agent: False for agent in self.agents}\n",
    "        self.truncations = {agent: False for agent in self.agents}\n",
    "        self.infos = {agent: {} for agent in self.agents}\n",
    "        self.num_moves = 0\n",
    "        observation = tuple(\n",
    "            self.otaular + self.tuzdyq + self.qazandar\n",
    "        )\n",
    "        self.observations = {agent: observation for agent in self.agents}\n",
    "        \"\"\"\n",
    "        Our agent_selector utility allows easy cyclic stepping through the agents list.\n",
    "        \"\"\"\n",
    "        self._agent_selector = agent_selector(self.agents)\n",
    "        self.agent_selection = self._agent_selector.next()\n",
    "\n",
    "    def step(self, action):\n",
    "        \"\"\"\n",
    "        step(action) takes in an action for the current agent (specified by\n",
    "        agent_selection) and needs to update\n",
    "        - rewards\n",
    "        - _cumulative_rewards (accumulating the rewards)\n",
    "        - terminations\n",
    "        - truncations\n",
    "        - infos\n",
    "        - agent_selection (to the next agent)\n",
    "        And any internal state used by observe() or render()\n",
    "        \"\"\"\n",
    "        if (\n",
    "            self.terminations[self.agent_selection]\n",
    "            or self.truncations[self.agent_selection]\n",
    "        ):\n",
    "            # handles stepping an agent which is already dead\n",
    "            # accepts a None action for the one agent, and moves the agent_selection to\n",
    "            # the next dead agent,  or if there are no more dead agents, to the next live agent\n",
    "            self._was_dead_step(action)\n",
    "            return\n",
    "\n",
    "        cur_player = self.possible_agents.index(self.agent_selection)\n",
    "        opp_player = (cur_player + 1) % 2\n",
    "        self.num_moves += 1\n",
    "        if self.render_mode == \"human\":\n",
    "            print(f'MOVE #{self.num_moves}')\n",
    "        # The truncations dictionary must be updated for all players.\n",
    "        self.truncations = {\n",
    "            agent: self.num_moves >= NUM_ITERS for agent in self.agents\n",
    "        }\n",
    "        # distribute qumalaqs\n",
    "        if cur_player == 1:\n",
    "            action += 9\n",
    "        if self.render_mode == \"human\":\n",
    "            print(f'{self.agent_selection} made action {action}')\n",
    "        num_qumalaq = self.otaular[action]\n",
    "        idx_action = self.direction[cur_player].index(action)\n",
    "        if self.otaular[action] == 1:\n",
    "            self.otaular[self.direction[cur_player][idx_action + 1]] += 1\n",
    "            self.otaular[action] -= 1\n",
    "        else:\n",
    "            i = 1\n",
    "            while self.otaular[action] > 1:\n",
    "                self.otaular[self.direction[cur_player][(idx_action + i) % 18]] += 1\n",
    "                self.otaular[action] -= 1\n",
    "                i += 1\n",
    "        # check tuzdyq & add rewards to qazandar\n",
    "        reward = 0\n",
    "        # curriculum lesson # 6\n",
    "        # increase reward for winning tuzdyq\n",
    "        if self.check_tuzdyq(self.agent_selection, action):\n",
    "            reward += 3\n",
    "            #self.rewards[self.agent_selection] += 10\n",
    "            if self.render_mode == \"human\":\n",
    "                print(f'{self.agent_selection} won tuzdyq {reward}')\n",
    "        else:\n",
    "\n",
    "            if num_qumalaq > 1:\n",
    "                last_otau = self.direction[cur_player][(idx_action + num_qumalaq - 1) % 18]\n",
    "            else:\n",
    "                last_otau = self.direction[cur_player][(idx_action + num_qumalaq) % 18]\n",
    "\n",
    "            if last_otau in range(opp_player * 9, (opp_player + 1) * 9) and self.otaular[last_otau] % 2 == 0:\n",
    "                reward += self.otaular[last_otau]\n",
    "                if self.render_mode == \"human\":\n",
    "                    print(f'{self.agent_selection} won {reward}')\n",
    "                self.otaular[last_otau] = 0\n",
    "            if self.tuzdyq[cur_player] >= 0 and self.otaular[self.tuzdyq[cur_player]] > 0:\n",
    "                reward += self.otaular[self.tuzdyq[cur_player]]\n",
    "                if self.render_mode == \"human\":\n",
    "                    print(f'{self.agent_selection} won tuzdyq {self.otaular[self.tuzdyq[cur_player]]}')\n",
    "                self.otaular[self.tuzdyq[cur_player]] = 0\n",
    "        if self.render_mode == \"human\":\n",
    "            print(f'{self.agent_selection} won total {reward}')\n",
    "        self.qazandar[cur_player] += reward\n",
    "        #=======================================================================#\n",
    "        # curriculum lesson # 1\n",
    "        # for i in range(cur_player * 9, 9 + cur_player * 9):\n",
    "        #     if self.otaular[i] % 2 != 0:\n",
    "        #         reward -= 1\n",
    "        \n",
    "        #=======================================================================#\n",
    "        # curriculum lesson # 2\n",
    "        opp_actions = self._legal_moves(self.possible_agents[opp_player])\n",
    "        rew_opp = 0\n",
    "        for opp_act in opp_actions:\n",
    "            num_qumalaq = self.otaular[opp_act]\n",
    "            idx_action = self.direction[opp_player].index(action)\n",
    "            if num_qumalaq > 1:\n",
    "                last_otau = self.direction[opp_player][(idx_action + num_qumalaq - 1) % 18]\n",
    "            else:\n",
    "                last_otau = self.direction[opp_player][(idx_action + num_qumalaq) % 18]\n",
    "            if rew_opp < self.otaular[last_otau] and self.otaular[last_otau] % 2 == 1 and last_otau in range(cur_player * 9, (cur_player + 1) * 9):\n",
    "                rew_opp = self.otaular[last_otau]\n",
    "        self.rewards[self.agent_selection] -= 0.5 * rew_opp\n",
    "        #=======================================================================#\n",
    "        # curriculum lesson # 3\n",
    "        # reduce the number of steps\n",
    "        self.rewards[self.agent_selection] -= 1\n",
    "        \n",
    "        self.rewards[self.agent_selection] += reward\n",
    "        # check if there is a winner\n",
    "        winner = self.check_for_winner()\n",
    "\n",
    "        #=======================================================================#\n",
    "        # curriculum lesson # 4\n",
    "        # increase reward for winning the game\n",
    "\n",
    "        #=======================================================================#\n",
    "        # curriculum lesson # 5\n",
    "        # calculate reward in other way\n",
    "        # self.rewards[self.agent_selection] += (self.qazandar[cur_player] - self.qazandar[opp_player]) / 82\n",
    "        # self.rewards[self.agent_selection] -= 0.05\n",
    "        if winner:\n",
    "            # print(\"NSTEPS =\", self.num_moves)\n",
    "            self.rewards[self.agent_selection] += 100\n",
    "            # self.rewards[self.agent_selection] += 1\n",
    "            self.terminations = {i: True for i in self.agents}\n",
    "            if self.render_mode == \"human\":\n",
    "                print(f'{self.agent_selection} won the game!!!')\n",
    "        # selects the next agent.\n",
    "        self.agent_selection = self._agent_selector.next()\n",
    "        # Adds .rewards to ._cumulative_rewards\n",
    "        self._accumulate_rewards()\n",
    "\n",
    "        if self.render_mode == \"human\":\n",
    "            self.render()\n",
    "\n",
    "    def check_tuzdyq(self, agent, action):\n",
    "        cur_player = self.possible_agents.index(agent)\n",
    "        opp_player = (cur_player + 1) % 2\n",
    "        idx = self.direction[cur_player].index(action)\n",
    "        num_qumalaq = self.otaular[action]\n",
    "\n",
    "        if num_qumalaq > 1:\n",
    "            last_otau = self.direction[cur_player][(idx + num_qumalaq - 1) % 18]\n",
    "        else:\n",
    "            last_otau = self.direction[cur_player][(idx + num_qumalaq) % 18]\n",
    "\n",
    "        if last_otau in range(opp_player * 9, (opp_player + 1) * 9) and self.otaular[last_otau] == 3 and last_otau != 17 - cur_player * 9 and abs(last_otau - self.tuzdyq[opp_player]) != 9:\n",
    "            self.tuzdyq[cur_player] = last_otau\n",
    "            self.otaular[last_otau] = 0\n",
    "            if self.render_mode == \"human\":\n",
    "                print(f'{agent} got tuzdyq {last_otau}!')\n",
    "            return True\n",
    "\n",
    "        return False\n",
    "\n",
    "    def check_atsyrau(self, agent):\n",
    "        cur_player = self.possible_agents.index(agent)\n",
    "        opp_player = (cur_player + 1) % 2\n",
    "\n",
    "        for idx, i in enumerate(self.otaular[cur_player * 9: (cur_player + 1) * 9]):\n",
    "            if i > 0 and idx + cur_player * 9 != self.tuzdyq[opp_player]:\n",
    "                return False\n",
    "        if self.render_mode == \"human\":\n",
    "            print(f'{agent} reached atsyrau')\n",
    "        return True\n",
    "\n",
    "    def check_for_winner(self):\n",
    "        cur_player = self.possible_agents.index(self.agent_selection)\n",
    "        opp_player = (cur_player + 1) % 2\n",
    "        if self.qazandar[cur_player] > 81:\n",
    "            PLAYS[self.agent_selection] += 1\n",
    "            return True\n",
    "        if self.check_atsyrau(self.possible_agents[opp_player]) and self.qazandar[opp_player] <= 81:\n",
    "            PLAYS[self.agent_selection] += 1\n",
    "            return True\n",
    "        return False"
   ]
  },
  {
   "cell_type": "markdown",
   "metadata": {
    "id": "46_0KK8E1rWM",
    "jp-MarkdownHeadingCollapsed": true
   },
   "source": [
    "### 🦚 Testing environment"
   ]
  },
  {
   "cell_type": "code",
   "execution_count": 6,
   "metadata": {
    "id": "lulAELFM0LZQ"
   },
   "outputs": [],
   "source": [
    "# env = env(render_mode=\"human\")\n",
    "# env.reset(seed=42)\n",
    "\n",
    "# for agent in env.agent_iter():\n",
    "#     observation, reward, termination, truncation, info = env.last()\n",
    "\n",
    "#     if termination or truncation:\n",
    "#         action = None\n",
    "#     else:\n",
    "#         mask = observation[\"action_mask\"]\n",
    "#         # this is where you would insert your policy\n",
    "#         action = env.action_space(agent).sample(mask)\n",
    "\n",
    "#     env.step(action)\n",
    "# env.close()"
   ]
  },
  {
   "cell_type": "markdown",
   "metadata": {
    "id": "ebqZJ9uJ1qKU"
   },
   "source": [
    "# 🐼 DQN agent to play vs a random policy agent https://pettingzoo.farama.org/tutorials/tianshou/intermediate/"
   ]
  },
  {
   "cell_type": "markdown",
   "metadata": {
    "id": "sNPVNMBTNW3z",
    "jp-MarkdownHeadingCollapsed": true
   },
   "source": [
    "### 🐫 Prepare main functions"
   ]
  },
  {
   "cell_type": "code",
   "execution_count": 7,
   "metadata": {
    "id": "9VNyTKoxNZvV"
   },
   "outputs": [],
   "source": [
    "def _get_agents_dqn(\n",
    "    agent_learn: Optional[BasePolicy] = None,\n",
    "    agent_opponent: Optional[BasePolicy] = None,\n",
    "    optim: Optional[torch.optim.Optimizer] = None,\n",
    "    agent_type = None,\n",
    "    net_arch = [64, 128, 128, 64]\n",
    ") -> Tuple[BasePolicy, torch.optim.Optimizer, list]:\n",
    "    env = _get_env()\n",
    "    observation_space = (\n",
    "        env.observation_space[\"observation\"]\n",
    "        if isinstance(env.observation_space, gymnasium.spaces.Dict)\n",
    "        else env.observation_space\n",
    "    )\n",
    "    if agent_learn is None:\n",
    "        # model\n",
    "        net = Net(\n",
    "            state_shape=observation_space.shape or observation_space.n,\n",
    "            action_shape=env.action_space.shape or env.action_space.n,\n",
    "            hidden_sizes=net_arch,\n",
    "            device=\"cuda\" if torch.cuda.is_available() else \"cpu\",\n",
    "        ).to(\"cuda\" if torch.cuda.is_available() else \"cpu\")\n",
    "\n",
    "        if optim is None:\n",
    "            optim = torch.optim.Adam(net.parameters(), lr=1e-4)\n",
    "        agent_learn = DQNPolicy(\n",
    "            model=net,\n",
    "            optim=optim,\n",
    "            discount_factor=0.9,\n",
    "            estimation_step=3,\n",
    "            target_update_freq=320,\n",
    "            action_space=env.action_space,\n",
    "            observation_space=observation_space\n",
    "        ).to(\"cuda\" if torch.cuda.is_available() else \"cpu\")\n",
    "\n",
    "\n",
    "    if agent_opponent is None:\n",
    "        agent_opponent = RandomPolicy(action_space=env.action_space)\n",
    "        \n",
    "    if agent_type==\"qostaushy\":\n",
    "        agents = [agent_opponent, agent_learn]\n",
    "    else:\n",
    "        agents = [agent_learn, agent_opponent]\n",
    "    policy = MultiAgentPolicyManager(policies=agents, env=env)\n",
    "    return policy, optim, env.agents\n",
    "\n",
    "\n",
    "def _get_env(render_mode=None):\n",
    "    \"\"\"This function is needed to provide callables for DummyVectorEnv.\"\"\"\n",
    "    def env(render_mode=None):\n",
    "        \"\"\"\n",
    "        The env function often wraps the environment in wrappers by default.\n",
    "        You can find full documentation for these methods\n",
    "        elsewhere in the developer documentation.\n",
    "        \"\"\"\n",
    "        internal_render_mode = render_mode if render_mode != \"ansi\" else \"human\"\n",
    "        env = raw_env(render_mode=internal_render_mode)\n",
    "        # This wrapper is only for environments which print results to the terminal\n",
    "        if render_mode == \"ansi\":\n",
    "            env = wrappers.CaptureStdoutWrapper(env)\n",
    "        # this wrapper helps error handling for discrete action spaces\n",
    "        env = wrappers.AssertOutOfBoundsWrapper(env)\n",
    "        # Provides a wide vareity of helpful user errors\n",
    "        # Strongly recommended\n",
    "        env = wrappers.OrderEnforcingWrapper(env)\n",
    "        return env\n",
    "    return PettingZooEnv(env(render_mode=render_mode))"
   ]
  },
  {
   "cell_type": "markdown",
   "metadata": {},
   "source": [
    "# 🐎 Self-play training agents"
   ]
  },
  {
   "cell_type": "markdown",
   "metadata": {
    "jp-MarkdownHeadingCollapsed": true
   },
   "source": [
    "### 🦚 Methods train agent"
   ]
  },
  {
   "cell_type": "code",
   "execution_count": 8,
   "metadata": {},
   "outputs": [],
   "source": [
    "def train_agent_dqn_bastaushy(index, net_arch, agent_learn=None, agent_opponent=None, path=\"bastaushy\", seed=11):\n",
    "    # Before evaluate this cell run the cell with env\n",
    "    # ======== Step 1: Environment setup =========\n",
    "    train_envs = DummyVectorEnv([_get_env for _ in range(100)])\n",
    "    test_envs = DummyVectorEnv([_get_env for _ in range(100)])\n",
    "    \n",
    "    # seed\n",
    "    np.random.seed(seed)\n",
    "    torch.manual_seed(seed)\n",
    "    train_envs.seed(seed)\n",
    "    test_envs.seed(seed)\n",
    "    \n",
    "    # ======== Step 2: Agent setup =========\n",
    "    policy, optim, agents = _get_agents_dqn(agent_learn=agent_learn, agent_opponent=agent_opponent, agent_type=path, net_arch=net_arch)\n",
    "    \n",
    "    # # ======== Step 3: Collector setup =========\n",
    "    train_collector = Collector(\n",
    "        policy,\n",
    "        train_envs,\n",
    "        VectorReplayBuffer(100_000, len(train_envs)),\n",
    "        exploration_noise=True,\n",
    "    )\n",
    "    test_collector = Collector(policy, test_envs, exploration_noise=True)\n",
    "    log_path = os.path.join(LOGS_PATH[path], str(index))\n",
    "    writer = SummaryWriter(log_path)\n",
    "    logger = TensorboardLogger(writer)\n",
    "    # policy.set_eps(1)\n",
    "    \n",
    "    # ======== Step 4: Callback functions setup =========\n",
    "    def save_best_fn(policy):\n",
    "        model_save_path = os.path.join(MODELS_PATH[path], f'policy_dqn_{arch2str(net_arch)}_{index}.pth')\n",
    "        os.makedirs(MODELS_PATH[path], exist_ok=True)\n",
    "        torch.save(policy.policies[agents[0]].state_dict(), model_save_path)\n",
    "    \n",
    "    def stop_fn(mean_rewards):\n",
    "        return mean_rewards >= 55000\n",
    "    \n",
    "    def train_fn(epoch, env_step):\n",
    "        policy.policies[agents[0]].set_eps(0.1)\n",
    "    \n",
    "    def test_fn(epoch, env_step):\n",
    "        policy.policies[agents[0]].set_eps(0.05)\n",
    "    \n",
    "    def reward_metric(rews):\n",
    "        return rews[:, 0]\n",
    "\n",
    "    # ======== Step 5: Run the trainer =========\n",
    "    result = OffpolicyTrainer(\n",
    "        policy=policy,\n",
    "        train_collector=train_collector,\n",
    "        test_collector=test_collector,\n",
    "        max_epoch=MAX_EPOCHS,\n",
    "        step_per_epoch=STEP_PER_EPOCH,\n",
    "        step_per_collect=STEP_PER_COLLECT,\n",
    "        episode_per_test=EPISODE_PER_TEST,\n",
    "        batch_size=BATCH_SIZE,\n",
    "        train_fn=train_fn,\n",
    "        test_fn=test_fn,\n",
    "        stop_fn=stop_fn,\n",
    "        save_best_fn=save_best_fn,\n",
    "        update_per_step=0.1,\n",
    "        test_in_train=False,\n",
    "        reward_metric=reward_metric,\n",
    "        verbose=True,\n",
    "        logger=logger\n",
    "    ).run()\n",
    "    \n",
    "    # return result, policy.policies[agents[1]]\n",
    "    print(f\"\\n==========Result==========\\n{result}\")\n",
    "    print(\"\\n(the trained policy can be accessed via policy.policies[agents[0]])\")\n",
    "    return policy.policies[agents[0]]"
   ]
  },
  {
   "cell_type": "code",
   "execution_count": 9,
   "metadata": {},
   "outputs": [],
   "source": [
    "def train_agent_dqn_qostaushy(index, net_arch, agent_learn=None, agent_opponent=None, path=\"qostaushy\", seed=11):\n",
    "    # Before evaluate this cell run the cell with env\n",
    "    # ======== Step 1: Environment setup =========\n",
    "    train_envs = DummyVectorEnv([_get_env for _ in range(100)])\n",
    "    test_envs = DummyVectorEnv([_get_env for _ in range(100)])\n",
    "    \n",
    "    # seed\n",
    "    np.random.seed(seed)\n",
    "    torch.manual_seed(seed)\n",
    "    train_envs.seed(seed)\n",
    "    test_envs.seed(seed)\n",
    "    \n",
    "    # ======== Step 2: Agent setup =========\n",
    "    policy, optim, agents = _get_agents_dqn(agent_learn=agent_learn, agent_opponent=agent_opponent, agent_type=path, net_arch=net_arch)\n",
    "    \n",
    "    # # ======== Step 3: Collector setup =========\n",
    "    train_collector = Collector(\n",
    "        policy,\n",
    "        train_envs,\n",
    "        VectorReplayBuffer(100_000, len(train_envs)),\n",
    "        exploration_noise=True,\n",
    "    )\n",
    "    test_collector = Collector(policy, test_envs, exploration_noise=True)\n",
    "    log_path = os.path.join(LOGS_PATH[path], str(index))\n",
    "    writer = SummaryWriter(log_path)\n",
    "    logger = TensorboardLogger(writer)\n",
    "    # policy.set_eps(1)\n",
    "    \n",
    "    # ======== Step 4: Callback functions setup =========\n",
    "    def save_best_fn(policy):\n",
    "        model_save_path = os.path.join(MODELS_PATH[path], f'policy_dqn_{arch2str(net_arch)}_{index}.pth')\n",
    "        os.makedirs(MODELS_PATH[path], exist_ok=True)\n",
    "        torch.save(policy.policies[agents[1]].state_dict(), model_save_path)\n",
    "    \n",
    "    def stop_fn(mean_rewards):\n",
    "        return mean_rewards >= 55000\n",
    "    \n",
    "    def train_fn(epoch, env_step):\n",
    "        policy.policies[agents[1]].set_eps(0.1)\n",
    "    \n",
    "    def test_fn(epoch, env_step):\n",
    "        policy.policies[agents[1]].set_eps(0.05)\n",
    "    \n",
    "    def reward_metric(rews):\n",
    "        return rews[:, 1]\n",
    "\n",
    "    # ======== Step 5: Run the trainer =========\n",
    "    result = OffpolicyTrainer(\n",
    "        policy=policy,\n",
    "        train_collector=train_collector,\n",
    "        test_collector=test_collector,\n",
    "        max_epoch=MAX_EPOCHS,\n",
    "        step_per_epoch=STEP_PER_EPOCH,\n",
    "        step_per_collect=STEP_PER_COLLECT,\n",
    "        episode_per_test=EPISODE_PER_TEST,\n",
    "        batch_size=BATCH_SIZE,\n",
    "        train_fn=train_fn,\n",
    "        test_fn=test_fn,\n",
    "        stop_fn=stop_fn,\n",
    "        save_best_fn=save_best_fn,\n",
    "        update_per_step=0.1,\n",
    "        test_in_train=False,\n",
    "        reward_metric=reward_metric,\n",
    "        verbose=True,\n",
    "        logger=logger\n",
    "    ).run()\n",
    "    \n",
    "    # return result, policy.policies[agents[1]]\n",
    "    print(f\"\\n==========Result==========\\n{result}\")\n",
    "    print(\"\\n(the trained policy can be accessed via policy.policies[agents[1]])\")\n",
    "    return policy.policies[agents[1]]"
   ]
  },
  {
   "cell_type": "markdown",
   "metadata": {},
   "source": [
    "## 🐡 Train initial agents via random policy"
   ]
  },
  {
   "cell_type": "markdown",
   "metadata": {
    "jp-MarkdownHeadingCollapsed": true
   },
   "source": [
    "### 🐜 Set net architectures "
   ]
  },
  {
   "cell_type": "code",
   "execution_count": 10,
   "metadata": {},
   "outputs": [
    {
     "data": {
      "text/plain": [
       "'128x256x256x128'"
      ]
     },
     "execution_count": 10,
     "metadata": {},
     "output_type": "execute_result"
    }
   ],
   "source": [
    "def arch2str(net_arch):\n",
    "    out = str(net_arch[0])\n",
    "    for i in net_arch[1:]:\n",
    "        out += 'x' + str(i)\n",
    "    return out\n",
    "\n",
    "def str2arch(inp):\n",
    "    lst = inp.split('x')\n",
    "    return [int(i) for i in lst]\n",
    "\n",
    "arch2str(NET_ARCHS[0])"
   ]
  },
  {
   "cell_type": "markdown",
   "metadata": {
    "jp-MarkdownHeadingCollapsed": true
   },
   "source": [
    "### 🦆 Training code"
   ]
  },
  {
   "cell_type": "code",
   "execution_count": null,
   "metadata": {
    "scrolled": true
   },
   "outputs": [],
   "source": [
    "for arch in NET_ARCHS:\n",
    "    print(f\"Train with initial agents for net arch={arch}\")\n",
    "    env = _get_env()\n",
    "    net = Net(\n",
    "                state_shape=(22,),\n",
    "                action_shape=env.action_space.shape or env.action_space.n,\n",
    "                hidden_sizes=arch\n",
    "            ).to(\"cuda\" if torch.cuda.is_available() else \"cpu\")\n",
    "    \n",
    "    agent_learned = DQNPolicy(\n",
    "                model=net,\n",
    "                optim = torch.optim.Adam(net.parameters(), lr=1e-4),\n",
    "                discount_factor=0.9,\n",
    "                estimation_step=3,\n",
    "                target_update_freq=320,\n",
    "                action_space=env.action_space,\n",
    "                observation_space=env.observation_space\n",
    "            ).to(\"cuda\" if torch.cuda.is_available() else \"cpu\")\n",
    "\n",
    "    agent_trained_bastaushy = train_agent_dqn_bastaushy(index=0, net_arch=arch, agent_learn=agent_learned, path=\"bastaushy\")\n",
    "    agent_trained_qostaushy = train_agent_dqn_qostaushy(index=0, net_arch=arch, agent_learn=agent_learned, path=\"qostaushy\")"
   ]
  },
  {
   "cell_type": "markdown",
   "metadata": {},
   "source": [
    "## 🦉 Main self-play training code"
   ]
  },
  {
   "cell_type": "markdown",
   "metadata": {},
   "source": [
    "### 🐘 Load trained agents"
   ]
  },
  {
   "cell_type": "code",
   "execution_count": 11,
   "metadata": {},
   "outputs": [],
   "source": [
    "agents_learned_bastaushy = {arch2str(key): [] for key in NET_ARCHS}\n",
    "agents_learned_qostaushy = {arch2str(key): [] for key in NET_ARCHS}"
   ]
  },
  {
   "cell_type": "code",
   "execution_count": 12,
   "metadata": {},
   "outputs": [
    {
     "name": "stdout",
     "output_type": "stream",
     "text": [
      "policy_dqn_128x256x256x128_0.pth\n",
      "policy_dqn_256x512x256_0.pth\n",
      "policy_dqn_256x512x512x256_0.pth\n",
      "policy_dqn_512x1024x1024x512_0.pth\n",
      "policy_dqn_512x1024x512_0.pth\n"
     ]
    }
   ],
   "source": [
    "for file in sorted(os.listdir(MODELS_PATH['bastaushy'])):  \n",
    "    env = _get_env()\n",
    "    arch = str2arch(file.split('_')[2])\n",
    "    if arch in NET_ARCHS:\n",
    "        print(file)\n",
    "        net = Net(\n",
    "                    state_shape=(22,),\n",
    "                    action_shape=env.action_space.shape or env.action_space.n,\n",
    "                    hidden_sizes=arch,\n",
    "                    device=\"cuda\" if torch.cuda.is_available() else \"cpu\",\n",
    "                ).to(\"cuda\" if torch.cuda.is_available() else \"cpu\")\n",
    "        agent_learned = DQNPolicy(\n",
    "                    model=net,\n",
    "                    optim = torch.optim.Adam(net.parameters(), lr=1e-4),\n",
    "                    discount_factor=0.9,\n",
    "                    estimation_step=3,\n",
    "                    target_update_freq=320,\n",
    "                    action_space=env.action_space\n",
    "                ).to(\"cuda\" if torch.cuda.is_available() else \"cpu\")\n",
    "        agent_learned.load_state_dict(torch.load(f\"{MODELS_PATH['bastaushy']}/{file}\"))\n",
    "        agents_learned_bastaushy[arch2str(arch)].append(agent_learned)"
   ]
  },
  {
   "cell_type": "code",
   "execution_count": 13,
   "metadata": {},
   "outputs": [
    {
     "name": "stdout",
     "output_type": "stream",
     "text": [
      "policy_dqn_128x256x256x128_0.pth\n",
      "policy_dqn_256x512x256_0.pth\n",
      "policy_dqn_256x512x512x256_0.pth\n",
      "policy_dqn_512x1024x1024x512_0.pth\n",
      "policy_dqn_512x1024x512_0.pth\n"
     ]
    }
   ],
   "source": [
    "for file in sorted(os.listdir(MODELS_PATH['qostaushy'])):\n",
    "    env = _get_env()\n",
    "    arch = str2arch(file.split('_')[2])\n",
    "    if arch in NET_ARCHS:\n",
    "        print(file)\n",
    "        net = Net(\n",
    "                    state_shape=(22,),\n",
    "                    action_shape=env.action_space.shape or env.action_space.n,\n",
    "                    hidden_sizes=arch,\n",
    "                ).to(\"cuda\" if torch.cuda.is_available() else \"cpu\")\n",
    "        agent_learned = DQNPolicy(\n",
    "                    model=net,\n",
    "                    optim = torch.optim.Adam(net.parameters(), lr=1e-4),\n",
    "                    discount_factor=0.9,\n",
    "                    estimation_step=3,\n",
    "                    target_update_freq=320,\n",
    "                    action_space=env.action_space\n",
    "                ).to(\"cuda\" if torch.cuda.is_available() else \"cpu\")\n",
    "        \n",
    "        agent_learned.load_state_dict(torch.load(f\"{MODELS_PATH['qostaushy']}/{file}\"))\n",
    "        agents_learned_qostaushy[arch2str(arch)].append(agent_learned)"
   ]
  },
  {
   "cell_type": "markdown",
   "metadata": {
    "jp-MarkdownHeadingCollapsed": true
   },
   "source": [
    "### 🐑 Self-play"
   ]
  },
  {
   "cell_type": "code",
   "execution_count": null,
   "metadata": {
    "scrolled": true
   },
   "outputs": [
    {
     "name": "stdout",
     "output_type": "stream",
     "text": [
      "Train agent qostaushy vs bastaushy #3\n"
     ]
    },
    {
     "name": "stderr",
     "output_type": "stream",
     "text": [
      "Epoch #1: 1001it [00:02, 472.83it/s, env_step=1000, gradient_step=100, len=0, n/ep=0, n/st=100, rew=0.00]                                                                                         \n"
     ]
    },
    {
     "name": "stdout",
     "output_type": "stream",
     "text": [
      "Epoch #1: test_reward: -7906.270000 ± 7814.209234, best_reward: -6706.900000 ± 6570.330699 in #0\n"
     ]
    },
    {
     "name": "stderr",
     "output_type": "stream",
     "text": [
      "Epoch #2: 1001it [00:02, 375.93it/s, env_step=2000, gradient_step=200, len=0, n/ep=0, n/st=100, rew=0.00]                                                                                         \n"
     ]
    },
    {
     "name": "stdout",
     "output_type": "stream",
     "text": [
      "Epoch #2: test_reward: -9149.360000 ± 8437.011721, best_reward: -6706.900000 ± 6570.330699 in #0\n"
     ]
    },
    {
     "name": "stderr",
     "output_type": "stream",
     "text": [
      "Epoch #3: 1001it [00:02, 448.71it/s, env_step=3000, gradient_step=300, len=28, n/ep=0, n/st=100, rew=-22.50]                                                                                      \n"
     ]
    },
    {
     "name": "stdout",
     "output_type": "stream",
     "text": [
      "Epoch #3: test_reward: -9036.100000 ± 12493.582961, best_reward: -6706.900000 ± 6570.330699 in #0\n"
     ]
    },
    {
     "name": "stderr",
     "output_type": "stream",
     "text": [
      "Epoch #4: 1001it [00:02, 475.52it/s, env_step=4000, gradient_step=400, len=36, n/ep=0, n/st=100, rew=177.25]                                                                                      \n"
     ]
    },
    {
     "name": "stdout",
     "output_type": "stream",
     "text": [
      "Epoch #4: test_reward: -6230.820000 ± 8510.635009, best_reward: -6230.820000 ± 8510.635009 in #4\n"
     ]
    },
    {
     "name": "stderr",
     "output_type": "stream",
     "text": [
      "Epoch #5: 1001it [00:01, 561.65it/s, env_step=5000, gradient_step=500, len=50, n/ep=1, n/st=100, rew=-143.75]                                                                                     \n"
     ]
    },
    {
     "name": "stdout",
     "output_type": "stream",
     "text": [
      "Epoch #5: test_reward: -10752.610000 ± 10873.543187, best_reward: -6230.820000 ± 8510.635009 in #4\n"
     ]
    },
    {
     "name": "stderr",
     "output_type": "stream",
     "text": [
      "Epoch #6: 1001it [00:02, 475.71it/s, env_step=6000, gradient_step=600, len=60, n/ep=1, n/st=100, rew=-694.50]                                                                                     \n"
     ]
    },
    {
     "name": "stdout",
     "output_type": "stream",
     "text": [
      "Epoch #6: test_reward: -6040.670000 ± 6445.496595, best_reward: -6040.670000 ± 6445.496595 in #6\n"
     ]
    },
    {
     "name": "stderr",
     "output_type": "stream",
     "text": [
      "Epoch #7: 1001it [00:02, 470.67it/s, env_step=7000, gradient_step=700, len=70, n/ep=2, n/st=100, rew=-419.38]                                                                                     \n"
     ]
    },
    {
     "name": "stdout",
     "output_type": "stream",
     "text": [
      "Epoch #7: test_reward: -10297.590000 ± 9872.382684, best_reward: -6040.670000 ± 6445.496595 in #6\n"
     ]
    },
    {
     "name": "stderr",
     "output_type": "stream",
     "text": [
      "Epoch #8: 1001it [00:01, 520.38it/s, env_step=8000, gradient_step=800, len=80, n/ep=1, n/st=100, rew=-2892.25]                                                                                    \n"
     ]
    },
    {
     "name": "stdout",
     "output_type": "stream",
     "text": [
      "Epoch #8: test_reward: -7597.650000 ± 7515.935351, best_reward: -6040.670000 ± 6445.496595 in #6\n"
     ]
    },
    {
     "name": "stderr",
     "output_type": "stream",
     "text": [
      "Epoch #9: 1001it [00:02, 490.60it/s, env_step=9000, gradient_step=900, len=90, n/ep=1, n/st=100, rew=-2123.75]                                                                                    \n"
     ]
    },
    {
     "name": "stdout",
     "output_type": "stream",
     "text": [
      "Epoch #9: test_reward: -8747.010000 ± 10816.231451, best_reward: -6040.670000 ± 6445.496595 in #6\n"
     ]
    },
    {
     "name": "stderr",
     "output_type": "stream",
     "text": [
      "Epoch #10: 1001it [00:01, 559.29it/s, env_step=10000, gradient_step=1000, len=100, n/ep=2, n/st=100, rew=-4313.25]                                                                                \n"
     ]
    },
    {
     "name": "stdout",
     "output_type": "stream",
     "text": [
      "Epoch #10: test_reward: -7768.240000 ± 9531.698821, best_reward: -6040.670000 ± 6445.496595 in #6\n"
     ]
    },
    {
     "name": "stderr",
     "output_type": "stream",
     "text": [
      "Epoch #11: 1001it [00:01, 528.40it/s, env_step=11000, gradient_step=1100, len=109, n/ep=0, n/st=100, rew=-4600.25]                                                                                \n"
     ]
    },
    {
     "name": "stdout",
     "output_type": "stream",
     "text": [
      "Epoch #11: test_reward: -7783.620000 ± 7677.999034, best_reward: -6040.670000 ± 6445.496595 in #6\n"
     ]
    },
    {
     "name": "stderr",
     "output_type": "stream",
     "text": [
      "Epoch #12: 1001it [00:02, 384.35it/s, env_step=12000, gradient_step=1200, len=50, n/ep=1, n/st=100, rew=-1063.75]                                                                                 \n"
     ]
    },
    {
     "name": "stdout",
     "output_type": "stream",
     "text": [
      "Epoch #12: test_reward: -5476.110000 ± 6744.083688, best_reward: -5476.110000 ± 6744.083688 in #12\n"
     ]
    },
    {
     "name": "stderr",
     "output_type": "stream",
     "text": [
      "Epoch #13: 1001it [00:02, 482.04it/s, env_step=13000, gradient_step=1300, len=101, n/ep=2, n/st=100, rew=-5508.38]                                                                                \n"
     ]
    },
    {
     "name": "stdout",
     "output_type": "stream",
     "text": [
      "Epoch #13: test_reward: -6737.710000 ± 8150.359983, best_reward: -5476.110000 ± 6744.083688 in #12\n"
     ]
    },
    {
     "name": "stderr",
     "output_type": "stream",
     "text": [
      "Epoch #14: 1001it [00:01, 585.14it/s, env_step=14000, gradient_step=1400, len=62, n/ep=1, n/st=100, rew=-2573.00]                                                                                 \n"
     ]
    },
    {
     "name": "stdout",
     "output_type": "stream",
     "text": [
      "Epoch #14: test_reward: -5897.490000 ± 7466.991159, best_reward: -5476.110000 ± 6744.083688 in #12\n"
     ]
    },
    {
     "name": "stderr",
     "output_type": "stream",
     "text": [
      "Epoch #15: 1001it [00:02, 426.25it/s, env_step=15000, gradient_step=1500, len=150, n/ep=1, n/st=100, rew=-10476.00]                                                                               \n"
     ]
    },
    {
     "name": "stdout",
     "output_type": "stream",
     "text": [
      "Epoch #15: test_reward: -6102.000000 ± 6747.054636, best_reward: -5476.110000 ± 6744.083688 in #12\n"
     ]
    },
    {
     "name": "stderr",
     "output_type": "stream",
     "text": [
      "Epoch #16: 1001it [00:02, 398.75it/s, env_step=16000, gradient_step=1600, len=84, n/ep=3, n/st=100, rew=-4337.42]                                                                                 \n"
     ]
    },
    {
     "name": "stdout",
     "output_type": "stream",
     "text": [
      "Epoch #16: test_reward: -7424.360000 ± 8186.796386, best_reward: -5476.110000 ± 6744.083688 in #12\n"
     ]
    },
    {
     "name": "stderr",
     "output_type": "stream",
     "text": [
      "Epoch #17: 1001it [00:01, 512.61it/s, env_step=17000, gradient_step=1700, len=44, n/ep=0, n/st=100, rew=-754.50]                                                                                  \n"
     ]
    },
    {
     "name": "stdout",
     "output_type": "stream",
     "text": [
      "Epoch #17: test_reward: -6223.760000 ± 8811.775619, best_reward: -5476.110000 ± 6744.083688 in #12\n"
     ]
    },
    {
     "name": "stderr",
     "output_type": "stream",
     "text": [
      "Epoch #18: 1001it [00:01, 537.94it/s, env_step=18000, gradient_step=1800, len=120, n/ep=0, n/st=100, rew=-5979.00]                                                                                \n"
     ]
    },
    {
     "name": "stdout",
     "output_type": "stream",
     "text": [
      "Epoch #18: test_reward: -7037.370000 ± 8376.200279, best_reward: -5476.110000 ± 6744.083688 in #12\n"
     ]
    },
    {
     "name": "stderr",
     "output_type": "stream",
     "text": [
      "Epoch #19: 1001it [00:02, 417.50it/s, env_step=19000, gradient_step=1900, len=60, n/ep=1, n/st=100, rew=-20.50]                                                                                   \n"
     ]
    },
    {
     "name": "stdout",
     "output_type": "stream",
     "text": [
      "Epoch #19: test_reward: -6966.470000 ± 7047.779525, best_reward: -5476.110000 ± 6744.083688 in #12\n"
     ]
    },
    {
     "name": "stderr",
     "output_type": "stream",
     "text": [
      "Epoch #20: 1001it [00:02, 468.10it/s, env_step=20000, gradient_step=2000, len=200, n/ep=1, n/st=100, rew=-14346.75]                                                                               \n"
     ]
    },
    {
     "name": "stdout",
     "output_type": "stream",
     "text": [
      "Epoch #20: test_reward: -7398.630000 ± 12896.368189, best_reward: -5476.110000 ± 6744.083688 in #12\n"
     ]
    },
    {
     "name": "stderr",
     "output_type": "stream",
     "text": [
      "Epoch #21: 1001it [00:01, 530.37it/s, env_step=21000, gradient_step=2100, len=157, n/ep=0, n/st=100, rew=-15420.00]                                                                               \n"
     ]
    },
    {
     "name": "stdout",
     "output_type": "stream",
     "text": [
      "Epoch #21: test_reward: -6601.450000 ± 9638.926841, best_reward: -5476.110000 ± 6744.083688 in #12\n"
     ]
    },
    {
     "name": "stderr",
     "output_type": "stream",
     "text": [
      "Epoch #22: 1001it [00:01, 644.53it/s, env_step=22000, gradient_step=2200, len=136, n/ep=1, n/st=100, rew=-10939.50]                                                                               \n"
     ]
    },
    {
     "name": "stdout",
     "output_type": "stream",
     "text": [
      "Epoch #22: test_reward: -6381.300000 ± 7535.253971, best_reward: -5476.110000 ± 6744.083688 in #12\n"
     ]
    },
    {
     "name": "stderr",
     "output_type": "stream",
     "text": [
      "Epoch #23: 1001it [00:01, 575.21it/s, env_step=23000, gradient_step=2300, len=156, n/ep=1, n/st=100, rew=-14583.50]                                                                               \n"
     ]
    },
    {
     "name": "stdout",
     "output_type": "stream",
     "text": [
      "Epoch #23: test_reward: -5281.180000 ± 7429.028473, best_reward: -5281.180000 ± 7429.028473 in #23\n"
     ]
    },
    {
     "name": "stderr",
     "output_type": "stream",
     "text": [
      "Epoch #24: 1001it [00:02, 494.95it/s, env_step=24000, gradient_step=2400, len=71, n/ep=2, n/st=100, rew=-2878.38]                                                                                 \n"
     ]
    },
    {
     "name": "stdout",
     "output_type": "stream",
     "text": [
      "Epoch #24: test_reward: -5920.550000 ± 7680.828006, best_reward: -5281.180000 ± 7429.028473 in #23\n"
     ]
    },
    {
     "name": "stderr",
     "output_type": "stream",
     "text": [
      "Epoch #25: 1001it [00:02, 493.55it/s, env_step=25000, gradient_step=2500, len=87, n/ep=2, n/st=100, rew=-4009.00]                                                                                 \n"
     ]
    },
    {
     "name": "stdout",
     "output_type": "stream",
     "text": [
      "Epoch #25: test_reward: -7520.630000 ± 10335.145454, best_reward: -5281.180000 ± 7429.028473 in #23\n"
     ]
    },
    {
     "name": "stderr",
     "output_type": "stream",
     "text": [
      "Epoch #26: 1001it [00:02, 417.27it/s, env_step=26000, gradient_step=2600, len=133, n/ep=3, n/st=100, rew=-7475.00]                                                                                \n"
     ]
    },
    {
     "name": "stdout",
     "output_type": "stream",
     "text": [
      "Epoch #26: test_reward: -8766.770000 ± 12516.779693, best_reward: -5281.180000 ± 7429.028473 in #23\n"
     ]
    },
    {
     "name": "stderr",
     "output_type": "stream",
     "text": [
      "Epoch #27: 1001it [00:02, 374.98it/s, env_step=27000, gradient_step=2700, len=94, n/ep=4, n/st=100, rew=-5273.75]                                                                                 \n"
     ]
    },
    {
     "name": "stdout",
     "output_type": "stream",
     "text": [
      "Epoch #27: test_reward: -8407.720000 ± 13792.181707, best_reward: -5281.180000 ± 7429.028473 in #23\n"
     ]
    },
    {
     "name": "stderr",
     "output_type": "stream",
     "text": [
      "Epoch #28: 1001it [00:02, 354.82it/s, env_step=28000, gradient_step=2800, len=86, n/ep=0, n/st=100, rew=-4681.25]                                                                                 \n"
     ]
    },
    {
     "name": "stdout",
     "output_type": "stream",
     "text": [
      "Epoch #28: test_reward: -8341.930000 ± 13208.109367, best_reward: -5281.180000 ± 7429.028473 in #23\n"
     ]
    },
    {
     "name": "stderr",
     "output_type": "stream",
     "text": [
      "Epoch #29: 1001it [00:02, 395.82it/s, env_step=29000, gradient_step=2900, len=96, n/ep=2, n/st=100, rew=-7993.12]                                                                                 \n"
     ]
    },
    {
     "name": "stdout",
     "output_type": "stream",
     "text": [
      "Epoch #29: test_reward: -5716.150000 ± 10349.054856, best_reward: -5281.180000 ± 7429.028473 in #23\n"
     ]
    },
    {
     "name": "stderr",
     "output_type": "stream",
     "text": [
      "Epoch #30: 1001it [00:01, 603.30it/s, env_step=30000, gradient_step=3000, len=60, n/ep=1, n/st=100, rew=-1278.00]                                                                                 \n"
     ]
    },
    {
     "name": "stdout",
     "output_type": "stream",
     "text": [
      "Epoch #30: test_reward: -10024.730000 ± 13320.272749, best_reward: -5281.180000 ± 7429.028473 in #23\n"
     ]
    },
    {
     "name": "stderr",
     "output_type": "stream",
     "text": [
      "Epoch #31: 1001it [00:01, 614.70it/s, env_step=31000, gradient_step=3100, len=164, n/ep=0, n/st=100, rew=-13924.25]                                                                               \n"
     ]
    },
    {
     "name": "stdout",
     "output_type": "stream",
     "text": [
      "Epoch #31: test_reward: -7255.780000 ± 9424.247121, best_reward: -5281.180000 ± 7429.028473 in #23\n"
     ]
    },
    {
     "name": "stderr",
     "output_type": "stream",
     "text": [
      "Epoch #32: 1001it [00:02, 493.21it/s, env_step=32000, gradient_step=3200, len=80, n/ep=1, n/st=100, rew=-2907.00]                                                                                 \n"
     ]
    },
    {
     "name": "stdout",
     "output_type": "stream",
     "text": [
      "Epoch #32: test_reward: -8439.020000 ± 13481.620204, best_reward: -5281.180000 ± 7429.028473 in #23\n"
     ]
    },
    {
     "name": "stderr",
     "output_type": "stream",
     "text": [
      "Epoch #33: 1001it [00:02, 465.06it/s, env_step=33000, gradient_step=3300, len=132, n/ep=3, n/st=100, rew=-12367.25]                                                                               \n"
     ]
    },
    {
     "name": "stdout",
     "output_type": "stream",
     "text": [
      "Epoch #33: test_reward: -5462.350000 ± 7323.136496, best_reward: -5281.180000 ± 7429.028473 in #23\n"
     ]
    },
    {
     "name": "stderr",
     "output_type": "stream",
     "text": [
      "Epoch #34: 1001it [00:01, 532.46it/s, env_step=34000, gradient_step=3400, len=70, n/ep=0, n/st=100, rew=-2705.50]                                                                                 \n"
     ]
    },
    {
     "name": "stdout",
     "output_type": "stream",
     "text": [
      "Epoch #34: test_reward: -6777.880000 ± 10444.383175, best_reward: -5281.180000 ± 7429.028473 in #23\n"
     ]
    },
    {
     "name": "stderr",
     "output_type": "stream",
     "text": [
      "Epoch #35: 1001it [00:02, 497.35it/s, env_step=35000, gradient_step=3500, len=219, n/ep=0, n/st=100, rew=-25339.25]                                                                               \n"
     ]
    },
    {
     "name": "stdout",
     "output_type": "stream",
     "text": [
      "Epoch #35: test_reward: -7580.950000 ± 9455.926460, best_reward: -5281.180000 ± 7429.028473 in #23\n"
     ]
    },
    {
     "name": "stderr",
     "output_type": "stream",
     "text": [
      "Epoch #36: 1001it [00:01, 554.85it/s, env_step=36000, gradient_step=3600, len=86, n/ep=2, n/st=100, rew=-6982.88]                                                                                 \n"
     ]
    },
    {
     "name": "stdout",
     "output_type": "stream",
     "text": [
      "Epoch #36: test_reward: -8188.670000 ± 9768.612675, best_reward: -5281.180000 ± 7429.028473 in #23\n"
     ]
    },
    {
     "name": "stderr",
     "output_type": "stream",
     "text": [
      "Epoch #37: 1001it [00:01, 617.46it/s, env_step=37000, gradient_step=3700, len=80, n/ep=1, n/st=100, rew=-3080.75]                                                                                 \n"
     ]
    },
    {
     "name": "stdout",
     "output_type": "stream",
     "text": [
      "Epoch #37: test_reward: -4772.070000 ± 6515.277632, best_reward: -4772.070000 ± 6515.277632 in #37\n"
     ]
    },
    {
     "name": "stderr",
     "output_type": "stream",
     "text": [
      "Epoch #38: 1001it [00:01, 571.19it/s, env_step=38000, gradient_step=3800, len=97, n/ep=2, n/st=100, rew=-3918.88]                                                                                 \n"
     ]
    },
    {
     "name": "stdout",
     "output_type": "stream",
     "text": [
      "Epoch #38: test_reward: -7315.220000 ± 8099.262716, best_reward: -4772.070000 ± 6515.277632 in #37\n"
     ]
    },
    {
     "name": "stderr",
     "output_type": "stream",
     "text": [
      "Epoch #39: 1001it [00:02, 447.03it/s, env_step=39000, gradient_step=3900, len=120, n/ep=1, n/st=100, rew=-8249.50]                                                                                \n"
     ]
    },
    {
     "name": "stdout",
     "output_type": "stream",
     "text": [
      "Epoch #39: test_reward: -4116.060000 ± 5586.769793, best_reward: -4116.060000 ± 5586.769793 in #39\n"
     ]
    },
    {
     "name": "stderr",
     "output_type": "stream",
     "text": [
      "Epoch #40: 1001it [00:01, 520.83it/s, env_step=40000, gradient_step=4000, len=127, n/ep=1, n/st=100, rew=-5540.75]                                                                                \n"
     ]
    },
    {
     "name": "stdout",
     "output_type": "stream",
     "text": [
      "Epoch #40: test_reward: -5770.940000 ± 7657.769837, best_reward: -4116.060000 ± 5586.769793 in #39\n"
     ]
    },
    {
     "name": "stderr",
     "output_type": "stream",
     "text": [
      "Epoch #41: 1001it [00:01, 548.59it/s, env_step=41000, gradient_step=4100, len=74, n/ep=1, n/st=100, rew=-1201.00]                                                                                 \n"
     ]
    },
    {
     "name": "stdout",
     "output_type": "stream",
     "text": [
      "Epoch #41: test_reward: -6060.270000 ± 8585.211444, best_reward: -4116.060000 ± 5586.769793 in #39\n"
     ]
    },
    {
     "name": "stderr",
     "output_type": "stream",
     "text": [
      "Epoch #42: 1001it [00:01, 547.43it/s, env_step=42000, gradient_step=4200, len=98, n/ep=1, n/st=100, rew=-4202.00]                                                                                 \n"
     ]
    },
    {
     "name": "stdout",
     "output_type": "stream",
     "text": [
      "Epoch #42: test_reward: -7002.690000 ± 8720.158144, best_reward: -4116.060000 ± 5586.769793 in #39\n"
     ]
    },
    {
     "name": "stderr",
     "output_type": "stream",
     "text": [
      "Epoch #43: 1001it [00:01, 505.44it/s, env_step=43000, gradient_step=4300, len=58, n/ep=1, n/st=100, rew=-1250.50]                                                                                 \n"
     ]
    },
    {
     "name": "stdout",
     "output_type": "stream",
     "text": [
      "Epoch #43: test_reward: -4317.440000 ± 5923.062653, best_reward: -4116.060000 ± 5586.769793 in #39\n"
     ]
    },
    {
     "name": "stderr",
     "output_type": "stream",
     "text": [
      "Epoch #44: 1001it [00:02, 479.90it/s, env_step=44000, gradient_step=4400, len=44, n/ep=0, n/st=100, rew=244.00]                                                                                   \n"
     ]
    },
    {
     "name": "stdout",
     "output_type": "stream",
     "text": [
      "Epoch #44: test_reward: -7682.550000 ± 13656.388729, best_reward: -4116.060000 ± 5586.769793 in #39\n"
     ]
    },
    {
     "name": "stderr",
     "output_type": "stream",
     "text": [
      "Epoch #45: 1001it [00:01, 579.42it/s, env_step=45000, gradient_step=4500, len=98, n/ep=1, n/st=100, rew=-5751.00]                                                                                 \n"
     ]
    },
    {
     "name": "stdout",
     "output_type": "stream",
     "text": [
      "Epoch #45: test_reward: -5575.870000 ± 8052.315001, best_reward: -4116.060000 ± 5586.769793 in #39\n"
     ]
    },
    {
     "name": "stderr",
     "output_type": "stream",
     "text": [
      "Epoch #46: 1001it [00:01, 555.70it/s, env_step=46000, gradient_step=4600, len=40, n/ep=1, n/st=100, rew=274.50]                                                                                   \n"
     ]
    },
    {
     "name": "stdout",
     "output_type": "stream",
     "text": [
      "Epoch #46: test_reward: -4760.330000 ± 7121.109573, best_reward: -4116.060000 ± 5586.769793 in #39\n"
     ]
    },
    {
     "name": "stderr",
     "output_type": "stream",
     "text": [
      "Epoch #47: 1001it [00:02, 385.99it/s, env_step=47000, gradient_step=4700, len=162, n/ep=2, n/st=100, rew=-11682.75]                                                                               \n"
     ]
    },
    {
     "name": "stdout",
     "output_type": "stream",
     "text": [
      "Epoch #47: test_reward: -6598.120000 ± 7682.376911, best_reward: -4116.060000 ± 5586.769793 in #39\n"
     ]
    },
    {
     "name": "stderr",
     "output_type": "stream",
     "text": [
      "Epoch #48: 1001it [00:02, 417.81it/s, env_step=48000, gradient_step=4800, len=105, n/ep=3, n/st=100, rew=-6999.67]                                                                                \n"
     ]
    },
    {
     "name": "stdout",
     "output_type": "stream",
     "text": [
      "Epoch #48: test_reward: -6173.260000 ± 8767.236424, best_reward: -4116.060000 ± 5586.769793 in #39\n"
     ]
    },
    {
     "name": "stderr",
     "output_type": "stream",
     "text": [
      "Epoch #49: 1001it [00:02, 471.94it/s, env_step=49000, gradient_step=4900, len=136, n/ep=0, n/st=100, rew=-7525.75]                                                                                \n"
     ]
    },
    {
     "name": "stdout",
     "output_type": "stream",
     "text": [
      "Epoch #49: test_reward: -5054.380000 ± 7221.482280, best_reward: -4116.060000 ± 5586.769793 in #39\n"
     ]
    },
    {
     "name": "stderr",
     "output_type": "stream",
     "text": [
      "Epoch #50: 1001it [00:02, 482.70it/s, env_step=50000, gradient_step=5000, len=110, n/ep=1, n/st=100, rew=-6425.75]                                                                                \n"
     ]
    },
    {
     "name": "stdout",
     "output_type": "stream",
     "text": [
      "Epoch #50: test_reward: -5657.280000 ± 7349.011169, best_reward: -4116.060000 ± 5586.769793 in #39\n"
     ]
    },
    {
     "name": "stderr",
     "output_type": "stream",
     "text": [
      "Epoch #51: 1001it [00:01, 627.39it/s, env_step=51000, gradient_step=5100, len=108, n/ep=0, n/st=100, rew=-7140.62]                                                                                \n"
     ]
    },
    {
     "name": "stdout",
     "output_type": "stream",
     "text": [
      "Epoch #51: test_reward: -6735.860000 ± 8982.770092, best_reward: -4116.060000 ± 5586.769793 in #39\n"
     ]
    },
    {
     "name": "stderr",
     "output_type": "stream",
     "text": [
      "Epoch #52: 1001it [00:01, 579.75it/s, env_step=52000, gradient_step=5200, len=109, n/ep=2, n/st=100, rew=-4092.50]                                                                                \n"
     ]
    },
    {
     "name": "stdout",
     "output_type": "stream",
     "text": [
      "Epoch #52: test_reward: -6147.060000 ± 7566.953174, best_reward: -4116.060000 ± 5586.769793 in #39\n"
     ]
    },
    {
     "name": "stderr",
     "output_type": "stream",
     "text": [
      "Epoch #53: 1001it [00:01, 565.96it/s, env_step=53000, gradient_step=5300, len=92, n/ep=2, n/st=100, rew=-2931.38]                                                                                 \n"
     ]
    },
    {
     "name": "stdout",
     "output_type": "stream",
     "text": [
      "Epoch #53: test_reward: -4935.910000 ± 9119.823438, best_reward: -4116.060000 ± 5586.769793 in #39\n"
     ]
    },
    {
     "name": "stderr",
     "output_type": "stream",
     "text": [
      "Epoch #54: 1001it [00:02, 493.26it/s, env_step=54000, gradient_step=5400, len=83, n/ep=2, n/st=100, rew=-3390.12]                                                                                 \n"
     ]
    },
    {
     "name": "stdout",
     "output_type": "stream",
     "text": [
      "Epoch #54: test_reward: -5748.270000 ± 8619.815019, best_reward: -4116.060000 ± 5586.769793 in #39\n"
     ]
    },
    {
     "name": "stderr",
     "output_type": "stream",
     "text": [
      "Epoch #55: 1001it [00:01, 531.11it/s, env_step=55000, gradient_step=5500, len=223, n/ep=0, n/st=100, rew=-20751.00]                                                                               \n"
     ]
    },
    {
     "name": "stdout",
     "output_type": "stream",
     "text": [
      "Epoch #55: test_reward: -7586.320000 ± 8819.955445, best_reward: -4116.060000 ± 5586.769793 in #39\n"
     ]
    },
    {
     "name": "stderr",
     "output_type": "stream",
     "text": [
      "Epoch #56: 1001it [00:01, 523.50it/s, env_step=56000, gradient_step=5600, len=64, n/ep=0, n/st=100, rew=300.25]                                                                                   \n"
     ]
    },
    {
     "name": "stdout",
     "output_type": "stream",
     "text": [
      "Epoch #56: test_reward: -3800.170000 ± 6041.540433, best_reward: -3800.170000 ± 6041.540433 in #56\n"
     ]
    },
    {
     "name": "stderr",
     "output_type": "stream",
     "text": [
      "Epoch #57: 1001it [00:01, 568.38it/s, env_step=57000, gradient_step=5700, len=154, n/ep=0, n/st=100, rew=-8265.75]                                                                                \n"
     ]
    },
    {
     "name": "stdout",
     "output_type": "stream",
     "text": [
      "Epoch #57: test_reward: -6079.170000 ± 10051.532468, best_reward: -3800.170000 ± 6041.540433 in #56\n"
     ]
    },
    {
     "name": "stderr",
     "output_type": "stream",
     "text": [
      "Epoch #58: 1001it [00:01, 523.65it/s, env_step=58000, gradient_step=5800, len=66, n/ep=1, n/st=100, rew=-1634.25]                                                                                 \n"
     ]
    },
    {
     "name": "stdout",
     "output_type": "stream",
     "text": [
      "Epoch #58: test_reward: -5096.700000 ± 6922.964835, best_reward: -3800.170000 ± 6041.540433 in #56\n"
     ]
    },
    {
     "name": "stderr",
     "output_type": "stream",
     "text": [
      "Epoch #59: 1001it [00:02, 498.62it/s, env_step=59000, gradient_step=5900, len=107, n/ep=0, n/st=100, rew=-7621.12]                                                                                \n"
     ]
    },
    {
     "name": "stdout",
     "output_type": "stream",
     "text": [
      "Epoch #59: test_reward: -6368.940000 ± 8170.741635, best_reward: -3800.170000 ± 6041.540433 in #56\n"
     ]
    },
    {
     "name": "stderr",
     "output_type": "stream",
     "text": [
      "Epoch #60: 1001it [00:01, 525.89it/s, env_step=60000, gradient_step=6000, len=102, n/ep=3, n/st=100, rew=-5556.17]                                                                                \n"
     ]
    },
    {
     "name": "stdout",
     "output_type": "stream",
     "text": [
      "Epoch #60: test_reward: -6472.750000 ± 12931.211390, best_reward: -3800.170000 ± 6041.540433 in #56\n"
     ]
    },
    {
     "name": "stderr",
     "output_type": "stream",
     "text": [
      "Epoch #61: 1001it [00:01, 603.53it/s, env_step=61000, gradient_step=6100, len=118, n/ep=0, n/st=100, rew=-5398.67]                                                                                \n"
     ]
    },
    {
     "name": "stdout",
     "output_type": "stream",
     "text": [
      "Epoch #61: test_reward: -6963.940000 ± 10405.193499, best_reward: -3800.170000 ± 6041.540433 in #56\n"
     ]
    },
    {
     "name": "stderr",
     "output_type": "stream",
     "text": [
      "Epoch #62: 1001it [00:02, 451.25it/s, env_step=62000, gradient_step=6200, len=76, n/ep=1, n/st=100, rew=-3496.75]                                                                                 \n"
     ]
    },
    {
     "name": "stdout",
     "output_type": "stream",
     "text": [
      "Epoch #62: test_reward: -6125.840000 ± 11496.260185, best_reward: -3800.170000 ± 6041.540433 in #56\n"
     ]
    },
    {
     "name": "stderr",
     "output_type": "stream",
     "text": [
      "Epoch #63: 1001it [00:01, 519.79it/s, env_step=63000, gradient_step=6300, len=87, n/ep=5, n/st=100, rew=-3829.65]                                                                                 \n"
     ]
    },
    {
     "name": "stdout",
     "output_type": "stream",
     "text": [
      "Epoch #63: test_reward: -7473.860000 ± 8778.542213, best_reward: -3800.170000 ± 6041.540433 in #56\n"
     ]
    },
    {
     "name": "stderr",
     "output_type": "stream",
     "text": [
      "Epoch #64: 1001it [00:01, 524.76it/s, env_step=64000, gradient_step=6400, len=171, n/ep=2, n/st=100, rew=-18262.62]                                                                               \n"
     ]
    },
    {
     "name": "stdout",
     "output_type": "stream",
     "text": [
      "Epoch #64: test_reward: -4475.860000 ± 6930.755655, best_reward: -3800.170000 ± 6041.540433 in #56\n"
     ]
    },
    {
     "name": "stderr",
     "output_type": "stream",
     "text": [
      "Epoch #65: 1001it [00:01, 514.30it/s, env_step=65000, gradient_step=6500, len=92, n/ep=1, n/st=100, rew=-3024.25]                                                                                 \n"
     ]
    },
    {
     "name": "stdout",
     "output_type": "stream",
     "text": [
      "Epoch #65: test_reward: -5836.950000 ± 7802.385569, best_reward: -3800.170000 ± 6041.540433 in #56\n"
     ]
    },
    {
     "name": "stderr",
     "output_type": "stream",
     "text": [
      "Epoch #66: 1001it [00:01, 585.17it/s, env_step=66000, gradient_step=6600, len=162, n/ep=3, n/st=100, rew=-22919.25]                                                                               \n"
     ]
    },
    {
     "name": "stdout",
     "output_type": "stream",
     "text": [
      "Epoch #66: test_reward: -5650.100000 ± 7220.793091, best_reward: -3800.170000 ± 6041.540433 in #56\n"
     ]
    },
    {
     "name": "stderr",
     "output_type": "stream",
     "text": [
      "Epoch #67: 1001it [00:01, 540.45it/s, env_step=67000, gradient_step=6700, len=44, n/ep=0, n/st=100, rew=-213.50]                                                                                  \n"
     ]
    },
    {
     "name": "stdout",
     "output_type": "stream",
     "text": [
      "Epoch #67: test_reward: -6013.220000 ± 8042.204861, best_reward: -3800.170000 ± 6041.540433 in #56\n"
     ]
    },
    {
     "name": "stderr",
     "output_type": "stream",
     "text": [
      "Epoch #68: 1001it [00:02, 468.41it/s, env_step=68000, gradient_step=6800, len=112, n/ep=2, n/st=100, rew=-3624.38]                                                                                \n"
     ]
    },
    {
     "name": "stdout",
     "output_type": "stream",
     "text": [
      "Epoch #68: test_reward: -4729.420000 ± 6307.789136, best_reward: -3800.170000 ± 6041.540433 in #56\n"
     ]
    },
    {
     "name": "stderr",
     "output_type": "stream",
     "text": [
      "Epoch #69: 1001it [00:02, 418.87it/s, env_step=69000, gradient_step=6900, len=162, n/ep=1, n/st=100, rew=-14419.50]                                                                               \n"
     ]
    },
    {
     "name": "stdout",
     "output_type": "stream",
     "text": [
      "Epoch #69: test_reward: -5689.520000 ± 11437.058864, best_reward: -3800.170000 ± 6041.540433 in #56\n"
     ]
    },
    {
     "name": "stderr",
     "output_type": "stream",
     "text": [
      "Epoch #70: 1001it [00:02, 428.88it/s, env_step=70000, gradient_step=7000, len=54, n/ep=0, n/st=100, rew=-908.00]                                                                                  \n"
     ]
    },
    {
     "name": "stdout",
     "output_type": "stream",
     "text": [
      "Epoch #70: test_reward: -4886.960000 ± 5334.657369, best_reward: -3800.170000 ± 6041.540433 in #56\n"
     ]
    },
    {
     "name": "stderr",
     "output_type": "stream",
     "text": [
      "Epoch #71: 1001it [00:02, 406.61it/s, env_step=71000, gradient_step=7100, len=129, n/ep=0, n/st=100, rew=-8583.50]                                                                                \n"
     ]
    },
    {
     "name": "stdout",
     "output_type": "stream",
     "text": [
      "Epoch #71: test_reward: -4912.750000 ± 6781.592725, best_reward: -3800.170000 ± 6041.540433 in #56\n"
     ]
    },
    {
     "name": "stderr",
     "output_type": "stream",
     "text": [
      "Epoch #72: 1001it [00:01, 507.63it/s, env_step=72000, gradient_step=7200, len=116, n/ep=1, n/st=100, rew=-5482.75]                                                                                \n"
     ]
    },
    {
     "name": "stdout",
     "output_type": "stream",
     "text": [
      "Epoch #72: test_reward: -6497.910000 ± 8542.465548, best_reward: -3800.170000 ± 6041.540433 in #56\n"
     ]
    },
    {
     "name": "stderr",
     "output_type": "stream",
     "text": [
      "Epoch #73: 1001it [00:02, 439.40it/s, env_step=73000, gradient_step=7300, len=100, n/ep=1, n/st=100, rew=-5181.00]                                                                                \n"
     ]
    },
    {
     "name": "stdout",
     "output_type": "stream",
     "text": [
      "Epoch #73: test_reward: -5069.200000 ± 7781.548792, best_reward: -3800.170000 ± 6041.540433 in #56\n"
     ]
    },
    {
     "name": "stderr",
     "output_type": "stream",
     "text": [
      "Epoch #74: 1001it [00:02, 359.71it/s, env_step=74000, gradient_step=7400, len=173, n/ep=1, n/st=100, rew=-11735.25]                                                                               \n"
     ]
    },
    {
     "name": "stdout",
     "output_type": "stream",
     "text": [
      "Epoch #74: test_reward: -3282.520000 ± 4597.949586, best_reward: -3282.520000 ± 4597.949586 in #74\n"
     ]
    },
    {
     "name": "stderr",
     "output_type": "stream",
     "text": [
      "Epoch #75: 1001it [00:01, 551.20it/s, env_step=75000, gradient_step=7500, len=142, n/ep=2, n/st=100, rew=-13326.25]                                                                               \n"
     ]
    },
    {
     "name": "stdout",
     "output_type": "stream",
     "text": [
      "Epoch #75: test_reward: -4602.710000 ± 5422.087645, best_reward: -3282.520000 ± 4597.949586 in #74\n"
     ]
    },
    {
     "name": "stderr",
     "output_type": "stream",
     "text": [
      "Epoch #76: 1001it [00:02, 396.05it/s, env_step=76000, gradient_step=7600, len=133, n/ep=1, n/st=100, rew=-7826.25]                                                                                \n"
     ]
    },
    {
     "name": "stdout",
     "output_type": "stream",
     "text": [
      "Epoch #76: test_reward: -4030.170000 ± 5182.815824, best_reward: -3282.520000 ± 4597.949586 in #74\n"
     ]
    },
    {
     "name": "stderr",
     "output_type": "stream",
     "text": [
      "Epoch #77: 1001it [00:01, 562.73it/s, env_step=77000, gradient_step=7700, len=127, n/ep=0, n/st=100, rew=-5878.75]                                                                                \n"
     ]
    },
    {
     "name": "stdout",
     "output_type": "stream",
     "text": [
      "Epoch #77: test_reward: -4580.180000 ± 6368.729173, best_reward: -3282.520000 ± 4597.949586 in #74\n"
     ]
    },
    {
     "name": "stderr",
     "output_type": "stream",
     "text": [
      "Epoch #78: 1001it [00:01, 505.66it/s, env_step=78000, gradient_step=7800, len=120, n/ep=0, n/st=100, rew=-4880.50]                                                                                \n"
     ]
    },
    {
     "name": "stdout",
     "output_type": "stream",
     "text": [
      "Epoch #78: test_reward: -4754.560000 ± 7867.038301, best_reward: -3282.520000 ± 4597.949586 in #74\n"
     ]
    },
    {
     "name": "stderr",
     "output_type": "stream",
     "text": [
      "Epoch #79: 1001it [00:01, 562.08it/s, env_step=79000, gradient_step=7900, len=210, n/ep=0, n/st=100, rew=-24560.25]                                                                               \n"
     ]
    },
    {
     "name": "stdout",
     "output_type": "stream",
     "text": [
      "Epoch #79: test_reward: -4023.940000 ± 8036.106421, best_reward: -3282.520000 ± 4597.949586 in #74\n"
     ]
    },
    {
     "name": "stderr",
     "output_type": "stream",
     "text": [
      "Epoch #80: 1001it [00:02, 442.14it/s, env_step=80000, gradient_step=8000, len=70, n/ep=1, n/st=100, rew=-1600.50]                                                                                 \n"
     ]
    },
    {
     "name": "stdout",
     "output_type": "stream",
     "text": [
      "Epoch #80: test_reward: -6183.300000 ± 8250.788396, best_reward: -3282.520000 ± 4597.949586 in #74\n"
     ]
    },
    {
     "name": "stderr",
     "output_type": "stream",
     "text": [
      "Epoch #81: 1001it [00:01, 510.70it/s, env_step=81000, gradient_step=8100, len=89, n/ep=2, n/st=100, rew=-2729.75]                                                                                 \n"
     ]
    },
    {
     "name": "stdout",
     "output_type": "stream",
     "text": [
      "Epoch #81: test_reward: -6303.470000 ± 9085.407072, best_reward: -3282.520000 ± 4597.949586 in #74\n"
     ]
    },
    {
     "name": "stderr",
     "output_type": "stream",
     "text": [
      "Epoch #82: 1001it [00:02, 467.03it/s, env_step=82000, gradient_step=8200, len=135, n/ep=1, n/st=100, rew=-8629.25]                                                                                \n"
     ]
    },
    {
     "name": "stdout",
     "output_type": "stream",
     "text": [
      "Epoch #82: test_reward: -4564.320000 ± 6658.142175, best_reward: -3282.520000 ± 4597.949586 in #74\n"
     ]
    },
    {
     "name": "stderr",
     "output_type": "stream",
     "text": [
      "Epoch #83: 1001it [00:02, 485.82it/s, env_step=83000, gradient_step=8300, len=68, n/ep=1, n/st=100, rew=-1673.50]                                                                                 \n"
     ]
    },
    {
     "name": "stdout",
     "output_type": "stream",
     "text": [
      "Epoch #83: test_reward: -6143.280000 ± 8101.843294, best_reward: -3282.520000 ± 4597.949586 in #74\n"
     ]
    },
    {
     "name": "stderr",
     "output_type": "stream",
     "text": [
      "Epoch #84: 1001it [00:02, 495.42it/s, env_step=84000, gradient_step=8400, len=108, n/ep=2, n/st=100, rew=-5677.88]                                                                                \n"
     ]
    },
    {
     "name": "stdout",
     "output_type": "stream",
     "text": [
      "Epoch #84: test_reward: -6558.370000 ± 7505.871072, best_reward: -3282.520000 ± 4597.949586 in #74\n"
     ]
    },
    {
     "name": "stderr",
     "output_type": "stream",
     "text": [
      "Epoch #85: 1001it [00:01, 582.73it/s, env_step=85000, gradient_step=8500, len=22, n/ep=1, n/st=100, rew=209.75]                                                                                   \n"
     ]
    },
    {
     "name": "stdout",
     "output_type": "stream",
     "text": [
      "Epoch #85: test_reward: -7293.710000 ± 8897.844447, best_reward: -3282.520000 ± 4597.949586 in #74\n"
     ]
    },
    {
     "name": "stderr",
     "output_type": "stream",
     "text": [
      "Epoch #86: 1001it [00:01, 534.38it/s, env_step=86000, gradient_step=8600, len=50, n/ep=0, n/st=100, rew=-214.75]                                                                                  \n"
     ]
    },
    {
     "name": "stdout",
     "output_type": "stream",
     "text": [
      "Epoch #86: test_reward: -5052.040000 ± 7227.149126, best_reward: -3282.520000 ± 4597.949586 in #74\n"
     ]
    },
    {
     "name": "stderr",
     "output_type": "stream",
     "text": [
      "Epoch #87: 1001it [00:02, 465.76it/s, env_step=87000, gradient_step=8700, len=141, n/ep=0, n/st=100, rew=-7605.00]                                                                                \n"
     ]
    },
    {
     "name": "stdout",
     "output_type": "stream",
     "text": [
      "Epoch #87: test_reward: -6243.050000 ± 7727.208529, best_reward: -3282.520000 ± 4597.949586 in #74\n"
     ]
    },
    {
     "name": "stderr",
     "output_type": "stream",
     "text": [
      "Epoch #88: 1001it [00:01, 561.77it/s, env_step=88000, gradient_step=8800, len=40, n/ep=1, n/st=100, rew=-743.50]                                                                                  \n"
     ]
    },
    {
     "name": "stdout",
     "output_type": "stream",
     "text": [
      "Epoch #88: test_reward: -4604.840000 ± 6356.594285, best_reward: -3282.520000 ± 4597.949586 in #74\n"
     ]
    },
    {
     "name": "stderr",
     "output_type": "stream",
     "text": [
      "Epoch #89: 1001it [00:01, 523.49it/s, env_step=89000, gradient_step=8900, len=115, n/ep=2, n/st=100, rew=-5446.50]                                                                                \n"
     ]
    },
    {
     "name": "stdout",
     "output_type": "stream",
     "text": [
      "Epoch #89: test_reward: -6392.750000 ± 7256.580570, best_reward: -3282.520000 ± 4597.949586 in #74\n"
     ]
    },
    {
     "name": "stderr",
     "output_type": "stream",
     "text": [
      "Epoch #90: 1001it [00:01, 536.66it/s, env_step=90000, gradient_step=9000, len=169, n/ep=0, n/st=100, rew=-11413.62]                                                                               \n"
     ]
    },
    {
     "name": "stdout",
     "output_type": "stream",
     "text": [
      "Epoch #90: test_reward: -2552.980000 ± 5513.041026, best_reward: -2552.980000 ± 5513.041026 in #90\n"
     ]
    },
    {
     "name": "stderr",
     "output_type": "stream",
     "text": [
      "Epoch #91: 1001it [00:01, 534.44it/s, env_step=91000, gradient_step=9100, len=192, n/ep=3, n/st=100, rew=-20288.33]                                                                               \n"
     ]
    },
    {
     "name": "stdout",
     "output_type": "stream",
     "text": [
      "Epoch #91: test_reward: -6242.240000 ± 6283.844739, best_reward: -2552.980000 ± 5513.041026 in #90\n"
     ]
    },
    {
     "name": "stderr",
     "output_type": "stream",
     "text": [
      "Epoch #92: 1001it [00:02, 468.08it/s, env_step=92000, gradient_step=9200, len=129, n/ep=2, n/st=100, rew=-8972.38]                                                                                \n"
     ]
    },
    {
     "name": "stdout",
     "output_type": "stream",
     "text": [
      "Epoch #92: test_reward: -5910.020000 ± 8919.955152, best_reward: -2552.980000 ± 5513.041026 in #90\n"
     ]
    },
    {
     "name": "stderr",
     "output_type": "stream",
     "text": [
      "Epoch #93: 1001it [00:02, 457.64it/s, env_step=93000, gradient_step=9300, len=179, n/ep=0, n/st=100, rew=-11266.75]                                                                               \n"
     ]
    },
    {
     "name": "stdout",
     "output_type": "stream",
     "text": [
      "Epoch #93: test_reward: -4420.720000 ± 7441.254617, best_reward: -2552.980000 ± 5513.041026 in #90\n"
     ]
    },
    {
     "name": "stderr",
     "output_type": "stream",
     "text": [
      "Epoch #94: 1001it [00:02, 498.55it/s, env_step=94000, gradient_step=9400, len=94, n/ep=3, n/st=100, rew=-4594.50]                                                                                 \n"
     ]
    },
    {
     "name": "stdout",
     "output_type": "stream",
     "text": [
      "Epoch #94: test_reward: -5197.080000 ± 7797.163017, best_reward: -2552.980000 ± 5513.041026 in #90\n"
     ]
    },
    {
     "name": "stderr",
     "output_type": "stream",
     "text": [
      "Epoch #95: 1001it [00:02, 386.05it/s, env_step=95000, gradient_step=9500, len=88, n/ep=2, n/st=100, rew=-1762.75]                                                                                 \n"
     ]
    },
    {
     "name": "stdout",
     "output_type": "stream",
     "text": [
      "Epoch #95: test_reward: -6314.270000 ± 9488.867515, best_reward: -2552.980000 ± 5513.041026 in #90\n"
     ]
    },
    {
     "name": "stderr",
     "output_type": "stream",
     "text": [
      "Epoch #96: 1001it [00:02, 407.13it/s, env_step=96000, gradient_step=9600, len=145, n/ep=0, n/st=100, rew=-7775.00]                                                                                \n"
     ]
    },
    {
     "name": "stdout",
     "output_type": "stream",
     "text": [
      "Epoch #96: test_reward: -5889.210000 ± 10065.530192, best_reward: -2552.980000 ± 5513.041026 in #90\n"
     ]
    },
    {
     "name": "stderr",
     "output_type": "stream",
     "text": [
      "Epoch #97: 1001it [00:02, 438.70it/s, env_step=97000, gradient_step=9700, len=74, n/ep=2, n/st=100, rew=-3439.12]                                                                                 \n"
     ]
    },
    {
     "name": "stdout",
     "output_type": "stream",
     "text": [
      "Epoch #97: test_reward: -5881.770000 ± 6886.998036, best_reward: -2552.980000 ± 5513.041026 in #90\n"
     ]
    },
    {
     "name": "stderr",
     "output_type": "stream",
     "text": [
      "Epoch #98: 1001it [00:02, 422.88it/s, env_step=98000, gradient_step=9800, len=50, n/ep=0, n/st=100, rew=-690.50]                                                                                  \n"
     ]
    },
    {
     "name": "stdout",
     "output_type": "stream",
     "text": [
      "Epoch #98: test_reward: -3955.610000 ± 6726.625886, best_reward: -2552.980000 ± 5513.041026 in #90\n"
     ]
    },
    {
     "name": "stderr",
     "output_type": "stream",
     "text": [
      "Epoch #99: 1001it [00:02, 481.45it/s, env_step=99000, gradient_step=9900, len=116, n/ep=1, n/st=100, rew=-6436.50]                                                                                \n"
     ]
    },
    {
     "name": "stdout",
     "output_type": "stream",
     "text": [
      "Epoch #99: test_reward: -4147.710000 ± 7628.087556, best_reward: -2552.980000 ± 5513.041026 in #90\n"
     ]
    },
    {
     "name": "stderr",
     "output_type": "stream",
     "text": [
      "Epoch #100: 1001it [00:02, 393.59it/s, env_step=100000, gradient_step=10000, len=68, n/ep=0, n/st=100, rew=-2580.00]                                                                              \n"
     ]
    },
    {
     "name": "stdout",
     "output_type": "stream",
     "text": [
      "Epoch #100: test_reward: -4597.280000 ± 7650.361664, best_reward: -2552.980000 ± 5513.041026 in #90\n"
     ]
    },
    {
     "name": "stderr",
     "output_type": "stream",
     "text": [
      "Epoch #101: 1001it [00:02, 404.72it/s, env_step=101000, gradient_step=10100, len=152, n/ep=2, n/st=100, rew=-9907.62]                                                                             \n"
     ]
    },
    {
     "name": "stdout",
     "output_type": "stream",
     "text": [
      "Epoch #101: test_reward: -3838.580000 ± 6661.231168, best_reward: -2552.980000 ± 5513.041026 in #90\n"
     ]
    },
    {
     "name": "stderr",
     "output_type": "stream",
     "text": [
      "Epoch #102: 1001it [00:02, 352.31it/s, env_step=102000, gradient_step=10200, len=76, n/ep=1, n/st=100, rew=-1797.25]                                                                              \n"
     ]
    },
    {
     "name": "stdout",
     "output_type": "stream",
     "text": [
      "Epoch #102: test_reward: -4566.730000 ± 7551.597434, best_reward: -2552.980000 ± 5513.041026 in #90\n"
     ]
    },
    {
     "name": "stderr",
     "output_type": "stream",
     "text": [
      "Epoch #103: 1001it [00:02, 405.01it/s, env_step=103000, gradient_step=10300, len=148, n/ep=3, n/st=100, rew=-16974.83]                                                                            \n"
     ]
    },
    {
     "name": "stdout",
     "output_type": "stream",
     "text": [
      "Epoch #103: test_reward: -5056.460000 ± 7415.284772, best_reward: -2552.980000 ± 5513.041026 in #90\n"
     ]
    },
    {
     "name": "stderr",
     "output_type": "stream",
     "text": [
      "Epoch #104: 1001it [00:02, 497.23it/s, env_step=104000, gradient_step=10400, len=206, n/ep=2, n/st=100, rew=-18276.75]                                                                            \n"
     ]
    },
    {
     "name": "stdout",
     "output_type": "stream",
     "text": [
      "Epoch #104: test_reward: -3190.470000 ± 6007.167977, best_reward: -2552.980000 ± 5513.041026 in #90\n"
     ]
    },
    {
     "name": "stderr",
     "output_type": "stream",
     "text": [
      "Epoch #105: 1001it [00:01, 505.46it/s, env_step=105000, gradient_step=10500, len=128, n/ep=1, n/st=100, rew=-13104.50]                                                                            \n"
     ]
    },
    {
     "name": "stdout",
     "output_type": "stream",
     "text": [
      "Epoch #105: test_reward: -3677.430000 ± 7197.503835, best_reward: -2552.980000 ± 5513.041026 in #90\n"
     ]
    },
    {
     "name": "stderr",
     "output_type": "stream",
     "text": [
      "Epoch #106: 1001it [00:01, 501.40it/s, env_step=106000, gradient_step=10600, len=87, n/ep=2, n/st=100, rew=-2334.62]                                                                              \n"
     ]
    },
    {
     "name": "stdout",
     "output_type": "stream",
     "text": [
      "Epoch #106: test_reward: -2586.410000 ± 3654.355591, best_reward: -2552.980000 ± 5513.041026 in #90\n"
     ]
    },
    {
     "name": "stderr",
     "output_type": "stream",
     "text": [
      "Epoch #107: 1001it [00:01, 590.31it/s, env_step=107000, gradient_step=10700, len=78, n/ep=1, n/st=100, rew=-1856.00]                                                                              \n"
     ]
    },
    {
     "name": "stdout",
     "output_type": "stream",
     "text": [
      "Epoch #107: test_reward: -3360.450000 ± 5469.373644, best_reward: -2552.980000 ± 5513.041026 in #90\n"
     ]
    },
    {
     "name": "stderr",
     "output_type": "stream",
     "text": [
      "Epoch #108: 1001it [00:01, 510.33it/s, env_step=108000, gradient_step=10800, len=102, n/ep=0, n/st=100, rew=-4264.00]                                                                             \n"
     ]
    },
    {
     "name": "stdout",
     "output_type": "stream",
     "text": [
      "Epoch #108: test_reward: -3404.130000 ± 4827.326126, best_reward: -2552.980000 ± 5513.041026 in #90\n"
     ]
    },
    {
     "name": "stderr",
     "output_type": "stream",
     "text": [
      "Epoch #109: 1001it [00:02, 391.01it/s, env_step=109000, gradient_step=10900, len=90, n/ep=0, n/st=100, rew=-2064.00]                                                                              \n"
     ]
    },
    {
     "name": "stdout",
     "output_type": "stream",
     "text": [
      "Epoch #109: test_reward: -2829.590000 ± 5414.927296, best_reward: -2552.980000 ± 5513.041026 in #90\n"
     ]
    },
    {
     "name": "stderr",
     "output_type": "stream",
     "text": [
      "Epoch #110: 1001it [00:02, 428.64it/s, env_step=110000, gradient_step=11000, len=115, n/ep=2, n/st=100, rew=-4945.62]                                                                             \n"
     ]
    },
    {
     "name": "stdout",
     "output_type": "stream",
     "text": [
      "Epoch #110: test_reward: -3508.290000 ± 4411.999517, best_reward: -2552.980000 ± 5513.041026 in #90\n"
     ]
    },
    {
     "name": "stderr",
     "output_type": "stream",
     "text": [
      "Epoch #111: 1001it [00:01, 540.73it/s, env_step=111000, gradient_step=11100, len=117, n/ep=0, n/st=100, rew=-6870.33]                                                                             \n"
     ]
    },
    {
     "name": "stdout",
     "output_type": "stream",
     "text": [
      "Epoch #111: test_reward: -4016.300000 ± 5991.056577, best_reward: -2552.980000 ± 5513.041026 in #90\n"
     ]
    },
    {
     "name": "stderr",
     "output_type": "stream",
     "text": [
      "Epoch #112: 1001it [00:02, 451.47it/s, env_step=112000, gradient_step=11200, len=117, n/ep=0, n/st=100, rew=-8631.17]                                                                             \n"
     ]
    },
    {
     "name": "stdout",
     "output_type": "stream",
     "text": [
      "Epoch #112: test_reward: -3750.480000 ± 7808.621913, best_reward: -2552.980000 ± 5513.041026 in #90\n"
     ]
    },
    {
     "name": "stderr",
     "output_type": "stream",
     "text": [
      "Epoch #113: 1001it [00:02, 472.20it/s, env_step=113000, gradient_step=11300, len=60, n/ep=2, n/st=100, rew=-1379.12]                                                                              \n"
     ]
    },
    {
     "name": "stdout",
     "output_type": "stream",
     "text": [
      "Epoch #113: test_reward: -4292.860000 ± 6830.078048, best_reward: -2552.980000 ± 5513.041026 in #90\n"
     ]
    },
    {
     "name": "stderr",
     "output_type": "stream",
     "text": [
      "Epoch #114: 1001it [00:01, 512.01it/s, env_step=114000, gradient_step=11400, len=102, n/ep=1, n/st=100, rew=-2578.25]                                                                             \n"
     ]
    },
    {
     "name": "stdout",
     "output_type": "stream",
     "text": [
      "Epoch #114: test_reward: -3480.500000 ± 8094.965945, best_reward: -2552.980000 ± 5513.041026 in #90\n"
     ]
    },
    {
     "name": "stderr",
     "output_type": "stream",
     "text": [
      "Epoch #115: 1001it [00:01, 530.48it/s, env_step=115000, gradient_step=11500, len=89, n/ep=1, n/st=100, rew=-593.50]                                                                               \n"
     ]
    },
    {
     "name": "stdout",
     "output_type": "stream",
     "text": [
      "Epoch #115: test_reward: -3135.710000 ± 6465.217192, best_reward: -2552.980000 ± 5513.041026 in #90\n"
     ]
    },
    {
     "name": "stderr",
     "output_type": "stream",
     "text": [
      "Epoch #116: 1001it [00:02, 472.14it/s, env_step=116000, gradient_step=11600, len=81, n/ep=2, n/st=100, rew=-2942.88]                                                                              \n"
     ]
    },
    {
     "name": "stdout",
     "output_type": "stream",
     "text": [
      "Epoch #116: test_reward: -3977.580000 ± 7015.007441, best_reward: -2552.980000 ± 5513.041026 in #90\n"
     ]
    },
    {
     "name": "stderr",
     "output_type": "stream",
     "text": [
      "Epoch #117: 1001it [00:02, 447.43it/s, env_step=117000, gradient_step=11700, len=86, n/ep=3, n/st=100, rew=-4560.67]                                                                              \n"
     ]
    },
    {
     "name": "stdout",
     "output_type": "stream",
     "text": [
      "Epoch #117: test_reward: -4607.020000 ± 8193.949616, best_reward: -2552.980000 ± 5513.041026 in #90\n"
     ]
    },
    {
     "name": "stderr",
     "output_type": "stream",
     "text": [
      "Epoch #118: 1001it [00:02, 483.22it/s, env_step=118000, gradient_step=11800, len=110, n/ep=0, n/st=100, rew=-5108.75]                                                                             \n"
     ]
    },
    {
     "name": "stdout",
     "output_type": "stream",
     "text": [
      "Epoch #118: test_reward: -2675.100000 ± 5835.220109, best_reward: -2552.980000 ± 5513.041026 in #90\n"
     ]
    },
    {
     "name": "stderr",
     "output_type": "stream",
     "text": [
      "Epoch #119: 1001it [00:01, 535.72it/s, env_step=119000, gradient_step=11900, len=66, n/ep=0, n/st=100, rew=-959.31]                                                                               \n"
     ]
    },
    {
     "name": "stdout",
     "output_type": "stream",
     "text": [
      "Epoch #119: test_reward: -3361.990000 ± 8102.375151, best_reward: -2552.980000 ± 5513.041026 in #90\n"
     ]
    },
    {
     "name": "stderr",
     "output_type": "stream",
     "text": [
      "Epoch #120: 1001it [00:01, 523.08it/s, env_step=120000, gradient_step=12000, len=82, n/ep=1, n/st=100, rew=-4192.50]                                                                              \n"
     ]
    },
    {
     "name": "stdout",
     "output_type": "stream",
     "text": [
      "Epoch #120: test_reward: -5183.330000 ± 8629.161440, best_reward: -2552.980000 ± 5513.041026 in #90\n"
     ]
    },
    {
     "name": "stderr",
     "output_type": "stream",
     "text": [
      "Epoch #121: 1001it [00:01, 566.84it/s, env_step=121000, gradient_step=12100, len=98, n/ep=1, n/st=100, rew=-3773.75]                                                                              \n"
     ]
    },
    {
     "name": "stdout",
     "output_type": "stream",
     "text": [
      "Epoch #121: test_reward: -3937.910000 ± 5256.117322, best_reward: -2552.980000 ± 5513.041026 in #90\n"
     ]
    },
    {
     "name": "stderr",
     "output_type": "stream",
     "text": [
      "Epoch #122: 1001it [00:02, 407.04it/s, env_step=122000, gradient_step=12200, len=111, n/ep=3, n/st=100, rew=-5790.25]                                                                             \n"
     ]
    },
    {
     "name": "stdout",
     "output_type": "stream",
     "text": [
      "Epoch #122: test_reward: -3794.290000 ± 7382.024583, best_reward: -2552.980000 ± 5513.041026 in #90\n"
     ]
    },
    {
     "name": "stderr",
     "output_type": "stream",
     "text": [
      "Epoch #123: 1001it [00:02, 487.98it/s, env_step=123000, gradient_step=12300, len=157, n/ep=3, n/st=100, rew=-14474.17]                                                                            \n"
     ]
    },
    {
     "name": "stdout",
     "output_type": "stream",
     "text": [
      "Epoch #123: test_reward: -4384.520000 ± 6686.369832, best_reward: -2552.980000 ± 5513.041026 in #90\n"
     ]
    },
    {
     "name": "stderr",
     "output_type": "stream",
     "text": [
      "Epoch #124: 1001it [00:02, 419.93it/s, env_step=124000, gradient_step=12400, len=206, n/ep=1, n/st=100, rew=-23677.75]                                                                            \n"
     ]
    },
    {
     "name": "stdout",
     "output_type": "stream",
     "text": [
      "Epoch #124: test_reward: -5078.320000 ± 10732.890834, best_reward: -2552.980000 ± 5513.041026 in #90\n"
     ]
    },
    {
     "name": "stderr",
     "output_type": "stream",
     "text": [
      "Epoch #125: 1001it [00:02, 472.24it/s, env_step=125000, gradient_step=12500, len=109, n/ep=0, n/st=100, rew=-4780.75]                                                                             \n"
     ]
    },
    {
     "name": "stdout",
     "output_type": "stream",
     "text": [
      "Epoch #125: test_reward: -3923.110000 ± 6758.023279, best_reward: -2552.980000 ± 5513.041026 in #90\n"
     ]
    },
    {
     "name": "stderr",
     "output_type": "stream",
     "text": [
      "Epoch #126: 1001it [00:02, 441.70it/s, env_step=126000, gradient_step=12600, len=117, n/ep=2, n/st=100, rew=-4817.12]                                                                             \n"
     ]
    },
    {
     "name": "stdout",
     "output_type": "stream",
     "text": [
      "Epoch #126: test_reward: -4815.660000 ± 7677.546694, best_reward: -2552.980000 ± 5513.041026 in #90\n"
     ]
    },
    {
     "name": "stderr",
     "output_type": "stream",
     "text": [
      "Epoch #127: 1001it [00:01, 610.23it/s, env_step=127000, gradient_step=12700, len=92, n/ep=0, n/st=100, rew=-5079.50]                                                                              \n"
     ]
    },
    {
     "name": "stdout",
     "output_type": "stream",
     "text": [
      "Epoch #127: test_reward: -3526.310000 ± 6931.831201, best_reward: -2552.980000 ± 5513.041026 in #90\n"
     ]
    },
    {
     "name": "stderr",
     "output_type": "stream",
     "text": [
      "Epoch #128: 1001it [00:01, 519.96it/s, env_step=128000, gradient_step=12800, len=67, n/ep=2, n/st=100, rew=-1813.88]                                                                              \n"
     ]
    },
    {
     "name": "stdout",
     "output_type": "stream",
     "text": [
      "Epoch #128: test_reward: -5924.360000 ± 8578.898662, best_reward: -2552.980000 ± 5513.041026 in #90\n"
     ]
    },
    {
     "name": "stderr",
     "output_type": "stream",
     "text": [
      "Epoch #129: 1001it [00:01, 548.02it/s, env_step=129000, gradient_step=12900, len=58, n/ep=1, n/st=100, rew=-1300.50]                                                                              \n"
     ]
    },
    {
     "name": "stdout",
     "output_type": "stream",
     "text": [
      "Epoch #129: test_reward: -4050.890000 ± 5208.843813, best_reward: -2552.980000 ± 5513.041026 in #90\n"
     ]
    },
    {
     "name": "stderr",
     "output_type": "stream",
     "text": [
      "Epoch #130: 1001it [00:02, 485.84it/s, env_step=130000, gradient_step=13000, len=95, n/ep=2, n/st=100, rew=-4638.25]                                                                              \n"
     ]
    },
    {
     "name": "stdout",
     "output_type": "stream",
     "text": [
      "Epoch #130: test_reward: -2784.970000 ± 4655.452819, best_reward: -2552.980000 ± 5513.041026 in #90\n"
     ]
    },
    {
     "name": "stderr",
     "output_type": "stream",
     "text": [
      "Epoch #131: 1001it [00:01, 513.01it/s, env_step=131000, gradient_step=13100, len=140, n/ep=2, n/st=100, rew=-11440.50]                                                                            \n"
     ]
    },
    {
     "name": "stdout",
     "output_type": "stream",
     "text": [
      "Epoch #131: test_reward: -3908.170000 ± 6148.854088, best_reward: -2552.980000 ± 5513.041026 in #90\n"
     ]
    },
    {
     "name": "stderr",
     "output_type": "stream",
     "text": [
      "Epoch #132: 1001it [00:02, 470.76it/s, env_step=132000, gradient_step=13200, len=60, n/ep=1, n/st=100, rew=-779.50]                                                                               \n"
     ]
    },
    {
     "name": "stdout",
     "output_type": "stream",
     "text": [
      "Epoch #132: test_reward: -5283.360000 ± 8833.464594, best_reward: -2552.980000 ± 5513.041026 in #90\n"
     ]
    },
    {
     "name": "stderr",
     "output_type": "stream",
     "text": [
      "Epoch #133: 1001it [00:01, 511.10it/s, env_step=133000, gradient_step=13300, len=90, n/ep=1, n/st=100, rew=-2494.25]                                                                              \n"
     ]
    },
    {
     "name": "stdout",
     "output_type": "stream",
     "text": [
      "Epoch #133: test_reward: -2705.920000 ± 4727.976939, best_reward: -2552.980000 ± 5513.041026 in #90\n"
     ]
    },
    {
     "name": "stderr",
     "output_type": "stream",
     "text": [
      "Epoch #134: 1001it [00:02, 483.21it/s, env_step=134000, gradient_step=13400, len=76, n/ep=0, n/st=100, rew=-3509.50]                                                                              \n"
     ]
    },
    {
     "name": "stdout",
     "output_type": "stream",
     "text": [
      "Epoch #134: test_reward: -3508.660000 ± 5733.611942, best_reward: -2552.980000 ± 5513.041026 in #90\n"
     ]
    },
    {
     "name": "stderr",
     "output_type": "stream",
     "text": [
      "Epoch #135: 1001it [00:02, 477.41it/s, env_step=135000, gradient_step=13500, len=74, n/ep=0, n/st=100, rew=-368.00]                                                                               \n"
     ]
    },
    {
     "name": "stdout",
     "output_type": "stream",
     "text": [
      "Epoch #135: test_reward: -3743.570000 ± 6201.881208, best_reward: -2552.980000 ± 5513.041026 in #90\n"
     ]
    },
    {
     "name": "stderr",
     "output_type": "stream",
     "text": [
      "Epoch #136: 1001it [00:02, 454.04it/s, env_step=136000, gradient_step=13600, len=171, n/ep=1, n/st=100, rew=-9769.50]                                                                             \n"
     ]
    },
    {
     "name": "stdout",
     "output_type": "stream",
     "text": [
      "Epoch #136: test_reward: -4711.340000 ± 6432.517406, best_reward: -2552.980000 ± 5513.041026 in #90\n"
     ]
    },
    {
     "name": "stderr",
     "output_type": "stream",
     "text": [
      "Epoch #137: 1001it [00:02, 441.80it/s, env_step=137000, gradient_step=13700, len=56, n/ep=1, n/st=100, rew=-567.25]                                                                               \n"
     ]
    },
    {
     "name": "stdout",
     "output_type": "stream",
     "text": [
      "Epoch #137: test_reward: -4426.100000 ± 5089.244974, best_reward: -2552.980000 ± 5513.041026 in #90\n"
     ]
    },
    {
     "name": "stderr",
     "output_type": "stream",
     "text": [
      "Epoch #138: 1001it [00:02, 484.69it/s, env_step=138000, gradient_step=13800, len=50, n/ep=0, n/st=100, rew=-390.25]                                                                               \n"
     ]
    },
    {
     "name": "stdout",
     "output_type": "stream",
     "text": [
      "Epoch #138: test_reward: -4004.220000 ± 7813.884464, best_reward: -2552.980000 ± 5513.041026 in #90\n"
     ]
    },
    {
     "name": "stderr",
     "output_type": "stream",
     "text": [
      "Epoch #139: 1001it [00:02, 454.74it/s, env_step=139000, gradient_step=13900, len=222, n/ep=0, n/st=100, rew=-31476.75]                                                                            \n"
     ]
    },
    {
     "name": "stdout",
     "output_type": "stream",
     "text": [
      "Epoch #139: test_reward: -3809.890000 ± 5853.486171, best_reward: -2552.980000 ± 5513.041026 in #90\n"
     ]
    },
    {
     "name": "stderr",
     "output_type": "stream",
     "text": [
      "Epoch #140: 1001it [00:01, 529.96it/s, env_step=140000, gradient_step=14000, len=106, n/ep=1, n/st=100, rew=-7841.50]                                                                             \n"
     ]
    },
    {
     "name": "stdout",
     "output_type": "stream",
     "text": [
      "Epoch #140: test_reward: -2086.940000 ± 2732.010074, best_reward: -2086.940000 ± 2732.010074 in #140\n"
     ]
    },
    {
     "name": "stderr",
     "output_type": "stream",
     "text": [
      "Epoch #141: 1001it [00:01, 534.94it/s, env_step=141000, gradient_step=14100, len=74, n/ep=1, n/st=100, rew=-2170.25]                                                                              \n"
     ]
    },
    {
     "name": "stdout",
     "output_type": "stream",
     "text": [
      "Epoch #141: test_reward: -3574.790000 ± 6807.973626, best_reward: -2086.940000 ± 2732.010074 in #140\n"
     ]
    },
    {
     "name": "stderr",
     "output_type": "stream",
     "text": [
      "Epoch #142: 1001it [00:02, 440.48it/s, env_step=142000, gradient_step=14200, len=101, n/ep=0, n/st=100, rew=-5047.62]                                                                             \n"
     ]
    },
    {
     "name": "stdout",
     "output_type": "stream",
     "text": [
      "Epoch #142: test_reward: -4705.720000 ± 7269.970462, best_reward: -2086.940000 ± 2732.010074 in #140\n"
     ]
    },
    {
     "name": "stderr",
     "output_type": "stream",
     "text": [
      "Epoch #143: 1001it [00:02, 456.15it/s, env_step=143000, gradient_step=14300, len=40, n/ep=0, n/st=100, rew=-351.00]                                                                               \n"
     ]
    },
    {
     "name": "stdout",
     "output_type": "stream",
     "text": [
      "Epoch #143: test_reward: -4635.160000 ± 7984.462714, best_reward: -2086.940000 ± 2732.010074 in #140\n"
     ]
    },
    {
     "name": "stderr",
     "output_type": "stream",
     "text": [
      "Epoch #144:   0%|                                                                                                                                                        | 0/1000 [00:00<?, ?it/s]"
     ]
    }
   ],
   "source": [
    "NUM_MODELS = 6\n",
    "\n",
    "for arch in NET_ARCHS:\n",
    "    \n",
    "    count = 0\n",
    "    \n",
    "    for i in range(NUM_MODELS, NUM_MODELS + 1):\n",
    "        \n",
    "            arch_name = arch2str(arch)\n",
    "            \n",
    "            # random select opponent\n",
    "            full_opp_bastaushy = []\n",
    "            for arch_loc in NET_ARCHS:\n",
    "                full_opp_bastaushy += agents_learned_bastaushy[arch2str(arch_loc)] \n",
    "            agent_opp_random_bastaushy = random.choice(full_opp_bastaushy)\n",
    "            idx_opp_bastaushy = full_opp_bastaushy.index(agent_opp_random_bastaushy)\n",
    "            \n",
    "            full_opp_qostaushy = []\n",
    "            for arch_loc in NET_ARCHS:\n",
    "                full_opp_qostaushy += agents_learned_qostaushy[arch2str(arch_loc)] \n",
    "            agent_opp_random_qostaushy = random.choice(full_opp_qostaushy)\n",
    "            idx_opp_qostaushy = full_opp_qostaushy.index(agent_opp_random_qostaushy)\n",
    "            # training\n",
    "            env = _get_env()\n",
    "            net = Net(\n",
    "                        state_shape=(22,),\n",
    "                        action_shape=env.action_space.shape or env.action_space.n,\n",
    "                        hidden_sizes=arch,\n",
    "                        device=\"cuda\" if torch.cuda.is_available() else \"cpu\",\n",
    "                    ).to(\"cuda\" if torch.cuda.is_available() else \"cpu\")\n",
    "            \n",
    "            agent_learned_bastaushy = DQNPolicy(\n",
    "                        model=net,\n",
    "                        optim = torch.optim.Adam(net.parameters(), lr=1e-4),\n",
    "                        discount_factor=0.9,\n",
    "                        estimation_step=3,\n",
    "                        target_update_freq=320,\n",
    "                        action_space=env.action_space,\n",
    "                        observation_space=env.observation_space\n",
    "                    ).to(\"cuda\" if torch.cuda.is_available() else \"cpu\")\n",
    "        \n",
    "            agent_learned_qostaushy = DQNPolicy(\n",
    "                        model=net,\n",
    "                        optim = torch.optim.Adam(net.parameters(), lr=1e-4),\n",
    "                        discount_factor=0.9,\n",
    "                        estimation_step=3,\n",
    "                        target_update_freq=320,\n",
    "                        action_space=env.action_space,\n",
    "                        observation_space=env.observation_space\n",
    "                    ).to(\"cuda\" if torch.cuda.is_available() else \"cpu\")\n",
    "            if count == 0:\n",
    "                #agent_learned_bastaushy.load_state_dict(torch.load(f\"{MODELS_PATH['bastaushy']}/policy_dqn_{arch_name}_{i-1}.pth\"))\n",
    "                agent_learned_qostaushy.load_state_dict(torch.load(f\"{MODELS_PATH['qostaushy']}/policy_dqn_{arch_name}_{i-1}.pth\"))\n",
    "                count += 1\n",
    "\n",
    "            #print(f'Train agent bastaushy vs qostaushy #{idx_opp_qostaushy}')\n",
    "        \n",
    "            #train_agent_dqn_bastaushy(index=i, net_arch=arch, agent_learn=agent_learned_bastaushy, agent_opponent=agent_opp_random_qostaushy, path=\"bastaushy\")\n",
    "            \n",
    "            #load best bastaushy policy model\n",
    "            #agent_learned_bastaushy.load_state_dict(torch.load(f\"{MODELS_PATH['bastaushy']}/policy_dqn_{arch_name}_{i}.pth\"))\n",
    "        \n",
    "            print(f'Train agent qostaushy vs bastaushy #{idx_opp_bastaushy}')\n",
    "        \n",
    "            # train_agent_dqn_qostaushy(index=i, net_arch=arch, agent_learn=agent_learned_qostaushy, agent_opponent=agent_opp_random_bastaushy, path=\"qostaushy\")\n",
    "            train_agent_dqn_qostaushy(index=i, net_arch=arch, agent_learn=agent_learned_qostaushy, path=\"qostaushy\")\n",
    "            # load best qostaushy policy model\n",
    "            agent_learned_qostaushy.load_state_dict(torch.load(f\"{MODELS_PATH['qostaushy']}/policy_dqn_{arch_name}_{i}.pth\"))\n",
    "            \n",
    "            # add new learned agents\n",
    "            \n",
    "            #agents_learned_bastaushy[arch_name].append(agent_learned_bastaushy)\n",
    "            agents_learned_qostaushy[arch_name].append(agent_learned_qostaushy)\n",
    "            \n",
    "            # rewrite new agents\n",
    "            # agent_learned_bastaushy = copy.deepcopy(next_agent_learned_bastaushy)\n",
    "            # agent_learned_qostaushy = copy.deepcopy(next_agent_learned_qostaushy)"
   ]
  },
  {
   "cell_type": "markdown",
   "metadata": {},
   "source": [
    "### 🦎 Play all policies with random policy"
   ]
  },
  {
   "cell_type": "code",
   "execution_count": 15,
   "metadata": {},
   "outputs": [
    {
     "data": {
      "application/vnd.jupyter.widget-view+json": {
       "model_id": "2025ea31c95c438daa3a48a038c7fad8",
       "version_major": 2,
       "version_minor": 0
      },
      "text/plain": [
       "  0%|          | 0/5 [00:00<?, ?it/s]"
      ]
     },
     "metadata": {},
     "output_type": "display_data"
    },
    {
     "data": {
      "application/vnd.jupyter.widget-view+json": {
       "model_id": "4c4457598c5f452bbfa3d97e9a1e8da4",
       "version_major": 2,
       "version_minor": 0
      },
      "text/plain": [
       "  0%|          | 0/5 [00:00<?, ?it/s]"
      ]
     },
     "metadata": {},
     "output_type": "display_data"
    },
    {
     "data": {
      "application/vnd.jupyter.widget-view+json": {
       "model_id": "c3e0e1187e394422ba9f3ce066218b50",
       "version_major": 2,
       "version_minor": 0
      },
      "text/plain": [
       "  0%|          | 0/5 [00:00<?, ?it/s]"
      ]
     },
     "metadata": {},
     "output_type": "display_data"
    },
    {
     "data": {
      "application/vnd.jupyter.widget-view+json": {
       "model_id": "ad38808b33054c4aaf7e2c70f1394091",
       "version_major": 2,
       "version_minor": 0
      },
      "text/plain": [
       "  0%|          | 0/5 [00:00<?, ?it/s]"
      ]
     },
     "metadata": {},
     "output_type": "display_data"
    },
    {
     "data": {
      "application/vnd.jupyter.widget-view+json": {
       "model_id": "1e6e9b953bdb4534b7496f4f2fa81305",
       "version_major": 2,
       "version_minor": 0
      },
      "text/plain": [
       "  0%|          | 0/5 [00:00<?, ?it/s]"
      ]
     },
     "metadata": {},
     "output_type": "display_data"
    },
    {
     "data": {
      "application/vnd.jupyter.widget-view+json": {
       "model_id": "b396a1eb65554223a2f724ad29908217",
       "version_major": 2,
       "version_minor": 0
      },
      "text/plain": [
       "  0%|          | 0/5 [00:00<?, ?it/s]"
      ]
     },
     "metadata": {},
     "output_type": "display_data"
    },
    {
     "data": {
      "application/vnd.jupyter.widget-view+json": {
       "model_id": "a203d28313f045fa85d58c4591397960",
       "version_major": 2,
       "version_minor": 0
      },
      "text/plain": [
       "  0%|          | 0/5 [00:00<?, ?it/s]"
      ]
     },
     "metadata": {},
     "output_type": "display_data"
    },
    {
     "data": {
      "application/vnd.jupyter.widget-view+json": {
       "model_id": "43293c40e932460bad36348542fe7bee",
       "version_major": 2,
       "version_minor": 0
      },
      "text/plain": [
       "  0%|          | 0/5 [00:00<?, ?it/s]"
      ]
     },
     "metadata": {},
     "output_type": "display_data"
    },
    {
     "data": {
      "application/vnd.jupyter.widget-view+json": {
       "model_id": "287612cde8094622ac49ac0a7fbcbbd5",
       "version_major": 2,
       "version_minor": 0
      },
      "text/plain": [
       "  0%|          | 0/5 [00:00<?, ?it/s]"
      ]
     },
     "metadata": {},
     "output_type": "display_data"
    },
    {
     "data": {
      "application/vnd.jupyter.widget-view+json": {
       "model_id": "c2a16297088a442fa675d592a96ab1df",
       "version_major": 2,
       "version_minor": 0
      },
      "text/plain": [
       "  0%|          | 0/5 [00:00<?, ?it/s]"
      ]
     },
     "metadata": {},
     "output_type": "display_data"
    }
   ],
   "source": [
    "random_policy_wins_qostaushy = {arch2str(key): [] for key in NET_ARCHS}\n",
    "bastaushy_vs_random_wins = {arch2str(key): [] for key in NET_ARCHS}\n",
    "\n",
    "for _ in range(10):\n",
    "    \n",
    "    for arch in tqdm(NET_ARCHS):\n",
    "    \n",
    "        arch_name = arch2str(arch)\n",
    "            \n",
    "        for i in range(len(agents_learned_bastaushy[arch_name])):\n",
    "            \n",
    "            PLAYS = {\"bastaushy\": 0, \"qostaushy\": 0}\n",
    "            \n",
    "            arch_name = arch2str(arch)\n",
    "            \n",
    "            env = _get_env()\n",
    "        \n",
    "        \n",
    "            policies = MultiAgentPolicyManager(policies=[agents_learned_bastaushy[arch_name][i], RandomPolicy(action_space=env.action_space)], env=env)\n",
    "        \n",
    "            env = DummyVectorEnv([lambda: env])\n",
    "        \n",
    "            collector = Collector(policies, env)\n",
    "        \n",
    "            result = collector.collect(n_episode=100, reset_before_collect=True)\n",
    "            \n",
    "            random_policy_wins_qostaushy[arch_name].append(PLAYS['qostaushy'])\n",
    "            \n",
    "            bastaushy_vs_random_wins[arch_name].append(PLAYS['bastaushy'])"
   ]
  },
  {
   "cell_type": "code",
   "execution_count": 16,
   "metadata": {},
   "outputs": [
    {
     "data": {
      "text/plain": [
       "{'128x256x256x128': [18, 20, 19, 12, 22, 13, 14, 17, 19, 20],\n",
       " '256x512x256': [69, 77, 72, 79, 75, 74, 82, 76, 79, 80],\n",
       " '256x512x512x256': [19, 17, 21, 26, 21, 17, 26, 13, 21, 21],\n",
       " '512x1024x512': [98, 100, 100, 98, 97, 98, 99, 95, 100, 98],\n",
       " '512x1024x1024x512': [68, 77, 68, 64, 54, 59, 57, 65, 56, 67]}"
      ]
     },
     "execution_count": 16,
     "metadata": {},
     "output_type": "execute_result"
    }
   ],
   "source": [
    "bastaushy_vs_random_wins"
   ]
  },
  {
   "cell_type": "code",
   "execution_count": 33,
   "metadata": {},
   "outputs": [
    {
     "data": {
      "application/vnd.jupyter.widget-view+json": {
       "model_id": "5faf025d99534474b4175577350b69e6",
       "version_major": 2,
       "version_minor": 0
      },
      "text/plain": [
       "  0%|          | 0/5 [00:00<?, ?it/s]"
      ]
     },
     "metadata": {},
     "output_type": "display_data"
    }
   ],
   "source": [
    "random_policy_wins_qostaushy = {arch2str(key): [] for key in NET_ARCHS}\n",
    "bastaushy_vs_random_wins = {arch2str(key): [] for key in NET_ARCHS}\n",
    "\n",
    "for _ in range(1):\n",
    "    \n",
    "    for arch in tqdm(NET_ARCHS):\n",
    "    \n",
    "        arch_name = arch2str(arch)\n",
    "            \n",
    "        for i in range(len(agents_learned_bastaushy[arch_name])):\n",
    "            \n",
    "            PLAYS = {\"bastaushy\": 0, \"qostaushy\": 0}\n",
    "            \n",
    "            arch_name = arch2str(arch)\n",
    "            \n",
    "            env = _get_env()\n",
    "        \n",
    "        \n",
    "            policies = MultiAgentPolicyManager(policies=[RandomPolicy(action_space=env.action_space), agents_learned_bastaushy[arch_name][i]], env=env)\n",
    "        \n",
    "            env = DummyVectorEnv([lambda: env])\n",
    "        \n",
    "            collector = Collector(policies, env)\n",
    "        \n",
    "            result = collector.collect(n_episode=100, reset_before_collect=True)\n",
    "            \n",
    "            random_policy_wins_qostaushy[arch_name].append(PLAYS['qostaushy'])\n",
    "            \n",
    "            bastaushy_vs_random_wins[arch_name].append(PLAYS['bastaushy'])"
   ]
  },
  {
   "cell_type": "code",
   "execution_count": 36,
   "metadata": {},
   "outputs": [
    {
     "data": {
      "text/plain": [
       "{'128x256x256x128': [5],\n",
       " '256x512x256': [11],\n",
       " '256x512x512x256': [6],\n",
       " '512x1024x512': [10],\n",
       " '512x1024x1024x512': [16]}"
      ]
     },
     "execution_count": 36,
     "metadata": {},
     "output_type": "execute_result"
    }
   ],
   "source": [
    "random_policy_wins_qostaushy"
   ]
  },
  {
   "cell_type": "code",
   "execution_count": 17,
   "metadata": {},
   "outputs": [
    {
     "data": {
      "application/vnd.jupyter.widget-view+json": {
       "model_id": "7f5dead16e704c1a88fbd8c4618b14b3",
       "version_major": 2,
       "version_minor": 0
      },
      "text/plain": [
       "  0%|          | 0/5 [00:00<?, ?it/s]"
      ]
     },
     "metadata": {},
     "output_type": "display_data"
    },
    {
     "data": {
      "application/vnd.jupyter.widget-view+json": {
       "model_id": "94d7fa95473e43af89dc621510e433ee",
       "version_major": 2,
       "version_minor": 0
      },
      "text/plain": [
       "  0%|          | 0/5 [00:00<?, ?it/s]"
      ]
     },
     "metadata": {},
     "output_type": "display_data"
    },
    {
     "data": {
      "application/vnd.jupyter.widget-view+json": {
       "model_id": "ad76f4dd67d448acb32ab2867f36e645",
       "version_major": 2,
       "version_minor": 0
      },
      "text/plain": [
       "  0%|          | 0/5 [00:00<?, ?it/s]"
      ]
     },
     "metadata": {},
     "output_type": "display_data"
    },
    {
     "data": {
      "application/vnd.jupyter.widget-view+json": {
       "model_id": "a358cb3d05a74194a2f30df21bd9e843",
       "version_major": 2,
       "version_minor": 0
      },
      "text/plain": [
       "  0%|          | 0/5 [00:00<?, ?it/s]"
      ]
     },
     "metadata": {},
     "output_type": "display_data"
    },
    {
     "data": {
      "application/vnd.jupyter.widget-view+json": {
       "model_id": "dbf7a52a171346ae94d4bf8908a2f62c",
       "version_major": 2,
       "version_minor": 0
      },
      "text/plain": [
       "  0%|          | 0/5 [00:00<?, ?it/s]"
      ]
     },
     "metadata": {},
     "output_type": "display_data"
    },
    {
     "data": {
      "application/vnd.jupyter.widget-view+json": {
       "model_id": "e068ee1ca88c4ea3a1b7057e9d1e1012",
       "version_major": 2,
       "version_minor": 0
      },
      "text/plain": [
       "  0%|          | 0/5 [00:00<?, ?it/s]"
      ]
     },
     "metadata": {},
     "output_type": "display_data"
    },
    {
     "data": {
      "application/vnd.jupyter.widget-view+json": {
       "model_id": "f828323e57be4628818ff99e0b3415da",
       "version_major": 2,
       "version_minor": 0
      },
      "text/plain": [
       "  0%|          | 0/5 [00:00<?, ?it/s]"
      ]
     },
     "metadata": {},
     "output_type": "display_data"
    },
    {
     "data": {
      "application/vnd.jupyter.widget-view+json": {
       "model_id": "edf6eed3897043e0b95c8362345cc62d",
       "version_major": 2,
       "version_minor": 0
      },
      "text/plain": [
       "  0%|          | 0/5 [00:00<?, ?it/s]"
      ]
     },
     "metadata": {},
     "output_type": "display_data"
    },
    {
     "data": {
      "application/vnd.jupyter.widget-view+json": {
       "model_id": "ef1313755e504c14a9afd6f2e2ad1471",
       "version_major": 2,
       "version_minor": 0
      },
      "text/plain": [
       "  0%|          | 0/5 [00:00<?, ?it/s]"
      ]
     },
     "metadata": {},
     "output_type": "display_data"
    },
    {
     "data": {
      "application/vnd.jupyter.widget-view+json": {
       "model_id": "bf9a077fd9c94fd1937fe7d3905ebc18",
       "version_major": 2,
       "version_minor": 0
      },
      "text/plain": [
       "  0%|          | 0/5 [00:00<?, ?it/s]"
      ]
     },
     "metadata": {},
     "output_type": "display_data"
    }
   ],
   "source": [
    "random_policy_wins_bastaushy = {arch2str(key): [] for key in NET_ARCHS}\n",
    "qostaushy_vs_random_wins = {arch2str(key): [] for key in NET_ARCHS}\n",
    "\n",
    "for _ in range(10):\n",
    "    \n",
    "    for arch in tqdm(NET_ARCHS):\n",
    "    \n",
    "        arch_name = arch2str(arch)\n",
    "    \n",
    "        for i in range(len(agents_learned_qostaushy[arch_name])):\n",
    "            \n",
    "            PLAYS = {\"bastaushy\": 0, \"qostaushy\": 0}\n",
    "            \n",
    "            env = _get_env()\n",
    "    \n",
    "    \n",
    "            policies = MultiAgentPolicyManager(policies=[RandomPolicy(action_space=env.action_space), agents_learned_qostaushy[arch_name][i]], env=env)\n",
    "    \n",
    "            env = DummyVectorEnv([lambda: env])\n",
    "    \n",
    "            collector = Collector(policies, env)\n",
    "    \n",
    "            result = collector.collect(n_episode=100, reset_before_collect=True)\n",
    "    \n",
    "            random_policy_wins_bastaushy[arch_name].append(PLAYS['bastaushy'])\n",
    "            qostaushy_vs_random_wins[arch_name].append(PLAYS['qostaushy'])"
   ]
  },
  {
   "cell_type": "code",
   "execution_count": 18,
   "metadata": {},
   "outputs": [
    {
     "data": {
      "text/plain": [
       "{'128x256x256x128': [6, 3, 4, 2, 2, 2, 2, 4, 4, 5],\n",
       " '256x512x256': [32, 34, 32, 34, 27, 30, 31, 26, 29, 31],\n",
       " '256x512x512x256': [7, 10, 10, 4, 15, 7, 9, 12, 10, 9],\n",
       " '512x1024x512': [95, 92, 93, 92, 96, 93, 96, 95, 95, 94],\n",
       " '512x1024x1024x512': [32, 28, 33, 29, 37, 23, 27, 35, 25, 28]}"
      ]
     },
     "execution_count": 18,
     "metadata": {},
     "output_type": "execute_result"
    }
   ],
   "source": [
    "qostaushy_vs_random_wins"
   ]
  },
  {
   "cell_type": "code",
   "execution_count": null,
   "metadata": {},
   "outputs": [],
   "source": [
    "random_policy_wins_bastaushy = {arch2str(key): [] for key in NET_ARCHS}\n",
    "qostaushy_vs_random_wins = {arch2str(key): [] for key in NET_ARCHS}\n",
    "\n",
    "for _ in range(10):\n",
    "    \n",
    "    for arch in tqdm(NET_ARCHS):\n",
    "    \n",
    "        arch_name = arch2str(arch)\n",
    "    \n",
    "        for i in range(len(agents_learned_qostaushy[arch_name])):\n",
    "            \n",
    "            PLAYS = {\"bastaushy\": 0, \"qostaushy\": 0}\n",
    "            \n",
    "            env = _get_env()\n",
    "    \n",
    "    \n",
    "            policies = MultiAgentPolicyManager(policies=[agents_learned_qostaushy[arch_name][i], RandomPolicy(action_space=env.action_space)], env=env)\n",
    "    \n",
    "            env = DummyVectorEnv([lambda: env])\n",
    "    \n",
    "            collector = Collector(policies, env)\n",
    "    \n",
    "            result = collector.collect(n_episode=100, reset_before_collect=True)\n",
    "    \n",
    "            random_policy_wins_bastaushy[arch_name].append(PLAYS['bastaushy'])\n",
    "            qostaushy_vs_random_wins[arch_name].append(PLAYS['qostaushy'])"
   ]
  },
  {
   "cell_type": "code",
   "execution_count": null,
   "metadata": {},
   "outputs": [],
   "source": [
    "qostaushy_vs_random_wins"
   ]
  },
  {
   "cell_type": "markdown",
   "metadata": {
    "jp-MarkdownHeadingCollapsed": true
   },
   "source": [
    "### 🐱 Save data to files"
   ]
  },
  {
   "cell_type": "code",
   "execution_count": 19,
   "metadata": {},
   "outputs": [],
   "source": [
    "with open(\"../data/bastaushy_vs_random.csv\", \"w\") as outfile:\n",
    "    writer = csv.writer(outfile)\n",
    "    \n",
    "    writer.writerow(bastaushy_vs_random_wins.keys())\n",
    "\n",
    "    writer.writerows(zip(*bastaushy_vs_random_wins.values()))"
   ]
  },
  {
   "cell_type": "code",
   "execution_count": 20,
   "metadata": {},
   "outputs": [],
   "source": [
    "with open(\"../data/qostaushy_vs_random.csv\", \"w\") as outfile:\n",
    "    writer = csv.writer(outfile)\n",
    "    \n",
    "    writer.writerow(qostaushy_vs_random_wins.keys())\n",
    "\n",
    "    writer.writerows(zip(*qostaushy_vs_random_wins.values()))"
   ]
  },
  {
   "cell_type": "markdown",
   "metadata": {
    "jp-MarkdownHeadingCollapsed": true
   },
   "source": [
    "### 🐞 Read data"
   ]
  },
  {
   "cell_type": "code",
   "execution_count": 22,
   "metadata": {},
   "outputs": [],
   "source": [
    "df_vs_random_basta = pd.read_csv(\"../data/bastaushy_vs_random.csv\")\n",
    "df_vs_random_qosta = pd.read_csv(\"../data/qostaushy_vs_random.csv\")"
   ]
  },
  {
   "cell_type": "code",
   "execution_count": 23,
   "metadata": {},
   "outputs": [],
   "source": [
    "vs_random_basta = df_vs_random_basta.to_dict()\n",
    "\n",
    "bastaushy_vs_random_wins = {key: [] for key in vs_random_basta.keys()}\n",
    "\n",
    "for key in vs_random_basta.keys():\n",
    "    bastaushy_vs_random_wins[key] = list(vs_random_basta[key].values())"
   ]
  },
  {
   "cell_type": "code",
   "execution_count": 24,
   "metadata": {},
   "outputs": [],
   "source": [
    "vs_random_qosta = df_vs_random_qosta.to_dict()\n",
    "\n",
    "qostaushy_vs_random_wins = {key: [] for key in vs_random_qosta.keys()}\n",
    "\n",
    "for key in vs_random_qosta.keys():\n",
    "    qostaushy_vs_random_wins[key] = list(vs_random_qosta[key].values())"
   ]
  },
  {
   "cell_type": "markdown",
   "metadata": {},
   "source": [
    "### 🦘 Plot play results"
   ]
  },
  {
   "cell_type": "code",
   "execution_count": 26,
   "metadata": {},
   "outputs": [
    {
     "data": {
      "image/png": "[encoded data removed]",
      "text/plain": [
       "<Figure size 1500x600 with 1 Axes>"
      ]
     },
     "metadata": {},
     "output_type": "display_data"
    }
   ],
   "source": [
    "plt.figure(figsize=(15,6))\n",
    "NUM_MODELS = 1\n",
    "\n",
    "for arch in NET_ARCHS:\n",
    "    \n",
    "    #if arch in :\n",
    "    \n",
    "        arch_name = arch2str(arch)\n",
    "\n",
    "        # cubic_interpolation_model = interp1d(range(len(bastaushy_vs_random_wins[arch_name])), bastaushy_vs_random_wins[arch_name], kind = \"cubic\", fill_value=\"extrapolate\")\n",
    "         \n",
    "        # # Plotting the Graph\n",
    "        # if arch in selected_archs:\n",
    "        #     X_= np.linspace(0, NUM_MODELS, NUM_MODELS - 1)\n",
    "        #     Y_= cubic_interpolation_model(X_)\n",
    "        # else:\n",
    "        #     X_= np.linspace(0, 7, 10)\n",
    "        #     Y_= cubic_interpolation_model(X_)\n",
    "        plt.plot(range(len(bastaushy_vs_random_wins[arch_name])), bastaushy_vs_random_wins[arch_name], label=f'bastaushy arch: {arch_name} wins')\n",
    "        \n",
    "plt.legend()\n",
    "plt.title(\"Evolution of trained bastaushy agents vs random\")\n",
    "plt.ylim(0, 100)\n",
    "plt.show()"
   ]
  },
  {
   "cell_type": "code",
   "execution_count": 27,
   "metadata": {},
   "outputs": [
    {
     "data": {
      "image/png": "[encoded data removed]",
      "text/plain": [
       "<Figure size 1500x600 with 1 Axes>"
      ]
     },
     "metadata": {},
     "output_type": "display_data"
    }
   ],
   "source": [
    "plt.figure(figsize=(15,6))\n",
    "\n",
    "for arch in NET_ARCHS:\n",
    "    \n",
    "        arch_name = arch2str(arch)\n",
    "        \n",
    "        # cubic_interpolation_model = interp1d(range(len(qostaushy_vs_random_wins[arch_name])), qostaushy_vs_random_wins[arch_name], kind = \"cubic\")\n",
    "         \n",
    "        # # Plotting the Graph\n",
    "        # if arch in selected_archs:\n",
    "        #     X_= np.linspace(0, NUM_MODELS, NUM_MODELS - 1)\n",
    "        #     Y_= cubic_interpolation_model(X_)\n",
    "        # else:\n",
    "        #     X_= np.linspace(0, 7, 10)\n",
    "        #     Y_= cubic_interpolation_model(X_)\n",
    "        \n",
    "        plt.plot(range(len(qostaushy_vs_random_wins[arch_name])), qostaushy_vs_random_wins[arch_name], label=f'qostaushy arch: {arch_name} wins')\n",
    "        \n",
    "plt.legend()\n",
    "plt.title(\"Evolution of trained qostaushy agents vs random\")\n",
    "plt.ylim(0, 100)\n",
    "plt.show()"
   ]
  },
  {
   "cell_type": "markdown",
   "metadata": {},
   "source": [
    "### 🐦 Play all trained policies"
   ]
  },
  {
   "cell_type": "code",
   "execution_count": 28,
   "metadata": {},
   "outputs": [
    {
     "data": {
      "application/vnd.jupyter.widget-view+json": {
       "model_id": "9cbc49dc56254ea8b9d74f32ee0f633d",
       "version_major": 2,
       "version_minor": 0
      },
      "text/plain": [
       "0it [00:00, ?it/s]"
      ]
     },
     "metadata": {},
     "output_type": "display_data"
    },
    {
     "data": {
      "application/vnd.jupyter.widget-view+json": {
       "model_id": "bf792b727e8043748172f725a1d60d2b",
       "version_major": 2,
       "version_minor": 0
      },
      "text/plain": [
       "0it [00:00, ?it/s]"
      ]
     },
     "metadata": {},
     "output_type": "display_data"
    },
    {
     "data": {
      "application/vnd.jupyter.widget-view+json": {
       "model_id": "feea04d555724926a8413cee5a92795e",
       "version_major": 2,
       "version_minor": 0
      },
      "text/plain": [
       "0it [00:00, ?it/s]"
      ]
     },
     "metadata": {},
     "output_type": "display_data"
    },
    {
     "data": {
      "application/vnd.jupyter.widget-view+json": {
       "model_id": "308022dba27940a8a87fde3544578e9d",
       "version_major": 2,
       "version_minor": 0
      },
      "text/plain": [
       "0it [00:00, ?it/s]"
      ]
     },
     "metadata": {},
     "output_type": "display_data"
    },
    {
     "data": {
      "application/vnd.jupyter.widget-view+json": {
       "model_id": "8e1836141d8e4c7db7a64d145734cfbc",
       "version_major": 2,
       "version_minor": 0
      },
      "text/plain": [
       "0it [00:00, ?it/s]"
      ]
     },
     "metadata": {},
     "output_type": "display_data"
    }
   ],
   "source": [
    "bastaushy_wins = {arch2str(key): [] for key in NET_ARCHS}\n",
    "\n",
    "for arch in NET_ARCHS:\n",
    "    \n",
    "    arch_name = arch2str(arch)\n",
    "    \n",
    "    for n_agent, agent in tqdm(enumerate(agents_learned_bastaushy[arch_name])):\n",
    "\n",
    "        PLAYS = {\"bastaushy\": 0, \"qostaushy\": 0}\n",
    "        \n",
    "        full_opp_qostaushy = []\n",
    "        \n",
    "        for arch_loc in NET_ARCHS:\n",
    "            full_opp_qostaushy += agents_learned_qostaushy[arch2str(arch_loc)] \n",
    "\n",
    "        for n_agent_opp, agent_opponent in enumerate(full_opp_qostaushy):\n",
    "            env = _get_env()\n",
    "\n",
    "            policies = MultiAgentPolicyManager(policies=[agent, agent_opponent], env=env)\n",
    "            \n",
    "            env = DummyVectorEnv([lambda: env])\n",
    "\n",
    "            collector = Collector(policies, env, exploration_noise=False)\n",
    "\n",
    "            result = collector.collect(n_episode=1, reset_before_collect=True)\n",
    "            # rews, lens = result[\"rews\"], result[\"lens\"]\n",
    "            # print(f\"Final reward bastaushy #{n_agent} with acrh {arch_name}: {rews[:, 0].mean()}, length: {lens.mean()}\")\n",
    "            # print(f\"Final reward qostaushy #{n_agent_opp}: {rews[:, 1].mean()}, length: {lens.mean()}\")\n",
    "\n",
    "        # print(f\"Bastaushy arch {arch_name} #{n_agent} wins {PLAYS[\"bastaushy\"]} times\")\n",
    "\n",
    "        bastaushy_wins[arch_name].append(PLAYS[\"bastaushy\"])"
   ]
  },
  {
   "cell_type": "code",
   "execution_count": 29,
   "metadata": {},
   "outputs": [
    {
     "data": {
      "text/plain": [
       "{'128x256x256x128': [1],\n",
       " '256x512x256': [4],\n",
       " '256x512x512x256': [3],\n",
       " '512x1024x512': [5],\n",
       " '512x1024x1024x512': [2]}"
      ]
     },
     "execution_count": 29,
     "metadata": {},
     "output_type": "execute_result"
    }
   ],
   "source": [
    "bastaushy_wins"
   ]
  },
  {
   "cell_type": "code",
   "execution_count": 30,
   "metadata": {},
   "outputs": [
    {
     "data": {
      "application/vnd.jupyter.widget-view+json": {
       "model_id": "de67733106d34bebb40b01a1421a1878",
       "version_major": 2,
       "version_minor": 0
      },
      "text/plain": [
       "0it [00:00, ?it/s]"
      ]
     },
     "metadata": {},
     "output_type": "display_data"
    },
    {
     "data": {
      "application/vnd.jupyter.widget-view+json": {
       "model_id": "b7e41cb3058f40ae8dcd2a2efe58f61d",
       "version_major": 2,
       "version_minor": 0
      },
      "text/plain": [
       "0it [00:00, ?it/s]"
      ]
     },
     "metadata": {},
     "output_type": "display_data"
    },
    {
     "data": {
      "application/vnd.jupyter.widget-view+json": {
       "model_id": "93b5a56322124cc592b9c7dc10c32fe9",
       "version_major": 2,
       "version_minor": 0
      },
      "text/plain": [
       "0it [00:00, ?it/s]"
      ]
     },
     "metadata": {},
     "output_type": "display_data"
    },
    {
     "data": {
      "application/vnd.jupyter.widget-view+json": {
       "model_id": "3602f6d5502142408ef52fc9a05ebb90",
       "version_major": 2,
       "version_minor": 0
      },
      "text/plain": [
       "0it [00:00, ?it/s]"
      ]
     },
     "metadata": {},
     "output_type": "display_data"
    },
    {
     "data": {
      "application/vnd.jupyter.widget-view+json": {
       "model_id": "ad37b9ab2cb147c0bbd971f1a3e24eca",
       "version_major": 2,
       "version_minor": 0
      },
      "text/plain": [
       "0it [00:00, ?it/s]"
      ]
     },
     "metadata": {},
     "output_type": "display_data"
    }
   ],
   "source": [
    "qostaushy_wins = {arch2str(key): [] for key in NET_ARCHS}\n",
    "\n",
    "for arch in NET_ARCHS:\n",
    "    \n",
    "    arch_name = arch2str(arch)\n",
    "    \n",
    "    for n_agent, agent in tqdm(enumerate(agents_learned_qostaushy[arch_name])):\n",
    "\n",
    "        PLAYS = {\"bastaushy\": 0, \"qostaushy\": 0}\n",
    "        \n",
    "        full_opp_bastaushy = []\n",
    "        \n",
    "        for arch_loc in NET_ARCHS:\n",
    "            \n",
    "            full_opp_bastaushy += agents_learned_bastaushy[arch2str(arch_loc)] \n",
    "            \n",
    "        for n_agent_opp, agent_opponent in enumerate(full_opp_bastaushy):\n",
    "\n",
    "            env = _get_env()\n",
    "\n",
    "            policies = MultiAgentPolicyManager(policies=[agent_opponent, agent], env=env)\n",
    "            \n",
    "            env = DummyVectorEnv([lambda: env])\n",
    "\n",
    "            collector = Collector(policies, env, exploration_noise=False)\n",
    "\n",
    "            result = collector.collect(n_episode=1, reset_before_collect=True)\n",
    "\n",
    "        # print(f\"Qostaushy arch {arch_name} #{n_agent} wins {PLAYS[\"qostaushy\"]} times\")\n",
    "\n",
    "        qostaushy_wins[arch_name].append(PLAYS[\"qostaushy\"])"
   ]
  },
  {
   "cell_type": "code",
   "execution_count": 31,
   "metadata": {},
   "outputs": [
    {
     "data": {
      "text/plain": [
       "{'128x256x256x128': [0],\n",
       " '256x512x256': [3],\n",
       " '256x512x512x256': [1],\n",
       " '512x1024x512': [4],\n",
       " '512x1024x1024x512': [2]}"
      ]
     },
     "execution_count": 31,
     "metadata": {},
     "output_type": "execute_result"
    }
   ],
   "source": [
    "qostaushy_wins"
   ]
  },
  {
   "cell_type": "markdown",
   "metadata": {
    "jp-MarkdownHeadingCollapsed": true
   },
   "source": [
    "### 🦑 Save data to files"
   ]
  },
  {
   "cell_type": "code",
   "execution_count": null,
   "metadata": {},
   "outputs": [],
   "source": [
    "for arch in tqdm(NET_ARCHS):\n",
    "    if arch not in selected_archs:\n",
    "        for _ in range(9, NUM_MODELS + 1):\n",
    "            bastaushy_wins[arch_name].append(0)\n",
    "            qostaushy_wins[arch_name].append(0)"
   ]
  },
  {
   "cell_type": "code",
   "execution_count": 36,
   "metadata": {},
   "outputs": [],
   "source": [
    "with open(\"../data/bastaushy_vs_others.csv\", \"w\") as outfile:\n",
    "    writer = csv.writer(outfile)\n",
    "    \n",
    "    writer.writerow(bastaushy_wins.keys())\n",
    "\n",
    "    writer.writerows(zip(*bastaushy_wins.values()))"
   ]
  },
  {
   "cell_type": "code",
   "execution_count": 37,
   "metadata": {},
   "outputs": [],
   "source": [
    "with open(\"../data/qostaushy_vs_others.csv\", \"w\") as outfile:\n",
    "    writer = csv.writer(outfile)\n",
    "    \n",
    "    writer.writerow(qostaushy_wins.keys())\n",
    "\n",
    "    writer.writerows(zip(*qostaushy_wins.values()))"
   ]
  },
  {
   "cell_type": "markdown",
   "metadata": {
    "jp-MarkdownHeadingCollapsed": true
   },
   "source": [
    "### 🦚 Read data"
   ]
  },
  {
   "cell_type": "code",
   "execution_count": 35,
   "metadata": {},
   "outputs": [
    {
     "data": {
      "text/plain": [
       "8"
      ]
     },
     "execution_count": 35,
     "metadata": {},
     "output_type": "execute_result"
    }
   ],
   "source": [
    "df_vs_others_basta = pd.read_csv(\"../data/bastaushy_vs_others.csv\")\n",
    "df_vs_others_qosta = pd.read_csv(\"../data/qostaushy_vs_others.csv\")\n",
    "\n",
    "len(df_vs_others_basta['64x128x64'].values)"
   ]
  },
  {
   "cell_type": "code",
   "execution_count": 36,
   "metadata": {},
   "outputs": [],
   "source": [
    "vs_others_basta = df_vs_others_basta.to_dict()\n",
    "\n",
    "bastaushy_wins = {key: [] for key in vs_others_basta.keys()}\n",
    "\n",
    "for key in vs_others_basta.keys():\n",
    "    bastaushy_wins[key] = list(vs_others_basta[key].values())"
   ]
  },
  {
   "cell_type": "code",
   "execution_count": 37,
   "metadata": {},
   "outputs": [],
   "source": [
    "vs_others_qosta = df_vs_others_qosta.to_dict()\n",
    "\n",
    "qostaushy_wins = {key: [] for key in vs_others_qosta.keys()}\n",
    "\n",
    "for key in vs_others_qosta.keys():\n",
    "    qostaushy_wins[key] = list(vs_others_qosta[key].values())"
   ]
  },
  {
   "cell_type": "markdown",
   "metadata": {
    "jp-MarkdownHeadingCollapsed": true
   },
   "source": [
    "### 🐈 Plot play results"
   ]
  },
  {
   "cell_type": "code",
   "execution_count": 66,
   "metadata": {},
   "outputs": [
    {
     "data": {
      "image/png": "[encoded data removed]",
      "text/plain": [
       "<Figure size 1500x600 with 1 Axes>"
      ]
     },
     "metadata": {},
     "output_type": "display_data"
    }
   ],
   "source": [
    "plt.figure(figsize=(15,6))\n",
    "\n",
    "for arch in NET_ARCHS:\n",
    "\n",
    "    #if arch in selected_archs:\n",
    "    \n",
    "        arch_name = arch2str(arch)\n",
    "        cubic_interpolation_model = interp1d(range(len(bastaushy_wins[arch_name])), bastaushy_wins[arch_name], kind = \"cubic\")\n",
    "         \n",
    "        # Plotting the Graph\n",
    "        if arch in selected_archs:\n",
    "            X_= np.linspace(0, NUM_MODELS, NUM_MODELS + 10)\n",
    "            Y_= cubic_interpolation_model(X_)\n",
    "        else:\n",
    "            X_= np.linspace(0, 7, 10)\n",
    "            Y_= cubic_interpolation_model(X_)\n",
    "        plt.plot(X_, Y_, label=f'bastaushy arch: {arch_name} wins')\n",
    "        #plt.plot(range(len(bastaushy_wins[arch_name])), bastaushy_wins[arch_name], label=f'bastaushy arch: {arch_name} wins')\n",
    "    \n",
    "plt.legend()\n",
    "plt.xlabel(\"Model #\")\n",
    "plt.ylabel(\"Number of wins\")\n",
    "plt.ylim(0, 80)\n",
    "plt.title(\"Evolution of trained bastaushy agents\")\n",
    "plt.show()"
   ]
  },
  {
   "cell_type": "code",
   "execution_count": 67,
   "metadata": {},
   "outputs": [
    {
     "data": {
      "image/png": "[encoded data removed]",
      "text/plain": [
       "<Figure size 1500x600 with 1 Axes>"
      ]
     },
     "metadata": {},
     "output_type": "display_data"
    }
   ],
   "source": [
    "plt.figure(figsize=(15,6))\n",
    "\n",
    "for arch in NET_ARCHS:\n",
    "    \n",
    "    #if arch in selected_archs:\n",
    "    \n",
    "        arch_name = arch2str(arch)\n",
    "        cubic_interpolation_model = interp1d(range(len(qostaushy_wins[arch_name])), qostaushy_wins[arch_name], kind = \"cubic\")\n",
    "         \n",
    "        # Plotting the Graph\n",
    "        if arch in selected_archs:\n",
    "            X_= np.linspace(0, NUM_MODELS, NUM_MODELS + 10)\n",
    "            Y_= cubic_interpolation_model(X_)\n",
    "        else:\n",
    "            X_= np.linspace(0, 7, 10)\n",
    "            Y_= cubic_interpolation_model(X_)\n",
    "        plt.plot(X_, Y_, label=f'qostaushy arch: {arch_name} wins')\n",
    "    \n",
    "plt.legend()\n",
    "plt.xlabel(\"Model #\")\n",
    "plt.ylabel(\"Number of wins\")\n",
    "plt.ylim(0, 80)\n",
    "\n",
    "plt.title(\"Evolution of trained qostaushy agents\")\n",
    "plt.show()"
   ]
  },
  {
   "cell_type": "code",
   "execution_count": null,
   "metadata": {},
   "outputs": [],
   "source": []
  }
 ],
 "metadata": {
  "accelerator": "GPU",
  "colab": {
   "authorship_tag": "ABX9TyOCOxlghPOzK+89TPmYdKQh",
   "collapsed_sections": [
    "luAZ42vu0ipC",
    "1aNj2Mfm0Zb-",
    "i9JzOFeK1kmm",
    "46_0KK8E1rWM",
    "nF0ZMW3wLv-B",
    "T7IIe3E9M69q",
    "c-thy8-oCce4",
    "sNPVNMBTNW3z",
    "b9q8lRmx-FU_",
    "ARZK7tZNb4J3"
   ],
   "gpuType": "T4",
   "include_colab_link": true,
   "provenance": []
  },
  "kaggle": {
   "accelerator": "nvidiaTeslaT4",
   "dataSources": [],
   "dockerImageVersionId": 30699,
   "isGpuEnabled": true,
   "isInternetEnabled": true,
   "language": "python",
   "sourceType": "notebook"
  },
  "kernelspec": {
   "display_name": "venv",
   "language": "python",
   "name": "venv"
  },
  "language_info": {
   "codemirror_mode": {
    "name": "ipython",
    "version": 3
   },
   "file_extension": ".py",
   "mimetype": "text/x-python",
   "name": "python",
   "nbconvert_exporter": "python",
   "pygments_lexer": "ipython3",
   "version": "3.11.0rc1"
  }
 },
 "nbformat": 4,
 "nbformat_minor": 4
}
